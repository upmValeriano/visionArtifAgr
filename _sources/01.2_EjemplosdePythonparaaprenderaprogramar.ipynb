{
 "cells": [
  {
   "cell_type": "markdown",
   "metadata": {},
   "source": [
    "(content:repasopython)=\n",
    "# Repaso de programación en Python"
   ]
  },
  {
   "cell_type": "markdown",
   "metadata": {},
   "source": [
    "## Funciones"
   ]
  },
  {
   "cell_type": "code",
   "execution_count": 1,
   "metadata": {},
   "outputs": [
    {
     "data": {
      "text/plain": [
       "'Invalid month'"
      ]
     },
     "execution_count": 1,
     "metadata": {},
     "output_type": "execute_result"
    }
   ],
   "source": [
    "def one():\n",
    "    return \"January\"\n",
    "def two():\n",
    "    return \"February\"\n",
    "def three():\n",
    "    return \"March\"\n",
    "def four():\n",
    "    return \"April\"\n",
    "def five():\n",
    "    return \"May\"\n",
    "def six():\n",
    "    return \"June\"\n",
    "def seven():\n",
    "    return \"July\"\n",
    "def eight():\n",
    "    return \"August\"\n",
    "def nine():\n",
    "    return \"September\"\n",
    "def ten():\n",
    "    return \"October\"\n",
    "def eleven():\n",
    "    return \"November\"\n",
    "def twelve():\n",
    "    return \"December\"\n",
    "def numbers_to_months(argument):\n",
    "    switcher = {\n",
    "        1: one,\n",
    "        2: two,\n",
    "        3: three,\n",
    "        4: four,\n",
    "        5: five,\n",
    "        6: six,\n",
    "        7: seven,\n",
    "        8: eight,\n",
    "        9: nine,\n",
    "        10: ten,\n",
    "        11: eleven,\n",
    "        12: twelve\n",
    "    }\n",
    "    # Get the function from switcher dictionary\n",
    "    func = switcher.get(argument, lambda: \"Invalid month\")\n",
    "    # Execute the function\n",
    "    return func()\n",
    "numbers_to_months(13)"
   ]
  },
  {
   "cell_type": "code",
   "execution_count": 2,
   "metadata": {},
   "outputs": [
    {
     "data": {
      "text/plain": [
       "'February'"
      ]
     },
     "execution_count": 2,
     "metadata": {},
     "output_type": "execute_result"
    }
   ],
   "source": [
    "numbers_to_months(2)"
   ]
  },
  {
   "cell_type": "code",
   "execution_count": 3,
   "metadata": {},
   "outputs": [
    {
     "data": {
      "text/plain": [
       "'nothing'"
      ]
     },
     "execution_count": 3,
     "metadata": {},
     "output_type": "execute_result"
    }
   ],
   "source": [
    "def zero():\n",
    "    return \"zero\"\n",
    "def one():\n",
    "    return \"one\"\n",
    "def two():\n",
    "    return \"two\"\n",
    "switcher = {\n",
    "        0: zero,\n",
    "        1: one,\n",
    "        2: two\n",
    "    }\n",
    "def numbers_to_strings(argument):\n",
    "    # Get the function from switcher dictionary\n",
    "    func = switcher.get(argument, lambda: \"nothing\")\n",
    "    # Execute the function\n",
    "    return func()\n",
    "numbers_to_strings(4)"
   ]
  },
  {
   "cell_type": "markdown",
   "metadata": {},
   "source": [
    "## Números complejos"
   ]
  },
  {
   "cell_type": "code",
   "execution_count": 4,
   "metadata": {},
   "outputs": [
    {
     "data": {
      "text/plain": [
       "(3+0j)"
      ]
     },
     "execution_count": 4,
     "metadata": {},
     "output_type": "execute_result"
    }
   ],
   "source": [
    "Z=complex(3)\n",
    "Z"
   ]
  },
  {
   "cell_type": "code",
   "execution_count": 5,
   "metadata": {},
   "outputs": [
    {
     "data": {
      "text/plain": [
       "(3.0, 0.0, (3-0j))"
      ]
     },
     "execution_count": 5,
     "metadata": {},
     "output_type": "execute_result"
    }
   ],
   "source": [
    "Z.real, Z.imag, Z.conjugate()"
   ]
  },
  {
   "cell_type": "markdown",
   "metadata": {},
   "source": [
    "## Función ``lambda``"
   ]
  },
  {
   "cell_type": "code",
   "execution_count": 6,
   "metadata": {},
   "outputs": [
    {
     "data": {
      "text/plain": [
       "(0.33333333333333337, 3.700743415417189e-15)"
      ]
     },
     "execution_count": 6,
     "metadata": {},
     "output_type": "execute_result"
    }
   ],
   "source": [
    "import scipy.integrate as scint\n",
    "f=lambda t: t**2\n",
    "scint.quad(f, 0, 1)"
   ]
  },
  {
   "cell_type": "markdown",
   "metadata": {},
   "source": [
    "Función filtro: aplica una función a los elementos de una lista y devuelve solamente los que devuelvan TRUE"
   ]
  },
  {
   "cell_type": "code",
   "execution_count": 7,
   "metadata": {},
   "outputs": [
    {
     "data": {
      "text/plain": [
       "<filter at 0x2b546e2cac0>"
      ]
     },
     "execution_count": 7,
     "metadata": {},
     "output_type": "execute_result"
    }
   ],
   "source": [
    "l = [1, 2, 3]\n",
    "filter(lambda t: t % 2.0 == 0, l)"
   ]
  },
  {
   "cell_type": "code",
   "execution_count": 8,
   "metadata": {},
   "outputs": [
    {
     "data": {
      "text/plain": [
       "[2, 8, 10]"
      ]
     },
     "execution_count": 8,
     "metadata": {},
     "output_type": "execute_result"
    }
   ],
   "source": [
    "l = [1,2,3,8,10,9]\n",
    "list(filter(lambda t: t % 2.0 == 0, l))"
   ]
  },
  {
   "cell_type": "code",
   "execution_count": 9,
   "metadata": {},
   "outputs": [
    {
     "name": "stdout",
     "output_type": "stream",
     "text": [
      "['Ashley', 'Olly']\n"
     ]
    }
   ],
   "source": [
    "creature_names = ['Sammy', 'Ashley', 'Jo', 'Olly', 'Jackie', 'Charlie']\n",
    "print(list(filter(lambda x: x[0].lower() in 'aeiou', creature_names)))"
   ]
  },
  {
   "cell_type": "markdown",
   "metadata": {},
   "source": [
    "Función reduce: aplicar función a todos los elementos de una lista"
   ]
  },
  {
   "cell_type": "code",
   "execution_count": 10,
   "metadata": {},
   "outputs": [
    {
     "data": {
      "text/plain": [
       "6"
      ]
     },
     "execution_count": 10,
     "metadata": {},
     "output_type": "execute_result"
    }
   ],
   "source": [
    "l = [1,2,3]\n",
    "from functools import reduce\n",
    "reduce(lambda x, y: x+y, l)"
   ]
  },
  {
   "cell_type": "code",
   "execution_count": 11,
   "metadata": {},
   "outputs": [
    {
     "data": {
      "text/plain": [
       "24"
      ]
     },
     "execution_count": 11,
     "metadata": {},
     "output_type": "execute_result"
    }
   ],
   "source": [
    "l = [2,3,4]\n",
    "reduce(lambda x, y: x*y, l)"
   ]
  },
  {
   "cell_type": "code",
   "execution_count": 12,
   "metadata": {},
   "outputs": [
    {
     "name": "stdout",
     "output_type": "stream",
     "text": [
      "The maximum element of the list is : 4\n"
     ]
    }
   ],
   "source": [
    "print(\"The maximum element of the list is : \", end=\"\")\n",
    "print(reduce(lambda a, b: a if a > b else b, l))"
   ]
  },
  {
   "cell_type": "markdown",
   "metadata": {},
   "source": [
    "## Listas"
   ]
  },
  {
   "cell_type": "code",
   "execution_count": 13,
   "metadata": {},
   "outputs": [
    {
     "data": {
      "text/plain": [
       "[2, 4]"
      ]
     },
     "execution_count": 13,
     "metadata": {},
     "output_type": "execute_result"
    }
   ],
   "source": [
    "[n for n in l if n % 2.0 == 0]"
   ]
  },
  {
   "cell_type": "code",
   "execution_count": 14,
   "metadata": {},
   "outputs": [
    {
     "data": {
      "text/plain": [
       "['a', 'aa', 'aaa', 'b', 'bb', 'bbb']"
      ]
     },
     "execution_count": 14,
     "metadata": {},
     "output_type": "execute_result"
    }
   ],
   "source": [
    "l = [0, 1, 2, 3]\n",
    "m = [\"a\", \"b\"]\n",
    "n = [s * v for s in m for v in l if v > 0]\n",
    "n"
   ]
  },
  {
   "cell_type": "code",
   "execution_count": 15,
   "metadata": {},
   "outputs": [
    {
     "data": {
      "text/plain": [
       "[5, 6, 7, 10, 12, 14, 15, 18, 21]"
      ]
     },
     "execution_count": 15,
     "metadata": {},
     "output_type": "execute_result"
    }
   ],
   "source": [
    "A = [0, 1, 2, 3]\n",
    "B = [5, 6, 7]\n",
    "[s * v for s in A for v in B if s > 0]"
   ]
  },
  {
   "cell_type": "code",
   "execution_count": 16,
   "metadata": {},
   "outputs": [
    {
     "data": {
      "text/plain": [
       "[0, 0, 0, 5, 6, 7, 10, 12, 14, 15, 18, 21]"
      ]
     },
     "execution_count": 16,
     "metadata": {},
     "output_type": "execute_result"
    }
   ],
   "source": [
    "A = [0, 1, 2, 3]\n",
    "B = [5, 6, 7]\n",
    "[s * v for s in A for v in B if s > -1]"
   ]
  },
  {
   "cell_type": "markdown",
   "metadata": {},
   "source": [
    "## Tuplas"
   ]
  },
  {
   "cell_type": "code",
   "execution_count": 17,
   "metadata": {},
   "outputs": [
    {
     "name": "stdout",
     "output_type": "stream",
     "text": [
      "0\n",
      "1\n",
      "4\n",
      "9\n"
     ]
    }
   ],
   "source": [
    "l2 = (n ** 2 for n in l)\n",
    "for ele in l2:\n",
    "    print (ele)"
   ]
  },
  {
   "cell_type": "markdown",
   "metadata": {},
   "source": [
    "## Print format"
   ]
  },
  {
   "cell_type": "code",
   "execution_count": 18,
   "metadata": {},
   "outputs": [
    {
     "name": "stdout",
     "output_type": "stream",
     "text": [
      "El nombre es 70.55556\n"
     ]
    }
   ],
   "source": [
    "name = \"Valeriano\"\n",
    "dinero = 70.55555555555\n",
    "print (\"El nombre es %.5f\"  % dinero)"
   ]
  },
  {
   "cell_type": "code",
   "execution_count": 19,
   "metadata": {},
   "outputs": [
    {
     "name": "stdout",
     "output_type": "stream",
     "text": [
      "El nombre es 70.556\n"
     ]
    }
   ],
   "source": [
    "print(\"El nombre es {:.3f}\".format(dinero))"
   ]
  },
  {
   "cell_type": "code",
   "execution_count": 23,
   "metadata": {},
   "outputs": [
    {
     "name": "stdout",
     "output_type": "stream",
     "text": [
      " El volumen de la unidad C es Windows \n",
      " El n£mero de serie del volumen es: 4675-FAD7\n",
      "\n",
      " Directorio de C:\\Users\\valer_z\\ownCloud - VALERIANO MENDEZ FUENTES@drive.upm.es\\AA\\jupyterbook\\visionArtifAgr\n",
      "\n",
      "10/03/2024  10:08    <DIR>          .\n",
      "05/03/2024  16:56    <DIR>          ..\n",
      "10/03/2024  15:53    <DIR>          .ipynb_checkpoints\n",
      "22/01/2023  20:23            17.742 01.1_InstalacionJupyter.md\n",
      "23/01/2023  12:37            67.034 01.2_EjemplosdePythonparaaprenderaprogramar.ipynb\n",
      "06/03/2024  12:55             6.485 01.3_InstalacionLibrerias.ipynb\n",
      "08/03/2024  20:09             2.605 01_IntroduccionIntro.md\n",
      "08/03/2024  17:47           310.855 02.1_Introduccion_AA.ipynb\n",
      "08/03/2024  17:31           142.284 02.2_MetodosdeClasificacion_Ordinarios.ipynb\n",
      "09/03/2024  21:37            10.900 02.3_Clasificacion-EjercicioEntregaWINES.ipynb\n",
      "06/03/2024  12:32               163 02_ClasificacionIntro.md\n",
      "10/03/2024  10:07           155.901 03.1_RedesNeurDensas-Bicapa.ipynb\n",
      "10/03/2024  10:08           118.130 03.2_RedesNeurDensas-Multicapa.ipynb\n",
      "09/03/2024  21:37            36.475 03.3_RedesNeurDensas-EjercicioEntregaWINES.ipynb\n",
      "08/03/2024  17:34           298.555 03.4_RedesNeurConvolucional.ipynb\n",
      "08/03/2024  17:35            75.696 03.5_RedesNeurConvolucional_Maqueta.ipynb\n",
      "08/03/2024  17:09         1.112.083 03.6_RedesNeurConv_PlantVillage.ipynb\n",
      "09/03/2024  22:03               894 03_rnnIntro.md\n",
      "31/01/2022  09:57                60 Bibliografia.md\n",
      "10/03/2024  15:52    <DIR>          data\n",
      "10/03/2024  10:06    <DIR>          images\n",
      "10/03/2024  09:17               399 introAA.md\n",
      "09/03/2024  10:15             4.237 references.bib\n",
      "10/03/2024  09:18             1.498 ymas.md\n",
      "09/03/2024  21:39    <DIR>          _build\n",
      "08/03/2024  12:35             2.181 _config.yml\n",
      "09/03/2024  21:39               808 _toc.yml\n",
      "              21 archivos      2.364.985 bytes\n",
      "               6 dirs  125.444.632.576 bytes libres\n"
     ]
    }
   ],
   "source": [
    "# linux\n",
    "#!pwd\n",
    "# windows\n",
    "!dir  "
   ]
  },
  {
   "cell_type": "code",
   "execution_count": null,
   "metadata": {},
   "outputs": [],
   "source": []
  },
  {
   "cell_type": "markdown",
   "metadata": {},
   "source": [
    "## Ficheros I/O"
   ]
  },
  {
   "cell_type": "code",
   "execution_count": 24,
   "metadata": {},
   "outputs": [
    {
     "name": "stdout",
     "output_type": "stream",
     "text": [
      "Â¡Ay mÃ­sero de mÃ­, y ay, infelice!\n",
      "\n",
      "Apurar, cielos, pretendo,\n",
      "ya que me tratÃ¡is asÃ­\n",
      "quÃ© delito cometÃ­\n",
      "contra vosotros naciendo;\n",
      "aunque si nacÃ­, ya entiendo\n",
      "quÃ© delito he cometido.\n",
      "Bastante causa ha tenido\n",
      "vuestra justicia y rigor;\n",
      "pues el delito mayor\n",
      "del hombre es haber nacido.\n"
     ]
    }
   ],
   "source": [
    "fich = open(\"./data/Prueba.txt\", \"r\") \n",
    "for linea in fich:\n",
    "    print(linea, end=\"\")"
   ]
  },
  {
   "cell_type": "code",
   "execution_count": 25,
   "metadata": {},
   "outputs": [
    {
     "name": "stdout",
     "output_type": "stream",
     "text": [
      "['Â¡Ay mÃ\\xadsero de mÃ\\xad, y ay, infelice!\\n', '\\n', 'Apurar, cielos, pretendo,\\n', 'ya que me tratÃ¡is asÃ\\xad\\n', 'quÃ© delito cometÃ\\xad\\n', 'contra vosotros naciendo;\\n', 'aunque si nacÃ\\xad, ya entiendo\\n', 'quÃ© delito he cometido.\\n', 'Bastante causa ha tenido\\n', 'vuestra justicia y rigor;\\n', 'pues el delito mayor\\n', 'del hombre es haber nacido.\\n']\n"
     ]
    }
   ],
   "source": [
    "fich = open(\"./data/Prueba.txt\", \"r\") \n",
    "print(fich.readlines())"
   ]
  },
  {
   "cell_type": "code",
   "execution_count": 26,
   "metadata": {},
   "outputs": [],
   "source": [
    "fich = open(\"./data/Prueba2.txt\", \"w\")\n",
    "fich.writelines([\"Prueba de escritura 1\\n\", \"Prueba de escritura 2\\n\"])\n",
    "fich.close()"
   ]
  },
  {
   "cell_type": "markdown",
   "metadata": {},
   "source": [
    "## Pandas"
   ]
  },
  {
   "cell_type": "code",
   "execution_count": 27,
   "metadata": {},
   "outputs": [
    {
     "data": {
      "text/plain": [
       "array([[ 1, 11, 41],\n",
       "       [ 2, 12, 42],\n",
       "       [ 3, 13, 43],\n",
       "       [ 4, 14, 44],\n",
       "       [ 5, 15, 45]], dtype=int64)"
      ]
     },
     "execution_count": 27,
     "metadata": {},
     "output_type": "execute_result"
    }
   ],
   "source": [
    "import pandas as pd\n",
    "df = pd.read_csv('./data/Prueba.csv')\n",
    "df.values"
   ]
  },
  {
   "cell_type": "code",
   "execution_count": 28,
   "metadata": {},
   "outputs": [
    {
     "data": {
      "text/html": [
       "<div>\n",
       "<style scoped>\n",
       "    .dataframe tbody tr th:only-of-type {\n",
       "        vertical-align: middle;\n",
       "    }\n",
       "\n",
       "    .dataframe tbody tr th {\n",
       "        vertical-align: top;\n",
       "    }\n",
       "\n",
       "    .dataframe thead th {\n",
       "        text-align: right;\n",
       "    }\n",
       "</style>\n",
       "<table border=\"1\" class=\"dataframe\">\n",
       "  <thead>\n",
       "    <tr style=\"text-align: right;\">\n",
       "      <th></th>\n",
       "      <th>Columna1</th>\n",
       "      <th>Columna2</th>\n",
       "      <th>Columna3</th>\n",
       "    </tr>\n",
       "  </thead>\n",
       "  <tbody>\n",
       "    <tr>\n",
       "      <th>0</th>\n",
       "      <td>1</td>\n",
       "      <td>11</td>\n",
       "      <td>41</td>\n",
       "    </tr>\n",
       "    <tr>\n",
       "      <th>1</th>\n",
       "      <td>2</td>\n",
       "      <td>12</td>\n",
       "      <td>42</td>\n",
       "    </tr>\n",
       "    <tr>\n",
       "      <th>2</th>\n",
       "      <td>3</td>\n",
       "      <td>13</td>\n",
       "      <td>43</td>\n",
       "    </tr>\n",
       "    <tr>\n",
       "      <th>3</th>\n",
       "      <td>4</td>\n",
       "      <td>14</td>\n",
       "      <td>44</td>\n",
       "    </tr>\n",
       "    <tr>\n",
       "      <th>4</th>\n",
       "      <td>5</td>\n",
       "      <td>15</td>\n",
       "      <td>45</td>\n",
       "    </tr>\n",
       "  </tbody>\n",
       "</table>\n",
       "</div>"
      ],
      "text/plain": [
       "   Columna1  Columna2  Columna3\n",
       "0         1        11        41\n",
       "1         2        12        42\n",
       "2         3        13        43\n",
       "3         4        14        44\n",
       "4         5        15        45"
      ]
     },
     "execution_count": 28,
     "metadata": {},
     "output_type": "execute_result"
    }
   ],
   "source": [
    "df.head()"
   ]
  },
  {
   "cell_type": "markdown",
   "metadata": {},
   "source": [
    "## Funciones"
   ]
  },
  {
   "cell_type": "code",
   "execution_count": 29,
   "metadata": {},
   "outputs": [
    {
     "data": {
      "text/plain": [
       "(7.389056098516415, 7.38905609893065)"
      ]
     },
     "execution_count": 29,
     "metadata": {},
     "output_type": "execute_result"
    }
   ],
   "source": [
    "import math as mt\n",
    "def elevado(a, k):\n",
    "    productorio = 1.0\n",
    "    for i in range(k):\n",
    "        productorio *= a\n",
    "    return productorio\n",
    "\n",
    "def factorial(k):\n",
    "    productorio = 1.0\n",
    "    for i in range(2, k+1):\n",
    "        productorio *= i\n",
    "    return productorio\n",
    "\n",
    "def exponencial(a, n):\n",
    "    sumatorio = 0.0\n",
    "    for k in range(n):\n",
    "        sumatorio += elevado(a, k) / factorial(k)\n",
    "        ##print(sumatorio, k, elevado(a, k), factorial(k))\n",
    "    return sumatorio\n",
    "\n",
    "exponencial(2,17), mt.exp(2)"
   ]
  },
  {
   "cell_type": "code",
   "execution_count": 30,
   "metadata": {},
   "outputs": [
    {
     "name": "stdout",
     "output_type": "stream",
     "text": [
      "31\n"
     ]
    },
    {
     "data": {
      "text/plain": [
       "(True, 1.0000000000232832)"
      ]
     },
     "execution_count": 30,
     "metadata": {},
     "output_type": "execute_result"
    }
   ],
   "source": [
    "import math as mt\n",
    "def biseccion(f, a, b, epsilon):\n",
    "    if f(a)*f(b) > 0:\n",
    "        return False, x1\n",
    "    c = (a + b) / 2.0\n",
    "    iter_t=0\n",
    "    while mt.fabs(f(c))> epsilon:\n",
    "        #print(a, b, c, f(a), f(b), f(c))\n",
    "        iter_t+=1\n",
    "        if f(a)*f(c) < 0:\n",
    "            b = c\n",
    "        elif f(c)*f(b) < 0:\n",
    "            a = c\n",
    "        c = (a + b) / 2.0\n",
    "    print(iter_t)\n",
    "    return True, c\n",
    "\n",
    "biseccion(lambda x: x**10 - 1, 0, 1.3, 10**(-9))"
   ]
  },
  {
   "cell_type": "code",
   "execution_count": 31,
   "metadata": {},
   "outputs": [
    {
     "name": "stdout",
     "output_type": "stream",
     "text": [
      "31\n"
     ]
    },
    {
     "data": {
      "text/plain": [
       "(True, 1.0000000000232832)"
      ]
     },
     "execution_count": 31,
     "metadata": {},
     "output_type": "execute_result"
    }
   ],
   "source": [
    "import math as mt\n",
    "def biseccion(f, a, b, epsilon):\n",
    "    if f(a)*f(b) > 0:\n",
    "        return False, x1\n",
    "    c = (a + b) / 2.0\n",
    "    iter_t=0\n",
    "    while mt.fabs(f(c))> epsilon:\n",
    "        #print(a, b, c, f(a), f(b), f(c))\n",
    "        iter_t+=1\n",
    "        if f(a)*f(c) < 0:\n",
    "            b = c\n",
    "        elif f(c)*f(b) < 0:\n",
    "            a = c\n",
    "        c = (a + b) / 2.0\n",
    "    print(iter_t)\n",
    "    return True, c\n",
    "\n",
    "def fun(x):\n",
    "    return x**10-1\n",
    "\n",
    "biseccion(fun, 0, 1.3, 10**(-9))"
   ]
  },
  {
   "cell_type": "code",
   "execution_count": null,
   "metadata": {},
   "outputs": [],
   "source": []
  },
  {
   "cell_type": "code",
   "execution_count": 32,
   "metadata": {},
   "outputs": [
    {
     "name": "stdout",
     "output_type": "stream",
     "text": [
      "4\n"
     ]
    },
    {
     "data": {
      "text/plain": [
       "(True, 0.1817588725191044)"
      ]
     },
     "execution_count": 32,
     "metadata": {},
     "output_type": "execute_result"
    }
   ],
   "source": [
    "import math as mt\n",
    "def regulafalsa(f, a, b, epsilon):\n",
    "    if f(a)*f(b) > 0:\n",
    "        return False, a\n",
    "    c_ant=a\n",
    "    c = b - f(b)*(a-b)/(f(a)-f(b))\n",
    "    iter_t=0\n",
    "    while mt.fabs((c-c_ant)/c) > epsilon:\n",
    "        iter_t+=1\n",
    "        #print(a, b, c, f(a), f(b), f(c))\n",
    "        if f(a)*f(c) < 0:\n",
    "            b = c\n",
    "        elif f(c)*f(b) < 0:\n",
    "            a = c\n",
    "        c_ant=c\n",
    "        c = b - f(b)*(a-b)/(f(a)-f(b))\n",
    "    print(iter_t)\n",
    "    return True, c\n",
    "def regulafalsaMod(f, a, b, epsilon):\n",
    "    if f(a)*f(b) > 0:\n",
    "        return False, a\n",
    "    c_ant=a\n",
    "    c = b - f(b)*(a-b)/(f(a)-f(b))\n",
    "    iter_a=0\n",
    "    iter_b=0\n",
    "    iter_t=0\n",
    "    while mt.fabs(c-c_ant) > epsilon:\n",
    "        iter_t+=1\n",
    "        #print(a, b, c, f(a), f(b), f(c))\n",
    "        if f(a)*f(c) < 0:\n",
    "            b = c\n",
    "            iter_b=0\n",
    "            iter_a+=1\n",
    "            if (iter_a>=2): a=a/2\n",
    "        elif f(c)*f(b) < 0:\n",
    "            a = c\n",
    "            iter_a=0\n",
    "            iter_b+=1\n",
    "            if (iter_b>=2): b=b/2\n",
    "        c_ant=c\n",
    "        c = b - f(b)*(a-b)/(f(a)-f(b))\n",
    "    print(iter_t)\n",
    "    return True, c\n",
    "\n",
    "regulafalsaMod(lambda x: x**10 - 1, 0, 1.3, 10**(-9))"
   ]
  },
  {
   "cell_type": "markdown",
   "metadata": {},
   "source": [
    "## Recursión"
   ]
  },
  {
   "cell_type": "code",
   "execution_count": 33,
   "metadata": {},
   "outputs": [
    {
     "data": {
      "text/plain": [
       "(True, 0.9999999968380443)"
      ]
     },
     "execution_count": 33,
     "metadata": {},
     "output_type": "execute_result"
    }
   ],
   "source": [
    "import math as mt\n",
    "def regulafalsa(f, a, b, epsilon):\n",
    "    if f(a)*f(b) > 0:\n",
    "        return False, x1\n",
    "    c_ant = a\n",
    "    c = b - f(b)*(a-b)/(f(a)-f(b))\n",
    "    ##print(a, b, c, f(a), f(b), f(c))\n",
    "    if mt.fabs((c-c_ant)/c) < epsilon:\n",
    "        return True, c\n",
    "    elif f(a)*f(c) < 0:\n",
    "        return regulafalsa(f, a, c, epsilon)\n",
    "    else:\n",
    "        return regulafalsa(f, c, b, epsilon)\n",
    "\n",
    "regulafalsa(lambda x: x**10 - 1, 0, 1.3, 10**(-9))"
   ]
  },
  {
   "cell_type": "code",
   "execution_count": 34,
   "metadata": {},
   "outputs": [
    {
     "name": "stdout",
     "output_type": "stream",
     "text": [
      "0 1.3 0.65 -1 12.785849184900005 -0.9865372566553711\n",
      "0.65 1.3 0.9750000000000001 -0.9865372566553711 12.785849184900005 -0.22367037914356147\n",
      "0.9750000000000001 1.3 1.1375000000000002 -0.22367037914356147 12.785849184900005 2.626720217225217\n",
      "0.9750000000000001 1.1375000000000002 1.0562500000000001 -0.22367037914356147 2.626720217225217 0.7284913860640538\n",
      "0.9750000000000001 1.0562500000000001 1.015625 -0.22367037914356147 0.7284913860640538 0.167706846548914\n",
      "0.9750000000000001 1.015625 0.9953125 -0.22367037914356147 0.167706846548914 -0.04589848926847229\n",
      "0.9953125 1.015625 1.00546875 -0.04589848926847229 0.167706846548914 0.05605314088389357\n",
      "0.9953125 1.00546875 1.000390625 -0.04589848926847229 0.05605314088389357 0.003913123612528047\n",
      "0.9953125 1.000390625 0.9978515625000001 -0.04589848926847229 0.003913123612528047 -0.0212778502779869\n",
      "0.9978515625000001 1.000390625 0.9991210937500001 -0.0212778502779869 0.003913123612528047 -0.00875438241808546\n",
      "0.9991210937500001 1.000390625 0.9997558593750001 -0.00875438241808546 0.003913123612528047 -0.0024387257864679768\n",
      "0.9997558593750001 1.000390625 1.0000732421875 -0.0024387257864679768 0.003913123612528047 0.0007326633209661093\n",
      "0.9997558593750001 1.0000732421875 0.9999145507812501 -0.0024387257864679768 0.0007326633209661093 -0.0008541636917527295\n",
      "0.9999145507812501 1.0000732421875 0.9999938964843751 -0.0008541636917527295 0.0007326633209661093 -6.103347989572239e-05\n",
      "0.9999938964843751 1.0000732421875 1.0000335693359377 -6.103347989572239e-05 0.0007326633209661093 0.0003357440744307105\n",
      "0.9999938964843751 1.0000335693359377 1.0000137329101564 -6.103347989572239e-05 0.0003357440744307105 0.0001373375885516115\n",
      "0.9999938964843751 1.0000137329101564 1.0000038146972656 -6.103347989572239e-05 0.0001373375885516115 3.8147627499096615e-05\n",
      "0.9999938964843751 1.0000038146972656 0.9999988555908204 -6.103347989572239e-05 3.8147627499096615e-05 -1.1444032861351872e-05\n",
      "0.9999988555908204 1.0000038146972656 1.0000013351440429 -1.1444032861351872e-05 3.8147627499096615e-05 1.3351520646409654e-05\n",
      "0.9999988555908204 1.0000013351440429 1.0000000953674317 -1.1444032861351872e-05 1.3351520646409654e-05 9.536747265226353e-07\n",
      "0.9999988555908204 1.0000000953674317 0.999999475479126 -1.1444032861351872e-05 9.536747265226353e-07 -5.245196359138227e-06\n",
      "0.999999475479126 1.0000000953674317 0.9999997854232789 -5.245196359138227e-06 9.536747265226353e-07 -2.1457651386835863e-06\n",
      "0.9999997854232789 1.0000000953674317 0.9999999403953553 -2.1457651386835863e-06 9.536747265226353e-07 -5.960462867715677e-07\n",
      "0.9999999403953553 1.0000000953674317 1.0000000178813935 -5.960462867715677e-07 9.536747265226353e-07 1.788139492031604e-07\n",
      "0.9999999403953553 1.0000000178813935 0.9999999791383745 -5.960462867715677e-07 1.788139492031604e-07 -2.0861623584167432e-07\n",
      "0.9999999791383745 1.0000000178813935 0.999999998509884 -2.0861623584167432e-07 1.788139492031604e-07 -1.4901160194646934e-08\n",
      "0.999999998509884 1.0000000178813935 1.0000000081956388 -1.4901160194646934e-08 1.788139492031604e-07 8.195639145114342e-08\n",
      "0.999999998509884 1.0000000081956388 1.0000000033527614 -1.4901160194646934e-08 8.195639145114342e-08 3.3527614462514066e-08\n",
      "0.999999998509884 1.0000000033527614 1.0000000009313226 -1.4901160194646934e-08 3.3527614462514066e-08 9.313225746154785e-09\n",
      "0.999999998509884 1.0000000009313226 0.9999999997206033 -1.4901160194646934e-08 9.313225746154785e-09 -2.7939672797572257e-09\n",
      "0.9999999997206033 1.0000000009313226 1.0000000003259628 -2.7939672797572257e-09 9.313225746154785e-09 3.259628122975755e-09\n"
     ]
    },
    {
     "data": {
      "text/plain": [
       "(True, 1.0000000000232832)"
      ]
     },
     "execution_count": 34,
     "metadata": {},
     "output_type": "execute_result"
    }
   ],
   "source": [
    "import math as mt\n",
    "def biseccion(f, a, b, epsilon):\n",
    "    if f(a)*f(b) > 0:\n",
    "        return False, x1\n",
    "    c = (a + b) / 2.0\n",
    "    # criterio de parada, para evitar entrar en buble infinito\n",
    "    if mt.fabs(f(c))< epsilon:\n",
    "        return True, c\n",
    "    print(a, b, c, f(a), f(b), f(c))\n",
    "    # si no paramos, nueva llamada\n",
    "    if f(a)*f(c) < 0:\n",
    "        b = c\n",
    "    elif f(c)*f(b) < 0:\n",
    "        a = c\n",
    "    return biseccion(f,a,b,epsilon)\n",
    "\n",
    "def fun(x):\n",
    "    return x**10-1\n",
    "\n",
    "biseccion(fun, 0, 1.3, 10**(-9))"
   ]
  },
  {
   "cell_type": "code",
   "execution_count": null,
   "metadata": {},
   "outputs": [],
   "source": []
  },
  {
   "cell_type": "markdown",
   "metadata": {},
   "source": [
    "## Cálculo numérico\n",
    "* raíces de ecuaciones\n",
    "* derivación numérica\n",
    "* integración numérica\n",
    "* métodos numéricos para EDOs"
   ]
  },
  {
   "cell_type": "code",
   "execution_count": 35,
   "metadata": {},
   "outputs": [
    {
     "name": "stdout",
     "output_type": "stream",
     "text": [
      "38\n"
     ]
    },
    {
     "data": {
      "text/plain": [
       "0.5671432901223239"
      ]
     },
     "execution_count": 35,
     "metadata": {},
     "output_type": "execute_result"
    }
   ],
   "source": [
    "import math as mt\n",
    "def iteraPuntoFijo(g, x, epsilon, max_iter):\n",
    "    iter_t=0\n",
    "    while mt.fabs((g(x)-x)/g(x))> epsilon and iter_t<max_iter:\n",
    "        iter_t+=1\n",
    "        x=g(x)\n",
    "    print(iter_t)\n",
    "    return x\n",
    "\n",
    "iteraPuntoFijo(lambda x: mt.exp(-x), 0, 10**(-9), 200)"
   ]
  },
  {
   "cell_type": "code",
   "execution_count": 36,
   "metadata": {},
   "outputs": [
    {
     "name": "stdout",
     "output_type": "stream",
     "text": [
      "5\n"
     ]
    },
    {
     "data": {
      "text/plain": [
       "(True, 0.567143290409784)"
      ]
     },
     "execution_count": 36,
     "metadata": {},
     "output_type": "execute_result"
    }
   ],
   "source": [
    "import math as mt\n",
    "def newtonRaphson(f, fd, x, epsilon):\n",
    "    iter_t=0\n",
    "    x_ant = x + 2*epsilon\n",
    "    while mt.fabs(x_ant-x)> epsilon:\n",
    "        iter_t+=1\n",
    "        x_ant = x\n",
    "        if fd(x)==0: return False, x\n",
    "        x=x-f(x)/fd(x)\n",
    "    print(iter_t)\n",
    "    return True, x\n",
    "\n",
    "newtonRaphson(lambda x: mt.exp(-x)-x, lambda x: -mt.exp(-x)-1,0, 10**(-9))"
   ]
  },
  {
   "cell_type": "code",
   "execution_count": 37,
   "metadata": {},
   "outputs": [
    {
     "name": "stdout",
     "output_type": "stream",
     "text": [
      "1\n",
      "0.6126998367802821\n",
      "0.5638383891610742\n",
      "0.5671703584197446\n",
      "0.5671433066049633\n",
      "0.5671432904097046\n",
      "6\n"
     ]
    },
    {
     "data": {
      "text/plain": [
       "(True, 0.5671432904097838)"
      ]
     },
     "execution_count": 37,
     "metadata": {},
     "output_type": "execute_result"
    }
   ],
   "source": [
    "import math as mt\n",
    "def secante(f, x_ant, x, epsilon):\n",
    "    iter_t=0\n",
    "    while mt.fabs(x_ant-x)> epsilon:\n",
    "        print(x)\n",
    "        iter_t+=1\n",
    "        if (f(x_ant)==f(x)): return False, x\n",
    "        x_new=x-f(x)*(x_ant-x)/(f(x_ant)-f(x))\n",
    "        x_ant=x\n",
    "        x=x_new\n",
    "    print(iter_t)\n",
    "    return True, x\n",
    "\n",
    "secante(lambda x: mt.exp(-x)-x, 0, 1, 10**(-12))"
   ]
  },
  {
   "cell_type": "code",
   "execution_count": 38,
   "metadata": {},
   "outputs": [
    {
     "name": "stdout",
     "output_type": "stream",
     "text": [
      "5\n"
     ]
    },
    {
     "data": {
      "text/plain": [
       "(True, 0.5671432904097838)"
      ]
     },
     "execution_count": 38,
     "metadata": {},
     "output_type": "execute_result"
    }
   ],
   "source": [
    "import math as mt\n",
    "def secanteMod(f, x, epsilon):\n",
    "    iter_t=0\n",
    "    x_ant = x + 2*epsilon\n",
    "    while mt.fabs(x_ant-x)> epsilon:\n",
    "        iter_t+=1\n",
    "        x_ant = x\n",
    "        if f(x+epsilon)==f(x): return False, x\n",
    "        x=x-f(x)*epsilon/(f(x+epsilon)-f(x))\n",
    "    print(iter_t)\n",
    "    return True, x\n",
    "\n",
    "secanteMod(lambda x: mt.exp(-x)-x, 0, 10**(-9))"
   ]
  },
  {
   "cell_type": "code",
   "execution_count": 39,
   "metadata": {},
   "outputs": [
    {
     "name": "stdout",
     "output_type": "stream",
     "text": [
      "i 1 x 0 dif2 -9.99955673819386 dif 6.999995000089854 f -3\n",
      "i 2 x 1.105189089355384 dif2 -3.368867684816479 dif -0.3875638082649624 f -0.020965598638882667\n",
      "i 3 x 1.0030782671025074 dif2 -3.9815303933324593 dif -0.012286631988153052 f -1.8922287885892526e-05\n",
      "i 4 x 1.0000038677348835 dif2 -3.999976792932577 dif -1.7470882050986708e-05 f -2.9918688398857965e-11\n",
      "i 5 x 1.0000010507890613 dif2 -3.9999936946075003 dif -6.203148779759915e-06 f -2.2083141425373897e-12\n",
      "5\n"
     ]
    },
    {
     "data": {
      "text/plain": [
       "(True, 1.0000005887170116)"
      ]
     },
     "execution_count": 39,
     "metadata": {},
     "output_type": "execute_result"
    }
   ],
   "source": [
    "import math as mt\n",
    "def newtonRaphsonMod(f, x, eps, iter_max):\n",
    "    iter_t=0\n",
    "    x_ant = x + 2*eps\n",
    "    diferen = lambda f, x, eps: (f(x+eps)-f(x))/eps\n",
    "    difSegunda = lambda f, x, eps: (f(x+eps)-2*f(x)+f(x-eps))/(eps*eps)\n",
    "    while mt.fabs(x_ant-x)> eps and iter_t<iter_max:\n",
    "        #print(iter_t, x)\n",
    "        iter_t+=1\n",
    "        x_ant = x\n",
    "        print(\"i\", iter_t, \"x\", x, \"dif2\", difSegunda(f,x,eps), \"dif\", diferen(f,x,eps), \"f\", f(x))\n",
    "        if diferen(f,x,eps)**2==f(x)*difSegunda(f,x,eps): return False, x\n",
    "        x=x-f(x)*diferen(f,x,eps)/(diferen(f,x,eps)**2-f(x)*difSegunda(f,x,eps))\n",
    "    print(iter_t)\n",
    "    return True, x\n",
    "\n",
    "newtonRaphsonMod(lambda x: (x-3)*(x-1)*(x-1),0, 10**(-6), 100)"
   ]
  },
  {
   "cell_type": "code",
   "execution_count": null,
   "metadata": {},
   "outputs": [],
   "source": []
  },
  {
   "cell_type": "markdown",
   "metadata": {},
   "source": [
    "### Integración numérica"
   ]
  },
  {
   "cell_type": "code",
   "execution_count": 40,
   "metadata": {},
   "outputs": [
    {
     "data": {
      "text/plain": [
       "(-1.6666675447159682e-07, 2.337333499999998)"
      ]
     },
     "execution_count": 40,
     "metadata": {},
     "output_type": "execute_result"
    }
   ],
   "source": [
    "def trapecio(f, a, b, n):\n",
    "    eps = 10**(-6)\n",
    "    difSegunda = lambda f, x, eps: (f(x+eps)-2*f(x)+f(x-eps))/(eps*eps)\n",
    "    h=(b-a)/n\n",
    "    integral = (b-a)*(f(a)+ f(b) + 2*sum([f(a+(i+1)*h) for i in range(n)]))/(2*n)\n",
    "    error = - sum([difSegunda(f, a+(i+1)*h, eps) for i in range(n)])*(b-a)**3/(12*n**3)\n",
    "    return error, integral\n",
    "trapecio(lambda x: x**2, 1, 2, 1000)"
   ]
  },
  {
   "cell_type": "code",
   "execution_count": 41,
   "metadata": {},
   "outputs": [
    {
     "data": {
      "text/plain": [
       "(2.3333333333333335, 2.590520390792032e-14)"
      ]
     },
     "execution_count": 41,
     "metadata": {},
     "output_type": "execute_result"
    }
   ],
   "source": [
    "import scipy.integrate as scint\n",
    "scint.quad(lambda x: x**2,1,2)"
   ]
  },
  {
   "cell_type": "code",
   "execution_count": 42,
   "metadata": {},
   "outputs": [
    {
     "name": "stdout",
     "output_type": "stream",
     "text": [
      "[0.0, 2.220446049250313e+24, -2.220446049250313e+24, 0.0, 0.0, 4.440892098500626e+24]\n"
     ]
    },
    {
     "data": {
      "text/plain": [
       "(-4.934324553889584e+17, 2.3333333333333335)"
      ]
     },
     "execution_count": 42,
     "metadata": {},
     "output_type": "execute_result"
    }
   ],
   "source": [
    "def simpson(f, a, b, n):\n",
    "    eps = 10**(-10)\n",
    "    dif_4 = lambda f, x, eps: (f(x+4*eps)-4*f(x+3*eps)+6*f(x+2*eps)-4*f(x+eps)+f(x))/(eps**4)\n",
    "    h=(b-a)/n\n",
    "    integral = (b-a)*sum([f(a+2*(i-1)*h) + 4*f(a+(2*i-1)*h) + f(a+2*i*h) for i in range(1, int(n/2)+1)])/(3*n)\n",
    "    print([dif_4(f, a+(2*i-1)*h, eps) for i in range(int(n/2)+1)])\n",
    "    error = - sum([dif_4(f, a+(2*i-1)*h, eps) for i in range(int(n/2)+1)])*(b-a)**5/(90*n**5)\n",
    "    return error, integral\n",
    "simpson(lambda x: x**2, 1, 2, 10)"
   ]
  },
  {
   "cell_type": "code",
   "execution_count": null,
   "metadata": {},
   "outputs": [],
   "source": []
  },
  {
   "cell_type": "code",
   "execution_count": 43,
   "metadata": {},
   "outputs": [],
   "source": [
    "def riemann(f, a, b, N):  \n",
    "    suma = 0\n",
    "    h = (b-a)/N\n",
    "    for i in range(N):\n",
    "        izq = a + i*h \n",
    "        der = izq + h\n",
    "        medio = (izq + der)/2\n",
    "        suma += f(medio)*h\n",
    "    return suma "
   ]
  },
  {
   "cell_type": "code",
   "execution_count": 44,
   "metadata": {},
   "outputs": [
    {
     "data": {
      "text/plain": [
       "0.3332"
      ]
     },
     "execution_count": 44,
     "metadata": {},
     "output_type": "execute_result"
    }
   ],
   "source": [
    "def f(t):\n",
    "    return t**2\n",
    "\n",
    "riemann(f, 0, 1, 25)"
   ]
  },
  {
   "cell_type": "code",
   "execution_count": 45,
   "metadata": {},
   "outputs": [],
   "source": [
    "\n",
    "def riemann2(f, a, b, N):  \n",
    "    suma = 0\n",
    "    h = (b-a)/N\n",
    "    print (  sum([f(a+i*h)*h for i in range(N)]))\n",
    "    for i in range(N):\n",
    "        izq = a + i*h \n",
    "        der = izq + h\n",
    "        medio = (izq + der)/2\n",
    "        suma += f(medio)*h\n",
    "    return suma "
   ]
  },
  {
   "cell_type": "code",
   "execution_count": 46,
   "metadata": {},
   "outputs": [
    {
     "name": "stdout",
     "output_type": "stream",
     "text": [
      "0.31360000000000005\n"
     ]
    },
    {
     "data": {
      "text/plain": [
       "0.3332"
      ]
     },
     "execution_count": 46,
     "metadata": {},
     "output_type": "execute_result"
    }
   ],
   "source": [
    "riemann2(f, 0, 1, 25)"
   ]
  },
  {
   "cell_type": "code",
   "execution_count": 47,
   "metadata": {},
   "outputs": [],
   "source": [
    "def euler(f,x0,y0,xn,h):\n",
    "    n=int((xn-x0)/h)\n",
    "    x=[x0];y=[y0]\n",
    "    for i in range(n):\n",
    "        y.append(y[i]+f(x[i],y[i])*h)\n",
    "        x.append(x[i]+h)\n",
    "    return x, y\n",
    "x, y_eul = euler(lambda x, y: -2*x**3+12*x**2-20*x+8.5, 0, 1, 4, 0.5)"
   ]
  },
  {
   "cell_type": "code",
   "execution_count": 48,
   "metadata": {},
   "outputs": [],
   "source": [
    "import math as mt\n",
    "def heun(f,x0,y0,xn,h):\n",
    "    n=int((xn-x0)/h)\n",
    "    x=[x0];y=[y0]\n",
    "    for i in range(n):\n",
    "        wy=y[i]+f(x[i],y[i])*h\n",
    "        m = (f(x[i],y[i])+f(x[i]+h,wy))/2\n",
    "        y.append(y[i]+m*h)\n",
    "        x.append(x[i]+h)\n",
    "    return x, y\n",
    "x, y_heu = heun(lambda x, y: 4*mt.exp(0.8*x)-0.5*y, 0, 2, 4, 1)"
   ]
  },
  {
   "cell_type": "code",
   "execution_count": 49,
   "metadata": {},
   "outputs": [
    {
     "data": {
      "text/plain": [
       "([0, 0.5, 1.0, 1.5, 2.0, 2.5, 3.0, 3.5, 4.0],\n",
       " [1,\n",
       "  3.27734375,\n",
       "  3.1015625,\n",
       "  2.34765625,\n",
       "  2.140625,\n",
       "  2.85546875,\n",
       "  4.1171875,\n",
       "  4.80078125,\n",
       "  3.03125])"
      ]
     },
     "execution_count": 49,
     "metadata": {},
     "output_type": "execute_result"
    }
   ],
   "source": [
    "def runge2(f,x0,y0,xn,h):\n",
    "    n=int((xn-x0)/h)\n",
    "    x=[x0];y=[y0]\n",
    "    for i in range(n):\n",
    "        k1=f(x[i],y[i])\n",
    "        k2=f(x[i]+(3/4)*h,y[i]+(3/4)*k1*h)\n",
    "        y.append(y[i]+(k1/3+2*k2/3)*h)\n",
    "        x.append(x[i]+h)\n",
    "    return x, y\n",
    "runge2(lambda x, y: -2*x**3+12*x**2-20*x+8.5, 0, 1, 4, 0.5)"
   ]
  },
  {
   "cell_type": "code",
   "execution_count": 50,
   "metadata": {},
   "outputs": [
    {
     "data": {
      "text/plain": [
       "([0.0, 0.5, 1.0, 1.5, 2.0, 2.5, 3.0, 3.5, 4.0],\n",
       " [1,\n",
       "  1.4166666666666667,\n",
       "  0.7083333333333334,\n",
       "  0.75,\n",
       "  1.2916666666666667,\n",
       "  2.0833333333333335,\n",
       "  2.875,\n",
       "  3.4166666666666665,\n",
       "  3.4583333333333335])"
      ]
     },
     "execution_count": 50,
     "metadata": {},
     "output_type": "execute_result"
    }
   ],
   "source": [
    "def runge2(f,x0,y0,xn,h):\n",
    "    n=int((xn-x0)/h)\n",
    "    x=[x0 + i*h for i in range(n+1)]\n",
    "    y=[x[ix-1]+(f(x[ix-1],x[ix-1])/3+2*x0/3)*h if ix>0 else y0 for ix, num in enumerate(x)]\n",
    "    return x, y\n",
    "runge2(lambda x, y: -2*x**3+12*x**2-20*x+8.5, 0, 1, 4, 0.5)"
   ]
  },
  {
   "cell_type": "code",
   "execution_count": 51,
   "metadata": {},
   "outputs": [],
   "source": [
    "#A = ['A','B','C','D','E','F','G','H','I','J']\n",
    "# [(x, A[i+1] if (i+1) < len(A) else None) for i,x in enumerate(A)]\n",
    "# return sum([x if x!=13 and nums[idx-1 if idx >0 else 0] !=13 else 0 for idx,x in enumerate(nums)])"
   ]
  },
  {
   "cell_type": "code",
   "execution_count": 52,
   "metadata": {},
   "outputs": [
    {
     "name": "stdout",
     "output_type": "stream",
     "text": [
      "1 0 0.0 1.5279 1.7647 2.4721 0.63 4 -3.1136 2.4721 2e-06\n",
      "2 0 0.0 0.9443 1.531 1.5279 1.7647 2.4721 0.63 1.5279 0.6180339887498949\n",
      "3 0.9443 1.531 1.5279 1.7647 1.8885 1.5432 2.4721 0.63 0.9443 0.3819660112501051\n",
      "4 0.9443 1.531 1.305 1.7595 1.5279 1.7647 1.8885 1.5432 0.5836 0.23606797749978972\n",
      "5 1.305 1.7595 1.5279 1.7647 1.6656 1.7136 1.8885 1.5432 0.3607 0.1458980337503155\n",
      "6 1.305 1.7595 1.4427 1.7755 1.5279 1.7647 1.6656 1.7136 0.2229 0.09016994374947428\n",
      "7 1.305 1.7595 1.3901 1.7742 1.4427 1.7755 1.5279 1.7647 0.1378 0.059016994374947486\n",
      "8 1.3901 1.7742 1.4427 1.7755 1.4752 1.7732 1.5279 1.7647 0.0851 0.03647450843757889\n",
      "9 1.3901 1.7742 1.4226 1.7757 1.4427 1.7755 1.4752 1.7732 0.0526 0.02254248593736858\n",
      "10 1.3901 1.7742 1.4102 1.7754 1.4226 1.7757 1.4427 1.7755 0.0325 0.014128866181757014\n",
      "11 1.4102 1.7754 1.4226 1.7757 1.4303 1.7757 1.4427 1.7755 0.0201 0.008732119522824787\n",
      "12 1.4226 1.7757 1.4303 1.7757 1.435 1.7757 1.4427 1.7755 0.0124 0.005367778120295635\n",
      "13 1.4226 1.7757 1.4274 1.7757 1.4303 1.7757 1.435 1.7757 0.0077 0.0033174693224107257\n",
      "14 1.4226 1.7757 1.4256 1.7757 1.4274 1.7757 1.4303 1.7757 0.0047 0.0020545212007783056\n",
      "15 1.4256 1.7757 1.4274 1.7757 1.4285 1.7757 1.4303 1.7757 0.0029 0.0012697639326882445\n",
      "16 1.4256 1.7757 1.4267 1.7757 1.4274 1.7757 1.4285 1.7757 0.0018 0.0007847572680900612\n",
      "17 1.4267 1.7757 1.4274 1.7757 1.4278 1.7757 1.4285 1.7757 0.0011 0.0004850066645981833\n",
      "18 1.4267 1.7757 1.4271 1.7757 1.4274 1.7757 1.4278 1.7757 0.0007 0.0002997506034918779\n",
      "19 1.4271 1.7757 1.4274 1.7757 1.4275 1.7757 1.4278 1.7757 0.0004 0.00018525606110624606\n",
      "20 1.4274 1.7757 1.4275 1.7757 1.4276 1.7757 1.4278 1.7757 0.0003 0.0001144814348860735\n",
      "21 1.4274 1.7757 1.4275 1.7757 1.4275 1.7757 1.4276 1.7757 0.0002 7.075341784047577e-05\n",
      "22 1.4275 1.7757 1.4275 1.7757 1.4276 1.7757 1.4276 1.7757 0.0001 4.372801704565714e-05\n",
      "23 1.4275 1.7757 1.4276 1.7757 1.4276 1.7757 1.4276 1.7757 0.0001 2.702467044232797e-05\n",
      "24 1.4275 1.7757 1.4276 1.7757 1.4276 1.7757 1.4276 1.7757 0.0 1.670216486813883e-05\n",
      "25 1.4275 1.7757 1.4275 1.7757 1.4276 1.7757 1.4276 1.7757 0.0 1.0322612129410393e-05\n",
      "26 1.4275 1.7757 1.4276 1.7757 1.4276 1.7757 1.4276 1.7757 0.0 6.379725148638679e-06\n",
      "27 1.4275 1.7757 1.4275 1.7757 1.4276 1.7757 1.4276 1.7757 0.0 3.942886980712303e-06\n",
      "28 1.4275 1.7757 1.4276 1.7757 1.4276 1.7757 1.4276 1.7757 0.0 2.4368381678669634e-06\n",
      "29 1.4275 1.7757 1.4276 1.7757 1.4276 1.7757 1.4276 1.7757 0.0 1.50604881284534e-06\n"
     ]
    },
    {
     "data": {
      "text/plain": [
       "1.427551339027571"
      ]
     },
     "execution_count": 52,
     "metadata": {},
     "output_type": "execute_result"
    }
   ],
   "source": [
    "import math as mt\n",
    "def maxSeccionAurea(f,a,b, eps, maxIter):\n",
    "    i=0\n",
    "    R=(mt.sqrt(5)-1)/2\n",
    "    err=2*eps\n",
    "    opti=a\n",
    "    while i<maxIter and err>eps:\n",
    "        d=R*(b-a)\n",
    "        x1=a+d\n",
    "        x2=b-d\n",
    "        i+=1\n",
    "        print(i, round(a,4), round(f(a),4), round(x2,4), round(f(x2),4), round(x1,4), round(f(x1),4), round(b,4), round(f(b),4), round(d,4), err)\n",
    "        if f(x1)>f(x2):\n",
    "            a=x2\n",
    "            opti=x1\n",
    "        elif f(x2)>f(x1):\n",
    "            b=x1\n",
    "            opti=x2\n",
    "        err = (1-R)*mt.fabs((b-a)/opti)\n",
    "    return opti\n",
    "maxSeccionAurea(lambda x: 2*mt.sin(x)-x**2/10, 0, 4, 10**(-6), 2000)"
   ]
  },
  {
   "cell_type": "code",
   "execution_count": 53,
   "metadata": {},
   "outputs": [
    {
     "data": {
      "text/plain": [
       "1.4275518465647516"
      ]
     },
     "execution_count": 53,
     "metadata": {},
     "output_type": "execute_result"
    }
   ],
   "source": [
    "import math as mt\n",
    "def optimoSeccionAurea(f,a,b, eps, maxIter, Tipo=\"Max\"):\n",
    "    i=0\n",
    "    R=(mt.sqrt(5)-1)/2\n",
    "    opti=a\n",
    "    while i<maxIter and b-a>eps:\n",
    "        d=R*(b-a)\n",
    "        x1=a+d\n",
    "        x2=b-d\n",
    "        i+=1\n",
    "        #print(i, round(a,4), round(f(a),4), round(x2,4), round(f(x2),4), round(x1,4), round(f(x1),4), round(b,4), round(f(b),4), round(d,4), err)\n",
    "        if (f(x1)>f(x2) and Tipo==\"Max\") or (f(x1)<f(x2) and Tipo==\"Min\"):\n",
    "            a=x2\n",
    "            opti=x1\n",
    "        elif (f(x2)>f(x1) and  Tipo==\"Max\") or (f(x2)<f(x1) and  Tipo==\"Min\"):\n",
    "            b=x1\n",
    "            opti=x2\n",
    "    return opti\n",
    "optimoSeccionAurea(lambda x: 2*mt.sin(x)-x**2/10, 0, 4, 10**(-6), 2000, \"Max\")"
   ]
  },
  {
   "cell_type": "code",
   "execution_count": 54,
   "metadata": {},
   "outputs": [
    {
     "data": {
      "text/plain": [
       "-2.0530310232392276e-07"
      ]
     },
     "execution_count": 54,
     "metadata": {},
     "output_type": "execute_result"
    }
   ],
   "source": [
    "optimoSeccionAurea(lambda x: x**2, -1, 2, 10**(-6), 2000, \"Min\")"
   ]
  },
  {
   "cell_type": "code",
   "execution_count": 55,
   "metadata": {},
   "outputs": [
    {
     "name": "stdout",
     "output_type": "stream",
     "text": [
      "1 0 0.0 1 1.5829 4 -3.1136 1.5055 1.7691 4.0\n",
      "2 1 1.5829 1.5055 1.7691 4 -3.1136 1.4903 1.7714 3.0\n",
      "3 1 1.5829 1.4903 1.7714 1.5055 1.7691 1.4256 1.7757 0.5055348739896623\n",
      "4 1 1.5829 1.4256 1.7757 1.4903 1.7714 1.4266 1.7757 0.4902527508500858\n",
      "5 1.4256 1.7757 1.4266 1.7757 1.4903 1.7714 1.4275 1.7757 0.06461679656582486\n",
      "6 1.4266 1.7757 1.4275 1.7757 1.4903 1.7714 1.4276 1.7757 0.06365122826564096\n",
      "7 1.4275 1.7757 1.4276 1.7757 1.4903 1.7714 1.4276 1.7757 0.06270443996075814\n",
      "8 1.4276 1.7757 1.4276 1.7757 1.4903 1.7714 1.4276 1.7757 0.06270213484155795\n",
      "9 1.4276 1.7757 1.4276 1.7757 1.4903 1.7714 1.4276 1.7757 0.06270213484155795\n",
      "10 1.4276 1.7757 1.4276 1.7757 1.4903 1.7714 1.4276 1.7757 0.06270213484155795\n"
     ]
    },
    {
     "data": {
      "text/plain": [
       "1.4275517730931442"
      ]
     },
     "execution_count": 55,
     "metadata": {},
     "output_type": "execute_result"
    }
   ],
   "source": [
    "import math as mt\n",
    "def optimoInterpolaParbola(f,x0,x1, x2, eps, maxIter, Tipo=\"Max\"):\n",
    "    i=0\n",
    "    while i<maxIter and mt.fabs(x2-x0)>eps:\n",
    "        i+=1\n",
    "        x3N=f(x0)*(x1**2-x2**2)+f(x1)*(x2**2-x0**2)+f(x2)*(x0**2-x1**2)\n",
    "        x3D=2*f(x0)*(x1-x2)+2*f(x1)*(x2-x0)+2*f(x2)*(x0-x1)\n",
    "        x3=x3N/x3D\n",
    "        print(i, round(x0,4), round(f(x0),4), round(x1,4), round(f(x1),4), round(x2,4), round(f(x2),4), round(x3,4), round(f(x3),4), mt.fabs(x2-x0))\n",
    "        if (f(x1)>f(x3) and Tipo==\"Max\") or (f(x1)<f(x3) and Tipo==\"Min\"):\n",
    "            opti=x1\n",
    "            if x3>x1:\n",
    "                x2=x3\n",
    "            else:\n",
    "                x0=x3\n",
    "        elif (f(x3)>f(x1) and  Tipo==\"Max\") or (f(x3)<f(x1) and  Tipo==\"Min\"):\n",
    "            opti=x3\n",
    "            if x3>x1:\n",
    "                x0=x1\n",
    "                x1=x3\n",
    "            else:\n",
    "                x2=x1\n",
    "                x1=x3\n",
    "    return opti\n",
    "optimoInterpolaParbola(lambda x: 2*mt.sin(x)-x**2/10, 0, 1, 4, 10**(-6), 10, \"Max\")\n",
    "#optimoInterpolaParbola(lambda x: x**2, -1, 1, 2, 10**(-6), 10, \"Min\")"
   ]
  },
  {
   "cell_type": "code",
   "execution_count": 56,
   "metadata": {},
   "outputs": [
    {
     "name": "stdout",
     "output_type": "stream",
     "text": [
      "0.5 1.6551593294944487 -1.1588507931037382\n",
      "1.9282764781663155 -1.085495261521352 -2.0735635430924044\n",
      "1.4047838342406314 0.04953434635801556 -2.172504398600949\n",
      "1.4275844078044477 -8.201330725654543e-05 -2.1795254490086786\n",
      "1.427546778830079 -1.5543122344752192e-10 -2.1795165672244816\n",
      "5\n"
     ]
    },
    {
     "data": {
      "text/plain": [
       "(True, 1.4275467787587646)"
      ]
     },
     "execution_count": 56,
     "metadata": {},
     "output_type": "execute_result"
    }
   ],
   "source": [
    "import math as mt\n",
    "def newtonOptimo(f, x, eps):\n",
    "    iter_t=0\n",
    "    x_ant = x + 2*eps\n",
    "    dif_1 = lambda f, x, eps: (f(x+eps)-f(x))/eps\n",
    "    dif_2 = lambda f, x, eps: (f(x+eps)-2*f(x)+f(x-eps))/(eps*eps)\n",
    "    while mt.fabs(x_ant-x)> eps:\n",
    "        iter_t+=1\n",
    "        x_ant = x\n",
    "        print(x, dif_1(f, x, eps), dif_2(f, x, eps))\n",
    "        if dif_2(f, x, eps)==0: return False, x\n",
    "        x=x-dif_1(f, x, eps)/dif_2(f, x, eps)\n",
    "    print(iter_t)\n",
    "    return True, x\n",
    "\n",
    "newtonOptimo(lambda x: 2*mt.sin(x)-x**2/10, 0.5, 10**(-5))"
   ]
  },
  {
   "cell_type": "code",
   "execution_count": 57,
   "metadata": {},
   "outputs": [
    {
     "data": {
      "text/plain": [
       "array([-0.00044686, -0.00044686])"
      ]
     },
     "execution_count": 57,
     "metadata": {},
     "output_type": "execute_result"
    }
   ],
   "source": [
    "import math as mt\n",
    "import numpy as np\n",
    "def gradiente(f, x):\n",
    "    eps=10**(-3)\n",
    "    grad=[]\n",
    "    for i in range(len(x)):\n",
    "        xw=x.copy()\n",
    "        xw[i]+=eps\n",
    "        grad.append((f(xw)-f(x))/eps)\n",
    "    return grad\n",
    "def gradienteDescenso(f, x, epocas, eta):\n",
    "    for i in range(epocas):\n",
    "        x = x - eta*np.array(gradiente(f, x))\n",
    "    return x\n",
    "gradienteDescenso(lambda x: x[0]**2 + x[1]**2, [2.0,2.0], 100, 0.05)"
   ]
  },
  {
   "cell_type": "code",
   "execution_count": 58,
   "metadata": {},
   "outputs": [
    {
     "name": "stdout",
     "output_type": "stream",
     "text": [
      "[8.0, 8.0]\n",
      "[6.479640005000428, 6.479640005000428]\n",
      "[5.248184418050559, 5.248184418050559]\n",
      "[4.250737800720911, 4.250737800720911]\n",
      "[3.4428352079740168, 3.4428352079740168]\n",
      "[2.788460358410025, 2.788460358410025]\n",
      "[2.2584403557680557, 2.2584403557680557]\n",
      "[1.829145416582518, 1.829145416582518]\n",
      "[1.481435652501132, 1.481435652501132]\n",
      "[1.1998079665882768, 1.1998079665882768]\n",
      "[0.971705041692622, 0.971705041692622]\n",
      "[0.7869556231515297, 0.7869556231515297]\n",
      "[0.6373211496951956, 0.6373211496951956]\n",
      "[0.5161285262013137, 0.5161285262013137]\n",
      "[0.41797267117645287, 0.41797267117645287]\n",
      "[0.33847558161097585, 0.33847558161097585]\n",
      "[0.27409117676713207, 0.27409117676713207]\n",
      "[0.22194722277739778, 0.22194722277739778]\n",
      "[0.1797172925861089, 0.1797172925861089]\n",
      "[0.14551705441752283, 0.14551705441752283]\n",
      "[0.11782026625869117, 0.11782026625869117]\n",
      "[0.09539073213198837, 0.09539073213198837]\n",
      "[0.07722718734311419, 0.07722718734311419]\n",
      "[0.06251865613250536, 0.06251865613250536]\n",
      "[0.05060829191345405, 0.05060829191345405]\n",
      "[0.04096408835141017, 0.04096408835141017]\n",
      "[0.03315515577600351, 0.03315515577600351]\n",
      "[0.026832505468787817, 0.026832505468787817]\n",
      "[0.021713485290920723, 0.021713485290920723]\n",
      "[0.017569172860728097, 0.017569172860728097]\n",
      "[0.014214164314763833, 0.014214164314763833]\n",
      "[0.011498303462775358, 0.011498303462775358]\n",
      "[0.009299982635883053, 0.009299982635883053]\n",
      "[0.007520716582996786, 0.007520716582996786]\n",
      "[0.006080747515365755, 0.006080747515365755]\n",
      "[0.0049154853622707766, 0.0049154853622707766]\n",
      "[0.0039726245307814025, 0.0039726245307814025]\n",
      "[0.0032098086185407943, 0.0032098086185407943]\n",
      "[0.0025927389547651175, 0.0025927389547651175]\n",
      "[0.0020936426297321117, 0.0020936426297321117]\n",
      "[0.0016900316988181408, 0.0016900316988181408]\n",
      "[0.001363698227904312, 0.001363698227904312]\n",
      "[0.0010999003612779485, 0.0010999003612779485]\n",
      "[0.0008867031096430483, 0.0008867031096430483]\n",
      "[0.000714444454117989, 0.000714444454117989]\n",
      "[0.0005753029496119791, 0.0005753029496119791]\n",
      "[0.00046294753678447013, 0.00046294753678447013]\n",
      "[0.000372253937634311, 0.000372253937634311]\n",
      "[0.0002990749790387932, 0.0002990749790387932]\n",
      "[0.0002400545936209236, 0.0002400545936209236]\n",
      "[0.0001924771953724991, 0.0001924771953724991]\n",
      "[0.00015414570533732024, 0.00015414570533732024]\n",
      "[0.00012328278070026575, 0.00012328278070026575]\n",
      "[9.845083580654792e-05, 9.845083580654792e-05]\n",
      "[7.848728209870327e-05, 7.848728209870327e-05]\n",
      "[6.245209308580913e-05, 6.245209308580913e-05]\n",
      "[4.958535052677894e-05, 4.958535052677894e-05]\n",
      "[3.9272873541237134e-05, 3.9272873541237134e-05]\n",
      "[3.101839322149364e-05, 3.101839322149364e-05]\n",
      "[2.442102759719226e-05, 2.442102759719226e-05]\n",
      "[1.9157048532729904e-05, 1.9157048532729904e-05]\n",
      "[1.4965123872614978e-05, 1.4965123872614978e-05]\n",
      "[1.163437344181151e-05, 1.163437344181151e-05]\n",
      "[8.994703282361364e-06, 8.994703282361364e-06]\n",
      "[6.908984373757339e-06, 6.908984373757339e-06]\n",
      "[5.266724586283616e-06, 5.266724586283616e-06]\n",
      "[3.9789494340758845e-06, 3.9789494340758845e-06]\n",
      "[2.9740613088690057e-06, 2.9740613088690057e-06]\n",
      "[2.1944907007246795e-06, 2.1944907007246795e-06]\n",
      "[1.5939884040736973e-06, 1.5939884040736973e-06]\n",
      "[1.135436450137731e-06, 1.135436450137731e-06]\n",
      "[7.890787831657946e-07, 7.890787831657946e-07]\n",
      "[5.310915470631029e-07, 5.310915470631029e-07]\n",
      "[3.4242811255004187e-07, 3.4242811255004187e-07]\n",
      "[2.0788633465156954e-07, 2.0788633465156954e-07]\n",
      "[1.1535553820520338e-07, 1.1535553820520338e-07]\n",
      "[5.520883236990358e-08, 5.520883236990358e-08]\n",
      "[1.9812916000941867e-08, 1.9812916000941867e-08]\n",
      "[3.13284756395089e-09, 3.13284756395089e-09]\n",
      "[4.1355356966939934e-10, 4.1355356966939934e-10]\n",
      "[7.923330730014474e-09, 7.923330730014474e-09]\n",
      "[2.274741499603576e-08, 2.274741499603576e-08]\n",
      "[4.2621971541040604e-08, 4.2621971541040604e-08]\n",
      "[6.580070580306937e-08, 6.580070580306937e-08]\n",
      "[9.094778966983e-08, 9.094778966983e-08]\n",
      "[1.1705200580497174e-07, 1.1705200580497174e-07]\n",
      "[1.4335799125719562e-07, 1.4335799125719562e-07]\n",
      "[1.693112528179801e-07, 1.693112528179801e-07]\n",
      "[1.9451426669225036e-07, 1.9451426669225036e-07]\n",
      "[2.1869149273944062e-07, 2.1869149273944062e-07]\n",
      "[2.416615521657929e-07, 2.416615521657929e-07]\n",
      "[2.633151559964537e-07, 2.633151559964537e-07]\n",
      "[2.835976452250728e-07, 2.835976452250728e-07]\n",
      "[3.0249522461345975e-07, 3.0249522461345975e-07]\n",
      "[3.200241507199381e-07, 3.200241507199381e-07]\n",
      "[3.36222278987882e-07, 3.36222278987882e-07]\n",
      "[3.5114249119444334e-07, 3.5114249119444334e-07]\n",
      "[3.648476185603322e-07, 3.648476185603322e-07]\n",
      "[3.774065516574188e-07, 3.774065516574188e-07]\n",
      "[3.8889128940370395e-07, 3.8889128940370395e-07]\n"
     ]
    },
    {
     "data": {
      "text/plain": [
       "array([-0.00044686, -0.00044686])"
      ]
     },
     "execution_count": 58,
     "metadata": {},
     "output_type": "execute_result"
    }
   ],
   "source": [
    "import math as mt\n",
    "import numpy as np\n",
    "def gradiente(f, x):\n",
    "    eps=10**(-3)\n",
    "    print([f(x.copy()) for i,ele in enumerate(x)])\n",
    "    grad=[]\n",
    "    # return sum([x if x!=13 and nums[idx-1 if idx >0 else 0] !=13 else 0 for idx,x in enumerate(nums)])\n",
    "    for i in range(len(x)):\n",
    "        xw=x.copy()\n",
    "        xw[i]+=eps\n",
    "        grad.append((f(xw)-f(x))/eps)\n",
    "    return grad\n",
    "def gradienteDescenso(f, x, epocas, eta):\n",
    "    for i in range(epocas):\n",
    "        x = x - eta*np.array(gradiente(f, x))\n",
    "    return x\n",
    "gradienteDescenso(lambda x: x[0]**2 + x[1]**2, [2.0,2.0], 100, 0.05)"
   ]
  },
  {
   "cell_type": "code",
   "execution_count": null,
   "metadata": {},
   "outputs": [],
   "source": []
  },
  {
   "cell_type": "code",
   "execution_count": null,
   "metadata": {},
   "outputs": [],
   "source": []
  }
 ],
 "metadata": {
  "kernelspec": {
   "display_name": "Python 3 (ipykernel)",
   "language": "python",
   "name": "python3"
  },
  "language_info": {
   "codemirror_mode": {
    "name": "ipython",
    "version": 3
   },
   "file_extension": ".py",
   "mimetype": "text/x-python",
   "name": "python",
   "nbconvert_exporter": "python",
   "pygments_lexer": "ipython3",
   "version": "3.11.5"
  }
 },
 "nbformat": 4,
 "nbformat_minor": 4
}

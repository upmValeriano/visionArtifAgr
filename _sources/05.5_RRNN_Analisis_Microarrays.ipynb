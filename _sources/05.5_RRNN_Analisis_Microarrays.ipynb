{
 "cells": [
  {
   "cell_type": "markdown",
   "id": "8c923536",
   "metadata": {},
   "source": [
    "# RRNN Análisis de microarrays\n",
    "\n",
    "__Objetivos de la práctica__\n",
    "\n",
    "- Utilizar datos de microarrays para agrupar genes en función de sus patrones de expresión.\n",
    "- Comparar los grupos obtenidos con los diferentes tipos de cáncer anotados.\n",
    "\n",
    "El __conjunto de datos NCI60__ contiene información genética de __64 líneas celulares cancerígenas__. Para cada una de ellas, se ha cuantificado la expresión de __6830 genes__ mediante __tecnología microarray__. Se conoce el __tipo de cáncer__ (histopatología) al que pertenece cada línea celular y se puede utilizar esta información para evaluar si el método de clustering (agglomerative hierarchical clustering) es capaz de agrupar correctamente las líneas empleando los niveles de expresión génica."
   ]
  },
  {
   "cell_type": "code",
   "execution_count": 1,
   "id": "e57aeffa",
   "metadata": {},
   "outputs": [],
   "source": [
    "import matplotlib.pyplot as plt \n",
    "%matplotlib inline\n",
    "import pandas as pd\n",
    "import numpy as np\n",
    "from skimage import io\n",
    "from IPython import display"
   ]
  },
  {
   "cell_type": "markdown",
   "id": "9ef99c51",
   "metadata": {},
   "source": [
    "## Carga de Datos\n",
    "\n",
    "Descargar el archivo que se encuentra en Moodle con el nombre __nci_data.csv__ y situarlo en una carpeta de nombre __data__ en el path donde se encuentre el cuaderno Jupyter."
   ]
  },
  {
   "cell_type": "code",
   "execution_count": 2,
   "id": "3014f177",
   "metadata": {
    "tags": [
     "hide-cell"
    ]
   },
   "outputs": [
    {
     "data": {
      "text/html": [
       "<div>\n",
       "<style scoped>\n",
       "    .dataframe tbody tr th:only-of-type {\n",
       "        vertical-align: middle;\n",
       "    }\n",
       "\n",
       "    .dataframe tbody tr th {\n",
       "        vertical-align: top;\n",
       "    }\n",
       "\n",
       "    .dataframe thead th {\n",
       "        text-align: right;\n",
       "    }\n",
       "</style>\n",
       "<table border=\"1\" class=\"dataframe\">\n",
       "  <thead>\n",
       "    <tr style=\"text-align: right;\">\n",
       "      <th></th>\n",
       "      <th>Gene</th>\n",
       "      <th>s1</th>\n",
       "      <th>s2</th>\n",
       "      <th>s3</th>\n",
       "      <th>s4</th>\n",
       "      <th>s5</th>\n",
       "      <th>s6</th>\n",
       "      <th>s7</th>\n",
       "      <th>s8</th>\n",
       "      <th>s9</th>\n",
       "      <th>...</th>\n",
       "      <th>s55</th>\n",
       "      <th>s56</th>\n",
       "      <th>s57</th>\n",
       "      <th>s58</th>\n",
       "      <th>s59</th>\n",
       "      <th>s60</th>\n",
       "      <th>s61</th>\n",
       "      <th>s62</th>\n",
       "      <th>s63</th>\n",
       "      <th>s64</th>\n",
       "    </tr>\n",
       "  </thead>\n",
       "  <tbody>\n",
       "    <tr>\n",
       "      <th>0</th>\n",
       "      <td>g1</td>\n",
       "      <td>0.300</td>\n",
       "      <td>0.679961</td>\n",
       "      <td>0.940</td>\n",
       "      <td>0.280</td>\n",
       "      <td>0.485</td>\n",
       "      <td>0.310</td>\n",
       "      <td>-0.830</td>\n",
       "      <td>-0.190</td>\n",
       "      <td>0.460</td>\n",
       "      <td>...</td>\n",
       "      <td>0.010</td>\n",
       "      <td>-0.620</td>\n",
       "      <td>-0.380</td>\n",
       "      <td>0.04998</td>\n",
       "      <td>0.650</td>\n",
       "      <td>-0.030</td>\n",
       "      <td>-0.270</td>\n",
       "      <td>0.210</td>\n",
       "      <td>-0.050</td>\n",
       "      <td>0.350</td>\n",
       "    </tr>\n",
       "    <tr>\n",
       "      <th>1</th>\n",
       "      <td>g2</td>\n",
       "      <td>1.180</td>\n",
       "      <td>1.289961</td>\n",
       "      <td>-0.040</td>\n",
       "      <td>-0.310</td>\n",
       "      <td>-0.465</td>\n",
       "      <td>-0.030</td>\n",
       "      <td>0.000</td>\n",
       "      <td>-0.870</td>\n",
       "      <td>0.000</td>\n",
       "      <td>...</td>\n",
       "      <td>-1.280</td>\n",
       "      <td>-0.130</td>\n",
       "      <td>0.000</td>\n",
       "      <td>-0.72002</td>\n",
       "      <td>0.640</td>\n",
       "      <td>-0.480</td>\n",
       "      <td>0.630</td>\n",
       "      <td>-0.620</td>\n",
       "      <td>0.140</td>\n",
       "      <td>-0.270</td>\n",
       "    </tr>\n",
       "    <tr>\n",
       "      <th>2</th>\n",
       "      <td>g3</td>\n",
       "      <td>0.550</td>\n",
       "      <td>0.169961</td>\n",
       "      <td>-0.170</td>\n",
       "      <td>0.680</td>\n",
       "      <td>0.395</td>\n",
       "      <td>-0.100</td>\n",
       "      <td>0.130</td>\n",
       "      <td>-0.450</td>\n",
       "      <td>1.150</td>\n",
       "      <td>...</td>\n",
       "      <td>-0.770</td>\n",
       "      <td>0.200</td>\n",
       "      <td>-0.060</td>\n",
       "      <td>0.41998</td>\n",
       "      <td>0.150</td>\n",
       "      <td>0.070</td>\n",
       "      <td>-0.100</td>\n",
       "      <td>-0.150</td>\n",
       "      <td>-0.090</td>\n",
       "      <td>0.020</td>\n",
       "    </tr>\n",
       "    <tr>\n",
       "      <th>3</th>\n",
       "      <td>g4</td>\n",
       "      <td>1.140</td>\n",
       "      <td>0.379961</td>\n",
       "      <td>-0.040</td>\n",
       "      <td>-0.810</td>\n",
       "      <td>0.905</td>\n",
       "      <td>-0.460</td>\n",
       "      <td>-1.630</td>\n",
       "      <td>0.080</td>\n",
       "      <td>-1.400</td>\n",
       "      <td>...</td>\n",
       "      <td>0.940</td>\n",
       "      <td>-1.410</td>\n",
       "      <td>0.800</td>\n",
       "      <td>0.92998</td>\n",
       "      <td>-1.970</td>\n",
       "      <td>-0.700</td>\n",
       "      <td>1.100</td>\n",
       "      <td>-1.330</td>\n",
       "      <td>-1.260</td>\n",
       "      <td>-1.230</td>\n",
       "    </tr>\n",
       "    <tr>\n",
       "      <th>4</th>\n",
       "      <td>g5</td>\n",
       "      <td>-0.265</td>\n",
       "      <td>0.464961</td>\n",
       "      <td>-0.605</td>\n",
       "      <td>0.625</td>\n",
       "      <td>0.200</td>\n",
       "      <td>-0.205</td>\n",
       "      <td>0.075</td>\n",
       "      <td>0.005</td>\n",
       "      <td>-0.005</td>\n",
       "      <td>...</td>\n",
       "      <td>-0.015</td>\n",
       "      <td>1.585</td>\n",
       "      <td>-0.115</td>\n",
       "      <td>-0.09502</td>\n",
       "      <td>-0.065</td>\n",
       "      <td>-0.195</td>\n",
       "      <td>1.045</td>\n",
       "      <td>0.045</td>\n",
       "      <td>0.045</td>\n",
       "      <td>-0.715</td>\n",
       "    </tr>\n",
       "  </tbody>\n",
       "</table>\n",
       "<p>5 rows × 65 columns</p>\n",
       "</div>"
      ],
      "text/plain": [
       "  Gene     s1        s2     s3     s4     s5     s6     s7     s8     s9  ...  \\\n",
       "0   g1  0.300  0.679961  0.940  0.280  0.485  0.310 -0.830 -0.190  0.460  ...   \n",
       "1   g2  1.180  1.289961 -0.040 -0.310 -0.465 -0.030  0.000 -0.870  0.000  ...   \n",
       "2   g3  0.550  0.169961 -0.170  0.680  0.395 -0.100  0.130 -0.450  1.150  ...   \n",
       "3   g4  1.140  0.379961 -0.040 -0.810  0.905 -0.460 -1.630  0.080 -1.400  ...   \n",
       "4   g5 -0.265  0.464961 -0.605  0.625  0.200 -0.205  0.075  0.005 -0.005  ...   \n",
       "\n",
       "     s55    s56    s57      s58    s59    s60    s61    s62    s63    s64  \n",
       "0  0.010 -0.620 -0.380  0.04998  0.650 -0.030 -0.270  0.210 -0.050  0.350  \n",
       "1 -1.280 -0.130  0.000 -0.72002  0.640 -0.480  0.630 -0.620  0.140 -0.270  \n",
       "2 -0.770  0.200 -0.060  0.41998  0.150  0.070 -0.100 -0.150 -0.090  0.020  \n",
       "3  0.940 -1.410  0.800  0.92998 -1.970 -0.700  1.100 -1.330 -1.260 -1.230  \n",
       "4 -0.015  1.585 -0.115 -0.09502 -0.065 -0.195  1.045  0.045  0.045 -0.715  \n",
       "\n",
       "[5 rows x 65 columns]"
      ]
     },
     "execution_count": 2,
     "metadata": {},
     "output_type": "execute_result"
    }
   ],
   "source": [
    "df = pd.read_csv('data/nci_data.csv')\n",
    "df.head()"
   ]
  },
  {
   "cell_type": "markdown",
   "id": "1fd2ec54",
   "metadata": {},
   "source": [
    "__Los 64 tipos de cancer__ se encuentra en el archivo __nci_label.txt__ también situado en Moodle y se descarga a la misma carpeta __data__"
   ]
  },
  {
   "cell_type": "code",
   "execution_count": 3,
   "id": "a5e722ac",
   "metadata": {
    "tags": [
     "hide-cell"
    ]
   },
   "outputs": [
    {
     "data": {
      "text/plain": [
       "(64,\n",
       " array(['BREAST', 'CNS', 'COLON', 'K562A-repro', 'K562B-repro', 'LEUKEMIA',\n",
       "        'MCF7A-repro', 'MCF7D-repro', 'MELANOMA', 'NSCLC', 'OVARIAN',\n",
       "        'PROSTATE', 'RENAL', 'UNKNOWN'], dtype=object))"
      ]
     },
     "execution_count": 3,
     "metadata": {},
     "output_type": "execute_result"
    }
   ],
   "source": [
    "df_lbl = pd.read_csv('data/nci_label.txt', header=None, names=[\"Cell\"])\n",
    "df_lbl.head()\n",
    "y = df_lbl.values\n",
    "np.size(y), np.unique(y)"
   ]
  },
  {
   "cell_type": "markdown",
   "id": "4078338e",
   "metadata": {},
   "source": [
    "__La estructura del fichero nci_data.csv es__:\n",
    "\n",
    "- Una columna que sirve para enumerar las 6830 expresiones genéticas y que no se utilizará.\n",
    "- __64 columnas__ con los tipos de cancer.\n",
    "\n",
    "Por tanto, se toman las 64 últimas columnas, por lo que es necesario transponer la matriz __X_trap__ para obtener el conjunto inicial de entrenamiento, que se denomina __X_ini__.\n",
    "\n",
    "__X_ini__ ya tiene __64 filas__ por cada tipo histológico de cancer con __3680 características__, siendo cada uno de ellos la expresión de un gen."
   ]
  },
  {
   "cell_type": "code",
   "execution_count": 4,
   "id": "a4ee9e25",
   "metadata": {
    "tags": [
     "hide-cell"
    ]
   },
   "outputs": [
    {
     "data": {
      "text/plain": [
       "(64, 6830)"
      ]
     },
     "execution_count": 4,
     "metadata": {},
     "output_type": "execute_result"
    }
   ],
   "source": [
    "X_trap = df.values[:,1:65]\n",
    "X_ini = np.transpose(X_trap)\n",
    "X_ini.shape"
   ]
  },
  {
   "cell_type": "markdown",
   "id": "f6eaa107",
   "metadata": {},
   "source": [
    "__Estandarización de los datos de entrada__\n",
    "\n",
    "Para poder probar con datos estandarizados o no estandarizados en la siguiente celda tenemos las dos opciones de forma que en la matriz __X__ con la que se va a trabajar se podrá volcar el dato estandarizado o no, según se comente o descomente la última línea de código"
   ]
  },
  {
   "cell_type": "code",
   "execution_count": 5,
   "id": "556fbc27",
   "metadata": {
    "tags": [
     "hide-cell"
    ]
   },
   "outputs": [],
   "source": [
    "from sklearn.preprocessing import StandardScaler\n",
    "scaler = StandardScaler()\n",
    "X = scaler.fit_transform(X_ini)\n",
    "#X = X_ini"
   ]
  },
  {
   "cell_type": "markdown",
   "id": "a90ba7d0",
   "metadata": {},
   "source": [
    "## División en Train y Test\n",
    "\n",
    "Debido a la baja población no es posible hacer la división, pues quedarían clases con 1 sólo elemento. Se emplea todo __X__ e __y__"
   ]
  },
  {
   "cell_type": "markdown",
   "id": "0083924b",
   "metadata": {},
   "source": [
    "## Entrenamiento del Perceptron\n",
    "\n",
    "Primero se echa un vistazo a las dimensiones del conjunto de entrada y a la cantidad de etiquetas de la variable objetivo"
   ]
  },
  {
   "cell_type": "code",
   "execution_count": 6,
   "id": "03669c62",
   "metadata": {
    "tags": [
     "hide-cell"
    ]
   },
   "outputs": [
    {
     "data": {
      "text/plain": [
       "((64, 6830), 14)"
      ]
     },
     "execution_count": 6,
     "metadata": {},
     "output_type": "execute_result"
    }
   ],
   "source": [
    "X.shape, np.size(np.unique(y))"
   ]
  },
  {
   "cell_type": "markdown",
   "id": "4ca71a52",
   "metadata": {},
   "source": [
    "__Elegir el número de neuronas de la capa de entrada__\n",
    "\n",
    "El número de neuronas de entrada es 6830 y las de salida son 14"
   ]
  },
  {
   "cell_type": "code",
   "execution_count": 7,
   "id": "e3190afe",
   "metadata": {
    "tags": [
     "hide-cell"
    ]
   },
   "outputs": [
    {
     "data": {
      "text/plain": [
       "(4562, 4562.666666666667)"
      ]
     },
     "execution_count": 7,
     "metadata": {},
     "output_type": "execute_result"
    }
   ],
   "source": [
    "i=6830\n",
    "o=14\n",
    "h=2*(i+o)/3\n",
    "int(h), h"
   ]
  },
  {
   "cell_type": "markdown",
   "id": "6a34709b",
   "metadata": {},
   "source": [
    "__Por compatibilidad y evitar Warnings se convierte la lista de tipos de cancer de Y en array__"
   ]
  },
  {
   "cell_type": "code",
   "execution_count": 8,
   "id": "d7645d9d",
   "metadata": {
    "tags": [
     "hide-cell"
    ]
   },
   "outputs": [],
   "source": [
    "y_array = np.ravel(y)"
   ]
  },
  {
   "cell_type": "markdown",
   "id": "6e039537",
   "metadata": {},
   "source": [
    "__Se adopta una capa oculta con las neuronas calculadas anteriormente__\n",
    "\n",
    "Mostrar la exactitud de todo el conjunto de entrenamiento"
   ]
  },
  {
   "cell_type": "code",
   "execution_count": 10,
   "id": "29643ab6",
   "metadata": {
    "tags": [
     "hide-cell"
    ]
   },
   "outputs": [
    {
     "name": "stdout",
     "output_type": "stream",
     "text": [
      "Exactitud del conjunto de entrenamiento: 1.000\n"
     ]
    }
   ],
   "source": [
    "from sklearn.neural_network import MLPClassifier\n",
    "## Inicialización y creación del objeto clasificador\n",
    "mlp = MLPClassifier(hidden_layer_sizes=(4562), max_iter=10,activation = 'logistic',solver='lbfgs',random_state=1, verbose=True)\n",
    "mlp.fit(X, y_array)\n",
    "print(\"Exactitud del conjunto de entrenamiento: {:.3f}\".format(mlp.score(X, y_array)))"
   ]
  },
  {
   "cell_type": "code",
   "execution_count": null,
   "id": "09488fdf",
   "metadata": {},
   "outputs": [],
   "source": []
  },
  {
   "cell_type": "code",
   "execution_count": null,
   "id": "669c3cab-b107-4fcf-97a6-0a92eb31a485",
   "metadata": {},
   "outputs": [],
   "source": []
  }
 ],
 "metadata": {
  "celltoolbar": "Tags",
  "kernelspec": {
   "display_name": "Python 3 (ipykernel)",
   "language": "python",
   "name": "python3"
  },
  "language_info": {
   "codemirror_mode": {
    "name": "ipython",
    "version": 3
   },
   "file_extension": ".py",
   "mimetype": "text/x-python",
   "name": "python",
   "nbconvert_exporter": "python",
   "pygments_lexer": "ipython3",
   "version": "3.11.5"
  }
 },
 "nbformat": 4,
 "nbformat_minor": 5
}

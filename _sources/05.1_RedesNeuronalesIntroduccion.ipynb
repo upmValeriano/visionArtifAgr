{
 "cells": [
  {
   "cell_type": "markdown",
   "metadata": {},
   "source": [
    "# Redes Neuronales Introducción"
   ]
  },
  {
   "cell_type": "code",
   "execution_count": 1,
   "metadata": {},
   "outputs": [],
   "source": [
    "import pandas as pd\n",
    "from IPython import display\n",
    "import numpy as np"
   ]
  },
  {
   "cell_type": "markdown",
   "metadata": {},
   "source": [
    "## Se carga en memoria un cuaderno con utilidades de presentación"
   ]
  },
  {
   "cell_type": "code",
   "execution_count": 2,
   "metadata": {},
   "outputs": [
    {
     "data": {
      "text/plain": [
       "<Figure size 640x480 with 0 Axes>"
      ]
     },
     "metadata": {},
     "output_type": "display_data"
    },
    {
     "name": "stdout",
     "output_type": "stream",
     "text": [
      "load done!\n"
     ]
    }
   ],
   "source": [
    "run 05.0_Redes_Neuronales_Utilidades.ipynb"
   ]
  },
  {
   "cell_type": "markdown",
   "metadata": {},
   "source": [
    "## Neurona de McCulloch y Pitts\n",
    "\n",
    "{cite:p}`McCulloch_Pitts_1943` propusieron el primer modelo de neurona artificial denominado __TLU__ (Threshold Logic Unit) o LTU (Linear Threshold Unit), unidad de umbral lineal. A esta neurona artificial también se le denomina __Perceptrón__.\n",
    "\n",
    "El modelo parte de $n$ entradas $(x_1, x_2, ..., x_j, ..., x_n)$ a la que se aplica una ponderación lineal más un umbral (que suele denominarse sesgo o bias, $b$):\n",
    "\n",
    "$$z=b+\\displaystyle\\sum_{i=1}^n w_{i}x_i$$\n",
    "\n",
    "A la que se aplica una función de activación no lineal, que en el modelo de McCulloch y Pitts es una función escalonada del tipo \n",
    "\n",
    "$$a=f(z) \\left \\{ \\begin{array}{c} 1 &  z \\ge 0 \\\\ 0 & z <0 \\end{array} \\right .  $$\n",
    "\n",
    "Resultando un modelo con salida digital o binaria. Las entradas $(x_1, x_2, ..., x_j, ..., x_n)$  equivalen a las dendritas, el parámetro $b$ se denomina umbral o bias y la salida  $a$ es el axón. Durante el entrenamiento se compara $a$ con los valores reales que se encuentran en $y$ \n",
    "\n",
    "<img src=\"images/McCulloch-Pitts.png\" width=\"500px\">"
   ]
  },
  {
   "cell_type": "markdown",
   "metadata": {},
   "source": [
    "### Significado y entrenamiento\n",
    "\n",
    "El modelo puede utilizarse como clasificador y es un dispositivo entrenable. En su definición más simple con dos neuronas de entrada resulta\n",
    "\n",
    "$$a= \\left \\{ \\begin{array}{c} 1 &  si & b + w_1x_1 + w_2x_2 \\ge 0 \\\\ 0 & si & b + w_1x_1 + w_2x_2 \\lt 0 \\end{array} \\right .  $$\n",
    "\n",
    "siendo $b + w_1 x_1+w_2 x_2=0 $  una recta que define la región de decisión. Representa un discriminador líneal y está limitado a clasificar conjuntos de datos linealmente separables. \n",
    "\n",
    "El entrenamiento para ajustar los pesos se basa en la __regla de Hebb__: \n",
    "\n",
    " $$ w_i (t+1) = w_i (t)+ \\eta  \\displaystyle\\sum_{r=1}^N (y^r-a^r ) x_i^r $$\n",
    " $$ b (t+1) = b (t)+ \\eta  \\displaystyle\\sum_{r=1}^N (y^r-a^r ) $$\n",
    "\n",
    "Siendo $y^r$ el valor real e $a^r$ el valor estimado que se corresponde con el elemento $r$ del set de entrenamiento. \n",
    "\n",
    "La regla representa el recalculo de los pesos del perceptrón de la época o iteración de entrenamiento $t$ a la $t+1$. En un set de entrenamiento linealmente separable converge en un tiempo finito y con independencia de los pesos de partida, si no están separados linealmente el proceso de entrenamiento oscilará. {cite:p}`minsky1969introduction` demuestran que el perceptrón simple no puede resolver problemas no lineales"
   ]
  },
  {
   "cell_type": "code",
   "execution_count": 3,
   "metadata": {},
   "outputs": [],
   "source": [
    "# Modelo de Neurona Artificial\n",
    "class Perceptron(object):\n",
    "    \"\"\"Clasificador Perceptron Simple.\n",
    "    Parameters\n",
    "    ------------\n",
    "    eta : Ratio de entrenamiento (flotante entre 0.0 y 1.0)\n",
    "    n_iter : Entero con el número de iteraciones o épocas a aplicar al conjunto de entrenamiento.\n",
    "    random_state : Semilla para el generador aleatorio que inicializa los pesos.\n",
    "    Attributes\n",
    "    -----------\n",
    "    w_ : Array-1d con los pesos tras el ajuste.\n",
    "    errors_ : list de números con los errores en cada época.\n",
    "    \"\"\"\n",
    "    def __init__(self, eta=0.01, n_iter=50, random_state=1):\n",
    "        self.eta = eta\n",
    "        self.n_iter = n_iter\n",
    "        self.random_state = random_state\n",
    "\n",
    "    def fit(self, X, y):\n",
    "        \"\"\"Ajuste de los datos de entrenamiento.\n",
    "        Parametros\n",
    "        ----------\n",
    "        X : {array}, shape = [n_samples, n_features]\n",
    "        Vector de entrenamiento, donde n_samples es el número de ejemplos y\n",
    "        n_features es el número de características.\n",
    "        y : array, shape = [n_samples] con los valores Objetivo\n",
    "        Returna\n",
    "        -------\n",
    "        self : objecto\n",
    "        \"\"\"\n",
    "        rgen = np.random.RandomState(self.random_state)\n",
    "        self.w_ = rgen.normal(loc=0.0, scale=0.01, size=1 + X.shape[1])\n",
    "        self.errors_ = []\n",
    "        for _ in range(self.n_iter):\n",
    "            errors = 0\n",
    "            for xi, target in zip(X, y):\n",
    "                update = self.eta * (target - self.predict(xi))  ## Regla de Hebb\n",
    "                self.w_[1:] += update * xi\n",
    "                self.w_[0] += update\n",
    "                errors += int(update != 0.0)\n",
    "            self.errors_.append(errors)\n",
    "        return self\n",
    "\n",
    "    def net_input(self, X):\n",
    "        \"\"\"Calcula el valor de una entrada a la red con la suma de pesos\"\"\"\n",
    "        return np.dot(X, self.w_[1:]) + self.w_[0]\n",
    "\n",
    "    def predict(self, X):\n",
    "        \"\"\"Función de activación que retorna la etiqueta de la clase  despues de la función suma \"\"\"\n",
    "        return np.where(self.net_input(X) >= 0.0, 1, 0)"
   ]
  },
  {
   "cell_type": "markdown",
   "metadata": {},
   "source": [
    "## Primeras aplicaciones del modelo de McCulloch y Pitts. Puerta lógica AND\n",
    "\n",
    "Una de las primeras aplicaciones del modelo es resolver algunas puertas lógicas, como AND o OR. Por ejemplo la tabla de la verdad de la puerta __AND__ es"
   ]
  },
  {
   "cell_type": "code",
   "execution_count": 4,
   "metadata": {},
   "outputs": [
    {
     "data": {
      "text/html": [
       "<div>\n",
       "<style scoped>\n",
       "    .dataframe tbody tr th:only-of-type {\n",
       "        vertical-align: middle;\n",
       "    }\n",
       "\n",
       "    .dataframe tbody tr th {\n",
       "        vertical-align: top;\n",
       "    }\n",
       "\n",
       "    .dataframe thead th {\n",
       "        text-align: right;\n",
       "    }\n",
       "</style>\n",
       "<table border=\"1\" class=\"dataframe\">\n",
       "  <thead>\n",
       "    <tr style=\"text-align: right;\">\n",
       "      <th></th>\n",
       "      <th>x1</th>\n",
       "      <th>x2</th>\n",
       "      <th>AND</th>\n",
       "    </tr>\n",
       "  </thead>\n",
       "  <tbody>\n",
       "    <tr>\n",
       "      <th>0</th>\n",
       "      <td>0</td>\n",
       "      <td>0</td>\n",
       "      <td>0</td>\n",
       "    </tr>\n",
       "    <tr>\n",
       "      <th>1</th>\n",
       "      <td>0</td>\n",
       "      <td>1</td>\n",
       "      <td>0</td>\n",
       "    </tr>\n",
       "    <tr>\n",
       "      <th>2</th>\n",
       "      <td>1</td>\n",
       "      <td>0</td>\n",
       "      <td>0</td>\n",
       "    </tr>\n",
       "    <tr>\n",
       "      <th>3</th>\n",
       "      <td>1</td>\n",
       "      <td>1</td>\n",
       "      <td>1</td>\n",
       "    </tr>\n",
       "  </tbody>\n",
       "</table>\n",
       "</div>"
      ],
      "text/plain": [
       "   x1  x2  AND\n",
       "0   0   0    0\n",
       "1   0   1    0\n",
       "2   1   0    0\n",
       "3   1   1    1"
      ]
     },
     "execution_count": 4,
     "metadata": {},
     "output_type": "execute_result"
    }
   ],
   "source": [
    "cols = ['x1', 'x2', 'AND']\n",
    "puerta_and=[[0,0,0], [0,1,0], [1,0,0], [1,1,1]]\n",
    "df = pd.DataFrame(puerta_and, columns=cols)\n",
    "df.head()"
   ]
  },
  {
   "cell_type": "markdown",
   "metadata": {},
   "source": [
    "__Se puede adoptar una solución basada en la recta de separación__ $x_1+x_2=2$ tomando un valor $1$ si $x_1+x_2\\ge 2$ y en caso contrario $0$\n",
    "\n",
    "<img src=\"images/puerta-and.png\" width=\"500px\">"
   ]
  },
  {
   "cell_type": "markdown",
   "metadata": {},
   "source": [
    "__Aquí vamos a resolverlo entrenando el Perceptron__"
   ]
  },
  {
   "cell_type": "code",
   "execution_count": 5,
   "metadata": {},
   "outputs": [
    {
     "data": {
      "text/plain": [
       "array([-0.03375655,  0.02388244,  0.01471828])"
      ]
     },
     "execution_count": 5,
     "metadata": {},
     "output_type": "execute_result"
    }
   ],
   "source": [
    "X = df.values[:,0:2]\n",
    "y = df.values[:,2]\n",
    "nn = Perceptron(eta=0.01, n_iter=50)\n",
    "nn.fit(X, y)\n",
    "nn.w_"
   ]
  },
  {
   "cell_type": "code",
   "execution_count": 6,
   "metadata": {},
   "outputs": [
    {
     "data": {
      "image/png": "[encoded data removed]",
      "text/plain": [
       "<Figure size 640x480 with 1 Axes>"
      ]
     },
     "metadata": {},
     "output_type": "display_data"
    }
   ],
   "source": [
    "plot_decision_regions(X, y, classifier=nn)\n",
    "plt.xlabel('X')\n",
    "plt.ylabel('Y')\n",
    "plt.legend(loc='upper left')\n",
    "plt.show()"
   ]
  },
  {
   "cell_type": "markdown",
   "metadata": {},
   "source": [
    "## La puerta OR"
   ]
  },
  {
   "cell_type": "code",
   "execution_count": 7,
   "metadata": {},
   "outputs": [
    {
     "data": {
      "text/html": [
       "<div>\n",
       "<style scoped>\n",
       "    .dataframe tbody tr th:only-of-type {\n",
       "        vertical-align: middle;\n",
       "    }\n",
       "\n",
       "    .dataframe tbody tr th {\n",
       "        vertical-align: top;\n",
       "    }\n",
       "\n",
       "    .dataframe thead th {\n",
       "        text-align: right;\n",
       "    }\n",
       "</style>\n",
       "<table border=\"1\" class=\"dataframe\">\n",
       "  <thead>\n",
       "    <tr style=\"text-align: right;\">\n",
       "      <th></th>\n",
       "      <th>x1</th>\n",
       "      <th>x2</th>\n",
       "      <th>OR</th>\n",
       "    </tr>\n",
       "  </thead>\n",
       "  <tbody>\n",
       "    <tr>\n",
       "      <th>0</th>\n",
       "      <td>0</td>\n",
       "      <td>0</td>\n",
       "      <td>0</td>\n",
       "    </tr>\n",
       "    <tr>\n",
       "      <th>1</th>\n",
       "      <td>0</td>\n",
       "      <td>1</td>\n",
       "      <td>1</td>\n",
       "    </tr>\n",
       "    <tr>\n",
       "      <th>2</th>\n",
       "      <td>1</td>\n",
       "      <td>0</td>\n",
       "      <td>1</td>\n",
       "    </tr>\n",
       "    <tr>\n",
       "      <th>3</th>\n",
       "      <td>1</td>\n",
       "      <td>1</td>\n",
       "      <td>1</td>\n",
       "    </tr>\n",
       "  </tbody>\n",
       "</table>\n",
       "</div>"
      ],
      "text/plain": [
       "   x1  x2  OR\n",
       "0   0   0   0\n",
       "1   0   1   1\n",
       "2   1   0   1\n",
       "3   1   1   1"
      ]
     },
     "execution_count": 7,
     "metadata": {},
     "output_type": "execute_result"
    }
   ],
   "source": [
    "cols = ['x1', 'x2', 'OR']\n",
    "puerta_or=[[0,0,0], [0,1,1], [1,0,1], [1,1,1]]\n",
    "df = pd.DataFrame(puerta_or, columns=cols)\n",
    "df.head()"
   ]
  },
  {
   "cell_type": "code",
   "execution_count": 8,
   "metadata": {},
   "outputs": [
    {
     "data": {
      "text/plain": [
       "array([-0.00375655,  0.00388244,  0.00471828])"
      ]
     },
     "execution_count": 8,
     "metadata": {},
     "output_type": "execute_result"
    }
   ],
   "source": [
    "X = df.values[:,0:2]\n",
    "y = df.values[:,2]\n",
    "nn = Perceptron(eta=0.01, n_iter=10)\n",
    "nn.fit(X, y)\n",
    "nn.w_"
   ]
  },
  {
   "cell_type": "code",
   "execution_count": 9,
   "metadata": {},
   "outputs": [
    {
     "data": {
      "image/png": "[encoded data removed]",
      "text/plain": [
       "<Figure size 640x480 with 1 Axes>"
      ]
     },
     "metadata": {},
     "output_type": "display_data"
    }
   ],
   "source": [
    "plot_decision_regions(X, y, classifier=nn)\n",
    "plt.xlabel('X')\n",
    "plt.ylabel('Y')\n",
    "plt.legend(loc='upper left')\n",
    "plt.show()"
   ]
  },
  {
   "cell_type": "markdown",
   "metadata": {},
   "source": [
    "## ¿Y que ocurre con la puerta XOR?"
   ]
  },
  {
   "cell_type": "code",
   "execution_count": 10,
   "metadata": {},
   "outputs": [
    {
     "data": {
      "text/html": [
       "<div>\n",
       "<style scoped>\n",
       "    .dataframe tbody tr th:only-of-type {\n",
       "        vertical-align: middle;\n",
       "    }\n",
       "\n",
       "    .dataframe tbody tr th {\n",
       "        vertical-align: top;\n",
       "    }\n",
       "\n",
       "    .dataframe thead th {\n",
       "        text-align: right;\n",
       "    }\n",
       "</style>\n",
       "<table border=\"1\" class=\"dataframe\">\n",
       "  <thead>\n",
       "    <tr style=\"text-align: right;\">\n",
       "      <th></th>\n",
       "      <th>x1</th>\n",
       "      <th>x2</th>\n",
       "      <th>XOR</th>\n",
       "    </tr>\n",
       "  </thead>\n",
       "  <tbody>\n",
       "    <tr>\n",
       "      <th>0</th>\n",
       "      <td>0</td>\n",
       "      <td>0</td>\n",
       "      <td>0</td>\n",
       "    </tr>\n",
       "    <tr>\n",
       "      <th>1</th>\n",
       "      <td>1</td>\n",
       "      <td>0</td>\n",
       "      <td>1</td>\n",
       "    </tr>\n",
       "    <tr>\n",
       "      <th>2</th>\n",
       "      <td>0</td>\n",
       "      <td>1</td>\n",
       "      <td>1</td>\n",
       "    </tr>\n",
       "    <tr>\n",
       "      <th>3</th>\n",
       "      <td>1</td>\n",
       "      <td>1</td>\n",
       "      <td>0</td>\n",
       "    </tr>\n",
       "  </tbody>\n",
       "</table>\n",
       "</div>"
      ],
      "text/plain": [
       "   x1  x2  XOR\n",
       "0   0   0    0\n",
       "1   1   0    1\n",
       "2   0   1    1\n",
       "3   1   1    0"
      ]
     },
     "execution_count": 10,
     "metadata": {},
     "output_type": "execute_result"
    }
   ],
   "source": [
    "cols = ['x1', 'x2', 'XOR']\n",
    "puerta_xor=[[0,0,0], [1,0,1], [0,1,1], [1,1,0]]\n",
    "df = pd.DataFrame(puerta_xor, columns=cols)\n",
    "df.head()"
   ]
  },
  {
   "cell_type": "code",
   "execution_count": 11,
   "metadata": {},
   "outputs": [
    {
     "data": {
      "text/plain": [
       "array([ 0.00624345, -0.00611756, -0.01528172])"
      ]
     },
     "execution_count": 11,
     "metadata": {},
     "output_type": "execute_result"
    }
   ],
   "source": [
    "X = df.values[:,0:2]\n",
    "y = df.values[:,2]\n",
    "nn = Perceptron(eta=0.01, n_iter=50)\n",
    "nn.fit(X, y)\n",
    "nn.w_"
   ]
  },
  {
   "cell_type": "code",
   "execution_count": 12,
   "metadata": {},
   "outputs": [
    {
     "data": {
      "image/png": "[encoded data removed]",
      "text/plain": [
       "<Figure size 640x480 with 1 Axes>"
      ]
     },
     "metadata": {},
     "output_type": "display_data"
    }
   ],
   "source": [
    "plot_decision_regions(X, y, classifier=nn)\n",
    "plt.xlabel('X')\n",
    "plt.ylabel('Y')\n",
    "plt.legend(loc='upper left')\n",
    "plt.show()"
   ]
  },
  {
   "cell_type": "markdown",
   "metadata": {},
   "source": [
    "__¡No consigue clasificar bien el conjunto, porque no es linealmente separable!__"
   ]
  }
 ],
 "metadata": {
  "kernelspec": {
   "display_name": "Python 3 (ipykernel)",
   "language": "python",
   "name": "python3"
  },
  "language_info": {
   "codemirror_mode": {
    "name": "ipython",
    "version": 3
   },
   "file_extension": ".py",
   "mimetype": "text/x-python",
   "name": "python",
   "nbconvert_exporter": "python",
   "pygments_lexer": "ipython3",
   "version": "3.11.5"
  }
 },
 "nbformat": 4,
 "nbformat_minor": 4
}

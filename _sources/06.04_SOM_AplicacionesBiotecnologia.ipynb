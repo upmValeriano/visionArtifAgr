{
 "cells": [
  {
   "cell_type": "markdown",
   "id": "db6859af-bf8d-4856-87bd-2b280f4f494b",
   "metadata": {},
   "source": [
    "(som:aplicacionesbiotecnologia)=\n",
    "# Aplicaciones en biotecnología\n",
    "\n",
    "## Estudio del _fitness landscape_ de virus HIV\n",
    "\n",
    "+ {cite}`LorenzoRedondo2014`\n",
    "\n",
    "\n",
    ":::{figure-md} markdown-fig.6.04.1\n",
    "<img src=\"./images/som_hiv_1y2.png\" alt=\"fishy\" class=\"bg-primary mb-1\" width=\"600px\">\n",
    "\n",
    "_Fitness landscape_ del HIV-1\n",
    ":::\n",
    "\n",
    "\n",
    "+ Codificación de los datos: los vectores del mapa (neuronas) codifican secuencias de nucleótidos de los virus (HIV-1).\n",
    "\n",
    "+ Mediante entrenamiento a partir de un conjunto de secuencias de las que se conoce su _fitness_ (`recovery`), el SOM relaciona secuencias virales de DNA por similaridad\n",
    "\n",
    "El conocimiento del _fitness_ de estas secuencias permite crear un mapa tridimensional: un _fitness landscape_ experimental.\n",
    "\n",
    "Sobre este _fitness landscape_ se pueden visualizar los caminos evolutivos producidos por mutaciones sucesivas.\n",
    "\n",
    "## Visualización, filtrado y _clustering_ de datos ómicos multidimensionales\n",
    "\n",
    "+ {cite}`Zhang2012` (y referencias dentro)\n",
    "\n",
    "Las ciencias _ómicas_ revelan una cantidad masiva de información por las _high-throughput technologies_, en particular _multi-layer (omics) data_.\n",
    "\n",
    "* _omics-data_: puntos en el espacio vectorial $\\mathbb{R}^N$.\n",
    "\n",
    "Cuánto más similar es la actividad de diferentes genes, más cercanos (geométricamente) están los puntos que los representan: _nubes_ de datos.\n",
    "\n",
    "Estos datos sirven para el estudio de:\n",
    "* estudio global de constituyentes moleculares\n",
    "* estudio de mecanismos biológicos: comportamientos emergentes en sistemas biológicos\n",
    "    * _Systems biology_: modelizar sistemas biológicos _in silico_\n"
   ]
  },
  {
   "cell_type": "code",
   "execution_count": null,
   "id": "26d32176-e06d-493f-867b-32502625e236",
   "metadata": {},
   "outputs": [],
   "source": []
  }
 ],
 "metadata": {
  "kernelspec": {
   "display_name": "Python 3 (ipykernel)",
   "language": "python",
   "name": "python3"
  },
  "language_info": {
   "codemirror_mode": {
    "name": "ipython",
    "version": 3
   },
   "file_extension": ".py",
   "mimetype": "text/x-python",
   "name": "python",
   "nbconvert_exporter": "python",
   "pygments_lexer": "ipython3",
   "version": "3.10.6"
  }
 },
 "nbformat": 4,
 "nbformat_minor": 5
}

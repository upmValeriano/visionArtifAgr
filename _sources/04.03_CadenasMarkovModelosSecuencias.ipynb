{
 "cells": [
  {
   "cell_type": "markdown",
   "id": "falling-representation",
   "metadata": {},
   "source": [
    "# Cadenas de Markov como modelos de secuencias\n",
    "\n",
    "> Ejemplo con secuencias biológicas\n",
    "\n",
    "+ Una secuencia biológica es una __sucesión__ de elementos (bases, aminoácidos, etc) sacados de un cierto __alfabeto__.\n",
    "\n",
    "\n",
    "+ Supongamos que tenemos un alfabeto con $r$ “letras”.\n",
    "\n",
    "\n",
    "+ Proteı́nas: secuencias generadas a partir de 20 aminoácidos.\n",
    "\n",
    "\n",
    "$$\n",
    "\\{R, K , D, E , Q, S, C , H, N, T , W , Y , M, A, I , L, F , V , P, G\\}\n",
    "$$\n",
    "\n",
    "\n",
    ":::{figure-md} markdown-fig.4.03.1\n",
    "<img src=\"./images/markov_secuencias_1.png\" width=\"600px\">\n",
    "\n",
    "Secuencia de aminoácidos\n",
    ":::"
   ]
  },
  {
   "cell_type": "markdown",
   "id": "interior-muscle",
   "metadata": {},
   "source": [
    "> En general:\n",
    "\n",
    "+ Suponiendo que la probabilidad de observar una letra en una posición __sólo depende de la posición anterior__ (hipótesis Markoviana) la generación de una secuencia puede modelizarse con una cadena de Markov.\n",
    "+ Cada una de las letras del alfabeto serı́a un __estado__ de la cadena de Markov.\n",
    "+ Dada una lista de secuencias relacionadas, podemos calcular las frecuencias las $r^2$ transiciones posibles entre las letras.\n",
    "+ Podemos calcular también la probabilidad de observar una secuencia dada o determinar la __secuencia más verosı́mil__.\n",
    "+ Para cadenas largas, podemos comparar las distribuciones de probabilidad predichas por el modelo (__vector de equilibrio__) con los datos.\n"
   ]
  },
  {
   "cell_type": "code",
   "execution_count": null,
   "id": "reserved-prophet",
   "metadata": {},
   "outputs": [],
   "source": []
  }
 ],
 "metadata": {
  "kernelspec": {
   "display_name": "Python 3 (ipykernel)",
   "language": "python",
   "name": "python3"
  },
  "language_info": {
   "codemirror_mode": {
    "name": "ipython",
    "version": 3
   },
   "file_extension": ".py",
   "mimetype": "text/x-python",
   "name": "python",
   "nbconvert_exporter": "python",
   "pygments_lexer": "ipython3",
   "version": "3.10.6"
  }
 },
 "nbformat": 4,
 "nbformat_minor": 5
}

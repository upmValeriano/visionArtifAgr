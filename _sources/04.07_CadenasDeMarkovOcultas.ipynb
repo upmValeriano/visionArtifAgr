{
 "cells": [
  {
   "cell_type": "markdown",
   "id": "italian-forth",
   "metadata": {},
   "source": [
    "# Práctica 2: predicción de estructuras secundarias en proteínas\n",
    "\n",
    "En esta parte de la práctica ajustaremos un modelo de Markov oculto para predecir las\n",
    "estructuras secundarias con la misma base de datos utilizada en la sección anterior.\n",
    "\n"
   ]
  },
  {
   "cell_type": "code",
   "execution_count": 1,
   "id": "theoretical-fields",
   "metadata": {},
   "outputs": [],
   "source": [
    "# Import required Libraries\n",
    "import numpy as np\n",
    "import pandas as pd\n",
    "import os\n",
    "import matplotlib.pyplot as plt"
   ]
  },
  {
   "cell_type": "markdown",
   "id": "infinite-shoot",
   "metadata": {},
   "source": [
    "\n",
    "## Ejercicio 1. Conjunto de datos y definiciones. \n",
    "\n",
    "Carga el archivo `prots-L30.txt`. \n",
    "\n",
    "Recuerda que las columnas del “data frame” asociadas a secuencias y estructuras han de ser de tipo carácter. \n",
    "\n",
    "Define el alfabeto de aminoácidos (RKDEQSCHNTWYMAILFVPG) y calcula: \n",
    "   1. la longitud del alfabeto;\n",
    "   2. el número de instancias;\n",
    "   3. la longitud de cada secuencia."
   ]
  },
  {
   "cell_type": "code",
   "execution_count": 2,
   "id": "entertaining-timing",
   "metadata": {
    "tags": [
     "hide-cell"
    ]
   },
   "outputs": [
    {
     "name": "stdout",
     "output_type": "stream",
     "text": [
      "Longitud del alfabeto = 20\n",
      "Número de secuencias = 174\n",
      "Longitud de las secuencias = 30\n"
     ]
    }
   ],
   "source": [
    "dataFolder = './data/'\n",
    "dataFile = 'prots-L30.txt'\n",
    "dataFilepath = os.path.join(dataFolder,dataFile)\n",
    "dataFilepath\n",
    "\n",
    "df = pd.read_csv(dataFilepath)\n",
    "df.head()\n",
    "\n",
    "alfabeto=[ele for ele in \"RKDEQSCHNTWYMAILFVPG\"]\n",
    "\n",
    "print(\"Longitud del alfabeto =\", len(alfabeto))\n",
    "print(\"Número de secuencias =\", len(df['seq']))\n",
    "print(\"Longitud de las secuencias =\", len(df['seq'][0]))"
   ]
  },
  {
   "cell_type": "markdown",
   "id": "owned-nursery",
   "metadata": {},
   "source": [
    "## Ejemplo 1. Lista de estructuras. \n",
    "\n",
    "Las estructuras que aparecen en el conjunto de datos son\n",
    "de tres tipos: \n",
    "+ C (“coil”), \n",
    "+ E (hojas), \n",
    "+ H (hélices). \n",
    "\n",
    "Define una lista con las tres estructuras, en orden alfabético, y almacena en la variable nsta el número de estructuras que tenemos en este conjunto de datos."
   ]
  },
  {
   "cell_type": "code",
   "execution_count": 3,
   "id": "conscious-southeast",
   "metadata": {},
   "outputs": [
    {
     "data": {
      "text/plain": [
       "(['C', 'E', 'H'], 3)"
      ]
     },
     "execution_count": 3,
     "metadata": {},
     "output_type": "execute_result"
    }
   ],
   "source": [
    "strlist = [ ele for ele in \"CEH\"]\n",
    "nsta = len(strlist)\n",
    "strlist, nsta"
   ]
  },
  {
   "cell_type": "markdown",
   "id": "utility-mauritius",
   "metadata": {},
   "source": [
    "## Ejercicio 2. Conjunto de entrenamiento y validación. \n",
    "\n",
    "Define dos “data frames”, llamados `dftrain` y `dftest` que contengan el conjunto de entrenamiento y el de validación. \n",
    "\n",
    "Reserva un 70 % de las instancias para entrenamiento, y calcula los tamaños `ntrain` y `ntest`\n",
    "de cada conjunto."
   ]
  },
  {
   "cell_type": "code",
   "execution_count": 4,
   "id": "applied-canyon",
   "metadata": {
    "tags": [
     "hide-cell"
    ]
   },
   "outputs": [
    {
     "name": "stdout",
     "output_type": "stream",
     "text": [
      "Número instancias en train: 121\n",
      "Número instancias en test: 53\n"
     ]
    },
    {
     "data": {
      "text/html": [
       "<div>\n",
       "<style scoped>\n",
       "    .dataframe tbody tr th:only-of-type {\n",
       "        vertical-align: middle;\n",
       "    }\n",
       "\n",
       "    .dataframe tbody tr th {\n",
       "        vertical-align: top;\n",
       "    }\n",
       "\n",
       "    .dataframe thead th {\n",
       "        text-align: right;\n",
       "    }\n",
       "</style>\n",
       "<table border=\"1\" class=\"dataframe\">\n",
       "  <thead>\n",
       "    <tr style=\"text-align: right;\">\n",
       "      <th></th>\n",
       "      <th>pdb_id</th>\n",
       "      <th>seq</th>\n",
       "      <th>sst3</th>\n",
       "      <th>len</th>\n",
       "    </tr>\n",
       "  </thead>\n",
       "  <tbody>\n",
       "    <tr>\n",
       "      <th>167</th>\n",
       "      <td>5ZNF</td>\n",
       "      <td>KTYQCQYCEYRSADSSNLKTHIKTKHSKEK</td>\n",
       "      <td>CCEECCCCCCEECCHHHHHHHHHHHCCCCC</td>\n",
       "      <td>30</td>\n",
       "    </tr>\n",
       "    <tr>\n",
       "      <th>98</th>\n",
       "      <td>2OT8</td>\n",
       "      <td>ERPAQNEKRKEKNIKRGGNRFEPYANPTKR</td>\n",
       "      <td>CCCCCCCCCCCCCCCCCCCCCCCCCCCCCC</td>\n",
       "      <td>30</td>\n",
       "    </tr>\n",
       "    <tr>\n",
       "      <th>145</th>\n",
       "      <td>4NIB</td>\n",
       "      <td>FVNQHLCGSHLVEALYLVCAERAFFYTPKT</td>\n",
       "      <td>CCCCCCCCHHHHHHHHHHHHHHCECCCCCC</td>\n",
       "      <td>30</td>\n",
       "    </tr>\n",
       "    <tr>\n",
       "      <th>166</th>\n",
       "      <td>5XZX</td>\n",
       "      <td>GSSPEGGEDSDREDGNYCPPVKRERTSSLT</td>\n",
       "      <td>CCCCCCCCCCCCCCCCCCCCCCCCCCCCCC</td>\n",
       "      <td>30</td>\n",
       "    </tr>\n",
       "    <tr>\n",
       "      <th>112</th>\n",
       "      <td>3CM8</td>\n",
       "      <td>GPLGSMDVNPTLLFLKVPAQNAISTTFPYT</td>\n",
       "      <td>CCCCCCEECHHHHHHCCCCCCCCCCCCCCC</td>\n",
       "      <td>30</td>\n",
       "    </tr>\n",
       "  </tbody>\n",
       "</table>\n",
       "</div>"
      ],
      "text/plain": [
       "    pdb_id                             seq                            sst3  \\\n",
       "167   5ZNF  KTYQCQYCEYRSADSSNLKTHIKTKHSKEK  CCEECCCCCCEECCHHHHHHHHHHHCCCCC   \n",
       "98    2OT8  ERPAQNEKRKEKNIKRGGNRFEPYANPTKR  CCCCCCCCCCCCCCCCCCCCCCCCCCCCCC   \n",
       "145   4NIB  FVNQHLCGSHLVEALYLVCAERAFFYTPKT  CCCCCCCCHHHHHHHHHHHHHHCECCCCCC   \n",
       "166   5XZX  GSSPEGGEDSDREDGNYCPPVKRERTSSLT  CCCCCCCCCCCCCCCCCCCCCCCCCCCCCC   \n",
       "112   3CM8  GPLGSMDVNPTLLFLKVPAQNAISTTFPYT  CCCCCCEECHHHHHHCCCCCCCCCCCCCCC   \n",
       "\n",
       "     len  \n",
       "167   30  \n",
       "98    30  \n",
       "145   30  \n",
       "166   30  \n",
       "112   30  "
      ]
     },
     "execution_count": 4,
     "metadata": {},
     "output_type": "execute_result"
    }
   ],
   "source": [
    "from sklearn.model_selection import train_test_split\n",
    "\n",
    "dftrain, dftest = train_test_split(df, test_size=0.3,random_state=2)\n",
    "ntrain = dftrain.shape[0]\n",
    "ntest = dftest.shape[0]\n",
    "print('Número instancias en train: {}\\nNúmero instancias en test: {}'.format(ntrain,ntest))\n",
    "dftrain.head()"
   ]
  },
  {
   "cell_type": "markdown",
   "id": "hydraulic-darwin",
   "metadata": {},
   "source": [
    "## Ejemplo 2. Obtención de los aminoácidos asociados a la estructura C en la primera secuencia.\n",
    "\n",
    "Considera la primera secuencia del conjunto de entrenamiento, y su estructura secundaria\n",
    "asociada. \n",
    "\n",
    "Encuentra la lista de aminoácidos que tienen la estructura C y almacena el resultado en la variable `aasubset`. \n",
    "\n",
    "Calcula la longitud de esta lista (`laasubset`)."
   ]
  },
  {
   "cell_type": "code",
   "execution_count": 5,
   "id": "iraqi-princess",
   "metadata": {},
   "outputs": [
    {
     "data": {
      "text/plain": [
       "pdb_id                              5ZNF\n",
       "seq       KTYQCQYCEYRSADSSNLKTHIKTKHSKEK\n",
       "sst3      CCEECCCCCCEECCHHHHHHHHHHHCCCCC\n",
       "len                                   30\n",
       "Name: 167, dtype: object"
      ]
     },
     "execution_count": 5,
     "metadata": {},
     "output_type": "execute_result"
    }
   ],
   "source": [
    "primeraInstanciaEntrenamiento = dftrain.iloc[0,:]\n",
    "primeraInstanciaEntrenamiento"
   ]
  },
  {
   "cell_type": "code",
   "execution_count": 6,
   "id": "dutch-courtesy",
   "metadata": {},
   "outputs": [
    {
     "data": {
      "text/plain": [
       "'KTYQCQYCEYRSADSSNLKTHIKTKHSKEK'"
      ]
     },
     "execution_count": 6,
     "metadata": {},
     "output_type": "execute_result"
    }
   ],
   "source": [
    "primeraSecuencia = primeraInstanciaEntrenamiento['seq']\n",
    "primeraSecuencia"
   ]
  },
  {
   "cell_type": "code",
   "execution_count": 7,
   "id": "expired-baseline",
   "metadata": {},
   "outputs": [
    {
     "data": {
      "text/plain": [
       "'CCEECCCCCCEECCHHHHHHHHHHHCCCCC'"
      ]
     },
     "execution_count": 7,
     "metadata": {},
     "output_type": "execute_result"
    }
   ],
   "source": [
    "primeraEstSecundaria = primeraInstanciaEntrenamiento['sst3']\n",
    "primeraEstSecundaria"
   ]
  },
  {
   "cell_type": "code",
   "execution_count": 8,
   "id": "dense-courtesy",
   "metadata": {},
   "outputs": [
    {
     "data": {
      "text/plain": [
       "[0, 1, 4, 5, 6, 7, 8, 9, 12, 13, 25, 26, 27, 28, 29]"
      ]
     },
     "execution_count": 8,
     "metadata": {},
     "output_type": "execute_result"
    }
   ],
   "source": [
    "posicionesC = []\n",
    "for posicion,letra in enumerate(primeraEstSecundaria):\n",
    "    if letra =='C':\n",
    "        posicionesC.append(posicion)\n",
    "posicionesC"
   ]
  },
  {
   "cell_type": "code",
   "execution_count": 9,
   "id": "surface-constitution",
   "metadata": {},
   "outputs": [
    {
     "name": "stdout",
     "output_type": "stream",
     "text": [
      "['K', 'T', 'C', 'Q', 'Y', 'C', 'E', 'Y', 'A', 'D', 'H', 'S', 'K', 'E', 'K'] 15\n"
     ]
    }
   ],
   "source": [
    "aasubset = []\n",
    "for pos in posicionesC:\n",
    "    AA = primeraSecuencia[pos]\n",
    "    aasubset.append(AA)\n",
    "laasubset = len(aasubset)\n",
    "print(aasubset,laasubset)"
   ]
  },
  {
   "cell_type": "code",
   "execution_count": 10,
   "id": "broadband-delivery",
   "metadata": {},
   "outputs": [
    {
     "data": {
      "text/plain": [
       "(['E', 'S', 'C', 'H', 'A', 'K', 'T', 'Y', 'Q', 'D'], 10)"
      ]
     },
     "execution_count": 10,
     "metadata": {},
     "output_type": "execute_result"
    }
   ],
   "source": [
    "# sin repeticiones\n",
    "aasubset = list(set(aasubset))\n",
    "laasubset = len(aasubset)\n",
    "aasubset,laasubset"
   ]
  },
  {
   "cell_type": "markdown",
   "id": "representative-rendering",
   "metadata": {},
   "source": [
    "## Ejercicio 3. Frecuencias de aparición de los aminoácidos asociados a la estructura C en la primera secuencia. \n",
    "\n",
    "Define una matriz `frecs` con una fila y un número de columnas igual al tamaño\n",
    "del alfabeto. \n",
    "\n",
    "Etiqueta las columnas para mantener el mismo\n",
    "orden de aminoácidos que en la lista que define el alfabeto (RKDEQSCHNTWYMAILFVPG).\n",
    "\n",
    "Almacena en este vector las frecuencias de cada aminoácido en la primera secuencia."
   ]
  },
  {
   "cell_type": "code",
   "execution_count": 11,
   "id": "ranking-worry",
   "metadata": {
    "tags": [
     "hide-cell"
    ]
   },
   "outputs": [
    {
     "name": "stdout",
     "output_type": "stream",
     "text": [
      "Suma de frecuencias: 15\n"
     ]
    },
    {
     "data": {
      "text/html": [
       "<div>\n",
       "<style scoped>\n",
       "    .dataframe tbody tr th:only-of-type {\n",
       "        vertical-align: middle;\n",
       "    }\n",
       "\n",
       "    .dataframe tbody tr th {\n",
       "        vertical-align: top;\n",
       "    }\n",
       "\n",
       "    .dataframe thead th {\n",
       "        text-align: right;\n",
       "    }\n",
       "</style>\n",
       "<table border=\"1\" class=\"dataframe\">\n",
       "  <thead>\n",
       "    <tr style=\"text-align: right;\">\n",
       "      <th></th>\n",
       "      <th>R</th>\n",
       "      <th>K</th>\n",
       "      <th>D</th>\n",
       "      <th>E</th>\n",
       "      <th>Q</th>\n",
       "      <th>S</th>\n",
       "      <th>C</th>\n",
       "      <th>H</th>\n",
       "      <th>N</th>\n",
       "      <th>T</th>\n",
       "      <th>W</th>\n",
       "      <th>Y</th>\n",
       "      <th>M</th>\n",
       "      <th>A</th>\n",
       "      <th>I</th>\n",
       "      <th>L</th>\n",
       "      <th>F</th>\n",
       "      <th>V</th>\n",
       "      <th>P</th>\n",
       "      <th>G</th>\n",
       "    </tr>\n",
       "  </thead>\n",
       "  <tbody>\n",
       "    <tr>\n",
       "      <th>Frecuencias</th>\n",
       "      <td>0</td>\n",
       "      <td>3</td>\n",
       "      <td>1</td>\n",
       "      <td>2</td>\n",
       "      <td>1</td>\n",
       "      <td>1</td>\n",
       "      <td>2</td>\n",
       "      <td>1</td>\n",
       "      <td>0</td>\n",
       "      <td>1</td>\n",
       "      <td>0</td>\n",
       "      <td>2</td>\n",
       "      <td>0</td>\n",
       "      <td>1</td>\n",
       "      <td>0</td>\n",
       "      <td>0</td>\n",
       "      <td>0</td>\n",
       "      <td>0</td>\n",
       "      <td>0</td>\n",
       "      <td>0</td>\n",
       "    </tr>\n",
       "  </tbody>\n",
       "</table>\n",
       "</div>"
      ],
      "text/plain": [
       "             R  K  D  E  Q  S  C  H  N  T  W  Y  M  A  I  L  F  V  P  G\n",
       "Frecuencias  0  3  1  2  1  1  2  1  0  1  0  2  0  1  0  0  0  0  0  0"
      ]
     },
     "execution_count": 11,
     "metadata": {},
     "output_type": "execute_result"
    }
   ],
   "source": [
    "frecs = pd.DataFrame(0,index=['Frecuencias'],columns=alfabeto)\n",
    "frecs\n",
    "\n",
    "for posicion,letra in enumerate(primeraEstSecundaria):\n",
    "    if letra =='C':\n",
    "        # buscamos el AA\n",
    "        AA = primeraSecuencia[posicion]\n",
    "        # actualizamos la tabla\n",
    "        frecs.loc['Frecuencias',AA]+=1\n",
    "\n",
    "print('Suma de frecuencias: {}'.format(frecs.sum().sum()))\n",
    "frecs"
   ]
  },
  {
   "cell_type": "markdown",
   "id": "organic-fashion",
   "metadata": {},
   "source": [
    "## Ejercicio 4. Frecuencias absolutas de los aminoácidos asociados a la estructura C. \n",
    "\n",
    "Reutiliza el código del ejercicio anterior para calcular las frecuencias absolutas de los aminoácidos asociados a una estructura tipo C en el conjunto de entrenamiento."
   ]
  },
  {
   "cell_type": "code",
   "execution_count": 12,
   "id": "suspended-cathedral",
   "metadata": {
    "tags": [
     "hide-cell"
    ]
   },
   "outputs": [
    {
     "data": {
      "text/html": [
       "<div>\n",
       "<style scoped>\n",
       "    .dataframe tbody tr th:only-of-type {\n",
       "        vertical-align: middle;\n",
       "    }\n",
       "\n",
       "    .dataframe tbody tr th {\n",
       "        vertical-align: top;\n",
       "    }\n",
       "\n",
       "    .dataframe thead th {\n",
       "        text-align: right;\n",
       "    }\n",
       "</style>\n",
       "<table border=\"1\" class=\"dataframe\">\n",
       "  <thead>\n",
       "    <tr style=\"text-align: right;\">\n",
       "      <th></th>\n",
       "      <th>R</th>\n",
       "      <th>K</th>\n",
       "      <th>D</th>\n",
       "      <th>E</th>\n",
       "      <th>Q</th>\n",
       "      <th>S</th>\n",
       "      <th>C</th>\n",
       "      <th>H</th>\n",
       "      <th>N</th>\n",
       "      <th>T</th>\n",
       "      <th>W</th>\n",
       "      <th>Y</th>\n",
       "      <th>M</th>\n",
       "      <th>A</th>\n",
       "      <th>I</th>\n",
       "      <th>L</th>\n",
       "      <th>F</th>\n",
       "      <th>V</th>\n",
       "      <th>P</th>\n",
       "      <th>G</th>\n",
       "    </tr>\n",
       "  </thead>\n",
       "  <tbody>\n",
       "    <tr>\n",
       "      <th>Frecuencias</th>\n",
       "      <td>105</td>\n",
       "      <td>151</td>\n",
       "      <td>73</td>\n",
       "      <td>102</td>\n",
       "      <td>67</td>\n",
       "      <td>127</td>\n",
       "      <td>175</td>\n",
       "      <td>46</td>\n",
       "      <td>83</td>\n",
       "      <td>134</td>\n",
       "      <td>22</td>\n",
       "      <td>59</td>\n",
       "      <td>23</td>\n",
       "      <td>129</td>\n",
       "      <td>83</td>\n",
       "      <td>91</td>\n",
       "      <td>77</td>\n",
       "      <td>80</td>\n",
       "      <td>184</td>\n",
       "      <td>212</td>\n",
       "    </tr>\n",
       "  </tbody>\n",
       "</table>\n",
       "</div>"
      ],
      "text/plain": [
       "               R    K   D    E   Q    S    C   H   N    T   W   Y   M    A  \\\n",
       "Frecuencias  105  151  73  102  67  127  175  46  83  134  22  59  23  129   \n",
       "\n",
       "              I   L   F   V    P    G  \n",
       "Frecuencias  83  91  77  80  184  212  "
      ]
     },
     "execution_count": 12,
     "metadata": {},
     "output_type": "execute_result"
    }
   ],
   "source": [
    "numInstancias = dftrain.shape[0]\n",
    "\n",
    "frecsAbsolutas = pd.DataFrame(0,index=['Frecuencias'],columns=alfabeto)\n",
    "\n",
    "for ninst in range(numInstancias):\n",
    "    instancia = dftrain.iloc[ninst,:]\n",
    "    secuencia = instancia['seq']\n",
    "    est2 = instancia['sst3']\n",
    "    for posicion,letra in enumerate(est2):\n",
    "        if letra =='C':\n",
    "            # buscamos el AA\n",
    "            AA = secuencia[posicion]\n",
    "            # actualizamos la tabla\n",
    "            frecsAbsolutas.loc['Frecuencias',AA]+=1\n",
    "frecsAbsolutas"
   ]
  },
  {
   "cell_type": "markdown",
   "id": "infrared-lancaster",
   "metadata": {},
   "source": [
    "## Ejercicio 5. Matriz de emisión. \n",
    "\n",
    "Repite el ejercicio 4 para las otras dos estructuras. \n",
    "\n",
    "Almacena las frecuencias en una matriz con 3 filas y 20 columnas, utilizando la ordenación de aminoácidos definida en el alfabeto y el orden alfabético en las estructuras. "
   ]
  },
  {
   "cell_type": "code",
   "execution_count": 13,
   "id": "stable-westminster",
   "metadata": {
    "tags": [
     "hide-cell"
    ]
   },
   "outputs": [
    {
     "data": {
      "text/html": [
       "<div>\n",
       "<style scoped>\n",
       "    .dataframe tbody tr th:only-of-type {\n",
       "        vertical-align: middle;\n",
       "    }\n",
       "\n",
       "    .dataframe tbody tr th {\n",
       "        vertical-align: top;\n",
       "    }\n",
       "\n",
       "    .dataframe thead th {\n",
       "        text-align: right;\n",
       "    }\n",
       "</style>\n",
       "<table border=\"1\" class=\"dataframe\">\n",
       "  <thead>\n",
       "    <tr style=\"text-align: right;\">\n",
       "      <th></th>\n",
       "      <th>R</th>\n",
       "      <th>K</th>\n",
       "      <th>D</th>\n",
       "      <th>E</th>\n",
       "      <th>Q</th>\n",
       "      <th>S</th>\n",
       "      <th>C</th>\n",
       "      <th>H</th>\n",
       "      <th>N</th>\n",
       "      <th>T</th>\n",
       "      <th>W</th>\n",
       "      <th>Y</th>\n",
       "      <th>M</th>\n",
       "      <th>A</th>\n",
       "      <th>I</th>\n",
       "      <th>L</th>\n",
       "      <th>F</th>\n",
       "      <th>V</th>\n",
       "      <th>P</th>\n",
       "      <th>G</th>\n",
       "    </tr>\n",
       "  </thead>\n",
       "  <tbody>\n",
       "    <tr>\n",
       "      <th>C</th>\n",
       "      <td>105</td>\n",
       "      <td>151</td>\n",
       "      <td>73</td>\n",
       "      <td>102</td>\n",
       "      <td>67</td>\n",
       "      <td>127</td>\n",
       "      <td>175</td>\n",
       "      <td>46</td>\n",
       "      <td>83</td>\n",
       "      <td>134</td>\n",
       "      <td>22</td>\n",
       "      <td>59</td>\n",
       "      <td>23</td>\n",
       "      <td>129</td>\n",
       "      <td>83</td>\n",
       "      <td>91</td>\n",
       "      <td>77</td>\n",
       "      <td>80</td>\n",
       "      <td>184</td>\n",
       "      <td>212</td>\n",
       "    </tr>\n",
       "    <tr>\n",
       "      <th>E</th>\n",
       "      <td>41</td>\n",
       "      <td>12</td>\n",
       "      <td>6</td>\n",
       "      <td>8</td>\n",
       "      <td>12</td>\n",
       "      <td>17</td>\n",
       "      <td>84</td>\n",
       "      <td>5</td>\n",
       "      <td>4</td>\n",
       "      <td>36</td>\n",
       "      <td>18</td>\n",
       "      <td>58</td>\n",
       "      <td>2</td>\n",
       "      <td>34</td>\n",
       "      <td>28</td>\n",
       "      <td>16</td>\n",
       "      <td>36</td>\n",
       "      <td>22</td>\n",
       "      <td>9</td>\n",
       "      <td>18</td>\n",
       "    </tr>\n",
       "    <tr>\n",
       "      <th>H</th>\n",
       "      <td>51</td>\n",
       "      <td>53</td>\n",
       "      <td>36</td>\n",
       "      <td>95</td>\n",
       "      <td>37</td>\n",
       "      <td>64</td>\n",
       "      <td>49</td>\n",
       "      <td>44</td>\n",
       "      <td>27</td>\n",
       "      <td>32</td>\n",
       "      <td>20</td>\n",
       "      <td>50</td>\n",
       "      <td>18</td>\n",
       "      <td>126</td>\n",
       "      <td>55</td>\n",
       "      <td>183</td>\n",
       "      <td>32</td>\n",
       "      <td>100</td>\n",
       "      <td>12</td>\n",
       "      <td>57</td>\n",
       "    </tr>\n",
       "  </tbody>\n",
       "</table>\n",
       "</div>"
      ],
      "text/plain": [
       "     R    K   D    E   Q    S    C   H   N    T   W   Y   M    A   I    L   F  \\\n",
       "C  105  151  73  102  67  127  175  46  83  134  22  59  23  129  83   91  77   \n",
       "E   41   12   6    8  12   17   84   5   4   36  18  58   2   34  28   16  36   \n",
       "H   51   53  36   95  37   64   49  44  27   32  20  50  18  126  55  183  32   \n",
       "\n",
       "     V    P    G  \n",
       "C   80  184  212  \n",
       "E   22    9   18  \n",
       "H  100   12   57  "
      ]
     },
     "execution_count": 13,
     "metadata": {},
     "output_type": "execute_result"
    }
   ],
   "source": [
    "todasFrecsAbsolutas = pd.DataFrame(0,index=strlist,columns=alfabeto)\n",
    "todasFrecsAbsolutas\n",
    "\n",
    "for stru in strlist:\n",
    "    for ninst in range(numInstancias):\n",
    "        instancia = dftrain.iloc[ninst,:]\n",
    "        secuencia = instancia['seq']\n",
    "        est2 = instancia['sst3']\n",
    "        for posicion,letra in enumerate(est2):\n",
    "            if letra ==stru:\n",
    "                # buscamos el AA\n",
    "                AA = secuencia[posicion]\n",
    "                # actualizamos la tabla\n",
    "                todasFrecsAbsolutas.loc[stru,AA]+=1\n",
    "todasFrecsAbsolutas"
   ]
  },
  {
   "cell_type": "markdown",
   "id": "italic-philadelphia",
   "metadata": {},
   "source": [
    "Comprueba que la suma de frecuencias coincide con los datos que estamos usando."
   ]
  },
  {
   "cell_type": "code",
   "execution_count": 14,
   "id": "silver-egyptian",
   "metadata": {
    "tags": [
     "hide-cell"
    ]
   },
   "outputs": [
    {
     "name": "stdout",
     "output_type": "stream",
     "text": [
      "Suma frecuencias absolutas: 3630\n",
      "Suma elementos en datos: 3630\n"
     ]
    }
   ],
   "source": [
    "print('Suma frecuencias absolutas: {}'.format(todasFrecsAbsolutas.sum().sum()))\n",
    "print('Suma elementos en datos: {}'.format(dftrain.shape[0]*len(dftrain['seq'].iloc[0])))"
   ]
  },
  {
   "cell_type": "markdown",
   "id": "young-california",
   "metadata": {},
   "source": [
    "Transforma frecuencias absolutas en relativas para obtener una matriz estocástica."
   ]
  },
  {
   "cell_type": "code",
   "execution_count": 15,
   "id": "other-entrepreneur",
   "metadata": {
    "tags": [
     "hide-cell"
    ]
   },
   "outputs": [
    {
     "data": {
      "text/html": [
       "<div>\n",
       "<style scoped>\n",
       "    .dataframe tbody tr th:only-of-type {\n",
       "        vertical-align: middle;\n",
       "    }\n",
       "\n",
       "    .dataframe tbody tr th {\n",
       "        vertical-align: top;\n",
       "    }\n",
       "\n",
       "    .dataframe thead th {\n",
       "        text-align: right;\n",
       "    }\n",
       "</style>\n",
       "<table border=\"1\" class=\"dataframe\">\n",
       "  <thead>\n",
       "    <tr style=\"text-align: right;\">\n",
       "      <th></th>\n",
       "      <th>R</th>\n",
       "      <th>K</th>\n",
       "      <th>D</th>\n",
       "      <th>E</th>\n",
       "      <th>Q</th>\n",
       "      <th>S</th>\n",
       "      <th>C</th>\n",
       "      <th>H</th>\n",
       "      <th>N</th>\n",
       "      <th>T</th>\n",
       "      <th>W</th>\n",
       "      <th>Y</th>\n",
       "      <th>M</th>\n",
       "      <th>A</th>\n",
       "      <th>I</th>\n",
       "      <th>L</th>\n",
       "      <th>F</th>\n",
       "      <th>V</th>\n",
       "      <th>P</th>\n",
       "      <th>G</th>\n",
       "    </tr>\n",
       "  </thead>\n",
       "  <tbody>\n",
       "    <tr>\n",
       "      <th>C</th>\n",
       "      <td>0.051903</td>\n",
       "      <td>0.074642</td>\n",
       "      <td>0.036085</td>\n",
       "      <td>0.050420</td>\n",
       "      <td>0.033119</td>\n",
       "      <td>0.062778</td>\n",
       "      <td>0.086505</td>\n",
       "      <td>0.022739</td>\n",
       "      <td>0.041028</td>\n",
       "      <td>0.066238</td>\n",
       "      <td>0.010875</td>\n",
       "      <td>0.029165</td>\n",
       "      <td>0.011369</td>\n",
       "      <td>0.063767</td>\n",
       "      <td>0.041028</td>\n",
       "      <td>0.044983</td>\n",
       "      <td>0.038062</td>\n",
       "      <td>0.039545</td>\n",
       "      <td>0.090954</td>\n",
       "      <td>0.104795</td>\n",
       "    </tr>\n",
       "    <tr>\n",
       "      <th>E</th>\n",
       "      <td>0.087983</td>\n",
       "      <td>0.025751</td>\n",
       "      <td>0.012876</td>\n",
       "      <td>0.017167</td>\n",
       "      <td>0.025751</td>\n",
       "      <td>0.036481</td>\n",
       "      <td>0.180258</td>\n",
       "      <td>0.010730</td>\n",
       "      <td>0.008584</td>\n",
       "      <td>0.077253</td>\n",
       "      <td>0.038627</td>\n",
       "      <td>0.124464</td>\n",
       "      <td>0.004292</td>\n",
       "      <td>0.072961</td>\n",
       "      <td>0.060086</td>\n",
       "      <td>0.034335</td>\n",
       "      <td>0.077253</td>\n",
       "      <td>0.047210</td>\n",
       "      <td>0.019313</td>\n",
       "      <td>0.038627</td>\n",
       "    </tr>\n",
       "    <tr>\n",
       "      <th>H</th>\n",
       "      <td>0.044698</td>\n",
       "      <td>0.046450</td>\n",
       "      <td>0.031551</td>\n",
       "      <td>0.083260</td>\n",
       "      <td>0.032428</td>\n",
       "      <td>0.056091</td>\n",
       "      <td>0.042945</td>\n",
       "      <td>0.038563</td>\n",
       "      <td>0.023663</td>\n",
       "      <td>0.028046</td>\n",
       "      <td>0.017528</td>\n",
       "      <td>0.043821</td>\n",
       "      <td>0.015776</td>\n",
       "      <td>0.110429</td>\n",
       "      <td>0.048203</td>\n",
       "      <td>0.160386</td>\n",
       "      <td>0.028046</td>\n",
       "      <td>0.087642</td>\n",
       "      <td>0.010517</td>\n",
       "      <td>0.049956</td>\n",
       "    </tr>\n",
       "  </tbody>\n",
       "</table>\n",
       "</div>"
      ],
      "text/plain": [
       "          R         K         D         E         Q         S         C  \\\n",
       "C  0.051903  0.074642  0.036085  0.050420  0.033119  0.062778  0.086505   \n",
       "E  0.087983  0.025751  0.012876  0.017167  0.025751  0.036481  0.180258   \n",
       "H  0.044698  0.046450  0.031551  0.083260  0.032428  0.056091  0.042945   \n",
       "\n",
       "          H         N         T         W         Y         M         A  \\\n",
       "C  0.022739  0.041028  0.066238  0.010875  0.029165  0.011369  0.063767   \n",
       "E  0.010730  0.008584  0.077253  0.038627  0.124464  0.004292  0.072961   \n",
       "H  0.038563  0.023663  0.028046  0.017528  0.043821  0.015776  0.110429   \n",
       "\n",
       "          I         L         F         V         P         G  \n",
       "C  0.041028  0.044983  0.038062  0.039545  0.090954  0.104795  \n",
       "E  0.060086  0.034335  0.077253  0.047210  0.019313  0.038627  \n",
       "H  0.048203  0.160386  0.028046  0.087642  0.010517  0.049956  "
      ]
     },
     "execution_count": 15,
     "metadata": {},
     "output_type": "execute_result"
    }
   ],
   "source": [
    "MatrizEmision = todasFrecsAbsolutas.copy()\n",
    "\n",
    "for stru in strlist:\n",
    "    sumRow = todasFrecsAbsolutas.loc[stru,:].sum()\n",
    "    MatrizEmision.loc[stru,:]=MatrizEmision.loc[stru,:]/sumRow\n",
    "MatrizEmision"
   ]
  },
  {
   "cell_type": "markdown",
   "id": "later-amateur",
   "metadata": {},
   "source": [
    "Suma las filas y las columnas de la matriz de emisión para comprobar que es estocástica."
   ]
  },
  {
   "cell_type": "code",
   "execution_count": 16,
   "id": "identified-privilege",
   "metadata": {
    "tags": [
     "hide-cell"
    ]
   },
   "outputs": [
    {
     "data": {
      "text/plain": [
       "R    0.184584\n",
       "K    0.146843\n",
       "D    0.080512\n",
       "E    0.150848\n",
       "Q    0.091298\n",
       "S    0.155350\n",
       "C    0.309707\n",
       "H    0.072031\n",
       "N    0.073275\n",
       "T    0.171537\n",
       "W    0.067030\n",
       "Y    0.197449\n",
       "M    0.031437\n",
       "A    0.247158\n",
       "I    0.149317\n",
       "L    0.239703\n",
       "F    0.143361\n",
       "V    0.174398\n",
       "P    0.120784\n",
       "G    0.193378\n",
       "dtype: float64"
      ]
     },
     "execution_count": 16,
     "metadata": {},
     "output_type": "execute_result"
    }
   ],
   "source": [
    "MatrizEmision.sum(axis=0)"
   ]
  },
  {
   "cell_type": "code",
   "execution_count": 17,
   "id": "prospective-accent",
   "metadata": {
    "tags": [
     "hide-cell"
    ]
   },
   "outputs": [
    {
     "data": {
      "text/plain": [
       "C    1.0\n",
       "E    1.0\n",
       "H    1.0\n",
       "dtype: float64"
      ]
     },
     "execution_count": 17,
     "metadata": {},
     "output_type": "execute_result"
    }
   ],
   "source": [
    "MatrizEmision.sum(axis=1)"
   ]
  },
  {
   "cell_type": "markdown",
   "id": "coastal-sellers",
   "metadata": {},
   "source": [
    "## Ejercicio 6. Matriz de transiciones entre estados y vector de probabilidades inicial. \n",
    "\n",
    "Al igual que hicimos en los ejercicios 1, 2 y 3 de la primera parte de la práctica (cadenas de Markov\n",
    "sin variables ocultas), tenemos que calcular las probabilidades de transición entre estados\n",
    "y las probabilidades iniciales asociadas al primer estado las estructuras. \n",
    "\n",
    "En este caso hay\n",
    "que obtener una matriz $3 \\times 3$ y un vector de 3 componentes. \n",
    "\n",
    "Utiliza el conjunto de entrenamiento para estimar las probabilidades. Nombra las filas y columnas\n",
    "de la matriz (y las columnas del vector inicial) con las etiquetas correspondientes a los tres\n",
    "estados: $C$, $E$ y $H$.\n",
    "\n",
    "Una\n",
    "vez hecho este ejercicio habrás finalizado la _fase de entrenamiento (aprendizaje)_ del modelo de\n",
    "Markov oculto. "
   ]
  },
  {
   "cell_type": "markdown",
   "id": "continued-kennedy",
   "metadata": {},
   "source": [
    "Empieza calculando el vector de probabilidad inicial."
   ]
  },
  {
   "cell_type": "code",
   "execution_count": 18,
   "id": "generic-elder",
   "metadata": {
    "tags": [
     "hide-cell"
    ]
   },
   "outputs": [
    {
     "data": {
      "text/html": [
       "<div>\n",
       "<style scoped>\n",
       "    .dataframe tbody tr th:only-of-type {\n",
       "        vertical-align: middle;\n",
       "    }\n",
       "\n",
       "    .dataframe tbody tr th {\n",
       "        vertical-align: top;\n",
       "    }\n",
       "\n",
       "    .dataframe thead th {\n",
       "        text-align: right;\n",
       "    }\n",
       "</style>\n",
       "<table border=\"1\" class=\"dataframe\">\n",
       "  <thead>\n",
       "    <tr style=\"text-align: right;\">\n",
       "      <th></th>\n",
       "      <th>C</th>\n",
       "      <th>E</th>\n",
       "      <th>H</th>\n",
       "    </tr>\n",
       "  </thead>\n",
       "  <tbody>\n",
       "    <tr>\n",
       "      <th>FrecuenciasAbsolutas</th>\n",
       "      <td>121.0</td>\n",
       "      <td>0.0</td>\n",
       "      <td>0.0</td>\n",
       "    </tr>\n",
       "    <tr>\n",
       "      <th>Probabilidades</th>\n",
       "      <td>1.0</td>\n",
       "      <td>0.0</td>\n",
       "      <td>0.0</td>\n",
       "    </tr>\n",
       "  </tbody>\n",
       "</table>\n",
       "</div>"
      ],
      "text/plain": [
       "                          C    E    H\n",
       "FrecuenciasAbsolutas  121.0  0.0  0.0\n",
       "Probabilidades          1.0  0.0  0.0"
      ]
     },
     "execution_count": 18,
     "metadata": {},
     "output_type": "execute_result"
    }
   ],
   "source": [
    "# vector de probabilidades inicial\n",
    "\n",
    "vectorProbInicial = pd.DataFrame(0.0,columns=strlist,index=['FrecuenciasAbsolutas','Probabilidades'])\n",
    "vectorProbInicial\n",
    "\n",
    "for ninst in range(numInstancias):\n",
    "    instancia = dftrain.iloc[ninst,:]\n",
    "    #secuencia = instancia['seq'] # no lo observamos\n",
    "    est2 = instancia['sst3']\n",
    "    primeraEstructura = est2[0]\n",
    "    vectorProbInicial.loc['FrecuenciasAbsolutas',primeraEstructura]+=1\n",
    "vectorProbInicial.loc['Probabilidades'] = vectorProbInicial.loc['FrecuenciasAbsolutas']/sum(vectorProbInicial.loc['FrecuenciasAbsolutas'])\n",
    "vectorProbInicial"
   ]
  },
  {
   "cell_type": "markdown",
   "id": "loose-facing",
   "metadata": {},
   "source": [
    "Calcula la matriz que contenga las transiciones entre estados en frecuencias absolutas."
   ]
  },
  {
   "cell_type": "code",
   "execution_count": 19,
   "id": "noble-crossing",
   "metadata": {
    "tags": [
     "hide-cell"
    ]
   },
   "outputs": [
    {
     "data": {
      "text/html": [
       "<div>\n",
       "<style scoped>\n",
       "    .dataframe tbody tr th:only-of-type {\n",
       "        vertical-align: middle;\n",
       "    }\n",
       "\n",
       "    .dataframe tbody tr th {\n",
       "        vertical-align: top;\n",
       "    }\n",
       "\n",
       "    .dataframe thead th {\n",
       "        text-align: right;\n",
       "    }\n",
       "</style>\n",
       "<table border=\"1\" class=\"dataframe\">\n",
       "  <thead>\n",
       "    <tr style=\"text-align: right;\">\n",
       "      <th></th>\n",
       "      <th>C</th>\n",
       "      <th>E</th>\n",
       "      <th>H</th>\n",
       "    </tr>\n",
       "  </thead>\n",
       "  <tbody>\n",
       "    <tr>\n",
       "      <th>C</th>\n",
       "      <td>1655.0</td>\n",
       "      <td>143.0</td>\n",
       "      <td>104.0</td>\n",
       "    </tr>\n",
       "    <tr>\n",
       "      <th>E</th>\n",
       "      <td>144.0</td>\n",
       "      <td>322.0</td>\n",
       "      <td>0.0</td>\n",
       "    </tr>\n",
       "    <tr>\n",
       "      <th>H</th>\n",
       "      <td>103.0</td>\n",
       "      <td>1.0</td>\n",
       "      <td>1037.0</td>\n",
       "    </tr>\n",
       "  </tbody>\n",
       "</table>\n",
       "</div>"
      ],
      "text/plain": [
       "        C      E       H\n",
       "C  1655.0  143.0   104.0\n",
       "E   144.0  322.0     0.0\n",
       "H   103.0    1.0  1037.0"
      ]
     },
     "execution_count": 19,
     "metadata": {},
     "output_type": "execute_result"
    }
   ],
   "source": [
    "matrizTransicion = pd.DataFrame(0.0,columns=strlist,index=strlist)\n",
    "matrizTransicion\n",
    "\n",
    "for ninst in range(numInstancias):\n",
    "    instancia = dftrain.iloc[ninst,:]\n",
    "    #secuencia = instancia['seq'] # no lo observamos\n",
    "    est2 = instancia['sst3']\n",
    "    for pos in range(len(est2)-1):\n",
    "        pos1 = est2[pos]\n",
    "        pos2 = est2[pos+1]\n",
    "        matrizTransicion.loc[pos1,pos2]+=1\n",
    "matrizTransicion"
   ]
  },
  {
   "cell_type": "markdown",
   "id": "published-shuttle",
   "metadata": {},
   "source": [
    "Comprueba que la suma de los elementos de la matriz coincide con el conjunto de datos."
   ]
  },
  {
   "cell_type": "code",
   "execution_count": 20,
   "id": "adjusted-opportunity",
   "metadata": {
    "tags": [
     "hide-cell"
    ]
   },
   "outputs": [
    {
     "name": "stdout",
     "output_type": "stream",
     "text": [
      "Suma elementos matriz transicion: 3509.0\n",
      "Suma elementos en datos: 3509\n"
     ]
    }
   ],
   "source": [
    "print('Suma elementos matriz transicion: {}'.format(matrizTransicion.sum().sum()))\n",
    "print('Suma elementos en datos: {}'.format(dftrain.shape[0]*(len(dftrain['sst3'].iloc[0])-1)))\n"
   ]
  },
  {
   "cell_type": "markdown",
   "id": "crazy-numbers",
   "metadata": {},
   "source": [
    "Normaliza la matriz de transición para obtener una matriz estocástica por filas."
   ]
  },
  {
   "cell_type": "code",
   "execution_count": 21,
   "id": "everyday-church",
   "metadata": {
    "tags": [
     "hide-cell"
    ]
   },
   "outputs": [
    {
     "data": {
      "text/html": [
       "<div>\n",
       "<style scoped>\n",
       "    .dataframe tbody tr th:only-of-type {\n",
       "        vertical-align: middle;\n",
       "    }\n",
       "\n",
       "    .dataframe tbody tr th {\n",
       "        vertical-align: top;\n",
       "    }\n",
       "\n",
       "    .dataframe thead th {\n",
       "        text-align: right;\n",
       "    }\n",
       "</style>\n",
       "<table border=\"1\" class=\"dataframe\">\n",
       "  <thead>\n",
       "    <tr style=\"text-align: right;\">\n",
       "      <th></th>\n",
       "      <th>C</th>\n",
       "      <th>E</th>\n",
       "      <th>H</th>\n",
       "    </tr>\n",
       "  </thead>\n",
       "  <tbody>\n",
       "    <tr>\n",
       "      <th>C</th>\n",
       "      <td>0.870137</td>\n",
       "      <td>0.075184</td>\n",
       "      <td>0.054679</td>\n",
       "    </tr>\n",
       "    <tr>\n",
       "      <th>E</th>\n",
       "      <td>0.309013</td>\n",
       "      <td>0.690987</td>\n",
       "      <td>0.000000</td>\n",
       "    </tr>\n",
       "    <tr>\n",
       "      <th>H</th>\n",
       "      <td>0.090272</td>\n",
       "      <td>0.000876</td>\n",
       "      <td>0.908852</td>\n",
       "    </tr>\n",
       "  </tbody>\n",
       "</table>\n",
       "</div>"
      ],
      "text/plain": [
       "          C         E         H\n",
       "C  0.870137  0.075184  0.054679\n",
       "E  0.309013  0.690987  0.000000\n",
       "H  0.090272  0.000876  0.908852"
      ]
     },
     "execution_count": 21,
     "metadata": {},
     "output_type": "execute_result"
    }
   ],
   "source": [
    "#Falta normalizar por filas para que sea una matriz estocástica (por filas).\n",
    "from sklearn.preprocessing import Normalizer\n",
    "matrizTransicionNormalizada = pd.DataFrame().reindex_like(matrizTransicion)\n",
    "matrizTransicionNormalizada.iloc[:,:] = Normalizer(norm='l1').fit_transform(matrizTransicion)\n",
    "matrizTransicionNormalizada"
   ]
  },
  {
   "cell_type": "markdown",
   "id": "solid-interest",
   "metadata": {},
   "source": [
    "Calcula la suma de las filas y las columnas de la matriz obtenida para comprobar que es estocástica por filas."
   ]
  },
  {
   "cell_type": "code",
   "execution_count": 22,
   "id": "dress-bacteria",
   "metadata": {
    "tags": [
     "hide-cell"
    ]
   },
   "outputs": [
    {
     "data": {
      "text/plain": [
       "C    1.269421\n",
       "E    0.767048\n",
       "H    0.963531\n",
       "dtype: float64"
      ]
     },
     "execution_count": 22,
     "metadata": {},
     "output_type": "execute_result"
    }
   ],
   "source": [
    "matrizTransicionNormalizada.sum(axis=0)"
   ]
  },
  {
   "cell_type": "code",
   "execution_count": 23,
   "id": "incident-vault",
   "metadata": {
    "tags": [
     "hide-cell"
    ]
   },
   "outputs": [
    {
     "data": {
      "text/plain": [
       "C    1.0\n",
       "E    1.0\n",
       "H    1.0\n",
       "dtype: float64"
      ]
     },
     "execution_count": 23,
     "metadata": {},
     "output_type": "execute_result"
    }
   ],
   "source": [
    "matrizTransicionNormalizada.sum(axis=1)"
   ]
  },
  {
   "cell_type": "markdown",
   "id": "biological-litigation",
   "metadata": {},
   "source": [
    "## Ejercicio 7. Predicción de una estructura secundaria. \n",
    "\n",
    "Elige una secuencia del conjunto de validación de forma aleatoria. Vamos a predecir su estructura secundaria de acuerdo con el modelo de Markov oculto que acabamos de ajustar. \n",
    "\n",
    "A la secuencia le asignaremos la estructura secundaria que maximiza la verosimilitud, de acuerdo con el algoritmo de Viterbi. \n",
    "\n",
    "Para ello usaremos la librería `hidden_markov`. La documentación está [aquí](https://hidden-markov.readthedocs.io/en/latest/).\n",
    "\n",
    "En [esta web](https://hidden-markov.readthedocs.io/en/latest/functions.html#viterbi-algorithm) puedes ver la documentación del `algoritmo de Viterbi`.\n",
    "\n",
    "Una vez obtenida la estructura predicha, la compararemos con la estructura anotada en los datos."
   ]
  },
  {
   "cell_type": "markdown",
   "id": "adopted-cambridge",
   "metadata": {},
   "source": [
    "Crea un modelo de markov oculto usando la librería ``hidden_markov``"
   ]
  },
  {
   "cell_type": "code",
   "execution_count": 24,
   "id": "fancy-share",
   "metadata": {
    "tags": [
     "hide-cell"
    ]
   },
   "outputs": [
    {
     "data": {
      "text/plain": [
       "<hidden_markov.hmm_class.hmm at 0x7fd294342850>"
      ]
     },
     "execution_count": 24,
     "metadata": {},
     "output_type": "execute_result"
    }
   ],
   "source": [
    "from hidden_markov import hmm\n",
    "\n",
    "# parámetros del modelo\n",
    "states = tuple(strlist)\n",
    "possible_observations = tuple(alfabeto)\n",
    "start_prob = np.asmatrix(vectorProbInicial.loc['Probabilidades',:].to_numpy())\n",
    "trans_prob = np.asmatrix(matrizTransicionNormalizada.to_numpy())\n",
    "em_prob = np.asmatrix(MatrizEmision.to_numpy())\n",
    "\n",
    "# modelo\n",
    "mod_HMM = hmm(states=states,\n",
    "             observations=possible_observations,\n",
    "             start_prob=start_prob,\n",
    "             trans_prob=trans_prob,\n",
    "             em_prob=em_prob)\n",
    "mod_HMM"
   ]
  },
  {
   "cell_type": "markdown",
   "id": "flush-fundamental",
   "metadata": {},
   "source": [
    "Elige una secuencia del conjunto de validación de forma aleatoria."
   ]
  },
  {
   "cell_type": "code",
   "execution_count": 25,
   "id": "interim-tyler",
   "metadata": {
    "tags": [
     "hide-cell"
    ]
   },
   "outputs": [
    {
     "data": {
      "text/plain": [
       "'FVNQHLCASHLVEALYLVCGERGFFYTPKT'"
      ]
     },
     "execution_count": 25,
     "metadata": {},
     "output_type": "execute_result"
    }
   ],
   "source": [
    "ntest = dftest.shape[0]\n",
    "elementoAleatorio = np.random.randint(ntest)\n",
    "data = dftest.iloc[elementoAleatorio]\n",
    "observations = data.seq\n",
    "observations"
   ]
  },
  {
   "cell_type": "markdown",
   "id": "irish-illness",
   "metadata": {},
   "source": [
    "Usa el modelo de markov oculto para predecir la secuencia de estados ocultos asociada a la secuencia de AA observada. Imprime el resultado. Fíjate qué tipo de dato devuelve la librería ``hidden_markov``."
   ]
  },
  {
   "cell_type": "code",
   "execution_count": 26,
   "id": "unexpected-token",
   "metadata": {
    "tags": [
     "hide-cell"
    ]
   },
   "outputs": [
    {
     "name": "stdout",
     "output_type": "stream",
     "text": [
      "['C', 'H', 'H', 'H', 'H', 'H', 'H', 'H', 'H', 'H', 'H', 'H', 'H', 'H', 'H', 'H', 'H', 'H', 'C', 'C', 'C', 'C', 'C', 'C', 'C', 'C', 'C', 'C', 'C', 'C']\n"
     ]
    }
   ],
   "source": [
    "print(mod_HMM.viterbi(observations))"
   ]
  },
  {
   "cell_type": "markdown",
   "id": "played-thumb",
   "metadata": {},
   "source": [
    "Convierte la predicción anterior en un dato tipo `str` (cadena)."
   ]
  },
  {
   "cell_type": "code",
   "execution_count": 27,
   "id": "annoying-shareware",
   "metadata": {
    "tags": [
     "hide-cell"
    ]
   },
   "outputs": [
    {
     "data": {
      "text/plain": [
       "'CHHHHHHHHHHHHHHHHHCCCCCCCCCCCC'"
      ]
     },
     "execution_count": 27,
     "metadata": {},
     "output_type": "execute_result"
    }
   ],
   "source": [
    "predicted = ''\n",
    "for x in mod_HMM.viterbi(observations):\n",
    "    predicted+=x\n",
    "predicted"
   ]
  },
  {
   "cell_type": "markdown",
   "id": "billion-practitioner",
   "metadata": {
    "tags": [
     "hide-cell"
    ]
   },
   "source": [
    "Compara la predicción con la secuencia de estados ocultos __anotada__: llamamos _actual_."
   ]
  },
  {
   "cell_type": "code",
   "execution_count": 28,
   "id": "vital-azerbaijan",
   "metadata": {
    "tags": [
     "hide-cell"
    ]
   },
   "outputs": [
    {
     "name": "stdout",
     "output_type": "stream",
     "text": [
      "Actual: CCCCCCCHHHHHHHHHHHHHHHCEEECCCC\n",
      "Predicted:CHHHHHHHHHHHHHHHHHCCCCCCCCCCCC\n"
     ]
    }
   ],
   "source": [
    "actual = data.sst3\n",
    "print('Actual: '+actual)\n",
    "print('Predicted:'+predicted)"
   ]
  },
  {
   "cell_type": "markdown",
   "id": "broad-india",
   "metadata": {},
   "source": [
    "Crea la matriz de confusión para esta observación. Las filas son los valores de _actual_ y las columnas los de _predicted_."
   ]
  },
  {
   "cell_type": "code",
   "execution_count": 29,
   "id": "structured-medicare",
   "metadata": {
    "tags": [
     "hide-cell"
    ]
   },
   "outputs": [
    {
     "data": {
      "text/html": [
       "<div>\n",
       "<style scoped>\n",
       "    .dataframe tbody tr th:only-of-type {\n",
       "        vertical-align: middle;\n",
       "    }\n",
       "\n",
       "    .dataframe tbody tr th {\n",
       "        vertical-align: top;\n",
       "    }\n",
       "\n",
       "    .dataframe thead th {\n",
       "        text-align: right;\n",
       "    }\n",
       "</style>\n",
       "<table border=\"1\" class=\"dataframe\">\n",
       "  <thead>\n",
       "    <tr style=\"text-align: right;\">\n",
       "      <th></th>\n",
       "      <th>C</th>\n",
       "      <th>E</th>\n",
       "      <th>H</th>\n",
       "    </tr>\n",
       "  </thead>\n",
       "  <tbody>\n",
       "    <tr>\n",
       "      <th>C</th>\n",
       "      <td>6</td>\n",
       "      <td>0</td>\n",
       "      <td>6</td>\n",
       "    </tr>\n",
       "    <tr>\n",
       "      <th>E</th>\n",
       "      <td>3</td>\n",
       "      <td>0</td>\n",
       "      <td>0</td>\n",
       "    </tr>\n",
       "    <tr>\n",
       "      <th>H</th>\n",
       "      <td>4</td>\n",
       "      <td>0</td>\n",
       "      <td>11</td>\n",
       "    </tr>\n",
       "  </tbody>\n",
       "</table>\n",
       "</div>"
      ],
      "text/plain": [
       "   C  E   H\n",
       "C  6  0   6\n",
       "E  3  0   0\n",
       "H  4  0  11"
      ]
     },
     "execution_count": 29,
     "metadata": {},
     "output_type": "execute_result"
    }
   ],
   "source": [
    "actualPredicted = pd.DataFrame(0,index = strlist,columns=strlist)\n",
    "actualPredicted\n",
    "\n",
    "for i,act in enumerate(actual):\n",
    "    pre = predicted[i]\n",
    "    actualPredicted.loc[act,pre]+=1\n",
    "actualPredicted"
   ]
  },
  {
   "cell_type": "markdown",
   "id": "cheap-ukraine",
   "metadata": {},
   "source": [
    "## Ejercicio 8. Matriz de confusión y tasa de error. \n",
    "\n",
    "Haz la predicción de las estructuras secundarias en todo el conjunto de validación y, para cada secuencia, calcula la matriz de confusión asociada a los tres estados $C$, $E$ y $H$ comparando la estructura secundaria predicha y la verdadera. \n",
    "\n",
    "Acumula las frecuencias de acierto o fallo en cada uno de los 9 elementos de la matriz de confusión al recorrer el conjunto de validación."
   ]
  },
  {
   "cell_type": "code",
   "execution_count": 30,
   "id": "saving-resistance",
   "metadata": {
    "tags": [
     "hide-cell"
    ]
   },
   "outputs": [
    {
     "data": {
      "text/html": [
       "<div>\n",
       "<style scoped>\n",
       "    .dataframe tbody tr th:only-of-type {\n",
       "        vertical-align: middle;\n",
       "    }\n",
       "\n",
       "    .dataframe tbody tr th {\n",
       "        vertical-align: top;\n",
       "    }\n",
       "\n",
       "    .dataframe thead th {\n",
       "        text-align: right;\n",
       "    }\n",
       "</style>\n",
       "<table border=\"1\" class=\"dataframe\">\n",
       "  <thead>\n",
       "    <tr style=\"text-align: right;\">\n",
       "      <th></th>\n",
       "      <th>C</th>\n",
       "      <th>E</th>\n",
       "      <th>H</th>\n",
       "    </tr>\n",
       "  </thead>\n",
       "  <tbody>\n",
       "    <tr>\n",
       "      <th>C</th>\n",
       "      <td>666</td>\n",
       "      <td>10</td>\n",
       "      <td>217</td>\n",
       "    </tr>\n",
       "    <tr>\n",
       "      <th>E</th>\n",
       "      <td>118</td>\n",
       "      <td>34</td>\n",
       "      <td>12</td>\n",
       "    </tr>\n",
       "    <tr>\n",
       "      <th>H</th>\n",
       "      <td>178</td>\n",
       "      <td>0</td>\n",
       "      <td>355</td>\n",
       "    </tr>\n",
       "  </tbody>\n",
       "</table>\n",
       "</div>"
      ],
      "text/plain": [
       "     C   E    H\n",
       "C  666  10  217\n",
       "E  118  34   12\n",
       "H  178   0  355"
      ]
     },
     "execution_count": 30,
     "metadata": {},
     "output_type": "execute_result"
    }
   ],
   "source": [
    "confusionTable = pd.DataFrame(0,index = strlist,columns=strlist)\n",
    "confusionTable\n",
    "\n",
    "for i in range(ntest):\n",
    "    data = dftest.iloc[i]\n",
    "    observations = data.seq\n",
    "    actual = data.sst3\n",
    "    predictedHMM = mod_HMM.viterbi(observations)\n",
    "    predicted = \"\".join(predictedHMM)\n",
    "    \n",
    "    # actualizamos la matriz de confusion\n",
    "    for i,act in enumerate(actual):\n",
    "        pre = predicted[i]\n",
    "        confusionTable.loc[act,pre]+=1\n",
    "    \n",
    "confusionTable"
   ]
  },
  {
   "cell_type": "markdown",
   "id": "cleared-gazette",
   "metadata": {},
   "source": [
    "Con esta matriz de confusión agregada, calcula la tasa de error del método."
   ]
  },
  {
   "cell_type": "code",
   "execution_count": 31,
   "id": "center-spotlight",
   "metadata": {
    "tags": [
     "hide-cell"
    ]
   },
   "outputs": [
    {
     "data": {
      "text/plain": [
       "0.33647798742138363"
      ]
     },
     "execution_count": 31,
     "metadata": {},
     "output_type": "execute_result"
    }
   ],
   "source": [
    "CFT = confusionTable.to_numpy()\n",
    "CFTnonDiagonal = CFT.copy()\n",
    "np.fill_diagonal(CFTnonDiagonal,0)\n",
    "\n",
    "CFTnonDiagonal\n",
    "\n",
    "sumaNonDiagonal = CFTnonDiagonal.sum()\n",
    "sumaNonDiagonal\n",
    "\n",
    "sumaTotal = CFT.sum()\n",
    "sumaTotal\n",
    "\n",
    "tasaError = sumaNonDiagonal/sumaTotal\n",
    "tasaError"
   ]
  },
  {
   "cell_type": "code",
   "execution_count": null,
   "id": "higher-credit",
   "metadata": {},
   "outputs": [],
   "source": []
  }
 ],
 "metadata": {
  "celltoolbar": "Tags",
  "kernelspec": {
   "display_name": "Python 3 (ipykernel)",
   "language": "python",
   "name": "python3"
  },
  "language_info": {
   "codemirror_mode": {
    "name": "ipython",
    "version": 3
   },
   "file_extension": ".py",
   "mimetype": "text/x-python",
   "name": "python",
   "nbconvert_exporter": "python",
   "pygments_lexer": "ipython3",
   "version": "3.10.6"
  }
 },
 "nbformat": 4,
 "nbformat_minor": 5
}

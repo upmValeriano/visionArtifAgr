{
 "cells": [
  {
   "cell_type": "markdown",
   "id": "cross-uzbekistan",
   "metadata": {},
   "source": [
    "# Entrega: _Animula Vagula Blandula_\n",
    "\n",
    "Hace ya más de treinta y cinco años, unos profesores de la Facultad de Químicas de la UCM aplicaron un tipo particular de algoritmos genéticos basados en el modelo de cuasiespecie {cite}`Eigen1971` para estudiar los procesos de evolución y selección en poblaciones de entidades auto replicativas {cite}`MoranMontero1984`. \n",
    "\n",
    "En un alarde metafórico, el trabajo ilustra como una población de moléculas autorreplicativas sometidas a un proceso de evolución y selección puede terminar por escribir en su genotipo maestro la frase __ANIMULA\n",
    "VAGULA BLANDULA__ que se atribuye al emperador Adriano {cite}`Yourcenar1951` (existe una traducción de Julio Cortázar {cite}`Cortazar2009`. \n",
    "\n",
    "Nos planteamos en esta sección reproducir estos resultados utilizando un algoritmo genético cuyos pasos hemos definido en el primer apartado.\n",
    "\n",
    "## Ejercicio 1. \n",
    "\n",
    "Utiliza los ejercicios resueltos en la primera sección para definir un bucle de replicación-selección para reproducir los resultados del artículo de {cite}`MoranMontero1984`.\n",
    "\n",
    "## Ejercicio 2. \n",
    "\n",
    "Investiga la posible aplicación de alguno de los paquetes de algoritmos genéticos disponibles para resolver este problema."
   ]
  },
  {
   "cell_type": "code",
   "execution_count": null,
   "id": "figured-highland",
   "metadata": {},
   "outputs": [],
   "source": []
  }
 ],
 "metadata": {
  "kernelspec": {
   "display_name": "Python 3 (ipykernel)",
   "language": "python",
   "name": "python3"
  },
  "language_info": {
   "codemirror_mode": {
    "name": "ipython",
    "version": 3
   },
   "file_extension": ".py",
   "mimetype": "text/x-python",
   "name": "python",
   "nbconvert_exporter": "python",
   "pygments_lexer": "ipython3",
   "version": "3.10.6"
  }
 },
 "nbformat": 4,
 "nbformat_minor": 5
}

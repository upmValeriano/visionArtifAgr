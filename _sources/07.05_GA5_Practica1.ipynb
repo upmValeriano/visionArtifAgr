{
 "cells": [
  {
   "cell_type": "code",
   "execution_count": 1,
   "id": "global-instruction",
   "metadata": {},
   "outputs": [],
   "source": [
    "import numpy as np\n",
    "import matplotlib.pyplot as plt"
   ]
  },
  {
   "cell_type": "markdown",
   "id": "decimal-waters",
   "metadata": {},
   "source": [
    "# Práctica 1: Pasos elementales del GA\n",
    "\n",
    "\n",
    "Los Algoritmos Genéticos (GA de sus siglas en inglés) son herramientas computacionales de búsqueda de soluciones _óptimas_ mediante la aplicación de las leyes de la evolución y selección en genomas que codifican el problema que se pretende resolver. \n",
    "\n",
    "Así como los sistemas naturales han encontrado soluciones óptimas durante su evolución, estos métodos incluyen mecanismos de variación para explorar nuevas soluciones junto con la capacidad de selección de las mejores en cada paso. \n",
    "\n",
    "De esta manera, los GA son muy eficaces para encontrar soluciones óptimas de problemas complejos en los que existe un gran número de extremos locales.\n",
    "\n",
    "\n",
    "En esta sección vamos a definir algunos de los pasos elementales de los algoritmos genéticos, a saber:\n",
    "1. Codificación del problema en los genotipos / fenotipos\n",
    "2. Creacción de una población de genotipos\n",
    "3. Replicación con mutación\n",
    "4. Selección de los mejores fenotipos / genotipos\n",
    "\n",
    "Dejamos para la última sección la finalización del GA con los pasos:\n",
    "\n",
    "5. Repetición de esta secuencia hasta convergencia\n",
    "6. Comprobación e interpretación del resultado en el problema original\n"
   ]
  },
  {
   "cell_type": "markdown",
   "id": "orange-barbados",
   "metadata": {},
   "source": [
    "## Codificación del problema: genotipos\n",
    "\n",
    "Este primer paso es esencial en la aplicación de los GA para la resolución de un problema. Las posibles soluciones deben ser relacionadas con las posibles configuraciones de los genotipos. Por ejemplo, podemos relacionar una propiedad del sistema con una posición en la secuencia del genotipo.\n",
    "\n",
    "$$\n",
    "\\text{Propiedad del problema}\\leftrightarrow\\text{Gen concreto}\n",
    "$$\n",
    "\n",
    "En el estudio de una ruta metabólica de $\\nu$ (`nu`) reacciones, un 1 en la posición $i$-ésima significa que esa reacción tienen lugar (existe la enzima), mientras que un 0 representa lo contrario, que la reacción no se da. \n",
    "\n",
    "Con esta codificación, un genoma está representando una posible ruta metabólica y todas las posibles rutas metábolicas quedan asignadas en todos los posibles genomas binarios de longitud `nu`, en total $2^\\nu$. \n",
    "\n",
    "Una población inicial de tamaño $N$ constituye, por tanto, un punto de partida para explorar las posibles rutas metabólicas que relacionan un sustrato con un producto. \n",
    "\n",
    "Esta población se puede generar de acuerdo a un patrón o completamente al azar si no se tiene ninguna información previa. Por ejemplo, se podría definir la proporción de 1 en los genotipos que forman la población inicial con el parámetro `probuno`."
   ]
  },
  {
   "cell_type": "code",
   "execution_count": 2,
   "id": "radio-brother",
   "metadata": {},
   "outputs": [],
   "source": [
    "probuno = 0.1\n",
    "N = 100\n",
    "nu = 10\n",
    "binGen = np.zeros((N,nu))"
   ]
  },
  {
   "cell_type": "code",
   "execution_count": 3,
   "id": "antique-concentration",
   "metadata": {},
   "outputs": [
    {
     "data": {
      "text/plain": [
       "array([0, 1, 1, 0, 1, 0, 0, 0, 0, 0])"
      ]
     },
     "execution_count": 3,
     "metadata": {},
     "output_type": "execute_result"
    }
   ],
   "source": [
    "(np.random.uniform(size=10)<probuno).astype('int')"
   ]
  },
  {
   "cell_type": "code",
   "execution_count": 4,
   "id": "specific-evidence",
   "metadata": {},
   "outputs": [],
   "source": [
    "for genoma in range(N):\n",
    "    binGen[genoma,:]= (np.random.uniform(size=10)<probuno).astype('int')"
   ]
  },
  {
   "cell_type": "code",
   "execution_count": 5,
   "id": "behavioral-magnitude",
   "metadata": {},
   "outputs": [
    {
     "data": {
      "text/plain": [
       "array([[0., 0., 0., 0., 0., 0., 1., 0., 0., 0.],\n",
       "       [1., 0., 0., 0., 0., 0., 0., 0., 0., 0.],\n",
       "       [0., 0., 0., 0., 0., 0., 0., 1., 0., 0.],\n",
       "       [0., 0., 0., 0., 0., 0., 0., 0., 0., 0.],\n",
       "       [0., 0., 0., 0., 1., 0., 0., 0., 0., 0.],\n",
       "       [0., 0., 1., 0., 0., 0., 0., 0., 0., 0.],\n",
       "       [0., 0., 0., 0., 0., 0., 0., 1., 0., 0.],\n",
       "       [0., 0., 0., 0., 0., 0., 0., 0., 0., 0.],\n",
       "       [0., 0., 0., 0., 0., 0., 0., 0., 0., 0.],\n",
       "       [0., 0., 0., 0., 0., 0., 0., 0., 0., 0.]])"
      ]
     },
     "execution_count": 5,
     "metadata": {},
     "output_type": "execute_result"
    }
   ],
   "source": [
    "binGen[:10,:]"
   ]
  },
  {
   "cell_type": "code",
   "execution_count": 6,
   "id": "champion-township",
   "metadata": {},
   "outputs": [
    {
     "data": {
      "text/plain": [
       "88.0"
      ]
     },
     "execution_count": 6,
     "metadata": {},
     "output_type": "execute_result"
    }
   ],
   "source": [
    "binGen.sum()"
   ]
  },
  {
   "cell_type": "markdown",
   "id": "interracial-buffalo",
   "metadata": {},
   "source": [
    "En una función"
   ]
  },
  {
   "cell_type": "code",
   "execution_count": 7,
   "id": "suffering-income",
   "metadata": {},
   "outputs": [],
   "source": [
    "def crearGenoma(N,nu,probUno):\n",
    "    binGen = np.zeros((N,nu))\n",
    "    for genoma in range(N):\n",
    "        binGen[genoma,:]= (np.random.uniform(size=10)<probuno).astype('int')\n",
    "    return binGen"
   ]
  },
  {
   "cell_type": "markdown",
   "id": "western-morrison",
   "metadata": {},
   "source": [
    "## Asignación del fitness: fenotipos\n",
    "\n",
    "Una vez que se ha definido el significado de un genotipo, una población de genomas de longitud nu representa una conjunto de rutas metabólicas factibles que realizarán una transformación de una manera más o menos eficaz.\n",
    "\n",
    "Precisamente, la eficacia de la ruta define el fitness de ese genoma y constituye su fenotipo. Podríamos pensar que una ruta es más eficaz energéticamente si es más larga y, por lo tanto, su fitness depende del número de reacciones que la constituyen. Además, podríamos suponer que las reacciones del final de la ruta aportan más al fitness. \n",
    "\n",
    "En este caso, el fitness se podría calcular de manera inmedita a partir del número de 1 del genotipo y la posición que ocupan."
   ]
  },
  {
   "cell_type": "code",
   "execution_count": 8,
   "id": "absolute-seventh",
   "metadata": {},
   "outputs": [
    {
     "data": {
      "text/plain": [
       "array([ 1,  2,  3,  4,  5,  6,  7,  8,  9, 10])"
      ]
     },
     "execution_count": 8,
     "metadata": {},
     "output_type": "execute_result"
    }
   ],
   "source": [
    "vector = np.arange(nu)+1\n",
    "vector"
   ]
  },
  {
   "cell_type": "code",
   "execution_count": 9,
   "id": "acquired-export",
   "metadata": {},
   "outputs": [
    {
     "data": {
      "text/plain": [
       "array([0., 0., 0., 0., 0., 0., 1., 0., 0., 0.])"
      ]
     },
     "execution_count": 9,
     "metadata": {},
     "output_type": "execute_result"
    }
   ],
   "source": [
    "binGen[0,:]"
   ]
  },
  {
   "cell_type": "code",
   "execution_count": 10,
   "id": "postal-glenn",
   "metadata": {},
   "outputs": [
    {
     "data": {
      "text/plain": [
       "7.0"
      ]
     },
     "execution_count": 10,
     "metadata": {},
     "output_type": "execute_result"
    }
   ],
   "source": [
    "vector.dot(binGen[0,:])"
   ]
  },
  {
   "cell_type": "code",
   "execution_count": 11,
   "id": "industrial-clark",
   "metadata": {},
   "outputs": [],
   "source": [
    "fitnessV = []\n",
    "for ii in range(N):\n",
    "    fit = vector.dot(binGen[ii,:])\n",
    "    fitnessV.append(fit)"
   ]
  },
  {
   "cell_type": "code",
   "execution_count": 12,
   "id": "eight-happening",
   "metadata": {},
   "outputs": [
    {
     "data": {
      "image/png": "[encoded data removed]",
      "text/plain": [
       "<Figure size 720x360 with 2 Axes>"
      ]
     },
     "metadata": {
      "needs_background": "light"
     },
     "output_type": "display_data"
    }
   ],
   "source": [
    "f,ax=plt.subplots(nrows=1,ncols=2,figsize=(10,5))\n",
    "ax[0].bar(np.arange(len(fitnessV)),fitnessV)\n",
    "ax[0].set_xlabel('Genotipo')\n",
    "ax[0].set_ylabel('Fitness')\n",
    "ax[1].boxplot(fitnessV)\n",
    "plt.show()"
   ]
  },
  {
   "cell_type": "code",
   "execution_count": 13,
   "id": "fuzzy-immunology",
   "metadata": {},
   "outputs": [
    {
     "data": {
      "text/plain": [
       "array([86, 30, 31, 63, 33, 34, 85, 36, 84, 83, 81, 28, 80, 77, 98, 50, 51,\n",
       "       52, 55, 56, 72, 60, 62, 45, 25, 64,  3, 95, 13, 10,  9, 14,  8, 17,\n",
       "       20, 21,  7, 91, 93,  1, 94, 40, 97, 59, 69, 22, 11,  5, 16, 19, 29,\n",
       "       44, 82, 39, 92, 89, 67, 26, 73, 75, 96, 47, 79,  4,  0, 49, 99, 27,\n",
       "       37, 38, 46, 53,  2,  6, 35, 43, 41, 70, 76, 74, 57, 90, 24, 66, 54,\n",
       "       42, 71, 87, 78, 32, 18, 23, 48, 15, 12, 68, 61, 65, 88, 58])"
      ]
     },
     "execution_count": 13,
     "metadata": {},
     "output_type": "execute_result"
    }
   ],
   "source": [
    "# ordenamos de mayor a menor\n",
    "indexOrder = np.argsort(fitnessV)\n",
    "indexOrder"
   ]
  },
  {
   "cell_type": "code",
   "execution_count": 14,
   "id": "available-mercy",
   "metadata": {},
   "outputs": [],
   "source": [
    "fitnessV_order = np.asarray(fitnessV)[indexOrder]"
   ]
  },
  {
   "cell_type": "code",
   "execution_count": 15,
   "id": "forbidden-performer",
   "metadata": {},
   "outputs": [
    {
     "data": {
      "text/plain": [
       "Text(0, 0.5, 'Fitness')"
      ]
     },
     "execution_count": 15,
     "metadata": {},
     "output_type": "execute_result"
    },
    {
     "data": {
      "image/png": "[encoded data removed]",
      "text/plain": [
       "<Figure size 1800x1080 with 1 Axes>"
      ]
     },
     "metadata": {
      "needs_background": "light"
     },
     "output_type": "display_data"
    }
   ],
   "source": [
    "f,ax=plt.subplots(nrows=1,ncols=1,figsize=(25,15))\n",
    "ax.bar(np.arange(len(fitnessV_order)),fitnessV_order)\n",
    "ax.set_xlabel('Genotipo')\n",
    "ax.set_xticks(np.arange(len(indexOrder)),indexOrder)\n",
    "ax.set_ylabel('Fitness')"
   ]
  },
  {
   "cell_type": "code",
   "execution_count": 16,
   "id": "right-rotation",
   "metadata": {},
   "outputs": [
    {
     "data": {
      "text/plain": [
       "array([[0., 0., 0., 0., 0., 0., 1., 0., 0., 0.],\n",
       "       [1., 0., 0., 0., 0., 0., 0., 0., 0., 0.],\n",
       "       [0., 0., 0., 0., 0., 0., 0., 1., 0., 0.],\n",
       "       [0., 0., 0., 0., 0., 0., 0., 0., 0., 0.],\n",
       "       [0., 0., 0., 0., 1., 0., 0., 0., 0., 0.],\n",
       "       [0., 0., 1., 0., 0., 0., 0., 0., 0., 0.],\n",
       "       [0., 0., 0., 0., 0., 0., 0., 1., 0., 0.],\n",
       "       [0., 0., 0., 0., 0., 0., 0., 0., 0., 0.],\n",
       "       [0., 0., 0., 0., 0., 0., 0., 0., 0., 0.],\n",
       "       [0., 0., 0., 0., 0., 0., 0., 0., 0., 0.]])"
      ]
     },
     "execution_count": 16,
     "metadata": {},
     "output_type": "execute_result"
    }
   ],
   "source": [
    "binGen[:10,:]"
   ]
  },
  {
   "cell_type": "code",
   "execution_count": 17,
   "id": "straight-render",
   "metadata": {},
   "outputs": [
    {
     "data": {
      "text/plain": [
       "array([1., 1., 1., 0., 1., 1., 1., 0., 0., 0., 0., 1., 2., 0., 0., 3., 1.,\n",
       "       0., 3., 1., 0., 0., 1., 2., 2., 0., 2., 1., 0., 1., 0., 0., 2., 0.,\n",
       "       0., 1., 0., 2., 1., 1., 1., 1., 1., 1., 1., 0., 1., 1., 4., 1., 0.,\n",
       "       0., 0., 1., 1., 0., 0., 2., 3., 1., 0., 3., 0., 0., 0., 2., 1., 2.,\n",
       "       2., 1., 1., 2., 0., 1., 1., 1., 1., 0., 2., 1., 0., 0., 1., 0., 0.,\n",
       "       0., 0., 2., 3., 1., 1., 0., 1., 1., 1., 0., 1., 1., 0., 1.])"
      ]
     },
     "execution_count": 17,
     "metadata": {},
     "output_type": "execute_result"
    }
   ],
   "source": [
    "binGen.sum(axis=1)"
   ]
  },
  {
   "cell_type": "markdown",
   "id": "becoming-flavor",
   "metadata": {},
   "source": [
    "Relación entre el número de genes y el _fitness_"
   ]
  },
  {
   "cell_type": "code",
   "execution_count": 18,
   "id": "tight-institute",
   "metadata": {},
   "outputs": [
    {
     "data": {
      "text/plain": [
       "[<matplotlib.lines.Line2D at 0x7fcf8ca2a6a0>]"
      ]
     },
     "execution_count": 18,
     "metadata": {},
     "output_type": "execute_result"
    },
    {
     "data": {
      "image/png": "[encoded data removed]",
      "text/plain": [
       "<Figure size 360x360 with 1 Axes>"
      ]
     },
     "metadata": {
      "needs_background": "light"
     },
     "output_type": "display_data"
    }
   ],
   "source": [
    "f,ax=plt.subplots(nrows=1,ncols=1,figsize=(5,5))\n",
    "ax.plot(binGen.sum(axis=1),fitnessV,'.')"
   ]
  },
  {
   "cell_type": "markdown",
   "id": "acceptable-winning",
   "metadata": {},
   "source": [
    "## Mutación de un gen\n",
    "\n",
    "Una de las maneras de incluir diversidad en la población a partir de los genotipos existentes consiste en considerar una probabilidad de mutación por dígito que durante el proceso de replicación produce genotipos distintos."
   ]
  },
  {
   "cell_type": "code",
   "execution_count": 19,
   "id": "activated-corpus",
   "metadata": {},
   "outputs": [
    {
     "data": {
      "text/plain": [
       "1"
      ]
     },
     "execution_count": 19,
     "metadata": {},
     "output_type": "execute_result"
    }
   ],
   "source": [
    "probMutacion = 0.1\n",
    "numsample = int(np.round(np.random.uniform(low=1,high = probMutacion*nu,size=1)))\n",
    "numsample"
   ]
  },
  {
   "cell_type": "code",
   "execution_count": 20,
   "id": "angry-information",
   "metadata": {},
   "outputs": [
    {
     "data": {
      "text/plain": [
       "array([2])"
      ]
     },
     "execution_count": 20,
     "metadata": {},
     "output_type": "execute_result"
    }
   ],
   "source": [
    "genToMutate = np.random.choice(np.arange(nu),size=numsample,replace=False)\n",
    "genToMutate"
   ]
  },
  {
   "cell_type": "code",
   "execution_count": 21,
   "id": "damaged-church",
   "metadata": {},
   "outputs": [
    {
     "data": {
      "text/plain": [
       "array([[0., 0., 0., 0., 0., 0., 1., 0., 0., 0.],\n",
       "       [1., 0., 0., 0., 0., 0., 0., 0., 0., 0.],\n",
       "       [0., 0., 0., 0., 0., 0., 0., 1., 0., 0.],\n",
       "       [0., 0., 0., 0., 0., 0., 0., 0., 0., 0.],\n",
       "       [0., 0., 0., 0., 1., 0., 0., 0., 0., 0.],\n",
       "       [0., 0., 1., 0., 0., 0., 0., 0., 0., 0.],\n",
       "       [0., 0., 0., 0., 0., 0., 0., 1., 0., 0.],\n",
       "       [0., 0., 0., 0., 0., 0., 0., 0., 0., 0.],\n",
       "       [0., 0., 0., 0., 0., 0., 0., 0., 0., 0.],\n",
       "       [0., 0., 0., 0., 0., 0., 0., 0., 0., 0.]])"
      ]
     },
     "execution_count": 21,
     "metadata": {},
     "output_type": "execute_result"
    }
   ],
   "source": [
    "binGen[:10,:]"
   ]
  },
  {
   "cell_type": "code",
   "execution_count": 22,
   "id": "missing-season",
   "metadata": {},
   "outputs": [],
   "source": [
    "for gg in genToMutate:\n",
    "    binGen[:,gg]=(binGen[:,gg]+1)%2"
   ]
  },
  {
   "cell_type": "code",
   "execution_count": 23,
   "id": "utility-forestry",
   "metadata": {},
   "outputs": [
    {
     "data": {
      "text/plain": [
       "array([[0., 0., 1., 0., 0., 0., 1., 0., 0., 0.],\n",
       "       [1., 0., 1., 0., 0., 0., 0., 0., 0., 0.],\n",
       "       [0., 0., 1., 0., 0., 0., 0., 1., 0., 0.],\n",
       "       [0., 0., 1., 0., 0., 0., 0., 0., 0., 0.],\n",
       "       [0., 0., 1., 0., 1., 0., 0., 0., 0., 0.],\n",
       "       [0., 0., 0., 0., 0., 0., 0., 0., 0., 0.],\n",
       "       [0., 0., 1., 0., 0., 0., 0., 1., 0., 0.],\n",
       "       [0., 0., 1., 0., 0., 0., 0., 0., 0., 0.],\n",
       "       [0., 0., 1., 0., 0., 0., 0., 0., 0., 0.],\n",
       "       [0., 0., 1., 0., 0., 0., 0., 0., 0., 0.]])"
      ]
     },
     "execution_count": 23,
     "metadata": {},
     "output_type": "execute_result"
    }
   ],
   "source": [
    "binGen[:10,:]"
   ]
  },
  {
   "cell_type": "markdown",
   "id": "stable-yukon",
   "metadata": {},
   "source": [
    "## Función mutación\n",
    "\n",
    "Define una función `mutN` que realice la mutación por dígito y aplícala a toda la población de tamaño $N$. Antes guarda la población en otra matriz, por ejemplo, `binGen_anterior`"
   ]
  },
  {
   "cell_type": "code",
   "execution_count": 24,
   "id": "junior-details",
   "metadata": {},
   "outputs": [
    {
     "data": {
      "text/plain": [
       "array([1., 0., 1., 0., 0., 0., 0., 0., 0., 0.])"
      ]
     },
     "execution_count": 24,
     "metadata": {},
     "output_type": "execute_result"
    }
   ],
   "source": [
    "binGen[1,:]"
   ]
  },
  {
   "cell_type": "code",
   "execution_count": 25,
   "id": "exciting-checklist",
   "metadata": {},
   "outputs": [],
   "source": [
    "def mutN(genotipo,probMut,numGenesGenotipo):\n",
    "    \n",
    "    numGenesMutar = int(np.round(np.random.uniform(low=1,high = probMut*numGenesGenotipo,size=1)))\n",
    "    \n",
    "    for el in np.arange(genotipo.shape[0]):\n",
    "        \n",
    "        genesToMutate = np.random.choice(np.arange(numGenesGenotipo),size=numGenesMutar,replace=False)\n",
    "        \n",
    "        for gen in genesToMutate:\n",
    "            \n",
    "            genotipo[el,gen]=(genotipo[el,gen]+1)%2\n",
    "    \n",
    "    return genotipo,numGenesMutar"
   ]
  },
  {
   "cell_type": "code",
   "execution_count": 26,
   "id": "about-supply",
   "metadata": {},
   "outputs": [
    {
     "data": {
      "text/plain": [
       "array([[1., 0., 0., 0., 0., 0., 0., 1., 1., 0.],\n",
       "       [0., 1., 0., 0., 0., 0., 0., 0., 0., 0.],\n",
       "       [0., 0., 0., 1., 0., 0., 0., 0., 0., 0.],\n",
       "       [0., 0., 0., 0., 0., 0., 0., 0., 0., 0.],\n",
       "       [0., 0., 0., 0., 0., 0., 0., 0., 0., 0.],\n",
       "       [0., 0., 0., 0., 0., 1., 0., 0., 0., 0.],\n",
       "       [0., 0., 0., 0., 0., 0., 0., 0., 0., 0.],\n",
       "       [0., 0., 0., 1., 0., 0., 0., 0., 0., 0.],\n",
       "       [0., 0., 0., 0., 0., 0., 0., 0., 1., 0.],\n",
       "       [0., 0., 1., 0., 0., 0., 0., 0., 0., 0.]])"
      ]
     },
     "execution_count": 26,
     "metadata": {},
     "output_type": "execute_result"
    }
   ],
   "source": [
    "probUno = 0.1\n",
    "N = 100\n",
    "nu = 10\n",
    "binGen = crearGenoma(N,nu,probUno)\n",
    "binGenInit = binGen.copy()\n",
    "binGen[:10,:]"
   ]
  },
  {
   "cell_type": "code",
   "execution_count": 27,
   "id": "conventional-dream",
   "metadata": {},
   "outputs": [
    {
     "name": "stdout",
     "output_type": "stream",
     "text": [
      "Número de genes mutados:  1\n"
     ]
    },
    {
     "data": {
      "text/plain": [
       "array([[1., 0., 0., 0., 1., 0., 0., 1., 1., 0.],\n",
       "       [0., 1., 0., 0., 0., 0., 0., 1., 0., 0.],\n",
       "       [0., 0., 0., 1., 0., 1., 0., 0., 0., 0.],\n",
       "       [0., 0., 0., 0., 0., 0., 1., 0., 0., 0.],\n",
       "       [0., 0., 0., 0., 0., 0., 0., 0., 0., 1.],\n",
       "       [0., 1., 0., 0., 0., 1., 0., 0., 0., 0.],\n",
       "       [0., 1., 0., 0., 0., 0., 0., 0., 0., 0.],\n",
       "       [0., 0., 0., 1., 0., 0., 0., 1., 0., 0.],\n",
       "       [0., 0., 0., 0., 1., 0., 0., 0., 1., 0.],\n",
       "       [0., 0., 1., 0., 0., 0., 1., 0., 0., 0.]])"
      ]
     },
     "execution_count": 27,
     "metadata": {},
     "output_type": "execute_result"
    }
   ],
   "source": [
    "probMutacion = 0.1\n",
    "binGen,nGen = mutN(binGen,probMutacion,nu)\n",
    "print('Número de genes mutados: ',nGen)\n",
    "binGen[:10,:]"
   ]
  },
  {
   "cell_type": "markdown",
   "id": "bottom-period",
   "metadata": {},
   "source": [
    "## Combinación de los nuevos genomas y los anteriores y ranking\n",
    "\n",
    "Después de realizar la replicación con mutación de todos los genotipos de la población hay que proceder a agrupar y ordenar la población para preparar la selección de los genotipos con el mayor fitness."
   ]
  },
  {
   "cell_type": "code",
   "execution_count": 28,
   "id": "sensitive-bangkok",
   "metadata": {},
   "outputs": [],
   "source": [
    "combinedGenoma = np.zeros((2*N,nu))\n",
    "combinedGenoma[:N,:] = binGenInit\n",
    "combinedGenoma[N:,:] = binGen"
   ]
  },
  {
   "cell_type": "code",
   "execution_count": 29,
   "id": "significant-proportion",
   "metadata": {},
   "outputs": [
    {
     "data": {
      "text/plain": [
       "array([[1., 0., 0., 0., 0., 0., 0., 1., 1., 0.],\n",
       "       [0., 1., 0., 0., 0., 0., 0., 0., 0., 0.],\n",
       "       [0., 0., 0., 1., 0., 0., 0., 0., 0., 0.],\n",
       "       [0., 0., 0., 0., 0., 0., 0., 0., 0., 0.],\n",
       "       [0., 0., 0., 0., 0., 0., 0., 0., 0., 0.],\n",
       "       [0., 0., 0., 0., 0., 1., 0., 0., 0., 0.],\n",
       "       [0., 0., 0., 0., 0., 0., 0., 0., 0., 0.],\n",
       "       [0., 0., 0., 1., 0., 0., 0., 0., 0., 0.],\n",
       "       [0., 0., 0., 0., 0., 0., 0., 0., 1., 0.],\n",
       "       [0., 0., 1., 0., 0., 0., 0., 0., 0., 0.]])"
      ]
     },
     "execution_count": 29,
     "metadata": {},
     "output_type": "execute_result"
    }
   ],
   "source": [
    "combinedGenoma[:10,:]"
   ]
  },
  {
   "cell_type": "code",
   "execution_count": 30,
   "id": "copyrighted-pound",
   "metadata": {},
   "outputs": [
    {
     "data": {
      "text/plain": [
       "array([[1., 0., 0., 0., 1., 0., 0., 1., 1., 0.],\n",
       "       [0., 1., 0., 0., 0., 0., 0., 1., 0., 0.],\n",
       "       [0., 0., 0., 1., 0., 1., 0., 0., 0., 0.],\n",
       "       [0., 0., 0., 0., 0., 0., 1., 0., 0., 0.],\n",
       "       [0., 0., 0., 0., 0., 0., 0., 0., 0., 1.],\n",
       "       [0., 1., 0., 0., 0., 1., 0., 0., 0., 0.],\n",
       "       [0., 1., 0., 0., 0., 0., 0., 0., 0., 0.],\n",
       "       [0., 0., 0., 1., 0., 0., 0., 1., 0., 0.],\n",
       "       [0., 0., 0., 0., 1., 0., 0., 0., 1., 0.],\n",
       "       [0., 0., 1., 0., 0., 0., 1., 0., 0., 0.]])"
      ]
     },
     "execution_count": 30,
     "metadata": {},
     "output_type": "execute_result"
    }
   ],
   "source": [
    "combinedGenoma[N:N+10,:]"
   ]
  },
  {
   "cell_type": "code",
   "execution_count": 31,
   "id": "silent-coupon",
   "metadata": {},
   "outputs": [],
   "source": [
    "fitnessV = []\n",
    "vector = np.arange(nu)+1\n",
    "\n",
    "for ind in range(combinedGenoma.shape[0]):\n",
    "    fit = vector.dot(combinedGenoma[ind,:])\n",
    "    fitnessV.append(fit)"
   ]
  },
  {
   "cell_type": "code",
   "execution_count": 32,
   "id": "attempted-ethernet",
   "metadata": {},
   "outputs": [
    {
     "data": {
      "text/plain": [
       "<matplotlib.lines.Line2D at 0x7fcf8d1c1970>"
      ]
     },
     "execution_count": 32,
     "metadata": {},
     "output_type": "execute_result"
    },
    {
     "data": {
      "image/png": "[encoded data removed]",
      "text/plain": [
       "<Figure size 720x720 with 1 Axes>"
      ]
     },
     "metadata": {
      "needs_background": "light"
     },
     "output_type": "display_data"
    }
   ],
   "source": [
    "f,ax=plt.subplots(nrows=1,ncols=1,figsize=(10,10))\n",
    "ax.bar(np.arange(len(fitnessV)),fitnessV)\n",
    "ax.axvline(N,color='red')"
   ]
  },
  {
   "cell_type": "code",
   "execution_count": 33,
   "id": "prime-unemployment",
   "metadata": {},
   "outputs": [],
   "source": [
    "fitnessOrderIndex = np.argsort(fitnessV)[::-1]"
   ]
  },
  {
   "cell_type": "code",
   "execution_count": 34,
   "id": "decreased-nurse",
   "metadata": {},
   "outputs": [],
   "source": [
    "orderedGenoma = np.zeros((2*N,nu))\n",
    "for ii,fit in enumerate(fitnessOrderIndex):\n",
    "    orderedGenoma[ii,:] = combinedGenoma[fit,:]"
   ]
  },
  {
   "cell_type": "code",
   "execution_count": 35,
   "id": "ahead-eight",
   "metadata": {},
   "outputs": [],
   "source": [
    "fitnessVOrd = []\n",
    "vector = np.arange(nu)+1\n",
    "\n",
    "for ind in range(orderedGenoma.shape[0]):\n",
    "    fit = vector.dot(orderedGenoma[ind,:])\n",
    "    fitnessVOrd.append(fit)"
   ]
  },
  {
   "cell_type": "code",
   "execution_count": 36,
   "id": "tender-purse",
   "metadata": {},
   "outputs": [
    {
     "data": {
      "text/plain": [
       "<matplotlib.lines.Line2D at 0x7fcf8cfc1c10>"
      ]
     },
     "execution_count": 36,
     "metadata": {},
     "output_type": "execute_result"
    },
    {
     "data": {
      "image/png": "[encoded data removed]",
      "text/plain": [
       "<Figure size 720x720 with 1 Axes>"
      ]
     },
     "metadata": {
      "needs_background": "light"
     },
     "output_type": "display_data"
    }
   ],
   "source": [
    "f,ax=plt.subplots(nrows=1,ncols=1,figsize=(10,10))\n",
    "ax.bar(np.arange(len(fitnessVOrd)),fitnessVOrd)\n",
    "ax.axvline(N,color='red')"
   ]
  },
  {
   "cell_type": "markdown",
   "id": "committed-samoa",
   "metadata": {},
   "source": [
    "## Selección \n",
    "\n",
    "Una de las maneras de seleccionar los genotipos que se han creado por replicación-mutación es la denominada elistista, que consiste en crear una población del mismo tamaño $N$ a partir de los genotipos con mejor fitness. En otras palabras, elegir los $N$ primeros del ranking. Utiliza una selección elistista para escoger una población de $N$\n",
    "genotipos para la siguiente generación."
   ]
  },
  {
   "cell_type": "code",
   "execution_count": 37,
   "id": "classical-empty",
   "metadata": {},
   "outputs": [],
   "source": [
    "nuevaPoblacion = orderedGenoma[:N,:]"
   ]
  },
  {
   "cell_type": "markdown",
   "id": "classical-shoot",
   "metadata": {},
   "source": [
    "## Representación de los resultados\n",
    "\n",
    "Calculamos y representamos los nuevos valores del fitness de la población y comparamos con los de la población anterior. En concreto, el fitness medio y su varianza, así como el mínimo y el máximo. También representa\n",
    "su histograma. Compara con los valores que tenía la población en el paso inicial."
   ]
  },
  {
   "cell_type": "code",
   "execution_count": 38,
   "id": "piano-aviation",
   "metadata": {},
   "outputs": [
    {
     "data": {
      "text/plain": [
       "(100, 10)"
      ]
     },
     "execution_count": 38,
     "metadata": {},
     "output_type": "execute_result"
    }
   ],
   "source": [
    "nuevaPoblacion.shape"
   ]
  },
  {
   "cell_type": "code",
   "execution_count": 39,
   "id": "international-wheel",
   "metadata": {},
   "outputs": [
    {
     "data": {
      "text/plain": [
       "(100, 10)"
      ]
     },
     "execution_count": 39,
     "metadata": {},
     "output_type": "execute_result"
    }
   ],
   "source": [
    "binGenInit.shape"
   ]
  },
  {
   "cell_type": "code",
   "execution_count": 40,
   "id": "natural-tattoo",
   "metadata": {},
   "outputs": [],
   "source": [
    "fitnessANT = []\n",
    "fitnessPOST = []\n",
    "\n",
    "vector = np.arange(nu)+1\n",
    "\n",
    "for gen in range(N):\n",
    "    fitA = vector.dot(binGenInit[gen,:])\n",
    "    fitP = vector.dot(nuevaPoblacion[gen,:])\n",
    "    fitnessANT.append(fitA)\n",
    "    fitnessPOST.append(fitP)\n",
    "\n",
    "fitnessANT = np.asarray(fitnessANT)\n",
    "fitnessPOST = np.asarray(fitnessPOST)\n",
    "bothFitness = [fitnessANT,fitnessPOST]"
   ]
  },
  {
   "cell_type": "code",
   "execution_count": 41,
   "id": "moving-graphics",
   "metadata": {},
   "outputs": [],
   "source": [
    "maxFit = np.max((np.max(fitnessANT),np.max(fitnessPOST)))"
   ]
  },
  {
   "cell_type": "code",
   "execution_count": 44,
   "id": "grateful-present",
   "metadata": {},
   "outputs": [
    {
     "data": {
      "image/png": "[encoded data removed]",
      "text/plain": [
       "<Figure size 1440x720 with 2 Axes>"
      ]
     },
     "metadata": {
      "needs_background": "light"
     },
     "output_type": "display_data"
    }
   ],
   "source": [
    "f,ax=plt.subplots(nrows=1,ncols=2,figsize=(20,10))\n",
    "ax[0].hist(fitnessANT,bins=40,range=(0,maxFit+1),alpha=0.4,label='Pre')\n",
    "ax[0].hist(fitnessPOST,bins=40,range=(0,maxFit+1),alpha=0.4,label='Post')\n",
    "ax[1].boxplot(bothFitness,vert=True,patch_artist=True,labels=['Pre','Post'])\n",
    "ax[0].set_xlabel('Fitness')\n",
    "ax[1].set_ylabel('Fitness')\n",
    "ax[0].set_ylabel('Counts')\n",
    "ax[0].set_title('Histogram')\n",
    "ax[0].legend()\n",
    "plt.show()"
   ]
  },
  {
   "cell_type": "markdown",
   "id": "involved-english",
   "metadata": {},
   "source": [
    "## Ejercicio: Bucle de evolución-selección\n",
    "\n",
    "Utiliza los ejercicios anteriores para definir un bucle de replicación-selección de la población a partir de una población inicial. El número de iteraciones debe ser suficientemente elevado para permitir la convergencia de la fitness medio de la población. \n",
    "\n",
    "¿Podrías formular alguna conjetura sobre hacia qué fitness medio tenderá la población? \n",
    "\n",
    "¿Cómo depende la convergencia con la tasa de mutación?"
   ]
  },
  {
   "cell_type": "code",
   "execution_count": null,
   "id": "exact-source",
   "metadata": {},
   "outputs": [],
   "source": []
  }
 ],
 "metadata": {
  "kernelspec": {
   "display_name": "Python 3",
   "language": "python",
   "name": "python3"
  },
  "language_info": {
   "codemirror_mode": {
    "name": "ipython",
    "version": 3
   },
   "file_extension": ".py",
   "mimetype": "text/x-python",
   "name": "python",
   "nbconvert_exporter": "python",
   "pygments_lexer": "ipython3",
   "version": "3.8.10"
  }
 },
 "nbformat": 4,
 "nbformat_minor": 5
}

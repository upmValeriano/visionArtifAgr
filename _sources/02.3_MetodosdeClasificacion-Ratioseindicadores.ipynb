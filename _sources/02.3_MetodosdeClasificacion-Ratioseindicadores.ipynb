{
 "cells": [
  {
   "cell_type": "markdown",
   "metadata": {},
   "source": [
    "# Ratios e indicadores"
   ]
  },
  {
   "cell_type": "markdown",
   "metadata": {},
   "source": [
    "## Se hace una Carga del conjunto Iris desde la librería sk-learn\n",
    "\n",
    "   - Primero se vuelca a un DataFrame, con 4 columnas con sus caracteristicas y una columna con la clasificación objetivo\n",
    "   - Se muestra la descripción de cada uno de los valores (0, 1, 2) objetivo."
   ]
  },
  {
   "cell_type": "code",
   "execution_count": 16,
   "metadata": {},
   "outputs": [
    {
     "data": {
      "text/html": [
       "<div>\n",
       "<style scoped>\n",
       "    .dataframe tbody tr th:only-of-type {\n",
       "        vertical-align: middle;\n",
       "    }\n",
       "\n",
       "    .dataframe tbody tr th {\n",
       "        vertical-align: top;\n",
       "    }\n",
       "\n",
       "    .dataframe thead th {\n",
       "        text-align: right;\n",
       "    }\n",
       "</style>\n",
       "<table border=\"1\" class=\"dataframe\">\n",
       "  <thead>\n",
       "    <tr style=\"text-align: right;\">\n",
       "      <th></th>\n",
       "      <th>sepal length (cm)</th>\n",
       "      <th>sepal width (cm)</th>\n",
       "      <th>petal length (cm)</th>\n",
       "      <th>petal width (cm)</th>\n",
       "      <th>target</th>\n",
       "    </tr>\n",
       "  </thead>\n",
       "  <tbody>\n",
       "    <tr>\n",
       "      <th>0</th>\n",
       "      <td>5.1</td>\n",
       "      <td>3.5</td>\n",
       "      <td>1.4</td>\n",
       "      <td>0.2</td>\n",
       "      <td>0</td>\n",
       "    </tr>\n",
       "    <tr>\n",
       "      <th>1</th>\n",
       "      <td>4.9</td>\n",
       "      <td>3.0</td>\n",
       "      <td>1.4</td>\n",
       "      <td>0.2</td>\n",
       "      <td>0</td>\n",
       "    </tr>\n",
       "    <tr>\n",
       "      <th>2</th>\n",
       "      <td>4.7</td>\n",
       "      <td>3.2</td>\n",
       "      <td>1.3</td>\n",
       "      <td>0.2</td>\n",
       "      <td>0</td>\n",
       "    </tr>\n",
       "    <tr>\n",
       "      <th>3</th>\n",
       "      <td>4.6</td>\n",
       "      <td>3.1</td>\n",
       "      <td>1.5</td>\n",
       "      <td>0.2</td>\n",
       "      <td>0</td>\n",
       "    </tr>\n",
       "    <tr>\n",
       "      <th>4</th>\n",
       "      <td>5.0</td>\n",
       "      <td>3.6</td>\n",
       "      <td>1.4</td>\n",
       "      <td>0.2</td>\n",
       "      <td>0</td>\n",
       "    </tr>\n",
       "  </tbody>\n",
       "</table>\n",
       "</div>"
      ],
      "text/plain": [
       "   sepal length (cm)  sepal width (cm)  petal length (cm)  petal width (cm)  \\\n",
       "0                5.1               3.5                1.4               0.2   \n",
       "1                4.9               3.0                1.4               0.2   \n",
       "2                4.7               3.2                1.3               0.2   \n",
       "3                4.6               3.1                1.5               0.2   \n",
       "4                5.0               3.6                1.4               0.2   \n",
       "\n",
       "   target  \n",
       "0       0  \n",
       "1       0  \n",
       "2       0  \n",
       "3       0  \n",
       "4       0  "
      ]
     },
     "execution_count": 16,
     "metadata": {},
     "output_type": "execute_result"
    }
   ],
   "source": [
    "from sklearn.datasets import load_iris\n",
    "import pandas as pd\n",
    "iris = load_iris()\n",
    "df = pd.DataFrame(iris.data, columns=iris.feature_names)\n",
    "df['target']=iris['target']\n",
    "df.head()"
   ]
  },
  {
   "cell_type": "markdown",
   "metadata": {},
   "source": [
    "### Se divide el conjunto de datos de entrada en Entrenamiento (75%) y Validación (25%). Conjuntos Train y Test"
   ]
  },
  {
   "cell_type": "code",
   "execution_count": 17,
   "metadata": {},
   "outputs": [],
   "source": [
    "from sklearn.model_selection import train_test_split\n",
    "X, y = df.values[:,0:4], df.values[:,4]\n",
    "X_train, X_test, y_train, y_test =train_test_split(X, y, test_size=0.25, random_state=1, stratify=y)"
   ]
  },
  {
   "cell_type": "markdown",
   "metadata": {},
   "source": [
    "### Se hace el ajuste por Naïve-Bayes con la clase disponible en sk-learn"
   ]
  },
  {
   "cell_type": "code",
   "execution_count": 18,
   "metadata": {},
   "outputs": [
    {
     "data": {
      "text/html": [
       "<style>#sk-container-id-2 {color: black;}#sk-container-id-2 pre{padding: 0;}#sk-container-id-2 div.sk-toggleable {background-color: white;}#sk-container-id-2 label.sk-toggleable__label {cursor: pointer;display: block;width: 100%;margin-bottom: 0;padding: 0.3em;box-sizing: border-box;text-align: center;}#sk-container-id-2 label.sk-toggleable__label-arrow:before {content: \"▸\";float: left;margin-right: 0.25em;color: #696969;}#sk-container-id-2 label.sk-toggleable__label-arrow:hover:before {color: black;}#sk-container-id-2 div.sk-estimator:hover label.sk-toggleable__label-arrow:before {color: black;}#sk-container-id-2 div.sk-toggleable__content {max-height: 0;max-width: 0;overflow: hidden;text-align: left;background-color: #f0f8ff;}#sk-container-id-2 div.sk-toggleable__content pre {margin: 0.2em;color: black;border-radius: 0.25em;background-color: #f0f8ff;}#sk-container-id-2 input.sk-toggleable__control:checked~div.sk-toggleable__content {max-height: 200px;max-width: 100%;overflow: auto;}#sk-container-id-2 input.sk-toggleable__control:checked~label.sk-toggleable__label-arrow:before {content: \"▾\";}#sk-container-id-2 div.sk-estimator input.sk-toggleable__control:checked~label.sk-toggleable__label {background-color: #d4ebff;}#sk-container-id-2 div.sk-label input.sk-toggleable__control:checked~label.sk-toggleable__label {background-color: #d4ebff;}#sk-container-id-2 input.sk-hidden--visually {border: 0;clip: rect(1px 1px 1px 1px);clip: rect(1px, 1px, 1px, 1px);height: 1px;margin: -1px;overflow: hidden;padding: 0;position: absolute;width: 1px;}#sk-container-id-2 div.sk-estimator {font-family: monospace;background-color: #f0f8ff;border: 1px dotted black;border-radius: 0.25em;box-sizing: border-box;margin-bottom: 0.5em;}#sk-container-id-2 div.sk-estimator:hover {background-color: #d4ebff;}#sk-container-id-2 div.sk-parallel-item::after {content: \"\";width: 100%;border-bottom: 1px solid gray;flex-grow: 1;}#sk-container-id-2 div.sk-label:hover label.sk-toggleable__label {background-color: #d4ebff;}#sk-container-id-2 div.sk-serial::before {content: \"\";position: absolute;border-left: 1px solid gray;box-sizing: border-box;top: 0;bottom: 0;left: 50%;z-index: 0;}#sk-container-id-2 div.sk-serial {display: flex;flex-direction: column;align-items: center;background-color: white;padding-right: 0.2em;padding-left: 0.2em;position: relative;}#sk-container-id-2 div.sk-item {position: relative;z-index: 1;}#sk-container-id-2 div.sk-parallel {display: flex;align-items: stretch;justify-content: center;background-color: white;position: relative;}#sk-container-id-2 div.sk-item::before, #sk-container-id-2 div.sk-parallel-item::before {content: \"\";position: absolute;border-left: 1px solid gray;box-sizing: border-box;top: 0;bottom: 0;left: 50%;z-index: -1;}#sk-container-id-2 div.sk-parallel-item {display: flex;flex-direction: column;z-index: 1;position: relative;background-color: white;}#sk-container-id-2 div.sk-parallel-item:first-child::after {align-self: flex-end;width: 50%;}#sk-container-id-2 div.sk-parallel-item:last-child::after {align-self: flex-start;width: 50%;}#sk-container-id-2 div.sk-parallel-item:only-child::after {width: 0;}#sk-container-id-2 div.sk-dashed-wrapped {border: 1px dashed gray;margin: 0 0.4em 0.5em 0.4em;box-sizing: border-box;padding-bottom: 0.4em;background-color: white;}#sk-container-id-2 div.sk-label label {font-family: monospace;font-weight: bold;display: inline-block;line-height: 1.2em;}#sk-container-id-2 div.sk-label-container {text-align: center;}#sk-container-id-2 div.sk-container {/* jupyter's `normalize.less` sets `[hidden] { display: none; }` but bootstrap.min.css set `[hidden] { display: none !important; }` so we also need the `!important` here to be able to override the default hidden behavior on the sphinx rendered scikit-learn.org. See: https://github.com/scikit-learn/scikit-learn/issues/21755 */display: inline-block !important;position: relative;}#sk-container-id-2 div.sk-text-repr-fallback {display: none;}</style><div id=\"sk-container-id-2\" class=\"sk-top-container\"><div class=\"sk-text-repr-fallback\"><pre>GaussianNB()</pre><b>In a Jupyter environment, please rerun this cell to show the HTML representation or trust the notebook. <br />On GitHub, the HTML representation is unable to render, please try loading this page with nbviewer.org.</b></div><div class=\"sk-container\" hidden><div class=\"sk-item\"><div class=\"sk-estimator sk-toggleable\"><input class=\"sk-toggleable__control sk-hidden--visually\" id=\"sk-estimator-id-2\" type=\"checkbox\" checked><label for=\"sk-estimator-id-2\" class=\"sk-toggleable__label sk-toggleable__label-arrow\">GaussianNB</label><div class=\"sk-toggleable__content\"><pre>GaussianNB()</pre></div></div></div></div></div>"
      ],
      "text/plain": [
       "GaussianNB()"
      ]
     },
     "execution_count": 18,
     "metadata": {},
     "output_type": "execute_result"
    }
   ],
   "source": [
    "from sklearn.naive_bayes import GaussianNB\n",
    "clf_NB = GaussianNB()\n",
    "clf_NB.fit(X_train, y_train)"
   ]
  },
  {
   "cell_type": "markdown",
   "metadata": {},
   "source": [
    "## Matriz de Confusión\n",
    "Para el caso de un clasificador binario, una matriz de confusion es una matriz cuadrada $2 \\times 2$ que proporciona los :\n",
    "- Verdaderos Positivos (VP): valores positivos correctos\n",
    "- Verdaderos Negativos (VN): valores negativos correctos\n",
    "- Falsos Positivos (FP): valores positivos incorrectos\n",
    "- Falsos Negativos (FN): valores negativos incorrectos\n",
    "\n",
    "Además consideramos la realidad representada a la izquierda y la predicción en la barra superior:\n",
    "\n",
    "\n",
    "\n",
    "\n",
    "<img src=\"images/Mat_Confusion.png\" width=\"500px\">"
   ]
  },
  {
   "cell_type": "markdown",
   "metadata": {},
   "source": [
    "En nuestro conjunto __Iris__ al disponer de 3 clases distintas, en lugar de una matriz $2 \\times 2$ dispondremos una matriz $3 \\times 3$, que es posible calcular directamente con la librería sk-learn.\n",
    "\n",
    "Como se observa hay __un único elemento mal__ en el conjunto de __test__ predicho que aparece como versicolor, cuando debe ser virginica."
   ]
  },
  {
   "cell_type": "code",
   "execution_count": 19,
   "metadata": {},
   "outputs": [
    {
     "data": {
      "image/png": "[encoded data removed]",
      "text/plain": [
       "<Figure size 640x480 with 2 Axes>"
      ]
     },
     "metadata": {},
     "output_type": "display_data"
    }
   ],
   "source": [
    "from sklearn.metrics import ConfusionMatrixDisplay\n",
    "from sklearn.metrics import confusion_matrix\n",
    "y_pred = clf_NB.predict(X_test)\n",
    "cm = confusion_matrix(y_true=y_test, y_pred=y_pred)\n",
    "cm_display = ConfusionMatrixDisplay(cm, display_labels=iris['target_names']).plot()"
   ]
  },
  {
   "cell_type": "markdown",
   "metadata": {},
   "source": [
    "## Ratios que miden la precisión de la clasificación\n",
    "\n",
    "El __error__ de predicción (<b>ERR</b>) y la __exactitud__ (<b>ACC</b>, accuracy) mide cuantos ejemplos están mal clasificados o __calidad del modelo__. El error de predicción se calcula:\n",
    "\n",
    "$$ERR=\\frac{FP+FN}{VP+FN+FP+VN}$$\n",
    "\n",
    "La exactitud es:\n",
    "\n",
    "$$ACC=\\frac{VP+VN}{VP+FN+FP+VN}=1-ERR$$\n",
    "\n",
    "Otro ratio para medir la calidad es la __Precisión__ (__PRE__, Precision), ratio de verdaderos positivos frente a positivos de la predicción:\n",
    "\n",
    "$$PRE=\\frac{VP}{VP+FP}$$\n",
    "\n",
    "Un __clasificador perfecto__ tendrá __ERR = 0__, __ACC = 1__ y __PRE = 1__. "
   ]
  },
  {
   "cell_type": "markdown",
   "metadata": {},
   "source": [
    "En un conjunto de datos de entrenamiento donde __las clases están equilibradas__ son suficientes los anteriores ratios y también son utiles los ratios:\n",
    "\n",
    "- __Sensibilidad - SEN, TPR__ _(True Positive Rate o Razón de Verdaderos Positivos)_ : Es la probabilidad de que un positivo sea realmente positivo o capacidad del estimador para dar casos positivos (\"_enfermos_\"). Es la tasa de verdaderos positivos frente a positivos. Este parámetro también se denomina recall o exhaustividad.\n",
    "- __Especificidad - SPC, TNR__ _(True Negative Rate o Razón de Verdaderos Negativos)_ : Es la probabilidad de que un negativo sea realmente negativo o capacidad del estimador de dar casos negativos (\"_sanos_\"). Tasa de verdaderos negativos frente a negativos.\n",
    "\n",
    "$$SEN=\\frac{VP}{P}=\\frac{VP}{VP+FN}$$\n",
    "\n",
    "$$SPC=\\frac{VN}{N}=\\frac{VN}{VN+FP}$$\n",
    "\n",
    "Otros ratios interesantes que se pueden formar con la matriz de confusión son:\n",
    "\n",
    "- __Razón de Falsas Alarmas - FPR__ _(False Posive Rate o Ratio de Falsos Positivos)_ : Es la tasa de falsos positivos entre los positivos reales. Es igual __1 - Especificidad__:\n",
    "\n",
    "$$FPR =\\frac{FP}{N}=\\frac{FP}{VN+FP}=1-SPC$$ \n",
    "\n",
    "Un __clasificador perfecto__ tendrá __SEN=1__, __SPC=1__ y __FPR=0__."
   ]
  },
  {
   "cell_type": "markdown",
   "metadata": {},
   "source": [
    "### F1 - Score\n",
    "El __Valor-F__, o __F1-score__, combina las medidas de __precision y sensibilidad__ en un sólo valor. Permite comparar el rendimiento combinado de la precisión y la sensibilidad entre varios modelos.:\n",
    "\n",
    "$$F1=2\\frac{PRE \\times SEN}{PRE + SEN}$$\n",
    "\n",
    "El F1-Score es de gran utilidad cuando la distribución de las clases es desigual.\n",
    "\n",
    "Conforme a los estadísticos de Precisión y Sensibilidad se tienen las siguientes posibilidades:\n",
    "\n",
    "- Alta precisión y alta sensibilidad: el modelo de Machine Learning escogido maneja perfectamente esa clase.\n",
    "- Alta precisión y baja sensibilidad: el modelo de Machine Learning escogido no detecta la clase muy bien, pero cuando lo hace es altamente confiable.\n",
    "- Baja precisión y alta sensibilidad: El modelo de Machine Learning escogido detecta bien la clase,  pero también incluye muestras de la otra clase.\n",
    "- Baja precisión y baja sensibilidad: El modelo de Machine Learning escogido no logra clasificar la clase correctamente.\n",
    "\n",
    "Un __clasificador perfecto__ (__SEN=1__ y __ESP=1__) tendrá __F1=1__.\n",
    "\n",
    "Estos ratios están implementados en la __librería sklearn.metrics__\n",
    "\n",
    "https://scikit-learn.org/stable/modules/model_evaluation.html\n",
    "\n",
    "__NOTA A sklearn.metrics__:__ Algunas métricas se definen esencialmente para tareas de clasificación binaria (por ejemplo, f1_score, roc_auc_score). En estos casos, por defecto solo se evalúa la etiqueta positiva, asumiendo por defecto que la clase positiva está etiquetada como 1 (aunque esto puede configurarse a través del __parámetro pos_label__)."
   ]
  },
  {
   "cell_type": "markdown",
   "metadata": {},
   "source": [
    "### Consejos Generales (*)\n",
    "\n",
    "- __La precisión__ es un gran estadístico, Pero es útil únicamente cuando se tienen “datasets” simétricos (la cantidad de casos de la clase 1 y de las clase 2 tienen magnitudes similares)\n",
    "\n",
    "- __El indicador F1__ de la matriz de confusión es útil si se  tiene una distribución de clases desigual.\n",
    "\n",
    "- __Elija mayor precisión__ para conocer qué tan seguro está de los verdaderos positivos, Mientras que la sensibilidad o  “Recall” le servirá para saber si no está perdiendo positivos.\n",
    "\n",
    "- __Las Falsas Alarmas:__  Por ejemplo,  si cree que es mejor en su caso tener falsos positivos que falsos negativos, utilice una sensibilidad alta  (Recall) , cuando la aparición de falsos negativos le resulta inaceptable pero no le importa tener falsos positivos adicionales (falsas alarmas).\n",
    "\n",
    "Por ejemplo si es preferible que algunas personas sanas sean etiquetadas como diabéticas en lugar de dejar a una persona diabética etiquetada como sana.\n",
    "\n",
    "- __Elija precisión ( precision en inglés)__  para estar más seguro de sus verdaderos positivos. por ejemplo, correos electrónicos no deseados.  En este caso se prefiere tener algunos correos electrónicos “no deseados” en su bandeja de entrada en lugar de tener correos electrónicos “reales” en su bandeja de SPAM.\n",
    "\n",
    "- __Elija alta Especificidad__:  si desea identificar los verdaderos negativos, o lo que es igual cuando no desea falsos positivos. Por ejemplo conductores  y las pruebas de alcoholemia, donde sería intolerable que un falso positivo, libre de alcohol, sea penado.\n",
    "\n",
    "_(*)_ {cite:p}`Barrios_2019`"
   ]
  },
  {
   "cell_type": "markdown",
   "metadata": {},
   "source": [
    "### Primeramente obtenemos la predicción del modelo sobre el conjunto de Test"
   ]
  },
  {
   "cell_type": "code",
   "execution_count": 20,
   "metadata": {},
   "outputs": [
    {
     "data": {
      "text/plain": [
       "array([2., 0., 0., 0., 1., 0., 1., 1., 0., 1., 2., 2., 2., 1., 2., 1., 2.,\n",
       "       1., 1., 1., 1., 2., 2., 1., 0., 0., 0., 1., 2., 0., 0., 2., 1., 0.,\n",
       "       0., 1., 2., 2.])"
      ]
     },
     "execution_count": 20,
     "metadata": {},
     "output_type": "execute_result"
    }
   ],
   "source": [
    "y_pred = clf_NB.predict(X_test)\n",
    "y_pred"
   ]
  },
  {
   "cell_type": "markdown",
   "metadata": {},
   "source": [
    "### Y calculamos los indicadores\n",
    "\n",
    "En el cálculo de la __precisión__ si hay más de 2 clases distintas es obligatorio el parametro __average__ con las opciones:\n",
    "\n",
    "- '__binary__': Informa únicamente los resultados de la clase especificada por __pos_label__. Esto es aplicable solo si los destinos (y_ {true, pred}) son binarios.\n",
    "- '__micro__': Calcula métricas a nivel global contando el total de verdaderos positivos, falsos negativos y falsos positivos.\n",
    "- '__macro__': Calcula métricas para cada etiqueta y encuentre su media no ponderada. Esto no tiene en cuenta el desequilibrio de etiquetas.\n",
    "- '__weighted__' ('ponderado'): Calcula métricas para cada etiqueta y encuentre su promedio ponderado por soporte (el número de instancias verdaderas para cada etiqueta). Altera la métrica 'macro' para tener en cuenta el desequilibrio de etiquetas; puede resultar en una puntuación F que no se encuentra entre la precisión y el recuerdo.\n",
    "- '__samples__' ('muestras'): Calcula métricas para cada instancia y encuentre su promedio (solo es significativo para la clasificación de múltiples etiquetas donde esto difiere de la puntuación de precisión).\n",
    "\n",
    "De forma análoga se encuentra el parámetro __average__ en las funciones __recall_score__ y __f1_score__ usadas para el cálculo de los otros 2 indicadores"
   ]
  },
  {
   "cell_type": "code",
   "execution_count": 21,
   "metadata": {},
   "outputs": [
    {
     "name": "stdout",
     "output_type": "stream",
     "text": [
      "Exactitud - Accuracy: 0.974\n",
      "Precision: 0.974\n",
      "Sensibilidad - Recall: 0.974\n",
      "F1: 0.974\n"
     ]
    }
   ],
   "source": [
    "from sklearn.metrics import accuracy_score\n",
    "from sklearn.metrics import precision_score\n",
    "from sklearn.metrics import recall_score, f1_score\n",
    "print('Exactitud - Accuracy: %.3f' % accuracy_score(y_true=y_test, y_pred=y_pred))\n",
    "print('Precision: %.3f' % precision_score(y_true=y_test, y_pred=y_pred, average='micro'))\n",
    "print('Sensibilidad - Recall: %.3f' % recall_score(y_true=y_test, y_pred=y_pred, average='micro'))\n",
    "print('F1: %.3f' % f1_score(y_true=y_test, y_pred=y_pred, average='micro'))"
   ]
  },
  {
   "cell_type": "code",
   "execution_count": 22,
   "metadata": {},
   "outputs": [
    {
     "name": "stdout",
     "output_type": "stream",
     "text": [
      "Exactitud - Accuracy: 0.900 / 0.900\n",
      "Precision: 0.833 / 0.833\n",
      "Sensibilidad - Recall: 1.000 / 1.000\n",
      "F1: 0.909 / 0.909\n"
     ]
    },
    {
     "data": {
      "image/png": "[encoded data removed]",
      "text/plain": [
       "<Figure size 640x480 with 2 Axes>"
      ]
     },
     "metadata": {},
     "output_type": "display_data"
    }
   ],
   "source": [
    "_realidad=[0,1,0,1,0,1,0,1,0,1]\n",
    "_estimado=[1,1,0,1,0,1,0,1,0,1]\n",
    "VN, VP, FN, FP, N, P  = 4, 5, 0, 1, 4, 6\n",
    "PRE = VP/(VP+FP)\n",
    "SEN = VP/(VP+FN)\n",
    "print('Exactitud - Accuracy: {:.3f} / {:.3f}'.format(accuracy_score(y_true=_realidad, y_pred=_estimado), (VP+VN)/(P+N)))\n",
    "print('Precision: {:.3f} / {:.3f}'.format(precision_score(y_true=_realidad, y_pred=_estimado), PRE))\n",
    "print('Sensibilidad - Recall: {:.3f} / {:.3f}'.format(recall_score(y_true=_realidad, y_pred=_estimado), SEN))\n",
    "print('F1: {:.3f} / {:.3f}'.format(f1_score(y_true=_realidad, y_pred=_estimado), 2*(PRE*SEN)/(PRE+SEN)))\n",
    "CMD = ConfusionMatrixDisplay(confusion_matrix(y_true=_realidad, y_pred=_estimado)).plot()"
   ]
  },
  {
   "cell_type": "code",
   "execution_count": 23,
   "metadata": {},
   "outputs": [
    {
     "name": "stdout",
     "output_type": "stream",
     "text": [
      "Exactitud - Accuracy: 0.900 / 0.900\n",
      "Precision: 0.833 / 0.833\n",
      "Sensibilidad - Recall: 1.000 / 1.000\n",
      "F1: 0.909 / 0.909\n"
     ]
    },
    {
     "data": {
      "image/png": "[encoded data removed]",
      "text/plain": [
       "<Figure size 640x480 with 2 Axes>"
      ]
     },
     "metadata": {},
     "output_type": "display_data"
    }
   ],
   "source": [
    "_realidad=['A','B','A','B','A','B','A','B','A','B']\n",
    "_estimado=['B','B','A','B','A','B','A','B','A','B']\n",
    "VN, VP, FN, FP, N, P  = 4, 5, 0, 1, 4, 6\n",
    "PRE = VP/(VP+FP)\n",
    "SEN = VP/(VP+FN)\n",
    "print('Exactitud - Accuracy: {:.3f} / {:.3f}'.format(accuracy_score(y_true=_realidad, y_pred=_estimado), (VP+VN)/(P+N)))\n",
    "print('Precision: {:.3f} / {:.3f}'.format(precision_score(y_true=_realidad, y_pred=_estimado, pos_label='B'), PRE))\n",
    "print('Sensibilidad - Recall: {:.3f} / {:.3f}'.format(recall_score(y_true=_realidad, y_pred=_estimado, pos_label='B'), SEN))\n",
    "print('F1: {:.3f} / {:.3f}'.format(f1_score(y_true=_realidad, y_pred=_estimado, pos_label='B'), 2*(PRE*SEN)/(PRE+SEN)))\n",
    "CMD = ConfusionMatrixDisplay(confusion_matrix(y_true=_realidad, y_pred=_estimado), display_labels=['A','B']).plot()"
   ]
  },
  {
   "cell_type": "markdown",
   "metadata": {},
   "source": [
    "__El ratio que se utilizará a partir de ahora es la exactitud o accuracy__"
   ]
  },
  {
   "cell_type": "code",
   "execution_count": 24,
   "metadata": {},
   "outputs": [
    {
     "name": "stdout",
     "output_type": "stream",
     "text": [
      "Exactitud - Accuracy: 0.974\n"
     ]
    }
   ],
   "source": [
    "from sklearn.metrics import accuracy_score\n",
    "print('Exactitud - Accuracy: %.3f' % accuracy_score(y_true=y_test, y_pred=y_pred))"
   ]
  },
  {
   "cell_type": "markdown",
   "metadata": {},
   "source": [
    "\n",
    "## Control del error de Clasicación\n",
    "\n",
    "__Cuando clasificamos nuevas instancias__:\n",
    "\n",
    "- Interesa reducir la __tasa de error esperada__.\n",
    "- Realizar promedios reduce la varianza: $Var(\\bar{X}) = \\frac{1}{N} Var(X)$\n",
    "- Problema: sólo tenemos __un conjunto de entrenamiento__.\n",
    "- Una de las técnicas habituales es la llamada __bootstrapping__: se estima el error generando $N$ muestras equiprobables con reemplazamiento del conjunto de entrenamiento $D_N$.\n",
    "- Como las muestras con reemplazamiento tienen el mismo tamaño que $D_N$, se espera una fracción $1 - \\frac{1}{e}$ de registros en el conjunto de entrenamiento: es la llamada __regla $0.632$__ para el estimador bootstrap.\n",
    "\n",
    "### Explicación\n",
    "\n",
    "Dada una muestra $x_1,\\ldots,x_n$ original, el método bootstrap consiste en tomar nuevas muestras a partir de ella __con reemplazamiento__. \n",
    "\n",
    "Al generar una nueva muestra, tomamos elementos de la muestra original uno a uno. La probabilidad de escoger, por ejemplo, el elemento $x_1$ es $1/n$, por tanto la probabilidad de no tomarlo es $1-1/n$. Como las nuevas muestras tienen $n$ elementos, tomados de manera independiente, con reemplazamiento, la probabilidad que $x_1$ no esté en la nueva muestra es $(1-1/n)^n$.\n",
    "\n",
    "Al hacer $n\\to\\infty$ tenemos $1/e$ que es la probabilidad de que un elemento no haya sido escogido.\n",
    "\n",
    "Por lo tanto, la probabilidad que un elemento esté en las muestras tomadas con bootstrapping es $1-1/e\\approx0.632$.\n",
    "\n",
    "Esto quiere decir que cada una de las muestras que se crean usando el método bootstraping, tiene, en media, un 63% del conjunto original.\n",
    "\n",
    "\n",
    "## Una mejora de la precisión \n",
    "\n",
    "__Bagging (\"bootstrap aggregating\")__:\n",
    "\n",
    "- Realizamos N réplicas del conjunto de entrenamiento mediante __bootstrapping__.\n",
    "- En media, cada conjunto de entrenamiento tendrá un 63% de las instancias del conjunto inicial.\n",
    "- Utilizamos cada una de las réplicas para clasificar el conjunto de validación.\n",
    "- Usamos la regla del __voto mayoritario__ para asignar las clases.\n",
    "- Este método ayuda a corregir resultados de clasificadores \"inestables\".\n",
    "\n",
    "<img src=\"images/Bagging.png\" width=\"500px\">\n"
   ]
  },
  {
   "cell_type": "markdown",
   "metadata": {},
   "source": [
    "### Estimación del error por Bootstraping"
   ]
  },
  {
   "cell_type": "code",
   "execution_count": 25,
   "metadata": {},
   "outputs": [
    {
     "name": "stdout",
     "output_type": "stream",
     "text": [
      "\n",
      "Exactitud: 0.964 +/- 0.016\n"
     ]
    }
   ],
   "source": [
    "import numpy as np\n",
    "## Hacemos el entrenamiento de los clasificadores\n",
    "NumRepeticiones = 100 # hacemos 100 muestras con bootstrap\n",
    "NumMuestras = X_train.shape[0] # el número de muestras totales en X_train\n",
    "indices = np.arange(X_train.shape[0]) # un listado con los índices de X_train 1,2,...,NumMuestras\n",
    "clf_Boot = GaussianNB()\n",
    "scores=[]\n",
    "\n",
    "for rep in np.arange(NumRepeticiones):\n",
    "    indicesNew = np.random.choice(indices,NumMuestras,replace=True) #nuevos indices cogidos al azar\n",
    "    X_train_Boot = X_train[indicesNew] # tomamos los datos X de esos indices\n",
    "    y_train_Boot = y_train[indicesNew] # y sus categorías\n",
    "    clf_Boot.fit(X_train_Boot, y_train_Boot)\n",
    "    scores.append(clf_Boot.score(X_test, y_test))\n",
    "print('\\nExactitud: %.3f +/- %.3f' % (np.mean(scores), np.std(scores)))"
   ]
  },
  {
   "cell_type": "markdown",
   "metadata": {},
   "source": [
    "### Implementación del Bagging"
   ]
  },
  {
   "cell_type": "code",
   "execution_count": 26,
   "metadata": {},
   "outputs": [],
   "source": [
    "import numpy as np\n",
    "## Hacemos el entrenamiento de los clasificadores\n",
    "NumRepeticiones = 100 # hacemos 100 muestras con bootstrap\n",
    "NumMuestras = X_train.shape[0] # el número de muestras totales en X_train\n",
    "indices = np.arange(X_train.shape[0]) # un listado con los índices de X_train 1,2,...,NumMuestras\n",
    "clf_Bagg = [GaussianNB() for i in range(NumRepeticiones)]\n",
    "\n",
    "for rep in np.arange(NumRepeticiones):\n",
    "    indicesNew = np.random.choice(indices,NumMuestras,replace=True) #nuevos indices cogidos al azar\n",
    "    X_train_Bagg = X_train[indicesNew] # tomamos los datos X de esos indices\n",
    "    y_train_Bagg = y_train[indicesNew] # y sus categorías\n",
    "    clf_Bagg[rep].fit(X_train_Bagg, y_train_Bagg)    "
   ]
  },
  {
   "cell_type": "markdown",
   "metadata": {},
   "source": [
    "__Ahora se hace uso de N clasificadores entrenados para predecir con voto mayoritario el conjunto de test__ \n",
    "\n",
    "__Se usa la moda como forma de obtener la etiqueta más votada__"
   ]
  },
  {
   "cell_type": "code",
   "execution_count": 34,
   "metadata": {},
   "outputs": [
    {
     "name": "stdout",
     "output_type": "stream",
     "text": [
      "Exactitud - Accuracy: 0.9737\n"
     ]
    }
   ],
   "source": [
    "### ATENCIÓN: HAY QUE USAR EL VOTO MAYORITARIO, POR TANTO HAY QUE GUARDAR TODOS LOS VOTOS\n",
    "from scipy import stats\n",
    "from sklearn.metrics import accuracy_score\n",
    "y_predMult = [clf_Bagg[rep].predict(X_test) for rep in range(NumRepeticiones)]\n",
    "y_predVoto = stats.mode(y_predMult)[0]\n",
    "print('Exactitud - Accuracy: %.4f' % accuracy_score(y_true=y_test, y_pred=y_predVoto))"
   ]
  },
  {
   "cell_type": "markdown",
   "metadata": {},
   "source": [
    "### Implementación del Bagging (librería sk-learn)\n",
    "\n",
    "En la librería sk-learn se encuentra una implementación del Bagging para clasificadores en la sublibrería __BaggingClassifier__:\n",
    "\n",
    "https://scikit-learn.org/stable/modules/generated/sklearn.ensemble.BaggingClassifier.html\n",
    "\n",
    "Los __parámetros__ más importantes del constructor son:\n",
    "\n",
    "- __base_estimator__ : el estimador base que utiliza. Por defecto es __DecisionTreeClassifier__.\n",
    "- __n_estimators__ : número de estimadores, __por defecto son 10__.\n",
    "\n",
    "Los __métodos__ que se pueden invocar desde el objeto creado con el constructor son, entre otros:\n",
    "\n",
    "- __fit(X,y)__ : realiza el ajuste del modelo a partir de una conjunto __X__ de características y un conjuno __y__ de respuestas.\n",
    "- __predict(X)__ : predice las resupuestas de un conjunto de características __X__.\n",
    "- __score(X,y)__ : devuelve la exactitud o accuracy conocidos un conjunto de características __X__ y sus respuestas correctas __y__.\n"
   ]
  },
  {
   "cell_type": "code",
   "execution_count": 35,
   "metadata": {},
   "outputs": [
    {
     "name": "stdout",
     "output_type": "stream",
     "text": [
      "Exactitud - Accuracy: 0.9737\n"
     ]
    }
   ],
   "source": [
    "from sklearn.ensemble import BaggingClassifier\n",
    "bggC = BaggingClassifier()\n",
    "bggC.fit(X_train, y_train)\n",
    "print('Exactitud - Accuracy: %.4f' % bggC.score(X_test, y_test))"
   ]
  },
  {
   "cell_type": "markdown",
   "metadata": {},
   "source": [
    "__Se repite el Bagging cambiando el clasificador__\n",
    "\n",
    "Se usa el clasificador K-Vecinos\n",
    "\n",
    "https://scikit-learn.org/stable/modules/generated/sklearn.neighbors.KNeighborsClassifier.html"
   ]
  },
  {
   "cell_type": "code",
   "execution_count": 37,
   "metadata": {},
   "outputs": [
    {
     "name": "stdout",
     "output_type": "stream",
     "text": [
      "Exactitud - Accuracy: 0.9737\n"
     ]
    }
   ],
   "source": [
    "from sklearn.ensemble import BaggingClassifier\n",
    "from sklearn.neighbors import KNeighborsClassifier\n",
    "bggC = BaggingClassifier(estimator=KNeighborsClassifier())\n",
    "bggC.fit(X_train, y_train)\n",
    "print('Exactitud - Accuracy: %.4f' % bggC.score(X_test, y_test))"
   ]
  },
  {
   "cell_type": "markdown",
   "metadata": {},
   "source": [
    "<span style='color:Red'> <font size=\"5\"> <b>Información Complementaria</b></font> </span>"
   ]
  },
  {
   "cell_type": "markdown",
   "metadata": {},
   "source": [
    "## ¿Es bueno el clasificador? P-Valor\n",
    "\n",
    "\n",
    "Un clasificador implica:\n",
    "\n",
    "- Un conjunto de datos D\n",
    "- Un clasificador entrenado, F, sobre D.\n",
    "- Una medida de la exactitud del clasificador, accuracy (ACC).\n",
    "\n",
    "Se tiene un único dato (ACC) y con eso no se puede hacer nada. Es como si mide la altura de una persona, no dice nada acerca de la media de una población\n",
    "\n",
    "Entonces, __¿cómo contestar la pregunta anterior acerca de si un solo clasificador es bueno?__\n",
    "\n",
    "Usando un test de permutación se mide la probabilidad de que el ACC alcanzado haya sido por pura casualidad. El p-valor representará la fracción de datos aleatorios en los que el clasificador se comporta igual o mejor que en los datos reales que tenemos.\n",
    "\n",
    "En el fondo se está analizando si hay correlación entre X e Y. El clasificador se encarga de encontrar esta estructura/conexión, pero si ésta no existe, el clasificador no está cumpliendo su función, y no debe ser considerado un buen clasificador.\n",
    "\n",
    "__La hipótesis nula es que el clasificador que tenemos ha actuado por pura suerte__, es decir, no es bueno. Y el método consiste en:\n",
    "- Generar, a partir de los datos, nuevos conjuntos de datos “aleatorios”, realizando permutaciones de los que tenemos. Generamos conjuntos D’ a partir de D. El número de nuevos conjuntos es M.\n",
    "- Para cada nuevo conjunto de datos, D’, usamos el clasificador F, y hallamos una precisión ACC’\n",
    "- Contamos el número de veces que ACC’ es mejor que la ACC original que teníamos con los datos originales, lo llamamos “Cont”\n",
    "\n",
    "La formula para calcular el p-valor es\n",
    "\n",
    "$$p\\_valor = \\frac{Cont+1}{M+1}$$\n",
    "\n",
    "El p-valor representa la fracción de las muestra aleatorias en que el clasificador se comportó mejor que en los datos originales. __Por tanto, si el p-valor es pequeño, podemos decir que la ACC es significativa (significativamente alta) y el clasificador es significativo sobre la hipótesis nula, es decir, rechazamos la hipótesis nula.__\n",
    "\n",
    "Respecto a las versiones “randomizadas” de los datos, D’ (las permutaciones), es importante subrayar que, idealmente, __deberían tomarse__ todas las posibles permutaciones de los datos, pero esto es costosísimo computacionalmente.\n",
    "\n"
   ]
  },
  {
   "cell_type": "code",
   "execution_count": 38,
   "metadata": {},
   "outputs": [
    {
     "name": "stdout",
     "output_type": "stream",
     "text": [
      "Exactitud - Accuracy Inicial: 0.974\n"
     ]
    }
   ],
   "source": [
    "## Entrenamiento inicial y toma del ACC\n",
    "from sklearn.naive_bayes import GaussianNB\n",
    "from sklearn.metrics import accuracy_score\n",
    "clf_NB = GaussianNB()\n",
    "clf_NB.fit(X_train, y_train)\n",
    "y_pred=clf_NB.predict(X_test)\n",
    "ACC_Ini = accuracy_score(y_true=y_test, y_pred=y_pred)\n",
    "print('Exactitud - Accuracy Inicial: %.3f' % ACC_Ini)"
   ]
  },
  {
   "cell_type": "markdown",
   "metadata": {},
   "source": [
    "__Se mide la Exactitud en M permutaciones__"
   ]
  },
  {
   "cell_type": "code",
   "execution_count": 39,
   "metadata": {},
   "outputs": [
    {
     "data": {
      "text/plain": [
       "(0.009900990099009901, 0)"
      ]
     },
     "execution_count": 39,
     "metadata": {},
     "output_type": "execute_result"
    }
   ],
   "source": [
    "import numpy as np\n",
    "## Hacemos el entrenamiento de los clasificadores\n",
    "NumRepeticiones = 100 # hacemos 100 muestras con bootstrap\n",
    "NumMuestras = X_train.shape[0] # el número de muestras totales en X_train\n",
    "indices = np.arange(X_train.shape[0]) # un listado con los índices de X_train 1,2,...,NumMuestras\n",
    "clf_Boot = GaussianNB()\n",
    "Cont = 0\n",
    "\n",
    "for rep in np.arange(NumRepeticiones):\n",
    "    indicesNew = np.random.choice(indices,NumMuestras,replace=True) #nuevos indices cogidos al azar\n",
    "    X_train_Boot = X_train[indicesNew] # tomamos los datos X de esos indices\n",
    "    y_train_Boot = y_train[indicesNew] # y sus categorías\n",
    "    clf_Boot.fit(X_train_Boot, y_train_Boot)\n",
    "    if clf_Boot.score(X_test, y_test) > ACC_Ini:\n",
    "        Cont +=1\n",
    "\n",
    "p_valor = (Cont+1)/(NumRepeticiones + 1)\n",
    "p_valor, Cont"
   ]
  },
  {
   "cell_type": "markdown",
   "metadata": {},
   "source": [
    "__Luego podemos concluir que el clasificador GaussianNB para el conjunto Iris es bueno__\n"
   ]
  },
  {
   "cell_type": "code",
   "execution_count": 40,
   "metadata": {},
   "outputs": [
    {
     "data": {
      "text/plain": [
       "array([  0,   1,   2,   3,   4,   5,   6,   7,   8,   9,  10,  11,  12,\n",
       "        13,  14,  15,  16,  17,  18,  19,  20,  21,  22,  23,  24,  25,\n",
       "        26,  27,  28,  29,  30,  31,  32,  33,  34,  35,  36,  37,  38,\n",
       "        39,  40,  41,  42,  43,  44,  45,  46,  47,  48,  49,  50,  51,\n",
       "        52,  53,  54,  55,  56,  57,  58,  59,  60,  61,  62,  63,  64,\n",
       "        65,  66,  67,  68,  69,  70,  71,  72,  73,  74,  75,  76,  77,\n",
       "        78,  79,  80,  81,  82,  83,  84,  85,  86,  87,  88,  89,  90,\n",
       "        91,  92,  93,  94,  95,  96,  97,  98,  99, 100, 101, 102, 103,\n",
       "       104, 105, 106, 107, 108, 109, 110, 111])"
      ]
     },
     "execution_count": 40,
     "metadata": {},
     "output_type": "execute_result"
    }
   ],
   "source": [
    "indices"
   ]
  },
  {
   "cell_type": "code",
   "execution_count": 41,
   "metadata": {},
   "outputs": [
    {
     "data": {
      "text/plain": [
       "array([109,  46,  30,  89,   3, 106,  17, 110,  90,  19,  25,  24,  66,\n",
       "        51, 104,  47,  21,  21,  17,  66,  63,  49,  26, 102,  46,  91,\n",
       "        19,  41,  62,   6, 104,  63,  90,  40,  16,  24,  36,  19, 108,\n",
       "        90,  35,  95,  70,  26,  45,  64,  58,  91,  27,  77,  73,  62,\n",
       "        86,  69,  31,  10,  66,  55,  17,  62,  34,  96,   0,  89,   7,\n",
       "        10,  24,  85,  54,  46,   3,  24,  46,  96,  63,   6,  61,  82,\n",
       "        98,  32, 109, 106, 103,  28,   1,  52,  74,  48,  47,  78,  38,\n",
       "        80, 107,  26,  79, 100,   7,  20,   3,  47,  67,   9,  31,   3,\n",
       "        64,  63,  81,  19,  13,  33,  29,  58])"
      ]
     },
     "execution_count": 41,
     "metadata": {},
     "output_type": "execute_result"
    }
   ],
   "source": [
    "np.random.choice(indices,NumMuestras,replace=True)"
   ]
  }
 ],
 "metadata": {
  "kernelspec": {
   "display_name": "Python 3 (ipykernel)",
   "language": "python",
   "name": "python3"
  },
  "language_info": {
   "codemirror_mode": {
    "name": "ipython",
    "version": 3
   },
   "file_extension": ".py",
   "mimetype": "text/x-python",
   "name": "python",
   "nbconvert_exporter": "python",
   "pygments_lexer": "ipython3",
   "version": "3.11.5"
  }
 },
 "nbformat": 4,
 "nbformat_minor": 4
}

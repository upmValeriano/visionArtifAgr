{
 "cells": [
  {
   "cell_type": "code",
   "execution_count": 1,
   "id": "western-rebound",
   "metadata": {},
   "outputs": [],
   "source": [
    "import numpy as np"
   ]
  },
  {
   "cell_type": "markdown",
   "id": "moderate-curtis",
   "metadata": {},
   "source": [
    "# Algoritmos Genéticos\n",
    "\n",
    "## Motivación: \n",
    "\n",
    "* Problemas de __optimización__\n",
    "\n",
    "La determinación de los valores óptimos de una función es un problema central en ciencias, ingeniería y matemáticas.\n",
    "\n",
    "```{figure} ./images/ga_optimization1.png\n",
    "Función de dos variables\n",
    "```\n",
    "\n",
    "```{figure} ./images/ga_optimization2.png\n",
    "Óptimo de una función\n",
    "```\n",
    "\n",
    "## Antecedentes\n",
    "\n",
    "* Crear vida artificial (Golem, Pygmalión, Frankenstein, Matrix, Blade Runner, Los Sims, [GITS](https://en.wikipedia.org/wiki/Ghost_in_the_Shell))\n",
    "\n",
    "* ¿Puede un ordenador o un programa estar vivo? ¿Y evolucionar?\n",
    "   * von Neumann - máquinas que se reproducen\n",
    "   * John Holland (1975) Computación evolutiva: se pueden _criar_ programas del mismo modo que criamos caballos\n",
    "      * Algoritmos genéticos \n",
    "      * Programas de ordenador que evolucionan\n",
    "\n",
    "\n",
    "## Bibliografía\n",
    "\n",
    "* {cite}`Chopard2018`\n",
    "* {cite}`Kubat2015`\n",
    "* {cite}`Floreano2008`\n",
    "* {cite}`Kramer2017`"
   ]
  },
  {
   "cell_type": "code",
   "execution_count": null,
   "id": "computational-shape",
   "metadata": {},
   "outputs": [],
   "source": []
  }
 ],
 "metadata": {
  "kernelspec": {
   "display_name": "Python 3",
   "language": "python",
   "name": "python3"
  },
  "language_info": {
   "codemirror_mode": {
    "name": "ipython",
    "version": 3
   },
   "file_extension": ".py",
   "mimetype": "text/x-python",
   "name": "python",
   "nbconvert_exporter": "python",
   "pygments_lexer": "ipython3",
   "version": "3.8.10"
  }
 },
 "nbformat": 4,
 "nbformat_minor": 5
}

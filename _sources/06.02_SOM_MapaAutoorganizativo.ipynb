{
 "cells": [
  {
   "cell_type": "markdown",
   "id": "conceptual-prisoner",
   "metadata": {},
   "source": [
    "# Mapas autoorganizativos\n",
    "\n",
    "+ [Mapas de Kohonen (1980s)](https://en.wikipedia.org/wiki/Self-organizing_map)\n",
    "\n",
    "+ Ejemplo paradigmático de algoritmo de aprendizaje __no supervisado__ bio-inspirado capaz de agrupar datos\n",
    "\n",
    "\n",
    "## Propiedades\n",
    "\n",
    "Los mapas autoorganizativos:\n",
    "\n",
    "* Son un algoritmo de aprendizaje [__no supervisado__](https://en.wikipedia.org/wiki/Unsupervised_learning)\n",
    "\n",
    "* Tienen aplicación tanto en el campo del _clustering_ como en la clasificación\n",
    "    * También se puede aplicar como una herramienta de clasificación con aprendizaje supervisado\n",
    "\n",
    "* Producen una representación en usualmente dos dimensiones de los _inputs_\n",
    "    * Datos multidimensionales son representados en _mapas_ bi-dimensionales de nodos\n",
    "\n",
    ":::{figure-md} markdown-fig.6.02.0\n",
    "<img src=\"./images/som_esquema.png\" alt=\"fishy\" class=\"bg-primary mb-1\" width=\"600px\">\n",
    "\n",
    "Ejemplo de _mapa_- SOM\n",
    ":::\n",
    "\n",
    "+ El tiempo de computación aumenta __linealmente__ con el tamaño de los datos.\n",
    "    * Tienen una complejidad _lineal_ por lo que son adecuados para problemas de _Big Data_"
   ]
  },
  {
   "cell_type": "markdown",
   "id": "55f1ef4c-0637-4515-8ab7-18f7e103ae11",
   "metadata": {},
   "source": []
  },
  {
   "cell_type": "markdown",
   "id": "overall-uganda",
   "metadata": {},
   "source": [
    "## Red Neuronal del SOM\n",
    "\n",
    "* El SOM es una red neuronal formada por un [__grid__](https://en.wikipedia.org/wiki/Lattice_graph) (usualmente bidimensional) de nodos/neuronas \n",
    "\n",
    "* Mediante entrenamiento la red es capaz de __aprender__ a relacionar topográficamente los vectores de entrada con los vectores de la red (neuronas).\n",
    "    * Los SOM son mapas que relacionan una señal de entrada con neuronas de una red de acuerdo con su proximidad topográfica\n",
    "    * _Impulsos similares son procesados por neuronas cercanas_\n",
    "\n",
    "\n",
    "### Nodos / Neuronas\n",
    "\n",
    "* Cada nodo tiene una posición fija en el gráfico/_grid_\n",
    "* Cada nodo tiene asociado un vector _prototípico_ de igual dimensión a la de los _inputs_ (datos de entrada). \n",
    "    * Por ejemplo, si usamos datos que contengan los campos/atributos \"edad\", \"sexo\", \"altura\", \"peso\", cada nodo del grid tendrá asociados unos valores para cada uno de los atributos\n",
    "    * Cada neurona de la red (bidimensional) representa un vector de dimensión $n>>2$\n",
    "* (Una vez entrenado el SOM) cada nodo tiene asociado un subconjunto (puede ser vacío) de instancias de los datos de entrada\n",
    "    * Cada instancia de los datos de entrada está _linkeada_ a un nodo del mapa SOM\n",
    "    * Son disjuntos 2 a 2\n",
    "    * Un nodo puede _representar_ varias instancias de los datos de entrada\n"
   ]
  },
  {
   "cell_type": "markdown",
   "id": "bronze-diving",
   "metadata": {},
   "source": [
    "## Propiedades topológicas\n",
    "\n",
    "* La característica clave de un SOM es que las propiedades topológicas de los datos de entrada se preservan en en el mapa\n",
    "    * _Inputs_ cercanos (la similaridad se define en función de los atributos, e.g., edad, sexo,...) estarán representadas por _nodos_ (neuronas) cercanas en el grid SOM.\n",
    "\n",
    "* Es un algoritmo de _clustering_ que considera una estructura topológica (de vecindad) sobre los _clusters_\n",
    "    * Los datos que están próximos pertenecerán al mismo _clúster_ (al igual que otros algoritmos de clustering), o a _clusters_ __vecinos__\n",
    "\n",
    "* Son una herramienta adecuada para la visualización de datos __multidimensionales__ ya que los _clústeres_ pueden ser representados de acuerdo a su topología (_vecindad_)\n",
    "\n",
    "\n",
    ":::{figure-md} markdown-fig.6.02.1\n",
    "<img src=\"./images/SOM_R_1.jpg\" alt=\"fishy\" class=\"bg-primary mb-1\" width=\"600px\">\n",
    "\n",
    "Ejemplo de _mapa_- SOM\n",
    ":::\n",
    "\n",
    "\n",
    "\n",
    "\n"
   ]
  },
  {
   "cell_type": "markdown",
   "id": "adverse-teacher",
   "metadata": {},
   "source": [
    "## Visualización\n",
    "\n",
    "* Se utilizan para agrupar y representar conjuntos de datos de dimensiones elevadas en una red\n",
    "    * habitualmente, bidimensional\n",
    "    * también se utilizan redes 1D y 3D.\n",
    "\n",
    "* Una representación típica de un SOM es un [_heatmap_](https://en.wikipedia.org/wiki/Heat_map) que muestral la distribución de un atributo a través del mapa.\n",
    "\n",
    ":::{figure-md} markdown-fig.6.02.3\n",
    "<img src=\"./images/SOM_R_2.jpg\" alt=\"fishy\" class=\"bg-primary mb-1\" width=\"600px\">\n",
    "\n",
    "SOM unidimensional\n",
    ":::\n",
    "\n",
    "\n",
    "```{admonition} ¿Qué opinas de este ejemplo?\n",
    ":class: tip\n",
    "Coges a todos los asistentes a un concierto. Les dices que comparen sus atributos (edad, género, salario, altura) y que se muevan hasta que están lo más cerca posible a otra gente cuyos atributos sean lo más similar a ellos. Si entonces cada uno muestra una carta al cielo indicando su atributo (edad), el resultado es un SOM _heatmap_.\n",
    "\n",
    "```\n",
    "\n",
    "\n",
    ":::{figure-md} markdown-fig.6.02.4\n",
    "<img src=\"./images/SOM_R_4_counts.jpg\" alt=\"fishy\" class=\"bg-primary mb-1\" width=\"600px\">\n",
    "\n",
    "SOM unidimensional\n",
    ":::\n",
    "\n",
    "* Ayudan a hacer un [análisis exploratorio de los datos](https://en.wikipedia.org/wiki/Exploratory_data_analysis)\n",
    "\n",
    "* Realizan una [reducción de la dimensionalidad](https://en.wikipedia.org/wiki/Dimensionality_reduction) de los datos"
   ]
  },
  {
   "cell_type": "markdown",
   "id": "informal-decimal",
   "metadata": {},
   "source": [
    "## Bioinspirados\n",
    "\n",
    "* Son un caso concreto de redes neuronales en el cual es aprendizaje es [competitivo](https://en.wikipedia.org/wiki/Competitive_learning)\n",
    "\n",
    "* Basados en la interpretación de imágenes del sistema visual de los seres vivos\n",
    "    * _Plasticidad_ de las conexiones sinápticas del cerebro\n",
    "    * Las conexiones neuronales se _refuerzan_ o _desaparecen_ en la fase de aprendizaje\n",
    "    * Las modificaciones de las conexiones se hacen a través de la experiencia (_inputs_ recibidos), sin supervisión\n",
    "    \n",
    "    \n",
    "\n",
    "\n"
   ]
  },
  {
   "cell_type": "markdown",
   "id": "collectible-thompson",
   "metadata": {},
   "source": [
    "## Desarrollo histórico\n",
    "\n",
    "+ Diferentes variantes se han ido desarrollando hasta la fecha que permiten su aplicación a datos no numéricos (e.g. categóricos)\n",
    "\n",
    "Presentación (1982):\n",
    "\n",
    "+ {cite}`Kohonen1982a`\n",
    "+ {cite}`Kohonen1982b`\n",
    "\n",
    "Originalmente se utilizó para trabajar con valores númericos (versión _on-line_)\n",
    "\n",
    "Una versión _promedio_ (_batch algorithm_) fue presentada en\n",
    "\n",
    "+ {cite}`Kohonen1995`\n",
    "\n",
    "para trabajar con símbolos.\n",
    "\n"
   ]
  },
  {
   "cell_type": "code",
   "execution_count": null,
   "id": "major-brunei",
   "metadata": {},
   "outputs": [],
   "source": []
  }
 ],
 "metadata": {
  "kernelspec": {
   "display_name": "Python 3 (ipykernel)",
   "language": "python",
   "name": "python3"
  },
  "language_info": {
   "codemirror_mode": {
    "name": "ipython",
    "version": 3
   },
   "file_extension": ".py",
   "mimetype": "text/x-python",
   "name": "python",
   "nbconvert_exporter": "python",
   "pygments_lexer": "ipython3",
   "version": "3.10.6"
  }
 },
 "nbformat": 4,
 "nbformat_minor": 5
}

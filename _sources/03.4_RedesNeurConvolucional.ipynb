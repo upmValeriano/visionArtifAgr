{
 "cells": [
  {
   "cell_type": "markdown",
   "metadata": {
    "id": "mlpDWxKjv1ZJ"
   },
   "source": [
    "# Redes Neuronales Convoluciones con arquitectura Pytorch\n",
    "\n"
   ]
  },
  {
   "cell_type": "markdown",
   "metadata": {
    "editable": true,
    "slideshow": {
     "slide_type": ""
    },
    "tags": []
   },
   "source": [
    "## Introducción\n",
    "Las __redes convolucionales__ ({cite:p}`lecun1989backpropagation`), también conocidas como redes neuronales convolucionales, (o convolutional neural networks CNN o __ConvNet__) , son un tipo especializado de red neuronal utilizadas para procesar datos con una topología en cuadrícula. \n",
    "\n",
    "Las __ConvNet__ se diseñaron para procesar imágenes y tratan de simular el funcionamiento de la visión humana. Restringen la arquitectura para usar un conjunto de pesos más reducido. En particular, a diferencia de una red neuronal densa, las capas ConvNet tienen neuronas dispuestas en 3 dimensiones: ancho, alto, profundidad (se adoptan las iniciales en inglés $w,h,d$). En las redes neuronales densas se tiene una matriz de pesos $(m,n)$ para conectar una capa anterior de $n$ neuronas con una de $m$. Aquí se conectarán las $n$ neuronas con $d$ capas convolucionales usando un bloque de $(w,h,d)$ pesos. La reducción de complejidad viene dado porque la dimensión de $(w,h)$ es muy inferior a $(m,n)$\n",
    "\n",
    "Una __operación de convolución__ básica se aplica a una imagen bidimensional __I__, usando un kernel o filtro __K__ bidimensional y que da como resultado una nueva imagen __S__:\n",
    "\n",
    "$$S(i,j)=(K*I)(i,j)=\\displaystyle\\sum_{m}\\displaystyle\\sum_{n}=I(m,n)K(i-m,j-n)$$\n",
    "\n",
    "Un ejemplo gráfico del proceso de convolución para una entrada con 3 canales y dimensión __5x5__ $(W_1=5, H_1=5, D_1=3)$ al que se le aplica un filtro __3x3__ con un salto de __2__ y un relleno a cero de __1__  obteniendo __2__ canales de salida $(K=2, F=3, S=2, P=1)$ es\n",
    "\n",
    "<img src=\"images/ExampleFilterConv.png\" width=\"900px\" align=\"center\">\n",
    "\n",
    "Como se puede comprobar el elemento $-3$ del primer mapa de salida se obtiene multiplicando uno a uno los elementos de cada filtro por los canales de entrada y sumando todos los productos más el valor del bias. Idem para el siguiente elemento $-1$ una vez ejecutado el salto hacia la derecha en columnas. Una vez llegado hasta la última columna se ejecuta un salto en filas. El __relleno a ceros__ (_padding_) permite al filtro barrer todo el mapa de entrada y obtener en salida un mapa de igual dimensión. El __salto__ (strike) en el desplazamiento provoca una reducción en la dimensión del mapa de salida."
   ]
  },
  {
   "cell_type": "markdown",
   "metadata": {},
   "source": [
    "Una __Arquitectura Convolucional__ tipo estará compuesta por las capas: [INPUT - CONV - RELU - POOL - FC]. Cuyo detalle es:\n",
    "\n",
    "- __INPUT__ contendrá los valores en píxeles de la imagen, en este caso una imagen de ancho b, altura h, y con tres canales de color R, G, B. El vector de datos de entrada va a ser un tensor o matriz de 4 dimensiones __(n, c, b, h)__, donde __n__ representará el número de observaciones en el lote tratado, __c__ el número de canales, __b__ es el ancho de la imagen y __h__ es la altura de la imagen.\n",
    "\n",
    "- Los __filtros__ que conectan los pixels localmente son compartidos y son __aprendibles__. Los parámetros entrenables del filtro de una capa $l$ ($W_l$) tiene dimensiones __(co, ci, f, f)__, donde __co__ es el número de canales de salida (los canales del tensor $Z_l$), __ci__ es el número de canales de entrada (los canales del tensor $A_{l-1}$) y __f__ es el tamaño del filtro. Además se incluye un parámetro de bias $B_l$, que es un vector de dimensiones __(co)__. \n",
    "\n",
    "- La capa __RELU__ aplicará una función de activación por elementos, como el umbral $(max(0,x))$ en cero. Esto deja el tamaño del tensor de esta capa sin cambios __(n, c, b, h)__.\n",
    "- La capa __POOL__ realizará una operación de __downsampling__ a lo largo de las dimensiones espaciales (ancho, alto), lo que dará como resultado un volumen __(n, c, b*, h*)__, siendo __(b*,h*)__ inferiores a __(b,h)__. Esta capa no utiliza pesos aprendibles.\n",
    "- La capa __FC o densa__  (es decir, totalmente conectada) calculará los puntajes de clase. Las capas densas tienen una matriz entrenable $W_l$ de dos dimensiones __(m,p)__, siendo __m__ el nº de carácteristicas de la salida de la capa (el vector $X_l$) y __p__ el número de características de la entrada a la capa (el vector $A_{l-1}$)"
   ]
  },
  {
   "cell_type": "markdown",
   "metadata": {
    "id": "Q-RD5aCIv1ZV"
   },
   "source": [
    "### Reglas generales para modelar una red convolucional\n",
    "\n",
    "La __capa de entrada__ (que contiene la imagen) debe ser divisible por $2^n$. Los números comunes incluyen 32 (por ejemplo, CIFAR-10), 64, 96 (por ejemplo, STL-10) o 224 (por ejemplo, ImageNet), 384 y 512.\n",
    "\n",
    "Las __capas conv__ deben usar filtros pequeños (por ejemplo, 3x3 o como máximo 5x5), usar un salto de $S = 1$ y, lo que es más importante, rellenar el volumen de entrada con ceros (padding) de tal manera que la capa conv no altere las dimensiones espaciales de la entrada (si F = 3, P = 1; si F = 5, P=2; en general $P = (F - 1)/2$). \n",
    "\n",
    "Las __capas de pool__ se encargan de reducir el muestreo de las dimensiones espaciales de la entrada. La configuración más común es usar max-pooling con campos receptivos 2x2 (es decir, F = 2), y un salto de 2 (S = 2); esto es, se descarta exactamente el 75%. Más infrecuente, por la dificultad de encajarlo en la dimensión de la entrada es el uso de F = 3 y S = 2. Dimensiones de maxpooling superiores son muy infrecuentes ya que es muy agresiva y deficitaria y conduce a peores rendimentos.\n"
   ]
  },
  {
   "cell_type": "markdown",
   "metadata": {
    "id": "yi6eCRxEv1ZX"
   },
   "source": [
    "### Algunas arquitecturas convolucionales destacadas\n",
    "\n",
    "Hay varias arquitecturas en el campo de las Redes Convolucionales que tienen un nombre. Los más comunes son:\n",
    "\n",
    "- __LeNet__. Las primeras aplicaciones exitosas de redes convolucionales fueron desarrolladas por {cite:p}`lecun1998gradient` en la década de 1990. De estos, el más conocido es la arquitectura LeNet que se utilizaba para leer códigos postales, dígitos, etc.\n",
    "- __AlexNet__. El primer trabajo que popularizó las redes convolucionales en visión artificial fue el AlexNet, desarrollado por {cite:p}`krizhevskyimagenet` (2012). AlexNet se presentó al desafío ImageNet ILSVRC en 2012 y superó significativamente al segundo finalista (error top 5 del 16% en comparación con el subcampeón con un error del 26%). La red tenía una arquitectura muy similar a LeNet, pero era más profunda, más grande y presentaba capas convolucionales apiladas una encima de la otra (anteriormente era común tener una sola capa CONV siempre seguida inmediatamente por una capa POOL).\n",
    "- __ZF Neto__. El ganador de ILSVRC 2013 fue una Red Convolucional de Matthew Zeiler y Rob Fergus. Se hizo conocido como ZFNet (abreviatura de Zeiler & Fergus Net). Fue una mejora en AlexNet al ajustar los hiperparámetros de la arquitectura, en particular al expandir el tamaño de las capas convolucionales medias y hacer que el paso y el tamaño del filtro en la primera capa sean más pequeños.\n",
    "- __GoogLeNet__. El ganador de ILSVRC 2014 fue una red convolucional de {cite:p}`szegedy2014googlenet` de Google. Su principal contribución fue el desarrollo de un Módulo de Inicio que redujo drásticamente el número de parámetros en la red (4M, en comparación con AlexNet con 60M). Además, este documento utiliza Average Pooling en lugar de capas totalmente conectadas en la parte superior de ConvNet, eliminando una gran cantidad de parámetros que no parecen importar mucho. También hay varias versiones de seguimiento de GoogLeNet, la más reciente __Inception-v4__.\n",
    "- __VGGNet__. El subcampeón en ILSVRC 2014 fue la red de Karen Simonyan y Andrew Zisserman que se conoció como VGGNet. Su principal contribución fue mostrar que la profundidad de la red es un componente crítico para un buen rendimiento. Su mejor red final contiene 16 capas CONV / FC y, atractivamente, presenta una arquitectura extremadamente homogénea que solo realiza circunvoluciones 3x3 y agrupación 2x2 desde el principio hasta el final. Su modelo preentrenado está disponible para uso plug and play en Caffe. Una desventaja de VGGNet es que es más caro de evaluar y utiliza mucha más memoria y parámetros (140M). La mayoría de estos parámetros se encuentran en la primera capa totalmente conectada, y desde entonces se descubrió que estas capas FC se pueden eliminar sin degradar el rendimiento, lo que reduce significativamente el número de parámetros necesarios.\n",
    "- __ResNet__. Residual Network desarrollado por {cite:p}`kaiming2015deep` fue el ganador de ILSVRC 2015. Cuenta con conexiones de salto especiales y un uso intensivo de la normalización por lotes. A la arquitectura también le faltan capas totalmente conectadas al final de la red. ResNets son actualmente modelos de red neuronal convolucional de última generación y son la opción predeterminada para usar ConvNets en la práctica (a partir del 10 de mayo de 2016). "
   ]
  },
  {
   "cell_type": "markdown",
   "metadata": {
    "id": "5XYbLMM9AruB"
   },
   "source": [
    "### Esquema de la arquitectura VGGNet\n",
    "\n",
    "El modelo logra una precisión de prueba del 92,7 % entre los cinco primeros en ImageNet, que es un conjunto de datos de más de 14 millones de imágenes pertenecientes a 1000 clases. Dentro del modelo VGGNet se implementa la arquitectura VGG16:\n",
    "\n",
    "<img src=\"images/arquConv_VGG16.png\" width=\"500px\" align=\"center\">\n"
   ]
  },
  {
   "cell_type": "markdown",
   "metadata": {
    "id": "zad2eQGpv1ZZ"
   },
   "source": [
    "### Redes Residuales Profundas\n",
    "\n",
    "Las Redes Residuales Profundas (__ResNets__) consisten en muchas \"Unidades Residuales\" apiladas. Cada unidad (ver la siguiente figura) puede expresarse de forma general:\n",
    "\n",
    "$$y_l = h(x_l) + F(w_l, W_l)$$\n",
    "$$x_{l+1}=f(y_l)$$\n",
    "\n",
    "<img src=\"images/ResNetUnit.png\" width=\"100px\" align=\"center\">\n",
    "\n",
    "Dónde $x_l$  y   $x_{l+1}$  son entradas y salidas de la unidad $l$-ésima, $F$  es una función residual, $h(x_l)=x_l$  es un mapeo de identidad y $f$ es la función ReLU.\n",
    "\n",
    "Para un mayor detalle y por ejemplo profundizar en la retropropagación de las ResNets consultar el capitulo de Kaiming:\n",
    "\n",
    "https://link.springer.com/chapter/10.1007/978-3-319-46493-0_38\n",
    "\n",
    "Ver también: https://pytorch.org/hub/pytorch_vision_resnet/"
   ]
  },
  {
   "cell_type": "markdown",
   "metadata": {},
   "source": [
    "## Entrenamiento de una red convolucional\n",
    "\n",
    "En cada capa de la red convolucional tendrá lugar, según tipología, un proceso de filtro convolucional, agrupación o ponderación lineal seguido de una activación. Todo ello constituye el paso adelante o proceso __forward__ de la red. Para una red ya entrenada, el proceso forward permite obtener las __predicciones__.\n",
    "\n",
    "El entrenamiento de la red requiere un proceso de __retropropagación__ o __backpropagation__. Las capas finales que tienen que clasificar los patrones que han extraido las capas convolucionales son __capas densas__, como el perceptron o completamente conectadas (\"full connected\"). Puede haber 2 o 3 capas densas y en ellas el cálculo de los __gradientes delta__ y el ajuste de las matrices __W__ por su gradiente se realiza tal cual se ha comentado en el perceptron.\n",
    "\n",
    "El bloque de capas densas, acabará propagando una matriz $\\Delta$ que se usará para obtener el gradiente y entrenar sus Filtros y Bias y propagar un $\\Delta$ a su vez a la capa anterior. Dependiendo del tipo de capa el proceso de forma esquemática será así:\n",
    "\n"
   ]
  },
  {
   "cell_type": "markdown",
   "metadata": {},
   "source": [
    "### Capa de aplanado\n",
    "\n",
    "La capa de aplanado se situa al final del proceso de convolución y tiene por objeto cambiar la dimensión de los tensores para que los procesen las capas densas. La función __forward__ tiene que convertir un tensor de dimensión __(n, c, b, h)__ en bidimensional __(n, c\\*b\\*h) = (n, m)__ para cederle al bloque de capas densas. Por tanto la __retropropagación__ recibirá una matriz $\\Delta_{n,m}^l$ bidimensional y tiene que recolocarla a tamaño  $\\Delta_{n,c,b,h}^{l-1}$. Estás capas no tienen configuración dinámica y no tiene que ajustar ninguna matriz __W__.  \n",
    "\n"
   ]
  },
  {
   "cell_type": "markdown",
   "metadata": {},
   "source": [
    "### Capa de Agrupación\n",
    "\n",
    "   Las capas de agrupación (__maxpooling__) tienen también una configuración estática, el parámetro __p__ de reducción de escala y la regla de agrupación, no hay matriz __W__ entrenable. En la __retropropagación__ sólo hay que progragar la matriz $\\Delta^l$ recibida para obtener la matriz  $\\Delta^{l-1}$. El tamaño de $\\Delta^{l-1}$ se incrementará según la inversa de la escala __p__ y la obtención de los $\\delta_{ij}^{l-1}$ a partir de $\\delta_{ij}^l$ seguirá una regla inversa. Por ejemplo si __p=2__ y se tiene agrupación por máximo, se repetirá cada valor $\\delta_{ij}^l$ en una región __2x2__ de  $\\Delta^{l-1}$.\n"
   ]
  },
  {
   "cell_type": "markdown",
   "metadata": {},
   "source": [
    "### Capa de convolución\n",
    "\n",
    "* __Entrenamiento:__ conocidas las matrices $A^{l-1}$ y $\\Delta^l$ y considerando las dimensiones del filtro convolucional $W^l$ hay que moverse por $A^{l-1}$ multiplicando sus regiones por cada uno de los escalares $\\delta^l_{ij}$. El resultado es una matriz ($\\frac{\\partial{C}}{\\partial{W^l}}$), de la misma dimensión que $W^l$ a la que se acumula para optimizarla:\n",
    "\n",
    "$$W^l \\leftarrow -\\eta \\frac{\\partial{C}}{\\partial{W^l}}$$\n",
    "\n",
    "La __obtención__ de $\\frac{\\partial{C}}{\\partial{W^l}}$ es como se muestra en el __siguiente gráfico__ (donde se supone $W^l$ un filtro $3\\times 3$,  $A^{l-1} = [x_{ij}]$ con dimensión $4\\times 4$ y $\\Delta^l$ es dimensión $2\\times 2$):\n",
    "\n"
   ]
  },
  {
   "cell_type": "markdown",
   "metadata": {},
   "source": [
    "<img src=\"images/conv_gradW3.png\" width=\"800px\" align=\"center\">\n"
   ]
  },
  {
   "cell_type": "markdown",
   "metadata": {},
   "source": [
    "* __Nueva propagación:__ para obtener $\\Delta^{l-1}$ desde $W^l$ y $\\Delta^l$, aplicando lo que se denomina una __convolución traspuesta__. El filtro $W^l$ se combina sobre cada $\\delta^l_{ij}$ para obtener la matriz $\\Delta^{l-1}$ de la forma en que se explica en el siguiente gráfico:\n",
    "\n",
    "<img src=\"images/conv_gradA.png\" width=\"800px\" align=\"center\">\n",
    "\n",
    "Y continuaría así:\n",
    "\n",
    "<img src=\"images/conv_gradA2.png\" width=\"800px\" align=\"center\">\n",
    "\n",
    "La __convolución traspuesta__ existe como método en la arquitectura pytorch y además de ejecutarse internamente en el proceso de entrenamiento, se usa para modelos más avanzados como forma de trasladar tensores de una escala inferior a una superior dentro del proceso forward. \n",
    "\n",
    "<a href=\"https://pytorch.org/docs/stable/generated/torch.nn.ConvTranspose2d.html\">https://pytorch.org/docs/stable/generated/torch.nn.ConvTranspose2d.html</a>\n",
    " "
   ]
  },
  {
   "cell_type": "markdown",
   "metadata": {},
   "source": [
    "```{note}\n",
    "El gradiente delta se propaga en una capa convolucional usando un filtro convolucional transpuesto.\n",
    "```"
   ]
  },
  {
   "cell_type": "markdown",
   "metadata": {},
   "source": [
    "__Observaciones:__ En el cuaderno _\"Maqueta de red neuronal convolucional\"_ se realiza una justificación de las anteriores operaciones convolucionales en un caso particular; sin padding ni strike, pero que resulta suficientemente general."
   ]
  },
  {
   "cell_type": "markdown",
   "metadata": {},
   "source": [
    "### Otras consideraciones\n",
    "\n",
    "* __Función de pérdida (Loss Function)__ o de Coste: La función de pérdida más habitual es la __entropia cruzada__ que va asociada con el uso de la función de activación __softmax__ en la última capa.\n",
    "\n",
    "La función __softmax__ a partir del vector ponderación lineal $\\bar{z}$ obtiene una activación a un __vector probabilidad__ $\\bar{p}$, donde cada elemento toma el valor:\n",
    "\n",
    "$$p_i = \\frac{e^{z_i}}{\\sum_j e^{z_j}}$$\n",
    "\n",
    "Y la función de pérdida __cross_entropy__ entre $\\bar{p}$ y el valor real de entrenamiento $\\bar{y}$\n",
    "\n",
    "$$p_i = -\\sum_j y_j \\cdot ln(p_j)$$\n",
    "\n",
    "Tiene la ventaja que en combinación con __softmax__ da un valor del gradiente __delta__ muy simple para la última capa (__L__):\n",
    "\n",
    "$$\\frac{\\partial C}{\\partial \\bar{z^L}}=\\bar{\\delta^L} = \\bar{p} - \\bar{y}$$\n",
    "\n",
    "\n",
    "<a href=\"https://pytorch.org/docs/stable/nn.html#loss-functions\">https://pytorch.org/docs/stable/nn.html#loss-functions</a>"
   ]
  },
  {
   "cell_type": "markdown",
   "metadata": {},
   "source": [
    "* __Optmizador__ que hace referencia en la manera en que se ajustan los pesos y bias para optimizar la red.\n",
    "\n",
    "En el __gradiente descenso__ se aplican los gradientes usando un __ratio de entrenamiento__ $\\eta$.\n",
    "\n",
    "El __gradiente descenso estocástico__ muestrea observaciones en un conjunto de entrenamiento de gran dimensión.\n",
    "\n",
    "El optimizador __Adam__ aplica una tasa de entrenamiento variable que se adapta automáticamente en las distintas capas de la arquitectura."
   ]
  },
  {
   "cell_type": "markdown",
   "metadata": {
    "id": "f4C_JiIEv1ZZ"
   },
   "source": [
    "## Ejercicio práctico de entrenamiento de un conjunto de imagenes usando convoluciones\n",
    "\n",
    "El manejo de mapas implica pasar de usar matrices como modelo de datos a tensores que son matrices de varias dimensiones. Los costes computacionales del entrenamiento de una red convolucional profunda con un conjunto de entrenamiento con valores $N$ alto es muy elevado. Todo ello lleva a ser más práctico usar una arquitectura de desarrollo como __Pytorch__ en lugar de __sk-learn__ y usar una arquitectura de ejecución __GPU__ en lugar de __CPU__. Este cuaderno está preparado para usarse en Google Colaboratory, donde se puede realizar un ejecución gratuita en __GPU__.\n",
    "\n",
    "PyTorch es una biblioteca de aprendizaje automático de código abierto basada en la biblioteca de Torch, utilizado para implementar aplicaciones de visión artificial o procesamiento de lenguajes naturales. Desarrollado por el Laboratorio de Investigación de Inteligencia Artificial4 de Facebook (FAIR).Es un software libre y de código abierto liberado bajo la Licencia Modificada de BSD. A pesar de que la interfaz de Python está más pulida y es el foco principal del desarrollo, PyTorch también tiene una interfaz en C++.\n",
    "\n",
    "Varios software de Aprendizaje Profundo están construidas utilizando PyTorch, como Tesla Autopilot, Uber's Pyro, HuggingFace's Transformers, PyTorch Lighting, y Catalyst.\n",
    "\n",
    "PyTorch proporciona dos características de alto nivel:\n",
    "\n",
    "- Computación de tensores (como NumPy ) con una aceleración fuerte a través de unidades de procesamientos gráficos (GPU).\n",
    "- Redes neuronales profundas construidas en un sistema de diferenciación automática de bases de datos.\n",
    "\n",
    "https://pytorch.org/\n",
    "\n",
    "\n",
    "Comprendido el funcionamiento de __sk-learn__, el diseño de una red neuronal en __Pytorch__ requiere los siguientes pasos básicos:\n",
    "\n",
    "- Los datos se estructuran en tensores de 4 dimensiones ($N, C, B, H$) para manejar imagenes bidimensionales ($B, H$). Siendo $N$ el número de ejemplos del lote o de un conjunto completo de entrenamiento, $C$ es el número de canales de entrada (3 para RGB) o la profundidad de mapas de cada capa.\n",
    "- Hay que definir una clase con la estructura de las capas de la red. La clase tendrá un constructor (__Init__) y un método __forward__. Crearemos un objeto llamando al constructor. Por ejemplo: __model = CNN_long()__.\n",
    "- Hay que especificar la función de pérdida y el método de optimización.\n",
    "- El __entrenamiento__ requerirá hacer un bucle por época donde se extraigan 1 a 1 los lotes del conjunto de entrenamiento y se vayan calculando las pérdidas y entrenando la red. Es un proceso estándar aunque algo más abierto que en __sk-learn__.\n",
    "- El __modelo entrenado__ se puede __guardar en fichero__. Y una vez guardado es posible su recuperación para no tener que repetir el entrenamiento."
   ]
  },
  {
   "cell_type": "markdown",
   "metadata": {
    "id": "HZ4nxXEBAruC"
   },
   "source": [
    "### Modos de ejecución del cuaderno\n",
    "\n",
    "El cuaderno tiene una serie de variables booleanas que le permite ejecutarlo de diferentes maneras:\n",
    "\n",
    "- __googleColaboratory__ : estando a True activará las opciones de __acceso a Drive de Google__ y a la ejecución __CUDA de Google Colaboratory__.\n",
    "- __entrenamiento__ : estando a True ejecuta el entrenamiento y guarda los datos a fichero en la carpeta __data__ ya sea en Drive o local. Si está a False recupera la configuración de fichero existente en __data__.\n",
    "- __resNet__ : estando a True se ejecuta sobre el modelo definido en __class ResNet(nn.Module)__ que implementa una red residual. Si está a False carga un modelo en función del valor de la variable _convolucionProfunda_.\n",
    "- __convolucionProfunda__ : Si _resNet_ está a False y aquí aparece True implementa __class CNN_long(nn.Module)__ con 3 bloques y hasta 6 convoluciones. En ella se presenta un estilo muy simple de programación de Pytorch basado en el uso de _nn.Sequential_. Si está a False se implementa __class CNN_short(nn.Module)__ con sólo 2 convoluciones.\n",
    "\n",
    "El __entrenamiento__ de un modelo CNN_short es viable en una máquina CPU como Windows. Para el resto de modelos lo recomendable es una ejecución en una máquina con capacidad GPU. Google Colaboratory tiene un entorno libre que permite hacerlo manteniendo la sesión activa de forma manual. Con una cuenta de pago sería posible hacer esta ejecución en un segundo plano.\n"
   ]
  },
  {
   "cell_type": "code",
   "execution_count": 1,
   "metadata": {
    "id": "n-X77pWrx2IK"
   },
   "outputs": [],
   "source": [
    "import glob, os\n",
    "import numpy as np\n",
    "from PIL import Image\n",
    "from IPython import display\n",
    "import matplotlib.pyplot as plt\n",
    "import torch.nn.functional as F\n",
    "import torchvision\n",
    "import torchvision.transforms as transforms\n",
    "import torch\n",
    "import torch.nn as nn\n",
    "from torch.autograd import Variable\n",
    "from tqdm import tqdm"
   ]
  },
  {
   "cell_type": "markdown",
   "metadata": {
    "id": "eQYX-B6D-Nnp"
   },
   "source": [
    "**Se definen los parámetros de ejecución**"
   ]
  },
  {
   "cell_type": "code",
   "execution_count": 2,
   "metadata": {
    "id": "5s58Pdaw-MJb"
   },
   "outputs": [],
   "source": [
    "googleColaboratory = False\n",
    "entrenamiento = False\n",
    "convolucionProfunda = False\n",
    "resNet = False\n",
    "if googleColaboratory:\n",
    "    import google as goo"
   ]
  },
  {
   "cell_type": "markdown",
   "metadata": {
    "id": "TqmdKN48v1Zd"
   },
   "source": [
    "### Carga de Datos\n",
    "\n",
    "PyTorch tiene dos primitivas para trabajar con bases de datos conocidas para hacer pruebas: __torch.utils.data.DataLoader__ y __torch.utils.data.Dataset__. \n",
    "\n",
    "__Dataset__ almacena los ejemplos y sus correspondientes etiquetas, y __DataLoader__ genera un iterable sobre el conjunto de datos.\n",
    "\n",
    "Se utiliza la base de datos en línea __CIFAR10__ con 50.000 imagenes de entrenamiento de 10 clases distintas y 10.000 imagenes para prueba:\n",
    "\n",
    "https://pytorch.org/tutorials/beginner/blitz/cifar10_tutorial.html\n",
    "\n",
    "Las imágenes en CIFAR-10 tienen un tamaño de 3x32x32, es decir, imágenes en color de 3 canales de 32x32 píxeles de tamaño.\n",
    "\n",
    "La base de datos es accesible desde __torchvision.datasets__\n"
   ]
  },
  {
   "cell_type": "code",
   "execution_count": 3,
   "metadata": {
    "colab": {
     "base_uri": "https://localhost:8080/"
    },
    "editable": true,
    "id": "kPZo8DzCy0cH",
    "outputId": "a0f8b913-8fb2-4c02-b523-1e4ffbd059f4",
    "slideshow": {
     "slide_type": ""
    },
    "tags": []
   },
   "outputs": [],
   "source": [
    "if googleColaboratory:\n",
    "    goo.colab.drive.mount('/content/drive/')"
   ]
  },
  {
   "cell_type": "code",
   "execution_count": 4,
   "metadata": {
    "colab": {
     "base_uri": "https://localhost:8080/"
    },
    "editable": true,
    "id": "5yFHJmD8v1Zd",
    "outputId": "e757dd1e-2a5b-4fc6-def1-1deed8828a39",
    "slideshow": {
     "slide_type": ""
    },
    "tags": [
     "hide-cell"
    ]
   },
   "outputs": [
    {
     "name": "stdout",
     "output_type": "stream",
     "text": [
      "Files already downloaded and verified\n",
      "Files already downloaded and verified\n",
      "Tensor Entrenamiento= (50000, 32, 32, 3) Tensor Validación= (10000, 32, 32, 3)\n"
     ]
    }
   ],
   "source": [
    "import torch\n",
    "from torchvision import datasets, transforms\n",
    "\n",
    "\n",
    "lote_size = 128\n",
    "lote_size = 4\n",
    "# Download and load the training data\n",
    "if googleColaboratory:\n",
    "  trainset = datasets.CIFAR10('/content/drive/My Drive/Colab Notebooks/data/', download=True, train=True, transform=transforms.ToTensor())\n",
    "else:\n",
    "  trainset = datasets.CIFAR10('data/', download=True, train=True, transform=transforms.ToTensor())\n",
    "trainloader = torch.utils.data.DataLoader(trainset, batch_size=lote_size, shuffle=True)\n",
    "\n",
    "# Download and load the test data\n",
    "if googleColaboratory:\n",
    "  testset = datasets.CIFAR10('/content/drive/My Drive/Colab Notebooks/data/', download=True, train=False, transform=transforms.ToTensor())\n",
    "else:\n",
    "  testset = datasets.CIFAR10('data/', download=True, train=False, transform=transforms.ToTensor())\n",
    "testloader = torch.utils.data.DataLoader(testset, batch_size=lote_size, shuffle=True)\n",
    "\n",
    "print(\"Tensor Entrenamiento=\", trainset.data.shape, \"Tensor Validación=\", testset.data.shape)\n",
    "clases=('avion', 'coche','pajaro', 'gato', 'ciervo','perro','rana','caballo','barco', 'camión')"
   ]
  },
  {
   "cell_type": "markdown",
   "metadata": {
    "id": "Y1GqdMbav1Ze"
   },
   "source": [
    "__Se visualizan algunas de las imagenes cargadas__"
   ]
  },
  {
   "cell_type": "code",
   "execution_count": 5,
   "metadata": {
    "colab": {
     "base_uri": "https://localhost:8080/",
     "height": 320
    },
    "id": "4XiIg7bBv1Zf",
    "outputId": "62acd9bc-19df-421e-d393-c898e62dcdbf"
   },
   "outputs": [
    {
     "data": {
      "image/png": "[encoded data removed]",
      "text/plain": [
       "<Figure size 600x300 with 1 Axes>"
      ]
     },
     "metadata": {},
     "output_type": "display_data"
    },
    {
     "data": {
      "image/png": "[encoded data removed]",
      "text/plain": [
       "<Figure size 600x300 with 1 Axes>"
      ]
     },
     "metadata": {},
     "output_type": "display_data"
    },
    {
     "data": {
      "image/png": "[encoded data removed]",
      "text/plain": [
       "<Figure size 600x300 with 1 Axes>"
      ]
     },
     "metadata": {},
     "output_type": "display_data"
    }
   ],
   "source": [
    "from torchvision.utils import make_grid\n",
    "for ix in range(3):\n",
    "  for images, _ in trainloader:\n",
    "    plt.figure(figsize=(6,3))\n",
    "    plt.axis('off')\n",
    "    plt.imshow(make_grid(images, nrow=16).permute((1, 2, 0)))\n",
    "    break"
   ]
  },
  {
   "cell_type": "markdown",
   "metadata": {
    "id": "PsZtorxmAruE"
   },
   "source": [
    "### Clases con la definición de la Red"
   ]
  },
  {
   "cell_type": "code",
   "execution_count": 6,
   "metadata": {
    "editable": true,
    "id": "rR1W4qOqv1Zf",
    "slideshow": {
     "slide_type": ""
    },
    "tags": [
     "hide-cell"
    ]
   },
   "outputs": [],
   "source": [
    "class CNN_short(nn.Module):\n",
    "    def __init__(self):\n",
    "        super(CNN_short, self).__init__()  ## Llamada al constructor de la clase padre nn.Module\n",
    "        # capa convolucional (ve tensores Nx3x32x32 y devuelve tensores Nx6x28x28)\n",
    "        self.conv1 = nn.Conv2d(in_channels=3, out_channels=6, kernel_size=5, stride=1, padding=0)                             \n",
    "        self.pool = nn.MaxPool2d(kernel_size=2)   # Devuelve tensores  Nx6x14x14\n",
    "       \n",
    "        # capa convolucional (ve tensores Nx6x14x14  y devuelve tensores Nx16x10x10)\n",
    "        self.conv2 = nn.Conv2d(in_channels=6, out_channels=16, kernel_size=5, stride=1, padding=0)     \n",
    "        # Capa oculta totalmente conectada. Salida a 10 clases\n",
    "        \n",
    "        self.fc1 = nn.Linear(16 * 5 * 5, 120)\n",
    "        self.fc2 = nn.Linear(120, 84)\n",
    "        self.fc3 = nn.Linear(84, 10)\n",
    "\n",
    "    def forward(self, x):\n",
    "        x = self.pool(F.relu(self.conv1(x))) # Entran tensores Nx3x32x32 y salen Nx6x14x14\n",
    "        x = self.pool(F.relu(self.conv2(x))) # Entran tensores Nx6x14x14 y salen Nx16x5x5\n",
    "        # Se aplana la salida de conv2 a (batch_size, 16 * 5 * 5)\n",
    "        x = x.view(-1, 16*5*5) # Se aplana a un vector 16x5x5 = 400\n",
    "        x = F.relu(self.fc1(x)) # Capa densa de 400 -> 120\n",
    "        x = F.relu(self.fc2(x)) # Capa densa de 120 -> 84\n",
    "        x = self.fc3(x) # Capa densa de 84 -> 10 con la puntuación por clase\n",
    "        return x"
   ]
  },
  {
   "cell_type": "code",
   "execution_count": 7,
   "metadata": {
    "editable": true,
    "id": "2JDou9ju3UeT",
    "slideshow": {
     "slide_type": ""
    },
    "tags": [
     "hide-cell"
    ]
   },
   "outputs": [],
   "source": [
    "class CNN_long(nn.Module):\n",
    "  def __init__(self):\n",
    "        super().__init__() ## Llamada al constructor de la clase padre nn.Module\n",
    "        self.network = nn.Sequential(\n",
    "            nn.Conv2d(3, 32, kernel_size=3, padding=1),\n",
    "            nn.ReLU(),\n",
    "            nn.Conv2d(32, 64, kernel_size=3, stride=1, padding=1),\n",
    "            nn.ReLU(),\n",
    "            nn.MaxPool2d(2, 2), # salida: N x 16 x 16 x 64\n",
    "\n",
    "            nn.Conv2d(64, 128, kernel_size=3, stride=1, padding=1),\n",
    "            nn.ReLU(),\n",
    "            nn.Conv2d(128, 128, kernel_size=3, stride=1, padding=1),\n",
    "            nn.ReLU(),\n",
    "            nn.MaxPool2d(2, 2), # salida: N x 8 x 8 x 128\n",
    "\n",
    "            nn.Conv2d(128, 256, kernel_size=3, stride=1, padding=1),\n",
    "            nn.ReLU(),\n",
    "            nn.Conv2d(256, 256, kernel_size=3, stride=1, padding=1),\n",
    "            nn.ReLU(),\n",
    "            nn.MaxPool2d(2, 2), # salida: N x 4 x 4 x 256\n",
    "\n",
    "            nn.Flatten(), # Se aplana a un vector 4 x 4 x 256 = 4096\n",
    "            nn.Linear(256*4*4, 1024), # Red densa FC : De 4096 -> 1024\n",
    "            nn.ReLU(),\n",
    "            nn.Linear(1024, 512),  # Red densa FC : De 1024 -> 512\n",
    "            nn.ReLU(),\n",
    "            nn.Linear(512, 10))  # Red densa FC : De 512 -> 10 con la puntuación por clase\n",
    "        \n",
    "  def forward(self, xb):\n",
    "        return self.network(xb)"
   ]
  },
  {
   "cell_type": "markdown",
   "metadata": {
    "id": "00hAO1fMAruE"
   },
   "source": [
    "#### Definición de la red residual (ResNet)\n",
    "\n",
    "La red está formada por la repetición de un bloque similar (__ResidualBlock__). El bloque está formado por una secuencia:\n",
    "\n",
    "$$[CONV][BN][ReLU][CONV][BN]$$\n",
    "\n",
    "Las convoluciones empleadas son todas de tamaño de filtro 3, salto 1 (en el primer bloque o layer y 2 en el resto) y padding o relleno a ceros 1. Los bloques residuales se integran en 3 capas o __layers__. La estructura de la red de convolución completa usando los bloques es:\n",
    "\n",
    "$$[CONV][BN][ReLU][LAYER1][LAYER2][LAYER3][POOL][FC]$$\n",
    "\n",
    "La estructura aparece explicitamente en el cuaderno trás hacer __print(model)__.\n",
    "\n",
    "El paso $[BN]$ es una Normalización (restando la media $\\mu$ y dividiendo por la desviación típica $\\sigma$)\n",
    "\n",
    "Se utiliza una única capa conectada entre el vector aplanado el número de etiquetas del modelo.\n",
    "\n",
    "La acumulación del valor residual se hace en cada bloque en la instrucción __out += residual__, copiandose el valor __x__ existente al principio.\n",
    "\n",
    "Pytorch incluye en línea unas definiciones de ResNet:\n",
    "\n",
    "https://pytorch.org/hub/pytorch_vision_resnet/\n",
    "\n",
    "Se puede descargar el modelo entrenado o no. El no entrenado puede utilizarse para un entrenamiento propio. Lo único tener en cuenta que el modelo devuelve hasta 1000 clases en salida. Si se usan 10 como en CIFAR10, el puntuaje máximo estará en los 10 primeros valores de esos 1000"
   ]
  },
  {
   "cell_type": "code",
   "execution_count": 8,
   "metadata": {
    "editable": true,
    "id": "wx6h0euRTtTt",
    "slideshow": {
     "slide_type": ""
    },
    "tags": [
     "hide-cell"
    ]
   },
   "outputs": [],
   "source": [
    "# 3x3 convolution\n",
    "def conv3x3(in_channels, out_channels, stride=1):\n",
    "    return nn.Conv2d(in_channels, out_channels, kernel_size=3, \n",
    "                     stride=stride, padding=1, bias=False)\n",
    "\n",
    "# Residual block\n",
    "class ResidualBlock(nn.Module):\n",
    "    def __init__(self, in_channels, out_channels, stride=1, downsample=None):\n",
    "        super(ResidualBlock, self).__init__()\n",
    "        self.conv1 = conv3x3(in_channels, out_channels, stride)\n",
    "        self.bn1 = nn.BatchNorm2d(out_channels)\n",
    "        self.relu = nn.ReLU(inplace=True)\n",
    "        self.conv2 = conv3x3(out_channels, out_channels)\n",
    "        self.bn2 = nn.BatchNorm2d(out_channels)\n",
    "        self.downsample = downsample\n",
    "\n",
    "    def forward(self, x):\n",
    "        residual = x\n",
    "        out = self.conv1(x)\n",
    "        out = self.bn1(out)\n",
    "        out = self.relu(out)\n",
    "        out = self.conv2(out)\n",
    "        out = self.bn2(out)\n",
    "        if self.downsample:\n",
    "            residual = self.downsample(x)\n",
    "        out += residual\n",
    "        out = self.relu(out)\n",
    "        return out\n",
    "\n",
    "# ResNet\n",
    "class ResNet(nn.Module):\n",
    "    def __init__(self, block, layers, num_classes=10):\n",
    "        super(ResNet, self).__init__()\n",
    "        self.in_channels = 16\n",
    "        self.conv = conv3x3(3, 16)\n",
    "        self.bn = nn.BatchNorm2d(16)\n",
    "        self.relu = nn.ReLU(inplace=True)\n",
    "        self.layer1 = self.make_layer(block, 16, layers[0])\n",
    "        self.layer2 = self.make_layer(block, 32, layers[1], 2)\n",
    "        self.layer3 = self.make_layer(block, 64, layers[2], 2)\n",
    "        self.avg_pool = nn.AvgPool2d(8)\n",
    "        self.fc = nn.Linear(64, num_classes)\n",
    "\n",
    "    def make_layer(self, block, out_channels, blocks, stride=1):\n",
    "        downsample = None\n",
    "        if (stride != 1) or (self.in_channels != out_channels):\n",
    "            downsample = nn.Sequential(\n",
    "                conv3x3(self.in_channels, out_channels, stride=stride),\n",
    "                nn.BatchNorm2d(out_channels))\n",
    "        layers = []\n",
    "        layers.append(block(self.in_channels, out_channels, stride, downsample))\n",
    "        self.in_channels = out_channels\n",
    "        for i in range(1, blocks):\n",
    "            layers.append(block(out_channels, out_channels))\n",
    "        return nn.Sequential(*layers)\n",
    "\n",
    "    def forward(self, x):\n",
    "        out = self.conv(x)\n",
    "        out = self.bn(out)\n",
    "        out = self.relu(out)\n",
    "        out = self.layer1(out)\n",
    "        out = self.layer2(out)\n",
    "        out = self.layer3(out)\n",
    "        out = self.avg_pool(out)\n",
    "        out = out.view(out.size(0), -1)\n",
    "        out = self.fc(out)\n",
    "        return out"
   ]
  },
  {
   "cell_type": "code",
   "execution_count": 9,
   "metadata": {
    "colab": {
     "base_uri": "https://localhost:8080/"
    },
    "id": "3lTSPZzTv1Zg",
    "outputId": "c5ceac3c-8845-45a9-8066-51f878ab8cc6"
   },
   "outputs": [
    {
     "name": "stdout",
     "output_type": "stream",
     "text": [
      "CNN_short(\n",
      "  (conv1): Conv2d(3, 6, kernel_size=(5, 5), stride=(1, 1))\n",
      "  (pool): MaxPool2d(kernel_size=2, stride=2, padding=0, dilation=1, ceil_mode=False)\n",
      "  (conv2): Conv2d(6, 16, kernel_size=(5, 5), stride=(1, 1))\n",
      "  (fc1): Linear(in_features=400, out_features=120, bias=True)\n",
      "  (fc2): Linear(in_features=120, out_features=84, bias=True)\n",
      "  (fc3): Linear(in_features=84, out_features=10, bias=True)\n",
      ")\n"
     ]
    }
   ],
   "source": [
    "# Se crea un modelo CNN\n",
    "#if googleColaboratory:\n",
    "device = torch.device('cuda' if torch.cuda.is_available() else 'cpu') #training with either cpu or cuda\n",
    "\n",
    "    \n",
    "if resNet:\n",
    "    if googleColaboratory:\n",
    "      model = ResNet(ResidualBlock, [2, 2, 2]).to(device)  \n",
    "    else:\n",
    "        model = ResNet(ResidualBlock, [2, 2, 2])\n",
    "elif convolucionProfunda:\n",
    "  model = CNN_long()\n",
    "else:\n",
    "  model = CNN_short()\n",
    "if googleColaboratory:\n",
    "  model = model.to(device=device) #to send the model for training on either cuda or cpu\n",
    "  \n",
    "print(model)\n",
    "\n"
   ]
  },
  {
   "cell_type": "markdown",
   "metadata": {
    "id": "1R4hEU7av1Zh"
   },
   "source": [
    "### Especificar la Función de Pérdida y el Optimizador\n",
    "\n",
    "http://pytorch.org/docs/stable/nn.html#loss-functions\n",
    "\n",
    "http://pytorch.org/docs/stable/optim.html\n",
    "\n"
   ]
  },
  {
   "cell_type": "code",
   "execution_count": 10,
   "metadata": {
    "id": "Kt0pASmM2-j2"
   },
   "outputs": [],
   "source": [
    "import torch.optim as optim\n",
    "\n",
    "# Se especifica la función pérdida\n",
    "loss_func = nn.CrossEntropyLoss()\n",
    "\n",
    "# Se especifica el optimizador\n",
    "optimizer = optim.SGD(model.parameters(), lr=0.001, momentum=0.9)\n",
    "#optimizer = optim.Adam(model.parameters(), lr=0.001)"
   ]
  },
  {
   "cell_type": "markdown",
   "metadata": {
    "id": "lbaZgpRh3O-w"
   },
   "source": [
    "### Entrenamiento de la red\n",
    "\n",
    "Hay que observar como la pérdida en entrenamiento y validación disminuye con el tiempo; si la pérdida de validación aumenta alguna vez, indica un posible sobreajuste. "
   ]
  },
  {
   "cell_type": "code",
   "execution_count": 11,
   "metadata": {
    "colab": {
     "base_uri": "https://localhost:8080/"
    },
    "id": "muWClVx5v1Zh",
    "outputId": "2d3565a1-5f43-4fa9-a5ae-af323cb73b7e"
   },
   "outputs": [
    {
     "name": "stdout",
     "output_type": "stream",
     "text": [
      "No habilitada la opción de entrenamiento\n"
     ]
    }
   ],
   "source": [
    "#from torch.autograd import Variable\n",
    "num_epochs = 10\n",
    "model.train()\n",
    "\n",
    "lineasTraza = int(len(trainloader)/20)+1\n",
    "numlineas = 0\n",
    "#pbar = tqdm(range(num_epochs))\n",
    "# Train the model\n",
    "for epoch in range(num_epochs):\n",
    "#for epoch in pbar:\n",
    "    if not entrenamiento:\n",
    "      print(\"No habilitada la opción de entrenamiento\")\n",
    "      break\n",
    "    correct = 0\n",
    "    total = 0\n",
    "    for images, labels in trainloader:\n",
    "        images = images.to(device=device)\n",
    "        labels = labels.to(device=device)\n",
    "            \n",
    "        # gives batch data, normalize x when iterate train_loader\n",
    "        output = model(images)\n",
    "        loss = loss_func(output, labels)\n",
    "        pred_y = torch.max(output, 1)[1].data.squeeze()\n",
    "        correct += (pred_y == labels).sum().item()\n",
    "        total +=float(labels.size(0))\n",
    "        # clear gradients for this training step   \n",
    "        optimizer.zero_grad()           \n",
    "            \n",
    "        # backpropagation, compute gradients \n",
    "        loss.backward()    \n",
    "        # apply gradients             \n",
    "        optimizer.step()  \n",
    "        numlineas+=1\n",
    "        if numlineas == lineasTraza:\n",
    "            print('*', end='')\n",
    "            numlineas=0\n",
    "            \n",
    "    print ('Época [{}], Accuracy-Entrenamiento {:.4f}'.format(epoch + 1, 100*correct/total))"
   ]
  },
  {
   "cell_type": "markdown",
   "metadata": {
    "id": "F85mpVVjv1Zi"
   },
   "source": [
    "### Se hace un  back-up del modelo generado "
   ]
  },
  {
   "cell_type": "code",
   "execution_count": 12,
   "metadata": {
    "colab": {
     "base_uri": "https://localhost:8080/",
     "height": 35
    },
    "id": "lUwF_u49v1Zi",
    "outputId": "bcba3ae4-5fc8-4ae9-8917-7029cb4a4377"
   },
   "outputs": [
    {
     "name": "stdout",
     "output_type": "stream",
     "text": [
      "No habilitado Backup del fichero\n"
     ]
    }
   ],
   "source": [
    "filename = \"cifar10_profunda.pt\" if convolucionProfunda else \"cifar10_short.pt\"\n",
    "if resNet: filename = \"cifar10_resnet.pt\"\n",
    "filename = \"/content/drive/My Drive/Colab Notebooks/data/\" + filename if googleColaboratory else \"data/\" + filename\n",
    "if entrenamiento:\n",
    "    print(\"Backup al fichero=\", filename)\n",
    "    torch.save(model.state_dict(), filename)\n",
    "    if googleColaboratory:\n",
    "      goo.colab.files.download(filename)\n",
    "else:\n",
    "    print(\"No habilitado Backup del fichero\")\n"
   ]
  },
  {
   "cell_type": "markdown",
   "metadata": {
    "id": "lfX9gxwLv1Zi"
   },
   "source": [
    "### Recuperación del modelo desde el archivo de back-up"
   ]
  },
  {
   "cell_type": "code",
   "execution_count": 13,
   "metadata": {
    "colab": {
     "base_uri": "https://localhost:8080/"
    },
    "id": "xcehCN-Xv1Zi",
    "outputId": "e1acf7ca-1796-4539-b471-db9ede9af141"
   },
   "outputs": [
    {
     "name": "stdout",
     "output_type": "stream",
     "text": [
      "Fichero cargado= data/cifar10_short.pt\n",
      "CNN_short(\n",
      "  (conv1): Conv2d(3, 6, kernel_size=(5, 5), stride=(1, 1))\n",
      "  (pool): MaxPool2d(kernel_size=2, stride=2, padding=0, dilation=1, ceil_mode=False)\n",
      "  (conv2): Conv2d(6, 16, kernel_size=(5, 5), stride=(1, 1))\n",
      "  (fc1): Linear(in_features=400, out_features=120, bias=True)\n",
      "  (fc2): Linear(in_features=120, out_features=84, bias=True)\n",
      "  (fc3): Linear(in_features=84, out_features=10, bias=True)\n",
      ")\n"
     ]
    }
   ],
   "source": [
    "if entrenamiento: \n",
    "    print('No activada la recuperación en modo entrenamiento')\n",
    "else:\n",
    "    device = torch.device('cpu')\n",
    "    if googleColaboratory:\n",
    "        device = torch.device('cuda' if torch.cuda.is_available() else 'cpu') #training with either cpu or cuda\n",
    "    model = CNN_long() if convolucionProfunda else CNN_short()\n",
    "    if resNet: model = ResNet(ResidualBlock, [2, 2, 2]).to(device) \n",
    "    filename = \"cifar10_profunda.pt\" if convolucionProfunda else \"cifar10_short.pt\"\n",
    "    if resNet: filename = \"cifar10_resnet.pt\"\n",
    "    filename = \"/content/drive/My Drive/Colab Notebooks/data/\" + filename if googleColaboratory else \"./data/\" + filename\n",
    "    print(\"Fichero cargado=\", filename)\n",
    "    if googleColaboratory:\n",
    "        model.load_state_dict(torch.load(filename, map_location=torch.device('cpu'))) #recovery trained model\n",
    "    else:\n",
    "        model.load_state_dict(torch.load(filename, map_location=torch.device('cpu'))) #recovery trained model\n",
    "    model.eval()\n",
    "    print(model)"
   ]
  },
  {
   "cell_type": "markdown",
   "metadata": {
    "id": "-nfCbsozv1Zj"
   },
   "source": [
    "### Se evalua el modelo contra el conjunto de validación"
   ]
  },
  {
   "cell_type": "code",
   "execution_count": 14,
   "metadata": {
    "colab": {
     "base_uri": "https://localhost:8080/"
    },
    "id": "OwERZs3Ov1Zj",
    "outputId": "a3416eee-89c7-402c-cd05-11b769a6d6c4"
   },
   "outputs": [
    {
     "name": "stdout",
     "output_type": "stream",
     "text": [
      "El Acierto en los 10.000 ejemplos de prueba es : 58.66 %\n"
     ]
    }
   ],
   "source": [
    "model.eval()\n",
    "with torch.no_grad():\n",
    "    correct = 0\n",
    "    total = 0\n",
    "    for images, labels in testloader:\n",
    "        images = images.to(device=device)\n",
    "        labels = labels.to(device=device)\n",
    "        test_output = model(Variable(images))\n",
    "        pred_y = torch.max(test_output, 1)[1].data.squeeze()\n",
    "        #accuracy = (pred_y == labels).sum().item() / float(labels.size(0))\n",
    "        correct += (pred_y == labels).sum().item()\n",
    "        total +=float(labels.size(0))\n",
    "    accuracy=100*correct/total\n",
    "print('El Acierto en los 10.000 ejemplos de prueba es : %.2f %%' % accuracy)"
   ]
  },
  {
   "cell_type": "markdown",
   "metadata": {
    "id": "SQamo7DWv1Zj"
   },
   "source": [
    "### Se visualiza el aspecto de los mapas de las convoluciones\n",
    "\n",
    "El dibujo sólo está preparado para modo CPU. Una vez entrenado en GPU y volcado a fichero, recuperar en CPU y dibujar los mapas.\n",
    "\n",
    "Sólo tiene un sentido el color de las imagenes. El color de los mapas no es significativo, pues no son dibujos RGB en si mismo, sino extracciones de características"
   ]
  },
  {
   "cell_type": "code",
   "execution_count": 15,
   "metadata": {},
   "outputs": [],
   "source": [
    "import matplotlib.pyplot as plt\n",
    "lote_image, lote_label = next(iter(testloader))\n",
    "lote_mapa1 = model.conv1(lote_image)"
   ]
  },
  {
   "cell_type": "code",
   "execution_count": 16,
   "metadata": {},
   "outputs": [
    {
     "data": {
      "text/plain": [
       "torch.Size([6, 3, 5, 5])"
      ]
     },
     "execution_count": 16,
     "metadata": {},
     "output_type": "execute_result"
    }
   ],
   "source": [
    "model.conv1.weight.size()"
   ]
  },
  {
   "cell_type": "code",
   "execution_count": 17,
   "metadata": {},
   "outputs": [
    {
     "data": {
      "text/plain": [
       "tensor([[-0.1175, -0.1575, -0.0339,  0.0565,  0.0824],\n",
       "        [-0.1093, -0.2938, -0.1184, -0.1067, -0.1209],\n",
       "        [-0.3021, -0.3066, -0.3274, -0.1769, -0.1177],\n",
       "        [-0.3013, -0.4303, -0.1758, -0.1064, -0.2395],\n",
       "        [-0.4223, -0.4339, -0.3206, -0.1417, -0.2228]],\n",
       "       grad_fn=<SelectBackward0>)"
      ]
     },
     "execution_count": 17,
     "metadata": {},
     "output_type": "execute_result"
    }
   ],
   "source": [
    "model.conv1.weight[0][0]"
   ]
  },
  {
   "cell_type": "code",
   "execution_count": 18,
   "metadata": {
    "colab": {
     "base_uri": "https://localhost:8080/",
     "height": 1000
    },
    "editable": true,
    "id": "YRaGLgw4v1Zj",
    "outputId": "b45d13da-3012-43e1-8ad1-49ef550271d2",
    "slideshow": {
     "slide_type": ""
    },
    "tags": [
     "hide-input"
    ]
   },
   "outputs": [
    {
     "data": {
      "image/png": "[encoded data removed]",
      "text/plain": [
       "<Figure size 1800x1400 with 70 Axes>"
      ]
     },
     "metadata": {},
     "output_type": "display_data"
    }
   ],
   "source": [
    "import matplotlib.pyplot as plt\n",
    "lote_image, lote_label = next(iter(testloader))\n",
    "if resNet: \n",
    "  lote_mapa1 = model.conv(lote_image)\n",
    "  lote_mapa2 = model.bn(lote_mapa1)\n",
    "  lote_mapa3 = model.relu(lote_mapa2)\n",
    "  lote_mapa4 = model.layer1[0].conv1(lote_mapa3)\n",
    "  lote_mapa5 = model.layer1[0].bn1(lote_mapa4)\n",
    "  lote_mapa6 = model.layer1[0].relu(lote_mapa5)\n",
    "  lote_mapa7 = model.layer1[0].conv2(lote_mapa6)\n",
    "  lote_mapa8 = model.layer1[0].bn2(lote_mapa7)\n",
    "  lote_mapa9 = model.layer1[1].conv1(lote_mapa8)\n",
    "  lote_mapa10 = model.layer1[1].bn1(lote_mapa9)\n",
    "  lote_mapa11 = model.layer1[1].relu(lote_mapa10)\n",
    "  lote_mapa12 = model.layer1[1].conv2(lote_mapa11)\n",
    "  lote_mapa13 = model.layer1[1].bn2(lote_mapa12)\n",
    "  lote_mapa14 = model.layer2[0].conv1(lote_mapa13)\n",
    "  lote_mapa15 = model.layer2[0].bn1(lote_mapa14)\n",
    "elif convolucionProfunda:\n",
    "  conv1 = nn.Conv2d(3, 32, kernel_size=3, padding=1)\n",
    "  lote_mapa1 = conv1(lote_image)\n",
    "  lote_mapa2 = F.relu(lote_mapa1)\n",
    "  conv2 = nn.Conv2d(32, 64, kernel_size=3, stride=1, padding=1)\n",
    "  lote_mapa3 = conv2(lote_mapa2)\n",
    "  lote_mapa4 = F.relu(lote_mapa3)\n",
    "  pool = nn.MaxPool2d(2, 2)\n",
    "  lote_mapa5 = pool(lote_mapa4)\n",
    "  conv3 = nn.Conv2d(64, 128, kernel_size=3, stride=1, padding=1)\n",
    "  lote_mapa6 = conv3(lote_mapa5)\n",
    "  lote_mapa7 = F.relu(lote_mapa6)\n",
    "  conv4 = nn.Conv2d(128, 128, kernel_size=3, stride=1, padding=1)\n",
    "  lote_mapa8 = conv4(lote_mapa7)\n",
    "  lote_mapa9 = F.relu(lote_mapa8)\n",
    "  lote_mapa10 = pool(lote_mapa9)\n",
    "  conv5 = nn.Conv2d(128, 256, kernel_size=3, stride=1, padding=1)\n",
    "  lote_mapa11 = conv5(lote_mapa10)\n",
    "  lote_mapa12 = F.relu(lote_mapa11)\n",
    "  conv6 = nn.Conv2d(256, 256, kernel_size=3, stride=1, padding=1)\n",
    "  lote_mapa13 = conv6(lote_mapa12)\n",
    "  lote_mapa14 = F.relu(lote_mapa13)\n",
    "  lote_mapa15 = pool(lote_mapa14)\n",
    "else:\n",
    "  lote_mapa1 = model.conv1(lote_image)\n",
    "  lote_mapa2 = F.relu(lote_mapa1)\n",
    "  lote_mapa3 = model.pool(lote_mapa2)\n",
    "  lote_mapa4 = model.conv2(lote_mapa3)\n",
    "  lote_mapa5 = F.relu(lote_mapa4)\n",
    "  lote_mapa6 = model.pool(lote_mapa5)\n",
    "image = lote_image[0]  ## Se coge la primera imagen del lote\n",
    "mapa1 = lote_mapa1[0]\n",
    "mapa2 = lote_mapa2[0]\n",
    "mapa3 = lote_mapa3[0]\n",
    "mapa4 = lote_mapa4[0]\n",
    "mapa5 = lote_mapa5[0]\n",
    "mapa6 = lote_mapa6[0]\n",
    "if convolucionProfunda or resNet:\n",
    "  mapa7 = lote_mapa7[0]\n",
    "  mapa8 = lote_mapa8[0]\n",
    "  mapa9 = lote_mapa9[0]\n",
    "  mapa10 = lote_mapa10[0]\n",
    "  mapa11 = lote_mapa11[0]\n",
    "  mapa12 = lote_mapa12[0]\n",
    "  mapa13 = lote_mapa13[0]\n",
    "  mapa14 = lote_mapa14[0]\n",
    "  mapa15 = lote_mapa15[0]\n",
    "label = int(lote_label[0])\n",
    "numCols = 16 if convolucionProfunda or resNet else 7\n",
    "fig, ax = plt.subplots(nrows=10, ncols=numCols, figsize=(18,14))\n",
    "#ax = ax.flatten()\n",
    "if resNet:\n",
    "  literales=['Imagen', 'Conv', 'Normal', 'ReLU', 'Conv', 'Normal', 'ReLU', 'Conv', 'Normal', 'Conv', 'Normal', 'ReLU', 'Conv', 'Normal', 'Conv', 'Normal', 'ReLU']\n",
    "elif convolucionProfunda:\n",
    "  literales=['Imagen', 'Conv1', 'ReLU', 'Conv2', 'ReLU', 'Pool', 'Conv3', 'ReLU', 'Conv4', 'ReLU', 'Pool', 'Conv5', 'ReLU', 'Conv6', 'ReLU', 'Pool']\n",
    "else:\n",
    "  literales=['Imagen', 'Conv1', 'ReLU', 'Pool', 'Conv2', 'ReLU', 'Pool']\n",
    "for i in range(10):\n",
    "    ax[i][0].imshow(image.numpy().transpose((1, 2, 0)))\n",
    "    if i < mapa1.shape[0]:\n",
    "        ax[i][1].imshow(mapa1[i].detach().numpy())\n",
    "        ax[i][2].imshow(mapa2[i].detach().numpy())\n",
    "        ax[i][3].imshow(mapa3[i].detach().numpy())\n",
    "    ax[i][4].imshow(mapa4[i].detach().numpy())\n",
    "    ax[i][5].imshow(mapa5[i].detach().numpy())\n",
    "    ax[i][6].imshow(mapa6[i].detach().numpy())\n",
    "    if convolucionProfunda or resNet:\n",
    "      ax[i][7].imshow(mapa7[i].detach().numpy())\n",
    "      ax[i][8].imshow(mapa8[i].detach().numpy())\n",
    "      ax[i][9].imshow(mapa9[i].detach().numpy())\n",
    "      ax[i][10].imshow(mapa10[i].detach().numpy())\n",
    "      ax[i][11].imshow(mapa11[i].detach().numpy())\n",
    "      ax[i][12].imshow(mapa12[i].detach().numpy())\n",
    "      ax[i][13].imshow(mapa13[i].detach().numpy())\n",
    "      ax[i][14].imshow(mapa14[i].detach().numpy())\n",
    "      ax[i][15].imshow(mapa15[i].detach().numpy())\n",
    "    for j in range(numCols):\n",
    "        ax[i][j].set_yticks([])\n",
    "        ax[i][j].set_xticks([])\n",
    "        ax[0][j].set_title(literales[j])\n",
    "\n",
    "#fig.suptitle('Imagen tipo ' + str(clases[label]), fontsize=16)\n",
    "plt.tight_layout()\n",
    "plt.show()"
   ]
  },
  {
   "cell_type": "markdown",
   "metadata": {
    "id": "ONfInPjxv1Zk"
   },
   "source": [
    "### Se visualiza la predicción"
   ]
  },
  {
   "cell_type": "code",
   "execution_count": 19,
   "metadata": {
    "colab": {
     "base_uri": "https://localhost:8080/",
     "height": 297
    },
    "id": "BUnsQxChv1Zk",
    "outputId": "9c440855-bd66-4c8a-8ca8-c2294bdb9303"
   },
   "outputs": [
    {
     "data": {
      "image/png": "[encoded data removed]",
      "text/plain": [
       "<Figure size 640x480 with 2 Axes>"
      ]
     },
     "metadata": {},
     "output_type": "display_data"
    }
   ],
   "source": [
    "#b_x = Variable(lote_image)   # batch x\n",
    "#output = model(b_x)\n",
    "output = model(lote_image)\n",
    "fig, (ax1, ax2) = plt.subplots( ncols=2)\n",
    "y=output[0].detach().numpy()\n",
    "y = (y - min(y))/(max(y)-min(y))\n",
    "ax2.axis('off')\n",
    "ax2.imshow(image.numpy().transpose((1, 2, 0)))\n",
    "ax1.set_yticks(np.arange(10))\n",
    "ax1.barh(np.arange(10), y)\n",
    "ax1.set_yticklabels(clases)\n",
    "ax1.set_title('Probabilidad')\n",
    "plt.tight_layout()"
   ]
  },
  {
   "cell_type": "code",
   "execution_count": null,
   "metadata": {
    "id": "cHRlyWdzv1Zl"
   },
   "outputs": [],
   "source": []
  }
 ],
 "metadata": {
  "colab": {
   "provenance": []
  },
  "gpuClass": "standard",
  "kernelspec": {
   "display_name": "Python 3 (ipykernel)",
   "language": "python",
   "name": "python3"
  },
  "language_info": {
   "codemirror_mode": {
    "name": "ipython",
    "version": 3
   },
   "file_extension": ".py",
   "mimetype": "text/x-python",
   "name": "python",
   "nbconvert_exporter": "python",
   "pygments_lexer": "ipython3",
   "version": "3.11.5"
  }
 },
 "nbformat": 4,
 "nbformat_minor": 4
}

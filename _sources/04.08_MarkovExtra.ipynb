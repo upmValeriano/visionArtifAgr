{
 "cells": [
  {
   "cell_type": "markdown",
   "id": "opening-encyclopedia",
   "metadata": {},
   "source": [
    "# Entrega: secuencia más probable en una cadena de Markov.\n",
    "\n",
    "Se pide determinar la __secuencia más verosímil__ para el modelo de Markov parametrizado en la primera sección de la práctica. La secuencia debe tener una longitud de $N=20$ aminoácidos.\n",
    "\n",
    "Recomendación: es mejor trabajar con sumas de logaritmos de probabilidades a productos de probabilidades.\n",
    "\n",
    "Una vez que hayas implementado el método, calcula la log-verosimilitud de la secuencia obtenida con la función myloglik y compara con las verosimilitudes obtenidas en el ejercicio 6 de la primera parte. \n",
    "\n",
    "¿Da alguna información la secuencia obtenida con el modelo de Markov sin variables ocultas?"
   ]
  },
  {
   "cell_type": "markdown",
   "id": "exotic-surveillance",
   "metadata": {},
   "source": [
    "## Teoría: secuencia de estados más verosímil\n",
    "\n",
    "¿Cuál es la secuencia $\\mathcal{S}=\\{e_1,e_2,\\ldots,e_n\\}$ que __maximiza__ la verosimilitud $\\log\\mathbb{P}\\{\\mathcal{S}\\}$?\n",
    "\n",
    "### Ejemplo sencillo\n",
    "\n",
    "Dada una cadena de Markov con dos estados posibles $\\{H,P\\}$, con vector de estados iniciales \n",
    "\n",
    "$$\\mathbf{v}_0 =\\left(\\stackrel{H}{0.6},\\quad \n",
    "\\stackrel{P}{0.4}\n",
    "\\right)\n",
    "$$\n",
    "\n",
    "y matriz de transición \n",
    "\n",
    "$$P_t=\n",
    "\\begin{matrix}\n",
    "H \\\\P\n",
    "\\end{matrix}\n",
    "\\stackrel{H\\quad P}{%\n",
    "    \\begin{bmatrix}\n",
    "    0.6 & 0.4 \\\\\n",
    "    0.3 & 0.7 \n",
    "    \\end{bmatrix}%\n",
    "  }\n",
    "$$\n",
    "\n",
    "__Método de la fuerza bruta__: una posible aproximación sería calcular, usando la teoría que ya conocemos, la verosimilitud de __todas__ las posibles cadenas que podemos formar y elegir aquella con la mayor probabilidad de ocurrir. \n",
    "\n",
    "En este caso tenemos 2 estados posibles y 3 pasos, por tanto el número de posibilidades son $2^3=8$, que son:\n",
    "\n",
    "* $H-H-H$\n",
    "* $H-H-P$\n",
    "* $H-P-H$\n",
    "* $H-P-P$\n",
    "* $P-H-H$\n",
    "* $P-H-P$\n",
    "* $P-P-H$\n",
    "* $P-P-H$"
   ]
  },
  {
   "cell_type": "code",
   "execution_count": 1,
   "id": "essential-capacity",
   "metadata": {},
   "outputs": [],
   "source": [
    "import numpy as np\n",
    "import pandas as pd\n",
    "import matplotlib.pyplot as plt\n",
    "\n",
    "def myloglik(vecProbInicial, matrizTransicion, alfa, secuencia):\n",
    "    \n",
    "    loglik = 0.0\n",
    "    \n",
    "    primeraLetra = secuencia[0]\n",
    "    primeraPosicionEnAlfabeto = alfa.index(primeraLetra)\n",
    "    \n",
    "    loglik += np.log(vecProbInicial[primeraPosicionEnAlfabeto])\n",
    "    \n",
    "    for i in range(len(secuencia)-1):\n",
    "        \n",
    "        letraEntrada = secuencia[i]\n",
    "        letraSalida = secuencia[i+1]\n",
    "        \n",
    "        posicionLetraEntradaAlfabeto = alfa.index(letraEntrada)\n",
    "        posicionLetraSalidaAlfabeto = alfa.index(letraSalida)\n",
    "        probabilidadTransicion = matrizTransicion.iloc[posicionLetraEntradaAlfabeto,\n",
    "                                                 posicionLetraSalidaAlfabeto]\n",
    "        \n",
    "        loglik += np.log(probabilidadTransicion)\n",
    "    return loglik"
   ]
  },
  {
   "cell_type": "code",
   "execution_count": 2,
   "id": "personalized-longer",
   "metadata": {},
   "outputs": [],
   "source": [
    "c1 = 'HHH'\n",
    "c2 = 'HHP'\n",
    "c3 = 'HPH'\n",
    "c4 = 'HPP'\n",
    "c5 = 'PHH'\n",
    "c6 = 'PHP'\n",
    "c7 = 'PPH'\n",
    "c8 = 'PPP'\n",
    "allComb = [c1,c2,c3,c4,c5,c6,c7,c8]"
   ]
  },
  {
   "cell_type": "code",
   "execution_count": 3,
   "id": "colonial-greenhouse",
   "metadata": {},
   "outputs": [
    {
     "data": {
      "text/plain": [
       "{'HHH': -1.5324768712979722,\n",
       " 'HHP': -1.9379419794061366,\n",
       " 'HPH': -2.6310891599660815,\n",
       " 'HPP': -1.783791299578878,\n",
       " 'PHH': -2.6310891599660815,\n",
       " 'PHP': -3.036554268074246,\n",
       " 'PPH': -2.4769384801388235,\n",
       " 'PPP': -1.62964061975162}"
      ]
     },
     "execution_count": 3,
     "metadata": {},
     "output_type": "execute_result"
    }
   ],
   "source": [
    "alfabeto = [ele for ele in \"HP\"]\n",
    "vecProbInicial = np.array((0.6,0.4))\n",
    "MT = pd.DataFrame(np.array([[0.6, 0.4],[0.3, 0.7]]),index=alfabeto,columns=alfabeto)\n",
    "logliks = []\n",
    "for cc in allComb:\n",
    "    loglik = myloglik(vecProbInicial, MT, alfabeto, cc)\n",
    "    logliks.append(loglik)\n",
    "\n",
    "res = dict(zip(allComb,logliks))\n",
    "res"
   ]
  },
  {
   "cell_type": "code",
   "execution_count": 4,
   "id": "opposite-sierra",
   "metadata": {},
   "outputs": [],
   "source": [
    "MaxVerosimilitud = max(list(res.values()))"
   ]
  },
  {
   "cell_type": "code",
   "execution_count": 5,
   "id": "described-samba",
   "metadata": {},
   "outputs": [
    {
     "name": "stdout",
     "output_type": "stream",
     "text": [
      "HHH\n"
     ]
    }
   ],
   "source": [
    "print(list(res.keys())[list(res.values()).index(MaxVerosimilitud)])"
   ]
  },
  {
   "cell_type": "markdown",
   "id": "anticipated-spice",
   "metadata": {},
   "source": [
    "Podemos ordenar las cadenas según probabilidad en un gráfico."
   ]
  },
  {
   "cell_type": "code",
   "execution_count": 6,
   "id": "south-queen",
   "metadata": {},
   "outputs": [
    {
     "data": {
      "text/plain": [
       "{'HHH': 0.21599999999999997,\n",
       " 'HHP': 0.144,\n",
       " 'HPH': 0.07200000000000002,\n",
       " 'HPP': 0.168,\n",
       " 'PHH': 0.07200000000000002,\n",
       " 'PHP': 0.048,\n",
       " 'PPH': 0.084,\n",
       " 'PPP': 0.19599999999999995}"
      ]
     },
     "execution_count": 6,
     "metadata": {},
     "output_type": "execute_result"
    }
   ],
   "source": [
    "res2 = dict(zip(allComb,np.exp(logliks)))\n",
    "res2"
   ]
  },
  {
   "cell_type": "code",
   "execution_count": 7,
   "id": "popular-tonight",
   "metadata": {},
   "outputs": [],
   "source": [
    "index = np.argsort(np.exp(logliks))\n",
    "indexDecreasing = index[::-1]\n",
    "labels = np.asarray(allComb)[indexDecreasing]\n",
    "vectorLikelihoodsDecreciente = np.exp(logliks)[indexDecreasing]"
   ]
  },
  {
   "cell_type": "code",
   "execution_count": 8,
   "id": "swiss-performance",
   "metadata": {},
   "outputs": [
    {
     "data": {
      "image/png": "[encoded data removed]",
      "text/plain": [
       "<Figure size 432x288 with 1 Axes>"
      ]
     },
     "metadata": {
      "needs_background": "light"
     },
     "output_type": "display_data"
    }
   ],
   "source": [
    "plt.bar(np.arange(len(vectorLikelihoodsDecreciente)),vectorLikelihoodsDecreciente)\n",
    "plt.xticks(np.arange(len(vectorLikelihoodsDecreciente)),labels)\n",
    "plt.xlabel('Cadena')\n",
    "plt.ylabel('Verosimilitud')\n",
    "plt.show()"
   ]
  },
  {
   "cell_type": "markdown",
   "id": "gothic-mainland",
   "metadata": {},
   "source": [
    "## Programación dinámica\n",
    "\n",
    "No obstante, el número de cadenas crece exponencialmente con la longitud de la cadena, siendo la base del exponente el número posible de estados. Para el caso del ejercicio, el número de posibles cadenas es:\n",
    "\n",
    "* número de estados = 20 $\\leftarrow$ número de AminoÁcidos\n",
    "* número de pasos = 20 $\\leftarrow$ longitud de la cadena\n",
    "* número de casos posibles = $20^{20}$\n"
   ]
  },
  {
   "cell_type": "code",
   "execution_count": 9,
   "id": "under-jason",
   "metadata": {},
   "outputs": [
    {
     "data": {
      "text/plain": [
       "104857600000000000000000000"
      ]
     },
     "execution_count": 9,
     "metadata": {},
     "output_type": "execute_result"
    }
   ],
   "source": [
    "20**20"
   ]
  },
  {
   "cell_type": "markdown",
   "id": "invalid-musical",
   "metadata": {},
   "source": [
    "Es por esta razón que debemos usar estrategias para reducir el número de casos a evaluar. En este caso usaremos la [__programación dinámica__](https://en.wikipedia.org/wiki/Dynamic_programming).\n",
    "\n",
    "Veamos cómo resolver el problema anterior usando esta técnica. Vamos a ir calculando las verosimilitudes de las cadenas que van apareciendo y eliminaremos las cadenas cuya probabilidad sea menor.\n",
    "\n",
    "Empezamos con el primer estado:\n",
    "\n",
    "$$\n",
    "\\mathbf{v}_0=\\left(\\stackrel{H}{0.6},\\quad \n",
    "\\stackrel{C}{0.4}\n",
    "\\right),\\quad\n",
    "P_t=\n",
    "\\begin{matrix}\n",
    "H \\\\C\n",
    "\\end{matrix}\n",
    "\\stackrel{H\\quad C}{%\n",
    "    \\begin{bmatrix}\n",
    "    0.6 & 0.4 \\\\\n",
    "    0.3 & 0.7 \n",
    "    \\end{bmatrix}%\n",
    "  }\n",
    "$$\n",
    "\n",
    "\n",
    "\n",
    "Las dos cadenas posibles de longitud 1 son \n",
    "\n",
    "* $H$\n",
    "* $C$\n",
    "\n",
    "cuyas probabilidades vienen dadas por el vector $\\mathbf{v}_0$:\n",
    "\n",
    ":::{figure-md} markdown-fig.4.08.1\n",
    "<img src=\"./images/mm1.png\" width=\"600px\">\n",
    "\n",
    "Cadena de Markov con dos estados. Probabilidades iniciales.\n",
    ":::\n",
    "\n",
    "En el paso 2 tenemos 4 posibles cadenas:\n",
    "\n",
    "* $H-H$\n",
    "* $H-C$\n",
    "* $C-H$\n",
    "* $C-C$\n",
    "\n",
    "Para calcular las verosimilitudes de dichas cadenas usamos:\n",
    "\n",
    "* las verosimiludes de la cadena en el paso anterior (paso 1): $\\mathcal{L}_1$ que se corresponden a la probabilidad de las cadenas $H$ y $C$,\n",
    "* la matriz de transición $P_t$.\n",
    "\n",
    "Por ejemplo, para la cadena $H-H$ su verosimilitud es:\n",
    "\n",
    "$$\n",
    "\\mathcal{L_1}(H)\\cdot P_t(H\\rightarrow H) = 0.6\\times 0.6  =0.36.\n",
    "$$\n",
    "\n",
    "\n",
    "$$\n",
    "\\mathcal{L}_1=\\left(\n",
    "\\stackrel{\n",
    "{\\color{red}H}\n",
    "}\n",
    "{\n",
    "{\\color{red}{0.6}}\n",
    "}\n",
    ",\\quad \n",
    "\\stackrel{C}{0.4}\n",
    "\\right),\\quad\n",
    "P_t=\n",
    "\\begin{matrix}\n",
    "{\\color{red}H} \\\\C\n",
    "\\end{matrix}\n",
    "\\stackrel{{\\color{red}H}\\quad C}{%\n",
    "    \\begin{bmatrix}\n",
    "    {\\color{red}{0.6}} & 0.4 \\\\\n",
    "    0.3 & 0.7 \n",
    "    \\end{bmatrix}%\n",
    "  }\n",
    "$$\n",
    "\n",
    ":::{figure-md} markdown-fig.4.08.2\n",
    "<img src=\"./images/mm2.png\" width=\"600px\">\n",
    "\n",
    "Cadena de Markov con dos estados. Cálculo de verosimilitudes en la etapa 2. En rojo señalada la verosimilitud de la cadena $H-H$.\n",
    ":::\n",
    "\n",
    "para la cadena $H-P$ su verosimilitud es:\n",
    "\n",
    "$$\n",
    "\\mathcal{L_1}(H)\\cdot P_t(H\\rightarrow P) = 0.6\\times 0.4  =0.24.\n",
    "$$\n",
    "\n",
    "\n",
    "\n",
    "\n",
    "$$\n",
    "\\mathcal{L}_1=\\left(\n",
    "\\stackrel{\n",
    "{\\color{red}H}\n",
    "}\n",
    "{\n",
    "{\\color{red}{0.6}}\n",
    "}\n",
    ",\\quad \n",
    "\\stackrel{C}{0.4}\n",
    "\\right),\\quad\n",
    "P_t=\n",
    "\\begin{matrix}\n",
    "{\\color{red}H} \\\\C\n",
    "\\end{matrix}\n",
    "\\stackrel{H\\quad {\\color{red}C}}{%\n",
    "    \\begin{bmatrix}\n",
    "    0.6 & {\\color{red}{0.4}} \\\\\n",
    "    0.3 & 0.7 \n",
    "    \\end{bmatrix}%\n",
    "  }\n",
    "$$\n",
    "\n",
    ":::{figure-md} markdown-fig.4.08.3\n",
    "<img src=\"./images/mm3.png\" width=\"600px\">\n",
    "\n",
    "En rojo señalada la verosimilitud de la cadena $H-C$.\n",
    ":::\n",
    "\n",
    "De igual modo calculamos las verosimilitudes de las otras dos cadenas restantes:\n",
    "\n",
    "* Cadena $P-H$\n",
    "\n",
    "$$\n",
    "\\mathcal{L_1}(P)\\cdot P_t(P\\rightarrow H) = 0.4\\times 0.3  =0.12.\n",
    "$$\n",
    "\n",
    "* Cadena $P-P$\n",
    "\n",
    "$$\n",
    "\\mathcal{L_1}(P)\\cdot P_t(P\\rightarrow P) = 0.4\\times 0.7  =0.28.\n",
    "$$\n",
    "\n",
    "En la segunda etapa, al nodo $H$ llegan dos flechas, que se corresponden con dos posibles cadenas que __acaban__ en $H$ en dicha etapa. Una de ellas, $H-H$, tiene una probabilidad de ocurrir igual a 0.36, mientras que la otra, $P-H$, tiene una probabilidad de ocurrir igual a 0.12.\n",
    "\n",
    "__Independientemente__ de lo que suceda después, sea o no seleccionado el estado $H$ en la segunda etapa o no, la cadena $H-H$, ¡y las sucesivas que se construyan a partir de ella!, tendrá más probabilidad que la cadena $P-H$.\n",
    "\n",
    "En este momento podemos _cortar_ la cadena $P-H$ y no considerarla más en la resolución del problema. Esto quiere decir, y aquí radica la potencia de este método, que no consideraremos todas las cadenas que empiecen por $P-H$.\n",
    "\n",
    "En este caso particular, hemos eliminado las posibilidades $P-H-H$ y $P-H-P$.\n",
    "\n",
    "De igual modo sucede en el otro nodo: de las dos posibles cadenas que llegan al nodo $P$ en la segunda etapa, la cadena $P-P$ es la más verosímil. Por tanto eliminamos las cadenas $H-P-H$ y $H-P-P$.\n",
    "\n",
    "\n",
    "\n",
    ":::{figure-md} markdown-fig.4.08.4\n",
    "<img src=\"./images/mm4.png\" width=\"600px\">\n",
    "\n",
    "Verosimilitudes de las cuatro cadenas posibles en la fase dos.\n",
    ":::\n",
    "\n",
    "Nos quedamos con las cadenas $H-H$ y $P-P$. Ambas tienen verosimilitudes diferentes (marcadas en los círculos), pero el proceso no ha terminado.\n",
    "\n",
    "__Importante:__ es importante notar que en este momento no podemos rechazar la cadena $P-P$ frente a $H-H$, a pesar que su verosimilitud sea menor, ya que el proceso continua.\n",
    "\n",
    "En la etapa 3, la última etapa, volvemos a calcular las verosimilitudes de las 4 cadenas disponibles:\n",
    "\n",
    "* $H-H-H$\n",
    "* $H-H-P$\n",
    "* $P-P-H$\n",
    "* $P-P-P$\n",
    "\n",
    ":::{figure-md} markdown-fig.4.08.5\n",
    "<img src=\"./images/mm5.png\" width=\"600px\">\n",
    "\n",
    "Verosimilitudes de las cadenas calculadas.\n",
    ":::\n",
    "\n",
    "De modo análogo al anterior, al nodo $H$ en la tercera etapa llegan dos cadenas. Elegimos aquella con mayor probabilidad de ocurrir, que es $H-H-H$, con una probabilidad de 0.216. En el nodo $P$ elegimos la cadena $P-P-P$ que tiene una verosimilitud de 0.144.\n",
    "\n",
    "Como hemos llegado al final del proceso, tenemos que elegir la cadena más verosímil. La verosimilitud de $H-H-H$ es mayor que la de $P-P-P$, y esa será la cadena elegida.\n",
    "\n",
    "La cadena $H-H-H$ tiene una probabilidad de ocurrir igual a 0.216.\n",
    "\n",
    "Comprobamos con lo obtenido con la función ``myloglik``:\n",
    "\n",
    "\n",
    "\n",
    "\n"
   ]
  },
  {
   "cell_type": "code",
   "execution_count": 10,
   "id": "scheduled-victim",
   "metadata": {},
   "outputs": [
    {
     "data": {
      "text/plain": [
       "0.21599999999999997"
      ]
     },
     "execution_count": 10,
     "metadata": {},
     "output_type": "execute_result"
    }
   ],
   "source": [
    "np.exp(res['HHH'])"
   ]
  },
  {
   "cell_type": "code",
   "execution_count": 11,
   "id": "native-navigator",
   "metadata": {},
   "outputs": [
    {
     "data": {
      "text/plain": [
       "0.19599999999999995"
      ]
     },
     "execution_count": 11,
     "metadata": {},
     "output_type": "execute_result"
    }
   ],
   "source": [
    "np.exp(res['PPP'])"
   ]
  },
  {
   "cell_type": "markdown",
   "id": "composite-invention",
   "metadata": {},
   "source": [
    "## Potencia del método\n",
    "\n",
    "El número de cadenas que tenemos que evaluar con este método (su _complejidad_) es del orden de\n",
    "\n",
    "$$\n",
    "(pasos-1)\\cdot(estados)^2\n",
    "$$\n",
    "\n",
    "Para el caso del ejemplo, esto sigue siendo igual a 8. Parece que no hemos ganado nada, pero para el caso de las proteínas, este número se convierte en\n",
    "\n",
    "$$\n",
    "(20-1)\\cdot 20^2\n",
    "$$"
   ]
  },
  {
   "cell_type": "code",
   "execution_count": 12,
   "id": "defensive-telling",
   "metadata": {},
   "outputs": [
    {
     "data": {
      "text/plain": [
       "7600"
      ]
     },
     "execution_count": 12,
     "metadata": {},
     "output_type": "execute_result"
    }
   ],
   "source": [
    "19*20**2"
   ]
  }
 ],
 "metadata": {
  "celltoolbar": "Tags",
  "kernelspec": {
   "display_name": "Python 3 (ipykernel)",
   "language": "python",
   "name": "python3"
  },
  "language_info": {
   "codemirror_mode": {
    "name": "ipython",
    "version": 3
   },
   "file_extension": ".py",
   "mimetype": "text/x-python",
   "name": "python",
   "nbconvert_exporter": "python",
   "pygments_lexer": "ipython3",
   "version": "3.10.6"
  }
 },
 "nbformat": 4,
 "nbformat_minor": 5
}

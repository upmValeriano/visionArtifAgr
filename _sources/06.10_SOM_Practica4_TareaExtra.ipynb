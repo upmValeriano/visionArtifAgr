{
 "cells": [
  {
   "cell_type": "markdown",
   "id": "divine-physics",
   "metadata": {},
   "source": [
    "# Entrega\n",
    "\n",
    "## SOM para estudiar comunidades microbianas\n",
    "\n",
    "Los mapas auto-organizativos resultan ser una herramienta muy eficaz para detectar estructuras en poblaciones, en particular, en comunidades microbianas {cite}`Bowman2017`. El problema de la detección de comunidades en poblaciones de bacterias es arduo ya que depende de múltiples atributos interrelacionados. \n",
    "\n",
    "Como hemos visto, SOM facilita la reducción de la dimensión mediante la agregación bidimensional de la información de la población.\n",
    "\n",
    "Utiliza el paquete `kohonen` de `R` para estudiar la segmentación en comunidades de la población de bacterias a partir de los genomas estimados y completados más próximos, información disponible en el fichero de datos: `community_structure.csv` que se puede descargar en el `Moodle` de la asignatura.\n",
    "\n",
    "Puedes empezar con un SOM similar al aplicado en la sección anterior de dimensiones 5×5. A partir de las representaciones obtenidas mediante el entrenamiento del mapa, discute la segmentación del ecosistema bacteriano.\n"
   ]
  },
  {
   "cell_type": "code",
   "execution_count": null,
   "id": "systematic-folder",
   "metadata": {},
   "outputs": [],
   "source": []
  }
 ],
 "metadata": {
  "kernelspec": {
   "display_name": "Python 3 (ipykernel)",
   "language": "python",
   "name": "python3"
  },
  "language_info": {
   "codemirror_mode": {
    "name": "ipython",
    "version": 3
   },
   "file_extension": ".py",
   "mimetype": "text/x-python",
   "name": "python",
   "nbconvert_exporter": "python",
   "pygments_lexer": "ipython3",
   "version": "3.10.6"
  }
 },
 "nbformat": 4,
 "nbformat_minor": 5
}

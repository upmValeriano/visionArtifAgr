{
 "cells": [
  {
   "cell_type": "markdown",
   "metadata": {
    "editable": true,
    "id": "zDYqMU0NEpyg",
    "slideshow": {
     "slide_type": ""
    },
    "tags": []
   },
   "source": [
    "# Implementar una Red Neuronal para una Serie Temporal (LSTM)\n",
    "## Introducción\n",
    "La **red LSTM** (Long Sort Time Memory, diseñada por {cite:p}`hochreiter1997long`) se utiliza para predecir series temporales. Su diseño permite recordar la información durante largos períodos y facilita la tarea de hacer estimaciones futuras empleando períodos de registros históricos. Las redes LSTM usan bloques de información conectados a través de capas. Estos bloques de memoria facilitan la tarea de recordar valores para largos o cortos períodos de tiempo."
   ]
  },
  {
   "cell_type": "markdown",
   "metadata": {},
   "source": [
    "Una Red LSTM es capaz de “recordar” un dato relevante en la secuencia y de preservarlo por varios instantes de tiempo. Por tanto, puede tener una memoria tanto de corto plazo (como las Redes Recurrentes básicas) como también de largo plazo.\n",
    "\n",
    "La red tiene una celda de estado ($c_t$) es la clave del funcionamiento de las Redes LSTM. La celda de estado es como una banda transportadora a la que se pueden añadir o de donde se pueden remover datos que no queremos que queden en la memoria de la red.\n",
    "\n",
    "Para añadir o remover datos de esta memoria usamos varias compuertas: forget gate (que permite eliminar elementos de la memoria): \n",
    "\n",
    "<img src=\"images/LSTM_1.png\" width=\"500px\">\n",
    "\n",
    "La update gate (que permite añadir nuevos elementos a la memoria):\n",
    "\n",
    "<img src=\"images/LSTM_2.png\" width=\"500px\">\n",
    "\n",
    "Y la compuerta de salida (que permite crear el estado oculto actualizado):\n",
    "\n",
    "<img src=\"images/LSTM_3.png\" width=\"500px\">\n",
    "\n",
    "Estas compuertas son redes neuronales que funcionan como válvulas: totalmente abiertas permiten el paso de información, y totalmente cerradas lo bloquean por completo.\n",
    "\n",
    "Cada una de estas compuertas (o válvulas) está conformada por tres elementos: una red neuronal, una función sigmoidal y un elemento multiplicador.\n",
    "\n",
    "La función sigmoidal es precisamente la que da a la compuerta el comportamiento de válvula, pues al alcanzar valores entre 0 y 1 permite anular por completo los valores de entrada (si la salida es 0, lo que equivale a una válvula cerrada) y permitir el paso de los mismos (si la salida es 1, lo que equivale a una válvula totalmente abierta):\n",
    "\n",
    "<img src=\"images/LSTM_4.png\" width=\"500px\">"
   ]
  },
  {
   "cell_type": "markdown",
   "metadata": {},
   "source": [
    "La compuerta _forget_ permite decidir qué información se va a descartar, y que por tanto no pasará a la celda de estado.\n",
    "\n",
    "Para ello toma el estado oculto anterior y la entrada actual, los transforma y los lleva a la función de activación sigmoidal. Los coeficientes ($W_f$ y $b_f$) se aprenden durante el entrenamiento, y como salida genera el vector $f_t$:\n",
    "\n",
    "<img src=\"images/LSTM_5.png\" width=\"500px\">\n",
    "\n",
    "Si uno de los valores de este vector es 0 (o cercano a 0) entonces la LSTM eliminará esa porción de información, mientras que si alcanza valores iguales (o cercanos) a 1 esta información se mantendrá y llegará a la celda de estado.\n",
    "\n",
    "Por ejemplo: si estamos analizando palabras dentro de un texto y entrenamos la LSTM para seguir la pista a variaciones gramaticales, podemos usar la red para detectar cambios en el sujeto de la oración, es decir si este es singular o plural.\n",
    "\n",
    "Así, si inicialmente el sujeto es plural y luego dentro de la secuencia cambia a singular, podemos entrenar la forget gate para que detecte estas variaciones y elimine el sujeto plural, que deja de ser relevante."
   ]
  },
  {
   "cell_type": "markdown",
   "metadata": {},
   "source": [
    "Bien, ya eliminamos el sujeto plural de la memoria de la red. ¿Y cómo agregamos el singular?\n",
    "\n",
    "Para esto usamos la “_update gate_”, que como su nombre lo indica nos permite actualizar la memoria de la celda LSTM para indicar que ahora el sujeto es singular.\n",
    "\n",
    "Para ello, tomamos nuevamente el estado oculto anterior y la entrada actual, los transformamos y los llevamos de nuevo a una función de activación sigmoidal. También en este caso, los coeficientes ($W_i$ y $b_i$) se aprenden durante el entrenamiento, y como salida esta compuerta genera el vector $u_t$:\n",
    "\n",
    "<img src=\"images/LSTM_6.png\" width=\"500px\">\n",
    "\n",
    "En este caso, los valores que queremos preservar en la memoria de la red serán aquellos cercanos a 1."
   ]
  },
  {
   "cell_type": "markdown",
   "metadata": {},
   "source": [
    "Teniendo ya los datos generados por las compuertas forget y update, podemos ahora sí actualizar la celda de estado (es decir la memoria de la red LSTM).\n",
    "\n",
    "__Actualización de la celda de estado__\n",
    "\n",
    "En primer lugar eliminamos la información irrelevante de la celda de estado, multiplicando el valor anterior de esta celda por el vector generado por la compuerta forget\n",
    "\n",
    "A continuación creamos un vector de valores candidatos a formar parte de la nueva memoria. De nuevo, los parámetros Wc y bc se aprenden durante el entrenamiento\n",
    "\n",
    "Ahora filtramos estos valores, multiplicando punto a punto el vector que acabamos de obtener con el generado por la compuerta “update”, y el resultado lo sumamos a los valores anteriores de la celda de estado, generando así la memoria actualizada:\n",
    "\n",
    "<img src=\"images/LSTM_7.png\" width=\"500px\">"
   ]
  },
  {
   "cell_type": "markdown",
   "metadata": {},
   "source": [
    "__Cálculo del nuevo estado oculto__\n",
    "\n",
    "Finalmente debemos calcular el nuevo estado oculto, para lo cual usamos la output gate o compuerta de salida.\n",
    "\n",
    "Este estado oculto de salida es simplemente una versión filtrada del estado de la celda que acabamos de generar.\n",
    "\n",
    "En primer lugar escalamos el nuevo “cell state” para garantizar que esté en el rango de -1 a 1 (el rango que tiene precisamente el estado oculto). Para ello usamos la función tangente hiperbólica.\n",
    "\n",
    "Ahora, usamos la compuerta de salida para determinar qué porciones del cell-state entrarán a formar parte del nuevo estado oculto. Al igual que en los casos anteriores, los parámetros Wo y bo serán aprendidos durante el entrenamiento.\n",
    "\n",
    "Y finalmente, filtramos los valores del cell-state con el vector generado por la compuerta de salida:\n",
    "\n",
    "<img src=\"images/LSTM_8.png\" width=\"500px\">"
   ]
  },
  {
   "cell_type": "markdown",
   "metadata": {},
   "source": [
    "A la hora de implementar las redes LSTM con pyTorch, nos vamos a encontrar con la ventaja de disponer de una función sintética que lo resuelve (__nn.LSTM__)"
   ]
  },
  {
   "cell_type": "code",
   "execution_count": 2,
   "metadata": {
    "id": "Fx6LubzrEoVL"
   },
   "outputs": [],
   "source": [
    "from skimage import io\n",
    "from skimage.transform import resize\n",
    "from mpl_toolkits import mplot3d\n",
    "import matplotlib.pyplot as plt \n",
    "\n",
    "import pandas as pd\n",
    "import numpy as np\n",
    "import seaborn as sns\n",
    "\n",
    "import torch\n",
    "import torch.nn as nn\n",
    "%matplotlib inline"
   ]
  },
  {
   "cell_type": "code",
   "execution_count": 3,
   "metadata": {},
   "outputs": [],
   "source": [
    "googleColaboratory=False\n",
    "entrenamiento=True"
   ]
  },
  {
   "cell_type": "markdown",
   "metadata": {
    "id": "Oij43p6aepZM"
   },
   "source": [
    "## Conexión con el sistema de archivos\n",
    "- Se carga un fichero CSV con el dato de la serie temporal. Número de transacciones diarias\n",
    "- Se muestra el aspecto que tiene la serie temporal"
   ]
  },
  {
   "cell_type": "code",
   "execution_count": 4,
   "metadata": {
    "colab": {
     "base_uri": "https://localhost:8080/"
    },
    "id": "DH3EZ2II6xH4",
    "outputId": "b7321e38-4699-4662-938d-bb4fa40dbdd5"
   },
   "outputs": [],
   "source": [
    "if googleColaboratory:\n",
    "    from google.colab import drive\n",
    "    drive.mount('/content/drive/')\n",
    "    rootFiles=\"/content/drive/My Drive/Colab Notebooks/data\"\n",
    "else:\n",
    "    rootFiles=\"./data\""
   ]
  },
  {
   "cell_type": "code",
   "execution_count": 5,
   "metadata": {
    "colab": {
     "base_uri": "https://localhost:8080/",
     "height": 202
    },
    "id": "bvujGTPi686u",
    "outputId": "fd0ef640-2b05-4644-83d8-de7eda7f331b"
   },
   "outputs": [
    {
     "data": {
      "text/html": [
       "<div>\n",
       "<style scoped>\n",
       "    .dataframe tbody tr th:only-of-type {\n",
       "        vertical-align: middle;\n",
       "    }\n",
       "\n",
       "    .dataframe tbody tr th {\n",
       "        vertical-align: top;\n",
       "    }\n",
       "\n",
       "    .dataframe thead th {\n",
       "        text-align: right;\n",
       "    }\n",
       "</style>\n",
       "<table border=\"1\" class=\"dataframe\">\n",
       "  <thead>\n",
       "    <tr style=\"text-align: right;\">\n",
       "      <th></th>\n",
       "      <th>NumDia</th>\n",
       "      <th>Trans</th>\n",
       "    </tr>\n",
       "  </thead>\n",
       "  <tbody>\n",
       "    <tr>\n",
       "      <th>0</th>\n",
       "      <td>1</td>\n",
       "      <td>0.123048</td>\n",
       "    </tr>\n",
       "    <tr>\n",
       "      <th>1</th>\n",
       "      <td>2</td>\n",
       "      <td>0.110922</td>\n",
       "    </tr>\n",
       "    <tr>\n",
       "      <th>2</th>\n",
       "      <td>3</td>\n",
       "      <td>0.106618</td>\n",
       "    </tr>\n",
       "    <tr>\n",
       "      <th>3</th>\n",
       "      <td>4</td>\n",
       "      <td>0.019243</td>\n",
       "    </tr>\n",
       "    <tr>\n",
       "      <th>4</th>\n",
       "      <td>5</td>\n",
       "      <td>0.013647</td>\n",
       "    </tr>\n",
       "  </tbody>\n",
       "</table>\n",
       "</div>"
      ],
      "text/plain": [
       "   NumDia     Trans\n",
       "0       1  0.123048\n",
       "1       2  0.110922\n",
       "2       3  0.106618\n",
       "3       4  0.019243\n",
       "4       5  0.013647"
      ]
     },
     "execution_count": 5,
     "metadata": {},
     "output_type": "execute_result"
    }
   ],
   "source": [
    "df = pd.read_csv(rootFiles+'/transactions_one.csv', header=None, sep=';')\n",
    "df.columns = ['NumDia', 'Trans']\n",
    "df.head()"
   ]
  },
  {
   "cell_type": "code",
   "execution_count": 6,
   "metadata": {},
   "outputs": [
    {
     "data": {
      "image/png": "[encoded data removed]",
      "text/plain": [
       "<Figure size 800x400 with 1 Axes>"
      ]
     },
     "metadata": {},
     "output_type": "display_data"
    }
   ],
   "source": [
    "dias = df[\"NumDia\"]\n",
    "numtrans = df[\"Trans\"]\n",
    "plt.figure(figsize=(10, 5), dpi=80)\n",
    "plt.plot(dias, numtrans, c='b', label=\"Transacciones canal oficina\")\n",
    "plt.xlabel(\"Días\")\n",
    "plt.ylabel(\"Transacciones\")\n",
    "plt.legend(loc='upper right')\n",
    "plt.show()"
   ]
  },
  {
   "cell_type": "markdown",
   "metadata": {
    "id": "8DYg_3OzfozE"
   },
   "source": [
    "## Proceso de Datos\n",
    "Preparamos los datos para usarlos en el entrenamiento de la red:\n",
    "- Se toma la lista de número de ejecuciones\n",
    "- Se separa en Entrenamiento y Prueba\n",
    "- Se crean bloques de 7 días para construir los tensores que entrenarán la red"
   ]
  },
  {
   "cell_type": "code",
   "execution_count": 7,
   "metadata": {
    "colab": {
     "base_uri": "https://localhost:8080/"
    },
    "id": "ngvISzaTf2Wd",
    "outputId": "f5679bcc-2f01-49c0-9f23-97084465da22"
   },
   "outputs": [
    {
     "name": "stdout",
     "output_type": "stream",
     "text": [
      "213 20\n",
      "[0.02963  0.027467 0.128498 0.163018 0.157705 0.170548 0.142233 0.030978\n",
      " 0.027295 0.142757 0.15649  0.149921 0.15524  0.137721 0.029843 0.017913\n",
      " 0.148521 0.146414 0.140943 0.147745]\n"
     ]
    }
   ],
   "source": [
    "## Volcamos los datos de las transacciones\n",
    "all_data = df['Trans'].values.astype(float)\n",
    "## Creamos el set de Entrenamiento y Pruebas\n",
    "test_data_size = 20\n",
    "\n",
    "train_data = all_data[:-test_data_size]\n",
    "test_data = all_data[-test_data_size:]\n",
    "print(len(train_data), len(test_data))\n",
    "print(test_data)"
   ]
  },
  {
   "cell_type": "code",
   "execution_count": 8,
   "metadata": {
    "colab": {
     "base_uri": "https://localhost:8080/"
    },
    "id": "ooP4y01rhE1W",
    "outputId": "b4adf9a4-641e-43ce-b3e2-38f7eeff7bb6"
   },
   "outputs": [
    {
     "data": {
      "text/plain": [
       "tensor([0.0296, 0.0275, 0.1285, 0.1630, 0.1577, 0.1705, 0.1422, 0.0310, 0.0273,\n",
       "        0.1428, 0.1565, 0.1499, 0.1552, 0.1377, 0.0298, 0.0179, 0.1485, 0.1464,\n",
       "        0.1409, 0.1477])"
      ]
     },
     "execution_count": 8,
     "metadata": {},
     "output_type": "execute_result"
    }
   ],
   "source": [
    "## Se convierte el dato de entrada en tensor\n",
    "train_data = torch.FloatTensor(train_data).view(-1)\n",
    "test_data = torch.FloatTensor(test_data).view(-1)\n",
    "test_data"
   ]
  },
  {
   "cell_type": "code",
   "execution_count": 9,
   "metadata": {
    "id": "LIdWHUOOhuML"
   },
   "outputs": [],
   "source": [
    "## Se crean secuencias en los datos. Secuencia relacionada con la estructura de la serie temporal\n",
    "## Adoptamos secuencias de 7 días, por tener una estacionalidad semanal y ser un dato diario\n",
    "def create_inout_sequences(input_data, tw):\n",
    "    inout_seq = []\n",
    "    L = len(input_data)\n",
    "    for i in range(L-tw):\n",
    "        train_seq = input_data[i:i+tw]\n",
    "        train_label = input_data[i+tw:i+tw+1]\n",
    "        inout_seq.append((train_seq ,train_label))\n",
    "    return inout_seq"
   ]
  },
  {
   "cell_type": "code",
   "execution_count": 10,
   "metadata": {
    "colab": {
     "base_uri": "https://localhost:8080/"
    },
    "id": "7Hvy3ln4iKw7",
    "outputId": "9bee2ba4-71ab-46f5-fc1d-b0fd51d24383"
   },
   "outputs": [
    {
     "data": {
      "text/plain": [
       "([(tensor([0.1109, 0.1066, 0.0192, 0.0136, 0.1297, 0.1186, 0.1090]),\n",
       "   tensor([0.0590])),\n",
       "  (tensor([0.1066, 0.0192, 0.0136, 0.1297, 0.1186, 0.1090, 0.0590]),\n",
       "   tensor([0.0252]))],\n",
       " tensor([0.1109, 0.1066, 0.0192, 0.0136, 0.1297, 0.1186, 0.1090, 0.0590, 0.0252,\n",
       "         0.0244, 0.0157, 0.0744, 0.1175, 0.1184, 0.1119, 0.1019, 0.0228, 0.0178,\n",
       "         0.1163]))"
      ]
     },
     "execution_count": 10,
     "metadata": {},
     "output_type": "execute_result"
    }
   ],
   "source": [
    "## Ejecutamos la función anterior bajo una secuencia 7 en nuestros datos:\n",
    "train_window = 7\n",
    "train_inout_seq = create_inout_sequences(train_data, train_window)\n",
    "train_inout_seq[1:3], train_data[1:20]"
   ]
  },
  {
   "cell_type": "markdown",
   "metadata": {
    "id": "Fnqq5Tdoad3D"
   },
   "source": [
    "## Crear el modelo LSTM\n",
    "**input_size**: Es el número de características en la entrada. Aunque la longitud de nuestra secuencia es 7, para cada semana solo se tiene 1 valor, es decir, el número total de ejecuciones, por lo tanto, el tamaño de entrada será 1.\n",
    "\n",
    "**hidden_layer_size**: especifica el número de capas ocultas junto con el número de neuronas en cada capa. Tendremos una capa de 100 neuronas.\n",
    "\n",
    "**output_size**: La cantidad de elementos en la salida, ya que queremos predecir la cantidad de ejecuciones para 1 semana en el futuro, el tamaño de la salida será 1."
   ]
  },
  {
   "cell_type": "code",
   "execution_count": 11,
   "metadata": {
    "id": "XwxdXl5mauo4"
   },
   "outputs": [],
   "source": [
    "class LSTM(nn.Module):\n",
    "    def __init__(self, input_size=1, hidden_layer_size=100, output_size=1):\n",
    "        super().__init__()\n",
    "        self.hidden_layer_size = hidden_layer_size\n",
    "\n",
    "        self.lstm = nn.LSTM(input_size, hidden_layer_size)\n",
    "\n",
    "        self.linear = nn.Linear(hidden_layer_size, output_size)\n",
    "\n",
    "        self.hidden_cell = (torch.zeros(1,1,self.hidden_layer_size),\n",
    "                            torch.zeros(1,1,self.hidden_layer_size))\n",
    "\n",
    "    def forward(self, input_seq):\n",
    "        lstm_out, self.hidden_cell = self.lstm(input_seq.view(len(input_seq) ,1, -1), self.hidden_cell)\n",
    "        predictions = self.linear(lstm_out.view(len(input_seq), -1))\n",
    "        return predictions[-1]\n",
    "    "
   ]
  },
  {
   "cell_type": "markdown",
   "metadata": {
    "id": "gUohSIwHkz8V"
   },
   "source": [
    "### Creación del objeto LSTM() y definir función de optimización"
   ]
  },
  {
   "cell_type": "code",
   "execution_count": 12,
   "metadata": {
    "colab": {
     "base_uri": "https://localhost:8080/"
    },
    "id": "Gy0oGgaG0uLE",
    "outputId": "de182163-6420-4ee7-ed16-5780503823af"
   },
   "outputs": [
    {
     "name": "stdout",
     "output_type": "stream",
     "text": [
      "LSTM(\n",
      "  (lstm): LSTM(1, 100)\n",
      "  (linear): Linear(in_features=100, out_features=1, bias=True)\n",
      ")\n"
     ]
    }
   ],
   "source": [
    "model = LSTM()\n",
    "loss_function = nn.MSELoss()\n",
    "optimizer = torch.optim.Adam(model.parameters(), lr=0.001)\n",
    "print(model)"
   ]
  },
  {
   "cell_type": "markdown",
   "metadata": {
    "id": "2-UEGE3pbC4z"
   },
   "source": [
    "## Entrenamiento de la Red\n",
    "Se hará un entrenamiento de 150 épocas. Se imprimirá el error o pérdida cada 25 épocas"
   ]
  },
  {
   "cell_type": "code",
   "execution_count": 13,
   "metadata": {
    "colab": {
     "base_uri": "https://localhost:8080/"
    },
    "editable": true,
    "id": "0w3zaix21ghH",
    "outputId": "e8da435a-4ea8-4f1d-ac67-a53652c3be66",
    "slideshow": {
     "slide_type": ""
    },
    "tags": [
     "hide-output"
    ]
   },
   "outputs": [
    {
     "name": "stdout",
     "output_type": "stream",
     "text": [
      "epoch:   1 loss: 0.00169872\n",
      "epoch:  26 loss: 0.00050499\n",
      "epoch:  51 loss: 0.00039711\n",
      "epoch:  76 loss: 0.00057291\n",
      "epoch: 101 loss: 0.00118167\n",
      "epoch: 126 loss: 0.00095613\n",
      "epoch: 149 loss: 0.0003635629\n"
     ]
    }
   ],
   "source": [
    "epochs = 150\n",
    "\n",
    "for i in range(epochs):\n",
    "    for seq, labels in train_inout_seq:\n",
    "        optimizer.zero_grad()\n",
    "        model.hidden_cell = (torch.zeros(1, 1, model.hidden_layer_size),\n",
    "                        torch.zeros(1, 1, model.hidden_layer_size))\n",
    "\n",
    "        y_pred = model(seq)\n",
    "\n",
    "        single_loss = loss_function(y_pred, labels)\n",
    "        single_loss.backward()\n",
    "        optimizer.step()\n",
    "\n",
    "    if i%25 == 1:\n",
    "        print(f'epoch: {i:3} loss: {single_loss.item():10.8f}')\n",
    "\n",
    "print(f'epoch: {i:3} loss: {single_loss.item():10.10f}')"
   ]
  },
  {
   "cell_type": "markdown",
   "metadata": {
    "id": "iN13J64Pndl7"
   },
   "source": [
    "## Predicciones a futuro"
   ]
  },
  {
   "cell_type": "code",
   "execution_count": 19,
   "metadata": {
    "colab": {
     "base_uri": "https://localhost:8080/"
    },
    "id": "m_p_r5JJnk5b",
    "outputId": "d8559630-7e05-404e-b109-2cd828b2b4bd"
   },
   "outputs": [
    {
     "name": "stdout",
     "output_type": "stream",
     "text": [
      "[0.025825999677181244, 0.025638999417424202, 0.14882799983024597, 0.15433600544929504, 0.15092100203037262, 0.15455999970436096, 0.14014199376106262]\n"
     ]
    },
    {
     "data": {
      "text/plain": [
       "[0.025825999677181244,\n",
       " 0.025638999417424202,\n",
       " 0.14882799983024597,\n",
       " 0.15433600544929504,\n",
       " 0.15092100203037262,\n",
       " 0.15455999970436096,\n",
       " 0.14014199376106262]"
      ]
     },
     "execution_count": 19,
     "metadata": {},
     "output_type": "execute_result"
    }
   ],
   "source": [
    "## Como estamos prediciendo por semanas vamos a ver los valores que se tiene de las últimas 7 semanas\n",
    "fut_pred = 7\n",
    "\n",
    "pred_inputs = train_data[-train_window:].tolist()\n",
    "print(pred_inputs)\n",
    "pred_inputs"
   ]
  },
  {
   "cell_type": "code",
   "execution_count": 20,
   "metadata": {
    "id": "vkwDkp56oTiC"
   },
   "outputs": [],
   "source": [
    "model.eval()\n",
    "\n",
    "for i in range(fut_pred):\n",
    "    seq = torch.FloatTensor(pred_inputs[-train_window:])\n",
    "    with torch.no_grad():\n",
    "        model.hidden = (torch.zeros(1, 1, model.hidden_layer_size),\n",
    "                        torch.zeros(1, 1, model.hidden_layer_size))\n",
    "        pred_inputs.append(model(seq).item())"
   ]
  },
  {
   "cell_type": "code",
   "execution_count": 21,
   "metadata": {
    "colab": {
     "base_uri": "https://localhost:8080/"
    },
    "id": "8dn4BCqT3XWy",
    "outputId": "e8dedb33-660b-4f27-9c81-a39946df2fcb"
   },
   "outputs": [
    {
     "data": {
      "text/plain": [
       "[0.025825999677181244,\n",
       " 0.025638999417424202,\n",
       " 0.14882799983024597,\n",
       " 0.15433600544929504,\n",
       " 0.15092100203037262,\n",
       " 0.15455999970436096,\n",
       " 0.14014199376106262,\n",
       " 0.046856172382831573,\n",
       " 0.013356514275074005,\n",
       " 0.1544228494167328,\n",
       " 0.12653619050979614,\n",
       " 0.14323008060455322,\n",
       " 0.14925652742385864,\n",
       " 0.11354171484708786]"
      ]
     },
     "execution_count": 21,
     "metadata": {},
     "output_type": "execute_result"
    }
   ],
   "source": [
    "### Una secuencia de 7 valores pre-existentes y 7 valores predichos\n",
    "pred_inputs"
   ]
  },
  {
   "cell_type": "code",
   "execution_count": 22,
   "metadata": {
    "colab": {
     "base_uri": "https://localhost:8080/"
    },
    "id": "ksURbEkVoYVS",
    "outputId": "c39310a1-87db-49d0-9983-c4436219628c"
   },
   "outputs": [
    {
     "name": "stdout",
     "output_type": "stream",
     "text": [
      "233 213 20 14\n"
     ]
    },
    {
     "data": {
      "text/plain": [
       "(array([207., 208., 209., 210., 211., 212., 213., 214., 215., 216., 217.,\n",
       "        218., 219., 220.]),\n",
       " 14)"
      ]
     },
     "execution_count": 22,
     "metadata": {},
     "output_type": "execute_result"
    }
   ],
   "source": [
    "print(len(all_data), len(train_data), len(test_data), len(pred_inputs))\n",
    "all_days = df[\"NumDia\"]\n",
    "train_days = np.linspace(1, len(train_data), len(train_data))\n",
    "#test_days = np.linspace(len(train_data)+1, len(train_data) + len(test_data), len(test_data))\n",
    "pred_days = np.linspace(len(train_data)-len(pred_inputs)+8, len(train_data)+7, len(pred_inputs))\n",
    "pred_days, len(pred_days)"
   ]
  },
  {
   "cell_type": "markdown",
   "metadata": {
    "id": "-FjVJ9PFrDG9"
   },
   "source": [
    "## Se muestran las predicciones en el contexto de la serie completa\n",
    "- El conjunto de Pruebas está en la parte final de la serie \n",
    "- La predicción se hace en un bloque de 7 días al principio del bloque de pruebas\n",
    "- Se muestra la serie de entranamiento (hasta el día 213)\n",
    "- Y la predicción se comprueba con la serie real que acaba en el día 233\n",
    "- La serie real completa se muestra en azul\n",
    "- La predicción en rojo para poder comparar"
   ]
  },
  {
   "cell_type": "code",
   "execution_count": 23,
   "metadata": {},
   "outputs": [
    {
     "data": {
      "image/png": "[encoded data removed]",
      "text/plain": [
       "<Figure size 1120x400 with 1 Axes>"
      ]
     },
     "metadata": {},
     "output_type": "display_data"
    }
   ],
   "source": [
    "plt.figure(figsize=(14, 5), dpi=80)\n",
    "plt.plot(pred_days, pred_inputs, c='r', linewidth=2.0, label=\"Predicción\")\n",
    "plt.plot(df[\"NumDia\"], df[\"Trans\"], c='b', linewidth=1.0, label=\"Valor real\")\n",
    "plt.xlabel(\"Días\")\n",
    "plt.ylabel(\"Transacciones\")\n",
    "plt.legend(loc='upper left')\n",
    "plt.show()"
   ]
  },
  {
   "cell_type": "code",
   "execution_count": null,
   "metadata": {},
   "outputs": [],
   "source": []
  }
 ],
 "metadata": {
  "colab": {
   "collapsed_sections": [],
   "name": "4. Implementar una red LSTM con pytorch (serie temporal de transacciones por día).ipynb",
   "provenance": []
  },
  "kernelspec": {
   "display_name": "Python 3 (ipykernel)",
   "language": "python",
   "name": "python3"
  },
  "language_info": {
   "codemirror_mode": {
    "name": "ipython",
    "version": 3
   },
   "file_extension": ".py",
   "mimetype": "text/x-python",
   "name": "python",
   "nbconvert_exporter": "python",
   "pygments_lexer": "ipython3",
   "version": "3.11.5"
  }
 },
 "nbformat": 4,
 "nbformat_minor": 4
}

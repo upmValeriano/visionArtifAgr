{
 "cells": [
  {
   "cell_type": "markdown",
   "id": "saving-worcester",
   "metadata": {},
   "source": [
    "# Análisis de Secuencias: Objetivo"
   ]
  },
  {
   "cell_type": "markdown",
   "id": "fatal-thomson",
   "metadata": {},
   "source": [
    "## Objetivo: predicción de estructuras de proteínas\n",
    "\n",
    "- El plegamiento de proteínas es extremadamente complejo\n",
    "\n",
    "- Predecir las estructuras de mayor nivel (terciaria, cuaternaria) implica conocer bien la __estructura secundaria__ (formada por los enlaces de hidrógeno que ocurren entre los AA\n",
    "\n",
    "- Dada una colección de secuencias de AA, ¿podemos predecir la __estructura secundaria__ que será más probable en cada sitio de la secuencia?\n",
    "\n",
    "\n",
    "\n",
    ":::{figure-md} markdown-fig.4.00.1\n",
    "<img src=\"./images/secondary-struct.jpg\" alt=\"fishy\" class=\"bg-primary mb-1\" width=\"600px\">\n",
    "\n",
    "Estructura secundaria\n",
    ":::\n"
   ]
  },
  {
   "cell_type": "markdown",
   "id": "coated-grove",
   "metadata": {},
   "source": [
    "Las principales estructuras secundarias que se observan son:\n",
    "\n",
    "- Hélices de varios tipos $H$ (por ejemplo $\\alpha$-hélices)\n",
    "- Hojas extendidas $E$ (por ejemplo hojas $\\beta$)\n",
    "- Otras conformaciones, $C$\n",
    "\n",
    "El método [__DSSP__](https://en.wikipedia.org/wiki/DSSP_(hydrogen_bond_estimation_algorithm)) de estimación de los enlaces de hidrógeno permite estimar estructuras secundarias.\n",
    "\n",
    "### Aprendizaje automático\n",
    "\n",
    "¿Podemos utilizar técnicas de aprendizaje automático para predecir\n",
    "estructuras secundarias a partir de secuencias cuya estructura ha\n",
    "sido __previamente anotada__?\n",
    "\n",
    ":::{figure-md} markdown-fig.4.00.2\n",
    "<img src=\"./images/pdb.png\" width=\"600px\">\n",
    "\n",
    "Protein data bank\n",
    ":::"
   ]
  },
  {
   "cell_type": "markdown",
   "id": "flexible-hawaii",
   "metadata": {},
   "source": [
    "Se han aplicado diferentes técnicas:\n",
    "\n",
    "- Redes neuronales\n",
    "- Máquinas de vectores de soporte\n",
    "\n",
    "Nos centraremos en __modelos de Markov ocultos__ (HMM), que consideran _no observables_ las diferentes conformaciones que adopta cada elemento, mientras que sólo la secuencia de AA es _observable_.\n",
    "\n",
    "Para poder aplicarlos al análisis de secuencias, primero hay que saber qué entendemos por un __modelo de Markov__"
   ]
  },
  {
   "cell_type": "code",
   "execution_count": null,
   "id": "hydraulic-dating",
   "metadata": {},
   "outputs": [],
   "source": []
  }
 ],
 "metadata": {
  "kernelspec": {
   "display_name": "Python 3 (ipykernel)",
   "language": "python",
   "name": "python3"
  },
  "language_info": {
   "codemirror_mode": {
    "name": "ipython",
    "version": 3
   },
   "file_extension": ".py",
   "mimetype": "text/x-python",
   "name": "python",
   "nbconvert_exporter": "python",
   "pygments_lexer": "ipython3",
   "version": "3.10.6"
  }
 },
 "nbformat": 4,
 "nbformat_minor": 5
}

{
 "cells": [
  {
   "cell_type": "code",
   "execution_count": 1,
   "id": "raising-coverage",
   "metadata": {},
   "outputs": [],
   "source": [
    "import numpy as np"
   ]
  },
  {
   "cell_type": "markdown",
   "id": "completed-validity",
   "metadata": {},
   "source": [
    "# Los algoritmos genéticos\n",
    "\n",
    "Estos algoritmos emulan los procesos que ocurren en la Naturaleza que dan lugar a la evolución por selección natural.\n",
    "\n",
    "Suponen que la Evolución __optimiza__ algunos de los atributos que distinguen a las especies.\n",
    "\n",
    "Es notable el caso del cangrejo Heikegani o Heike, también conocido como cangrejo _samurai_:\n",
    " * [Ref1](https://www.revistacienciasunam.com/es/110-revistas/revista-ciencias-102/953-la-curiosa-historia-del-cangrejo-samurai.html)\n",
    " * [Ref2](https://en.wikipedia.org/wiki/Heikegani)\n",
    " \n",
    " ## Cálculo\n",
    " \n",
    "```{figure} ./images/ga_opt_function.png\n",
    "Función a optimizar\n",
    "```\n",
    "\n",
    "El cálculo infinitesimal ha encontrado condiciones de extremo cuando la función es _diferenciable_.\n",
    "\n",
    "```{note}\n",
    "Si $f$ es una función diferenciable en un intervalo, los extremos de $f$ verifican $Df(x)=0$\n",
    "```\n",
    "\n",
    "Existen ocasiones en las que no se conoce la forma explícita de la función\n",
    "\n",
    "\n",
    "```{figure} ./images/ga_nofuncion.png\n",
    "```\n",
    "\n",
    "\n",
    "Cuando la función __rige__ la dinámica del sistema, el interés reside en conocer los estados que visitará el sistema y, sobre todo, hacia donde tiende.\n",
    "\n",
    "## Espacios de soluciones\n",
    "\n",
    "La __Fuerza Bruta__ puede ayudar a rastrear el espacio de soluciones y, por comparación, encontrar aquellas en las que la función toma el máximo valor.\n",
    "\n",
    "__Ejemplo:__ cadenas binarias formadas por $\\nu$ elementos. El número de posibles secuencias es $S=2^\\nu$.\n",
    "\n",
    "Asociado a cada secuencia tenemos el valor que toma la función $f$.\n",
    "\n",
    "Si $\\nu=100$ entonces $S\\approx 10^{31}$\n",
    "\n",
    "```{figure} ./images/ga_solution_space.png\n",
    "```\n",
    "\n",
    "### Algoritmos inteligentes de búsqueda\n",
    "\n",
    "* La derivada: si $f$ es diferenciable, calculando la derivada reducimos un espacio __infinito__ (un intervalo) a un conjunto de puntos, en principio, __finito__ en los que la derivada se anula\n",
    "\n",
    "* Algoritmos de __rastreo__: que no sea necesario evaluar $f$ en todos los puntos del espacio solución\n",
    "\n",
    "* Los algoritmos genéticos aprovechan las ideas de la evolución (caminos evolutivos) que siguen las poblaciones de especies autorreplicativas para encontrar candidatos a extremos (absolutos) evitando evaluar todas las posibilidades\n",
    "\n",
    "* Son métodos [_heurísticos_](https://es.wikipedia.org/wiki/Heur%C3%ADstica) \n",
    "    * Funcionan mejor que métodos matemáticos cuando la __complejidad__ del problema sobrepasa unos límites de __tratabilidad__\n",
    "    \n",
    "## Aplicaciones\n",
    "\n",
    "* {cite}`Nuno2020`"
   ]
  },
  {
   "cell_type": "code",
   "execution_count": null,
   "id": "distinguished-summit",
   "metadata": {},
   "outputs": [],
   "source": []
  }
 ],
 "metadata": {
  "kernelspec": {
   "display_name": "Python 3",
   "language": "python",
   "name": "python3"
  },
  "language_info": {
   "codemirror_mode": {
    "name": "ipython",
    "version": 3
   },
   "file_extension": ".py",
   "mimetype": "text/x-python",
   "name": "python",
   "nbconvert_exporter": "python",
   "pygments_lexer": "ipython3",
   "version": "3.8.10"
  }
 },
 "nbformat": 4,
 "nbformat_minor": 5
}

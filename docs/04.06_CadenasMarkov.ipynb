{
 "cells": [
  {
   "cell_type": "markdown",
   "metadata": {},
   "source": [
    "# Práctica 1: cadenas de Markov como Modelos de Secuencias\n",
    "\n",
    "Usaremos el paquete `hidden_markov`\n",
    "\n"
   ]
  },
  {
   "cell_type": "code",
   "execution_count": 1,
   "metadata": {},
   "outputs": [],
   "source": [
    "#pip install hidden_markov"
   ]
  },
  {
   "cell_type": "code",
   "execution_count": 1,
   "metadata": {},
   "outputs": [],
   "source": [
    "# Import required Libraries\n",
    "import numpy as np\n",
    "from hidden_markov import hmm\n",
    "import pandas as pd\n",
    "import os\n",
    "import matplotlib.pyplot as plt"
   ]
  },
  {
   "cell_type": "code",
   "execution_count": 3,
   "metadata": {},
   "outputs": [],
   "source": [
    "### Also http://scikit-learn.sourceforge.net/stable/modules/hmm.html"
   ]
  },
  {
   "cell_type": "markdown",
   "metadata": {},
   "source": [
    "## Ejemplo 1: Conjunto de datos\n",
    "\n",
    "Cargamos datos de secuencias de proteínas.\n",
    "\n",
    "Carga el conjunto de datos ``prots-L30.txt`` que puedes descargar en Moodle. Como vamos a trabajar con cadenas de caracteres, convierte todas las columnas que involucren cadenas de caracteres al tipo character. Visualiza el conjunto de datos. La primera columna se refiere al identificador de la proteina en PDB. La segunda es la secuencia de aminoácidos, y la tercera es la estructura secundaria más probable predicha para esa secuencia en la base de datos. La cuarta columna es la longitud de la secuencia.\n",
    "\n",
    "¿Tienen todas las secuencias la misma longitud?\n"
   ]
  },
  {
   "cell_type": "code",
   "execution_count": 4,
   "metadata": {},
   "outputs": [
    {
     "data": {
      "text/html": [
       "<div>\n",
       "<style scoped>\n",
       "    .dataframe tbody tr th:only-of-type {\n",
       "        vertical-align: middle;\n",
       "    }\n",
       "\n",
       "    .dataframe tbody tr th {\n",
       "        vertical-align: top;\n",
       "    }\n",
       "\n",
       "    .dataframe thead th {\n",
       "        text-align: right;\n",
       "    }\n",
       "</style>\n",
       "<table border=\"1\" class=\"dataframe\">\n",
       "  <thead>\n",
       "    <tr style=\"text-align: right;\">\n",
       "      <th></th>\n",
       "      <th>pdb_id</th>\n",
       "      <th>seq</th>\n",
       "      <th>sst3</th>\n",
       "      <th>len</th>\n",
       "    </tr>\n",
       "  </thead>\n",
       "  <tbody>\n",
       "    <tr>\n",
       "      <th>0</th>\n",
       "      <td>1AI0</td>\n",
       "      <td>FVNQHLCGSHLVEALYLVCGERGFFYTPKT</td>\n",
       "      <td>CCCHHHHHHHHHHHHHHHHHHHCEEECCCC</td>\n",
       "      <td>30</td>\n",
       "    </tr>\n",
       "    <tr>\n",
       "      <th>1</th>\n",
       "      <td>1APH</td>\n",
       "      <td>FVNQHLCGSHLVEALYLVCGERGFFYTPKA</td>\n",
       "      <td>CCCCCCCCHHHHHHHHHHHHHHCEEECCCC</td>\n",
       "      <td>30</td>\n",
       "    </tr>\n",
       "    <tr>\n",
       "      <th>2</th>\n",
       "      <td>1B4G</td>\n",
       "      <td>MISSVCVSSYRGRKSGNKPPSKTCLKEEMA</td>\n",
       "      <td>CCCCCECCCCCCCCCCCCCCCCCCCCCCCC</td>\n",
       "      <td>30</td>\n",
       "    </tr>\n",
       "    <tr>\n",
       "      <th>3</th>\n",
       "      <td>1B9E</td>\n",
       "      <td>FVNQHLCGEHLVEALYLVCGERGFFYTPKT</td>\n",
       "      <td>CCCCCCCHHHHHHHHHHHHHHHCEEECCCC</td>\n",
       "      <td>30</td>\n",
       "    </tr>\n",
       "    <tr>\n",
       "      <th>4</th>\n",
       "      <td>1BH4</td>\n",
       "      <td>CGESCVWIPCISAALGCSCKNKVCYRNGIP</td>\n",
       "      <td>CCCCCCCCCCCHHHHCCCCCCCCCCCCCCC</td>\n",
       "      <td>30</td>\n",
       "    </tr>\n",
       "  </tbody>\n",
       "</table>\n",
       "</div>"
      ],
      "text/plain": [
       "  pdb_id                             seq                            sst3  len\n",
       "0   1AI0  FVNQHLCGSHLVEALYLVCGERGFFYTPKT  CCCHHHHHHHHHHHHHHHHHHHCEEECCCC   30\n",
       "1   1APH  FVNQHLCGSHLVEALYLVCGERGFFYTPKA  CCCCCCCCHHHHHHHHHHHHHHCEEECCCC   30\n",
       "2   1B4G  MISSVCVSSYRGRKSGNKPPSKTCLKEEMA  CCCCCECCCCCCCCCCCCCCCCCCCCCCCC   30\n",
       "3   1B9E  FVNQHLCGEHLVEALYLVCGERGFFYTPKT  CCCCCCCHHHHHHHHHHHHHHHCEEECCCC   30\n",
       "4   1BH4  CGESCVWIPCISAALGCSCKNKVCYRNGIP  CCCCCCCCCCCHHHHCCCCCCCCCCCCCCC   30"
      ]
     },
     "execution_count": 4,
     "metadata": {},
     "output_type": "execute_result"
    }
   ],
   "source": [
    "dataFolder = './data/'\n",
    "dataFile = 'prots-L30.txt'\n",
    "dataFilepath = os.path.join(dataFolder,dataFile)\n",
    "df = pd.read_csv(dataFilepath)\n",
    "df.head()"
   ]
  },
  {
   "cell_type": "code",
   "execution_count": 5,
   "metadata": {},
   "outputs": [
    {
     "data": {
      "text/html": [
       "<div>\n",
       "<style scoped>\n",
       "    .dataframe tbody tr th:only-of-type {\n",
       "        vertical-align: middle;\n",
       "    }\n",
       "\n",
       "    .dataframe tbody tr th {\n",
       "        vertical-align: top;\n",
       "    }\n",
       "\n",
       "    .dataframe thead th {\n",
       "        text-align: right;\n",
       "    }\n",
       "</style>\n",
       "<table border=\"1\" class=\"dataframe\">\n",
       "  <thead>\n",
       "    <tr style=\"text-align: right;\">\n",
       "      <th></th>\n",
       "      <th>len</th>\n",
       "    </tr>\n",
       "  </thead>\n",
       "  <tbody>\n",
       "    <tr>\n",
       "      <th>count</th>\n",
       "      <td>174.0</td>\n",
       "    </tr>\n",
       "    <tr>\n",
       "      <th>mean</th>\n",
       "      <td>30.0</td>\n",
       "    </tr>\n",
       "    <tr>\n",
       "      <th>std</th>\n",
       "      <td>0.0</td>\n",
       "    </tr>\n",
       "    <tr>\n",
       "      <th>min</th>\n",
       "      <td>30.0</td>\n",
       "    </tr>\n",
       "    <tr>\n",
       "      <th>25%</th>\n",
       "      <td>30.0</td>\n",
       "    </tr>\n",
       "    <tr>\n",
       "      <th>50%</th>\n",
       "      <td>30.0</td>\n",
       "    </tr>\n",
       "    <tr>\n",
       "      <th>75%</th>\n",
       "      <td>30.0</td>\n",
       "    </tr>\n",
       "    <tr>\n",
       "      <th>max</th>\n",
       "      <td>30.0</td>\n",
       "    </tr>\n",
       "  </tbody>\n",
       "</table>\n",
       "</div>"
      ],
      "text/plain": [
       "         len\n",
       "count  174.0\n",
       "mean    30.0\n",
       "std      0.0\n",
       "min     30.0\n",
       "25%     30.0\n",
       "50%     30.0\n",
       "75%     30.0\n",
       "max     30.0"
      ]
     },
     "execution_count": 5,
     "metadata": {},
     "output_type": "execute_result"
    }
   ],
   "source": [
    "df.describe()"
   ]
  },
  {
   "cell_type": "code",
   "execution_count": 6,
   "metadata": {},
   "outputs": [
    {
     "data": {
      "text/plain": [
       "pdb_id    object\n",
       "seq       object\n",
       "sst3      object\n",
       "len        int64\n",
       "dtype: object"
      ]
     },
     "execution_count": 6,
     "metadata": {},
     "output_type": "execute_result"
    }
   ],
   "source": [
    "df.dtypes"
   ]
  },
  {
   "cell_type": "code",
   "execution_count": 7,
   "metadata": {},
   "outputs": [
    {
     "data": {
      "text/plain": [
       "'FVNQHLCGSHLVEALYLVCGERGFFYTPKT'"
      ]
     },
     "execution_count": 7,
     "metadata": {},
     "output_type": "execute_result"
    }
   ],
   "source": [
    "df.seq[0]"
   ]
  },
  {
   "cell_type": "code",
   "execution_count": 8,
   "metadata": {},
   "outputs": [
    {
     "data": {
      "text/plain": [
       "str"
      ]
     },
     "execution_count": 8,
     "metadata": {},
     "output_type": "execute_result"
    }
   ],
   "source": [
    "type(df.seq[0])"
   ]
  },
  {
   "cell_type": "markdown",
   "metadata": {},
   "source": [
    "## Ejemplo 2. Definiciones previas.\n",
    "\n",
    "Define el alfabeto, formado por 20 aminoácidos, siguiendo este orden: ``RKDEQSCHNTWYMAILFVPG``. Obtén las longitudes del alfabeto y la longitud de cada secuencia, así como el numero de instancias en el conjunto de datos."
   ]
  },
  {
   "cell_type": "code",
   "execution_count": 9,
   "metadata": {},
   "outputs": [],
   "source": [
    "alfabeto=[ele for ele in \"RKDEQSCHNTWYMAILFVPG\"]"
   ]
  },
  {
   "cell_type": "code",
   "execution_count": 10,
   "metadata": {},
   "outputs": [
    {
     "name": "stdout",
     "output_type": "stream",
     "text": [
      "Longitud del alfabeto =20\n",
      "Número de secuencias =174\n",
      "Longitud de las secuencias = 30\n"
     ]
    }
   ],
   "source": [
    "print('Longitud del alfabeto ={}\\nNúmero de secuencias ={}\\nLongitud de las secuencias = {}'.format(len(alfabeto),\n",
    "                               len(df['seq']),len(df['seq'][0])))"
   ]
  },
  {
   "cell_type": "markdown",
   "metadata": {},
   "source": [
    "## Ejemplo 3. Vector de frecuencias en la primera posición\n",
    "\n",
    "Vamos a calcular las probabilidades iniciales de cada aminoácido.\n",
    "\n",
    "> Calcula las frecuencias absolutas de cada aminoacido en la primera posición de la secuencia."
   ]
  },
  {
   "cell_type": "code",
   "execution_count": 11,
   "metadata": {},
   "outputs": [
    {
     "data": {
      "text/plain": [
       "{'R': 2.0,\n",
       " 'K': 10.0,\n",
       " 'D': 6.0,\n",
       " 'E': 8.0,\n",
       " 'Q': 3.0,\n",
       " 'S': 8.0,\n",
       " 'C': 9.0,\n",
       " 'H': 3.0,\n",
       " 'N': 3.0,\n",
       " 'T': 3.0,\n",
       " 'W': 0.0,\n",
       " 'Y': 3.0,\n",
       " 'M': 15.0,\n",
       " 'A': 21.0,\n",
       " 'I': 1.0,\n",
       " 'L': 2.0,\n",
       " 'F': 39.0,\n",
       " 'V': 9.0,\n",
       " 'P': 5.0,\n",
       " 'G': 24.0}"
      ]
     },
     "execution_count": 11,
     "metadata": {},
     "output_type": "execute_result"
    }
   ],
   "source": [
    "numSecuencias = len(df['seq'])\n",
    "lenAlfab = len(alfabeto)\n",
    "#frecAbsoluPos1 = [0 for i in range(lenAlfab)]\n",
    "Pini = np.zeros(lenAlfab).astype(float)\n",
    "\n",
    "for nseq in range(numSecuencias):\n",
    "    secuenciaTabla = df.loc[nseq,'seq']\n",
    "    primerAminoacido = secuenciaTabla[0]\n",
    "    posicionAlfabeto = alfabeto.index(primerAminoacido)\n",
    "    Pini[posicionAlfabeto] += 1\n",
    "\n",
    "frecuenciasAbsolutasIniciales = dict(zip(alfabeto,Pini))\n",
    "frecuenciasAbsolutasIniciales"
   ]
  },
  {
   "cell_type": "markdown",
   "metadata": {},
   "source": [
    "## Ejercicio 1. Vector inicial de probabilidades\n",
    "\n",
    "Comprueba que la suma del vector calculado\n",
    "en el ejemplo anterior coincide con el número de instancias. Normaliza el vector dividiendo\n",
    "por la suma para transformarlo en un vector de probabilidades."
   ]
  },
  {
   "cell_type": "code",
   "execution_count": 12,
   "metadata": {
    "tags": [
     "hide-cell"
    ]
   },
   "outputs": [
    {
     "name": "stdout",
     "output_type": "stream",
     "text": [
      "Suma de Pini: 174.0\n",
      "Número de secuencias: 174\n",
      "\n",
      "\n",
      "[0.01149425 0.05747126 0.03448276 0.04597701 0.01724138 0.04597701\n",
      " 0.05172414 0.01724138 0.01724138 0.01724138 0.         0.01724138\n",
      " 0.0862069  0.12068966 0.00574713 0.01149425 0.22413793 0.05172414\n",
      " 0.02873563 0.13793103] 1.0\n",
      "\n",
      "\n",
      "{'R': 0.011494252873563218, 'K': 0.05747126436781609, 'D': 0.034482758620689655, 'E': 0.04597701149425287, 'Q': 0.017241379310344827, 'S': 0.04597701149425287, 'C': 0.05172413793103448, 'H': 0.017241379310344827, 'N': 0.017241379310344827, 'T': 0.017241379310344827, 'W': 0.0, 'Y': 0.017241379310344827, 'M': 0.08620689655172414, 'A': 0.1206896551724138, 'I': 0.005747126436781609, 'L': 0.011494252873563218, 'F': 0.22413793103448276, 'V': 0.05172413793103448, 'P': 0.028735632183908046, 'G': 0.13793103448275862}\n"
     ]
    }
   ],
   "source": [
    "print('Suma de Pini: {}\\nNúmero de secuencias: {}'.format(sum(Pini),numSecuencias))\n",
    "sum(Pini),numSecuencias\n",
    "# Frecuencias Relativas\n",
    "sumFrecuenciasAbsolutas = sum(Pini)\n",
    "Pini = Pini/sumFrecuenciasAbsolutas\n",
    "print('\\n')\n",
    "print(Pini,Pini.sum())\n",
    "frecuenciasRelativasIniciales = dict(zip(alfabeto,Pini))\n",
    "print('\\n')\n",
    "print(frecuenciasRelativasIniciales)"
   ]
  },
  {
   "cell_type": "markdown",
   "metadata": {},
   "source": [
    "## Ejercicio 2. Matriz de Transiciones\n",
    "\n",
    "Define una matriz de ceros, de tamaño $20 \\times 20$, de forma que los nombres de filas y columnas sean precisamente los nombres de cada aminoácido. \n",
    "\n",
    "Actualiza esta matriz para que contenga las frecuencias absolutas de las $20 \\times 20$ posibles transiciones que hay entre los aminoácidos. Para ello tendrás que recorrer cada secuencia e identificar los dos residuos $R_i \\rightarrow R_f$ involucrados en las 29 transiciones posibles (tenemos secuencias de longitud 30) y actualizar el contador en la fila y columna correspondientes a la transición observada. Habrá que acumular los conteos\n",
    "recorriendo todas las secuencias del conjunto de datos.\n"
   ]
  },
  {
   "cell_type": "code",
   "execution_count": 13,
   "metadata": {
    "tags": [
     "hide-cell"
    ]
   },
   "outputs": [
    {
     "data": {
      "text/html": [
       "<div>\n",
       "<style scoped>\n",
       "    .dataframe tbody tr th:only-of-type {\n",
       "        vertical-align: middle;\n",
       "    }\n",
       "\n",
       "    .dataframe tbody tr th {\n",
       "        vertical-align: top;\n",
       "    }\n",
       "\n",
       "    .dataframe thead th {\n",
       "        text-align: right;\n",
       "    }\n",
       "</style>\n",
       "<table border=\"1\" class=\"dataframe\">\n",
       "  <thead>\n",
       "    <tr style=\"text-align: right;\">\n",
       "      <th></th>\n",
       "      <th>R</th>\n",
       "      <th>K</th>\n",
       "      <th>D</th>\n",
       "      <th>E</th>\n",
       "      <th>Q</th>\n",
       "      <th>S</th>\n",
       "      <th>C</th>\n",
       "      <th>H</th>\n",
       "      <th>N</th>\n",
       "      <th>T</th>\n",
       "      <th>W</th>\n",
       "      <th>Y</th>\n",
       "      <th>M</th>\n",
       "      <th>A</th>\n",
       "      <th>I</th>\n",
       "      <th>L</th>\n",
       "      <th>F</th>\n",
       "      <th>V</th>\n",
       "      <th>P</th>\n",
       "      <th>G</th>\n",
       "    </tr>\n",
       "  </thead>\n",
       "  <tbody>\n",
       "    <tr>\n",
       "      <th>R</th>\n",
       "      <td>32.0</td>\n",
       "      <td>14.0</td>\n",
       "      <td>6.0</td>\n",
       "      <td>10.0</td>\n",
       "      <td>9.0</td>\n",
       "      <td>6.0</td>\n",
       "      <td>12.0</td>\n",
       "      <td>5.0</td>\n",
       "      <td>7.0</td>\n",
       "      <td>9.0</td>\n",
       "      <td>3.0</td>\n",
       "      <td>17.0</td>\n",
       "      <td>2.0</td>\n",
       "      <td>18.0</td>\n",
       "      <td>24.0</td>\n",
       "      <td>29.0</td>\n",
       "      <td>5.0</td>\n",
       "      <td>4.0</td>\n",
       "      <td>15.0</td>\n",
       "      <td>52.0</td>\n",
       "    </tr>\n",
       "    <tr>\n",
       "      <th>K</th>\n",
       "      <td>17.0</td>\n",
       "      <td>27.0</td>\n",
       "      <td>7.0</td>\n",
       "      <td>21.0</td>\n",
       "      <td>10.0</td>\n",
       "      <td>20.0</td>\n",
       "      <td>17.0</td>\n",
       "      <td>10.0</td>\n",
       "      <td>12.0</td>\n",
       "      <td>49.0</td>\n",
       "      <td>3.0</td>\n",
       "      <td>6.0</td>\n",
       "      <td>1.0</td>\n",
       "      <td>18.0</td>\n",
       "      <td>9.0</td>\n",
       "      <td>13.0</td>\n",
       "      <td>2.0</td>\n",
       "      <td>11.0</td>\n",
       "      <td>23.0</td>\n",
       "      <td>12.0</td>\n",
       "    </tr>\n",
       "    <tr>\n",
       "      <th>D</th>\n",
       "      <td>4.0</td>\n",
       "      <td>9.0</td>\n",
       "      <td>15.0</td>\n",
       "      <td>6.0</td>\n",
       "      <td>4.0</td>\n",
       "      <td>16.0</td>\n",
       "      <td>12.0</td>\n",
       "      <td>4.0</td>\n",
       "      <td>5.0</td>\n",
       "      <td>5.0</td>\n",
       "      <td>2.0</td>\n",
       "      <td>5.0</td>\n",
       "      <td>1.0</td>\n",
       "      <td>7.0</td>\n",
       "      <td>7.0</td>\n",
       "      <td>17.0</td>\n",
       "      <td>3.0</td>\n",
       "      <td>9.0</td>\n",
       "      <td>12.0</td>\n",
       "      <td>13.0</td>\n",
       "    </tr>\n",
       "    <tr>\n",
       "      <th>E</th>\n",
       "      <td>71.0</td>\n",
       "      <td>29.0</td>\n",
       "      <td>16.0</td>\n",
       "      <td>16.0</td>\n",
       "      <td>5.0</td>\n",
       "      <td>11.0</td>\n",
       "      <td>7.0</td>\n",
       "      <td>3.0</td>\n",
       "      <td>8.0</td>\n",
       "      <td>7.0</td>\n",
       "      <td>2.0</td>\n",
       "      <td>8.0</td>\n",
       "      <td>1.0</td>\n",
       "      <td>52.0</td>\n",
       "      <td>14.0</td>\n",
       "      <td>15.0</td>\n",
       "      <td>4.0</td>\n",
       "      <td>9.0</td>\n",
       "      <td>4.0</td>\n",
       "      <td>13.0</td>\n",
       "    </tr>\n",
       "    <tr>\n",
       "      <th>Q</th>\n",
       "      <td>9.0</td>\n",
       "      <td>11.0</td>\n",
       "      <td>4.0</td>\n",
       "      <td>8.0</td>\n",
       "      <td>6.0</td>\n",
       "      <td>3.0</td>\n",
       "      <td>12.0</td>\n",
       "      <td>35.0</td>\n",
       "      <td>4.0</td>\n",
       "      <td>4.0</td>\n",
       "      <td>1.0</td>\n",
       "      <td>12.0</td>\n",
       "      <td>0.0</td>\n",
       "      <td>12.0</td>\n",
       "      <td>10.0</td>\n",
       "      <td>8.0</td>\n",
       "      <td>1.0</td>\n",
       "      <td>3.0</td>\n",
       "      <td>3.0</td>\n",
       "      <td>18.0</td>\n",
       "    </tr>\n",
       "    <tr>\n",
       "      <th>S</th>\n",
       "      <td>10.0</td>\n",
       "      <td>27.0</td>\n",
       "      <td>20.0</td>\n",
       "      <td>10.0</td>\n",
       "      <td>9.0</td>\n",
       "      <td>21.0</td>\n",
       "      <td>35.0</td>\n",
       "      <td>34.0</td>\n",
       "      <td>11.0</td>\n",
       "      <td>8.0</td>\n",
       "      <td>7.0</td>\n",
       "      <td>12.0</td>\n",
       "      <td>3.0</td>\n",
       "      <td>12.0</td>\n",
       "      <td>8.0</td>\n",
       "      <td>17.0</td>\n",
       "      <td>5.0</td>\n",
       "      <td>9.0</td>\n",
       "      <td>12.0</td>\n",
       "      <td>25.0</td>\n",
       "    </tr>\n",
       "    <tr>\n",
       "      <th>C</th>\n",
       "      <td>26.0</td>\n",
       "      <td>24.0</td>\n",
       "      <td>14.0</td>\n",
       "      <td>10.0</td>\n",
       "      <td>12.0</td>\n",
       "      <td>33.0</td>\n",
       "      <td>36.0</td>\n",
       "      <td>0.0</td>\n",
       "      <td>5.0</td>\n",
       "      <td>24.0</td>\n",
       "      <td>1.0</td>\n",
       "      <td>25.0</td>\n",
       "      <td>4.0</td>\n",
       "      <td>24.0</td>\n",
       "      <td>43.0</td>\n",
       "      <td>8.0</td>\n",
       "      <td>2.0</td>\n",
       "      <td>19.0</td>\n",
       "      <td>16.0</td>\n",
       "      <td>89.0</td>\n",
       "    </tr>\n",
       "    <tr>\n",
       "      <th>H</th>\n",
       "      <td>1.0</td>\n",
       "      <td>4.0</td>\n",
       "      <td>1.0</td>\n",
       "      <td>3.0</td>\n",
       "      <td>1.0</td>\n",
       "      <td>12.0</td>\n",
       "      <td>7.0</td>\n",
       "      <td>6.0</td>\n",
       "      <td>1.0</td>\n",
       "      <td>2.0</td>\n",
       "      <td>0.0</td>\n",
       "      <td>2.0</td>\n",
       "      <td>4.0</td>\n",
       "      <td>5.0</td>\n",
       "      <td>7.0</td>\n",
       "      <td>68.0</td>\n",
       "      <td>1.0</td>\n",
       "      <td>5.0</td>\n",
       "      <td>0.0</td>\n",
       "      <td>2.0</td>\n",
       "    </tr>\n",
       "    <tr>\n",
       "      <th>N</th>\n",
       "      <td>15.0</td>\n",
       "      <td>5.0</td>\n",
       "      <td>4.0</td>\n",
       "      <td>4.0</td>\n",
       "      <td>43.0</td>\n",
       "      <td>4.0</td>\n",
       "      <td>6.0</td>\n",
       "      <td>0.0</td>\n",
       "      <td>6.0</td>\n",
       "      <td>8.0</td>\n",
       "      <td>2.0</td>\n",
       "      <td>2.0</td>\n",
       "      <td>0.0</td>\n",
       "      <td>6.0</td>\n",
       "      <td>7.0</td>\n",
       "      <td>18.0</td>\n",
       "      <td>2.0</td>\n",
       "      <td>4.0</td>\n",
       "      <td>5.0</td>\n",
       "      <td>10.0</td>\n",
       "    </tr>\n",
       "    <tr>\n",
       "      <th>T</th>\n",
       "      <td>8.0</td>\n",
       "      <td>30.0</td>\n",
       "      <td>6.0</td>\n",
       "      <td>9.0</td>\n",
       "      <td>1.0</td>\n",
       "      <td>13.0</td>\n",
       "      <td>34.0</td>\n",
       "      <td>5.0</td>\n",
       "      <td>4.0</td>\n",
       "      <td>8.0</td>\n",
       "      <td>2.0</td>\n",
       "      <td>9.0</td>\n",
       "      <td>6.0</td>\n",
       "      <td>14.0</td>\n",
       "      <td>7.0</td>\n",
       "      <td>11.0</td>\n",
       "      <td>8.0</td>\n",
       "      <td>13.0</td>\n",
       "      <td>32.0</td>\n",
       "      <td>9.0</td>\n",
       "    </tr>\n",
       "    <tr>\n",
       "      <th>W</th>\n",
       "      <td>0.0</td>\n",
       "      <td>5.0</td>\n",
       "      <td>1.0</td>\n",
       "      <td>5.0</td>\n",
       "      <td>3.0</td>\n",
       "      <td>4.0</td>\n",
       "      <td>3.0</td>\n",
       "      <td>1.0</td>\n",
       "      <td>2.0</td>\n",
       "      <td>5.0</td>\n",
       "      <td>2.0</td>\n",
       "      <td>3.0</td>\n",
       "      <td>2.0</td>\n",
       "      <td>19.0</td>\n",
       "      <td>4.0</td>\n",
       "      <td>9.0</td>\n",
       "      <td>2.0</td>\n",
       "      <td>3.0</td>\n",
       "      <td>2.0</td>\n",
       "      <td>1.0</td>\n",
       "    </tr>\n",
       "    <tr>\n",
       "      <th>Y</th>\n",
       "      <td>8.0</td>\n",
       "      <td>4.0</td>\n",
       "      <td>2.0</td>\n",
       "      <td>1.0</td>\n",
       "      <td>21.0</td>\n",
       "      <td>6.0</td>\n",
       "      <td>40.0</td>\n",
       "      <td>3.0</td>\n",
       "      <td>9.0</td>\n",
       "      <td>35.0</td>\n",
       "      <td>1.0</td>\n",
       "      <td>4.0</td>\n",
       "      <td>0.0</td>\n",
       "      <td>8.0</td>\n",
       "      <td>11.0</td>\n",
       "      <td>49.0</td>\n",
       "      <td>3.0</td>\n",
       "      <td>5.0</td>\n",
       "      <td>3.0</td>\n",
       "      <td>24.0</td>\n",
       "    </tr>\n",
       "    <tr>\n",
       "      <th>M</th>\n",
       "      <td>3.0</td>\n",
       "      <td>4.0</td>\n",
       "      <td>7.0</td>\n",
       "      <td>4.0</td>\n",
       "      <td>1.0</td>\n",
       "      <td>3.0</td>\n",
       "      <td>6.0</td>\n",
       "      <td>0.0</td>\n",
       "      <td>1.0</td>\n",
       "      <td>2.0</td>\n",
       "      <td>4.0</td>\n",
       "      <td>0.0</td>\n",
       "      <td>0.0</td>\n",
       "      <td>6.0</td>\n",
       "      <td>7.0</td>\n",
       "      <td>7.0</td>\n",
       "      <td>2.0</td>\n",
       "      <td>3.0</td>\n",
       "      <td>4.0</td>\n",
       "      <td>2.0</td>\n",
       "    </tr>\n",
       "    <tr>\n",
       "      <th>A</th>\n",
       "      <td>14.0</td>\n",
       "      <td>6.0</td>\n",
       "      <td>14.0</td>\n",
       "      <td>24.0</td>\n",
       "      <td>14.0</td>\n",
       "      <td>16.0</td>\n",
       "      <td>45.0</td>\n",
       "      <td>5.0</td>\n",
       "      <td>5.0</td>\n",
       "      <td>12.0</td>\n",
       "      <td>5.0</td>\n",
       "      <td>10.0</td>\n",
       "      <td>12.0</td>\n",
       "      <td>37.0</td>\n",
       "      <td>13.0</td>\n",
       "      <td>56.0</td>\n",
       "      <td>28.0</td>\n",
       "      <td>12.0</td>\n",
       "      <td>14.0</td>\n",
       "      <td>37.0</td>\n",
       "    </tr>\n",
       "    <tr>\n",
       "      <th>I</th>\n",
       "      <td>7.0</td>\n",
       "      <td>14.0</td>\n",
       "      <td>7.0</td>\n",
       "      <td>8.0</td>\n",
       "      <td>4.0</td>\n",
       "      <td>16.0</td>\n",
       "      <td>8.0</td>\n",
       "      <td>4.0</td>\n",
       "      <td>10.0</td>\n",
       "      <td>9.0</td>\n",
       "      <td>1.0</td>\n",
       "      <td>20.0</td>\n",
       "      <td>0.0</td>\n",
       "      <td>38.0</td>\n",
       "      <td>15.0</td>\n",
       "      <td>16.0</td>\n",
       "      <td>8.0</td>\n",
       "      <td>7.0</td>\n",
       "      <td>29.0</td>\n",
       "      <td>17.0</td>\n",
       "    </tr>\n",
       "    <tr>\n",
       "      <th>L</th>\n",
       "      <td>10.0</td>\n",
       "      <td>22.0</td>\n",
       "      <td>8.0</td>\n",
       "      <td>24.0</td>\n",
       "      <td>12.0</td>\n",
       "      <td>16.0</td>\n",
       "      <td>44.0</td>\n",
       "      <td>8.0</td>\n",
       "      <td>6.0</td>\n",
       "      <td>11.0</td>\n",
       "      <td>21.0</td>\n",
       "      <td>43.0</td>\n",
       "      <td>5.0</td>\n",
       "      <td>21.0</td>\n",
       "      <td>13.0</td>\n",
       "      <td>36.0</td>\n",
       "      <td>21.0</td>\n",
       "      <td>86.0</td>\n",
       "      <td>9.0</td>\n",
       "      <td>10.0</td>\n",
       "    </tr>\n",
       "    <tr>\n",
       "      <th>F</th>\n",
       "      <td>8.0</td>\n",
       "      <td>3.0</td>\n",
       "      <td>2.0</td>\n",
       "      <td>7.0</td>\n",
       "      <td>0.0</td>\n",
       "      <td>10.0</td>\n",
       "      <td>16.0</td>\n",
       "      <td>2.0</td>\n",
       "      <td>1.0</td>\n",
       "      <td>9.0</td>\n",
       "      <td>2.0</td>\n",
       "      <td>34.0</td>\n",
       "      <td>0.0</td>\n",
       "      <td>7.0</td>\n",
       "      <td>7.0</td>\n",
       "      <td>10.0</td>\n",
       "      <td>36.0</td>\n",
       "      <td>48.0</td>\n",
       "      <td>6.0</td>\n",
       "      <td>6.0</td>\n",
       "    </tr>\n",
       "    <tr>\n",
       "      <th>V</th>\n",
       "      <td>9.0</td>\n",
       "      <td>9.0</td>\n",
       "      <td>4.0</td>\n",
       "      <td>46.0</td>\n",
       "      <td>4.0</td>\n",
       "      <td>7.0</td>\n",
       "      <td>55.0</td>\n",
       "      <td>1.0</td>\n",
       "      <td>40.0</td>\n",
       "      <td>11.0</td>\n",
       "      <td>8.0</td>\n",
       "      <td>6.0</td>\n",
       "      <td>2.0</td>\n",
       "      <td>20.0</td>\n",
       "      <td>14.0</td>\n",
       "      <td>11.0</td>\n",
       "      <td>6.0</td>\n",
       "      <td>10.0</td>\n",
       "      <td>10.0</td>\n",
       "      <td>17.0</td>\n",
       "    </tr>\n",
       "    <tr>\n",
       "      <th>P</th>\n",
       "      <td>10.0</td>\n",
       "      <td>28.0</td>\n",
       "      <td>10.0</td>\n",
       "      <td>5.0</td>\n",
       "      <td>2.0</td>\n",
       "      <td>21.0</td>\n",
       "      <td>12.0</td>\n",
       "      <td>3.0</td>\n",
       "      <td>8.0</td>\n",
       "      <td>19.0</td>\n",
       "      <td>5.0</td>\n",
       "      <td>9.0</td>\n",
       "      <td>2.0</td>\n",
       "      <td>30.0</td>\n",
       "      <td>3.0</td>\n",
       "      <td>12.0</td>\n",
       "      <td>4.0</td>\n",
       "      <td>16.0</td>\n",
       "      <td>48.0</td>\n",
       "      <td>38.0</td>\n",
       "    </tr>\n",
       "    <tr>\n",
       "      <th>G</th>\n",
       "      <td>30.0</td>\n",
       "      <td>19.0</td>\n",
       "      <td>7.0</td>\n",
       "      <td>72.0</td>\n",
       "      <td>4.0</td>\n",
       "      <td>56.0</td>\n",
       "      <td>19.0</td>\n",
       "      <td>2.0</td>\n",
       "      <td>11.0</td>\n",
       "      <td>29.0</td>\n",
       "      <td>6.0</td>\n",
       "      <td>10.0</td>\n",
       "      <td>6.0</td>\n",
       "      <td>13.0</td>\n",
       "      <td>18.0</td>\n",
       "      <td>21.0</td>\n",
       "      <td>36.0</td>\n",
       "      <td>11.0</td>\n",
       "      <td>43.0</td>\n",
       "      <td>18.0</td>\n",
       "    </tr>\n",
       "  </tbody>\n",
       "</table>\n",
       "</div>"
      ],
      "text/plain": [
       "      R     K     D     E     Q     S     C     H     N     T     W     Y  \\\n",
       "R  32.0  14.0   6.0  10.0   9.0   6.0  12.0   5.0   7.0   9.0   3.0  17.0   \n",
       "K  17.0  27.0   7.0  21.0  10.0  20.0  17.0  10.0  12.0  49.0   3.0   6.0   \n",
       "D   4.0   9.0  15.0   6.0   4.0  16.0  12.0   4.0   5.0   5.0   2.0   5.0   \n",
       "E  71.0  29.0  16.0  16.0   5.0  11.0   7.0   3.0   8.0   7.0   2.0   8.0   \n",
       "Q   9.0  11.0   4.0   8.0   6.0   3.0  12.0  35.0   4.0   4.0   1.0  12.0   \n",
       "S  10.0  27.0  20.0  10.0   9.0  21.0  35.0  34.0  11.0   8.0   7.0  12.0   \n",
       "C  26.0  24.0  14.0  10.0  12.0  33.0  36.0   0.0   5.0  24.0   1.0  25.0   \n",
       "H   1.0   4.0   1.0   3.0   1.0  12.0   7.0   6.0   1.0   2.0   0.0   2.0   \n",
       "N  15.0   5.0   4.0   4.0  43.0   4.0   6.0   0.0   6.0   8.0   2.0   2.0   \n",
       "T   8.0  30.0   6.0   9.0   1.0  13.0  34.0   5.0   4.0   8.0   2.0   9.0   \n",
       "W   0.0   5.0   1.0   5.0   3.0   4.0   3.0   1.0   2.0   5.0   2.0   3.0   \n",
       "Y   8.0   4.0   2.0   1.0  21.0   6.0  40.0   3.0   9.0  35.0   1.0   4.0   \n",
       "M   3.0   4.0   7.0   4.0   1.0   3.0   6.0   0.0   1.0   2.0   4.0   0.0   \n",
       "A  14.0   6.0  14.0  24.0  14.0  16.0  45.0   5.0   5.0  12.0   5.0  10.0   \n",
       "I   7.0  14.0   7.0   8.0   4.0  16.0   8.0   4.0  10.0   9.0   1.0  20.0   \n",
       "L  10.0  22.0   8.0  24.0  12.0  16.0  44.0   8.0   6.0  11.0  21.0  43.0   \n",
       "F   8.0   3.0   2.0   7.0   0.0  10.0  16.0   2.0   1.0   9.0   2.0  34.0   \n",
       "V   9.0   9.0   4.0  46.0   4.0   7.0  55.0   1.0  40.0  11.0   8.0   6.0   \n",
       "P  10.0  28.0  10.0   5.0   2.0  21.0  12.0   3.0   8.0  19.0   5.0   9.0   \n",
       "G  30.0  19.0   7.0  72.0   4.0  56.0  19.0   2.0  11.0  29.0   6.0  10.0   \n",
       "\n",
       "      M     A     I     L     F     V     P     G  \n",
       "R   2.0  18.0  24.0  29.0   5.0   4.0  15.0  52.0  \n",
       "K   1.0  18.0   9.0  13.0   2.0  11.0  23.0  12.0  \n",
       "D   1.0   7.0   7.0  17.0   3.0   9.0  12.0  13.0  \n",
       "E   1.0  52.0  14.0  15.0   4.0   9.0   4.0  13.0  \n",
       "Q   0.0  12.0  10.0   8.0   1.0   3.0   3.0  18.0  \n",
       "S   3.0  12.0   8.0  17.0   5.0   9.0  12.0  25.0  \n",
       "C   4.0  24.0  43.0   8.0   2.0  19.0  16.0  89.0  \n",
       "H   4.0   5.0   7.0  68.0   1.0   5.0   0.0   2.0  \n",
       "N   0.0   6.0   7.0  18.0   2.0   4.0   5.0  10.0  \n",
       "T   6.0  14.0   7.0  11.0   8.0  13.0  32.0   9.0  \n",
       "W   2.0  19.0   4.0   9.0   2.0   3.0   2.0   1.0  \n",
       "Y   0.0   8.0  11.0  49.0   3.0   5.0   3.0  24.0  \n",
       "M   0.0   6.0   7.0   7.0   2.0   3.0   4.0   2.0  \n",
       "A  12.0  37.0  13.0  56.0  28.0  12.0  14.0  37.0  \n",
       "I   0.0  38.0  15.0  16.0   8.0   7.0  29.0  17.0  \n",
       "L   5.0  21.0  13.0  36.0  21.0  86.0   9.0  10.0  \n",
       "F   0.0   7.0   7.0  10.0  36.0  48.0   6.0   6.0  \n",
       "V   2.0  20.0  14.0  11.0   6.0  10.0  10.0  17.0  \n",
       "P   2.0  30.0   3.0  12.0   4.0  16.0  48.0  38.0  \n",
       "G   6.0  13.0  18.0  21.0  36.0  11.0  43.0  18.0  "
      ]
     },
     "execution_count": 13,
     "metadata": {},
     "output_type": "execute_result"
    }
   ],
   "source": [
    "columns = alfabeto\n",
    "rows = alfabeto\n",
    "MT = pd.DataFrame(0.0,columns=columns,index=rows) # inicializamos como float\n",
    "for nseq in range(df.shape[0]):\n",
    "    secuencia = df.loc[nseq,'seq']\n",
    "    for naa in range(len(secuencia)-1): # recorremos hasta el penultimo\n",
    "        pos1 = secuencia[naa]\n",
    "        pos2 = secuencia[naa+1]\n",
    "        MT.loc[pos1,pos2]+=1\n",
    "MT"
   ]
  },
  {
   "cell_type": "markdown",
   "metadata": {},
   "source": [
    "## Ejercicio 3. Matriz de transiciones\n",
    "\n",
    "Normaliza la matriz calculada en el ejercicio anterior para que sea ``estocástica`` por filas."
   ]
  },
  {
   "cell_type": "code",
   "execution_count": 14,
   "metadata": {
    "editable": true,
    "slideshow": {
     "slide_type": ""
    },
    "tags": [
     "hide-cell"
    ]
   },
   "outputs": [
    {
     "name": "stdout",
     "output_type": "stream",
     "text": [
      "Index(['R', 'K', 'D', 'E', 'Q', 'S', 'C', 'H', 'N', 'T', 'W', 'Y', 'M', 'A',\n",
      "       'I', 'L', 'F', 'V', 'P', 'G'],\n",
      "      dtype='object')\n",
      "0.9999999999999999 1.1046864587116754\n"
     ]
    },
    {
     "data": {
      "text/html": [
       "<div>\n",
       "<style scoped>\n",
       "    .dataframe tbody tr th:only-of-type {\n",
       "        vertical-align: middle;\n",
       "    }\n",
       "\n",
       "    .dataframe tbody tr th {\n",
       "        vertical-align: top;\n",
       "    }\n",
       "\n",
       "    .dataframe thead th {\n",
       "        text-align: right;\n",
       "    }\n",
       "</style>\n",
       "<table border=\"1\" class=\"dataframe\">\n",
       "  <thead>\n",
       "    <tr style=\"text-align: right;\">\n",
       "      <th></th>\n",
       "      <th>R</th>\n",
       "      <th>K</th>\n",
       "      <th>D</th>\n",
       "      <th>E</th>\n",
       "      <th>Q</th>\n",
       "      <th>S</th>\n",
       "      <th>C</th>\n",
       "      <th>H</th>\n",
       "      <th>N</th>\n",
       "      <th>T</th>\n",
       "      <th>W</th>\n",
       "      <th>Y</th>\n",
       "      <th>M</th>\n",
       "      <th>A</th>\n",
       "      <th>I</th>\n",
       "      <th>L</th>\n",
       "      <th>F</th>\n",
       "      <th>V</th>\n",
       "      <th>P</th>\n",
       "      <th>G</th>\n",
       "    </tr>\n",
       "  </thead>\n",
       "  <tbody>\n",
       "    <tr>\n",
       "      <th>R</th>\n",
       "      <td>0.114695</td>\n",
       "      <td>0.050179</td>\n",
       "      <td>0.021505</td>\n",
       "      <td>0.035842</td>\n",
       "      <td>0.032258</td>\n",
       "      <td>0.021505</td>\n",
       "      <td>0.043011</td>\n",
       "      <td>0.017921</td>\n",
       "      <td>0.025090</td>\n",
       "      <td>0.032258</td>\n",
       "      <td>0.010753</td>\n",
       "      <td>0.060932</td>\n",
       "      <td>0.007168</td>\n",
       "      <td>0.064516</td>\n",
       "      <td>0.086022</td>\n",
       "      <td>0.103943</td>\n",
       "      <td>0.017921</td>\n",
       "      <td>0.014337</td>\n",
       "      <td>0.053763</td>\n",
       "      <td>0.186380</td>\n",
       "    </tr>\n",
       "    <tr>\n",
       "      <th>K</th>\n",
       "      <td>0.059028</td>\n",
       "      <td>0.093750</td>\n",
       "      <td>0.024306</td>\n",
       "      <td>0.072917</td>\n",
       "      <td>0.034722</td>\n",
       "      <td>0.069444</td>\n",
       "      <td>0.059028</td>\n",
       "      <td>0.034722</td>\n",
       "      <td>0.041667</td>\n",
       "      <td>0.170139</td>\n",
       "      <td>0.010417</td>\n",
       "      <td>0.020833</td>\n",
       "      <td>0.003472</td>\n",
       "      <td>0.062500</td>\n",
       "      <td>0.031250</td>\n",
       "      <td>0.045139</td>\n",
       "      <td>0.006944</td>\n",
       "      <td>0.038194</td>\n",
       "      <td>0.079861</td>\n",
       "      <td>0.041667</td>\n",
       "    </tr>\n",
       "    <tr>\n",
       "      <th>D</th>\n",
       "      <td>0.025641</td>\n",
       "      <td>0.057692</td>\n",
       "      <td>0.096154</td>\n",
       "      <td>0.038462</td>\n",
       "      <td>0.025641</td>\n",
       "      <td>0.102564</td>\n",
       "      <td>0.076923</td>\n",
       "      <td>0.025641</td>\n",
       "      <td>0.032051</td>\n",
       "      <td>0.032051</td>\n",
       "      <td>0.012821</td>\n",
       "      <td>0.032051</td>\n",
       "      <td>0.006410</td>\n",
       "      <td>0.044872</td>\n",
       "      <td>0.044872</td>\n",
       "      <td>0.108974</td>\n",
       "      <td>0.019231</td>\n",
       "      <td>0.057692</td>\n",
       "      <td>0.076923</td>\n",
       "      <td>0.083333</td>\n",
       "    </tr>\n",
       "    <tr>\n",
       "      <th>E</th>\n",
       "      <td>0.240678</td>\n",
       "      <td>0.098305</td>\n",
       "      <td>0.054237</td>\n",
       "      <td>0.054237</td>\n",
       "      <td>0.016949</td>\n",
       "      <td>0.037288</td>\n",
       "      <td>0.023729</td>\n",
       "      <td>0.010169</td>\n",
       "      <td>0.027119</td>\n",
       "      <td>0.023729</td>\n",
       "      <td>0.006780</td>\n",
       "      <td>0.027119</td>\n",
       "      <td>0.003390</td>\n",
       "      <td>0.176271</td>\n",
       "      <td>0.047458</td>\n",
       "      <td>0.050847</td>\n",
       "      <td>0.013559</td>\n",
       "      <td>0.030508</td>\n",
       "      <td>0.013559</td>\n",
       "      <td>0.044068</td>\n",
       "    </tr>\n",
       "    <tr>\n",
       "      <th>Q</th>\n",
       "      <td>0.054878</td>\n",
       "      <td>0.067073</td>\n",
       "      <td>0.024390</td>\n",
       "      <td>0.048780</td>\n",
       "      <td>0.036585</td>\n",
       "      <td>0.018293</td>\n",
       "      <td>0.073171</td>\n",
       "      <td>0.213415</td>\n",
       "      <td>0.024390</td>\n",
       "      <td>0.024390</td>\n",
       "      <td>0.006098</td>\n",
       "      <td>0.073171</td>\n",
       "      <td>0.000000</td>\n",
       "      <td>0.073171</td>\n",
       "      <td>0.060976</td>\n",
       "      <td>0.048780</td>\n",
       "      <td>0.006098</td>\n",
       "      <td>0.018293</td>\n",
       "      <td>0.018293</td>\n",
       "      <td>0.109756</td>\n",
       "    </tr>\n",
       "    <tr>\n",
       "      <th>S</th>\n",
       "      <td>0.033898</td>\n",
       "      <td>0.091525</td>\n",
       "      <td>0.067797</td>\n",
       "      <td>0.033898</td>\n",
       "      <td>0.030508</td>\n",
       "      <td>0.071186</td>\n",
       "      <td>0.118644</td>\n",
       "      <td>0.115254</td>\n",
       "      <td>0.037288</td>\n",
       "      <td>0.027119</td>\n",
       "      <td>0.023729</td>\n",
       "      <td>0.040678</td>\n",
       "      <td>0.010169</td>\n",
       "      <td>0.040678</td>\n",
       "      <td>0.027119</td>\n",
       "      <td>0.057627</td>\n",
       "      <td>0.016949</td>\n",
       "      <td>0.030508</td>\n",
       "      <td>0.040678</td>\n",
       "      <td>0.084746</td>\n",
       "    </tr>\n",
       "    <tr>\n",
       "      <th>C</th>\n",
       "      <td>0.062651</td>\n",
       "      <td>0.057831</td>\n",
       "      <td>0.033735</td>\n",
       "      <td>0.024096</td>\n",
       "      <td>0.028916</td>\n",
       "      <td>0.079518</td>\n",
       "      <td>0.086747</td>\n",
       "      <td>0.000000</td>\n",
       "      <td>0.012048</td>\n",
       "      <td>0.057831</td>\n",
       "      <td>0.002410</td>\n",
       "      <td>0.060241</td>\n",
       "      <td>0.009639</td>\n",
       "      <td>0.057831</td>\n",
       "      <td>0.103614</td>\n",
       "      <td>0.019277</td>\n",
       "      <td>0.004819</td>\n",
       "      <td>0.045783</td>\n",
       "      <td>0.038554</td>\n",
       "      <td>0.214458</td>\n",
       "    </tr>\n",
       "    <tr>\n",
       "      <th>H</th>\n",
       "      <td>0.007576</td>\n",
       "      <td>0.030303</td>\n",
       "      <td>0.007576</td>\n",
       "      <td>0.022727</td>\n",
       "      <td>0.007576</td>\n",
       "      <td>0.090909</td>\n",
       "      <td>0.053030</td>\n",
       "      <td>0.045455</td>\n",
       "      <td>0.007576</td>\n",
       "      <td>0.015152</td>\n",
       "      <td>0.000000</td>\n",
       "      <td>0.015152</td>\n",
       "      <td>0.030303</td>\n",
       "      <td>0.037879</td>\n",
       "      <td>0.053030</td>\n",
       "      <td>0.515152</td>\n",
       "      <td>0.007576</td>\n",
       "      <td>0.037879</td>\n",
       "      <td>0.000000</td>\n",
       "      <td>0.015152</td>\n",
       "    </tr>\n",
       "    <tr>\n",
       "      <th>N</th>\n",
       "      <td>0.099338</td>\n",
       "      <td>0.033113</td>\n",
       "      <td>0.026490</td>\n",
       "      <td>0.026490</td>\n",
       "      <td>0.284768</td>\n",
       "      <td>0.026490</td>\n",
       "      <td>0.039735</td>\n",
       "      <td>0.000000</td>\n",
       "      <td>0.039735</td>\n",
       "      <td>0.052980</td>\n",
       "      <td>0.013245</td>\n",
       "      <td>0.013245</td>\n",
       "      <td>0.000000</td>\n",
       "      <td>0.039735</td>\n",
       "      <td>0.046358</td>\n",
       "      <td>0.119205</td>\n",
       "      <td>0.013245</td>\n",
       "      <td>0.026490</td>\n",
       "      <td>0.033113</td>\n",
       "      <td>0.066225</td>\n",
       "    </tr>\n",
       "    <tr>\n",
       "      <th>T</th>\n",
       "      <td>0.034934</td>\n",
       "      <td>0.131004</td>\n",
       "      <td>0.026201</td>\n",
       "      <td>0.039301</td>\n",
       "      <td>0.004367</td>\n",
       "      <td>0.056769</td>\n",
       "      <td>0.148472</td>\n",
       "      <td>0.021834</td>\n",
       "      <td>0.017467</td>\n",
       "      <td>0.034934</td>\n",
       "      <td>0.008734</td>\n",
       "      <td>0.039301</td>\n",
       "      <td>0.026201</td>\n",
       "      <td>0.061135</td>\n",
       "      <td>0.030568</td>\n",
       "      <td>0.048035</td>\n",
       "      <td>0.034934</td>\n",
       "      <td>0.056769</td>\n",
       "      <td>0.139738</td>\n",
       "      <td>0.039301</td>\n",
       "    </tr>\n",
       "    <tr>\n",
       "      <th>W</th>\n",
       "      <td>0.000000</td>\n",
       "      <td>0.065789</td>\n",
       "      <td>0.013158</td>\n",
       "      <td>0.065789</td>\n",
       "      <td>0.039474</td>\n",
       "      <td>0.052632</td>\n",
       "      <td>0.039474</td>\n",
       "      <td>0.013158</td>\n",
       "      <td>0.026316</td>\n",
       "      <td>0.065789</td>\n",
       "      <td>0.026316</td>\n",
       "      <td>0.039474</td>\n",
       "      <td>0.026316</td>\n",
       "      <td>0.250000</td>\n",
       "      <td>0.052632</td>\n",
       "      <td>0.118421</td>\n",
       "      <td>0.026316</td>\n",
       "      <td>0.039474</td>\n",
       "      <td>0.026316</td>\n",
       "      <td>0.013158</td>\n",
       "    </tr>\n",
       "    <tr>\n",
       "      <th>Y</th>\n",
       "      <td>0.033755</td>\n",
       "      <td>0.016878</td>\n",
       "      <td>0.008439</td>\n",
       "      <td>0.004219</td>\n",
       "      <td>0.088608</td>\n",
       "      <td>0.025316</td>\n",
       "      <td>0.168776</td>\n",
       "      <td>0.012658</td>\n",
       "      <td>0.037975</td>\n",
       "      <td>0.147679</td>\n",
       "      <td>0.004219</td>\n",
       "      <td>0.016878</td>\n",
       "      <td>0.000000</td>\n",
       "      <td>0.033755</td>\n",
       "      <td>0.046414</td>\n",
       "      <td>0.206751</td>\n",
       "      <td>0.012658</td>\n",
       "      <td>0.021097</td>\n",
       "      <td>0.012658</td>\n",
       "      <td>0.101266</td>\n",
       "    </tr>\n",
       "    <tr>\n",
       "      <th>M</th>\n",
       "      <td>0.045455</td>\n",
       "      <td>0.060606</td>\n",
       "      <td>0.106061</td>\n",
       "      <td>0.060606</td>\n",
       "      <td>0.015152</td>\n",
       "      <td>0.045455</td>\n",
       "      <td>0.090909</td>\n",
       "      <td>0.000000</td>\n",
       "      <td>0.015152</td>\n",
       "      <td>0.030303</td>\n",
       "      <td>0.060606</td>\n",
       "      <td>0.000000</td>\n",
       "      <td>0.000000</td>\n",
       "      <td>0.090909</td>\n",
       "      <td>0.106061</td>\n",
       "      <td>0.106061</td>\n",
       "      <td>0.030303</td>\n",
       "      <td>0.045455</td>\n",
       "      <td>0.060606</td>\n",
       "      <td>0.030303</td>\n",
       "    </tr>\n",
       "    <tr>\n",
       "      <th>A</th>\n",
       "      <td>0.036939</td>\n",
       "      <td>0.015831</td>\n",
       "      <td>0.036939</td>\n",
       "      <td>0.063325</td>\n",
       "      <td>0.036939</td>\n",
       "      <td>0.042216</td>\n",
       "      <td>0.118734</td>\n",
       "      <td>0.013193</td>\n",
       "      <td>0.013193</td>\n",
       "      <td>0.031662</td>\n",
       "      <td>0.013193</td>\n",
       "      <td>0.026385</td>\n",
       "      <td>0.031662</td>\n",
       "      <td>0.097625</td>\n",
       "      <td>0.034301</td>\n",
       "      <td>0.147757</td>\n",
       "      <td>0.073879</td>\n",
       "      <td>0.031662</td>\n",
       "      <td>0.036939</td>\n",
       "      <td>0.097625</td>\n",
       "    </tr>\n",
       "    <tr>\n",
       "      <th>I</th>\n",
       "      <td>0.029412</td>\n",
       "      <td>0.058824</td>\n",
       "      <td>0.029412</td>\n",
       "      <td>0.033613</td>\n",
       "      <td>0.016807</td>\n",
       "      <td>0.067227</td>\n",
       "      <td>0.033613</td>\n",
       "      <td>0.016807</td>\n",
       "      <td>0.042017</td>\n",
       "      <td>0.037815</td>\n",
       "      <td>0.004202</td>\n",
       "      <td>0.084034</td>\n",
       "      <td>0.000000</td>\n",
       "      <td>0.159664</td>\n",
       "      <td>0.063025</td>\n",
       "      <td>0.067227</td>\n",
       "      <td>0.033613</td>\n",
       "      <td>0.029412</td>\n",
       "      <td>0.121849</td>\n",
       "      <td>0.071429</td>\n",
       "    </tr>\n",
       "    <tr>\n",
       "      <th>L</th>\n",
       "      <td>0.023474</td>\n",
       "      <td>0.051643</td>\n",
       "      <td>0.018779</td>\n",
       "      <td>0.056338</td>\n",
       "      <td>0.028169</td>\n",
       "      <td>0.037559</td>\n",
       "      <td>0.103286</td>\n",
       "      <td>0.018779</td>\n",
       "      <td>0.014085</td>\n",
       "      <td>0.025822</td>\n",
       "      <td>0.049296</td>\n",
       "      <td>0.100939</td>\n",
       "      <td>0.011737</td>\n",
       "      <td>0.049296</td>\n",
       "      <td>0.030516</td>\n",
       "      <td>0.084507</td>\n",
       "      <td>0.049296</td>\n",
       "      <td>0.201878</td>\n",
       "      <td>0.021127</td>\n",
       "      <td>0.023474</td>\n",
       "    </tr>\n",
       "    <tr>\n",
       "      <th>F</th>\n",
       "      <td>0.037383</td>\n",
       "      <td>0.014019</td>\n",
       "      <td>0.009346</td>\n",
       "      <td>0.032710</td>\n",
       "      <td>0.000000</td>\n",
       "      <td>0.046729</td>\n",
       "      <td>0.074766</td>\n",
       "      <td>0.009346</td>\n",
       "      <td>0.004673</td>\n",
       "      <td>0.042056</td>\n",
       "      <td>0.009346</td>\n",
       "      <td>0.158879</td>\n",
       "      <td>0.000000</td>\n",
       "      <td>0.032710</td>\n",
       "      <td>0.032710</td>\n",
       "      <td>0.046729</td>\n",
       "      <td>0.168224</td>\n",
       "      <td>0.224299</td>\n",
       "      <td>0.028037</td>\n",
       "      <td>0.028037</td>\n",
       "    </tr>\n",
       "    <tr>\n",
       "      <th>V</th>\n",
       "      <td>0.031034</td>\n",
       "      <td>0.031034</td>\n",
       "      <td>0.013793</td>\n",
       "      <td>0.158621</td>\n",
       "      <td>0.013793</td>\n",
       "      <td>0.024138</td>\n",
       "      <td>0.189655</td>\n",
       "      <td>0.003448</td>\n",
       "      <td>0.137931</td>\n",
       "      <td>0.037931</td>\n",
       "      <td>0.027586</td>\n",
       "      <td>0.020690</td>\n",
       "      <td>0.006897</td>\n",
       "      <td>0.068966</td>\n",
       "      <td>0.048276</td>\n",
       "      <td>0.037931</td>\n",
       "      <td>0.020690</td>\n",
       "      <td>0.034483</td>\n",
       "      <td>0.034483</td>\n",
       "      <td>0.058621</td>\n",
       "    </tr>\n",
       "    <tr>\n",
       "      <th>P</th>\n",
       "      <td>0.035088</td>\n",
       "      <td>0.098246</td>\n",
       "      <td>0.035088</td>\n",
       "      <td>0.017544</td>\n",
       "      <td>0.007018</td>\n",
       "      <td>0.073684</td>\n",
       "      <td>0.042105</td>\n",
       "      <td>0.010526</td>\n",
       "      <td>0.028070</td>\n",
       "      <td>0.066667</td>\n",
       "      <td>0.017544</td>\n",
       "      <td>0.031579</td>\n",
       "      <td>0.007018</td>\n",
       "      <td>0.105263</td>\n",
       "      <td>0.010526</td>\n",
       "      <td>0.042105</td>\n",
       "      <td>0.014035</td>\n",
       "      <td>0.056140</td>\n",
       "      <td>0.168421</td>\n",
       "      <td>0.133333</td>\n",
       "    </tr>\n",
       "    <tr>\n",
       "      <th>G</th>\n",
       "      <td>0.069606</td>\n",
       "      <td>0.044084</td>\n",
       "      <td>0.016241</td>\n",
       "      <td>0.167053</td>\n",
       "      <td>0.009281</td>\n",
       "      <td>0.129930</td>\n",
       "      <td>0.044084</td>\n",
       "      <td>0.004640</td>\n",
       "      <td>0.025522</td>\n",
       "      <td>0.067285</td>\n",
       "      <td>0.013921</td>\n",
       "      <td>0.023202</td>\n",
       "      <td>0.013921</td>\n",
       "      <td>0.030162</td>\n",
       "      <td>0.041763</td>\n",
       "      <td>0.048724</td>\n",
       "      <td>0.083527</td>\n",
       "      <td>0.025522</td>\n",
       "      <td>0.099768</td>\n",
       "      <td>0.041763</td>\n",
       "    </tr>\n",
       "  </tbody>\n",
       "</table>\n",
       "</div>"
      ],
      "text/plain": [
       "          R         K         D         E         Q         S         C  \\\n",
       "R  0.114695  0.050179  0.021505  0.035842  0.032258  0.021505  0.043011   \n",
       "K  0.059028  0.093750  0.024306  0.072917  0.034722  0.069444  0.059028   \n",
       "D  0.025641  0.057692  0.096154  0.038462  0.025641  0.102564  0.076923   \n",
       "E  0.240678  0.098305  0.054237  0.054237  0.016949  0.037288  0.023729   \n",
       "Q  0.054878  0.067073  0.024390  0.048780  0.036585  0.018293  0.073171   \n",
       "S  0.033898  0.091525  0.067797  0.033898  0.030508  0.071186  0.118644   \n",
       "C  0.062651  0.057831  0.033735  0.024096  0.028916  0.079518  0.086747   \n",
       "H  0.007576  0.030303  0.007576  0.022727  0.007576  0.090909  0.053030   \n",
       "N  0.099338  0.033113  0.026490  0.026490  0.284768  0.026490  0.039735   \n",
       "T  0.034934  0.131004  0.026201  0.039301  0.004367  0.056769  0.148472   \n",
       "W  0.000000  0.065789  0.013158  0.065789  0.039474  0.052632  0.039474   \n",
       "Y  0.033755  0.016878  0.008439  0.004219  0.088608  0.025316  0.168776   \n",
       "M  0.045455  0.060606  0.106061  0.060606  0.015152  0.045455  0.090909   \n",
       "A  0.036939  0.015831  0.036939  0.063325  0.036939  0.042216  0.118734   \n",
       "I  0.029412  0.058824  0.029412  0.033613  0.016807  0.067227  0.033613   \n",
       "L  0.023474  0.051643  0.018779  0.056338  0.028169  0.037559  0.103286   \n",
       "F  0.037383  0.014019  0.009346  0.032710  0.000000  0.046729  0.074766   \n",
       "V  0.031034  0.031034  0.013793  0.158621  0.013793  0.024138  0.189655   \n",
       "P  0.035088  0.098246  0.035088  0.017544  0.007018  0.073684  0.042105   \n",
       "G  0.069606  0.044084  0.016241  0.167053  0.009281  0.129930  0.044084   \n",
       "\n",
       "          H         N         T         W         Y         M         A  \\\n",
       "R  0.017921  0.025090  0.032258  0.010753  0.060932  0.007168  0.064516   \n",
       "K  0.034722  0.041667  0.170139  0.010417  0.020833  0.003472  0.062500   \n",
       "D  0.025641  0.032051  0.032051  0.012821  0.032051  0.006410  0.044872   \n",
       "E  0.010169  0.027119  0.023729  0.006780  0.027119  0.003390  0.176271   \n",
       "Q  0.213415  0.024390  0.024390  0.006098  0.073171  0.000000  0.073171   \n",
       "S  0.115254  0.037288  0.027119  0.023729  0.040678  0.010169  0.040678   \n",
       "C  0.000000  0.012048  0.057831  0.002410  0.060241  0.009639  0.057831   \n",
       "H  0.045455  0.007576  0.015152  0.000000  0.015152  0.030303  0.037879   \n",
       "N  0.000000  0.039735  0.052980  0.013245  0.013245  0.000000  0.039735   \n",
       "T  0.021834  0.017467  0.034934  0.008734  0.039301  0.026201  0.061135   \n",
       "W  0.013158  0.026316  0.065789  0.026316  0.039474  0.026316  0.250000   \n",
       "Y  0.012658  0.037975  0.147679  0.004219  0.016878  0.000000  0.033755   \n",
       "M  0.000000  0.015152  0.030303  0.060606  0.000000  0.000000  0.090909   \n",
       "A  0.013193  0.013193  0.031662  0.013193  0.026385  0.031662  0.097625   \n",
       "I  0.016807  0.042017  0.037815  0.004202  0.084034  0.000000  0.159664   \n",
       "L  0.018779  0.014085  0.025822  0.049296  0.100939  0.011737  0.049296   \n",
       "F  0.009346  0.004673  0.042056  0.009346  0.158879  0.000000  0.032710   \n",
       "V  0.003448  0.137931  0.037931  0.027586  0.020690  0.006897  0.068966   \n",
       "P  0.010526  0.028070  0.066667  0.017544  0.031579  0.007018  0.105263   \n",
       "G  0.004640  0.025522  0.067285  0.013921  0.023202  0.013921  0.030162   \n",
       "\n",
       "          I         L         F         V         P         G  \n",
       "R  0.086022  0.103943  0.017921  0.014337  0.053763  0.186380  \n",
       "K  0.031250  0.045139  0.006944  0.038194  0.079861  0.041667  \n",
       "D  0.044872  0.108974  0.019231  0.057692  0.076923  0.083333  \n",
       "E  0.047458  0.050847  0.013559  0.030508  0.013559  0.044068  \n",
       "Q  0.060976  0.048780  0.006098  0.018293  0.018293  0.109756  \n",
       "S  0.027119  0.057627  0.016949  0.030508  0.040678  0.084746  \n",
       "C  0.103614  0.019277  0.004819  0.045783  0.038554  0.214458  \n",
       "H  0.053030  0.515152  0.007576  0.037879  0.000000  0.015152  \n",
       "N  0.046358  0.119205  0.013245  0.026490  0.033113  0.066225  \n",
       "T  0.030568  0.048035  0.034934  0.056769  0.139738  0.039301  \n",
       "W  0.052632  0.118421  0.026316  0.039474  0.026316  0.013158  \n",
       "Y  0.046414  0.206751  0.012658  0.021097  0.012658  0.101266  \n",
       "M  0.106061  0.106061  0.030303  0.045455  0.060606  0.030303  \n",
       "A  0.034301  0.147757  0.073879  0.031662  0.036939  0.097625  \n",
       "I  0.063025  0.067227  0.033613  0.029412  0.121849  0.071429  \n",
       "L  0.030516  0.084507  0.049296  0.201878  0.021127  0.023474  \n",
       "F  0.032710  0.046729  0.168224  0.224299  0.028037  0.028037  \n",
       "V  0.048276  0.037931  0.020690  0.034483  0.034483  0.058621  \n",
       "P  0.010526  0.042105  0.014035  0.056140  0.168421  0.133333  \n",
       "G  0.041763  0.048724  0.083527  0.025522  0.099768  0.041763  "
      ]
     },
     "execution_count": 14,
     "metadata": {},
     "output_type": "execute_result"
    }
   ],
   "source": [
    "print(MT.index)\n",
    "\n",
    "for row in MT.index:\n",
    "    fila = MT.loc[row,:]\n",
    "    filaSum = fila.sum()\n",
    "    MT.loc[row,:] = MT.loc[row,:]/filaSum\n",
    "\n",
    "print(MT.loc['P',:].sum(),MT.loc[:,'P'].sum())\n",
    "\n",
    "MT"
   ]
  },
  {
   "cell_type": "markdown",
   "metadata": {},
   "source": [
    "### Extra: mapa de calor de la matriz\n",
    "\n",
    "Realizar un _mapa de calor_ de la matriz de transiciones con el paquete ``seaborn``"
   ]
  },
  {
   "cell_type": "code",
   "execution_count": 15,
   "metadata": {
    "tags": [
     "hide-cell"
    ]
   },
   "outputs": [
    {
     "data": {
      "text/plain": [
       "<AxesSubplot:>"
      ]
     },
     "execution_count": 15,
     "metadata": {},
     "output_type": "execute_result"
    },
    {
     "data": {
      "image/png": "[encoded data removed]",
      "text/plain": [
       "<Figure size 432x288 with 2 Axes>"
      ]
     },
     "metadata": {
      "needs_background": "light"
     },
     "output_type": "display_data"
    }
   ],
   "source": [
    "import seaborn as sns\n",
    "sns.heatmap(MT)"
   ]
  },
  {
   "cell_type": "markdown",
   "metadata": {},
   "source": [
    "### Extra: es una matriz regular?\n",
    "\n",
    "Comprobar que la matriz de transiciones es una matriz __regular__."
   ]
  },
  {
   "cell_type": "code",
   "execution_count": 16,
   "metadata": {
    "tags": [
     "hide-cell"
    ]
   },
   "outputs": [
    {
     "data": {
      "text/plain": [
       "(14, 0)"
      ]
     },
     "execution_count": 16,
     "metadata": {},
     "output_type": "execute_result"
    }
   ],
   "source": [
    "MTdata = MT.to_numpy()\n",
    "MTdataTranspose= MTdata.transpose()\n",
    "\n",
    "numzeros0 = MTdataTranspose.shape[0]*MTdataTranspose.shape[1]-np.count_nonzero(MTdataTranspose)\n",
    "matrix = np.matmul(MTdataTranspose,MTdataTranspose)\n",
    "numzeros1 =MTdataTranspose.shape[0]*MTdataTranspose.shape[1]-np.count_nonzero(matrix)\n",
    "numzeros0,numzeros1"
   ]
  },
  {
   "cell_type": "markdown",
   "metadata": {},
   "source": [
    "## Ejemplo 4. Distribución de Equilibrio\n",
    "\n",
    "Supón que hemos llamado `MT` a la matriz de transiciones hallada en el ejercicio anterior. \n",
    "\n",
    "Utilizando la función __eig__ del módulo __linalg__ de __numpy__, que calcula autovalores y autovectores de una matriz cuadrada, obten las probabilidades de equilibrio asociadas a cada aminoácido según el modelo. La función eig devuelve una lista de dos\n",
    "elementos:\n",
    "\n",
    "- __eigenValues__ contiene los autovectores, \n",
    "\n",
    "- __eigenVectors__ es una matriz cuyas columnas son los autovectores asociados a cada autovalor (siguiendo el orden dado en values).\n"
   ]
  },
  {
   "cell_type": "markdown",
   "metadata": {},
   "source": [
    "### Autovalores y autovectores"
   ]
  },
  {
   "cell_type": "code",
   "execution_count": 17,
   "metadata": {},
   "outputs": [],
   "source": [
    "# https://numpy.org/doc/stable/reference/generated/numpy.linalg.eig.html\n",
    "\n",
    "eigVal,eigVec = np.linalg.eig(MTdataTranspose)"
   ]
  },
  {
   "cell_type": "code",
   "execution_count": 18,
   "metadata": {},
   "outputs": [
    {
     "data": {
      "text/plain": [
       "(1+0j)"
      ]
     },
     "execution_count": 18,
     "metadata": {},
     "output_type": "execute_result"
    }
   ],
   "source": [
    "eigVal[0]"
   ]
  },
  {
   "cell_type": "code",
   "execution_count": 19,
   "metadata": {},
   "outputs": [
    {
     "data": {
      "text/plain": [
       "array([0.2382502 +0.j, 0.24467417+0.j, 0.12601374+0.j, 0.23640415+0.j,\n",
       "       0.13599602+0.j, 0.23976837+0.j, 0.34758931+0.j, 0.10802277+0.j,\n",
       "       0.12708041+0.j, 0.21794427+0.j, 0.06293577+0.j, 0.19054646+0.j,\n",
       "       0.04222282+0.j, 0.30020173+0.j, 0.1964877 +0.j, 0.35043236+0.j,\n",
       "       0.1397589 +0.j, 0.22869757+0.j, 0.24098499+0.j, 0.34057742+0.j])"
      ]
     },
     "execution_count": 19,
     "metadata": {},
     "output_type": "execute_result"
    }
   ],
   "source": [
    "eigVec[:,0]"
   ]
  },
  {
   "cell_type": "code",
   "execution_count": 20,
   "metadata": {},
   "outputs": [
    {
     "data": {
      "text/plain": [
       "dtype('complex128')"
      ]
     },
     "execution_count": 20,
     "metadata": {},
     "output_type": "execute_result"
    }
   ],
   "source": [
    "eigVec[:,0].dtype"
   ]
  },
  {
   "cell_type": "code",
   "execution_count": 21,
   "metadata": {},
   "outputs": [
    {
     "data": {
      "text/plain": [
       "array([0.2382502 , 0.24467417, 0.12601374, 0.23640415, 0.13599602,\n",
       "       0.23976837, 0.34758931, 0.10802277, 0.12708041, 0.21794427,\n",
       "       0.06293577, 0.19054646, 0.04222282, 0.30020173, 0.1964877 ,\n",
       "       0.35043236, 0.1397589 , 0.22869757, 0.24098499, 0.34057742])"
      ]
     },
     "execution_count": 21,
     "metadata": {},
     "output_type": "execute_result"
    }
   ],
   "source": [
    "autovector = eigVec[:,0]\n",
    "autovectorReal = np.real(autovector)\n",
    "autovectorReal"
   ]
  },
  {
   "cell_type": "code",
   "execution_count": 22,
   "metadata": {},
   "outputs": [
    {
     "data": {
      "text/plain": [
       "4.114589128455469"
      ]
     },
     "execution_count": 22,
     "metadata": {},
     "output_type": "execute_result"
    }
   ],
   "source": [
    "sum(autovectorReal)"
   ]
  },
  {
   "cell_type": "code",
   "execution_count": 23,
   "metadata": {},
   "outputs": [
    {
     "data": {
      "text/plain": [
       "array([0.05790376, 0.05946503, 0.03062608, 0.05745511, 0.03305215,\n",
       "       0.05827274, 0.08447728, 0.0262536 , 0.03088532, 0.05296866,\n",
       "       0.01529576, 0.04630996, 0.01026173, 0.07296032, 0.0477539 ,\n",
       "       0.08516825, 0.03396667, 0.05558212, 0.05856842, 0.08277313])"
      ]
     },
     "execution_count": 23,
     "metadata": {},
     "output_type": "execute_result"
    }
   ],
   "source": [
    "# hacemos que pertenezca al simplex\n",
    "autovectorRealNorm = autovectorReal/sum(autovectorReal)\n",
    "autovectorRealNorm"
   ]
  },
  {
   "cell_type": "markdown",
   "metadata": {},
   "source": [
    "## Ejercicio 4. Preguntas.\n",
    "\n",
    "Observa el código del ejercicio anterior y responde a las siguientes preguntas.\n",
    "1. En la teorı́a hemos visto que la distribución de equilibrio q es la solución del sistema lineal $\\mathbf{q} = \\mathbf{q}P$ , siendo $P$ la matriz de transiciones. ¿Por qué calculamos entonces autovalores y autovectores para hallar q?\n",
    "2. ¿Por qué utilizamos la matriz transpuesta en lugar de $MT$ directamente?\n",
    "3. ¿Por qué utilizamos la primera columna de la matriz de autovectores y no otra?\n",
    "4. ¿Qué hace la función `np.real` que aparece en el código? ¿Por qué es necesaria?\n"
   ]
  },
  {
   "cell_type": "markdown",
   "metadata": {},
   "source": [
    "## Ejemplo 5. Representación gráfica.\n",
    "\n",
    "Representa gráficamente la distribución anterior mediante un diagrama de barras.\n",
    "Ordena las probabilidades de mayor a menor.\n"
   ]
  },
  {
   "cell_type": "code",
   "execution_count": 24,
   "metadata": {},
   "outputs": [
    {
     "data": {
      "text/plain": [
       "array([15,  6, 19, 13,  1, 18,  5,  0,  3, 17,  9, 14, 11, 16,  4,  8,  2,\n",
       "        7, 10, 12])"
      ]
     },
     "execution_count": 24,
     "metadata": {},
     "output_type": "execute_result"
    }
   ],
   "source": [
    "index = np.argsort(autovectorRealNorm,)\n",
    "indexDecreasing = index[::-1] # decreasing order\n",
    "indexDecreasing"
   ]
  },
  {
   "cell_type": "code",
   "execution_count": 25,
   "metadata": {},
   "outputs": [
    {
     "data": {
      "text/plain": [
       "(20, 20)"
      ]
     },
     "execution_count": 25,
     "metadata": {},
     "output_type": "execute_result"
    }
   ],
   "source": [
    "len(alfabeto),len(indexDecreasing)"
   ]
  },
  {
   "cell_type": "code",
   "execution_count": 26,
   "metadata": {},
   "outputs": [
    {
     "data": {
      "text/plain": [
       "array(['R', 'K', 'D', 'E', 'Q', 'S', 'C', 'H', 'N', 'T', 'W', 'Y', 'M',\n",
       "       'A', 'I', 'L', 'F', 'V', 'P', 'G'], dtype='<U1')"
      ]
     },
     "execution_count": 26,
     "metadata": {},
     "output_type": "execute_result"
    }
   ],
   "source": [
    "alfabetoNP = np.asarray(alfabeto)\n",
    "alfabetoNP"
   ]
  },
  {
   "cell_type": "code",
   "execution_count": 27,
   "metadata": {},
   "outputs": [],
   "source": [
    "# ordenar las frecuencias del vector de estado estable\n",
    "vectorEstable = autovectorRealNorm[indexDecreasing]\n",
    "labels = alfabetoNP[indexDecreasing]"
   ]
  },
  {
   "cell_type": "code",
   "execution_count": 28,
   "metadata": {},
   "outputs": [
    {
     "data": {
      "image/png": "[encoded data removed]",
      "text/plain": [
       "<Figure size 432x288 with 1 Axes>"
      ]
     },
     "metadata": {
      "needs_background": "light"
     },
     "output_type": "display_data"
    }
   ],
   "source": [
    "plt.bar(np.arange(len(vectorEstable)),vectorEstable)\n",
    "plt.xticks(np.arange(len(vectorEstable)),labels)\n",
    "plt.show()"
   ]
  },
  {
   "cell_type": "markdown",
   "metadata": {},
   "source": [
    "## Ejercicio 5. Distribución empírica.\n",
    "\n",
    "Calcula, contando frecuencias en el conjunto de datos, la distribucion de frecuencias relativas de los aminoácidos. Representa dos diagramas de barras superpuestos con esta distribucion y la obtenida en el Ejemplo anterior. ¿Son comparables?"
   ]
  },
  {
   "cell_type": "code",
   "execution_count": 29,
   "metadata": {
    "tags": [
     "hide-cell"
    ]
   },
   "outputs": [
    {
     "name": "stdout",
     "output_type": "stream",
     "text": [
      "[294. 304. 161. 301. 168. 302. 435. 134. 159. 269.  78. 240.  66. 388.\n",
      " 242. 433. 218. 296. 295. 437.]\n",
      "[0.05632184 0.05823755 0.03084291 0.05766284 0.03218391 0.05785441\n",
      " 0.08333333 0.0256705  0.03045977 0.05153257 0.01494253 0.04597701\n",
      " 0.01264368 0.0743295  0.04636015 0.08295019 0.04176245 0.05670498\n",
      " 0.05651341 0.08371648]\n"
     ]
    }
   ],
   "source": [
    "alfabeto\n",
    "\n",
    "\n",
    "Pempirica = np.zeros(lenAlfab).astype(float)\n",
    "Pempirica\n",
    "\n",
    "for nseq in range(df.shape[0]):\n",
    "    secuencia = df.loc[nseq,'seq']\n",
    "    for naa in range(len(secuencia)): # recorremos hasta el ultimo\n",
    "        AA = secuencia[naa]\n",
    "        # qué AA es?\n",
    "        indexAA = alfabeto.index(AA)\n",
    "        Pempirica[indexAA] += 1\n",
    "print(Pempirica)\n",
    "\n",
    "PempiricaFrecuencias = Pempirica / sum(Pempirica)\n",
    "print(PempiricaFrecuencias)"
   ]
  },
  {
   "cell_type": "code",
   "execution_count": 30,
   "metadata": {
    "tags": [
     "hide-cell"
    ]
   },
   "outputs": [
    {
     "name": "stdout",
     "output_type": "stream",
     "text": [
      "[0.00158192 0.00122748 0.00021683 0.00020773 0.00086824 0.00041833\n",
      " 0.00114395 0.0005831  0.00042555 0.00143609 0.00035323 0.00033295\n",
      " 0.00238194 0.00136918 0.00139375 0.00221806 0.00779578 0.00112287\n",
      " 0.00205501 0.00094335]\n",
      "0.002218058754909241\n"
     ]
    }
   ],
   "source": [
    "print(np.abs(autovectorRealNorm - PempiricaFrecuencias))\n",
    "\n",
    "print((autovectorRealNorm - PempiricaFrecuencias).max())"
   ]
  },
  {
   "cell_type": "code",
   "execution_count": 31,
   "metadata": {
    "tags": [
     "hide-cell"
    ]
   },
   "outputs": [
    {
     "data": {
      "image/png": "[encoded data removed]",
      "text/plain": [
       "<Figure size 432x288 with 1 Axes>"
      ]
     },
     "metadata": {
      "needs_background": "light"
     },
     "output_type": "display_data"
    }
   ],
   "source": [
    "plt.bar(np.arange(len(vectorEstable)),vectorEstable,alpha=0.5,label='estable')\n",
    "plt.bar(np.arange(len(vectorEstable)),PempiricaFrecuencias[indexDecreasing],alpha=0.5,label='empírica')\n",
    "plt.xticks(np.arange(len(vectorEstable)),labels)\n",
    "plt.legend()\n",
    "plt.show()"
   ]
  },
  {
   "cell_type": "markdown",
   "metadata": {},
   "source": [
    "## Ejercicio 6. Verosimilitudes de secuencias\n",
    "\n",
    "Escribe una función, llamada ``myloglik``, que calcule la log-verosimilitud de una secuencia según el modelo de Markov. Los argumentos de entrada han de ser: \n",
    "   1. el vector de probabilidad inicial `vecProbInicial`\n",
    "   2. la matriz de transiciones `MT`\n",
    "   3. el alfabeto de 20 aminoácidos definido en el ejemplo 1 `alfabeto`\n",
    "   4. la secuencia (como lista de aminoácidos) de la que queremos calcular la verosimilitud `secuencia`\n",
    "   \n",
    "> Tanto el vector de probabilidad inicial como la matriz de transiciones han de tener la misma ordenación que el alfabeto dado.\n",
    "   \n",
    "Compara las verosimilitudes de las siguientes secuencias: \n",
    "\n",
    "+ SEQWENCIAVERQSMILYES \n",
    "+ FVCQHLVCQHLVCQHLVCQQ.\n"
   ]
  },
  {
   "cell_type": "code",
   "execution_count": 32,
   "metadata": {
    "tags": [
     "hide-cell"
    ]
   },
   "outputs": [],
   "source": [
    "def myloglik(vecProbInicial, matrizTransicion, alfa, secuencia):\n",
    "    \n",
    "    loglik = 0.0\n",
    "    \n",
    "    primeraLetra = secuencia[0]\n",
    "    primeraPosicionEnAlfabeto = alfa.index(primeraLetra)\n",
    "    \n",
    "    loglik += np.log(vecProbInicial[primeraPosicionEnAlfabeto])\n",
    "    \n",
    "    for i in range(len(secuencia)-1):\n",
    "        \n",
    "        letraEntrada = secuencia[i]\n",
    "        letraSalida = secuencia[i+1]\n",
    "        \n",
    "        posicionLetraEntradaAlfabeto = alfa.index(letraEntrada)\n",
    "        posicionLetraSalidaAlfabeto = alfa.index(letraSalida)\n",
    "        probabilidadTransicion = matrizTransicion.iloc[posicionLetraEntradaAlfabeto,\n",
    "                                                 posicionLetraSalidaAlfabeto]\n",
    "        \n",
    "        loglik += np.log(probabilidadTransicion)\n",
    "    return loglik"
   ]
  },
  {
   "cell_type": "code",
   "execution_count": 33,
   "metadata": {
    "tags": [
     "hide-cell"
    ]
   },
   "outputs": [
    {
     "name": "stdout",
     "output_type": "stream",
     "text": [
      "SEQWENCIAVERQSMILYES \n",
      "Loglikelihood: -64.0330953932442\n",
      "Likelihood:: 1.5516008595950296e-28\n",
      "\n",
      "FVCQHLVCQHLVCQHLVCQQ \n",
      "Loglikelihood: -38.54576794984071\n",
      "Likelihood:: 1.8188030702995e-17\n",
      "\n"
     ]
    }
   ],
   "source": [
    "secuencia1 = \"SEQWENCIAVERQSMILYES\"\n",
    "loglik1 = myloglik(Pini, MT, alfabeto, secuencia1)\n",
    "lik1=np.exp(loglik1)\n",
    "print(secuencia1,'\\nLoglikelihood: {}\\nLikelihood:: {}\\n'.format(loglik1,lik1))\n",
    "\n",
    "secuencia2 = \"FVCQHLVCQHLVCQHLVCQQ\"\n",
    "loglik2 = myloglik(Pini, MT, alfabeto, secuencia2)\n",
    "lik2=np.exp(loglik2)\n",
    "print(secuencia2,'\\nLoglikelihood: {}\\nLikelihood:: {}\\n'.format(loglik2,lik2))"
   ]
  }
 ],
 "metadata": {
  "celltoolbar": "Tags",
  "kernelspec": {
   "display_name": "Python 3 (ipykernel)",
   "language": "python",
   "name": "python3"
  },
  "language_info": {
   "codemirror_mode": {
    "name": "ipython",
    "version": 3
   },
   "file_extension": ".py",
   "mimetype": "text/x-python",
   "name": "python",
   "nbconvert_exporter": "python",
   "pygments_lexer": "ipython3",
   "version": "3.11.5"
  }
 },
 "nbformat": 4,
 "nbformat_minor": 4
}

{
 "cells": [
  {
   "cell_type": "markdown",
   "metadata": {},
   "source": [
    "# Introducción al Aprendizaje Automático"
   ]
  },
  {
   "cell_type": "code",
   "execution_count": 1,
   "metadata": {},
   "outputs": [],
   "source": [
    "import matplotlib.pyplot as plt \n",
    "%matplotlib inline\n",
    "import pandas as pd\n",
    "import numpy as np\n",
    "#from skimage import io\n",
    "from IPython import display\n",
    "import sklearn as sk"
   ]
  },
  {
   "cell_type": "markdown",
   "metadata": {},
   "source": [
    "La asignatura de __Aprendizaje Automático__ es un compendio de nuevas técnicas de análisis de datos avanzados que de la mano de la __estadística__ y de los avances de la __programación__ han abierto un nuevo horizonte en campos hasta ese momento vedados al análisis. \n",
    "\n",
    "Uno de esos campos es sin lugar a duda los campos de la biología, que por la complejidad de sus modelos se encontraba fuera de muchos de los avances que la física matemática había aplicado a otros campos de la ingeniería como la electrotecnia y electrónica, la termodinámica o la mecánica de materiales por ejemplo. \n",
    "\n",
    "Pero incluso __los modelos informáticos inspirados en procesos biológicos__ se han constituido en __herramientas de propósito general__ para construir los esquemas de trabajo, caso de las __redes neuronales__, o resolver problemas generales, caso de la aplicación de los __algoritmos genéticos__ a la solución de problemas generales de __optimización__.\n",
    "\n",
    "<img src=\"images/IA_MachineL.png\" width=\"600px\">"
   ]
  },
  {
   "cell_type": "markdown",
   "metadata": {},
   "source": [
    "## Aprendizaje supevisado vs no supevisado. Regresión vs Clasificación\n",
    "\n",
    "El __Aprendizaje__ Automático hace referencia a la preparación de un __modelo entrenado estadisticamente__ donde se correlacionan unas __observaciones__, llamadas $X$ con una __variable objetivo__ llamada $Y$. Durante el entrenamiento se construye un modelo que relaciona las observaciones recogidas en el conjunto $X$ con la variable recogida en el conjunto $Y$, que son observaciones reales conocidas de antemano.\n",
    "\n",
    "Una vez ajustado el modelo servirá para predecir valores $Y$, objetivos desconocidos, sobre un conjunto de nuevas observaciones $X$. Esto es lo que se denomina __aprendizaje supervisado__, porque en el entrenamiento el disponer de objetivos conocidos $Y$ de unas observaciones $X$ permite supervisar el entrenamiento.\n",
    "\n",
    "Finalmente hay casos en que ni siquiera conocemos ninguna variable objetivo. Simplemente nos piden que establezcamos una clasificación, (buena, regular, mala) por ejemplo, sobre un conjunto de observaciones de las que no tenemos experiencia previa. En estos casos estaremos hablando de __aprendizaje no supervisado__. Se aplicarán métodos que permiten hacer clasificaciones genéricas no condicionadas por una experiencia previa.\n",
    "\n",
    "En el aprendizaje supervisado podemos encontrarnos con que los valores $Y$ sean continuos, cualquier valor de los números reales. En este caso los métodos supervisados a aplicar son las __Regresiones__. Mientras que si $Y$ toma sólo un conjunto discreto de valores, supongamos $ \\{0, 1, 2, ..., k\\} $ hablamos de métodos de __Clasificación__. Resumiendo una primera clasificación del Aprendizaje Automático puede ser:\n",
    "\n",
    "- __Aprendizaje Supervisado__. Cuando el modelo se ajusta a partir de valores conocidos $X$ e $Y$\n",
    "    - __Regresiones__. Cuando los valores que toman $Y$ son continuos\n",
    "    - __Clasificaciones__. Cuando los valores que toman $Y$ son discretos\n",
    "- __Aprendizaje no Supervisado__. Cuando partimos de valores $X$ para ajustar un modelo.\n",
    "\n",
    "\n",
    "<img src=\"images/ASupervisado.png\" width=\"600px\">"
   ]
  },
  {
   "cell_type": "markdown",
   "metadata": {},
   "source": [
    "## Las matrices $X$ e $Y$\n",
    "\n",
    "Un __conjunto de características__ $X$ se puede definir como una __matriz__ de $N$ filas y $n$ columnas. Las $N$ filas hacen referencia al numero de observaciones registradas o número de individuos de la muestra de partida o entrenamiento. Mientras que $n$ es el número de características observadas y hace referencia a la dimensión de las observaciones. En cada individuo del conjunto recogemos $n$ caracteristicas distintas. Si estamos haciendo un estudio médico sobre 1.000 individuos, $N=1.000$ y si a cada individuo le medimos la presión arterial, el nivel de glucosa y el nivel de colesterol, $n=3$. Podremos recoger los datos de nuestro conjunto de entrenamiento en una matriz $1.000 \\times 3$.\n",
    "\n",
    "$$X=\\begin{bmatrix}\n",
    "  x_{11} & x_{12} & \\cdots & x_{1n} \\\\\n",
    "  x_{21} & x_{22} & \\cdots & x_{2n} \\\\\n",
    "  \\vdots & \\vdots & \\ddots &  \\vdots \\\\\n",
    "  x_{N1} & x_{N2} & \\cdots & x_{Nn} \\\\\n",
    " \\end{bmatrix}$$\n",
    " \n",
    "Si el estudio médico es un modelo __supervisado__ las variables objetivo $Y$ que permiten entrenar el modelo se pueden definir como una matriz columna de $N$ filas o una matriz $N \\times 1$\n",
    "\n",
    "$$Y=\\begin{bmatrix}\n",
    "  y_1 \\\\\n",
    "  y_2 \\\\\n",
    "  \\vdots \\\\\n",
    "  y_N \\\\\n",
    " \\end{bmatrix}$$\n",
    " "
   ]
  },
  {
   "cell_type": "markdown",
   "metadata": {},
   "source": [
    "## Los conjuntos de entrenamiento y validación, train y test, en el aprendizaje automático\n",
    "\n",
    "El ajuste del modelo estadistico de un método supervisado se realiza sobre una parte de los conjuntos $X$ e $Y$ de partida. Se hace una partición tanto de $X$ como de $Y$ en dos subconjuntos. El primero, que se denomina de __entranamiento__ o __train__ se utiliza para hacer realmente el ajuste del modelo. Y este ajuste se valida en el subconjunto que se ha reservado a tal fin y al que se da el nombre de conjunto de __test__ o __validación__.\n",
    "\n",
    "Esto es así porque los métodos de ajuste pueden conseguir una convergencia sobre el conjunto de entrenamiento que sea ficticia, lo que se llama __sobreajuste__, y luego al validar se comprueba que el ratio de éxito es muchísimo menor. Esto puede ser así porque realmente el modelo no tenga convergencia o correlación real.\n",
    "\n",
    "<img src=\"images/Training.png\" width=\"600px\">\n"
   ]
  },
  {
   "cell_type": "markdown",
   "metadata": {},
   "source": [
    "## Tratamiento de los Datos\n",
    "\n",
    "Antes de empezar a aplicar ningún método entrenamiento es necesario cargar los datos desde el soporte de archivos o base de datos donde se encuentren. Aquí se cargarán desde archivos que se esperan en la carpeta __data__ utilizando la librería __Pandas__.\n",
    "\n",
    "Una vez cargado es necesario un proceso de filtrado y depuración para que sea compatible con los procedimientos que se van a aplicar. Así será necesario eliminar valores nulos o convertir valores alfabéticos en númericos.\n",
    "\n",
    "Gestionar los datos nulos o datos perdidos se puede realizar con diferentes extrategias:\n",
    "- __Descartar__ los registros incompletos.\n",
    "- __Imputar__ un dato por cada valor perdido reemplazando por la __media__ o la _mediana_.\n",
    "- __Imputar__ en base a una __regresión__, donde el dato perdido se sustituye por uno _predicho_.\n",
    "\n",
    "Además puede surgir la necesidad de transformar los datos:\n",
    "- __Estandarización__ : restando la media $\\mu_i$ y dividiendo por la desviación típica $\\sigma_i$ en cada una de las $i$ columnas de la matriz $X$ con $i=1,...,n$. \n",
    "- Convertir datos __alfabéticos__ en __númericos__. Por ejemplo en la matriz $Y$ se sustituyen los nombres de las etiquetas por enteros $0, 1, ..., K$.\n",
    "\n",
    "Finalmente puede ser de interés hacer un __análisis de componentes principales (PCA)__ en la matriz $X$."
   ]
  },
  {
   "cell_type": "markdown",
   "metadata": {},
   "source": [
    "### Eliminación de Nulos\n",
    "\n",
    "El archivo __breast_cancer_conNulos.csv__ contiene datos con valores nulos en algunas de sus características. La variable objetivo __y__ es __diagnose__  con valores 0 (benigno, no canceroso) o  1 (maligno, canceroso), respectivamente. El resto de variables son características que constituyen la matriz __X__.\n",
    "\n",
    "Realizar lo siguiente:\n",
    "\n",
    "- Cargar con Pandas el archivo.\n",
    "- Evaluar si existen valores nulos o perdidos\n",
    "- Eliminar en Pandas los valores nulos.\n",
    "- Cargar las matrices X e y\n",
    "\n",
    "Primero se comienza cargando desde la librería Pandas los datos del fichero a un objeto __DataFrame__. Ésto lo realiza la función __read_csv__ que lee el fichero CSV.\n",
    "\n",
    "https://pandas.pydata.org/docs/index.html\n",
    "\n",
    "https://pandas.pydata.org/docs/reference/api/pandas.DataFrame.html\n",
    "\n",
    "Los valores perdidos se pueden detectar y eliminar desde el objeto _DataFrame_ con los métodos __isna()__ y __dropnan()__ respectivamente.\n"
   ]
  },
  {
   "cell_type": "code",
   "execution_count": 2,
   "metadata": {},
   "outputs": [
    {
     "data": {
      "text/html": [
       "<div>\n",
       "<style scoped>\n",
       "    .dataframe tbody tr th:only-of-type {\n",
       "        vertical-align: middle;\n",
       "    }\n",
       "\n",
       "    .dataframe tbody tr th {\n",
       "        vertical-align: top;\n",
       "    }\n",
       "\n",
       "    .dataframe thead th {\n",
       "        text-align: right;\n",
       "    }\n",
       "</style>\n",
       "<table border=\"1\" class=\"dataframe\">\n",
       "  <thead>\n",
       "    <tr style=\"text-align: right;\">\n",
       "      <th></th>\n",
       "      <th>clump_thickness</th>\n",
       "      <th>cell_size_uniformity</th>\n",
       "      <th>cell_shape_uniformity</th>\n",
       "      <th>marginal_adhesion</th>\n",
       "      <th>single_epithelial_cell_size</th>\n",
       "      <th>bare_nuclei</th>\n",
       "      <th>bland_chromatin</th>\n",
       "      <th>normal_nucleoli</th>\n",
       "      <th>mitoses</th>\n",
       "      <th>diagnose</th>\n",
       "    </tr>\n",
       "  </thead>\n",
       "  <tbody>\n",
       "    <tr>\n",
       "      <th>0</th>\n",
       "      <td>5.0</td>\n",
       "      <td>1.0</td>\n",
       "      <td>1.0</td>\n",
       "      <td>1.0</td>\n",
       "      <td>2.0</td>\n",
       "      <td>1.0</td>\n",
       "      <td>3.0</td>\n",
       "      <td>1.0</td>\n",
       "      <td>1.0</td>\n",
       "      <td>0</td>\n",
       "    </tr>\n",
       "    <tr>\n",
       "      <th>1</th>\n",
       "      <td>5.0</td>\n",
       "      <td>4.0</td>\n",
       "      <td>4.0</td>\n",
       "      <td>5.0</td>\n",
       "      <td>7.0</td>\n",
       "      <td>10.0</td>\n",
       "      <td>3.0</td>\n",
       "      <td>2.0</td>\n",
       "      <td>1.0</td>\n",
       "      <td>0</td>\n",
       "    </tr>\n",
       "    <tr>\n",
       "      <th>2</th>\n",
       "      <td>3.0</td>\n",
       "      <td>1.0</td>\n",
       "      <td>1.0</td>\n",
       "      <td>1.0</td>\n",
       "      <td>2.0</td>\n",
       "      <td>2.0</td>\n",
       "      <td>3.0</td>\n",
       "      <td>1.0</td>\n",
       "      <td>1.0</td>\n",
       "      <td>0</td>\n",
       "    </tr>\n",
       "    <tr>\n",
       "      <th>3</th>\n",
       "      <td>6.0</td>\n",
       "      <td>8.0</td>\n",
       "      <td>8.0</td>\n",
       "      <td>1.0</td>\n",
       "      <td>3.0</td>\n",
       "      <td>4.0</td>\n",
       "      <td>3.0</td>\n",
       "      <td>7.0</td>\n",
       "      <td>1.0</td>\n",
       "      <td>0</td>\n",
       "    </tr>\n",
       "    <tr>\n",
       "      <th>4</th>\n",
       "      <td>4.0</td>\n",
       "      <td>1.0</td>\n",
       "      <td>1.0</td>\n",
       "      <td>3.0</td>\n",
       "      <td>2.0</td>\n",
       "      <td>1.0</td>\n",
       "      <td>3.0</td>\n",
       "      <td>1.0</td>\n",
       "      <td>1.0</td>\n",
       "      <td>0</td>\n",
       "    </tr>\n",
       "  </tbody>\n",
       "</table>\n",
       "</div>"
      ],
      "text/plain": [
       "   clump_thickness  cell_size_uniformity  cell_shape_uniformity  \\\n",
       "0              5.0                   1.0                    1.0   \n",
       "1              5.0                   4.0                    4.0   \n",
       "2              3.0                   1.0                    1.0   \n",
       "3              6.0                   8.0                    8.0   \n",
       "4              4.0                   1.0                    1.0   \n",
       "\n",
       "   marginal_adhesion  single_epithelial_cell_size  bare_nuclei  \\\n",
       "0                1.0                          2.0          1.0   \n",
       "1                5.0                          7.0         10.0   \n",
       "2                1.0                          2.0          2.0   \n",
       "3                1.0                          3.0          4.0   \n",
       "4                3.0                          2.0          1.0   \n",
       "\n",
       "   bland_chromatin  normal_nucleoli  mitoses  diagnose  \n",
       "0              3.0              1.0      1.0         0  \n",
       "1              3.0              2.0      1.0         0  \n",
       "2              3.0              1.0      1.0         0  \n",
       "3              3.0              7.0      1.0         0  \n",
       "4              3.0              1.0      1.0         0  "
      ]
     },
     "execution_count": 2,
     "metadata": {},
     "output_type": "execute_result"
    }
   ],
   "source": [
    "import pandas as pd\n",
    "df = pd.read_csv('data/breast_cancer_conNulos.csv')\n",
    "df.head()"
   ]
  },
  {
   "cell_type": "markdown",
   "metadata": {},
   "source": [
    "__Se detectan si existen o no valores perdidos o nulos__\n",
    "\n",
    "Los registros con nulos aparecen arriba y con True."
   ]
  },
  {
   "cell_type": "code",
   "execution_count": 3,
   "metadata": {},
   "outputs": [
    {
     "data": {
      "text/html": [
       "<div>\n",
       "<style scoped>\n",
       "    .dataframe tbody tr th:only-of-type {\n",
       "        vertical-align: middle;\n",
       "    }\n",
       "\n",
       "    .dataframe tbody tr th {\n",
       "        vertical-align: top;\n",
       "    }\n",
       "\n",
       "    .dataframe thead th {\n",
       "        text-align: right;\n",
       "    }\n",
       "</style>\n",
       "<table border=\"1\" class=\"dataframe\">\n",
       "  <thead>\n",
       "    <tr style=\"text-align: right;\">\n",
       "      <th></th>\n",
       "      <th>clump_thickness</th>\n",
       "      <th>cell_size_uniformity</th>\n",
       "      <th>cell_shape_uniformity</th>\n",
       "      <th>marginal_adhesion</th>\n",
       "      <th>single_epithelial_cell_size</th>\n",
       "      <th>bare_nuclei</th>\n",
       "      <th>bland_chromatin</th>\n",
       "      <th>normal_nucleoli</th>\n",
       "      <th>mitoses</th>\n",
       "      <th>diagnose</th>\n",
       "    </tr>\n",
       "  </thead>\n",
       "  <tbody>\n",
       "    <tr>\n",
       "      <th>0</th>\n",
       "      <td>False</td>\n",
       "      <td>False</td>\n",
       "      <td>False</td>\n",
       "      <td>False</td>\n",
       "      <td>False</td>\n",
       "      <td>False</td>\n",
       "      <td>False</td>\n",
       "      <td>False</td>\n",
       "      <td>False</td>\n",
       "      <td>False</td>\n",
       "    </tr>\n",
       "    <tr>\n",
       "      <th>1</th>\n",
       "      <td>False</td>\n",
       "      <td>False</td>\n",
       "      <td>False</td>\n",
       "      <td>False</td>\n",
       "      <td>False</td>\n",
       "      <td>False</td>\n",
       "      <td>False</td>\n",
       "      <td>False</td>\n",
       "      <td>False</td>\n",
       "      <td>False</td>\n",
       "    </tr>\n",
       "    <tr>\n",
       "      <th>2</th>\n",
       "      <td>False</td>\n",
       "      <td>False</td>\n",
       "      <td>False</td>\n",
       "      <td>False</td>\n",
       "      <td>False</td>\n",
       "      <td>False</td>\n",
       "      <td>False</td>\n",
       "      <td>False</td>\n",
       "      <td>False</td>\n",
       "      <td>False</td>\n",
       "    </tr>\n",
       "    <tr>\n",
       "      <th>3</th>\n",
       "      <td>False</td>\n",
       "      <td>False</td>\n",
       "      <td>False</td>\n",
       "      <td>False</td>\n",
       "      <td>False</td>\n",
       "      <td>False</td>\n",
       "      <td>False</td>\n",
       "      <td>False</td>\n",
       "      <td>False</td>\n",
       "      <td>False</td>\n",
       "    </tr>\n",
       "    <tr>\n",
       "      <th>4</th>\n",
       "      <td>False</td>\n",
       "      <td>False</td>\n",
       "      <td>False</td>\n",
       "      <td>False</td>\n",
       "      <td>False</td>\n",
       "      <td>False</td>\n",
       "      <td>False</td>\n",
       "      <td>False</td>\n",
       "      <td>False</td>\n",
       "      <td>False</td>\n",
       "    </tr>\n",
       "    <tr>\n",
       "      <th>...</th>\n",
       "      <td>...</td>\n",
       "      <td>...</td>\n",
       "      <td>...</td>\n",
       "      <td>...</td>\n",
       "      <td>...</td>\n",
       "      <td>...</td>\n",
       "      <td>...</td>\n",
       "      <td>...</td>\n",
       "      <td>...</td>\n",
       "      <td>...</td>\n",
       "    </tr>\n",
       "    <tr>\n",
       "      <th>683</th>\n",
       "      <td>False</td>\n",
       "      <td>True</td>\n",
       "      <td>True</td>\n",
       "      <td>False</td>\n",
       "      <td>False</td>\n",
       "      <td>True</td>\n",
       "      <td>False</td>\n",
       "      <td>True</td>\n",
       "      <td>True</td>\n",
       "      <td>False</td>\n",
       "    </tr>\n",
       "    <tr>\n",
       "      <th>684</th>\n",
       "      <td>True</td>\n",
       "      <td>True</td>\n",
       "      <td>False</td>\n",
       "      <td>False</td>\n",
       "      <td>False</td>\n",
       "      <td>False</td>\n",
       "      <td>False</td>\n",
       "      <td>True</td>\n",
       "      <td>True</td>\n",
       "      <td>False</td>\n",
       "    </tr>\n",
       "    <tr>\n",
       "      <th>685</th>\n",
       "      <td>True</td>\n",
       "      <td>False</td>\n",
       "      <td>True</td>\n",
       "      <td>False</td>\n",
       "      <td>False</td>\n",
       "      <td>False</td>\n",
       "      <td>True</td>\n",
       "      <td>False</td>\n",
       "      <td>True</td>\n",
       "      <td>False</td>\n",
       "    </tr>\n",
       "    <tr>\n",
       "      <th>686</th>\n",
       "      <td>True</td>\n",
       "      <td>False</td>\n",
       "      <td>False</td>\n",
       "      <td>True</td>\n",
       "      <td>False</td>\n",
       "      <td>False</td>\n",
       "      <td>True</td>\n",
       "      <td>False</td>\n",
       "      <td>True</td>\n",
       "      <td>False</td>\n",
       "    </tr>\n",
       "    <tr>\n",
       "      <th>687</th>\n",
       "      <td>False</td>\n",
       "      <td>True</td>\n",
       "      <td>False</td>\n",
       "      <td>False</td>\n",
       "      <td>True</td>\n",
       "      <td>False</td>\n",
       "      <td>False</td>\n",
       "      <td>True</td>\n",
       "      <td>False</td>\n",
       "      <td>False</td>\n",
       "    </tr>\n",
       "  </tbody>\n",
       "</table>\n",
       "<p>688 rows × 10 columns</p>\n",
       "</div>"
      ],
      "text/plain": [
       "     clump_thickness  cell_size_uniformity  cell_shape_uniformity  \\\n",
       "0              False                 False                  False   \n",
       "1              False                 False                  False   \n",
       "2              False                 False                  False   \n",
       "3              False                 False                  False   \n",
       "4              False                 False                  False   \n",
       "..               ...                   ...                    ...   \n",
       "683            False                  True                   True   \n",
       "684             True                  True                  False   \n",
       "685             True                 False                   True   \n",
       "686             True                 False                  False   \n",
       "687            False                  True                  False   \n",
       "\n",
       "     marginal_adhesion  single_epithelial_cell_size  bare_nuclei  \\\n",
       "0                False                        False        False   \n",
       "1                False                        False        False   \n",
       "2                False                        False        False   \n",
       "3                False                        False        False   \n",
       "4                False                        False        False   \n",
       "..                 ...                          ...          ...   \n",
       "683              False                        False         True   \n",
       "684              False                        False        False   \n",
       "685              False                        False        False   \n",
       "686               True                        False        False   \n",
       "687              False                         True        False   \n",
       "\n",
       "     bland_chromatin  normal_nucleoli  mitoses  diagnose  \n",
       "0              False            False    False     False  \n",
       "1              False            False    False     False  \n",
       "2              False            False    False     False  \n",
       "3              False            False    False     False  \n",
       "4              False            False    False     False  \n",
       "..               ...              ...      ...       ...  \n",
       "683            False             True     True     False  \n",
       "684            False             True     True     False  \n",
       "685             True            False     True     False  \n",
       "686             True            False     True     False  \n",
       "687            False             True    False     False  \n",
       "\n",
       "[688 rows x 10 columns]"
      ]
     },
     "execution_count": 3,
     "metadata": {},
     "output_type": "execute_result"
    }
   ],
   "source": [
    "df.isna()"
   ]
  },
  {
   "cell_type": "markdown",
   "metadata": {},
   "source": [
    "__Se borran los valores nulos__"
   ]
  },
  {
   "cell_type": "code",
   "execution_count": 4,
   "metadata": {},
   "outputs": [
    {
     "data": {
      "text/html": [
       "<div>\n",
       "<style scoped>\n",
       "    .dataframe tbody tr th:only-of-type {\n",
       "        vertical-align: middle;\n",
       "    }\n",
       "\n",
       "    .dataframe tbody tr th {\n",
       "        vertical-align: top;\n",
       "    }\n",
       "\n",
       "    .dataframe thead th {\n",
       "        text-align: right;\n",
       "    }\n",
       "</style>\n",
       "<table border=\"1\" class=\"dataframe\">\n",
       "  <thead>\n",
       "    <tr style=\"text-align: right;\">\n",
       "      <th></th>\n",
       "      <th>clump_thickness</th>\n",
       "      <th>cell_size_uniformity</th>\n",
       "      <th>cell_shape_uniformity</th>\n",
       "      <th>marginal_adhesion</th>\n",
       "      <th>single_epithelial_cell_size</th>\n",
       "      <th>bare_nuclei</th>\n",
       "      <th>bland_chromatin</th>\n",
       "      <th>normal_nucleoli</th>\n",
       "      <th>mitoses</th>\n",
       "      <th>diagnose</th>\n",
       "    </tr>\n",
       "  </thead>\n",
       "  <tbody>\n",
       "    <tr>\n",
       "      <th>0</th>\n",
       "      <td>5.0</td>\n",
       "      <td>1.0</td>\n",
       "      <td>1.0</td>\n",
       "      <td>1.0</td>\n",
       "      <td>2.0</td>\n",
       "      <td>1.0</td>\n",
       "      <td>3.0</td>\n",
       "      <td>1.0</td>\n",
       "      <td>1.0</td>\n",
       "      <td>0</td>\n",
       "    </tr>\n",
       "    <tr>\n",
       "      <th>1</th>\n",
       "      <td>5.0</td>\n",
       "      <td>4.0</td>\n",
       "      <td>4.0</td>\n",
       "      <td>5.0</td>\n",
       "      <td>7.0</td>\n",
       "      <td>10.0</td>\n",
       "      <td>3.0</td>\n",
       "      <td>2.0</td>\n",
       "      <td>1.0</td>\n",
       "      <td>0</td>\n",
       "    </tr>\n",
       "    <tr>\n",
       "      <th>2</th>\n",
       "      <td>3.0</td>\n",
       "      <td>1.0</td>\n",
       "      <td>1.0</td>\n",
       "      <td>1.0</td>\n",
       "      <td>2.0</td>\n",
       "      <td>2.0</td>\n",
       "      <td>3.0</td>\n",
       "      <td>1.0</td>\n",
       "      <td>1.0</td>\n",
       "      <td>0</td>\n",
       "    </tr>\n",
       "    <tr>\n",
       "      <th>3</th>\n",
       "      <td>6.0</td>\n",
       "      <td>8.0</td>\n",
       "      <td>8.0</td>\n",
       "      <td>1.0</td>\n",
       "      <td>3.0</td>\n",
       "      <td>4.0</td>\n",
       "      <td>3.0</td>\n",
       "      <td>7.0</td>\n",
       "      <td>1.0</td>\n",
       "      <td>0</td>\n",
       "    </tr>\n",
       "    <tr>\n",
       "      <th>4</th>\n",
       "      <td>4.0</td>\n",
       "      <td>1.0</td>\n",
       "      <td>1.0</td>\n",
       "      <td>3.0</td>\n",
       "      <td>2.0</td>\n",
       "      <td>1.0</td>\n",
       "      <td>3.0</td>\n",
       "      <td>1.0</td>\n",
       "      <td>1.0</td>\n",
       "      <td>0</td>\n",
       "    </tr>\n",
       "    <tr>\n",
       "      <th>...</th>\n",
       "      <td>...</td>\n",
       "      <td>...</td>\n",
       "      <td>...</td>\n",
       "      <td>...</td>\n",
       "      <td>...</td>\n",
       "      <td>...</td>\n",
       "      <td>...</td>\n",
       "      <td>...</td>\n",
       "      <td>...</td>\n",
       "      <td>...</td>\n",
       "    </tr>\n",
       "    <tr>\n",
       "      <th>678</th>\n",
       "      <td>3.0</td>\n",
       "      <td>1.0</td>\n",
       "      <td>1.0</td>\n",
       "      <td>1.0</td>\n",
       "      <td>3.0</td>\n",
       "      <td>2.0</td>\n",
       "      <td>1.0</td>\n",
       "      <td>1.0</td>\n",
       "      <td>1.0</td>\n",
       "      <td>0</td>\n",
       "    </tr>\n",
       "    <tr>\n",
       "      <th>679</th>\n",
       "      <td>2.0</td>\n",
       "      <td>1.0</td>\n",
       "      <td>1.0</td>\n",
       "      <td>1.0</td>\n",
       "      <td>2.0</td>\n",
       "      <td>1.0</td>\n",
       "      <td>1.0</td>\n",
       "      <td>1.0</td>\n",
       "      <td>1.0</td>\n",
       "      <td>0</td>\n",
       "    </tr>\n",
       "    <tr>\n",
       "      <th>680</th>\n",
       "      <td>5.0</td>\n",
       "      <td>10.0</td>\n",
       "      <td>10.0</td>\n",
       "      <td>3.0</td>\n",
       "      <td>7.0</td>\n",
       "      <td>3.0</td>\n",
       "      <td>8.0</td>\n",
       "      <td>10.0</td>\n",
       "      <td>2.0</td>\n",
       "      <td>1</td>\n",
       "    </tr>\n",
       "    <tr>\n",
       "      <th>681</th>\n",
       "      <td>4.0</td>\n",
       "      <td>8.0</td>\n",
       "      <td>6.0</td>\n",
       "      <td>4.0</td>\n",
       "      <td>3.0</td>\n",
       "      <td>4.0</td>\n",
       "      <td>10.0</td>\n",
       "      <td>6.0</td>\n",
       "      <td>1.0</td>\n",
       "      <td>1</td>\n",
       "    </tr>\n",
       "    <tr>\n",
       "      <th>682</th>\n",
       "      <td>4.0</td>\n",
       "      <td>8.0</td>\n",
       "      <td>8.0</td>\n",
       "      <td>5.0</td>\n",
       "      <td>4.0</td>\n",
       "      <td>5.0</td>\n",
       "      <td>10.0</td>\n",
       "      <td>4.0</td>\n",
       "      <td>1.0</td>\n",
       "      <td>1</td>\n",
       "    </tr>\n",
       "  </tbody>\n",
       "</table>\n",
       "<p>683 rows × 10 columns</p>\n",
       "</div>"
      ],
      "text/plain": [
       "     clump_thickness  cell_size_uniformity  cell_shape_uniformity  \\\n",
       "0                5.0                   1.0                    1.0   \n",
       "1                5.0                   4.0                    4.0   \n",
       "2                3.0                   1.0                    1.0   \n",
       "3                6.0                   8.0                    8.0   \n",
       "4                4.0                   1.0                    1.0   \n",
       "..               ...                   ...                    ...   \n",
       "678              3.0                   1.0                    1.0   \n",
       "679              2.0                   1.0                    1.0   \n",
       "680              5.0                  10.0                   10.0   \n",
       "681              4.0                   8.0                    6.0   \n",
       "682              4.0                   8.0                    8.0   \n",
       "\n",
       "     marginal_adhesion  single_epithelial_cell_size  bare_nuclei  \\\n",
       "0                  1.0                          2.0          1.0   \n",
       "1                  5.0                          7.0         10.0   \n",
       "2                  1.0                          2.0          2.0   \n",
       "3                  1.0                          3.0          4.0   \n",
       "4                  3.0                          2.0          1.0   \n",
       "..                 ...                          ...          ...   \n",
       "678                1.0                          3.0          2.0   \n",
       "679                1.0                          2.0          1.0   \n",
       "680                3.0                          7.0          3.0   \n",
       "681                4.0                          3.0          4.0   \n",
       "682                5.0                          4.0          5.0   \n",
       "\n",
       "     bland_chromatin  normal_nucleoli  mitoses  diagnose  \n",
       "0                3.0              1.0      1.0         0  \n",
       "1                3.0              2.0      1.0         0  \n",
       "2                3.0              1.0      1.0         0  \n",
       "3                3.0              7.0      1.0         0  \n",
       "4                3.0              1.0      1.0         0  \n",
       "..               ...              ...      ...       ...  \n",
       "678              1.0              1.0      1.0         0  \n",
       "679              1.0              1.0      1.0         0  \n",
       "680              8.0             10.0      2.0         1  \n",
       "681             10.0              6.0      1.0         1  \n",
       "682             10.0              4.0      1.0         1  \n",
       "\n",
       "[683 rows x 10 columns]"
      ]
     },
     "execution_count": 4,
     "metadata": {},
     "output_type": "execute_result"
    }
   ],
   "source": [
    "df=df.dropna()\n",
    "df"
   ]
  },
  {
   "cell_type": "markdown",
   "metadata": {},
   "source": [
    "__Extraer las matrices X e y__\n",
    "\n",
    "El DataFrame tiene la variable __values__ o el método __to_numpy()__ para volcar la información a un array de doble dimensión.\n",
    "\n",
    "La matriz __X__ está formada por las 9 primeras columnas y la __y__ es la columna 9. Se pueden extraer por posiciones:"
   ]
  },
  {
   "cell_type": "code",
   "execution_count": 5,
   "metadata": {},
   "outputs": [
    {
     "data": {
      "text/plain": [
       "((683, 9), (683,))"
      ]
     },
     "execution_count": 5,
     "metadata": {},
     "output_type": "execute_result"
    }
   ],
   "source": [
    "X = df.to_numpy()[:, 0:9]\n",
    "y = df.to_numpy()[:, 9]\n",
    "X.shape, y.shape"
   ]
  },
  {
   "cell_type": "markdown",
   "metadata": {},
   "source": [
    "__También se puede hacer usando los nombres de las columnas__"
   ]
  },
  {
   "cell_type": "code",
   "execution_count": 6,
   "metadata": {},
   "outputs": [
    {
     "name": "stdout",
     "output_type": "stream",
     "text": [
      "Index(['clump_thickness', 'cell_size_uniformity', 'cell_shape_uniformity',\n",
      "       'marginal_adhesion', 'single_epithelial_cell_size', 'bare_nuclei',\n",
      "       'bland_chromatin', 'normal_nucleoli', 'mitoses'],\n",
      "      dtype='object') diagnose\n"
     ]
    },
    {
     "data": {
      "text/plain": [
       "((683, 9), (683,))"
      ]
     },
     "execution_count": 6,
     "metadata": {},
     "output_type": "execute_result"
    }
   ],
   "source": [
    "columnX = df.columns[0:9]\n",
    "columnY = df.columns[9]\n",
    "print(columnX, columnY)\n",
    "X = df[columnX].to_numpy()\n",
    "#y = df[columnY].to_numpy()\n",
    "y = df['diagnose'].to_numpy()\n",
    "X.shape, y.shape"
   ]
  },
  {
   "cell_type": "markdown",
   "metadata": {},
   "source": [
    "### Estandarización de la matriz X"
   ]
  },
  {
   "cell_type": "code",
   "execution_count": 7,
   "metadata": {},
   "outputs": [
    {
     "data": {
      "text/html": [
       "<div>\n",
       "<style scoped>\n",
       "    .dataframe tbody tr th:only-of-type {\n",
       "        vertical-align: middle;\n",
       "    }\n",
       "\n",
       "    .dataframe tbody tr th {\n",
       "        vertical-align: top;\n",
       "    }\n",
       "\n",
       "    .dataframe thead th {\n",
       "        text-align: right;\n",
       "    }\n",
       "</style>\n",
       "<table border=\"1\" class=\"dataframe\">\n",
       "  <thead>\n",
       "    <tr style=\"text-align: right;\">\n",
       "      <th></th>\n",
       "      <th>clump_thickness</th>\n",
       "      <th>cell_size_uniformity</th>\n",
       "      <th>cell_shape_uniformity</th>\n",
       "      <th>marginal_adhesion</th>\n",
       "      <th>single_epithelial_cell_size</th>\n",
       "      <th>bare_nuclei</th>\n",
       "      <th>bland_chromatin</th>\n",
       "      <th>normal_nucleoli</th>\n",
       "      <th>mitoses</th>\n",
       "    </tr>\n",
       "  </thead>\n",
       "  <tbody>\n",
       "    <tr>\n",
       "      <th>0</th>\n",
       "      <td>0.197905</td>\n",
       "      <td>-0.702212</td>\n",
       "      <td>-0.741774</td>\n",
       "      <td>-0.639366</td>\n",
       "      <td>-0.555608</td>\n",
       "      <td>-0.698853</td>\n",
       "      <td>-0.181827</td>\n",
       "      <td>-0.612927</td>\n",
       "      <td>-0.3484</td>\n",
       "    </tr>\n",
       "    <tr>\n",
       "      <th>1</th>\n",
       "      <td>0.197905</td>\n",
       "      <td>0.277252</td>\n",
       "      <td>0.262783</td>\n",
       "      <td>0.758032</td>\n",
       "      <td>1.695166</td>\n",
       "      <td>1.772867</td>\n",
       "      <td>-0.181827</td>\n",
       "      <td>-0.285105</td>\n",
       "      <td>-0.3484</td>\n",
       "    </tr>\n",
       "    <tr>\n",
       "      <th>2</th>\n",
       "      <td>-0.511643</td>\n",
       "      <td>-0.702212</td>\n",
       "      <td>-0.741774</td>\n",
       "      <td>-0.639366</td>\n",
       "      <td>-0.555608</td>\n",
       "      <td>-0.424217</td>\n",
       "      <td>-0.181827</td>\n",
       "      <td>-0.612927</td>\n",
       "      <td>-0.3484</td>\n",
       "    </tr>\n",
       "    <tr>\n",
       "      <th>3</th>\n",
       "      <td>0.552679</td>\n",
       "      <td>1.583204</td>\n",
       "      <td>1.602192</td>\n",
       "      <td>-0.639366</td>\n",
       "      <td>-0.105454</td>\n",
       "      <td>0.125054</td>\n",
       "      <td>-0.181827</td>\n",
       "      <td>1.354008</td>\n",
       "      <td>-0.3484</td>\n",
       "    </tr>\n",
       "    <tr>\n",
       "      <th>4</th>\n",
       "      <td>-0.156869</td>\n",
       "      <td>-0.702212</td>\n",
       "      <td>-0.741774</td>\n",
       "      <td>0.059333</td>\n",
       "      <td>-0.555608</td>\n",
       "      <td>-0.698853</td>\n",
       "      <td>-0.181827</td>\n",
       "      <td>-0.612927</td>\n",
       "      <td>-0.3484</td>\n",
       "    </tr>\n",
       "  </tbody>\n",
       "</table>\n",
       "</div>"
      ],
      "text/plain": [
       "   clump_thickness  cell_size_uniformity  cell_shape_uniformity  \\\n",
       "0         0.197905             -0.702212              -0.741774   \n",
       "1         0.197905              0.277252               0.262783   \n",
       "2        -0.511643             -0.702212              -0.741774   \n",
       "3         0.552679              1.583204               1.602192   \n",
       "4        -0.156869             -0.702212              -0.741774   \n",
       "\n",
       "   marginal_adhesion  single_epithelial_cell_size  bare_nuclei  \\\n",
       "0          -0.639366                    -0.555608    -0.698853   \n",
       "1           0.758032                     1.695166     1.772867   \n",
       "2          -0.639366                    -0.555608    -0.424217   \n",
       "3          -0.639366                    -0.105454     0.125054   \n",
       "4           0.059333                    -0.555608    -0.698853   \n",
       "\n",
       "   bland_chromatin  normal_nucleoli  mitoses  \n",
       "0        -0.181827        -0.612927  -0.3484  \n",
       "1        -0.181827        -0.285105  -0.3484  \n",
       "2        -0.181827        -0.612927  -0.3484  \n",
       "3        -0.181827         1.354008  -0.3484  \n",
       "4        -0.181827        -0.612927  -0.3484  "
      ]
     },
     "execution_count": 7,
     "metadata": {},
     "output_type": "execute_result"
    }
   ],
   "source": [
    "from sklearn.preprocessing import StandardScaler\n",
    "scaler = StandardScaler()\n",
    "X_std = scaler.fit_transform(X)\n",
    "df_std = pd.DataFrame(X_std, columns = columnX)\n",
    "df_std.head()"
   ]
  },
  {
   "cell_type": "markdown",
   "metadata": {},
   "source": [
    "## Análisis de Componentes Principales\n",
    "Dado un conjunto de $N$ observaciones con $n$ características, cuya información está contenida en una matriz __X__ es posible proyectar los datos de todas las observaciones sobre una dirección que maximice la varianza. Esta dirección se denomina __componente principal__ y al maximizar la varianza es la que mejor explica todo el conjunto en una única dimensión.\n",
    "\n",
    "Como se puede ver en el siguiente gráfico, la recta con la componente principal, en color azul, además de maximizar la varianza, __minimiza la distancia a todas las observaciones__. En color amarillo, aparece la segunda componente principal, ortogonal a la anterior.\n",
    "\n",
    "Las __direcciones principales__ se obtienen a partir de los __autovectores__ $u_i$, ordenados por autovalor $\\lambda_i$ de la __matriz de covarianza__ $S$ de la matriz de características $X$:\n",
    "\n",
    "$$S=\\frac{1}{N}(X - \\bar{x})^T(X - \\bar{x})$$\n"
   ]
  },
  {
   "cell_type": "code",
   "execution_count": 40,
   "metadata": {
    "tags": [
     "hide-cell"
    ]
   },
   "outputs": [],
   "source": [
    "from sklearn.datasets import make_blobs\n",
    "from sklearn.decomposition import PCA\n",
    "\n",
    "def getOrdenadaRecta(vDir, Pto, lstX):\n",
    "    return [ Pto[1] + (vDir[1]/vDir[0])*(x - Pto[0]) for x in lstX]\n",
    "\n",
    "def mostrarGrafica():\n",
    "    ## Se genera un conjunto aleatorio\n",
    "    X, y = make_blobs(n_samples=100, n_features=2, centers=[[1,1],[6,3]])\n",
    "    ## Se obtienen las direcciones principales utilizando la clase PCA de sklearn\n",
    "    pca = PCA(n_components=None)\n",
    "    X_pca = pca.fit_transform(X)\n",
    "    Media = [np.sum(X[:,0])/len(X), np.sum(X[:,1])/len(X)]\n",
    "    x_c1 = np.linspace(min(X[:,0]), max(X[:,0]), 40)  ## abscisas de la recta de la dirección principal 1ª\n",
    "    y_c1 = getOrdenadaRecta(pca.components_[0], Media, x_c1) ## ordenadas de la recta de la dirección principal 1ª\n",
    "    x_c2 = np.linspace(2, 5, 40)  ## abscisas de la recta de la dirección principal 2ª\n",
    "    y_c2 = getOrdenadaRecta(pca.components_[1], Media, x_c2) ## ordenadas de la recta de la dirección principal 2ª\n",
    "\n",
    "    ## Se dibuja el resultado\n",
    "    color = ['red', 'green']\n",
    "    marcas = ['*', 'o']\n",
    "    plt.figure(figsize=(7, 5), dpi=80)\n",
    "    for i in np.unique(y):\n",
    "        plt.scatter(X[y==i,0], X[y==i,1], c=color[i], alpha=0.5, marker=marcas[i])\n",
    "    plt.plot(x_c1, y_c1, \"blue\", label=\"PCA 1\")\n",
    "    plt.plot(x_c2, y_c2, \"yellow\", label=\"PCA 2\")\n",
    "    plt.legend(loc='upper left')\n",
    "    plt.axis('equal')\n",
    "    plt.show()"
   ]
  },
  {
   "cell_type": "code",
   "execution_count": 41,
   "metadata": {},
   "outputs": [
    {
     "data": {
      "image/png": "[encoded data removed]",
      "text/plain": [
       "<Figure size 560x400 with 1 Axes>"
      ]
     },
     "metadata": {
      "needs_background": "light"
     },
     "output_type": "display_data"
    }
   ],
   "source": [
    "mostrarGrafica()"
   ]
  },
  {
   "cell_type": "markdown",
   "metadata": {},
   "source": [
    "El análisis de componentes principales (PCA) ({cite:p}`jolliffe1986generalizations`) es una transformación lineal sobre las $n$ componentes de la matriz __X__. La matriz __X__ está formada por $N$ observaciones $\\{x^1, ..., x^N\\}$ donde cada observación es un vector de $n$ componentes:\n",
    "$$x^i=(x^i_1, ..., x^i_n)$$\n",
    "\n",
    "Primero se proyecta los datos contenidos en __X__ sobre un espacio 1-dimensional de base $u_1=(u_{11},...,u_{1n})^T$. Hacemos que el vector sea ortonormal: $u_1^Tu_1=1$\n",
    "\n",
    "La proyección de cada observación vendrá dada por $u^T_1x^i$ . Y la varianza de los datos proyectados será:\n",
    "\n",
    "$$\\frac{1}{N} \\sum^N_{i=1} (u^T_1x^i - u^T_1 \\bar{x})^2 = u^T_1 S u_1$$\n",
    "\n",
    "Donde $\\bar{x}=\\frac{1}{N} \\sum^N_{i=1} x^i$ es el vector media de los datos y $S$ la matriz de covarianza de dimensión $n\\times n$\n",
    "\n",
    "$u_1$ será el primer componente principal si maximiza la varianza:\n",
    "\n",
    "$$\\max\\limits_{u_1} u^T_1 S u_1 \\; \\text{sujeto a} \\; u_1^Tu_1=1$$\n",
    "\n",
    "Optimización de una función de $n$ variables con condición que introduciendo el multiplicador de Lagrange $\\lambda_1$ :\n",
    "\n",
    "$$\\max\\limits_{u_1} u^T_1 S u_1 + \\lambda_1(1 - u_1^Tu_1)$$\n",
    "\n",
    "Se resuelve derivando con respecto a $u_1$ e igualando a cero:\n",
    "\n",
    "$$ S u_1=\\lambda_1 u_1$$\n",
    "\n",
    "Esta ecuación indica que $u_1$ y $\\lambda_1$ son respectivamente el autovector y autovalor de la matriz de covarianza $S$. Además si premultiplicamos la anterior ecuación por $u^T_1$ se ve que $\\lambda_1$ es la varianza:\n",
    "\n",
    "$$ u^T_1 S u_1=\\lambda_1$$\n",
    "\n",
    "La segunda componente principal $u_2$ será una nueva dirección ortonormal a $u_1$ con la máxima varianza de todas las posibles direcciones ortogonales. Dado que $S$ es una matriz simétrica $n \\times n$ siempre existirán $n$ autovectores ortonormales $u_i$ y como la varianza viene dada por los autovalores $\\lambda_i$, el procedimiento es:\n",
    "\n",
    "- Obtener la matriz de covarianza $S=\\frac{1}{N}(X - \\bar{x})^T(X - \\bar{x})$ a partir de $X$.\n",
    "- Calcular los autovectores $u_i$ de $S$ en orden de mayor a menor valor de los autovalores $\\lambda_i$.\n",
    "- Proyectar $X$ sobre las $K$ componentes principales deseadas\n",
    "\n",
    "El hecho de que los __autovalores__ contengan la varianza que explica cada dirección permite seleccionar tantas direcciones como se necesiten para __explicar un porcentaje dado de la varianza__."
   ]
  },
  {
   "cell_type": "code",
   "execution_count": 8,
   "metadata": {},
   "outputs": [
    {
     "data": {
      "text/html": [
       "<div>\n",
       "<style scoped>\n",
       "    .dataframe tbody tr th:only-of-type {\n",
       "        vertical-align: middle;\n",
       "    }\n",
       "\n",
       "    .dataframe tbody tr th {\n",
       "        vertical-align: top;\n",
       "    }\n",
       "\n",
       "    .dataframe thead th {\n",
       "        text-align: right;\n",
       "    }\n",
       "</style>\n",
       "<table border=\"1\" class=\"dataframe\">\n",
       "  <thead>\n",
       "    <tr style=\"text-align: right;\">\n",
       "      <th></th>\n",
       "      <th>sepal length (cm)</th>\n",
       "      <th>sepal width (cm)</th>\n",
       "      <th>petal length (cm)</th>\n",
       "      <th>petal width (cm)</th>\n",
       "      <th>target</th>\n",
       "    </tr>\n",
       "  </thead>\n",
       "  <tbody>\n",
       "    <tr>\n",
       "      <th>0</th>\n",
       "      <td>5.1</td>\n",
       "      <td>3.5</td>\n",
       "      <td>1.4</td>\n",
       "      <td>0.2</td>\n",
       "      <td>0</td>\n",
       "    </tr>\n",
       "    <tr>\n",
       "      <th>1</th>\n",
       "      <td>4.9</td>\n",
       "      <td>3.0</td>\n",
       "      <td>1.4</td>\n",
       "      <td>0.2</td>\n",
       "      <td>0</td>\n",
       "    </tr>\n",
       "    <tr>\n",
       "      <th>2</th>\n",
       "      <td>4.7</td>\n",
       "      <td>3.2</td>\n",
       "      <td>1.3</td>\n",
       "      <td>0.2</td>\n",
       "      <td>0</td>\n",
       "    </tr>\n",
       "    <tr>\n",
       "      <th>3</th>\n",
       "      <td>4.6</td>\n",
       "      <td>3.1</td>\n",
       "      <td>1.5</td>\n",
       "      <td>0.2</td>\n",
       "      <td>0</td>\n",
       "    </tr>\n",
       "    <tr>\n",
       "      <th>4</th>\n",
       "      <td>5.0</td>\n",
       "      <td>3.6</td>\n",
       "      <td>1.4</td>\n",
       "      <td>0.2</td>\n",
       "      <td>0</td>\n",
       "    </tr>\n",
       "  </tbody>\n",
       "</table>\n",
       "</div>"
      ],
      "text/plain": [
       "   sepal length (cm)  sepal width (cm)  petal length (cm)  petal width (cm)  \\\n",
       "0                5.1               3.5                1.4               0.2   \n",
       "1                4.9               3.0                1.4               0.2   \n",
       "2                4.7               3.2                1.3               0.2   \n",
       "3                4.6               3.1                1.5               0.2   \n",
       "4                5.0               3.6                1.4               0.2   \n",
       "\n",
       "   target  \n",
       "0       0  \n",
       "1       0  \n",
       "2       0  \n",
       "3       0  \n",
       "4       0  "
      ]
     },
     "execution_count": 8,
     "metadata": {},
     "output_type": "execute_result"
    }
   ],
   "source": [
    "from sklearn.datasets import load_iris\n",
    "import pandas as pd\n",
    "iris = load_iris()\n",
    "df = pd.DataFrame(iris.data, columns=iris.feature_names)\n",
    "df['target']=iris['target']\n",
    "df.head()"
   ]
  },
  {
   "cell_type": "code",
   "execution_count": 9,
   "metadata": {},
   "outputs": [
    {
     "data": {
      "text/plain": [
       "array([0.92461872, 0.05306648, 0.01710261, 0.00521218])"
      ]
     },
     "execution_count": 9,
     "metadata": {},
     "output_type": "execute_result"
    }
   ],
   "source": [
    "from sklearn.decomposition import PCA\n",
    "X = df.to_numpy()[:,0:4]\n",
    "y = df.to_numpy()[:,4]\n",
    "pca = PCA(n_components=None)\n",
    "X_pca = pca.fit_transform(X)\n",
    "Varianzas=pca.explained_variance_ratio_\n",
    "Varianzas"
   ]
  },
  {
   "cell_type": "markdown",
   "metadata": {},
   "source": [
    "En el siguiente gráfico se muestra la __varianza que explica cada dirección principal__ y la varianza __acumulada__ al elegir las primeras __k__ direcciones principales."
   ]
  },
  {
   "cell_type": "code",
   "execution_count": 10,
   "metadata": {},
   "outputs": [
    {
     "data": {
      "image/png": "[encoded data removed]",
      "text/plain": [
       "<Figure size 432x288 with 1 Axes>"
      ]
     },
     "metadata": {
      "needs_background": "light"
     },
     "output_type": "display_data"
    }
   ],
   "source": [
    "var_exp = pca.explained_variance_ratio_\n",
    "tot = len(var_exp)\n",
    "cum_var_exp = np.cumsum(var_exp)\n",
    "import matplotlib.pyplot as plt\n",
    "plt.bar(range(1,tot+1), var_exp, alpha=0.5, align='center',label='Varianza explicada inidividual')\n",
    "plt.step(range(1,tot+1), cum_var_exp, where='mid',label='Varianza explicada acumulada')\n",
    "plt.ylabel('Ratio de varianza explicada')\n",
    "plt.xlabel('Indice de Característica Principal')\n",
    "plt.legend(loc='best')\n",
    "plt.show()"
   ]
  },
  {
   "cell_type": "markdown",
   "metadata": {},
   "source": [
    "__Se eligen 2 componentes y se proyecta y se representa sobre esas 2 componentes__"
   ]
  },
  {
   "cell_type": "code",
   "execution_count": 11,
   "metadata": {},
   "outputs": [],
   "source": [
    "pca = PCA(n_components=2)\n",
    "X_pca = pca.fit_transform(X)"
   ]
  },
  {
   "cell_type": "code",
   "execution_count": 12,
   "metadata": {},
   "outputs": [
    {
     "data": {
      "image/png": "[encoded data removed]",
      "text/plain": [
       "<Figure size 432x288 with 1 Axes>"
      ]
     },
     "metadata": {
      "needs_background": "light"
     },
     "output_type": "display_data"
    }
   ],
   "source": [
    "colors = ['r', 'b', 'g']\n",
    "markers = ['s', 'x', 'o']\n",
    "for l, c, m in zip(np.unique(y), colors, markers):\n",
    "    plt.scatter(X_pca[y==l, 0], X_pca[y==l, 1], c=c, label=l, marker=m)\n",
    "plt.xlabel('PC 1')\n",
    "plt.ylabel('PC 2')\n",
    "plt.legend(loc='lower right')\n",
    "plt.show()"
   ]
  },
  {
   "cell_type": "markdown",
   "metadata": {},
   "source": [
    "__Se revisan los resultados haciendo los cálculos paso a paso__"
   ]
  },
  {
   "cell_type": "code",
   "execution_count": 13,
   "metadata": {},
   "outputs": [
    {
     "data": {
      "text/plain": [
       "array([4.22824171, 0.24267075, 0.0782095 , 0.02383509])"
      ]
     },
     "execution_count": 13,
     "metadata": {},
     "output_type": "execute_result"
    }
   ],
   "source": [
    "## Calculo de la matriz de covarianza\n",
    "## means = [ np.mean(X[:,i]) for i in range(X.shape[1])] ## Vector de medias\n",
    "## S = np.dot(np.transpose(X-means), X-means)/X.shape[0] ## Matriz de covarianza\n",
    "S = np.cov(X.T)  ## Función de Numpy\n",
    "## Calculo de los autovalores y autovectores\n",
    "eigen_vals, eigen_vecs = np.linalg.eig(S)\n",
    "eigen_vals"
   ]
  },
  {
   "cell_type": "code",
   "execution_count": 14,
   "metadata": {},
   "outputs": [
    {
     "data": {
      "image/png": "[encoded data removed]",
      "text/plain": [
       "<Figure size 432x288 with 1 Axes>"
      ]
     },
     "metadata": {
      "needs_background": "light"
     },
     "output_type": "display_data"
    }
   ],
   "source": [
    "var_exp = eigen_vals / np.sum(eigen_vals)  ## Calculamos en ratio\n",
    "tot = len(var_exp)\n",
    "cum_var_exp = np.cumsum(var_exp)\n",
    "import matplotlib.pyplot as plt\n",
    "plt.bar(range(1,tot+1), var_exp, alpha=0.5, align='center',label='Varianza explicada inidividual')\n",
    "plt.step(range(1,tot+1), cum_var_exp, where='mid',label='Varianza explicada acumulada')\n",
    "plt.ylabel('Ratio de varianza explicada')\n",
    "plt.xlabel('Indice de Característica Principal')\n",
    "plt.legend(loc='best')\n",
    "plt.show()"
   ]
  },
  {
   "cell_type": "markdown",
   "metadata": {},
   "source": [
    "El __método de componentes principales no está dirigido a seleccionar las características de la matriz inicial X__ con más varianza, sino que permiten proyectar sobre un nuevo espacio K-dimensional eligiendo las dimensiones que garantizan un ratio de la varianza total."
   ]
  },
  {
   "cell_type": "markdown",
   "metadata": {},
   "source": [
    "## Matriz de correlación y gráfico de dispersión entre características\n",
    "\n",
    "Aunque está más dirigido a los problemas de regresión entre variables continuas, es posible hacer un estudio de que __caracteristicas se correlacionan mejor entre sí__ o bien a traves de la __matriz de correlación__ o dibujando el __gráfico de dispersión 2 a 2__ de todas las características de __X__\n",
    "\n",
    "_Por ejemplo en el conjunto Iris la matriz de correlación entre las 4 características de la matriz_ __X__ y el __grafico de dispersión entre las características__ es:"
   ]
  },
  {
   "cell_type": "code",
   "execution_count": 15,
   "metadata": {},
   "outputs": [
    {
     "data": {
      "text/html": [
       "<div>\n",
       "<style scoped>\n",
       "    .dataframe tbody tr th:only-of-type {\n",
       "        vertical-align: middle;\n",
       "    }\n",
       "\n",
       "    .dataframe tbody tr th {\n",
       "        vertical-align: top;\n",
       "    }\n",
       "\n",
       "    .dataframe thead th {\n",
       "        text-align: right;\n",
       "    }\n",
       "</style>\n",
       "<table border=\"1\" class=\"dataframe\">\n",
       "  <thead>\n",
       "    <tr style=\"text-align: right;\">\n",
       "      <th></th>\n",
       "      <th>Correlación</th>\n",
       "      <th>sepal length (cm)</th>\n",
       "      <th>sepal width (cm)</th>\n",
       "      <th>petal length (cm)</th>\n",
       "      <th>petal width (cm)</th>\n",
       "    </tr>\n",
       "  </thead>\n",
       "  <tbody>\n",
       "    <tr>\n",
       "      <th>0</th>\n",
       "      <td>sepal length (cm)</td>\n",
       "      <td>1.000000</td>\n",
       "      <td>-0.117570</td>\n",
       "      <td>0.871754</td>\n",
       "      <td>0.817941</td>\n",
       "    </tr>\n",
       "    <tr>\n",
       "      <th>1</th>\n",
       "      <td>sepal width (cm)</td>\n",
       "      <td>-0.117570</td>\n",
       "      <td>1.000000</td>\n",
       "      <td>-0.428440</td>\n",
       "      <td>-0.366126</td>\n",
       "    </tr>\n",
       "    <tr>\n",
       "      <th>2</th>\n",
       "      <td>petal length (cm)</td>\n",
       "      <td>0.871754</td>\n",
       "      <td>-0.428440</td>\n",
       "      <td>1.000000</td>\n",
       "      <td>0.962865</td>\n",
       "    </tr>\n",
       "    <tr>\n",
       "      <th>3</th>\n",
       "      <td>petal width (cm)</td>\n",
       "      <td>0.817941</td>\n",
       "      <td>-0.366126</td>\n",
       "      <td>0.962865</td>\n",
       "      <td>1.000000</td>\n",
       "    </tr>\n",
       "  </tbody>\n",
       "</table>\n",
       "</div>"
      ],
      "text/plain": [
       "         Correlación  sepal length (cm)  sepal width (cm)  petal length (cm)  \\\n",
       "0  sepal length (cm)           1.000000         -0.117570           0.871754   \n",
       "1   sepal width (cm)          -0.117570          1.000000          -0.428440   \n",
       "2  petal length (cm)           0.871754         -0.428440           1.000000   \n",
       "3   petal width (cm)           0.817941         -0.366126           0.962865   \n",
       "\n",
       "   petal width (cm)  \n",
       "0          0.817941  \n",
       "1         -0.366126  \n",
       "2          0.962865  \n",
       "3          1.000000  "
      ]
     },
     "execution_count": 15,
     "metadata": {},
     "output_type": "execute_result"
    }
   ],
   "source": [
    "df_cov = pd.DataFrame(np.corrcoef(X.T), columns=iris.feature_names)\n",
    "df_cov.insert(loc=0, column='Correlación', value=iris.feature_names)\n",
    "df_cov"
   ]
  },
  {
   "cell_type": "markdown",
   "metadata": {},
   "source": [
    "__Gráfico de dispersión entre características__"
   ]
  },
  {
   "cell_type": "code",
   "execution_count": 26,
   "metadata": {},
   "outputs": [
    {
     "data": {
      "image/png": "[encoded data removed]",
      "text/plain": [
       "<Figure size 864x648 with 16 Axes>"
      ]
     },
     "metadata": {
      "needs_background": "light"
     },
     "output_type": "display_data"
    }
   ],
   "source": [
    "axes=pd.plotting.scatter_matrix(df[iris.feature_names], figsize=(12,9))"
   ]
  },
  {
   "cell_type": "code",
   "execution_count": null,
   "metadata": {},
   "outputs": [],
   "source": []
  }
 ],
 "metadata": {
  "celltoolbar": "Tags",
  "kernelspec": {
   "display_name": "Python 3 (ipykernel)",
   "language": "python",
   "name": "python3"
  },
  "language_info": {
   "codemirror_mode": {
    "name": "ipython",
    "version": 3
   },
   "file_extension": ".py",
   "mimetype": "text/x-python",
   "name": "python",
   "nbconvert_exporter": "python",
   "pygments_lexer": "ipython3",
   "version": "3.9.7"
  }
 },
 "nbformat": 4,
 "nbformat_minor": 4
}

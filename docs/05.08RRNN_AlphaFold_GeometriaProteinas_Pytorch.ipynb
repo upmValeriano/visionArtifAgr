{
 "cells": [
  {
   "cell_type": "markdown",
   "id": "5769b87e",
   "metadata": {},
   "source": [
    "# AlphaFold. Geometria de las Proteinas\n",
    "\n",
    "## Introducción\n",
    "El problema del __plegamiento de proteínas__ se refiere a cómo las proteínas se presentan en sus formas finales y dicta su estructura tridimensional a partir de la secuencia de aminoácidos.\n",
    "\n",
    "La secuencia de proteínas, el orden de los aminoácidos y las propiedades electromagnéticas de cada aminoácido determinan la forma final de las proteínas. Además, dado que hay 20 tipos diferentes de aminoácidos, la secuencia de proteínas se puede expresar simplemente como una combinación de 20 símbolos únicos.\n",
    "\n",
    "El problema del plegamiento de proteínas se ha tratado con varios métodos __computacionales utilizando modelos basados en plantillas__ (basados en la idea de que secuencias similares conducen a estructuras similares), __enfoques de ensamblaje de fragmentos__, etc. En el último enfoque, una secuencia de proteínas objetivo se deconstruyó en pequeños fragmentos superpuestos, y la base de datos se examinó para identificar estructuras conocidas de secuencias de fragmentos similares que luego se ensamblan en una predicción de longitud completa. Aunque el último método demostró ser exitoso, se considera ineficiente ya que lleva demasiado tiempo de computación.\n",
    "\n",
    "Aquí es donde aparecen los \"__datos de covariación evolutiva__\" y mejoran la precisión de las predicciones de estructura. AlphaFold 1 se define como un \"método dependiente de la coevolución\".\n",
    "\n",
    "__Coevolución de proteínas__\n",
    "\n",
    "Los puntos de contacto juegan un papel crucial en el mantenimiento de la estructura 3D general de las proteínas. Las interacciones electroquímicas de un __par de aminoácidos forman estos puntos de contacto__. Sin embargo, la mutación puede ocurrir y cambiar uno de estos aminoácidos durante la evolución, y en consecuencia cambiar la estructura y función de la proteína. Es por eso que, en general, cuando uno de estos aminoácidos se modifica, el otro par también se ajusta para mantener propiedades electromagnéticas similares que mantendrán la forma de la proteína sin cambios. En esta situación, decimos que un par de aminoácidos __coevolucionaron__. Después de un reemplazo, la coevolución tiende a equilibrar la proteína al cambio.\n",
    "\n",
    "si desea buscar interacciones de aminoácidos relevantes que contribuyan a la estructura (y función) de las proteínas, debe buscar pares de aminoácidos que hayan coevolucionado.\n",
    "\n",
    "La covariación de aminoácidos se puede encontrar analizando un gran número de bases de datos de secuencias. La __alineación de secuencias múltiples o programas MSA__ se utilizan para alinear varias secuencias de aminoácidos de familias de proteínas de diferentes especies y examinar la correlación entre los aminoácidos. Este análisis informa la correlación en pares de posiciones que pueden contribuir a la forma de la proteína.\n",
    "\n",
    "AlphaFold no solo busca el punto de contacto, sino que predice la __distancia entre los aminoácidos__ en una proteína y la __distribución de probabilidad__ de la distancia predicha.\n",
    "\n",
    "En la siguiente imagen del artículo AlphaFold 1 ({cite:p}`senior2020improved`) se puede ver que cada píxel en el mapa de distancia representa una distribución de probabilidad. DeepMind, la empresa desarrolladora de AlphaFold, llama a esto un distograma. En concreto es el __distograma de la proteina CASP T0955__ (longitud = 41):\n",
    "\n",
    "<img src=\"images/alphafold_net2.png\" width=\"550px\">\n",
    "\n",
    "- __(a)__ Estructura nativa que muestra distancias inferiores a 8 $\\mathring{A}$ desde $C_{\\beta}$ del residuo 29.\n",
    "- __(b)__ Distancia de inter-residuos nativos.\n",
    "- __(c)__ La moda de las predicciones de distancia, resaltando el residuo 29.\n",
    "- __(d)__ Las distribuciones de probabilidad previstas para las distancias del residuo 29 a todos los demás residuos.\n",
    "\n",
    "Puede verse que las modas de la distribución (c) coinciden estrechamente con las distancias reales (b). "
   ]
  },
  {
   "cell_type": "markdown",
   "id": "856eb039",
   "metadata": {},
   "source": [
    "__AlphaFold 1__ representa estructuras 3D como un __par de ángulos de torsión entre aminoácidos__. Incluso cuando una proteína está en un estado plegado, los bloques básicos, la estructura del aminoácido permanece sin cambios. Sin embargo, el ángulo de torsión entre un aminoácido y el otro cambia. AlphaFold calcula la __distribución de probabilidad de los ángulos de torsión__ de los aminoácidos. \n",
    "\n",
    "<img src=\"images/alphafold_net4.png\" width=\"500px\">\n",
    "\n",
    "En el __primer paso__, AlphaFold 1 recibe datos y secuencia de aminoácidos de una proteína objetivo y entrena una red convolucional (con conjunto de datos PDB) para encontrar:\n",
    "1. El __distograma__ de la proteína \n",
    "2. La distribución de probabilidad del ángulo de __torsión__.\n",
    "\n",
    "<img src=\"images/alphafold_net5.png\" width=\"500px\">\n",
    "\n",
    "En el __segundo paso__, AlphaFold 1 ejecuta una iteración de __gradiente descenso de la función potencial__ de la proteina.\n",
    "\n",
    "Construye una __función potencial específicia__ \n",
    "\n",
    "$$V(\\phi,\\psi)=V_{distance}(\\phi,\\psi)+V_{torsion}(\\phi,\\psi)+V_{score2-smooth}(\\phi,\\psi)$$\n",
    "\n",
    "A partir de:\n",
    "\n",
    "1. __Potencial de distancia__($V_{distance}(\\phi,\\psi)$): cruzando los angulos de torsión y el distograma predicho por la red convolucional.\n",
    "2. __Potencial geométrico__($V_{torsion}(\\phi,\\psi)$): cruzando la estructura predicha inicialmente y distribución de torsión.\n",
    "3. __Potencial suave__($V_{score2-smooth}(\\phi,\\psi)$): La estructura de aminoácidos tiene una estructura de columna vertebral y cadenas laterales. Sin embargo, cuando AlphaFold 1 predice la estructura inicial, se hace utilizando solo la estructura de la columna vertebral, y no se considera si existe o no una cadena lateral. Por lo tanto, AlphaFold incorpora el término __Van der Waals__ para evitar choques estéricos, porque los residuos no chocan entre sí. Esto se conoce como el __potencial suave__.\n",
    "\n",
    "<img src=\"images/alphafold_net6.png\" width=\"700px\">\n",
    "\n",
    "El __último paso__ es encontrar por iteración una solución óptima que minimice la función potencial correspondiente. AlphaFold 1 utiliza la minimización del __descenso de gradiente__ para obtener estructuras de proteínas bien empaquetadas. La estructura de __menor potencial__ se almacena como la __mejor solución__ de la iteración como una de las respuestas esperadas.\n",
    "\n",
    "Si solo confía en la estructura inicial, puede caer en mínimos locales, por lo que también se agregará __ruido__. El valor óptimo de esa iteración también se almacena como una respuesta esperada.\n",
    "\n",
    "<img src=\"images/alphafold_net7.png\" width=\"400px\">"
   ]
  },
  {
   "cell_type": "markdown",
   "id": "baf2f682",
   "metadata": {
    "id": "baf2f682"
   },
   "source": [
    "La predicción de la estructura de proteínas tiene como objetivo determinar la forma tridimensional de una proteína a partir de su secuencia de aminoácidos. En 2018 __AlphaFold 1__ ({cite:p}`senior2020improved`) participó junto a 97 grupos en una competición bienal para predecir la estructura de 84 secuencias de proteinas cuya estructura se determinó experimentalmente.\n",
    "\n",
    "Dividieron las proteinas en 104 dominios y clasificaron cada uno como supceptible al modelado basado en plantillas (TBM), modelado libre (FM) o intermedio (TBM/FM). AlphaFold predijo más dominios FM con alta precisión que cualquier otro sistema. \n",
    "\n",
    "<img src=\"images/alphafold_net1.png\" width=\"700px\">\n",
    "\n",
    "El proceso de plegado para el objetivo de CASP13 identificado como __T0986s2__ (cuya longitud es L=155) es:\n",
    "\n",
    "- __(a)__ Pasos de la predicción de estructuras.\n",
    "- __(b)__ La red neuronal predice todo el distograma __LxL__ en función de las características de MSA, acumulando predicciones separadas para residuos 64x64\n",
    "- __(c)__ Iteración de gradiente descenso (1200 pasos) con la puntuación TM y RMSD graficadas contra el número de pasos. También se muestra la estructura secundaria (de SST30) (hélice en azul, hebra en rojo) junto con la estructura secundaria nativa (SS), las probabilidades de predicción de la estructura secundaria de la red y la incertidumbre en las predicciones del ángulo de torsión ($K^{-1}$ de la distribución de von Mises).\n",
    "- __(d)__ muestra la primera presentación final superpuesta a la estructura nativa (en gris).\n",
    "- __(e)__ muestra el puntaje TM promedio (a través del conjunto de prueba, n = 377) de la estructura de potencial más bajo contra el número de repeticiones de descenso de gradiente (escala logarítmica).\n",
    "\n",
    "El componente central de AlphaFold es una red neuronal convolucional que se entrena en estructuras PDB para \n",
    "predecir las distancias $d_{ij}$ entre los átomos de $C_{\\beta}$ de los pares, $ij$, de los 96 residuos de una proteína. Basado en una representación de la secuencia de aminoácidos de la proteína, $\\mathcal{S}$, y características derivadas de la secuencia MSA, la red, de estructura similar a las utilizadas para el reconocimiento de imágenes, predice una distribución de probabilidad discreta $P(d_{ij} | \\mathcal{S}, MSA(\\mathcal{S}))$ para cada par $ij$ en una región de residuos de 64x64.\n",
    "\n",
    "El conjunto completo de predicciones de distribución de distancia se construye promediando predicciones para regiones superpuestas y se denomina __distograma__ (\"_histograma de distancias_\")."
   ]
  },
  {
   "cell_type": "markdown",
   "id": "b3eb2501",
   "metadata": {
    "id": "b3eb2501"
   },
   "source": [
    "Para realizar estructuras que se ajusten a las predicciones de distancia, se contruye una $V_{distancia}$ de potencial suave, ajustando un sp-line a las probabilidades logarítmicas negativas y sumando todos los pares de residuos. Se parametrizan las estructuras proteicas por los ángulos de torsión del esqueleto $(\\phi, \\psi)$ de todos los residuos y se construye una función diferenciable de la geometría de la proteina $x=G(\\phi, \\psi)$ para calcular las coordenadas de $C_{\\beta}$, $x$, y sus distancias inter-residuo, $d_{ij}=|x_i-x_j|$, para cada estructura, y expresar $V_{distancia}$ como una función de $\\phi$ y $\\psi$.\n",
    "\n",
    "Para una proteína con $L$ residuos, este potencial acumula $L^2$ términos de predicciones de distribución marginal, donde $L$ es la longitud de la proteina.\n",
    "\n",
    "La distribución de referencia modela las distribuciones de distancia $P(d_{ij} | L)$ independientemente de la secuencia de la proteína y se calcula entrenando una versión pequeña de la red neuronal con las predicciones de la distancia en las mismas estructuras, sin características de entrada de secuencia o __MSA__.\n",
    "\n",
    "Se entrena una cabecera de salida separada de la red de predicción de contacto para predecir distribuciones de probabilidad discretas de los ángulos de torsión de la columna vertebral $P(\\phi_i, \\psi_j | S, MSA(S))$. Después de ajustar una distribución de von Mises, esto se usa para agregar un término de modelado de torsión suave $V_{torsion}$ al potencial:\n",
    "\n",
    "$$V_{torsion} = - \\displaystyle\\sum log p_{vonMises} (\\phi_i, \\psi_j | S, MSA(S)) $$\n",
    "\n",
    "Finalmente, para evitar choques estéricos, se agrega el $V_{score2-suave}$ de Rosetta al potencial, ya que incorpora un término de van der Waals. "
   ]
  },
  {
   "cell_type": "markdown",
   "id": "0103a323",
   "metadata": {
    "id": "0103a323"
   },
   "source": [
    "{cite:p}`senior2020improved` proporcionan un código ejecutado con la arquitectura Tensorflow que permite predecir proteinas estructuradas en CASP13. Es la versión oficial inicial o __AlphaFold 1__, el enlace es:\n",
    "\n",
    "https://github.com/deepmind/deepmind-research/tree/master/alphafold_casp13\n",
    "\n",
    "Una __versión 2__ se encuentra en:\n",
    "\n",
    "https://github.com/deepmind/alphafold\n",
    "\n",
    "Hemos utilizado una versión de  __AlphaFold 1 en PyTorch__, con las adaptaciones necesarias a Jupyter. Que puede ejecutarse tanto en CPU, como GPU:\n",
    "\n",
    "https://github.com/Urinx/alphafold_pytorch\n",
    "\n",
    "Únicamente la función de lectura de ficheros TFREC (__tfrec_read__) está sin migrar a PyTorch y requiere de la instalación de TensorFlow.\n",
    "\n",
    "No aparece publicada la función de pérdida, por lo que no es posible construir el modelo de entrenamiento. Por contra {cite:p}`senior2020improved` proporcionan los modelos entrenados en:\n",
    "\n",
    "http://bit.ly/alphafold-casp13-weights"
   ]
  },
  {
   "cell_type": "markdown",
   "id": "e61c6ec1",
   "metadata": {},
   "source": [
    "### Alcance del cuaderno\n",
    "\n",
    "El alcance del cuaderno es una versión abreviada del código abierto que muestran los autores de __AlphaFold 1__, donde únicamente se modela el __primer paso del algoritmo hasta obtener los distogramas__. \n",
    "\n",
    "Esta versión abreviada se ciñe a la rutina __run_eval__ de https://github.com/deepmind/deepmind-research/tree/master/alphafold_casp13, no implementado la ejecución ensamblada contra varias que aparece en __run_ensamble__"
   ]
  },
  {
   "cell_type": "code",
   "execution_count": 1,
   "id": "98a3ac87",
   "metadata": {
    "id": "98a3ac87"
   },
   "outputs": [],
   "source": [
    "import os\n",
    "import numpy as np\n",
    "import itertools\n",
    "import math, random\n",
    "import torch\n",
    "from torch.utils.data import Dataset, DataLoader\n",
    "from torchvision import transforms, utils\n",
    "from pathlib import Path"
   ]
  },
  {
   "cell_type": "code",
   "execution_count": 2,
   "id": "d893d6ae",
   "metadata": {
    "id": "d893d6ae"
   },
   "outputs": [],
   "source": [
    "googleColaboratory=False\n",
    "modoEvaluacion=False"
   ]
  },
  {
   "cell_type": "code",
   "execution_count": 3,
   "id": "0e654a2d",
   "metadata": {
    "colab": {
     "base_uri": "https://localhost:8080/"
    },
    "id": "0e654a2d",
    "outputId": "451dff5f-98f3-4477-f09e-dd2d8e587bc2"
   },
   "outputs": [
    {
     "name": "stdout",
     "output_type": "stream",
     "text": [
      "C:\\Users\\valer_z\\Proyectos Python\\Cuadernos clase AA\\data\\alphafold\n"
     ]
    }
   ],
   "source": [
    "if googleColaboratory:\n",
    "    from google.colab import drive\n",
    "    drive.mount('/content/drive/')\n",
    "path = Path(\"/content/drive/MyDrive/Colab Notebooks/data/alphafold\") if googleColaboratory else Path(\"./data/alphafold\")\n",
    "print(path.absolute())"
   ]
  },
  {
   "cell_type": "markdown",
   "id": "9a776f8d",
   "metadata": {
    "id": "9a776f8d"
   },
   "source": [
    "## Creación de Datasets y Dataloaders"
   ]
  },
  {
   "cell_type": "markdown",
   "id": "ed603d02",
   "metadata": {
    "id": "ed603d02"
   },
   "source": [
    "### Definición de las características del modelo\n",
    "\n",
    "El modelo incorpora las siguientes características:\n",
    "\n",
    "- __aatype__ : Una codificación activa de tipos de aminoácidos. La asignación es ARNDCQEGHILKMFPSTWYVX -> rango (21). \n",
    "- __alpha_mask__ : Máscara para alpha_positions.\n",
    "- __alpha_positions__ : (x, y, z) Coordenadas alfa de carbono.\n",
    "- __beta_mask__ : Máscara para beta_positions.\n",
    "- __beta_positions__ : (x, y, z) Coordenadas beta de carbono.\n",
    "- __between_segment_residues__ : El número de residuos entre segmentos (BSR) en la siguiente posición. P.ej. ABCXXD (XX es BSR) sería [0,0,2,0].\n",
    "- __chain_name__ : El nombre de la cadena. P.ej. 'A', 'B', ...\n",
    "- __deletion_probability__ : La fracción de secuencias que tuvieron una eliminación en esta posición. \n",
    "- __domain_name__ :  El nombre de dominio.\n",
    "- __gap_matrix__ : (NR, NR, 1) Señal de covariación de los estados separados, esto da una indicación de la varianza inducida debido a los estados separados.\n",
    "- __hhblits_profile__ : float32 (NR, 22) Un perfil (distribución de probabilidad sobre tipos de aminoácidos) calculado usando HHBlits MSA. Codificación: 20 aminoácidos + 'X' + '-'.\n",
    "- __hmm_profile__ : (NR, 30) El perfil HHBlits HHM (del archivo de salida -ohhm HHBlits). Los asteriscos en la salida se reemplazan por 0.0.\n",
    "- __key__ : La identificación única de la proteína.\n",
    "- __mutual_information__ : (NR, NR, 1) La información mutua corregida del producto promedio. Ver https://doi.org/10.1093/bioinformatics/btm604.\n",
    "- __non_gapped_profile__ : (NR, 21) Un perfil solo de aminoácidos (descontando espacios). \n",
    "- __num_alignments__ : (NR, 1) El número de alineaciones de secuencias múltiples de HHBlits. Tiene que ser repetido NR veces.\n",
    "- __num_efective_alignments__ : El número de alineaciones efectivas (neff al 62 % de similitud de secuencia).\n",
    "- __phi_angles__ : (NR, 1) Los ángulos phi.\n",
    "- __phi_mask__ : (NR, 1) Máscara para phi_angles.\n",
    "- __perfil__ : (NR, 21) Un perfil (distribución de probabilidad sobre tipos de aminoácidos) calculado usando PSI-BLAST. Equivalente a la salida de ChkParse.\n",
    "- __profile_with_prior__ : (NR, 22) Un perfil calculado usando HHBlits que tiene en cuenta las previas y la matriz Blosum. Ver ecuación 5 en https://doi.org/10.1093/nar/25.17.3389.\n",
    "- __profile_with_prior_without_gaps__ : (NR, 21) Igual que profile_with_prior pero sin espacios incluidos.\n",
    "- __pseudo_bias__ : (NR, 22) El sesgo calculado en el cálculo de pseudoverosimilitud de MSA.\n",
    "- __pseudo_frob__ : (NR, NR, 1) Norma de pseudoverosimilitud de Frobenius (brechas no incluidas). Similar a la salida de CCMPred.\n",
    "- __pseudolikelihood__ : (NR, NR, 484) Los pesos calculados en el cálculo de pseudoverosimilitud de MSA.\n",
    "- __psi_angles__ : (NR, 1) Los ángulos psi.\n",
    "- __psi_mask__ : (NR, 1) Máscara para psi_angles.\n",
    "- __residuo_index__ : (NR, 1) Índice de cada residuo de 0 a NR - 1. Ver más abajo.\n",
    "- __resolution__ : La resolución de la estructura de la proteína.\n",
    "- __reweighted_profile__ : (NR, 22) Perfil donde las secuencias se vuelven a ponderar para ponderar más las secuencias más raras. Vea abajo.\n",
    "- __sec_structure__ : (NR, 8) Estructura secundaria generada por DSSP y codificada one-hot por el mapeo -HETSGBI -> range(8).\n",
    "- __sec_structure_mask__ : (NR, 1) Máscara para sec_structure_mask.\n",
    "- __seq_length__ : (NR, 1) La longitud de la secuencia de aminoácidos. Tiene que ser repetido NR veces. Vea abajo.\n",
    "- __sequence__ : La secuencia de aminoácidos (codificación de aminoácidos de 1 letra). Vea abajo.\n",
    "- __solv_surf__ : (NR, 1) Área relativa accesible al solvente calculada usando DSSP y luego normalizada por la accesibilidad máxima de aminoácidos.\n",
    "- __solv_surf_mask__ : (NR, 1) Máscara para solv_surf.\n",
    "- __superfamily__ : El código CATH de la superfamilia.\n",
    "\n",
    "Para más detalle:\n",
    "\n",
    "\n",
    "https://github.com/deepmind/deepmind-research/blob/master/alphafold_casp13/README.md\n"
   ]
  },
  {
   "cell_type": "code",
   "execution_count": 4,
   "id": "c6b1ba92",
   "metadata": {
    "editable": true,
    "id": "c6b1ba92",
    "slideshow": {
     "slide_type": ""
    },
    "tags": [
     "hide-cell"
    ]
   },
   "outputs": [],
   "source": [
    "import json\n",
    "import pickle\n",
    "import collections\n",
    "import numpy as np\n",
    "import torch\n",
    "from torch.utils.data import DataLoader, Dataset\n",
    "\n",
    "NUM_RES = None\n",
    "FEATURES = {\n",
    "    'aatype': ('float32', [NUM_RES, 21]),\n",
    "    'alpha_mask': ('int64', [NUM_RES, 1]),\n",
    "    'alpha_positions': ('float32', [NUM_RES, 3]),\n",
    "    'beta_mask': ('int64', [NUM_RES, 1]),\n",
    "    'beta_positions': ('float32', [NUM_RES, 3]),\n",
    "    'between_segment_residues': ('int64', [NUM_RES, 1]),\n",
    "    'chain_name': ('string', [1]),\n",
    "    'deletion_probability': ('float32', [NUM_RES, 1]),\n",
    "    'domain_name': ('string', [1]),\n",
    "    'gap_matrix': ('float32', [NUM_RES, NUM_RES, 1]),\n",
    "    'hhblits_profile': ('float32', [NUM_RES, 22]),\n",
    "    'hmm_profile': ('float32', [NUM_RES, 30]),\n",
    "    'key': ('string', [1]),\n",
    "    'mutual_information': ('float32', [NUM_RES, NUM_RES, 1]),\n",
    "    'non_gapped_profile': ('float32', [NUM_RES, 21]),\n",
    "    'num_alignments': ('int64', [NUM_RES, 1]),\n",
    "    'num_effective_alignments': ('float32', [1]),\n",
    "    'phi_angles': ('float32', [NUM_RES, 1]),\n",
    "    'phi_mask': ('int64', [NUM_RES, 1]),\n",
    "    'profile': ('float32', [NUM_RES, 21]),\n",
    "    'profile_with_prior': ('float32', [NUM_RES, 22]),\n",
    "    'profile_with_prior_without_gaps': ('float32', [NUM_RES, 21]),\n",
    "    'pseudo_bias': ('float32', [NUM_RES, 22]),\n",
    "    'pseudo_frob': ('float32', [NUM_RES, NUM_RES, 1]),\n",
    "    'pseudolikelihood': ('float32', [NUM_RES, NUM_RES, 484]),\n",
    "    'psi_angles': ('float32', [NUM_RES, 1]),\n",
    "    'psi_mask': ('int64', [NUM_RES, 1]),\n",
    "    'residue_index': ('int64', [NUM_RES, 1]),\n",
    "    'resolution': ('float32', [1]),\n",
    "    'reweighted_profile': ('float32', [NUM_RES, 22]),\n",
    "    'sec_structure': ('int64', [NUM_RES, 8]),\n",
    "    'sec_structure_mask': ('int64', [NUM_RES, 1]),\n",
    "    'seq_length': ('int64', [NUM_RES, 1]),\n",
    "    'sequence': ('string', [1]),\n",
    "    'solv_surf': ('float32', [NUM_RES, 1]),\n",
    "    'solv_surf_mask': ('int64', [NUM_RES, 1]),\n",
    "    'superfamily': ('string', [1]),\n",
    "}\n",
    "Protein = collections.namedtuple('Protein', ['len', 'seq', 'inputs_1d', 'inputs_2d', 'inputs_2d_diagonal', 'scalars', 'targets'])"
   ]
  },
  {
   "cell_type": "markdown",
   "id": "20129d5e",
   "metadata": {
    "id": "20129d5e"
   },
   "source": [
    "### Lectura de los ficheros tfrec, pkl y config\n",
    "\n",
    "La función __tfrec_read__ necesita la librería TensorFlow."
   ]
  },
  {
   "cell_type": "code",
   "execution_count": 5,
   "id": "f1de0d70",
   "metadata": {},
   "outputs": [],
   "source": [
    "#!pip install tensorflow"
   ]
  },
  {
   "cell_type": "code",
   "execution_count": 6,
   "id": "34076d71",
   "metadata": {
    "editable": true,
    "id": "34076d71",
    "slideshow": {
     "slide_type": ""
    },
    "tags": [
     "hide-cell"
    ]
   },
   "outputs": [],
   "source": [
    "def tfrec_read(tfrec_file):\n",
    "    import tensorflow as tf\n",
    "    import os\n",
    "    os.environ[\"TF_CPP_MIN_LOG_LEVEL\"] = \"2\"\n",
    "\n",
    "    features = [\n",
    "        'aatype',\n",
    "        'beta_mask',\n",
    "        'beta_positions',\n",
    "        'between_segment_residues',\n",
    "        'chain_name',\n",
    "        'deletion_probability',\n",
    "        'domain_name',\n",
    "        'gap_matrix',\n",
    "        'hhblits_profile',\n",
    "        'hmm_profile',\n",
    "        'non_gapped_profile',\n",
    "        'num_alignments',\n",
    "        'num_effective_alignments',\n",
    "        'profile',\n",
    "        'profile_with_prior',\n",
    "        'profile_with_prior_without_gaps',\n",
    "        'pseudo_bias',\n",
    "        'pseudo_frob',\n",
    "        'pseudolikelihood',\n",
    "        'residue_index',\n",
    "        'resolution',\n",
    "        'reweighted_profile',\n",
    "        'sec_structure',\n",
    "        'sec_structure_mask',\n",
    "        'seq_length',\n",
    "        'sequence',\n",
    "        'solv_surf',\n",
    "        'solv_surf_mask',\n",
    "        'superfamily'\n",
    "    ]\n",
    "    features = {name: FEATURES[name] for name in features}\n",
    "\n",
    "    def parse_tfexample(raw_data, features):\n",
    "        feature_map = {k: tf.io.FixedLenSequenceFeature(shape=(), dtype=eval(f'tf.{v[0]}'), allow_missing=True) for k, v in features.items()}\n",
    "        parsed_features = tf.io.parse_single_example(raw_data, feature_map)\n",
    "        num_residues = tf.cast(parsed_features['seq_length'][0], dtype=tf.int32)\n",
    "\n",
    "        for k, v in parsed_features.items():\n",
    "            new_shape = [num_residues if s is None else s for s in FEATURES[k][1]]\n",
    "\n",
    "            assert_non_empty = tf.assert_greater(tf.size(v), 0, name=f'assert_{k}_non_empty',\n",
    "                message=f'The feature {k} is not set in the tf.Example. Either do not '\n",
    "                'request the feature or use a tf.Example that has the feature set.')\n",
    "            with tf.control_dependencies([assert_non_empty]):\n",
    "                parsed_features[k] = tf.reshape(v, new_shape, name=f'reshape_{k}')\n",
    "\n",
    "        return parsed_features\n",
    "\n",
    "    raw_dataset = tf.data.TFRecordDataset([tfrec_file])\n",
    "    raw_dataset = raw_dataset.map(lambda raw: parse_tfexample(raw, features))\n",
    "    return raw_dataset\n",
    "\n",
    "\n"
   ]
  },
  {
   "cell_type": "code",
   "execution_count": 7,
   "id": "13a6db8a",
   "metadata": {
    "editable": true,
    "id": "13a6db8a",
    "slideshow": {
     "slide_type": ""
    },
    "tags": [
     "hide-cell"
    ]
   },
   "outputs": [],
   "source": [
    "def tfrec2pkl(dataset, pkl_file):\n",
    "    datalist = []\n",
    "    dataset = dataset.batch(1)\n",
    "    for x in dataset:\n",
    "        data = {}\n",
    "        for k, v in x.items():\n",
    "            if k in ['sequence', 'domain_name', 'chain_name', 'resolution', 'superfamily', 'num_effective_alignments']:\n",
    "                # print(f\"{k}: {v.numpy()[0,0].decode('utf-8')}\")\n",
    "                if v.numpy().dtype == 'O':\n",
    "                    data[k] = v.numpy()[0,0].decode('utf-8')\n",
    "                else:\n",
    "                    data[k] = v.numpy()[0,0]\n",
    "            else:\n",
    "                # print(k, v.numpy().shape)\n",
    "                data[k] = v.numpy()[0]\n",
    "        datalist.append(data)\n",
    "\n",
    "    with open(pkl_file, 'wb') as f:\n",
    "        pickle.dump(datalist, f)\n",
    "\n",
    "    return datalist"
   ]
  },
  {
   "cell_type": "code",
   "execution_count": 8,
   "id": "b829e2a2",
   "metadata": {
    "editable": true,
    "id": "b829e2a2",
    "slideshow": {
     "slide_type": ""
    },
    "tags": [
     "hide-cell"
    ]
   },
   "outputs": [],
   "source": [
    "from collections import namedtuple\n",
    "\n",
    "def build_config(model_path, replica):\n",
    "    #config_file = model_path / replica / 'config.json'\n",
    "    config_file = os.path.join(model_path, str(replica), 'config.json')\n",
    "    #stats_file = model_path / 'stats_train_s35.json'\n",
    "    stats_file = os.path.join(model_path,'stats_train_s35.json')\n",
    "    with open(config_file, 'r') as f:\n",
    "        config = json.load(f)\n",
    "    with open(stats_file, 'r') as f:\n",
    "        norm_stats = json.load(f)\n",
    "\n",
    "    default = {\n",
    "        'torsion_multiplier': 0, 'collapsed_batch_norm': False,\n",
    "        'filters_1d': [], 'is_ca_feature': False,\n",
    "    }\n",
    "    config['norm_stats'] = norm_stats\n",
    "    config['network_config'] = {**default, **config['network_config']}\n",
    "    exclude = norm_stats.keys()\n",
    "\n",
    "    def make_nt(d, n):\n",
    "        return namedtuple(n, d.keys())(**{k: make_nt(v, k) if isinstance(v, dict) and k not in exclude else v for k,v in d.items()})\n",
    "\n",
    "    return make_nt(config, 'config')"
   ]
  },
  {
   "cell_type": "code",
   "execution_count": 9,
   "id": "M-bmCRpQshi0",
   "metadata": {
    "editable": true,
    "id": "M-bmCRpQshi0",
    "slideshow": {
     "slide_type": ""
    },
    "tags": [
     "hide-cell"
    ]
   },
   "outputs": [],
   "source": [
    "def save_seq_prob(prob, seq, out_file):\n",
    "    SECONDARY_STRUCTURES = '-HETSGBI'\n",
    "    if len(prob.shape) == 1:\n",
    "        prob = prob.reshape(-1,1)\n",
    "    L, n = prob.shape\n",
    "    label = 'asa' if n == 1 else 'secstruct'\n",
    "\n",
    "    with out_file.open('w') as f:\n",
    "        f.write(f\"# LABEL {label} CLASSES [{''.join(SECONDARY_STRUCTURES[:n])}]\\n\\n\")\n",
    "        for i in range(L):\n",
    "            ss = SECONDARY_STRUCTURES[prob[i].argmax()]\n",
    "            f.write(f\"{i+1:4d} {seq[i]:1s} {ss:1s} {''.join(['%6.3f'%p for p in prob[i]])}\\n\")"
   ]
  },
  {
   "cell_type": "markdown",
   "id": "deb16c4f",
   "metadata": {
    "id": "deb16c4f"
   },
   "source": [
    "### Dibujo de distogramas\n",
    "\n",
    "Se dibujan los distogramas del modelo"
   ]
  },
  {
   "cell_type": "code",
   "execution_count": 10,
   "id": "306627dc",
   "metadata": {
    "editable": true,
    "id": "306627dc",
    "slideshow": {
     "slide_type": ""
    },
    "tags": [
     "hide-cell"
    ]
   },
   "outputs": [],
   "source": [
    "def plot_contact_map(target, mats, out):\n",
    "    import matplotlib.pyplot as plt\n",
    "    if len(mats) == 1:\n",
    "        fig, ax = plt.subplots()\n",
    "        axs = [ax]\n",
    "    else:\n",
    "        fig, axs = plt.subplots(1, len(mats), figsize=(11*len(mats),8))\n",
    "    fig.subplots_adjust(wspace=0)\n",
    "\n",
    "    for i, mat in enumerate(mats):\n",
    "        if len(mat.shape) == 3 and mat.shape[-1] == 64:\n",
    "            vmax = mat.shape[-1] - 1\n",
    "            mat = mat.argmax(-1)\n",
    "            im = axs[i].imshow(mat, cmap=plt.cm.Blues_r, vmin=0, vmax=vmax)\n",
    "            cb = fig.colorbar(im, ax=axs[i])\n",
    "            cb.set_ticks(np.linspace(0, vmax, 11))\n",
    "            cb.set_ticklabels(range(2, 23, 2))\n",
    "            if len(mats) != 1:\n",
    "                axs[i].set_title('distance', fontsize=20)\n",
    "        else:\n",
    "            im = axs[i].imshow(mat, cmap=plt.cm.Blues, vmin=0, vmax=1)\n",
    "            cb = fig.colorbar(im, ax=axs[i])\n",
    "            if len(mats) != 1:\n",
    "                axs[i].set_title('contact', fontsize=20)\n",
    "\n",
    "    if len(mats) == 1:\n",
    "        plt.title(target)\n",
    "        plt.savefig(out, dpi=300)\n",
    "    else:\n",
    "        fig.suptitle(target, fontsize=20)\n",
    "        plt.savefig(out, dpi=300, bbox_inches='tight', pad_inches=0.5)"
   ]
  },
  {
   "cell_type": "markdown",
   "id": "df06c463",
   "metadata": {
    "id": "df06c463"
   },
   "source": [
    "### Función de carga de datos (Dataset)\n",
    "\n",
    "Desde los ficheros se obtiene el __Dataset__, una estructura de tensores con los datos de entrada\n",
    "\n",
    "El __dataset__ es un objeto (creado con una clase de usuario) de conjunto de datos desde el que cargar datos. PyTorch admite dos tipos diferentes de conjuntos de datos:\n",
    "\n",
    "- __map-style__ datasets,\n",
    "- __iterable-style__ datasets.\n",
    "\n",
    "El dataset __Map-style__ es un conjunto de datos de estilo mapa, que está implementado con los protocolos __getitem__() y __len__() , y representa un mapa de índices / claves (posiblemente no integrales) a muestras de datos.\n",
    "\n",
    "Por ejemplo, accediendo con dataset[idx] , podría leer la imagen idx-th y su etiqueta correspondiente de una carpeta en el disco."
   ]
  },
  {
   "cell_type": "code",
   "execution_count": 11,
   "id": "2b4d94d6",
   "metadata": {
    "editable": true,
    "id": "2b4d94d6",
    "slideshow": {
     "slide_type": ""
    },
    "tags": [
     "hide-cell"
    ]
   },
   "outputs": [],
   "source": [
    "def load_data(data_file, model_path, replica):\n",
    "    if data_file.endswith('.tfrec'):\n",
    "        raw_dataset = tfrec_read(data_file)\n",
    "        raw_dataset = tfrec2pkl(raw_dataset, data_file[:-5]+'pkl')\n",
    "    else:\n",
    "        raw_dataset = np.load(data_file, allow_pickle=True)\n",
    "    \n",
    "    config = build_config(model_path, replica)\n",
    "\n",
    "    def normalize(data):\n",
    "        #print(\"config\", config)\n",
    "        feature_normalization = {k: config.feature_normalization for k in config.network_config.features if k not in config.normalization_exclusion}\n",
    "        copy_unnormalized = list(set(config.network_config.features) & set(config.network_config.targets))\n",
    "        \n",
    "        for k in copy_unnormalized:\n",
    "            if k in data: data[f'{k}_unnormalized'] = data[k]\n",
    "        \n",
    "        range_epsilon = 1e-12\n",
    "        for k, v in data.items():\n",
    "            if k not in feature_normalization or feature_normalization[k] == 'none': pass\n",
    "            elif feature_normalization[k] == 'std':\n",
    "                train_range = np.sqrt(np.float32(config.norm_stats.var[k]))\n",
    "                v = v - np.float32(config.norm_stats.mean[k])\n",
    "                v = v / train_range if train_range > range_epsilon else v\n",
    "                data[k] = v\n",
    "            else:\n",
    "                raise ValueError(f'Unknown normalization mode {feature_normalization[k]} for feature {k}.')\n",
    "\n",
    "        return data\n",
    "\n",
    "    dataset = [normalize(data) for data in raw_dataset]\n",
    "\n",
    "    def convert_to_input(data):\n",
    "        tensors_1d = []\n",
    "        tensors_2d = []\n",
    "        tensors_2d_diagonal = []\n",
    "        L = len(data['sequence'])\n",
    "\n",
    "        desired_features = config.network_config.features\n",
    "        desired_scalars = config.network_config.scalars\n",
    "        desired_targets = config.network_config.targets\n",
    "\n",
    "        for k in desired_features:\n",
    "            dim = len(FEATURES[k][1]) - 1\n",
    "            if dim == 1:\n",
    "                tensors_1d.append(np.float32(data[k]))\n",
    "            elif dim == 2:\n",
    "                if k not in data:\n",
    "                    if not(f'{k}_cropped' in data and f'{k}_diagonal' in data):\n",
    "                      raise ValueError(\n",
    "                          f'The 2D feature {k} is not in the features dictionary and neither are its cropped and diagonal versions.')\n",
    "                    else:\n",
    "                      tensors_2d.append(np.float32(data[f'{k}_cropped']))\n",
    "                      tensors_2d_diagonal.append(np.float32(data[f'{k}_diagonal']))\n",
    "                else:\n",
    "                    tensors_2d.append(np.float32(data[k]))\n",
    "\n",
    "        inputs_1d = np.concatenate(tensors_1d, -1)\n",
    "        if config.network_config.is_ca_feature:\n",
    "            # The background model is not conditioned on the sequence\n",
    "            # a binary feature δαβ to indicate whether the residue is a glycine (Cα atom) or not (Cβ)\n",
    "            inputs_1d = inputs_1d[:, 7:8]\n",
    "        inputs_2d = np.concatenate(tensors_2d, -1) if tensors_2d else np.zeros((L, L, 0), dtype=np.float32)\n",
    "        \n",
    "        if tensors_2d_diagonal:\n",
    "            diagonal_crops1 = [t[:, :, :(t.shape[2] // 2)] for t in tensors_2d_diagonal]\n",
    "            diagonal_crops2 = [t[:, :, (t.shape[2] // 2):] for t in tensors_2d_diagonal]\n",
    "            inputs_2d_diagonal = np.concatenate(diagonal_crops1 + diagonal_crops2, 2)\n",
    "        else:\n",
    "            inputs_2d_diagonal = inputs_2d\n",
    "\n",
    "        scalars = collections.namedtuple('ScalarClass', desired_scalars)(*[data.get(f'{k}_unnormalized', data[k]) for k in desired_scalars])\n",
    "        targets = collections.namedtuple('TargetClass', desired_targets)(*[data.get(f'{k}_unnormalized', data[k]) for k in desired_targets])\n",
    "\n",
    "        p = Protein(\n",
    "            len=len(data['sequence']),\n",
    "            seq=data['sequence'],\n",
    "            inputs_1d=inputs_1d,\n",
    "            inputs_2d=inputs_2d,\n",
    "            inputs_2d_diagonal=inputs_2d_diagonal,\n",
    "            scalars=scalars,\n",
    "            targets=targets\n",
    "        )\n",
    "        return p\n",
    "\n",
    "    dataset = [convert_to_input(data) for data in dataset]\n",
    "    return dataset\n",
    "\n"
   ]
  },
  {
   "cell_type": "code",
   "execution_count": 12,
   "id": "8944965b",
   "metadata": {
    "id": "8944965b"
   },
   "outputs": [],
   "source": [
    "class ProteinDataset(Dataset):\n",
    "    def __init__(self, fname, model_path, replica):\n",
    "        super().__init__()\n",
    "        self.dataset = load_data(fname, model_path, replica)\n",
    "\n",
    "    def __len__(self):\n",
    "        return len(self.dataset)\n",
    "\n",
    "    def __getitem__(self, index):\n",
    "        return self.dataset[index]"
   ]
  },
  {
   "cell_type": "markdown",
   "id": "c1687d23",
   "metadata": {
    "id": "c1687d23"
   },
   "source": [
    "El resultado que se obtiene en el __dataset__ es un objeto __Protein__ con los siguientes atributos:\n",
    "\n",
    "- __len__: número entero con la longitud de la secuencia de aminoacidos de la proteina\n",
    "- __seq__: secuencia de las letras de los aminoacidos de la proteina..\n",
    "- __inputs_1d__\n",
    "- __inputs_2d__:\n",
    "- __inputs_2d_diagonal__:\n",
    "- __scalars__: objeto con valores __num_effective_alignments__ y __resolution__.\n",
    "- __targets__: objeto con arrays __sec_structure__, __sec_structure_mask__, __solv_surf__, __solv_surf_mask__, __beta_positions__, __beta_mask__, __num_alignments__, __profile__, __residue_index__ y __between_segment_residues__ y variables __domain_name__, __chain_name__, __superfamily__ y __resolution__"
   ]
  },
  {
   "cell_type": "code",
   "execution_count": 13,
   "id": "19c1741d",
   "metadata": {
    "editable": true,
    "id": "19c1741d",
    "slideshow": {
     "slide_type": ""
    },
    "tags": [
     "hide-cell"
    ]
   },
   "outputs": [],
   "source": [
    "def feature_1d_to_2d(x_1d, res_idx, L, crop_x, crop_y, crop_size_x, crop_size_y, binary_code_bits):\n",
    "    res_idx = np.int32(res_idx)\n",
    "    n_x, n_y = crop_size_x, crop_size_y\n",
    "    range_scale = 100.0\n",
    "    x_1d_y = np.pad(\n",
    "        x_1d[max(0, crop_y[0]):crop_y[1]],\n",
    "        [[max(0, -crop_y[0]), max(0, n_y - (L - crop_y[0]))],\n",
    "        [0, 0]]\n",
    "    ) # LxD\n",
    "    range_n_y = np.pad(\n",
    "        res_idx[max(0, crop_y[0]):crop_y[1]],\n",
    "        [max(0, -crop_y[0]), max(0, n_y - (L - crop_y[0]))]\n",
    "    ) # L\n",
    "    x_1d_x = np.pad(\n",
    "        x_1d[max(0, crop_x[0]):crop_x[1]], \n",
    "        [[max(0, -crop_x[0]), max(0, n_x - (L - crop_x[0]))],\n",
    "        [0, 0]]\n",
    "    ) # LxD\n",
    "    range_n_x = np.pad(\n",
    "        res_idx[max(0, crop_x[0]):crop_x[1]],\n",
    "        [max(0, -crop_x[0]), max(0, n_x - (L - crop_x[0]))]\n",
    "    ) # L\n",
    "\n",
    "    offset = np.float32(np.expand_dims(range_n_x, 0) - np.expand_dims(range_n_y, 1)) / range_scale # LxL\n",
    "    position_features = [\n",
    "        np.tile(\n",
    "            np.reshape((np.float32(range_n_y) - range_scale) / range_scale, [n_y, 1, 1]),\n",
    "            [1, n_x, 1]\n",
    "        ),\n",
    "        np.reshape(offset, [n_y, n_x, 1])\n",
    "    ]\n",
    "\n",
    "    if binary_code_bits:\n",
    "        exp_range_n_y = np.expand_dims(range_n_y, 1)\n",
    "        bin_y = np.concatenate([exp_range_n_y // (1 << i) % 2 for i in range(binary_code_bits)], 1)\n",
    "        exp_range_n_x = np.expand_dims(range_n_x, 1)\n",
    "        bin_x = np.concatenate([exp_range_n_y // (1 << i) % 2 for i in range(binary_code_bits)], 1)\n",
    "        position_features += [\n",
    "            np.tile(\n",
    "                np.expand_dims(np.float32(bin_y), 1),\n",
    "                [1, n_x, 1],\n",
    "            ),\n",
    "            np.tile(\n",
    "                np.expand_dims(np.float32(bin_x), 0),\n",
    "                [n_y, 1, 1],\n",
    "            )\n",
    "        ]\n",
    "\n",
    "    augmentation_features = position_features + [\n",
    "        np.tile(\n",
    "            np.expand_dims(x_1d_x, 0),\n",
    "            [n_y, 1, 1]\n",
    "        ),\n",
    "        np.tile(\n",
    "            np.expand_dims(x_1d_y, 1),\n",
    "            [1, n_x, 1]\n",
    "        )\n",
    "    ]\n",
    "    augmentation_features = np.concatenate(augmentation_features, -1)\n",
    "    return augmentation_features"
   ]
  },
  {
   "cell_type": "code",
   "execution_count": 14,
   "id": "f1c1a1df",
   "metadata": {
    "editable": true,
    "id": "f1c1a1df",
    "slideshow": {
     "slide_type": ""
    },
    "tags": [
     "hide-cell"
    ]
   },
   "outputs": [],
   "source": [
    "def make_crops(inputs_1d, inputs_2d, L, res_idx, crop_size_x, crop_step_x, crop_size_y, crop_step_y, binary_code_bits):\n",
    "    for i in range(-crop_size_x // 2, L - crop_size_x // 2, crop_step_x):\n",
    "        for j in range(-crop_size_y // 2, L - crop_size_y // 2, crop_step_y):\n",
    "            '''\n",
    "            start                                                   end\n",
    "            |                                                       |\n",
    "            i              crop_size_x               end_x          i                                        end_x\n",
    "            |----------------------------------------|              |----------------------------------------|\n",
    "            ....................KVEPVGNAYGHWTKHGKEFPEYQNAKQYVDAAHNFMTNPPLTNPPPGTLTKTRPNGD.....................\n",
    "            |___________________|________________________________________|              |____________________|\n",
    "                  prepad_x      0              crop_size_x                              L      postpad_x\n",
    "                                ic\n",
    "            '''\n",
    "            end_x = i + crop_size_x\n",
    "            end_y = j + crop_size_y\n",
    "            crop_x = np.array([i, end_x], dtype=np.int32)\n",
    "            crop_y = np.array([j, end_y], dtype=np.int32)\n",
    "            ic = max(0, i)\n",
    "            jc = max(0, j)\n",
    "            end_x_cropped = min(L, end_x)\n",
    "            end_y_cropped = min(L, end_y)\n",
    "            prepad_x = max(0, -i)\n",
    "            prepad_y = max(0, -j)\n",
    "            postpad_x = end_x - end_x_cropped\n",
    "            postpad_y = end_y - end_y_cropped\n",
    "\n",
    "            cyx = np.pad(\n",
    "                inputs_2d[jc:end_y, ic:end_x, :],\n",
    "                [[prepad_y, postpad_y],\n",
    "                [prepad_x, postpad_x],\n",
    "                [0, 0]]\n",
    "            )\n",
    "            assert cyx.shape[0] == crop_size_y\n",
    "            assert cyx.shape[1] == crop_size_x\n",
    "\n",
    "            cxx = inputs_2d[ic:end_x, ic:end_x, :]\n",
    "            if cxx.shape[0] < cyx.shape[0]:\n",
    "                cxx = np.pad(cxx,\n",
    "                    [[prepad_x, max(0, i + crop_size_y - L)],\n",
    "                    [prepad_x, postpad_x],\n",
    "                    [0, 0]]\n",
    "                )\n",
    "            assert cxx.shape[0] == crop_size_y\n",
    "            assert cxx.shape[1] == crop_size_x\n",
    "\n",
    "            cyy = inputs_2d[jc:end_y, jc:end_y, :]\n",
    "            if cyy.shape[1] < cyx.shape[1]:\n",
    "                cyy = np.pad(cyy,\n",
    "                    [[prepad_y, postpad_y],\n",
    "                    [prepad_y, max(0, j + crop_size_x - L)],\n",
    "                    [0, 0]]\n",
    "                )\n",
    "            assert cyy.shape[0] == crop_size_y\n",
    "            assert cyy.shape[1] == crop_size_x\n",
    "\n",
    "            augmentation_features = feature_1d_to_2d(inputs_1d, res_idx, L, crop_x, crop_y, crop_size_x, crop_size_y, binary_code_bits) # LxLxD1\n",
    "            x_2d = np.concatenate([cyx, cxx, cyy, augmentation_features], -1) # LxLx(3D2+D1)\n",
    "            yield x_2d, crop_x, crop_y\n",
    "\n",
    "def collate_fn(batch, config):\n",
    "    assert len(batch) == 1\n",
    "    protein = batch[0]\n",
    "    crops = make_crops(protein.inputs_1d,\n",
    "                       protein.inputs_2d,\n",
    "                       protein.len,\n",
    "                       protein.targets.residue_index.flatten(),\n",
    "                       config.crop_size_x,\n",
    "                       config.crop_size_x // config.eval_config.crop_shingle_x,\n",
    "                       config.crop_size_y,\n",
    "                       config.crop_size_y // config.eval_config.crop_shingle_y,\n",
    "                       config.network_config.binary_code_bits)\n",
    "    return protein, crops"
   ]
  },
  {
   "cell_type": "markdown",
   "id": "3fae4102",
   "metadata": {
    "id": "3fae4102"
   },
   "source": [
    "En el momento de construir el __dataloader__ se asigna la función __collate_fn__ desde el constructor del objeto __DataLoader__.\n",
    "\n",
    "En el momento que se recuperan las proteinas se ejecuta la función __collate_fn__ se generan los cultivos (__crops__) asociados a cada proteina."
   ]
  },
  {
   "cell_type": "code",
   "execution_count": 15,
   "id": "8bc6d6e2",
   "metadata": {
    "id": "8bc6d6e2"
   },
   "outputs": [],
   "source": [
    "def ProteinDataLoader(target_file, model_path, replica):\n",
    "    dataset = ProteinDataset(target_file, model_path, replica)\n",
    "    config = build_config(model_path, replica)\n",
    "    dataloader = DataLoader(dataset, batch_size=1, collate_fn=lambda b: collate_fn(b, config))\n",
    "    return dataloader"
   ]
  },
  {
   "cell_type": "markdown",
   "id": "3f4397be",
   "metadata": {
    "id": "3f4397be"
   },
   "source": [
    "### Se cargan los datos disponibles\n",
    "\n",
    "Una versión completa de la base de datos __CASP13__ se encuentra en  (45 GB en ZIP):\n",
    "\n",
    "http://bit.ly/alphafold-casp13-data\n",
    "\n",
    "En el aparecen 72 estructuras de proteinas, denominadas de acuerdo al nombre del subdirectorio, desde __T0949__, __T0953s1__, __...__, hasta __T1022s2__. Así los __IDs de las proteinas__ serán: __{T0949, T0953s1. ..., T1022s2}__.\n",
    "\n",
    "En cada uno de los subdirectorios aparece un fichero de con nombre el __ID__ y extensión __tfrec__ y un subdirectorio __contacts__ que tiene dos ficheros de extensión __pickle__ y __rr__. \n",
    "\n",
    "\n",
    "En este cuaderno se utiliza el modelo de datos que se explica en \n",
    "\n",
    "https://github.com/Urinx/alphafold_pytorch/blob/master/README.md\n",
    "\n",
    "Y que aparece contenido en el zip:\n",
    "\n",
    "https://drive.google.com/file/d/1oLJS_7udqBOQr1gLGZY-ui8emenZzyj4/view\n",
    "\n",
    "\n",
    "En concreto la proteina disponible es: __T1019s2__"
   ]
  },
  {
   "cell_type": "code",
   "execution_count": 16,
   "id": "5a8525d1",
   "metadata": {
    "id": "5a8525d1"
   },
   "outputs": [
    {
     "name": "stdout",
     "output_type": "stream",
     "text": [
      "WARNING:tensorflow:From C:\\Users\\valer_z\\anaconda3\\Lib\\site-packages\\keras\\src\\losses.py:2976: The name tf.losses.sparse_softmax_cross_entropy is deprecated. Please use tf.compat.v1.losses.sparse_softmax_cross_entropy instead.\n",
      "\n"
     ]
    }
   ],
   "source": [
    "device = torch.device(\"cuda\" if torch.cuda.is_available() else \"cpu\") if googleColaboratory else torch.device(\"cpu\")\n",
    "DISTOGRAM_MODEL = os.path.join(path, 'model', '873731')\n",
    "replica = 0\n",
    "tfrec_path = os.path.join(path, 'T1019s2', 'input', 'T1019s2.tfrec')\n",
    "#dataset = ProteinDataset(tfrec_path , DISTOGRAM_MODEL, replica)\n",
    "#dataloader = DataLoader(dataset, batch_size=1, collate_fn=collate_fn)\n",
    "\n",
    "dataloader = ProteinDataLoader(tfrec_path, DISTOGRAM_MODEL, replica)"
   ]
  },
  {
   "cell_type": "code",
   "execution_count": 17,
   "id": "30a2c84f",
   "metadata": {
    "colab": {
     "base_uri": "https://localhost:8080/"
    },
    "id": "30a2c84f",
    "outputId": "6efc4024-6776-406a-e291-1a76f020c869"
   },
   "outputs": [
    {
     "name": "stdout",
     "output_type": "stream",
     "text": [
      "Protein:  T1019s2-l64_s24  -Seq:  AKQYVDAAHNFMTNPPPGTLTKTRPNGDTLYYNPVTNVFASKDINGVPRTMFKPEKGIEYWNKQ  -Len: 64\n",
      "Total crops= 256\n",
      "Protein:  T1019s2-l64_s0  -Seq:  KVEPVGNAYGHWTKHGKEFPEYQNAKQYVDAAHNFMTNPPPGTLTKTRPNGDTLYYNPVTNVFA  -Len: 64\n",
      "Total crops= 256\n",
      "Protein:  T1019s2  -Seq:  KVEPVGNAYGHWTKHGKEFPEYQNAKQYVDAAHNFMTNPPPGTLTKTRPNGDTLYYNPVTNVFASKDINGVPRTMFKPEKGIEYWNKQ  -Len: 88\n",
      "Total crops= 484\n"
     ]
    }
   ],
   "source": [
    "for protein, crops in dataloader:\n",
    "        L = protein.len\n",
    "        print('Protein: ',protein.targets.domain_name, ' -Seq: ', protein.seq, ' -Len:', protein.len)\n",
    "        n_cr=0\n",
    "        for x, crop_x, crop_y in crops:\n",
    "            n_cr +=1\n",
    "        print('Total crops=', n_cr)\n"
   ]
  },
  {
   "cell_type": "markdown",
   "id": "b99a5605",
   "metadata": {
    "id": "b99a5605"
   },
   "source": [
    "## Definición del Modelo\n",
    "\n",
    "<img src=\"images/alphafold_net3.png\" width=\"700px\">\n",
    "\n",
    "Un __esquema del sistema de plegado__. \n",
    "\n",
    "__(a)__ Las etapas de extracción de características se muestran en amarillo, la red neuronal de predicción de estructuras en verde, la construcción potencial en rojo y la realización de estructuras en azul.\n",
    "\n",
    "__(b)__ Las capas utilizadas en un bloque de la __red convolucional residual__ profunda. La salida del bloque se suma a la representación de la capa anterior. Las conexiones de derivación de la red residual permiten que los gradientes vuelvan a pasar a través de la red sin disminuir, lo que permite el entrenamiento de redes muy profundas."
   ]
  },
  {
   "cell_type": "markdown",
   "id": "f8d6499a",
   "metadata": {
    "id": "f8d6499a"
   },
   "source": [
    "### Capa de convoluciones que se inserta en los bloques residuales"
   ]
  },
  {
   "cell_type": "code",
   "execution_count": 18,
   "id": "6a064567",
   "metadata": {
    "editable": true,
    "id": "6a064567",
    "slideshow": {
     "slide_type": ""
    },
    "tags": [
     "hide-cell"
    ]
   },
   "outputs": [],
   "source": [
    "import json\n",
    "import torch\n",
    "import torch.nn as nn\n",
    "import torch.nn.functional as F\n",
    "from collections import OrderedDict, namedtuple\n",
    "\n",
    "def make_conv_layer(in_channels,\n",
    "                    out_channels,\n",
    "                    filter_size,\n",
    "                    non_linearity=True,\n",
    "                    batch_norm=False,\n",
    "                    atrou_rate=1):\n",
    "    layers = []\n",
    "    if filter_size == 1:\n",
    "        padding_size = 0\n",
    "    elif filter_size == 3:\n",
    "        padding_size = atrou_rate\n",
    "    else:\n",
    "        raise\n",
    "\n",
    "    if batch_norm:\n",
    "        layers.append(\n",
    "            ('conv', nn.Conv2d(in_channels, out_channels, filter_size,\n",
    "                               padding=padding_size, dilation=atrou_rate, bias=False))\n",
    "        )\n",
    "        layers.append(('bn', nn.BatchNorm2d(out_channels, momentum=0.001, eps=0.001)))\n",
    "    else:\n",
    "        layers.append(\n",
    "            ('conv', nn.Conv2d(in_channels, out_channels, filter_size,\n",
    "                               padding=padding_size, dilation=atrou_rate, bias=True))\n",
    "        )\n",
    "\n",
    "    if non_linearity:\n",
    "        layers.append(('elu', nn.ELU()))\n",
    "\n",
    "    return nn.Sequential(OrderedDict(layers))\n",
    "\n",
    "def make_conv_sep2d_layer(in_channels,\n",
    "                          out_channels,\n",
    "                          channel_multiplier,\n",
    "                          filter_size,\n",
    "                          filter_size_2=None,\n",
    "                          batch_norm=False,\n",
    "                          atrou_rate=1):\n",
    "    \"\"\"Use separable convolutions.\"\"\"\n",
    "    raise NotImplementedError"
   ]
  },
  {
   "cell_type": "markdown",
   "id": "4ba92baf",
   "metadata": {
    "id": "4ba92baf"
   },
   "source": [
    "### Bloque de capas residuales"
   ]
  },
  {
   "cell_type": "code",
   "execution_count": 19,
   "id": "d982cb5f",
   "metadata": {
    "editable": true,
    "id": "d982cb5f",
    "slideshow": {
     "slide_type": ""
    },
    "tags": [
     "hide-cell"
    ]
   },
   "outputs": [],
   "source": [
    "class ResidualBlock(nn.Module):\n",
    "    def __init__(self, in_channels,\n",
    "                       out_channels,\n",
    "                       layer_name,\n",
    "                       filter_size,\n",
    "                       batch_norm=False,\n",
    "                       divide_channels_by=2,\n",
    "                       atrou_rate=1,\n",
    "                       channel_multiplier=0,\n",
    "                       dropout_keep_prob=1.0):\n",
    "        \"\"\"A separable resnet block.\"\"\"\n",
    "        super().__init__()\n",
    "\n",
    "        self.batch_norm = batch_norm\n",
    "        self.dropout_keep_prob = dropout_keep_prob\n",
    "        self.channel_multiplier = channel_multiplier\n",
    "\n",
    "        if batch_norm:\n",
    "            self.bn = nn.BatchNorm2d(in_channels, momentum=0.001, eps=0.001)\n",
    "        self.elu = nn.ELU()\n",
    "\n",
    "        # 1x1 with half size\n",
    "        self.conv_1x1h = make_conv_layer(in_channels=in_channels,\n",
    "                                         out_channels=in_channels // divide_channels_by,\n",
    "                                         filter_size=1,\n",
    "                                         non_linearity=True,\n",
    "                                         batch_norm=batch_norm)\n",
    "\n",
    "        # 3x3 with half size\n",
    "        if channel_multiplier == 0:\n",
    "            self.conv_3x3h = make_conv_layer(in_channels=in_channels // divide_channels_by,\n",
    "                                             out_channels=in_channels // divide_channels_by,\n",
    "                                             filter_size=filter_size,\n",
    "                                             non_linearity=True,\n",
    "                                             batch_norm=batch_norm,\n",
    "                                             atrou_rate=atrou_rate)\n",
    "        else:\n",
    "            self.conv_sep3x3h = make_conv_sep2d_layer(in_channels=in_channels // divide_channels_by,\n",
    "                                                      out_channels=in_channels // divide_channels_by,\n",
    "                                                      channel_multiplier=channel_multiplier,\n",
    "                                                      filter_size=filter_size,\n",
    "                                                      batch_norm=batch_norm,\n",
    "                                                      atrou_rate=atrou_rate)\n",
    "\n",
    "        # 1x1 back to normal size without relu\n",
    "        self.conv_1x1 = make_conv_layer(in_channels=in_channels // divide_channels_by,\n",
    "                                        out_channels=out_channels,\n",
    "                                        filter_size=1,\n",
    "                                        non_linearity=False,\n",
    "                                        batch_norm=False)\n",
    "\n",
    "        if dropout_keep_prob < 1.0:\n",
    "            self.dropout = nn.Dropout(1-dropout_keep_prob)\n",
    "\n",
    "    def forward(self, x):\n",
    "        if self.batch_norm:\n",
    "            out = self.bn(x)\n",
    "            out = self.elu(out)\n",
    "        else:\n",
    "            out = self.elu(x)\n",
    "\n",
    "        out = self.conv_1x1h(out)\n",
    "        if self.channel_multiplier == 0:\n",
    "            out = self.conv_3x3h(out)\n",
    "        else:\n",
    "            out = self.conv_sep3x3h(out)\n",
    "        out = self.conv_1x1(out)\n",
    "\n",
    "        if self.dropout_keep_prob < 1.0:\n",
    "            out = self.dropout(out)\n",
    "\n",
    "        out += x\n",
    "        return out"
   ]
  },
  {
   "cell_type": "code",
   "execution_count": 20,
   "id": "4e37f0ba",
   "metadata": {
    "editable": true,
    "id": "4e37f0ba",
    "slideshow": {
     "slide_type": ""
    },
    "tags": [
     "hide-cell"
    ]
   },
   "outputs": [],
   "source": [
    "def make_two_dim_resnet(num_features,\n",
    "                        num_predictions=1,\n",
    "                        num_channels=32,\n",
    "                        num_layers=2,\n",
    "                        filter_size=3,\n",
    "                        final_non_linearity=False,\n",
    "                        batch_norm=False,\n",
    "                        atrou_rates=None,\n",
    "                        channel_multiplier=0,\n",
    "                        divide_channels_by=2,\n",
    "                        resize_features_with_1x1=False,\n",
    "                        dropout_keep_prob=1.0):\n",
    "    if atrou_rates is None: atrou_rates = [1]\n",
    "\n",
    "    layers = []\n",
    "    non_linearity = True\n",
    "    for i_layer in range(num_layers):\n",
    "        in_channels = num_channels\n",
    "        out_channels = num_channels\n",
    "        curr_atrou_rate = atrou_rates[i_layer % len(atrou_rates)]\n",
    "\n",
    "        if i_layer == 0:\n",
    "            in_channels = num_features\n",
    "        if i_layer == num_layers - 1:\n",
    "            out_channels = num_predictions\n",
    "            non_linearity = final_non_linearity\n",
    "\n",
    "        if i_layer == 0 or i_layer == num_layers - 1:\n",
    "            layer_name = f'conv{i_layer+1}'\n",
    "            initial_filter_size = 1 if resize_features_with_1x1 else filter_size\n",
    "            conv_layer = make_conv_layer(in_channels=in_channels,\n",
    "                                        out_channels=out_channels,\n",
    "                                        filter_size=initial_filter_size,\n",
    "                                        non_linearity=non_linearity,\n",
    "                                        atrou_rate=curr_atrou_rate)\n",
    "        else:\n",
    "            layer_name = f'res{i_layer+1}'\n",
    "            conv_layer = ResidualBlock(in_channels=in_channels,\n",
    "                                       out_channels=out_channels,\n",
    "                                       layer_name=layer_name,\n",
    "                                       filter_size=filter_size,\n",
    "                                       batch_norm=batch_norm,\n",
    "                                       atrou_rate=curr_atrou_rate,\n",
    "                                       channel_multiplier=channel_multiplier,\n",
    "                                       divide_channels_by=divide_channels_by,\n",
    "                                       dropout_keep_prob=dropout_keep_prob)\n",
    "        layers.append((layer_name, conv_layer))\n",
    "    \n",
    "    return nn.Sequential(OrderedDict(layers))"
   ]
  },
  {
   "cell_type": "markdown",
   "id": "a1b8bd3a",
   "metadata": {
    "id": "a1b8bd3a"
   },
   "source": [
    "### Clase principal\n",
    "\n",
    "La predicción se ejecuta desde la función __forward__ de la clase principal __ContactsNet__. \n",
    "\n",
    "Al constructor de __ContactsNet__ se le pasa la variable dictionary __config__ con el detalle de la configuración.\n",
    "\n",
    "Se ejecuta una predicción por cada cultivo (__crop__) asociado a la secuencia de la proteina, pasando las variables __x__, __crop_x__ y __crop_y__ de cada cultivo. Desde __forward__ se ejecuta la siguiente secuencia:\n",
    "\n",
    "- Se llama a __Deep2DExtra__.\n",
    "- Se llama a __Deep2D__.\n",
    "\n",
    "Ambas funciones llaman a __make_two_dim_resnet__ que tiene un objeto __ResidualBlock__ que en su proceso __forward__ tiene definido un bloque de red residual con el diseño:\n",
    "\n",
    "ResidualBlock(\n",
    "\n",
    "      (bn): BatchNorm2d(256, eps=0.001, momentum=0.001, affine=True, track_running_stats=True)\n",
    "      \n",
    "      (elu): ELU(alpha=1.0)\n",
    "      \n",
    "      (conv_1x1h): Sequential(\n",
    "      \n",
    "        (conv): Conv2d(256, 128, kernel_size=(1, 1), stride=(1, 1), bias=False)\n",
    "        \n",
    "        (bn): BatchNorm2d(128, eps=0.001, momentum=0.001, affine=True, track_running_stats=True)\n",
    "        \n",
    "        (elu): ELU(alpha=1.0)\n",
    "        \n",
    "      )\n",
    "      \n",
    "      (conv_3x3h): Sequential(\n",
    "      \n",
    "        (conv): Conv2d(128, 128, kernel_size=(3, 3), stride=(1, 1), padding=(2, 2), dilation=(2, 2), bias=False)\n",
    "        \n",
    "        (bn): BatchNorm2d(128, eps=0.001, momentum=0.001, affine=True, track_running_stats=True)\n",
    "        \n",
    "        (elu): ELU(alpha=1.0)\n",
    "        \n",
    "      )\n",
    "      \n",
    "      (conv_1x1): Sequential(\n",
    "      \n",
    "        (conv): Conv2d(128, 256, kernel_size=(1, 1), stride=(1, 1))\n",
    "        \n",
    "      )"
   ]
  },
  {
   "cell_type": "code",
   "execution_count": 21,
   "id": "bcab7d56",
   "metadata": {
    "editable": true,
    "id": "bcab7d56",
    "slideshow": {
     "slide_type": ""
    },
    "tags": [
     "hide-cell"
    ]
   },
   "outputs": [],
   "source": [
    "class ContactsNet(nn.Module):\n",
    "    def __init__(self, config):\n",
    "        super().__init__()\n",
    "\n",
    "        self.config = config\n",
    "        network_2d_deep = config.network_2d_deep\n",
    "        output_dimension = config.num_bins\n",
    "        if config.is_ca_feature:\n",
    "            num_features = 12\n",
    "        else:\n",
    "            num_features = 1878\n",
    "        threshold = 8\n",
    "        self.quant_threshold = int((threshold - config.min_range) * config.num_bins / float(config.max_range))\n",
    "\n",
    "        # total 220 residual blocks with dilated convolutions\n",
    "        if network_2d_deep.extra_blocks:\n",
    "            # 7 groups of 4 blocks with 256 channels, cycling through dilations 1,2,4,8.\n",
    "            self.Deep2DExtra = make_two_dim_resnet(\n",
    "                num_features=num_features,\n",
    "                num_predictions=2 * network_2d_deep.num_filters,\n",
    "                num_channels=2 * network_2d_deep.num_filters,\n",
    "                num_layers=network_2d_deep.extra_blocks * network_2d_deep.num_layers_per_block,\n",
    "                filter_size=3,\n",
    "                batch_norm=network_2d_deep.use_batch_norm,\n",
    "                final_non_linearity=True,\n",
    "                atrou_rates=[1, 2, 4, 8],\n",
    "                dropout_keep_prob=1.0\n",
    "            )\n",
    "            num_features = 2 * network_2d_deep.num_filters\n",
    "\n",
    "        # 48 groups of 4 blocks with 128 channels, cycling through dilations 1,2,4,8.\n",
    "        self.Deep2D = make_two_dim_resnet(\n",
    "            num_features=num_features,\n",
    "            num_predictions=network_2d_deep.num_filters if config.reshape_layer else output_dimension,\n",
    "            num_channels=network_2d_deep.num_filters,\n",
    "            num_layers=network_2d_deep.num_blocks * network_2d_deep.num_layers_per_block,\n",
    "            filter_size=3,\n",
    "            batch_norm=network_2d_deep.use_batch_norm,\n",
    "            final_non_linearity=config.reshape_layer,\n",
    "            atrou_rates=[1, 2, 4, 8],\n",
    "            dropout_keep_prob=1.0\n",
    "        )\n",
    "\n",
    "        if config.reshape_layer:\n",
    "            self.output_reshape_1x1h = make_conv_layer(\n",
    "                in_channels=network_2d_deep.num_filters,\n",
    "                out_channels=output_dimension,\n",
    "                filter_size=1,\n",
    "                non_linearity=False,\n",
    "                batch_norm=network_2d_deep.use_batch_norm\n",
    "            )\n",
    "\n",
    "        if config.position_specific_bias_size:\n",
    "            b = nn.Parameter(torch.zeros(config.position_specific_bias_size, output_dimension))\n",
    "            self.register_parameter('position_specific_bias', b)\n",
    "\n",
    "        embed_dim = 2*network_2d_deep.num_filters\n",
    "        if config.collapsed_batch_norm:\n",
    "            self.collapsed_batch_norm = nn.BatchNorm1d(embed_dim, momentum=0.001)\n",
    "\n",
    "        if config.filters_1d:\n",
    "            l = []\n",
    "            for i, nfil in enumerate(config.filters_1d):\n",
    "                if config.collapsed_batch_norm:\n",
    "                    l.append(nn.Sequential(\n",
    "                        nn.Linear(embed_dim, nfil, bias=False),\n",
    "                        nn.BatchNorm1d(nfil, momentum=0.001)\n",
    "                    ))\n",
    "                else:\n",
    "                    l.append(nn.Linear(embed_dim, nfil))\n",
    "                embed_dim = nfil\n",
    "            self.collapsed_embed = nn.ModuleList(l)\n",
    "\n",
    "        if config.torsion_multiplier > 0:\n",
    "            self.torsion_logits = nn.Linear(embed_dim, config.torsion_bins * config.torsion_bins)\n",
    "\n",
    "        if config.secstruct_multiplier > 0:\n",
    "            self.secstruct = nn.Linear(embed_dim, 8)\n",
    "\n",
    "        if config.asa_multiplier > 0:\n",
    "            self.ASALogits = nn.Linear(embed_dim, 1)\n",
    "\n",
    "\n",
    "    def build_crops_biases(self, bias_size, raw_biases, crop_x, crop_y):\n",
    "        max_off_diag = torch.max((crop_x[:, 1] - crop_y[:, 0]).abs(), (crop_y[:, 1] - crop_x[:, 0]).abs()).max()\n",
    "        padded_bias_size = max(bias_size, max_off_diag)\n",
    "\n",
    "        biases = torch.cat((raw_biases, raw_biases[-1:, :].repeat(padded_bias_size - bias_size, 1)), 0)\n",
    "        biases = torch.cat((biases[1:, :].flip(0), biases), 0)\n",
    "\n",
    "        start_diag = crop_x[:, 0:1] - crop_y[:, 0:1]\n",
    "        crop_size_x = (crop_x[:, 1] - crop_x[:, 0]).max()\n",
    "        crop_size_y = (crop_y[:, 1] - crop_y[:, 0]).max()\n",
    "\n",
    "        increment = torch.unsqueeze(-torch.arange(0, crop_size_y), 0).to(crop_x.device)\n",
    "        row_offsets = start_diag + increment\n",
    "        row_offsets += padded_bias_size - 1\n",
    "\n",
    "        cropped_biases = torch.cat(\n",
    "            [torch.cat(\n",
    "                [\n",
    "                    biases[i:i+crop_size_x, :].unsqueeze(0) for i in offsets\n",
    "                ], 0).unsqueeze(0)\n",
    "                for offsets in row_offsets\n",
    "            ], 0) # B*crop_y*crop_x*D\n",
    "        cropped_biases = cropped_biases.permute(0, 3, 1, 2) # B*D*crop_y*crop_x\n",
    "\n",
    "        return cropped_biases\n",
    "\n",
    "    def forward(self, x, crop_x, crop_y):\n",
    "        config = self.config\n",
    "\n",
    "        out = self.Deep2DExtra(x)\n",
    "        contact_pre_logits = self.Deep2D(out)\n",
    "\n",
    "        if config.reshape_layer:\n",
    "            contact_logits = self.output_reshape_1x1h(contact_pre_logits)\n",
    "        else:\n",
    "            contact_logits = contact_pre_logits\n",
    "\n",
    "        if config.position_specific_bias_size:\n",
    "            biases = self.build_crops_biases(config.position_specific_bias_size, self.position_specific_bias, crop_x, crop_y)\n",
    "            contact_logits += biases # BxDxLxL\n",
    "\n",
    "        contact_logits = contact_logits.permute(0, 2, 3, 1) # to NHWC shape\n",
    "        distance_probs = nn.functional.softmax(contact_logits, -1) # BxLxLxD\n",
    "        contact_probs = distance_probs[:, :, :, :self.quant_threshold].sum(-1) # BxLxL\n",
    "\n",
    "        results = {\n",
    "            'distance_probs': distance_probs,\n",
    "            'contact_probs': contact_probs\n",
    "        }\n",
    "\n",
    "        if (config.secstruct_multiplier > 0 or\n",
    "            config.asa_multiplier > 0 or\n",
    "            config.torsion_multiplier > 0):\n",
    "            collapse_dim = 2\n",
    "            join_dim = 1\n",
    "\n",
    "            embedding_1d = torch.cat((\n",
    "                torch.cat((contact_pre_logits.max(collapse_dim)[0], contact_pre_logits.mean(collapse_dim)), join_dim),\n",
    "                torch.cat((contact_pre_logits.max(collapse_dim+1)[0], contact_pre_logits.mean(collapse_dim+1)), join_dim)\n",
    "            ), collapse_dim) # Bx2Dx2L\n",
    "\n",
    "            if config.collapsed_batch_norm:\n",
    "                embedding_1d = self.collapsed_batch_norm(embedding_1d)\n",
    "\n",
    "            embedding_1d = embedding_1d.permute(0, 2, 1) # Bx2Lx2D\n",
    "            for i, _ in enumerate(config.filters_1d):\n",
    "                embedding_1d = self.collapsed_embed[i](embedding_1d)\n",
    "\n",
    "            if config.torsion_multiplier > 0:\n",
    "                torsion_logits = self.torsion_logits(embedding_1d)\n",
    "                torsion_output = nn.functional.softmax(torsion_logits, -1)\n",
    "                results['torsion_probs'] = torsion_output\n",
    "\n",
    "            if config.secstruct_multiplier > 0:\n",
    "                sec_logits = self.secstruct(embedding_1d)\n",
    "                sec_output = nn.functional.softmax(sec_logits, -1)\n",
    "                results['secstruct_probs'] = sec_output\n",
    "\n",
    "            if config.asa_multiplier > 0:\n",
    "                asa_logits = self.ASALogits(embedding_1d)\n",
    "                asa_output = nn.functional.relu(asa_logits)\n",
    "                results['asa_output'] = asa_output\n",
    "\n",
    "        return results\n",
    "\n",
    "    def get_parameter_number(self):\n",
    "        total_num = sum(p.numel() for p in self.parameters())\n",
    "        trainable_num = sum(p.numel() for p in self.parameters() if p.requires_grad)\n",
    "        return {'Total': total_num, 'Trainable': trainable_num}"
   ]
  },
  {
   "cell_type": "markdown",
   "id": "d5da1e49",
   "metadata": {
    "id": "d5da1e49"
   },
   "source": [
    "### Se crea un objeto con el modelo"
   ]
  },
  {
   "cell_type": "code",
   "execution_count": 22,
   "id": "3e425c0f",
   "metadata": {
    "colab": {
     "base_uri": "https://localhost:8080/"
    },
    "id": "3e425c0f",
    "outputId": "fef23712-027b-41a2-ede1-fd0cee4221be"
   },
   "outputs": [
    {
     "name": "stdout",
     "output_type": "stream",
     "text": [
      "device= cpu\n"
     ]
    }
   ],
   "source": [
    "device = torch.device(\"cuda\" if torch.cuda.is_available() else \"cpu\") if googleColaboratory else torch.device(\"cpu\")\n",
    "print(\"device=\", device)\n",
    "\n",
    "DISTOGRAM_MODEL = os.path.join(path, 'model', '873731')\n",
    "BACKGROUND_MODEL = os.path.join(path, 'model', '916425')\n",
    "TORSION_MODEL = os.path.join(path, 'model', '941521')\n",
    "replica = 0\n",
    "config = build_config(DISTOGRAM_MODEL, replica)\n",
    "model = ContactsNet(config.network_config)\n",
    "model.to(device);"
   ]
  },
  {
   "cell_type": "markdown",
   "id": "d56b3ecf",
   "metadata": {
    "id": "d56b3ecf"
   },
   "source": [
    "### Se carga el modelo pre-entrenado\n",
    "\n",
    "{cite:p}`senior2020improved` publican una serie de modelos ya entrenados para el dataset CASP13 que se pueden encontrar en el enlace:\n",
    "\n",
    "http://bit.ly/alphafold-casp13-weights\n",
    "\n",
    "Los pesos y datos de AlphaFold están disponibles para uso no comercial solo bajo los términos de la licencia Creative Commons Attribution-NonCommercial 4.0 International (CC BY-NC 4.0).\n",
    "\n",
    "Para la ejecución del modelo deben estar localizados en ./data/alphafold/model, correspondiendose cada una de las subcarpetas con:\n",
    "\n",
    "- __873731__: modelo distograma.\n",
    "- __916425__: modelo backgrownd.\n",
    "- __941521__: modelo torsion.\n",
    "\n",
    "Descomentando la sentencia \n",
    "\n",
    "    print(model) \n",
    "\n",
    "Se imprime la estructura de bloques convolucionales del modelo"
   ]
  },
  {
   "cell_type": "code",
   "execution_count": 23,
   "id": "f268ed23",
   "metadata": {
    "colab": {
     "base_uri": "https://localhost:8080/"
    },
    "id": "f268ed23",
    "outputId": "51d5d918-11e6-4778-a85c-c6484b5433d2"
   },
   "outputs": [
    {
     "name": "stdout",
     "output_type": "stream",
     "text": [
      "Load Model from model.pt\n"
     ]
    }
   ],
   "source": [
    "import pathlib\n",
    "model_path = os.path.join(DISTOGRAM_MODEL, str(replica), 'model.pt')\n",
    "model_file = pathlib.Path(model_path)\n",
    "\n",
    "if model_file.exists():\n",
    "    model.load_state_dict(torch.load(model_file, map_location=device))\n",
    "    print(\"Load Model from model.pt\")\n",
    "    ### print(model)"
   ]
  },
  {
   "cell_type": "markdown",
   "id": "38828644",
   "metadata": {
    "id": "38828644"
   },
   "source": [
    "## Se evalua el dataset contra el modelo\n",
    "\n",
    "Implica un paso forward excluyendo el calculo de la función de pérdida y la optimización"
   ]
  },
  {
   "cell_type": "code",
   "execution_count": 24,
   "id": "c523158a-3b62-47b9-b7c4-0141add4782a",
   "metadata": {
    "colab": {
     "base_uri": "https://localhost:8080/"
    },
    "editable": true,
    "id": "f82ae926",
    "outputId": "4f062ce2-6094-4c6a-8744-8dad1d26769e",
    "slideshow": {
     "slide_type": ""
    },
    "tags": [
     "hide-cell"
    ]
   },
   "outputs": [],
   "source": [
    "from datetime import datetime\n",
    "def runEvaluaModelo():\n",
    "    out_dir = os.path.join(path, 'T1019s2', 'out_jupyter')\n",
    "    num_examples = 0\n",
    "    num_crops = 0\n",
    "    num_bins = config.network_config.num_bins\n",
    "    torsion_bins = config.network_config.torsion_bins\n",
    "    crop_size_x = config.crop_size_x\n",
    "    crop_size_y = config.crop_size_y\n",
    "    \n",
    "    prob_weights = 1\n",
    "    if config.eval_config.pyramid_weights > 0:\n",
    "        sx = np.expand_dims(np.linspace(1.0 / crop_size_x, 1, crop_size_x), 1)\n",
    "        sy = np.expand_dims(np.linspace(1.0 / crop_size_y, 1, crop_size_y), 0)\n",
    "        prob_weights = np.minimum(np.minimum(sx, np.flipud(sx)),\n",
    "                                  np.minimum(sy, np.fliplr(sy)))\n",
    "        prob_weights /= np.max(prob_weights)\n",
    "        prob_weights = np.minimum(prob_weights, config.eval_config.pyramid_weights) # crop_size_x x crop_size_y\n",
    "    \n",
    "    start_t = datetime.now()\n",
    "    for protein, crops in dataloader:\n",
    "        L = protein.len\n",
    "        #print('Data: ',protein.targets.domain_name, L)\n",
    "        print('protein.seq=', protein.seq)\n",
    "    \n",
    "        # Crops\n",
    "        contact_prob_accum = np.zeros((L, L, 2), dtype=np.float32)\n",
    "        distance_prob_accum = np.zeros((L, L, num_bins), dtype=np.float32)\n",
    "        sec_accum = np.zeros((L, 8), dtype=np.float32)\n",
    "        tor_accum = np.zeros((L, torsion_bins**2), dtype=np.float32)\n",
    "        asa_accum = np.zeros((L,), dtype=np.float32)\n",
    "        weights_1d_accum = np.zeros((L,), dtype=np.float32)\n",
    "        num_crops_local = 0\n",
    "    \n",
    "        for x_2d, crop_x, crop_y in crops:\n",
    "            ic = max(0, crop_x[0])\n",
    "            jc = max(0, crop_y[0])\n",
    "            ic_to = min(L, crop_x[1])\n",
    "            jc_to = min(L, crop_y[1])\n",
    "            prepad_x = max(0, -crop_x[0])\n",
    "            prepad_y = max(0, -crop_y[0])\n",
    "            postpad_x = crop_x[1] - ic_to\n",
    "            postpad_y = crop_y[1] - jc_to\n",
    "    \n",
    "            with torch.no_grad():\n",
    "                x_2d = np.transpose(x_2d, (2, 0, 1)) # to NCHW shape\n",
    "                x_2d = torch.tensor([np.asarray(x_2d)]).float().to(device)\n",
    "                crop_x = torch.tensor([crop_x]).to(device)\n",
    "                crop_y = torch.tensor([crop_y]).to(device)\n",
    "                out = model(x_2d, crop_x, crop_y)\n",
    "                out = {k:t.cpu() for k,t in out.items()}\n",
    "    \n",
    "            contact_probs = out['contact_probs'][0,\n",
    "                                                 prepad_y:crop_size_y - postpad_y,\n",
    "                                                 prepad_x:crop_size_x - postpad_x].numpy()\n",
    "            distance_probs = out['distance_probs'][0,\n",
    "                                                   prepad_y:crop_size_y - postpad_y,\n",
    "                                                   prepad_x:crop_size_x - postpad_x].numpy()\n",
    "            weight = prob_weights[prepad_y:crop_size_y - postpad_y,\n",
    "                                  prepad_x:crop_size_x - postpad_x]\n",
    "    \n",
    "            contact_prob_accum[jc:jc_to, ic:ic_to, 0] += contact_probs * weight\n",
    "            contact_prob_accum[jc:jc_to, ic:ic_to, 1] += weight\n",
    "            distance_prob_accum[jc:jc_to, ic:ic_to, :] += distance_probs * np.expand_dims(weight, 2)\n",
    "            weights_1d_accum[jc:jc_to] += 1\n",
    "            weights_1d_accum[ic:ic_to] += 1\n",
    "    \n",
    "            if 'secstruct_probs' in out:\n",
    "                sec_x = out['secstruct_probs'][0, prepad_x:crop_size_x - postpad_x].numpy()\n",
    "                sec_y = out['secstruct_probs'][0, crop_size_x + prepad_y:crop_size_x + crop_size_y - postpad_y].numpy()\n",
    "                sec_accum[ic:ic + sec_x.shape[0]] += sec_x\n",
    "                sec_accum[jc:jc + sec_y.shape[0]] += sec_y\n",
    "    \n",
    "            if 'torsion_probs' in out:\n",
    "                tor_x = out['torsion_probs'][0, prepad_x:crop_size_x - postpad_x].numpy()\n",
    "                tor_y = out['torsion_probs'][0, crop_size_x + prepad_y:crop_size_x + crop_size_y - postpad_y].numpy()\n",
    "                tor_accum[ic:ic + tor_x.shape[0]] += tor_x\n",
    "                tor_accum[jc:jc + tor_y.shape[0]] += tor_y\n",
    "    \n",
    "            if 'asa_output' in out:\n",
    "                asa_x = out['asa_output'][0, prepad_x:crop_size_x - postpad_x].numpy()\n",
    "                asa_y = out['asa_output'][0, crop_size_x + prepad_y:crop_size_x + crop_size_y - postpad_y].numpy()\n",
    "                asa_accum[ic:ic + asa_x.shape[0]] += np.squeeze(asa_x, 1)\n",
    "                asa_accum[jc:jc + asa_y.shape[0]] += np.squeeze(asa_y, 1)\n",
    "    \n",
    "            num_crops_local += 1\n",
    "    \n",
    "        print('Total num_crops_local=', num_crops_local)\n",
    "        assert (contact_prob_accum[:, :, 1] > 0.0).all()\n",
    "        contact_accum = contact_prob_accum[:, :, 0] / contact_prob_accum[:, :, 1]\n",
    "        distance_accum = distance_prob_accum[:, :, :] / contact_prob_accum[:, :, 1:2]\n",
    "        asa_accum /= weights_1d_accum\n",
    "        sec_accum /= np.expand_dims(weights_1d_accum, 1)\n",
    "        tor_accum /= np.expand_dims(weights_1d_accum, 1)\n",
    "        # The probs are symmetrical\n",
    "        contact_accum = (contact_accum + contact_accum.transpose()) / 2\n",
    "        distance_accum = (distance_accum + np.transpose(distance_accum, [1, 0, 2])) / 2\n",
    "    \n",
    "        # Save the output files (contacts)\n",
    "        path_contact = os.path.join(out_dir, f'{protein.targets.domain_name}.contact')\n",
    "        file_contact = pathlib.Path(path_contact)\n",
    "        contact_accum.dump(file_contact)\n",
    "        # Save the output files\n",
    "        path_distance = os.path.join(out_dir, f'{protein.targets.domain_name}.distance')\n",
    "        file_distance = pathlib.Path(path_distance)\n",
    "        distance_accum.dump(file_distance)\n",
    "        #distance_accum.dump(out_dir / f'{protein.targets.domain_name}.distance')\n",
    "        path_torsion = os.path.join(out_dir, f'{protein.targets.domain_name}.torsion')\n",
    "        file_torsion = pathlib.Path(path_torsion)\n",
    "        if config.network_config.torsion_multiplier > 0:\n",
    "            tor_accum.dump(file_torsion)\n",
    "            #tor_accum.dump(out_dir / f'{protein.targets.domain_name}.torsion')\n",
    "        path_sec = os.path.join(out_dir, f'{protein.targets.domain_name}.sec')\n",
    "        file_sec = pathlib.Path(path_sec)\n",
    "        if config.network_config.secstruct_multiplier > 0:\n",
    "            #utils.save_seq_prob(sec_accum, protein.seq, out_dir / f'{protein.targets.domain_name}.sec')\n",
    "            save_seq_prob(sec_accum, protein.seq, file_sec)\n",
    "        path_asa = os.path.join(out_dir, f'{protein.targets.domain_name}.torsion')\n",
    "        file_asa = pathlib.Path(path_torsion)\n",
    "        if config.network_config.asa_multiplier > 0:\n",
    "            #utils.save_seq_prob(asa_accum, protein.seq, out_dir / f'{protein.targets.domain_name}.asa')\n",
    "            save_seq_prob(asa_accum, protein.seq, file_asa)\n",
    "    \n",
    "        print('done dump to distance, torsion sec and asa files!')\n",
    "    \n",
    "        num_examples += 1\n",
    "        num_crops += num_crops_local\n",
    "        if num_examples >= config.eval_config.max_num_examples: break\n",
    "            \n",
    "    time_spent = datetime.now() - start_t\n",
    "    \n",
    "    print(f'Evaluate {num_examples} examples, {num_crops} crops, {num_crops/num_examples:.1f} crops/ex')\n",
    "    print(f'Cost time {time_spent}, {time_spent/num_examples} s/example, {time_spent/num_crops} s/crops\\n')\n"
   ]
  },
  {
   "cell_type": "code",
   "execution_count": 25,
   "id": "9bd1dde7-5b52-4e95-94ed-23eb383653c3",
   "metadata": {},
   "outputs": [
    {
     "name": "stdout",
     "output_type": "stream",
     "text": [
      "El modo evaluación no está activo!\n"
     ]
    }
   ],
   "source": [
    "if modoEvaluacion:\n",
    "    runEvaluaModelo()\n",
    "else:\n",
    "    print('El modo evaluación no está activo!')"
   ]
  },
  {
   "cell_type": "markdown",
   "id": "8fad2e05",
   "metadata": {
    "id": "8fad2e05"
   },
   "source": [
    "## Se dibujan los resultados\n",
    "\n",
    "Se muestran los distogramas obtenidos en la ultima secuencia de la anterior iteración, según quedó guardado en las variables de memoria"
   ]
  },
  {
   "cell_type": "code",
   "execution_count": 38,
   "id": "406d1b1d",
   "metadata": {
    "colab": {
     "base_uri": "https://localhost:8080/",
     "height": 540
    },
    "id": "406d1b1d",
    "outputId": "6290345b-5d3a-4eb5-84c2-c7814c1d90db"
   },
   "outputs": [
    {
     "data": {
      "image/png": "[encoded data removed]",
      "text/plain": [
       "<Figure size 1500x1500 with 1 Axes>"
      ]
     },
     "metadata": {},
     "output_type": "display_data"
    }
   ],
   "source": [
    "import matplotlib.image as mpimg\n",
    "import matplotlib.pyplot as plt\n",
    "\n",
    "for protein, crops in dataloader:\n",
    "    m_target = protein.targets.domain_name\n",
    "if modoEvaluacion:\n",
    "    file_out = os.path.join(path, 'T1019s2', 'out_jupyter', m_target + '.png')\n",
    "    plot_contact_map(m_target, [contact_accum, distance_accum], file_out)\n",
    "else:\n",
    "    file_in = os.path.join(path, 'T1019s2', 'out_jupyter', m_target + '.png')\n",
    "    fig, ax = plt.subplots(figsize=(15, 15))\n",
    "    img = mpimg.imread(file_in)\n",
    "    ax.imshow(img)\n",
    "    ax.set_axis_off()"
   ]
  },
  {
   "cell_type": "code",
   "execution_count": null,
   "id": "b5ce1235-65d4-4f3f-afc5-745e40106659",
   "metadata": {},
   "outputs": [],
   "source": []
  },
  {
   "cell_type": "code",
   "execution_count": null,
   "id": "d1b88237-c872-4671-932b-e8bb23a39389",
   "metadata": {},
   "outputs": [],
   "source": []
  }
 ],
 "metadata": {
  "accelerator": "GPU",
  "colab": {
   "collapsed_sections": [],
   "name": "05.ARRNN_AlphaFold_GeometriaProteinas_Pytorch.ipynb",
   "provenance": []
  },
  "kernelspec": {
   "display_name": "Python 3 (ipykernel)",
   "language": "python",
   "name": "python3"
  },
  "language_info": {
   "codemirror_mode": {
    "name": "ipython",
    "version": 3
   },
   "file_extension": ".py",
   "mimetype": "text/x-python",
   "name": "python",
   "nbconvert_exporter": "python",
   "pygments_lexer": "ipython3",
   "version": "3.11.5"
  }
 },
 "nbformat": 4,
 "nbformat_minor": 5
}

{
 "cells": [
  {
   "cell_type": "markdown",
   "metadata": {},
   "source": [
    "# Clasificación naive-Bayes"
   ]
  },
  {
   "cell_type": "markdown",
   "metadata": {},
   "source": [
    "## Ejemplos del empleo de los clasificadores\n",
    "\n",
    "Un __clasificador es un método supervisado__ que permite entrenar un modelo para que determine __la clase más probable__ que debemos asignar a un registro dado de características. Para ello el conjunto de entrenamiento tendrá una serie de $N$ registros clasificados, que permiten al ordenador aprender a clasificar registros sin clase. Por ejemplo:\n",
    "\n",
    "- __Detección de SPAM__. En base a un conjunto de características de los correos se entrena con supervisión al ordenador para que determine si son o no SPAM.\n",
    "- __Datos de microarrays__. A partir de un subconjunto de genes óptimos para diagnosticar cancer."
   ]
  },
  {
   "cell_type": "markdown",
   "metadata": {},
   "source": [
    "## Resumen del método Naïve Bayes\n",
    "\n",
    "Si la matriz $X$ está compuesta por $N$ observaciones (filas) con $n$ características $X_1, ..., X_i, ..., X_n$ que forman las columnas de la matriz.\n",
    "\n",
    "Si la matriz de objetivos $Y$ tiene $m$ clases dadas por $1, ..., k, ..., m$.\n",
    "\n",
    "Una observación $\\bar{x}=(x_1, x_2, \\cdots, x_n)$, no etiquetada, de acuerdo al __Teorema de Bayes__ se etiqueta en aquella clase $k$ que cumple:\n",
    "\n",
    "$$ clase(\\bar{x}) = \\underset{k \\in \\{1,...,m\\}}{\\arg\\max} P(k)P(\\bar{x}|k)$$\n",
    "\n",
    "Si hacemos la __suposición Naïve__ de que los valores de las características $X_i$ son __independientes__ entre si y tienen una __distribución normal__ gaussiana (para los valores $X_i$ asociados a una clase $k$ (columna __i__ de la matriz $X$ filtrada por la clase __k__) se conoce su media $\\mu_{i,k}$ y varianza $\\sigma_{i,k}^{2}$)\n",
    "\n",
    "Una observación $\\bar{x}=(x_1, x_2, \\cdots, x_n)$, no etiquetada, pertenece a la clase $k$ si tiene máximo el valor: \n",
    "\n",
    "$$ clase(\\bar{x}) = \\underset{k \\in \\{1,...,m\\}}{\\arg\\max} \\frac{n_k}{N}\\prod\\limits_{i=1}^{n} N(x_i, \\mu_{i,k}\\thinspace, \\sigma_{i,k}^2)$$\n",
    "\n",
    "Donde:\n",
    "\n",
    "- $N(x_i, \\mu_{i,k}\\thinspace, \\sigma_{i,k}^2)$ : es la función de densidad normal gaussiana del valor $x_i$ observado en la columna $X_i$ para la clase $k$.\n",
    "- $\\frac{n_k}{N}$ : es la frecuencia de la clase $k$ en la matriz $X$ se obtiene a partir del número de observaciones etiquetadas como clase $k$ sobre el total.\n",
    "\n",
    "Observe que para definir el modelo son necesarias $n \\times m$ distribuciones normales distintas.\n",
    "\n",
    "Con la __suposición Naïve__ de que los valores de las características $X_i$ son __independientes__ entre si y si todos los $X_i$ son valores discretos en el intervalo por ejemplo $(1,...,p, ...)$ se pueden calcular sus __frecuencias__ y resolver: \n",
    "\n",
    "$$ clase(\\bar{x}) = \\underset{k \\in \\{1,...,m\\}}{\\arg\\max} \\frac{n_k}{N}\\prod\\limits_{i=1}^{n} f_{k,i}(p)$$\n",
    "\n",
    "Siendo $f_{k,i}(p)$ la frecuencia de aparición del valor $p$ en la columna $i$ en aquellas observaciones del conjunto de entrenamiento clasificadas como $k$.\n",
    "\n",
    "$$f_{k,i}(p)=\\frac{n_{k,i,p}}{n_k}$$\n",
    "\n",
    "Siendo $n_{k,i,p}$ el número de elementos del conjunto de entrenamiento que cumple $x_i=p$ además de $y=k$\n",
    "\n",
    "Siendo $n_k$ el número de elementos del conjunto de entrenamiento que cumple $y=k$"
   ]
  },
  {
   "cell_type": "markdown",
   "metadata": {},
   "source": [
    "## Detalle del método Naïve Bayes\n",
    "\n",
    "### Definición de probabilidad condicionada\n",
    "La probabilidad del suceso $A$ condicionada a que ocurra el suceso $B$ viene dado por la probabilidad de la intersección $A \\cap B$ divido por la probabilidad de $B$ (casos probables entre casos posibles en este contexto):\n",
    "\n",
    "$$P(A|B)=\\frac{P(A \\cap B)}{P(B)}$$\n",
    "\n",
    "<img src=\"images/Bayes_1.png\" width=\"300px\">\n",
    "\n",
    "De la anterior ecuación se pueden deducir las siguientes dos ecuaciones:\n",
    "\n",
    "$$P(A \\cap B)=P(B)P(A|B)$$\n",
    "$$P(A \\cap B)=P(A)P(B|A)$$\n",
    "\n",
    "### Probabilidad en una partición\n",
    "Si en un espacio muestral $S$ se consideran $k$ sucesos disjuntos $A_1, A_2, ..., A_k$ de forma que $\\cup^k_{i=1} A_i=S$, se dice que estos sucesos constituyen una partición de $S$ y se cumple\n",
    "\n",
    "$$B = (A_1\\cap B)\\cup (A_2\\cap B)\\cup ... \\cup (A_k\\cap B)$$\n",
    "\n",
    "Y como los sucesos de la derecha son disjuntos se cumplirá que\n",
    "$$P(B) = \\sum ^k _{j=1} P(A_j \\cap B) = \\sum ^k _{j=1} P(A_j) P(B|A_j) $$\n",
    "\n",
    "<img src=\"images/Bayes_2.png\" width=\"400px\">\n",
    "\n",
    "### Enunciado y demostración del teorema de Bayes\n",
    "\n",
    "__Teorema de Bayes.__ Dada la partición $A_1, A_2, ..., A_k$ del espacio $S$ tal que $P(A_j)\\gt 0$ para $j=1,...,k$ y sea $B$ cualquier suceso tal que $P(B) \\gt 0$. Entonces para $i=1,...,k$:\n",
    "\n",
    "$$P(A_i|B)=\\frac{P(A_i)P(B|A_i)}{\\sum ^k _{j=1} P(A_j) P(B|A_j)} \\hspace{1em} (1)$$\n",
    "\n",
    "__La demostración__ viene dada por la definición de probabilidad condicionada:\n",
    "\n",
    "$$P(A_i|B)=\\frac{P(A_i \\cap B)}{P(B)}$$\n",
    "\n",
    "El numerador de la parte derecha de la ecuación $(1)$ es igual a $P(A_i \\cap B)$ y el denominador es igual a $P(B)$\n",
    "\n",
    "### Probabilidad de clasificar un vector de atributos en una clase\n",
    "\n",
    "Sabiendo que un registro de nuestro conjunto tiene __$\\bar{x}$ como vector de atributos__, ¿__cuál es la probabilidad de clasificarla en la clase $y=k$__? Aplicando el teorema de Bayes:\n",
    "\n",
    "$$P(k|\\bar{x})=\\frac{P(k)P(\\bar{x}|k)}{P(\\bar{x})}$$\n",
    "\n",
    "- $P(\\bar{x}|k)$ se denomina __verosimilitud__ (likelihood).\n",
    "- $P(k|\\bar{x})$ se llama __probabilidad a posteriori__ de la clase (posterior).\n",
    "- $P(k)$ se llama __probabilidad a priori__ de la clase.\n",
    "- $P(\\bar{x})$ se llama __verosimilitud marginal__ (o probabilidad a priori del vector de atributos)."
   ]
  },
  {
   "cell_type": "markdown",
   "metadata": {},
   "source": [
    "__Se tomará aquella clase cuya probabilidad a posteriori es mayor__\n",
    "\n",
    "- Es decir, aquella clase $y=k$ cuya $P(k|\\bar{x})$ sea máxima:\n",
    "\n",
    "$$ clase(\\bar{x}) = \\underset{k \\in \\{1,...,m\\}}{\\arg\\max} P(k|\\bar{x}) = \\underset{k \\in \\{1,...,m\\}}{\\arg\\max} \\frac{P(k)P(\\bar{x}|k)}{P(\\bar{x})} $$\n",
    "\n",
    "- Y como $P(\\bar{x})$ no depende de $k$ __bastará con tomar el valor máximo de__:\n",
    "\n",
    "$$ clase(\\bar{x}) = \\underset{k \\in \\{1,...,m\\}}{\\arg\\max} P(k)P(\\bar{x}|k)$$"
   ]
  },
  {
   "cell_type": "markdown",
   "metadata": {},
   "source": [
    "### Suposición Naïf\n",
    "\n",
    "- Los atributos observados en cualquier instancia son __independientes__ una vez que sabemos que la instancia pertenece a la clase $k$. Esto es si el vector $\\bar{x}$ está formado por $n$ atributos ($\\bar{x}=(x_1, x_2, ..., x_n)$). La probabilidad $P(\\bar{x}|k)$ es:\n",
    "\n",
    "$$P(\\bar{x}|k) = P(x_1|k)P(x_2|k) \\cdots P(x_n|k)=\\prod\\limits_{i=1}^{n}P(x_i|k)$$"
   ]
  },
  {
   "cell_type": "markdown",
   "metadata": {},
   "source": [
    "### Estimación de probabilidades\n",
    "\n",
    "__Estimar $P(k)$ es tan sencillo como calcular la frecuencia de la clase en el conjunto de entrenamiento__:\n",
    "\n",
    "$$P(k)=\\frac{n_{k}}{N}$$\n",
    "\n",
    "Siendo $n_{k}$ el número de registros de clase $k$ en el conjunto de entrenamiento. Y $N$ el total de elementos en el conjunto de entrenamiento.\n",
    "\n",
    "__Estimar la verosimilitud $P(x_i|k)$ depende de__:\n",
    "\n",
    "- Si los __atributos $x_i$ son discretos__ (caso DNA splicing) se cuentan las frecuencias.\n",
    "- Si los __atributos $x_i$ son continuos__ (caso conjunto Iris) se supone que _cada atributo_ se distribuye de acuerdo a una distribución normal: \n",
    "\n",
    "$$\n",
    "P(x_i|k)\\sim N(\\mu_{i,k} \\thinspace , \\sigma_{i,k}^2)\n",
    "$$\n",
    "\n",
    "y se utiliza la función de densidad gaussiana:\n",
    "\n",
    "$$\n",
    "P(x_i|k)=\\phi(x_i,\\mu_{i,k}\\thinspace,\\sigma_{i,k}^2)=\\frac{1}{\\sqrt{2\\pi}\\sigma_{i,k}}exp\\left(-\\frac{x_i-\\mu_{i,k}^2}{2\\sigma_{i,k}^2}\\right)\n",
    "$$\n"
   ]
  },
  {
   "cell_type": "markdown",
   "metadata": {},
   "source": [
    "### Características de la clasificación Naïve-Bayes\n",
    "\n",
    "__Ventajas__:\n",
    "- __Simple__, rápido y efectivo.\n",
    "- Da buenos resultados con __datos con ruido__.\n",
    "- Requiere __relativamente pocos registros__ para entrenar, y también funciona bien con grandes conjuntos de datos.\n",
    "- Proporciona fácilmente la probabilidad estimada para cada __predicción__.\n",
    "\n",
    "__Inconvenientes__:\n",
    "- Supone independencia entre atributos, lo cual normalmente es __falso__.\n",
    "- En general no funciona bien con __atributos numéricos__, sobre todos si hay muchos.\n",
    "- La clasicación predicha es __más creíble__ que las probabilidades estimadas. Esto es debemos confiar más en el resultado $c$ obtenido en que en el valor numérico $P(c|x)$ como probabalidad.\n"
   ]
  },
  {
   "cell_type": "markdown",
   "metadata": {},
   "source": [
    "## Aplicar el método Naïve-Bayes para clasificar el conjunto Iris\n",
    "\n",
    "__El conjunto de datos de Iris se encuentra en la librería sk-learn__, por lo que se importa de ahí\n",
    "\n",
    "   - Primero se vuelca a un DataFrame, con 4 columnas con sus caracteristicas y una columna con la clasificación objetivo\n",
    "   - Se muestra la descripción de cada uno de los valores (0, 1, 2) objetivo."
   ]
  },
  {
   "cell_type": "code",
   "execution_count": 2,
   "metadata": {},
   "outputs": [
    {
     "data": {
      "text/html": [
       "<div>\n",
       "<style scoped>\n",
       "    .dataframe tbody tr th:only-of-type {\n",
       "        vertical-align: middle;\n",
       "    }\n",
       "\n",
       "    .dataframe tbody tr th {\n",
       "        vertical-align: top;\n",
       "    }\n",
       "\n",
       "    .dataframe thead th {\n",
       "        text-align: right;\n",
       "    }\n",
       "</style>\n",
       "<table border=\"1\" class=\"dataframe\">\n",
       "  <thead>\n",
       "    <tr style=\"text-align: right;\">\n",
       "      <th></th>\n",
       "      <th>sepal length (cm)</th>\n",
       "      <th>sepal width (cm)</th>\n",
       "      <th>petal length (cm)</th>\n",
       "      <th>petal width (cm)</th>\n",
       "      <th>target</th>\n",
       "    </tr>\n",
       "  </thead>\n",
       "  <tbody>\n",
       "    <tr>\n",
       "      <th>0</th>\n",
       "      <td>5.1</td>\n",
       "      <td>3.5</td>\n",
       "      <td>1.4</td>\n",
       "      <td>0.2</td>\n",
       "      <td>0</td>\n",
       "    </tr>\n",
       "    <tr>\n",
       "      <th>1</th>\n",
       "      <td>4.9</td>\n",
       "      <td>3.0</td>\n",
       "      <td>1.4</td>\n",
       "      <td>0.2</td>\n",
       "      <td>0</td>\n",
       "    </tr>\n",
       "    <tr>\n",
       "      <th>2</th>\n",
       "      <td>4.7</td>\n",
       "      <td>3.2</td>\n",
       "      <td>1.3</td>\n",
       "      <td>0.2</td>\n",
       "      <td>0</td>\n",
       "    </tr>\n",
       "    <tr>\n",
       "      <th>3</th>\n",
       "      <td>4.6</td>\n",
       "      <td>3.1</td>\n",
       "      <td>1.5</td>\n",
       "      <td>0.2</td>\n",
       "      <td>0</td>\n",
       "    </tr>\n",
       "    <tr>\n",
       "      <th>4</th>\n",
       "      <td>5.0</td>\n",
       "      <td>3.6</td>\n",
       "      <td>1.4</td>\n",
       "      <td>0.2</td>\n",
       "      <td>0</td>\n",
       "    </tr>\n",
       "  </tbody>\n",
       "</table>\n",
       "</div>"
      ],
      "text/plain": [
       "   sepal length (cm)  sepal width (cm)  petal length (cm)  petal width (cm)  \\\n",
       "0                5.1               3.5                1.4               0.2   \n",
       "1                4.9               3.0                1.4               0.2   \n",
       "2                4.7               3.2                1.3               0.2   \n",
       "3                4.6               3.1                1.5               0.2   \n",
       "4                5.0               3.6                1.4               0.2   \n",
       "\n",
       "   target  \n",
       "0       0  \n",
       "1       0  \n",
       "2       0  \n",
       "3       0  \n",
       "4       0  "
      ]
     },
     "execution_count": 2,
     "metadata": {},
     "output_type": "execute_result"
    }
   ],
   "source": [
    "from sklearn.datasets import load_iris\n",
    "import pandas as pd\n",
    "iris = load_iris()\n",
    "df = pd.DataFrame(iris.data, columns=iris.feature_names)\n",
    "df['target']=iris['target']\n",
    "df.head()"
   ]
  },
  {
   "cell_type": "code",
   "execution_count": 3,
   "metadata": {},
   "outputs": [
    {
     "data": {
      "text/plain": [
       "array(['setosa', 'versicolor', 'virginica'], dtype='<U10')"
      ]
     },
     "execution_count": 3,
     "metadata": {},
     "output_type": "execute_result"
    }
   ],
   "source": [
    "iris['target_names']"
   ]
  },
  {
   "cell_type": "markdown",
   "metadata": {},
   "source": [
    "### Inicialmente se divide el conjunto de datos de entrada en Entrenamiento (75%) y Validación (25%). Conjuntos Train y Test\n",
    "\n",
    " - Para hacer esta división del conjunto se utiliza una función de la librería sk-learn: __train_test_split__\n",
    " - Los parámetro __train_test__ o __test_size__ : indica el ratio que tiene el conjunto de entrenamiento o validación respecto al total.\n",
    " - El parámetro __shuffle__ : indica si los datos se barajan antes de dividirse\n",
    " - El parámetro __random_state__ : se indica que la división aleatoria ha de ser reproducible\n",
    " - El parámetro __stratity__ : indica que la división se realiza proporcional a los valores de las etiquetas\n",
    " \n",
    " Mas detalles : https://scikit-learn.org/stable/modules/generated/sklearn.model_selection.train_test_split.html"
   ]
  },
  {
   "cell_type": "code",
   "execution_count": 4,
   "metadata": {},
   "outputs": [],
   "source": [
    "from sklearn.model_selection import train_test_split\n",
    "X, y = df.values[:,0:4], df.values[:,4]\n",
    "X_train, X_test, y_train, y_test =train_test_split(X, y, test_size=0.25, random_state=0, stratify=y)"
   ]
  },
  {
   "cell_type": "code",
   "execution_count": 5,
   "metadata": {},
   "outputs": [
    {
     "data": {
      "text/plain": [
       "array([0., 0., 0., 0., 1., 1., 1., 0., 1., 2., 2., 2., 1., 2., 1., 0., 0.,\n",
       "       2., 0., 1., 2., 1., 1., 0., 2., 0., 0., 1., 2., 1., 0., 1., 2., 2.,\n",
       "       0., 1., 2., 2.])"
      ]
     },
     "execution_count": 5,
     "metadata": {},
     "output_type": "execute_result"
    }
   ],
   "source": [
    "y_test"
   ]
  },
  {
   "cell_type": "markdown",
   "metadata": {},
   "source": [
    "## Implementación directa de la fórmula Naive Bayes"
   ]
  },
  {
   "cell_type": "markdown",
   "metadata": {},
   "source": [
    "### Cálculo de las Medias por clase y característica"
   ]
  },
  {
   "cell_type": "code",
   "execution_count": 6,
   "metadata": {},
   "outputs": [
    {
     "name": "stdout",
     "output_type": "stream",
     "text": [
      "Vector Media clase 0: [5.00540541 3.42432432 1.44324324 0.24864865]\n",
      "\n",
      "Vector Media clase 1: [5.8972973  2.72702703 4.23513514 1.32432432]\n",
      "\n",
      "Vector Media clase 2: [6.67368421 2.96842105 5.58421053 2.03421053]\n",
      "\n"
     ]
    }
   ],
   "source": [
    "### Vector de Medias\n",
    "import numpy as np\n",
    "numClases = np.size(np.unique(df['target']))\n",
    "mean_vectors = []\n",
    "for cl in range(numClases):\n",
    "    mean_vectors.append(np.mean(X_train[y_train==cl], axis=0))\n",
    "    print('Vector Media clase %s: %s\\n' %(cl, mean_vectors[cl]))"
   ]
  },
  {
   "cell_type": "code",
   "execution_count": 7,
   "metadata": {},
   "outputs": [
    {
     "data": {
      "text/html": [
       "<div>\n",
       "<style scoped>\n",
       "    .dataframe tbody tr th:only-of-type {\n",
       "        vertical-align: middle;\n",
       "    }\n",
       "\n",
       "    .dataframe tbody tr th {\n",
       "        vertical-align: top;\n",
       "    }\n",
       "\n",
       "    .dataframe thead th {\n",
       "        text-align: right;\n",
       "    }\n",
       "</style>\n",
       "<table border=\"1\" class=\"dataframe\">\n",
       "  <thead>\n",
       "    <tr style=\"text-align: right;\">\n",
       "      <th></th>\n",
       "      <th>Variedad</th>\n",
       "      <th>sepal length (cm)</th>\n",
       "      <th>sepal width (cm)</th>\n",
       "      <th>petal length (cm)</th>\n",
       "      <th>petal width (cm)</th>\n",
       "    </tr>\n",
       "  </thead>\n",
       "  <tbody>\n",
       "    <tr>\n",
       "      <th>0</th>\n",
       "      <td>setosa</td>\n",
       "      <td>5.005405</td>\n",
       "      <td>3.424324</td>\n",
       "      <td>1.443243</td>\n",
       "      <td>0.248649</td>\n",
       "    </tr>\n",
       "    <tr>\n",
       "      <th>1</th>\n",
       "      <td>versicolor</td>\n",
       "      <td>5.897297</td>\n",
       "      <td>2.727027</td>\n",
       "      <td>4.235135</td>\n",
       "      <td>1.324324</td>\n",
       "    </tr>\n",
       "    <tr>\n",
       "      <th>2</th>\n",
       "      <td>virginica</td>\n",
       "      <td>6.673684</td>\n",
       "      <td>2.968421</td>\n",
       "      <td>5.584211</td>\n",
       "      <td>2.034211</td>\n",
       "    </tr>\n",
       "  </tbody>\n",
       "</table>\n",
       "</div>"
      ],
      "text/plain": [
       "     Variedad  sepal length (cm)  sepal width (cm)  petal length (cm)  \\\n",
       "0      setosa           5.005405          3.424324           1.443243   \n",
       "1  versicolor           5.897297          2.727027           4.235135   \n",
       "2   virginica           6.673684          2.968421           5.584211   \n",
       "\n",
       "   petal width (cm)  \n",
       "0          0.248649  \n",
       "1          1.324324  \n",
       "2          2.034211  "
      ]
     },
     "execution_count": 7,
     "metadata": {},
     "output_type": "execute_result"
    }
   ],
   "source": [
    "cols = ['sepal length (cm)', 'sepal width (cm)', 'petal length (cm)', 'petal width (cm)']\n",
    "w_df = pd.DataFrame(mean_vectors, columns=cols)\n",
    "w_df.insert(0, 'Variedad', iris['target_names'])\n",
    "w_df.head()"
   ]
  },
  {
   "cell_type": "markdown",
   "metadata": {},
   "source": [
    "### Cálculo de las Desviaciones Típicas por clase y característica"
   ]
  },
  {
   "cell_type": "code",
   "execution_count": 8,
   "metadata": {},
   "outputs": [
    {
     "name": "stdout",
     "output_type": "stream",
     "text": [
      "Desviación estándar clase 0: [0.37772144 0.40895741 0.17636041 0.1029868 ]\n",
      "\n",
      "Desviación estándar clase 1: [0.50268817 0.30637254 0.51001654 0.20189026]\n",
      "\n",
      "Desviación estándar clase 2: [0.63523067 0.32126826 0.58558397 0.25160152]\n",
      "\n"
     ]
    }
   ],
   "source": [
    "### Vector de Desviaciones Estándar\n",
    "import numpy as np\n",
    "numClases = np.size(np.unique(df['target']))\n",
    "sds_vectors = []\n",
    "for cl in range(numClases):\n",
    "    sds_vectors.append(np.std(X_train[y_train==cl], axis=0))\n",
    "    print('Desviación estándar clase %s: %s\\n' %(cl, sds_vectors[cl]))"
   ]
  },
  {
   "cell_type": "markdown",
   "metadata": {},
   "source": [
    "__Nota:__ \n",
    "\n",
    "La expresión __y_train==cl__ devuelve una lista de true/false dependiendo de si se cumple la comparación.\n",
    "\n",
    "El array/arreglo __X_train[y_train==cl]__ es una copia de los datos de __X_train__ cuando la condición es __true__"
   ]
  },
  {
   "cell_type": "code",
   "execution_count": 9,
   "metadata": {},
   "outputs": [
    {
     "data": {
      "text/plain": [
       "array([False, False, False, False,  True,  True, False, False, False,\n",
       "       False, False, False, False,  True, False, False, False, False,\n",
       "       False,  True,  True, False, False,  True,  True,  True,  True,\n",
       "       False, False,  True,  True,  True, False, False, False,  True,\n",
       "        True, False, False,  True,  True, False, False, False, False,\n",
       "       False,  True, False, False,  True, False,  True, False, False,\n",
       "       False, False, False,  True, False, False, False, False,  True,\n",
       "       False, False, False, False, False,  True, False,  True, False,\n",
       "       False,  True,  True, False,  True, False, False, False, False,\n",
       "        True, False,  True, False, False, False, False, False, False,\n",
       "        True,  True,  True, False,  True, False,  True, False, False,\n",
       "       False, False, False, False,  True,  True, False, False, False,\n",
       "       False,  True,  True,  True])"
      ]
     },
     "execution_count": 9,
     "metadata": {},
     "output_type": "execute_result"
    }
   ],
   "source": [
    "y_train==cl"
   ]
  },
  {
   "cell_type": "code",
   "execution_count": 10,
   "metadata": {},
   "outputs": [
    {
     "data": {
      "text/html": [
       "<div>\n",
       "<style scoped>\n",
       "    .dataframe tbody tr th:only-of-type {\n",
       "        vertical-align: middle;\n",
       "    }\n",
       "\n",
       "    .dataframe tbody tr th {\n",
       "        vertical-align: top;\n",
       "    }\n",
       "\n",
       "    .dataframe thead th {\n",
       "        text-align: right;\n",
       "    }\n",
       "</style>\n",
       "<table border=\"1\" class=\"dataframe\">\n",
       "  <thead>\n",
       "    <tr style=\"text-align: right;\">\n",
       "      <th></th>\n",
       "      <th>Variedad</th>\n",
       "      <th>sepal length (cm)</th>\n",
       "      <th>sepal width (cm)</th>\n",
       "      <th>petal length (cm)</th>\n",
       "      <th>petal width (cm)</th>\n",
       "    </tr>\n",
       "  </thead>\n",
       "  <tbody>\n",
       "    <tr>\n",
       "      <th>0</th>\n",
       "      <td>setosa</td>\n",
       "      <td>0.377721</td>\n",
       "      <td>0.408957</td>\n",
       "      <td>0.176360</td>\n",
       "      <td>0.102987</td>\n",
       "    </tr>\n",
       "    <tr>\n",
       "      <th>1</th>\n",
       "      <td>versicolor</td>\n",
       "      <td>0.502688</td>\n",
       "      <td>0.306373</td>\n",
       "      <td>0.510017</td>\n",
       "      <td>0.201890</td>\n",
       "    </tr>\n",
       "    <tr>\n",
       "      <th>2</th>\n",
       "      <td>virginica</td>\n",
       "      <td>0.635231</td>\n",
       "      <td>0.321268</td>\n",
       "      <td>0.585584</td>\n",
       "      <td>0.251602</td>\n",
       "    </tr>\n",
       "  </tbody>\n",
       "</table>\n",
       "</div>"
      ],
      "text/plain": [
       "     Variedad  sepal length (cm)  sepal width (cm)  petal length (cm)  \\\n",
       "0      setosa           0.377721          0.408957           0.176360   \n",
       "1  versicolor           0.502688          0.306373           0.510017   \n",
       "2   virginica           0.635231          0.321268           0.585584   \n",
       "\n",
       "   petal width (cm)  \n",
       "0          0.102987  \n",
       "1          0.201890  \n",
       "2          0.251602  "
      ]
     },
     "execution_count": 10,
     "metadata": {},
     "output_type": "execute_result"
    }
   ],
   "source": [
    "cols = ['sepal length (cm)', 'sepal width (cm)', 'petal length (cm)', 'petal width (cm)']\n",
    "w_df = pd.DataFrame(sds_vectors, columns=cols)\n",
    "w_df.insert(0, 'Variedad', iris['target_names'])\n",
    "w_df.head()"
   ]
  },
  {
   "cell_type": "markdown",
   "metadata": {},
   "source": [
    "### Cálculo de las probabilidades por clase\n",
    "\n",
    "¡Es el porcentaje que tiene cada clase $(0, 1, ..., k-1)$ en el conjunto __y_train__, matriz columna con las clasificaciones del conjunto de entrenamiento!"
   ]
  },
  {
   "cell_type": "code",
   "execution_count": 11,
   "metadata": {},
   "outputs": [
    {
     "name": "stdout",
     "output_type": "stream",
     "text": [
      "Probabilidad clase 0: 0.33035714285714285\n",
      "\n",
      "Probabilidad clase 1: 0.33035714285714285\n",
      "\n",
      "Probabilidad clase 2: 0.3392857142857143\n",
      "\n"
     ]
    },
    {
     "data": {
      "text/plain": [
       "1.0"
      ]
     },
     "execution_count": 11,
     "metadata": {},
     "output_type": "execute_result"
    }
   ],
   "source": [
    "### Vector de Probabilidades\n",
    "numClases = np.size(np.unique(df['target']))\n",
    "probab = []\n",
    "for cl in range(numClases):\n",
    "    probab.append(np.size(y_train[y_train==cl])/np.size(y_train))\n",
    "    print('Probabilidad clase %s: %s\\n' %(cl, probab[cl]))\n",
    "np.sum(probab)"
   ]
  },
  {
   "cell_type": "code",
   "execution_count": 12,
   "metadata": {},
   "outputs": [
    {
     "data": {
      "text/html": [
       "<div>\n",
       "<style scoped>\n",
       "    .dataframe tbody tr th:only-of-type {\n",
       "        vertical-align: middle;\n",
       "    }\n",
       "\n",
       "    .dataframe tbody tr th {\n",
       "        vertical-align: top;\n",
       "    }\n",
       "\n",
       "    .dataframe thead th {\n",
       "        text-align: right;\n",
       "    }\n",
       "</style>\n",
       "<table border=\"1\" class=\"dataframe\">\n",
       "  <thead>\n",
       "    <tr style=\"text-align: right;\">\n",
       "      <th></th>\n",
       "      <th>Variedad</th>\n",
       "      <th>Probabilidad</th>\n",
       "    </tr>\n",
       "  </thead>\n",
       "  <tbody>\n",
       "    <tr>\n",
       "      <th>0</th>\n",
       "      <td>setosa</td>\n",
       "      <td>0.330357</td>\n",
       "    </tr>\n",
       "    <tr>\n",
       "      <th>1</th>\n",
       "      <td>versicolor</td>\n",
       "      <td>0.330357</td>\n",
       "    </tr>\n",
       "    <tr>\n",
       "      <th>2</th>\n",
       "      <td>virginica</td>\n",
       "      <td>0.339286</td>\n",
       "    </tr>\n",
       "  </tbody>\n",
       "</table>\n",
       "</div>"
      ],
      "text/plain": [
       "     Variedad  Probabilidad\n",
       "0      setosa      0.330357\n",
       "1  versicolor      0.330357\n",
       "2   virginica      0.339286"
      ]
     },
     "execution_count": 12,
     "metadata": {},
     "output_type": "execute_result"
    }
   ],
   "source": [
    "cols = ['Probabilidad']\n",
    "w_df = pd.DataFrame(probab, columns=cols)\n",
    "w_df.insert(0, 'Variedad', iris['target_names'])\n",
    "w_df.head()"
   ]
  },
  {
   "cell_type": "markdown",
   "metadata": {},
   "source": [
    "### Implementamos una función para calcular la probabilidad de un observación por Naive-Bayes\n",
    "\n",
    "__norm.pdf__ implementa la función de densidad de una distribución normal de media $\\mu$ y desviación típica $\\sigma$:\n",
    "\n",
    "$$f(x)=\\frac{1}{\\sigma\\sqrt{2\\pi}} \\cdot e^\\frac{(x-\\mu)^2}{2\\sigma^2}$$\n",
    "\n",
    "Se calcula la probabilidad $P(X_1|C) \\cdot P(X_2|C)...P(X_p|C) \\cdot P(C)$ de los __p__ tipos observados $x$ siendo __C__  cada clase $(0, 1, ..., k-1)$. El cálculo se almacena en una estructura __p__ de tipo __dictionary__. En lugar de un dictionary se podría haber optado por una lista o array también. \n",
    "\n",
    "__p__ va a contener __k__ valores con la probabilidad de pertener a cada clase según los valores de sus caracteristicas observadas __x__.\n",
    "\n",
    "En el proceso, primero se inicializa __p__ con la probabilidad marginal de cada clase $P(C)$, finalmente se le multiplica por la función de densidad de la normal de los __p__ valores observados __$X_1$ ... $X_p$__.\n",
    "\n",
    "El resultado de la función es la clase de máxima probabilidad que coincide con la posición del mayor valor, pues __pd.Series(p).values__ convierte el dictionary en un arreglo o vector donde la posiciones coinciden en este caso con las clases $(0, 1, ..., k-1)$. La posición de máximo valor lo da el método __argmax()__"
   ]
  },
  {
   "cell_type": "code",
   "execution_count": 13,
   "metadata": {},
   "outputs": [],
   "source": [
    "from scipy.stats import norm\n",
    "def NaiveBayes(x, mean_vectors, sds_vectors, probab, numClases):\n",
    "    p={} ##Lista tipo dictionary con la probabilidad de pertener a cada clase de cada observacion x\n",
    "    for cl in range(numClases):\n",
    "        p[cl]=probab[cl]\n",
    "        ## Para cada columna de datos\n",
    "        for ix in range(np.size(x)):\n",
    "            p[cl] *= norm.pdf(x[ix], mean_vectors[cl][ix], sds_vectors[cl][ix])\n",
    "    print(x, pd.Series(p).values,pd.Series(p).values.argmax())\n",
    "    return pd.Series(p).values.argmax()"
   ]
  },
  {
   "cell_type": "markdown",
   "metadata": {},
   "source": [
    "Se llama a __NaiveBayes__ y por cada observación $x$ del conjunto de entrenamiento se calcula el valor estimado. La calidad del clasificador vendrá dada por la exactitud o porcentaje de aciertos entre estimados y reales.\n",
    "\n",
    "_Nota:_ __zip__ es una función de Python que nos permite recorrer con __for__ simultaneamente dos listas __X_test__ e __y_test__."
   ]
  },
  {
   "cell_type": "code",
   "execution_count": 14,
   "metadata": {},
   "outputs": [
    {
     "name": "stdout",
     "output_type": "stream",
     "text": [
      "[5.1 3.4 1.5 0.2] [2.45053081e+00 1.40834091e-15 4.24516083e-25] 0\n",
      "[4.8 3.  1.4 0.1] [5.14231359e-01 6.59754490e-17 4.41419094e-27] 0\n",
      "[5.3 3.7 1.5 0.2] [1.48897676e+00 1.76221893e-16 1.62544089e-25] 0\n",
      "[5.1 3.3 1.7 0.5] [4.86620446e-02 2.69964773e-11 1.83666064e-20] 0\n",
      "[5.5 2.4 3.7 1. ] [4.22091386e-49 3.46640936e-02 1.31176675e-08] 1\n",
      "[5.7 2.8 4.5 1.3] [2.34482501e-89 4.11993004e-01 1.96205104e-04] 1\n",
      "[5.7 2.8 4.1 1.3] [2.11734622e-73 4.55207624e-01 4.38660082e-05] 1\n",
      "[4.9 3.1 1.5 0.1] [7.01828920e-01 2.06514800e-16 2.13993825e-26] 0\n",
      "[6.  3.4 4.5 1.6] [2.22155073e-104 1.59272776e-002 2.68454733e-003] 1\n",
      "[7.2 3.  5.8 1.6] [1.00870839e-177 4.39076609e-005 4.25316843e-002] 2\n",
      "[6.3 3.3 6.  2.5] [1.46923280e-251 7.23724703e-012 1.97671020e-002] 2\n",
      "[5.6 2.8 4.9 2. ] [1.62120692e-147 6.80577785e-004 2.98949661e-002] 2\n",
      "[5.8 2.7 4.1 1. ] [9.91518524e-63 1.37064865e-01 6.75755009e-07] 1\n",
      "[6.3 2.9 5.6 1.8] [4.59079436e-173 5.66551107e-004 1.52330264e-001] 2\n",
      "[5.5 2.5 4.  1.3] [5.30158203e-70 2.61933882e-01 6.52762843e-06] 1\n",
      "[5.1 3.7 1.5 0.4] [7.42711731e-01 1.54601530e-14 1.87618653e-23] 0\n",
      "[4.6 3.1 1.5 0.2] [1.03975908e+00 9.43308914e-16 1.00449689e-25] 0\n",
      "[6.5 3.  5.2 2. ] [3.25040154e-165 1.06773481e-004 2.18916674e-001] 2\n",
      "[5.1 3.8 1.5 0.3] [1.58947359e+00 4.76165116e-16 6.15106145e-25] 0\n",
      "[6.4 3.2 4.5 1.5] [1.43282835e-100 5.81720409e-002 3.79875469e-003] 1\n",
      "[5.9 3.  5.1 1.8] [2.47205624e-144 5.24951581e-003 6.24090377e-002] 2\n",
      "[5.6 3.  4.1 1.3] [6.22746692e-73 2.85524982e-01 3.88625760e-05] 1\n",
      "[6.7 3.1 4.7 1.5] [7.22470363e-111 3.17724489e-002 8.81619453e-003] 1\n",
      "[5.1 3.5 1.4 0.2] [2.46619493e+00 2.23454911e-16 7.97369617e-26] 0\n",
      "[6.1 2.6 5.6 1.4] [9.93809704e-151 1.15905672e-002 4.10714560e-003] 1\n",
      "[5.5 3.5 1.3 0.2] [8.00083749e-01 1.89714964e-16 9.05270240e-26] 0\n",
      "[4.8 3.4 1.9 0.2] [8.02814901e-02 2.25613080e-14 1.09419202e-23] 0\n",
      "[5.5 2.6 4.4 1.2] [4.51348444e-81 2.78209223e-01 1.42576570e-05] 1\n",
      "[5.8 2.7 5.1 1.9] [4.42283516e-151 2.10172494e-003 4.82491420e-002] 2\n",
      "[6.7 3.1 4.4 1.4] [6.19408126e-93 6.21826012e-02 1.41753140e-03] 1\n",
      "[5.1 3.8 1.6 0.2] [1.14214454e+00 9.58028320e-17 1.19074941e-25] 0\n",
      "[6.5 2.8 4.6 1.5] [8.66406112e-106 1.32542449e-001 6.13548757e-003] 1\n",
      "[6.9 3.1 5.4 2.1] [2.50829324e-185 1.57911395e-006 2.26872382e-001] 2\n",
      "[5.7 2.5 5.  2. ] [3.26503513e-153 4.45766225e-004 1.83716171e-002] 2\n",
      "[4.6 3.4 1.4 0.3] [1.43428769e+00 8.48053216e-16 2.22315713e-25] 0\n",
      "[7.  3.2 4.7 1.4] [1.46132813e-107 8.89297426e-003 2.57720499e-003] 1\n",
      "[6.3 3.4 5.6 2.4] [3.41814743e-218 6.54378179e-010 3.38810942e-002] 2\n",
      "[7.2 3.6 6.1 2.5] [8.61336276e-263 1.71431432e-014 3.59021543e-003] 2\n",
      "Exactitud del clasificador (porcentaje de aciertos)= 97.36842105263158 \n",
      "\n"
     ]
    }
   ],
   "source": [
    "numClases = np.size(np.unique(df['target']))\n",
    "tot_Test = np.size(y_test)\n",
    "tot_aciertos = 0\n",
    "y_pred = []\n",
    "for x, y in zip(X_test, y_test):\n",
    "    y_est = NaiveBayes(x, mean_vectors, sds_vectors, probab, numClases)\n",
    "    y_pred.append(y_est)\n",
    "    if (y==y_est): tot_aciertos +=1\n",
    "    #print('Instancia %s Clase real %s - Clase estimada %s \\n' %(x, y, y_est))\n",
    "print('Exactitud del clasificador (porcentaje de aciertos)= %s \\n' %(tot_aciertos*100/tot_Test))"
   ]
  },
  {
   "cell_type": "markdown",
   "metadata": {},
   "source": [
    "### Finalmente presentamos la matriz de confusión de la clasificación anterior\n",
    "\n",
    "La matriz de confusión tiene tantas filas y columnas como clases. __Las filas representan las clases correctas__ del conjunto de validación y __las columnas las estimaciones__ realizadas. Si la __precisión es 100% sale una matriz diagonal__.\n",
    "\n",
    "En este primer caso utilizamos un procedimiento poco encapsulado para obtener la matriz de confusión, dado que la clasificación se ha realizado con una rutina propia. A continuación, al usar un clasificador de sk-learn, será posible utilizar una función más encapsulada y con mejor salida gráfica para representar la matriz de confusión."
   ]
  },
  {
   "cell_type": "code",
   "execution_count": 15,
   "metadata": {},
   "outputs": [
    {
     "data": {
      "image/png": "[encoded data removed]",
      "text/plain": [
       "<Figure size 640x480 with 1 Axes>"
      ]
     },
     "metadata": {},
     "output_type": "display_data"
    }
   ],
   "source": [
    "from sklearn.metrics import confusion_matrix\n",
    "import matplotlib.pyplot as plt\n",
    "cm=confusion_matrix(y_test, y_pred)\n",
    "classNames = iris['target_names']\n",
    "numClass = np.size(classNames)\n",
    "plt.clf()\n",
    "plt.imshow(cm, interpolation='nearest', cmap=plt.cm.Wistia)\n",
    "for i in range(numClass):\n",
    "    for j in range(numClass):\n",
    "        plt.text(j,i, str(cm[i][j]))"
   ]
  },
  {
   "cell_type": "markdown",
   "metadata": {},
   "source": [
    "### Se muestra en detalle la función de distribución de cada clase\n",
    "\n",
    "Como se distribuyen en cada clase de Iris las distintos caracteristicas analizadas según sus valores.\n",
    "\n",
    "Se emplea __subplots(Filas, Columnas,[...])__ que permite realizar dibujos multiples en filas, columnas o cuadriculas. \n",
    "\n",
    "En cada dibujo se vuelca el histograma con el método __hist__ sobre los valores de cada característica y clase considerada. Para más detalle:\n",
    "\n",
    "https://matplotlib.org/stable/api/_as_gen/matplotlib.pyplot.subplots.html\n",
    "\n",
    "https://matplotlib.org/stable/gallery/subplots_axes_and_figures/subplots_demo.html"
   ]
  },
  {
   "cell_type": "code",
   "execution_count": 16,
   "metadata": {},
   "outputs": [
    {
     "data": {
      "text/plain": [
       "<function matplotlib.pyplot.show(close=None, block=None)>"
      ]
     },
     "execution_count": 16,
     "metadata": {},
     "output_type": "execute_result"
    },
    {
     "data": {
      "image/png": "[encoded data removed]",
      "text/plain": [
       "<Figure size 1500x1500 with 12 Axes>"
      ]
     },
     "metadata": {},
     "output_type": "display_data"
    }
   ],
   "source": [
    "import matplotlib.pyplot as plt\n",
    "cols = ['sepal length (cm)', 'sepal width (cm)', 'petal length (cm)', 'petal width (cm)']\n",
    "className = iris['target_names']\n",
    "y=df['target']\n",
    "fig, ax = plt.subplots(np.size(cols), np.size(className), sharex='col', sharey='row', figsize=(15,15))\n",
    "fig.suptitle('Funciones de Distribución', fontsize=16)\n",
    "colors=[\"skyblue\", \"navajowhite\", \"coral\"]\n",
    "for i in range(np.size(cols)):\n",
    "    _x = df[cols[i]]\n",
    "    for j in range(np.size(className)):\n",
    "        ax[i, j].hist(_x[y==j], bins=15, color = colors[j])\n",
    "        if (i==0): ax[i, j].set_title(className[j])\n",
    "        if (j==0): ax[i, j].set_ylabel(cols[i], rotation=0, size='large')\n",
    "plt.show"
   ]
  },
  {
   "cell_type": "markdown",
   "metadata": {},
   "source": [
    "## Se Resuelve utilizando el clasificador Naive Bayes de sklearn\n",
    "\n",
    "Se utiliza el constructor __GaussianNB()__ de la clase __GaussianNB__ para crear el objeto __clf_NB__\n",
    "\n",
    "Llamando al método __fit__ del objeto __clf_NB__ se ajusta el modelo contra el conjunto de entrenamiento.\n",
    "\n",
    "Para validar el modelo se predicen las observaciones __X_test__ del conjunto de validación se comparan las clases obtenidas contra los valores correctos de __y_test__. El porcentaje de aciertos es la precisión del clasificador"
   ]
  },
  {
   "cell_type": "code",
   "execution_count": 17,
   "metadata": {},
   "outputs": [
    {
     "name": "stdout",
     "output_type": "stream",
     "text": [
      "Exactitud del clasificador (porcentaje de aciertos) = 97.36842105263158 \n",
      "\n"
     ]
    }
   ],
   "source": [
    "from sklearn.naive_bayes import GaussianNB\n",
    "clf_NB = GaussianNB()\n",
    "clf_NB.fit(X_train, y_train)\n",
    "tot_Test = np.size(y_test)\n",
    "tot_aciertos = 0\n",
    "y_pred = []\n",
    "for x, y in zip(X_test, y_test):\n",
    "    y_est = clf_NB.predict([x])\n",
    "    y_pred.append(y_est)\n",
    "    if (y==y_est): tot_aciertos +=1\n",
    "    #print('Instancia %s Clase real %s - Clase estimada %s \\n' %(x, y, y_est))\n",
    "print('Exactitud del clasificador (porcentaje de aciertos) = %s \\n' %(tot_aciertos*100/tot_Test))"
   ]
  },
  {
   "cell_type": "markdown",
   "metadata": {},
   "source": [
    "### Y la correspondiente matriz de confusión"
   ]
  },
  {
   "cell_type": "code",
   "execution_count": 18,
   "metadata": {},
   "outputs": [
    {
     "name": "stdout",
     "output_type": "stream",
     "text": [
      "[[13  0  0]\n",
      " [ 0 13  0]\n",
      " [ 0  1 11]]\n"
     ]
    }
   ],
   "source": [
    "from sklearn.metrics import confusion_matrix\n",
    "import matplotlib.pyplot as plt\n",
    "cm=confusion_matrix(y_test, y_pred)\n",
    "print(cm)"
   ]
  },
  {
   "cell_type": "code",
   "execution_count": 19,
   "metadata": {},
   "outputs": [
    {
     "data": {
      "image/png": "[encoded data removed]",
      "text/plain": [
       "<Figure size 640x480 with 2 Axes>"
      ]
     },
     "metadata": {},
     "output_type": "display_data"
    }
   ],
   "source": [
    "from sklearn.metrics import ConfusionMatrixDisplay\n",
    "from sklearn.metrics import confusion_matrix\n",
    "cm = confusion_matrix(y_true=y_test, y_pred=y_pred)\n",
    "cm_display = ConfusionMatrixDisplay(cm, display_labels=iris['target_names']).plot()"
   ]
  },
  {
   "cell_type": "code",
   "execution_count": null,
   "metadata": {},
   "outputs": [],
   "source": []
  }
 ],
 "metadata": {
  "kernelspec": {
   "display_name": "Python 3 (ipykernel)",
   "language": "python",
   "name": "python3"
  },
  "language_info": {
   "codemirror_mode": {
    "name": "ipython",
    "version": 3
   },
   "file_extension": ".py",
   "mimetype": "text/x-python",
   "name": "python",
   "nbconvert_exporter": "python",
   "pygments_lexer": "ipython3",
   "version": "3.11.5"
  }
 },
 "nbformat": 4,
 "nbformat_minor": 4
}

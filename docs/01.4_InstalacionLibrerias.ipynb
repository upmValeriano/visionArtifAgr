{
 "cells": [
  {
   "cell_type": "markdown",
   "metadata": {},
   "source": [
    "# Instalación de Librerías"
   ]
  },
  {
   "cell_type": "markdown",
   "metadata": {},
   "source": [
    "## Comprobar la actual versión de Python\n"
   ]
  },
  {
   "cell_type": "code",
   "execution_count": 1,
   "metadata": {},
   "outputs": [
    {
     "name": "stdout",
     "output_type": "stream",
     "text": [
      "Versión de Python =  3.11.5\n"
     ]
    }
   ],
   "source": [
    "from platform import python_version\n",
    "\n",
    "print('Versión de Python = ', python_version())"
   ]
  },
  {
   "cell_type": "markdown",
   "metadata": {},
   "source": [
    "Para instalar o re-instalar Python: https://www.anaconda.com/products/distribution donde está disponible la __última versión__"
   ]
  },
  {
   "cell_type": "markdown",
   "metadata": {},
   "source": [
    "## scikit-learn\n",
    "\n",
    "Librería de Machine Learning (<a href=\"https://scikit-learn.org/stable/install.html\">ver aquí</a>)\n",
    "\n"
   ]
  },
  {
   "cell_type": "code",
   "execution_count": 2,
   "metadata": {},
   "outputs": [],
   "source": [
    "#!pip install -U scikit-learn"
   ]
  },
  {
   "cell_type": "markdown",
   "metadata": {},
   "source": [
    "## Plotly\n",
    "\n",
    "Es una biblioteca de gráficos interactiva de código abierto que admite más de 40 tipos de gráficos que cubren una amplia gama de casos de uso estadísticos, financieros, geográficos, científicos y 3-D.\n",
    "\n",
    "- pip install plotly==5.7.0\n",
    "- conda install -c plotly plotly=5.7.0"
   ]
  },
  {
   "cell_type": "markdown",
   "metadata": {},
   "source": [
    "````{tab-set}\n",
    "```{tab-item} Pip\n",
    "pip install plotly==5.7.0\n",
    "```\n",
    "\n",
    "```{tab-item} Conda\n",
    "conda install -c plotly plotly=5.7.0\n",
    "```\n",
    "````"
   ]
  },
  {
   "cell_type": "markdown",
   "metadata": {},
   "source": [
    "## PyDotPlus\n",
    "\n",
    "La librería __PyDotPlus__ permite visualizar un árbol de decisión que ha sido entrenado\n",
    "\n",
    "Para poder usar esta librería es preciso realizar la siguiente instalación\n",
    "\n",
    "- pip install pydotplus\n",
    "\n",
    "O desde Anaconda:\n",
    "\n",
    "- conda install pydotplus\n",
    "\n",
    "Para funcionar correctamente necesitamos que en nuestra máquina esté instalado Graphviz, si no es así se puede hacer que conda lo instale al mismo tiempo que el paquete si se usa el comando:\n",
    "\n",
    "- conda install -c conda-forge pydotplus\n",
    "\n",
    "La documentación de la librería está disponible en: http://pydotplus.readthedocs.org/"
   ]
  },
  {
   "cell_type": "markdown",
   "metadata": {},
   "source": [
    "## Pytorch\n",
    "\n",
    "PyTorch es una biblioteca de aprendizaje automático de código abierto basada en la biblioteca de Torch, utilizado para implementar aplicaciones de visión artificial o procesamiento de lenguajes naturales. Desarrollado por el Laboratorio de Investigación de Inteligencia Artificial4 de Facebook (FAIR).Es un software libre y de código abierto liberado bajo la Licencia Modificada de BSD. A pesar de que la interfaz de Python está más pulida y es el foco principal del desarrollo, PyTorch también tiene una interfaz en C++.\n",
    "\n",
    "Varios software de Aprendizaje Profundo están construidas utilizando PyTorch, como Tesla Autopilot, Uber's Pyro, HuggingFace's Transformers, PyTorch Lighting, y Catalyst.\n",
    "\n",
    "PyTorch proporciona dos características de alto nivel (<a href=\"https://pytorch.org/\">ver aquí</a>):\n",
    "\n",
    "- Computación de tensores (como NumPy ) con una aceleración fuerte a través de unidades de procesamientos gráficos (GPU).\n",
    "- Redes neuronales profundas construidas en un sistema de diferenciación automática de bases de datos.\n"
   ]
  },
  {
   "cell_type": "markdown",
   "metadata": {},
   "source": [
    "### Reinstalación\n",
    "\n",
    "__En caso de tener que reínstalar, primero se desinstala__"
   ]
  },
  {
   "cell_type": "code",
   "execution_count": 3,
   "metadata": {},
   "outputs": [],
   "source": [
    "#conda uninstall pytorch"
   ]
  },
  {
   "cell_type": "markdown",
   "metadata": {},
   "source": [
    "### Instalación\n",
    "\n",
    "Las diferentes opciones de instalación en local:\n",
    "\n",
    "- Sistema operativo\n",
    "- Paquete (conda, pip, etc.)\n",
    "- Lenguaje (Python, C++)\n",
    "- Plataforma (CUDA o CPU)\n",
    "\n",
    "__Se pueden encontrar en__ : <a href=\"https://pytorch.org/get-started/locally/\">pytorch.org</a>. \n",
    "    "
   ]
  },
  {
   "cell_type": "markdown",
   "metadata": {},
   "source": [
    "#### Instalación CONDA con CPU\n",
    "\n",
    "````{tab-set}\n",
    "```{tab-item} Pip\n",
    "pip install pytorch torchvision torchaudio cpuonly\n",
    "```\n",
    "\n",
    "```{tab-item} Conda\n",
    "conda install pytorch torchvision torchaudio cpuonly -c pytorch\n",
    "```\n",
    "````"
   ]
  },
  {
   "cell_type": "markdown",
   "metadata": {},
   "source": [
    "#### Instalación CONDA con CUDA\n",
    "\n",
    "__Sólo si se dispone de una plataforma con aceleración de cálculo basada en targetas gráficas__"
   ]
  },
  {
   "cell_type": "markdown",
   "metadata": {},
   "source": [
    "## torch-summary\n",
    "\n",
    "__Saca un resumen de la red neuronal modelada en Pytorch__"
   ]
  },
  {
   "cell_type": "code",
   "execution_count": 4,
   "metadata": {},
   "outputs": [],
   "source": [
    "#!pip install torch-summary"
   ]
  },
  {
   "cell_type": "markdown",
   "metadata": {},
   "source": [
    "## OpenCV\n",
    "\n",
    "Los principales métodos de segmentación clásicos están implementados en librerías de Python como OpenCV o Scikit-Image:\n",
    "\n",
    "https://pypi.org/project/opencv-python/\n",
    "\n",
    "https://pypi.org/project/scikit-image/\n",
    "\n",
    "Que se pueden instalar desde los comandos:"
   ]
  },
  {
   "cell_type": "code",
   "execution_count": 5,
   "metadata": {},
   "outputs": [],
   "source": [
    "#!pip install opencv-python\n",
    "#!pip install scikit-image"
   ]
  },
  {
   "cell_type": "markdown",
   "metadata": {},
   "source": [
    "## pycocotools\n",
    "\n",
    "Libreria de utilidades para obtener el formato COCO"
   ]
  },
  {
   "cell_type": "code",
   "execution_count": 6,
   "metadata": {},
   "outputs": [],
   "source": [
    "#!pip install pycocotools"
   ]
  },
  {
   "cell_type": "markdown",
   "metadata": {},
   "source": [
    "## wget\n",
    "\n",
    "__Descarga de archivos por get de TCP__"
   ]
  },
  {
   "cell_type": "code",
   "execution_count": 7,
   "metadata": {},
   "outputs": [],
   "source": [
    "#!pip install wget"
   ]
  },
  {
   "cell_type": "markdown",
   "metadata": {},
   "source": [
    "## Cadenas de Markov"
   ]
  },
  {
   "cell_type": "code",
   "execution_count": 8,
   "metadata": {},
   "outputs": [],
   "source": [
    "#!pip install hidden_markov"
   ]
  },
  {
   "cell_type": "markdown",
   "metadata": {},
   "source": [
    "## TensorFlow\n",
    "\n",
    "Necesario sólo para una rutina que se utiliza en el proceso de AlphaFold"
   ]
  },
  {
   "cell_type": "code",
   "execution_count": 9,
   "metadata": {},
   "outputs": [],
   "source": [
    "#!pip install tensorflow"
   ]
  },
  {
   "cell_type": "markdown",
   "metadata": {},
   "source": [
    "## SuSi – Self-organizing Maps with Python\n",
    "\n",
    "SuSi es un paquete de Python para aprendizaje no supervisado, supervisado y semisupervisado. Está construido como un estimador de estilo scikit-learn y funciona con todas las versiones actuales de Python 3.\n",
    "\n",
    "<a href=\"https://github.com/felixriese/susi/tree/main/guide\">Sitio web de SuSi</a>\n"
   ]
  },
  {
   "cell_type": "markdown",
   "metadata": {},
   "source": [
    "### Instalación de SuSi\n",
    "\n",
    "````{tab-set}\n",
    "```{tab-item} Pip\n",
    "!pip install susi\n",
    "```\n",
    "\n",
    "```{tab-item} Conda\n",
    "conda install -c conda-forge susi\n",
    "```\n",
    "````"
   ]
  },
  {
   "cell_type": "markdown",
   "metadata": {},
   "source": [
    "## PyGAD - Algoritmos genéticos en Python\n",
    "\n",
    "<a href=\"https://pygad.readthedocs.io/en/latest/#\">Sitio web de PyGAD</a>\n"
   ]
  },
  {
   "cell_type": "code",
   "execution_count": 10,
   "metadata": {},
   "outputs": [],
   "source": [
    "#!pip3 install pygad"
   ]
  },
  {
   "cell_type": "code",
   "execution_count": null,
   "metadata": {},
   "outputs": [],
   "source": []
  }
 ],
 "metadata": {
  "kernelspec": {
   "display_name": "Python 3 (ipykernel)",
   "language": "python",
   "name": "python3"
  },
  "language_info": {
   "codemirror_mode": {
    "name": "ipython",
    "version": 3
   },
   "file_extension": ".py",
   "mimetype": "text/x-python",
   "name": "python",
   "nbconvert_exporter": "python",
   "pygments_lexer": "ipython3",
   "version": "3.11.5"
  }
 },
 "nbformat": 4,
 "nbformat_minor": 4
}

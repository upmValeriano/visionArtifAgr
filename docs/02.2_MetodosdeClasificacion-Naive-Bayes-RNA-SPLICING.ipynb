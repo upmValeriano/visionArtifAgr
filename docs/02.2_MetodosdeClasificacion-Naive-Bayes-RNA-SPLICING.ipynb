{
 "cells": [
  {
   "cell_type": "markdown",
   "metadata": {
    "editable": true,
    "slideshow": {
     "slide_type": ""
    },
    "tags": []
   },
   "source": [
    "# Clasificación naive-Bayes de secuencias de ADN\n",
    "\n"
   ]
  },
  {
   "cell_type": "markdown",
   "metadata": {},
   "source": [
    "La __transcripción__ del ADN es el proceso en el que se transfiere la información genética contenida en el ADN, mediante la síntesis de otra molécula llamada ARN. Este proceso lo realizan las enzimas __ARN polimerasas__ y tiene 3 etapas:\n",
    "\n",
    "- __Iniciación__: la ARN polimerasa se une a una secuencia de ADN (promotor) , que se encuentra al inicio de un gen (cada gen tiene su propio promotor) y se genera un cebador de ARN al que se le van a unir los nucleótidos complementarios de la cadena molde de ADN.\n",
    "- __Elongación__: la ARN polimerasa ’lee’ base a base el molde de ADN y va uniendo secuencialmente, a partir del cebador, los nucleótidos de ARN complementarios a la secuencia molde formando una cadena que crece en dirección $5' -> 3'$. Esa cadena de ARNm (ARN mensajero), se llama transcrito y tiene la misma información, pero complementaria, que la cadena de ADN molde y en lugar de la base timina (T) tiene Uracilo (U).\n",
    "- __Terminación__: una vez que la ARN polimerasa llega a las secuencias de terminación del ADN, la ARN polimerasa libera el transcrito.\n",
    "\n",
    "Después de estas tres fases, en eucariotas, el transcrito se modifica. Primero se le añade una caperuza al extremo 5’(CAP 5’) y una cola de adeninas (poli-A) al extremo 3’. También, se produce la escisión (eliminación) de los intrones (secuencias no codificantes) y la unión de los exones (secuencias codificantes) en un proceso llamado __splicing__.\n",
    "\n",
    "El __ARNm__ maduro luego va al citoplasma y se produce su __traducción a polipéptido__. En el proceso de traducción se genera una cadena polipeptídica a partir del transcrito maduro utilizando el código genético como referencia y con la ayuda del __ARNt__ (ARN transferente) y las dos subunidades del ribosoma. Al igual que la transcripción, la traducción tiene tres etapas, iniciación, elongación y terminación:\n",
    "\n",
    "- __Iniciación__: el ribosoma y el ARNt se unen al ARNm y forman el complejo de iniciación.\n",
    "- __Elongación__: proceso entre ARNt y ARNm para formar los sucesivos enlaces peptídicos desde el sitio A (codón) del ribosoma.\n",
    "- __Terminación__: entra al codón del ribosoma un codón de stop del ARNm, que no es reconocido por el ARNt y se produce la liberación del polipéptido y el desacoplamiento de las subunidades del ribosoma.\n",
    "\n",
    "Se acepta como definición de __gen__ a todo segmento de ADN que se encuentra a continuación de un promotor y que puede ser transcrito, originando un ARN funcional (ARNm, ARNt, ARNsn, ...).\n",
    "\n",
    "La __transcriptoma__ estudia los transcritos que se forma en el proceso de copia de la información genética contenida en el ADN en forma de ARN (__transcripción__). Actualmente existen tecnologías de secuenciación masiva llamadas __NGS__ (Next Generation Sequencing). La tecnología NGS más popular es la secuenciación directa de ARN (__ARN-seq__).\n",
    "\n",
    "La metodología __ARN-seq__ tiene las etapas:\n",
    "- Extracción del ARN total desde la muestra biológica.\n",
    "- Fragmentación del ARN.\n",
    "- Generación de librerías ARN-seq.\n",
    "- Amplificación del ADN circular (por _reacción en cadena de la polimerasa_) y secuenciación para obtener pequeñas secuencias de nucleótidos (__reads__).\n",
    "\n",
    "Consorcios científicos proporcionan gran cantidad datos de transcriptoma, genoma y proteoma:\n",
    "\n",
    "- Proyecto __ENCODE__ (ENCyclopedia Of DNA Elements).\n",
    "- Proyecto __GTEX__ (genotype-tissue expression).\n",
    "\n",
    "Para datos de expresión génica, el clustering se puede realizar en función de los genes o de las muestras. En la agrupación basada en genes (_gene-based clustering_), los genes se consideran objetos mientras que las muestras se consideran características, mientras que en la agrupación basada en muestras, las muestras se pueden segregar en grupos idénticos donde los genes se tratan como características y las muestras como objetos."
   ]
  },
  {
   "cell_type": "markdown",
   "metadata": {},
   "source": [
    "## \"Corta-pega\" en RNA:\n",
    "\n",
    "- En algunos genes, las secciones del DNA que codifican proteínas (__exones__) a veces están interrumpidas por regiones no\n",
    "codificantes (__intrones__).\n",
    "\n",
    "- El proceso de \"corta-pega\" del RNA __quita los intrones__ del mRNA para generar la secuencia final que codifica la proteina, dejando únicamente los exones en el RNA editado. Los intrones vienen caracterizados por un sitio __donor__ (frontera exón-intrón) y uno __aceptor__ (frontera intrón-exón).\n",
    "\n",
    "Una animación del proceso se muestra en: https://dnalc.cshl.edu/resources/3d/rna-splicing.html\n",
    "\n",
    "### Problema \n",
    "¿__a partir de una lista de secuencias de DNA de las que conocemos \"sitios donores\", ¿podemos predecir los sitios donores en nuevas secuencias__?"
   ]
  },
  {
   "cell_type": "markdown",
   "metadata": {},
   "source": [
    "## Conjunto de datos de entrenamiento\n",
    "El conjunto de datos esta en el archivo 'splice.txt' que puedes descargar de Moodle. Las primeras líneas del archivo son (hemos truncado las ultimas posiciones de las secuencias solo para ajustarlas al texto de este documento):"
   ]
  },
  {
   "cell_type": "code",
   "execution_count": 1,
   "metadata": {
    "editable": true,
    "slideshow": {
     "slide_type": ""
    },
    "tags": [
     "hide-input"
    ]
   },
   "outputs": [
    {
     "data": {
      "text/html": [
       "<div>\n",
       "<style scoped>\n",
       "    .dataframe tbody tr th:only-of-type {\n",
       "        vertical-align: middle;\n",
       "    }\n",
       "\n",
       "    .dataframe tbody tr th {\n",
       "        vertical-align: top;\n",
       "    }\n",
       "\n",
       "    .dataframe thead th {\n",
       "        text-align: right;\n",
       "    }\n",
       "</style>\n",
       "<table border=\"1\" class=\"dataframe\">\n",
       "  <thead>\n",
       "    <tr style=\"text-align: right;\">\n",
       "      <th></th>\n",
       "      <th>Class</th>\n",
       "      <th>Instance</th>\n",
       "      <th>Sequence</th>\n",
       "    </tr>\n",
       "  </thead>\n",
       "  <tbody>\n",
       "    <tr>\n",
       "      <th>0</th>\n",
       "      <td>EI</td>\n",
       "      <td>ATRINS-DONOR-521</td>\n",
       "      <td>CCAGCTGCATCACAGGAGGCCAGCGAGCAGGTCTGTTCCAAGGGCC...</td>\n",
       "    </tr>\n",
       "    <tr>\n",
       "      <th>1</th>\n",
       "      <td>EI</td>\n",
       "      <td>ATRINS-DONOR-905</td>\n",
       "      <td>AGACCCGCCGGGAGGCGGAGGACCTGCAGGGTGAGCCCCACCGCCC...</td>\n",
       "    </tr>\n",
       "    <tr>\n",
       "      <th>2</th>\n",
       "      <td>EI</td>\n",
       "      <td>BABAPOE-DONOR-30</td>\n",
       "      <td>GAGGTGAAGGACGTCCTTCCCCAGGAGCCGGTGAGAAGCGCAGTCG...</td>\n",
       "    </tr>\n",
       "    <tr>\n",
       "      <th>3</th>\n",
       "      <td>EI</td>\n",
       "      <td>BABAPOE-DONOR-867</td>\n",
       "      <td>GGGCTGCGTTGCTGGTCACATTCCTGGCAGGTATGGGGCGGGGCTT...</td>\n",
       "    </tr>\n",
       "    <tr>\n",
       "      <th>4</th>\n",
       "      <td>EI</td>\n",
       "      <td>BABAPOE-DONOR-2817</td>\n",
       "      <td>GCTCAGCCCCCAGGTCACCCAGGAACTGACGTGAGTGTCCCCATCC...</td>\n",
       "    </tr>\n",
       "  </tbody>\n",
       "</table>\n",
       "</div>"
      ],
      "text/plain": [
       "  Class            Instance                                           Sequence\n",
       "0    EI    ATRINS-DONOR-521  CCAGCTGCATCACAGGAGGCCAGCGAGCAGGTCTGTTCCAAGGGCC...\n",
       "1    EI    ATRINS-DONOR-905  AGACCCGCCGGGAGGCGGAGGACCTGCAGGGTGAGCCCCACCGCCC...\n",
       "2    EI    BABAPOE-DONOR-30  GAGGTGAAGGACGTCCTTCCCCAGGAGCCGGTGAGAAGCGCAGTCG...\n",
       "3    EI   BABAPOE-DONOR-867  GGGCTGCGTTGCTGGTCACATTCCTGGCAGGTATGGGGCGGGGCTT...\n",
       "4    EI  BABAPOE-DONOR-2817  GCTCAGCCCCCAGGTCACCCAGGAACTGACGTGAGTGTCCCCATCC..."
      ]
     },
     "execution_count": 1,
     "metadata": {},
     "output_type": "execute_result"
    }
   ],
   "source": [
    "import numpy as np\n",
    "import pandas as pd\n",
    "df = pd.read_csv('data/splice.txt')\n",
    "df.head()"
   ]
  },
  {
   "cell_type": "markdown",
   "metadata": {},
   "source": [
    "Todas las secuencias tienen 60 pares de bases. La primera columna (__Class__) indica la clase a la que pertenece la secuencia: EI para las que proporcionan un salto exon-intrón (donores); IE para las secuencias que contienen una frontera intron-exón (aceptores); N para aquellas secuencias que no son ni EI ni IE. \n",
    "\n",
    "La segunda columna (__Instance__) es una etiqueta para cada una de las instancias (filas), y la tercera columna da la __secuencia__ correspondiente en terminos del alfabeto A, T, C y G."
   ]
  },
  {
   "cell_type": "markdown",
   "metadata": {},
   "source": [
    "## Preproceso de las secuencias\n",
    "\n",
    "Algunas de las secuencias tienen ambiguedad en determinadas posiciones, de forma que incluyen las letras D, N, S o R de acuerdo con la siguiente tabla:\n",
    "\n",
    "| Letra | Significado |\n",
    "| ----- | ------- |\n",
    "| D | A o G o T |\n",
    "| N | A o G o T o C |\n",
    "| S | C o G |\n",
    "| R | A o G |\n",
    "\n",
    "Estos caracteres ambiguos aparecen en muy pocas instancias, así que se van a eliminar de los datos para simplificar el analisis. Primero se realiza un proceso de filtrado para saber cuantas secuencias quedan:\n"
   ]
  },
  {
   "cell_type": "code",
   "execution_count": 2,
   "metadata": {
    "tags": [
     "hide-cell"
    ]
   },
   "outputs": [
    {
     "data": {
      "text/plain": [
       "Sequence\n",
       "False    3175\n",
       "True       15\n",
       "Name: count, dtype: int64"
      ]
     },
     "execution_count": 2,
     "metadata": {},
     "output_type": "execute_result"
    }
   ],
   "source": [
    "df['Sequence'].str.contains(\"D|N|S|R\").value_counts()"
   ]
  },
  {
   "cell_type": "code",
   "execution_count": 3,
   "metadata": {
    "tags": [
     "hide-cell"
    ]
   },
   "outputs": [
    {
     "data": {
      "text/html": [
       "<div>\n",
       "<style scoped>\n",
       "    .dataframe tbody tr th:only-of-type {\n",
       "        vertical-align: middle;\n",
       "    }\n",
       "\n",
       "    .dataframe tbody tr th {\n",
       "        vertical-align: top;\n",
       "    }\n",
       "\n",
       "    .dataframe thead th {\n",
       "        text-align: right;\n",
       "    }\n",
       "</style>\n",
       "<table border=\"1\" class=\"dataframe\">\n",
       "  <thead>\n",
       "    <tr style=\"text-align: right;\">\n",
       "      <th></th>\n",
       "      <th>Class</th>\n",
       "      <th>Instance</th>\n",
       "      <th>Sequence</th>\n",
       "    </tr>\n",
       "  </thead>\n",
       "  <tbody>\n",
       "    <tr>\n",
       "      <th>107</th>\n",
       "      <td>EI</td>\n",
       "      <td>HUMALPI1-DONOR-42</td>\n",
       "      <td>CACACAGGGCACCCCCTCANNNNNNNNNNNNNNNNNNNNNNNNNNN...</td>\n",
       "    </tr>\n",
       "    <tr>\n",
       "      <th>239</th>\n",
       "      <td>EI</td>\n",
       "      <td>HUMCSPB-DONOR-2010</td>\n",
       "      <td>AACTTCTCCAACGACATCATGCTACTGCAGGTNAGGCACACTCCTG...</td>\n",
       "    </tr>\n",
       "    <tr>\n",
       "      <th>365</th>\n",
       "      <td>EI</td>\n",
       "      <td>HUMH19-DONOR-2562</td>\n",
       "      <td>TCTGGGCTCCCAGAACCCACAACATGAAAGGTGAGGGNCTTCCTGC...</td>\n",
       "    </tr>\n",
       "    <tr>\n",
       "      <th>366</th>\n",
       "      <td>EI</td>\n",
       "      <td>HUMH19-DONOR-2766</td>\n",
       "      <td>ACTACCTGACTCAGGAATCGGCTCTGGAAGGTGAGCACCAGCGCTC...</td>\n",
       "    </tr>\n",
       "    <tr>\n",
       "      <th>485</th>\n",
       "      <td>EI</td>\n",
       "      <td>HUMMHCD8A-DONOR-1087</td>\n",
       "      <td>TCAGCCACTTCGTGCCGGTCTTCCTGCCAGGTCCGCGCGCCGGGTT...</td>\n",
       "    </tr>\n",
       "    <tr>\n",
       "      <th>1247</th>\n",
       "      <td>IE</td>\n",
       "      <td>HUMMHB27B-ACCEPTOR-1202</td>\n",
       "      <td>DGACGGGGCTGACCGCGGGGGCGGGTCCAGGGTCTCACACCCTCCA...</td>\n",
       "    </tr>\n",
       "    <tr>\n",
       "      <th>1440</th>\n",
       "      <td>IE</td>\n",
       "      <td>HUMSPRO-ACCEPTOR-2841</td>\n",
       "      <td>ATACCCCTTTTCACTTTCCCCACCTCTTAGGGTARTCAGTACTGGC...</td>\n",
       "    </tr>\n",
       "    <tr>\n",
       "      <th>1441</th>\n",
       "      <td>IE</td>\n",
       "      <td>HUMSPRO-ACCEPTOR-3195</td>\n",
       "      <td>CCCTCCTAATGCCCACCATCCCGTCCTCAGGGAAASAGTACTGGGA...</td>\n",
       "    </tr>\n",
       "    <tr>\n",
       "      <th>1804</th>\n",
       "      <td>N</td>\n",
       "      <td>HUMC1A1-NEG-3901</td>\n",
       "      <td>ATGGCCTACATGGGTGTGGGTGCTGCAATTTCCGCTNCGGCAGACA...</td>\n",
       "    </tr>\n",
       "    <tr>\n",
       "      <th>2069</th>\n",
       "      <td>N</td>\n",
       "      <td>HUMFERG2-NEG-1</td>\n",
       "      <td>GGATCCCTAGTATAACACATTCAGTGTTCCCCNTTTCAGCCCNTTT...</td>\n",
       "    </tr>\n",
       "    <tr>\n",
       "      <th>2135</th>\n",
       "      <td>N</td>\n",
       "      <td>HUMGCB-NEG-2281</td>\n",
       "      <td>TGTGAACATGCGCTGTGTGCTGCTTGCTTTGGAAACTNGCCTGGGT...</td>\n",
       "    </tr>\n",
       "    <tr>\n",
       "      <th>2578</th>\n",
       "      <td>N</td>\n",
       "      <td>HUMMHB27B-NEG-1201</td>\n",
       "      <td>GDGACGGGGCTGACCGCGGGGGCGGGTCCAGGGTCTCACACCCTCC...</td>\n",
       "    </tr>\n",
       "    <tr>\n",
       "      <th>2636</th>\n",
       "      <td>N</td>\n",
       "      <td>HUMMHDRR2-NEG-121</td>\n",
       "      <td>TAAATCCTCTCGCTGCGTGGTGAGAAAACTGATGCCTNGAGTCTGT...</td>\n",
       "    </tr>\n",
       "    <tr>\n",
       "      <th>2637</th>\n",
       "      <td>N</td>\n",
       "      <td>HUMMHDRS1-NEG-241</td>\n",
       "      <td>AAAATACAAAAATTAGCCNNNGGGAGGCCGAGATTACAATGAGCTG...</td>\n",
       "    </tr>\n",
       "    <tr>\n",
       "      <th>2910</th>\n",
       "      <td>N</td>\n",
       "      <td>HUMRSCNTT-NEG-121</td>\n",
       "      <td>TGAGGTTAAAGGTNGAAAAGGAAATATCTTCGTATAAAAACTAGAC...</td>\n",
       "    </tr>\n",
       "  </tbody>\n",
       "</table>\n",
       "</div>"
      ],
      "text/plain": [
       "     Class                 Instance  \\\n",
       "107     EI        HUMALPI1-DONOR-42   \n",
       "239     EI       HUMCSPB-DONOR-2010   \n",
       "365     EI        HUMH19-DONOR-2562   \n",
       "366     EI        HUMH19-DONOR-2766   \n",
       "485     EI     HUMMHCD8A-DONOR-1087   \n",
       "1247    IE  HUMMHB27B-ACCEPTOR-1202   \n",
       "1440    IE    HUMSPRO-ACCEPTOR-2841   \n",
       "1441    IE    HUMSPRO-ACCEPTOR-3195   \n",
       "1804     N         HUMC1A1-NEG-3901   \n",
       "2069     N           HUMFERG2-NEG-1   \n",
       "2135     N          HUMGCB-NEG-2281   \n",
       "2578     N       HUMMHB27B-NEG-1201   \n",
       "2636     N        HUMMHDRR2-NEG-121   \n",
       "2637     N        HUMMHDRS1-NEG-241   \n",
       "2910     N        HUMRSCNTT-NEG-121   \n",
       "\n",
       "                                               Sequence  \n",
       "107   CACACAGGGCACCCCCTCANNNNNNNNNNNNNNNNNNNNNNNNNNN...  \n",
       "239   AACTTCTCCAACGACATCATGCTACTGCAGGTNAGGCACACTCCTG...  \n",
       "365   TCTGGGCTCCCAGAACCCACAACATGAAAGGTGAGGGNCTTCCTGC...  \n",
       "366   ACTACCTGACTCAGGAATCGGCTCTGGAAGGTGAGCACCAGCGCTC...  \n",
       "485   TCAGCCACTTCGTGCCGGTCTTCCTGCCAGGTCCGCGCGCCGGGTT...  \n",
       "1247  DGACGGGGCTGACCGCGGGGGCGGGTCCAGGGTCTCACACCCTCCA...  \n",
       "1440  ATACCCCTTTTCACTTTCCCCACCTCTTAGGGTARTCAGTACTGGC...  \n",
       "1441  CCCTCCTAATGCCCACCATCCCGTCCTCAGGGAAASAGTACTGGGA...  \n",
       "1804  ATGGCCTACATGGGTGTGGGTGCTGCAATTTCCGCTNCGGCAGACA...  \n",
       "2069  GGATCCCTAGTATAACACATTCAGTGTTCCCCNTTTCAGCCCNTTT...  \n",
       "2135  TGTGAACATGCGCTGTGTGCTGCTTGCTTTGGAAACTNGCCTGGGT...  \n",
       "2578  GDGACGGGGCTGACCGCGGGGGCGGGTCCAGGGTCTCACACCCTCC...  \n",
       "2636  TAAATCCTCTCGCTGCGTGGTGAGAAAACTGATGCCTNGAGTCTGT...  \n",
       "2637  AAAATACAAAAATTAGCCNNNGGGAGGCCGAGATTACAATGAGCTG...  \n",
       "2910  TGAGGTTAAAGGTNGAAAAGGAAATATCTTCGTATAAAAACTAGAC...  "
      ]
     },
     "execution_count": 3,
     "metadata": {},
     "output_type": "execute_result"
    }
   ],
   "source": [
    "df[df['Sequence'].str.contains(\"D|N|S|R\")]"
   ]
  },
  {
   "cell_type": "markdown",
   "metadata": {},
   "source": [
    "Finalmente se __borran__ los registros de secuencia ambigua\n",
    "\n",
    "_Nota_: Hay que recordar que en una lista de datos con con _true_ se copian y ~(Alt-126 o insertar símbolo) niega."
   ]
  },
  {
   "cell_type": "code",
   "execution_count": 4,
   "metadata": {
    "tags": [
     "hide-cell"
    ]
   },
   "outputs": [
    {
     "data": {
      "text/html": [
       "<div>\n",
       "<style scoped>\n",
       "    .dataframe tbody tr th:only-of-type {\n",
       "        vertical-align: middle;\n",
       "    }\n",
       "\n",
       "    .dataframe tbody tr th {\n",
       "        vertical-align: top;\n",
       "    }\n",
       "\n",
       "    .dataframe thead th {\n",
       "        text-align: right;\n",
       "    }\n",
       "</style>\n",
       "<table border=\"1\" class=\"dataframe\">\n",
       "  <thead>\n",
       "    <tr style=\"text-align: right;\">\n",
       "      <th></th>\n",
       "      <th>Class</th>\n",
       "      <th>Instance</th>\n",
       "      <th>Sequence</th>\n",
       "    </tr>\n",
       "  </thead>\n",
       "  <tbody>\n",
       "    <tr>\n",
       "      <th>0</th>\n",
       "      <td>EI</td>\n",
       "      <td>ATRINS-DONOR-521</td>\n",
       "      <td>CCAGCTGCATCACAGGAGGCCAGCGAGCAGGTCTGTTCCAAGGGCC...</td>\n",
       "    </tr>\n",
       "    <tr>\n",
       "      <th>1</th>\n",
       "      <td>EI</td>\n",
       "      <td>ATRINS-DONOR-905</td>\n",
       "      <td>AGACCCGCCGGGAGGCGGAGGACCTGCAGGGTGAGCCCCACCGCCC...</td>\n",
       "    </tr>\n",
       "    <tr>\n",
       "      <th>2</th>\n",
       "      <td>EI</td>\n",
       "      <td>BABAPOE-DONOR-30</td>\n",
       "      <td>GAGGTGAAGGACGTCCTTCCCCAGGAGCCGGTGAGAAGCGCAGTCG...</td>\n",
       "    </tr>\n",
       "    <tr>\n",
       "      <th>3</th>\n",
       "      <td>EI</td>\n",
       "      <td>BABAPOE-DONOR-867</td>\n",
       "      <td>GGGCTGCGTTGCTGGTCACATTCCTGGCAGGTATGGGGCGGGGCTT...</td>\n",
       "    </tr>\n",
       "    <tr>\n",
       "      <th>4</th>\n",
       "      <td>EI</td>\n",
       "      <td>BABAPOE-DONOR-2817</td>\n",
       "      <td>GCTCAGCCCCCAGGTCACCCAGGAACTGACGTGAGTGTCCCCATCC...</td>\n",
       "    </tr>\n",
       "    <tr>\n",
       "      <th>...</th>\n",
       "      <td>...</td>\n",
       "      <td>...</td>\n",
       "      <td>...</td>\n",
       "    </tr>\n",
       "    <tr>\n",
       "      <th>3185</th>\n",
       "      <td>N</td>\n",
       "      <td>ORAHBPSBD-NEG-2881</td>\n",
       "      <td>TCTCTTCCCTTCCCCTCTCTCTTTCTTTCTTTTCTCTCCTCTTCTC...</td>\n",
       "    </tr>\n",
       "    <tr>\n",
       "      <th>3186</th>\n",
       "      <td>N</td>\n",
       "      <td>ORAINVOL-NEG-2161</td>\n",
       "      <td>GAGCTCCCAGAGCAGCAAGAGGGCCAGCTGAAGCACCTGGAGAAGC...</td>\n",
       "    </tr>\n",
       "    <tr>\n",
       "      <th>3187</th>\n",
       "      <td>N</td>\n",
       "      <td>ORARGIT-NEG-241</td>\n",
       "      <td>TCTCGGGGGCGGCCGGCGCGGCGGGGAGCGGTCCCCGGCCGCGGCC...</td>\n",
       "    </tr>\n",
       "    <tr>\n",
       "      <th>3188</th>\n",
       "      <td>N</td>\n",
       "      <td>TARHBB-NEG-541</td>\n",
       "      <td>ATTCTACTTAGTAAACATAATTTCTTGTGCTAGATAACCAAATTAA...</td>\n",
       "    </tr>\n",
       "    <tr>\n",
       "      <th>3189</th>\n",
       "      <td>N</td>\n",
       "      <td>TARHBD-NEG-1981</td>\n",
       "      <td>AGGCTGCCTATCAGAAGGTGGTGGCTGGTGTGGCTGCTGCTCTGGC...</td>\n",
       "    </tr>\n",
       "  </tbody>\n",
       "</table>\n",
       "<p>3175 rows × 3 columns</p>\n",
       "</div>"
      ],
      "text/plain": [
       "     Class            Instance  \\\n",
       "0       EI    ATRINS-DONOR-521   \n",
       "1       EI    ATRINS-DONOR-905   \n",
       "2       EI    BABAPOE-DONOR-30   \n",
       "3       EI   BABAPOE-DONOR-867   \n",
       "4       EI  BABAPOE-DONOR-2817   \n",
       "...    ...                 ...   \n",
       "3185     N  ORAHBPSBD-NEG-2881   \n",
       "3186     N   ORAINVOL-NEG-2161   \n",
       "3187     N     ORARGIT-NEG-241   \n",
       "3188     N      TARHBB-NEG-541   \n",
       "3189     N     TARHBD-NEG-1981   \n",
       "\n",
       "                                               Sequence  \n",
       "0     CCAGCTGCATCACAGGAGGCCAGCGAGCAGGTCTGTTCCAAGGGCC...  \n",
       "1     AGACCCGCCGGGAGGCGGAGGACCTGCAGGGTGAGCCCCACCGCCC...  \n",
       "2     GAGGTGAAGGACGTCCTTCCCCAGGAGCCGGTGAGAAGCGCAGTCG...  \n",
       "3     GGGCTGCGTTGCTGGTCACATTCCTGGCAGGTATGGGGCGGGGCTT...  \n",
       "4     GCTCAGCCCCCAGGTCACCCAGGAACTGACGTGAGTGTCCCCATCC...  \n",
       "...                                                 ...  \n",
       "3185  TCTCTTCCCTTCCCCTCTCTCTTTCTTTCTTTTCTCTCCTCTTCTC...  \n",
       "3186  GAGCTCCCAGAGCAGCAAGAGGGCCAGCTGAAGCACCTGGAGAAGC...  \n",
       "3187  TCTCGGGGGCGGCCGGCGCGGCGGGGAGCGGTCCCCGGCCGCGGCC...  \n",
       "3188  ATTCTACTTAGTAAACATAATTTCTTGTGCTAGATAACCAAATTAA...  \n",
       "3189  AGGCTGCCTATCAGAAGGTGGTGGCTGGTGTGGCTGCTGCTCTGGC...  \n",
       "\n",
       "[3175 rows x 3 columns]"
      ]
     },
     "execution_count": 4,
     "metadata": {},
     "output_type": "execute_result"
    }
   ],
   "source": [
    "df = df[~df['Sequence'].str.contains(\"D|N|S|R\")]\n",
    "df"
   ]
  },
  {
   "cell_type": "markdown",
   "metadata": {},
   "source": [
    "### Obtener dos subconjuntos, uno de entrenamiento y otro de validación\n",
    "\n",
    "Divide el conjunto de datos en una parte para entrenamiento y otra parte para validacion, empleando muestreo aleatorio sin repetición. Reserva un 70 % de las instancias para entrenamiento y un 30 % para el conjunto de validacion"
   ]
  },
  {
   "cell_type": "code",
   "execution_count": 5,
   "metadata": {
    "tags": [
     "hide-cell"
    ]
   },
   "outputs": [
    {
     "data": {
      "text/plain": [
       "array(['GATGTTAACCATTCTCCTTCTCCCCAACAGTTCCCCAGGGACCTCTCTCTAATCAGCCCT',\n",
       "       'GTCTTTGCTTTTCTCTGTATTATATCAAACATTGGGAAATTCAGCCTCTCCAGGCGATGG',\n",
       "       'CCTGTCTCCTTGCCTGCCCCACCGTGTCAGGACTACTCCGCAGCTCCCCGGGGCCGATTT',\n",
       "       ...,\n",
       "       'GCTAATAAAAACAAGCACTATTGTTCAACTTTTAGGTGTGTGTACTTTGGAGCCACCATT',\n",
       "       'CTTAGAGTAGTTAAAATTTTCAAACTGAGATTTTAAAACTGTAATTTATTTAAAGGGTTA',\n",
       "       'CTTGCACATACCTATGCTTCAAGAAATCCCAACATGAAGAAAGGAGACGAGTGTAAAAAC'],\n",
       "      dtype=object)"
      ]
     },
     "execution_count": 5,
     "metadata": {},
     "output_type": "execute_result"
    }
   ],
   "source": [
    "from sklearn.model_selection import train_test_split\n",
    "X, y = df.values[:,2], df.values[:,0]\n",
    "X_train, X_test, y_train, y_test =train_test_split(X, y, train_size=0.7, random_state=0, stratify=y, shuffle=True)\n",
    "X_train"
   ]
  },
  {
   "cell_type": "markdown",
   "metadata": {},
   "source": [
    "## Se calculan las probabilidades de cada clase en función de la posición\n",
    "\n",
    "Sobre el conjunto de entrenamiento, <b>X_train</b> e <b>y_train</b>.\n",
    "\n",
    "Crear una lista de nombre, por ejemplo, __frecuencias__ de tres dimensiones por clase, letra, posición. Hacer un recuento de las letras por clase y posición y guardar el resultado en la variable frecuencias. Finalmente dividir el recuento por el número de registros que tiene cada clase para obtener la frecuencia.\n",
    "\n",
    "Sobre una lista de nombre, por ejemplo, __probaClase__ guardar la frecuencia de cada clase."
   ]
  },
  {
   "cell_type": "code",
   "execution_count": 10,
   "metadata": {},
   "outputs": [],
   "source": [
    "X_60 = [[letra for letra in fila] for fila in X_train]\n",
    "y_real = y_train\n",
    "clases = list(np.unique(y_real))\n",
    "letras = list(np.unique(X_60[0]))\n",
    "numClases = len(clases)\n",
    "numLetras = len(letras)\n",
    "numPosicion = len(X_60[0])\n",
    "#frecuencias = np.asarray([[[0 for i in range(numPosicion)] for j in range(numLetras) ] for k in range(numClases)], dtype=np.float64)\n",
    "frecuencias = np.zeros((numClases, numPosicion, numLetras), dtype=np.float64)\n",
    "### Se recuenta el nº de letras que hay en cada clase, posición y tipo de letra\n",
    "for fila, cl in zip(X_60, y_real):\n",
    "    for pos in range(numPosicion):\n",
    "        letra = fila[pos]\n",
    "        iClas = clases.index(cl)\n",
    "        iLetr = letras.index(letra)\n",
    "        frecuencias[iClas][pos][iLetr] +=1\n",
    "### Por último se divide por el nº de elementos en cada clase y se almacena la probabilidad de clase\n",
    "probaClases = [0 for i in range(numClases)]\n",
    "for i in range(numClases):\n",
    "    cl = clases[i]\n",
    "    frecuencias[i] = frecuencias[i] / len(y_real[y_real == cl])\n",
    "    probaClases[i] = len(y_real[y_real == cl]) / len(y_real)"
   ]
  },
  {
   "cell_type": "markdown",
   "metadata": {},
   "source": [
    "### Se representa la probabilidad clase a clase de cada letra en su posición\n",
    "\n",
    "Elegir 4 colores para cada una de las letras.\n",
    "Hacer un plot múltiple, con 3 subplots por cada una de las clase. Por ejemplo:\n",
    "\n",
    "__fig, axs = plt.subplots(numClases, figsize=(15,10))__\n",
    "\n",
    "Crear una lista con valores de 0 a 59 para construir los valores X de cada subplot y en Y poner las frecuencias para cada una de las clases. Pasar a scatter en cada subplot un bloque completo por letra."
   ]
  },
  {
   "cell_type": "code",
   "execution_count": 15,
   "metadata": {},
   "outputs": [
    {
     "data": {
      "image/png": "[encoded data removed]",
      "text/plain": [
       "<Figure size 1500x1000 with 3 Axes>"
      ]
     },
     "metadata": {},
     "output_type": "display_data"
    }
   ],
   "source": [
    "import matplotlib.pyplot as plt\n",
    "color = ['red', 'green', 'blue', 'yellow']\n",
    "iClas = 0\n",
    "lstX = [i for i in range(numPosicion)]\n",
    "nombreClases=['Entron-Intron', 'Intron-Entron', 'Ni Entron- Ni Intron']\n",
    "\n",
    "fig, axs = plt.subplots(numClases, figsize=(15,10))\n",
    "fig.suptitle('Frecuencia de las proteinas según posición por clase')\n",
    "for iClas in range(numClases):\n",
    "    for iLetr in range(numLetras):\n",
    "        axs[iClas].scatter(lstX, frecuencias[iClas,:,iLetr], alpha=0.5, c=color[iLetr], marker='o', label=letras[iLetr])\n",
    "\n",
    "for ax , nomCl in zip(axs.flat, nombreClases):\n",
    "    ax.set(ylabel=nomCl)\n",
    "fig.legend(labels=letras, loc=\"lower center\", ncol=numLetras)\n",
    "plt.show()"
   ]
  },
  {
   "cell_type": "markdown",
   "metadata": {},
   "source": [
    "### Se evalua el conjunto de Pruebas (test) con las frecuencias anteriores\n",
    "\n",
    "Ir leyendo fila a fila la matriz X_test y calcular la frecuencia de cada clase $k$ valor de letra $p$ en la posición $i$ y obtener como clase aquella de mayor valor de acuerdo a:\n",
    "\n",
    "\n",
    "$$ clase(\\bar{x}) = \\underset{k \\in \\{1,...,m\\}}{\\arg\\max} \\frac{n_k}{N}\\prod\\limits_{i=1}^{n} f_{k,i}(p)$$\n",
    "\n",
    "Donde $f_{k,i}(p)=\\frac{n_{k,i,p}}{n_k}$\n",
    "\n",
    "Además $n_{k,i,p}$ es el número de elementos del conjunto de entrenamiento que cumple $x_i=p$ además de $y=k$\n",
    "\n",
    "Finalmente $n_k$ es el número de elementos del conjunto de entrenamiento que cumple $y=k$"
   ]
  },
  {
   "cell_type": "code",
   "execution_count": 16,
   "metadata": {
    "tags": [
     "hide-cell"
    ]
   },
   "outputs": [
    {
     "name": "stdout",
     "output_type": "stream",
     "text": [
      "Porcentaje de aciertos= 94.43861490031479\n"
     ]
    }
   ],
   "source": [
    "aciertos=0\n",
    "X_60 = [[letra for letra in fila] for fila in X_test]\n",
    "y_real = y_test\n",
    "for fila, claseOk in zip(X_60, y_real):\n",
    "    probabilidad = [prob for prob in probaClases]\n",
    "    for iCl in range(numClases):\n",
    "        for pos in range(numPosicion):\n",
    "            letra = fila[pos]\n",
    "            iLetr = letras.index(letra)\n",
    "            probabilidad[iCl] *= frecuencias[iCl][pos][iLetr]\n",
    "\n",
    "    claseEstimada = clases[np.argmax(probabilidad)]\n",
    "    if claseEstimada == claseOk:\n",
    "        aciertos += 1\n",
    "print(\"Porcentaje de aciertos=\", 100*aciertos/len(y_real))"
   ]
  },
  {
   "cell_type": "markdown",
   "metadata": {},
   "source": [
    "## Implementación con la librería sk-learn"
   ]
  },
  {
   "cell_type": "markdown",
   "metadata": {},
   "source": [
    "### Primero se prepara la matriz X de los conjuntos de entranamiento y pruebas\n",
    "\n",
    "Para hacer el entrenamiento hay que __convertir la cadena de 60 caracteres en 60 caracteristicas de 1 caracter__:"
   ]
  },
  {
   "cell_type": "code",
   "execution_count": 38,
   "metadata": {
    "tags": [
     "hide-cell"
    ]
   },
   "outputs": [
    {
     "name": "stdout",
     "output_type": "stream",
     "text": [
      "2222 60 2222\n",
      "953 60 953\n"
     ]
    },
    {
     "data": {
      "text/html": [
       "<div>\n",
       "<style scoped>\n",
       "    .dataframe tbody tr th:only-of-type {\n",
       "        vertical-align: middle;\n",
       "    }\n",
       "\n",
       "    .dataframe tbody tr th {\n",
       "        vertical-align: top;\n",
       "    }\n",
       "\n",
       "    .dataframe thead th {\n",
       "        text-align: right;\n",
       "    }\n",
       "</style>\n",
       "<table border=\"1\" class=\"dataframe\">\n",
       "  <thead>\n",
       "    <tr style=\"text-align: right;\">\n",
       "      <th></th>\n",
       "      <th>0</th>\n",
       "      <th>1</th>\n",
       "      <th>2</th>\n",
       "      <th>3</th>\n",
       "      <th>4</th>\n",
       "      <th>5</th>\n",
       "      <th>6</th>\n",
       "      <th>7</th>\n",
       "      <th>8</th>\n",
       "      <th>9</th>\n",
       "      <th>...</th>\n",
       "      <th>50</th>\n",
       "      <th>51</th>\n",
       "      <th>52</th>\n",
       "      <th>53</th>\n",
       "      <th>54</th>\n",
       "      <th>55</th>\n",
       "      <th>56</th>\n",
       "      <th>57</th>\n",
       "      <th>58</th>\n",
       "      <th>59</th>\n",
       "    </tr>\n",
       "  </thead>\n",
       "  <tbody>\n",
       "    <tr>\n",
       "      <th>0</th>\n",
       "      <td>G</td>\n",
       "      <td>A</td>\n",
       "      <td>T</td>\n",
       "      <td>G</td>\n",
       "      <td>T</td>\n",
       "      <td>T</td>\n",
       "      <td>A</td>\n",
       "      <td>A</td>\n",
       "      <td>C</td>\n",
       "      <td>C</td>\n",
       "      <td>...</td>\n",
       "      <td>A</td>\n",
       "      <td>A</td>\n",
       "      <td>T</td>\n",
       "      <td>C</td>\n",
       "      <td>A</td>\n",
       "      <td>G</td>\n",
       "      <td>C</td>\n",
       "      <td>C</td>\n",
       "      <td>C</td>\n",
       "      <td>T</td>\n",
       "    </tr>\n",
       "    <tr>\n",
       "      <th>1</th>\n",
       "      <td>G</td>\n",
       "      <td>T</td>\n",
       "      <td>C</td>\n",
       "      <td>T</td>\n",
       "      <td>T</td>\n",
       "      <td>T</td>\n",
       "      <td>G</td>\n",
       "      <td>C</td>\n",
       "      <td>T</td>\n",
       "      <td>T</td>\n",
       "      <td>...</td>\n",
       "      <td>C</td>\n",
       "      <td>A</td>\n",
       "      <td>G</td>\n",
       "      <td>G</td>\n",
       "      <td>C</td>\n",
       "      <td>G</td>\n",
       "      <td>A</td>\n",
       "      <td>T</td>\n",
       "      <td>G</td>\n",
       "      <td>G</td>\n",
       "    </tr>\n",
       "    <tr>\n",
       "      <th>2</th>\n",
       "      <td>C</td>\n",
       "      <td>C</td>\n",
       "      <td>T</td>\n",
       "      <td>G</td>\n",
       "      <td>T</td>\n",
       "      <td>C</td>\n",
       "      <td>T</td>\n",
       "      <td>C</td>\n",
       "      <td>C</td>\n",
       "      <td>T</td>\n",
       "      <td>...</td>\n",
       "      <td>G</td>\n",
       "      <td>G</td>\n",
       "      <td>G</td>\n",
       "      <td>C</td>\n",
       "      <td>C</td>\n",
       "      <td>G</td>\n",
       "      <td>A</td>\n",
       "      <td>T</td>\n",
       "      <td>T</td>\n",
       "      <td>T</td>\n",
       "    </tr>\n",
       "    <tr>\n",
       "      <th>3</th>\n",
       "      <td>C</td>\n",
       "      <td>T</td>\n",
       "      <td>A</td>\n",
       "      <td>C</td>\n",
       "      <td>A</td>\n",
       "      <td>G</td>\n",
       "      <td>C</td>\n",
       "      <td>A</td>\n",
       "      <td>G</td>\n",
       "      <td>C</td>\n",
       "      <td>...</td>\n",
       "      <td>G</td>\n",
       "      <td>T</td>\n",
       "      <td>C</td>\n",
       "      <td>C</td>\n",
       "      <td>T</td>\n",
       "      <td>G</td>\n",
       "      <td>T</td>\n",
       "      <td>C</td>\n",
       "      <td>C</td>\n",
       "      <td>A</td>\n",
       "    </tr>\n",
       "    <tr>\n",
       "      <th>4</th>\n",
       "      <td>T</td>\n",
       "      <td>G</td>\n",
       "      <td>G</td>\n",
       "      <td>A</td>\n",
       "      <td>G</td>\n",
       "      <td>A</td>\n",
       "      <td>C</td>\n",
       "      <td>T</td>\n",
       "      <td>C</td>\n",
       "      <td>A</td>\n",
       "      <td>...</td>\n",
       "      <td>A</td>\n",
       "      <td>C</td>\n",
       "      <td>T</td>\n",
       "      <td>A</td>\n",
       "      <td>T</td>\n",
       "      <td>G</td>\n",
       "      <td>C</td>\n",
       "      <td>C</td>\n",
       "      <td>G</td>\n",
       "      <td>G</td>\n",
       "    </tr>\n",
       "  </tbody>\n",
       "</table>\n",
       "<p>5 rows × 60 columns</p>\n",
       "</div>"
      ],
      "text/plain": [
       "  0  1  2  3  4  5  6  7  8  9   ... 50 51 52 53 54 55 56 57 58 59\n",
       "0  G  A  T  G  T  T  A  A  C  C  ...  A  A  T  C  A  G  C  C  C  T\n",
       "1  G  T  C  T  T  T  G  C  T  T  ...  C  A  G  G  C  G  A  T  G  G\n",
       "2  C  C  T  G  T  C  T  C  C  T  ...  G  G  G  C  C  G  A  T  T  T\n",
       "3  C  T  A  C  A  G  C  A  G  C  ...  G  T  C  C  T  G  T  C  C  A\n",
       "4  T  G  G  A  G  A  C  T  C  A  ...  A  C  T  A  T  G  C  C  G  G\n",
       "\n",
       "[5 rows x 60 columns]"
      ]
     },
     "execution_count": 38,
     "metadata": {},
     "output_type": "execute_result"
    }
   ],
   "source": [
    "X_train60 = [[letra for letra in fila] for fila in X_train]\n",
    "X_test60 = [[letra for letra in fila] for fila in X_test]\n",
    "print(len(X_train60), len(X_train60[0]), len(y_train))\n",
    "print(len(X_test60), len(X_test60[0]), len(y_test))\n",
    "dfw = pd.DataFrame(X_train60)\n",
    "dfw.head()"
   ]
  },
  {
   "cell_type": "markdown",
   "metadata": {},
   "source": [
    "### Además se convierten los caracteres alfabéticos en números\n",
    "\n",
    "__Hay varias posibilidades para hacer ésto, damos una__:"
   ]
  },
  {
   "cell_type": "code",
   "execution_count": 39,
   "metadata": {
    "tags": [
     "hide-cell"
    ]
   },
   "outputs": [
    {
     "data": {
      "text/plain": [
       "array([[3, 0, 1, ..., 2, 2, 1],\n",
       "       [3, 1, 2, ..., 1, 3, 3],\n",
       "       [2, 2, 1, ..., 1, 1, 1],\n",
       "       ...,\n",
       "       [3, 2, 1, ..., 0, 1, 1],\n",
       "       [2, 1, 1, ..., 1, 1, 0],\n",
       "       [2, 1, 1, ..., 0, 0, 2]], dtype=int64)"
      ]
     },
     "execution_count": 39,
     "metadata": {},
     "output_type": "execute_result"
    }
   ],
   "source": [
    "df = pd.DataFrame(X_train60)\n",
    "bases=['A','T','C','G']\n",
    "base_mapping = {'A': 0, 'T': 1, 'C': 2, 'G': 3}\n",
    "for iCol in range(60):\n",
    "    df[iCol] = df[iCol].map(base_mapping)\n",
    "X_train60 = df.values\n",
    "\n",
    "df = pd.DataFrame(X_test60)\n",
    "bases=['A','T','C','G']\n",
    "base_mapping = {'A': 0, 'T': 1, 'C': 2, 'G': 3}\n",
    "for iCol in range(60):\n",
    "    df[iCol] = df[iCol].map(base_mapping)\n",
    "X_test60 = df.values\n",
    "\n",
    "X_train60.shape, X_test60.shape\n",
    "X_train60"
   ]
  },
  {
   "cell_type": "markdown",
   "metadata": {},
   "source": [
    "### Se Resuelve utilizando el clasificador Naive Bayes de sklearn"
   ]
  },
  {
   "cell_type": "code",
   "execution_count": 42,
   "metadata": {
    "tags": [
     "hide-cell"
    ]
   },
   "outputs": [
    {
     "name": "stdout",
     "output_type": "stream",
     "text": [
      "Exactitud - Accuracy: 0.9098\n"
     ]
    }
   ],
   "source": [
    "from sklearn.naive_bayes import GaussianNB\n",
    "clf_NB = GaussianNB()\n",
    "clf_NB.fit(X_train60, y_train)\n",
    "y_pred = clf_NB.predict(X_test60)\n",
    "print('Exactitud - Accuracy: %.4f' % accuracy_score(y_true=y_test, y_pred=y_pred))"
   ]
  },
  {
   "cell_type": "markdown",
   "metadata": {},
   "source": [
    "#### Y se presenta la correspondiente matriz de confusión"
   ]
  },
  {
   "cell_type": "code",
   "execution_count": 43,
   "metadata": {
    "tags": [
     "hide-cell"
    ]
   },
   "outputs": [
    {
     "name": "stdout",
     "output_type": "stream",
     "text": [
      "[[226   0   3]\n",
      " [ 29 197   3]\n",
      " [ 31  20 444]]\n"
     ]
    }
   ],
   "source": [
    "from sklearn.metrics import confusion_matrix\n",
    "import matplotlib.pyplot as plt\n",
    "y_pred = clf_NB.predict(X_test60)\n",
    "cm=confusion_matrix(y_test, y_pred)\n",
    "print(cm)"
   ]
  },
  {
   "cell_type": "code",
   "execution_count": 44,
   "metadata": {},
   "outputs": [
    {
     "data": {
      "image/png": "[encoded data removed]",
      "text/plain": [
       "<Figure size 640x480 with 2 Axes>"
      ]
     },
     "metadata": {},
     "output_type": "display_data"
    }
   ],
   "source": [
    "from sklearn.metrics import ConfusionMatrixDisplay\n",
    "from sklearn.metrics import confusion_matrix\n",
    "cm = confusion_matrix(y_true=y_test, y_pred=y_pred)\n",
    "cm_display = ConfusionMatrixDisplay(cm, display_labels=['IE','EI','N']).plot()"
   ]
  },
  {
   "cell_type": "markdown",
   "metadata": {},
   "source": [
    "## Implementación con la librería sk-learn (formato de etiquetas one-hot)\n",
    "\n",
    "El conjunto de letras, según orden alfabético {A, C, G, T}  se convierte según un formato One-hot hacia un vector numérico de 4 dimensiones. Dando lugar a las siguientes conversiones:\n",
    "\n",
    "A -> (1, 0, 0, 0)\n",
    "C -> (0, 1, 0, 0)\n",
    "G -> (0, 0, 1, 0)\n",
    "T -> (0, 0, 0, 1)\n",
    "\n",
    "Permite una mayor suavidad en el cambio de rango numérico al cambiar de valor de etiqueta, lo que puede permitir unos mejor ajustes"
   ]
  },
  {
   "cell_type": "markdown",
   "metadata": {},
   "source": [
    "### Obtener la matriz de 60 columnas."
   ]
  },
  {
   "cell_type": "code",
   "execution_count": 45,
   "metadata": {},
   "outputs": [
    {
     "name": "stdout",
     "output_type": "stream",
     "text": [
      "2222 60 2222\n",
      "953 60 953\n"
     ]
    },
    {
     "data": {
      "text/html": [
       "<div>\n",
       "<style scoped>\n",
       "    .dataframe tbody tr th:only-of-type {\n",
       "        vertical-align: middle;\n",
       "    }\n",
       "\n",
       "    .dataframe tbody tr th {\n",
       "        vertical-align: top;\n",
       "    }\n",
       "\n",
       "    .dataframe thead th {\n",
       "        text-align: right;\n",
       "    }\n",
       "</style>\n",
       "<table border=\"1\" class=\"dataframe\">\n",
       "  <thead>\n",
       "    <tr style=\"text-align: right;\">\n",
       "      <th></th>\n",
       "      <th>0</th>\n",
       "      <th>1</th>\n",
       "      <th>2</th>\n",
       "      <th>3</th>\n",
       "      <th>4</th>\n",
       "      <th>5</th>\n",
       "      <th>6</th>\n",
       "      <th>7</th>\n",
       "      <th>8</th>\n",
       "      <th>9</th>\n",
       "      <th>...</th>\n",
       "      <th>50</th>\n",
       "      <th>51</th>\n",
       "      <th>52</th>\n",
       "      <th>53</th>\n",
       "      <th>54</th>\n",
       "      <th>55</th>\n",
       "      <th>56</th>\n",
       "      <th>57</th>\n",
       "      <th>58</th>\n",
       "      <th>59</th>\n",
       "    </tr>\n",
       "  </thead>\n",
       "  <tbody>\n",
       "    <tr>\n",
       "      <th>0</th>\n",
       "      <td>G</td>\n",
       "      <td>A</td>\n",
       "      <td>T</td>\n",
       "      <td>G</td>\n",
       "      <td>T</td>\n",
       "      <td>T</td>\n",
       "      <td>A</td>\n",
       "      <td>A</td>\n",
       "      <td>C</td>\n",
       "      <td>C</td>\n",
       "      <td>...</td>\n",
       "      <td>A</td>\n",
       "      <td>A</td>\n",
       "      <td>T</td>\n",
       "      <td>C</td>\n",
       "      <td>A</td>\n",
       "      <td>G</td>\n",
       "      <td>C</td>\n",
       "      <td>C</td>\n",
       "      <td>C</td>\n",
       "      <td>T</td>\n",
       "    </tr>\n",
       "    <tr>\n",
       "      <th>1</th>\n",
       "      <td>G</td>\n",
       "      <td>T</td>\n",
       "      <td>C</td>\n",
       "      <td>T</td>\n",
       "      <td>T</td>\n",
       "      <td>T</td>\n",
       "      <td>G</td>\n",
       "      <td>C</td>\n",
       "      <td>T</td>\n",
       "      <td>T</td>\n",
       "      <td>...</td>\n",
       "      <td>C</td>\n",
       "      <td>A</td>\n",
       "      <td>G</td>\n",
       "      <td>G</td>\n",
       "      <td>C</td>\n",
       "      <td>G</td>\n",
       "      <td>A</td>\n",
       "      <td>T</td>\n",
       "      <td>G</td>\n",
       "      <td>G</td>\n",
       "    </tr>\n",
       "    <tr>\n",
       "      <th>2</th>\n",
       "      <td>C</td>\n",
       "      <td>C</td>\n",
       "      <td>T</td>\n",
       "      <td>G</td>\n",
       "      <td>T</td>\n",
       "      <td>C</td>\n",
       "      <td>T</td>\n",
       "      <td>C</td>\n",
       "      <td>C</td>\n",
       "      <td>T</td>\n",
       "      <td>...</td>\n",
       "      <td>G</td>\n",
       "      <td>G</td>\n",
       "      <td>G</td>\n",
       "      <td>C</td>\n",
       "      <td>C</td>\n",
       "      <td>G</td>\n",
       "      <td>A</td>\n",
       "      <td>T</td>\n",
       "      <td>T</td>\n",
       "      <td>T</td>\n",
       "    </tr>\n",
       "    <tr>\n",
       "      <th>3</th>\n",
       "      <td>C</td>\n",
       "      <td>T</td>\n",
       "      <td>A</td>\n",
       "      <td>C</td>\n",
       "      <td>A</td>\n",
       "      <td>G</td>\n",
       "      <td>C</td>\n",
       "      <td>A</td>\n",
       "      <td>G</td>\n",
       "      <td>C</td>\n",
       "      <td>...</td>\n",
       "      <td>G</td>\n",
       "      <td>T</td>\n",
       "      <td>C</td>\n",
       "      <td>C</td>\n",
       "      <td>T</td>\n",
       "      <td>G</td>\n",
       "      <td>T</td>\n",
       "      <td>C</td>\n",
       "      <td>C</td>\n",
       "      <td>A</td>\n",
       "    </tr>\n",
       "    <tr>\n",
       "      <th>4</th>\n",
       "      <td>T</td>\n",
       "      <td>G</td>\n",
       "      <td>G</td>\n",
       "      <td>A</td>\n",
       "      <td>G</td>\n",
       "      <td>A</td>\n",
       "      <td>C</td>\n",
       "      <td>T</td>\n",
       "      <td>C</td>\n",
       "      <td>A</td>\n",
       "      <td>...</td>\n",
       "      <td>A</td>\n",
       "      <td>C</td>\n",
       "      <td>T</td>\n",
       "      <td>A</td>\n",
       "      <td>T</td>\n",
       "      <td>G</td>\n",
       "      <td>C</td>\n",
       "      <td>C</td>\n",
       "      <td>G</td>\n",
       "      <td>G</td>\n",
       "    </tr>\n",
       "  </tbody>\n",
       "</table>\n",
       "<p>5 rows × 60 columns</p>\n",
       "</div>"
      ],
      "text/plain": [
       "  0  1  2  3  4  5  6  7  8  9   ... 50 51 52 53 54 55 56 57 58 59\n",
       "0  G  A  T  G  T  T  A  A  C  C  ...  A  A  T  C  A  G  C  C  C  T\n",
       "1  G  T  C  T  T  T  G  C  T  T  ...  C  A  G  G  C  G  A  T  G  G\n",
       "2  C  C  T  G  T  C  T  C  C  T  ...  G  G  G  C  C  G  A  T  T  T\n",
       "3  C  T  A  C  A  G  C  A  G  C  ...  G  T  C  C  T  G  T  C  C  A\n",
       "4  T  G  G  A  G  A  C  T  C  A  ...  A  C  T  A  T  G  C  C  G  G\n",
       "\n",
       "[5 rows x 60 columns]"
      ]
     },
     "execution_count": 45,
     "metadata": {},
     "output_type": "execute_result"
    }
   ],
   "source": [
    "X_train60 = [[letra for letra in fila] for fila in X_train]\n",
    "X_test60 = [[letra for letra in fila] for fila in X_test]\n",
    "print(len(X_train60), len(X_train60[0]), len(y_train))\n",
    "print(len(X_test60), len(X_test60[0]), len(y_test))\n",
    "dfw = pd.DataFrame(X_train60)\n",
    "dfw.head()"
   ]
  },
  {
   "cell_type": "markdown",
   "metadata": {},
   "source": [
    "### Convertir las etiquetas al formato one-hot"
   ]
  },
  {
   "cell_type": "code",
   "execution_count": 46,
   "metadata": {},
   "outputs": [
    {
     "data": {
      "text/plain": [
       "((2222, 240), (953, 240))"
      ]
     },
     "execution_count": 46,
     "metadata": {},
     "output_type": "execute_result"
    }
   ],
   "source": [
    "from sklearn.preprocessing import OneHotEncoder\n",
    "enc = OneHotEncoder(handle_unknown='ignore')\n",
    "enc.fit(X_train60)\n",
    "X_train240 = enc.transform(X_train60).toarray()\n",
    "X_test240 = enc.transform(X_test60).toarray()\n",
    "X_train240.shape, X_test240.shape"
   ]
  },
  {
   "cell_type": "code",
   "execution_count": 47,
   "metadata": {},
   "outputs": [
    {
     "data": {
      "text/html": [
       "<div>\n",
       "<style scoped>\n",
       "    .dataframe tbody tr th:only-of-type {\n",
       "        vertical-align: middle;\n",
       "    }\n",
       "\n",
       "    .dataframe tbody tr th {\n",
       "        vertical-align: top;\n",
       "    }\n",
       "\n",
       "    .dataframe thead th {\n",
       "        text-align: right;\n",
       "    }\n",
       "</style>\n",
       "<table border=\"1\" class=\"dataframe\">\n",
       "  <thead>\n",
       "    <tr style=\"text-align: right;\">\n",
       "      <th></th>\n",
       "      <th>0</th>\n",
       "      <th>1</th>\n",
       "      <th>2</th>\n",
       "      <th>3</th>\n",
       "      <th>4</th>\n",
       "      <th>5</th>\n",
       "      <th>6</th>\n",
       "      <th>7</th>\n",
       "      <th>8</th>\n",
       "      <th>9</th>\n",
       "      <th>...</th>\n",
       "      <th>230</th>\n",
       "      <th>231</th>\n",
       "      <th>232</th>\n",
       "      <th>233</th>\n",
       "      <th>234</th>\n",
       "      <th>235</th>\n",
       "      <th>236</th>\n",
       "      <th>237</th>\n",
       "      <th>238</th>\n",
       "      <th>239</th>\n",
       "    </tr>\n",
       "  </thead>\n",
       "  <tbody>\n",
       "    <tr>\n",
       "      <th>0</th>\n",
       "      <td>0.0</td>\n",
       "      <td>0.0</td>\n",
       "      <td>1.0</td>\n",
       "      <td>0.0</td>\n",
       "      <td>1.0</td>\n",
       "      <td>0.0</td>\n",
       "      <td>0.0</td>\n",
       "      <td>0.0</td>\n",
       "      <td>0.0</td>\n",
       "      <td>0.0</td>\n",
       "      <td>...</td>\n",
       "      <td>0.0</td>\n",
       "      <td>0.0</td>\n",
       "      <td>0.0</td>\n",
       "      <td>1.0</td>\n",
       "      <td>0.0</td>\n",
       "      <td>0.0</td>\n",
       "      <td>0.0</td>\n",
       "      <td>0.0</td>\n",
       "      <td>0.0</td>\n",
       "      <td>1.0</td>\n",
       "    </tr>\n",
       "    <tr>\n",
       "      <th>1</th>\n",
       "      <td>0.0</td>\n",
       "      <td>0.0</td>\n",
       "      <td>1.0</td>\n",
       "      <td>0.0</td>\n",
       "      <td>0.0</td>\n",
       "      <td>0.0</td>\n",
       "      <td>0.0</td>\n",
       "      <td>1.0</td>\n",
       "      <td>0.0</td>\n",
       "      <td>1.0</td>\n",
       "      <td>...</td>\n",
       "      <td>0.0</td>\n",
       "      <td>1.0</td>\n",
       "      <td>0.0</td>\n",
       "      <td>0.0</td>\n",
       "      <td>1.0</td>\n",
       "      <td>0.0</td>\n",
       "      <td>0.0</td>\n",
       "      <td>0.0</td>\n",
       "      <td>1.0</td>\n",
       "      <td>0.0</td>\n",
       "    </tr>\n",
       "    <tr>\n",
       "      <th>2</th>\n",
       "      <td>0.0</td>\n",
       "      <td>1.0</td>\n",
       "      <td>0.0</td>\n",
       "      <td>0.0</td>\n",
       "      <td>0.0</td>\n",
       "      <td>1.0</td>\n",
       "      <td>0.0</td>\n",
       "      <td>0.0</td>\n",
       "      <td>0.0</td>\n",
       "      <td>0.0</td>\n",
       "      <td>...</td>\n",
       "      <td>0.0</td>\n",
       "      <td>1.0</td>\n",
       "      <td>0.0</td>\n",
       "      <td>0.0</td>\n",
       "      <td>0.0</td>\n",
       "      <td>1.0</td>\n",
       "      <td>0.0</td>\n",
       "      <td>0.0</td>\n",
       "      <td>0.0</td>\n",
       "      <td>1.0</td>\n",
       "    </tr>\n",
       "    <tr>\n",
       "      <th>3</th>\n",
       "      <td>0.0</td>\n",
       "      <td>1.0</td>\n",
       "      <td>0.0</td>\n",
       "      <td>0.0</td>\n",
       "      <td>0.0</td>\n",
       "      <td>0.0</td>\n",
       "      <td>0.0</td>\n",
       "      <td>1.0</td>\n",
       "      <td>1.0</td>\n",
       "      <td>0.0</td>\n",
       "      <td>...</td>\n",
       "      <td>0.0</td>\n",
       "      <td>0.0</td>\n",
       "      <td>0.0</td>\n",
       "      <td>1.0</td>\n",
       "      <td>0.0</td>\n",
       "      <td>0.0</td>\n",
       "      <td>1.0</td>\n",
       "      <td>0.0</td>\n",
       "      <td>0.0</td>\n",
       "      <td>0.0</td>\n",
       "    </tr>\n",
       "    <tr>\n",
       "      <th>4</th>\n",
       "      <td>0.0</td>\n",
       "      <td>0.0</td>\n",
       "      <td>0.0</td>\n",
       "      <td>1.0</td>\n",
       "      <td>0.0</td>\n",
       "      <td>0.0</td>\n",
       "      <td>1.0</td>\n",
       "      <td>0.0</td>\n",
       "      <td>0.0</td>\n",
       "      <td>0.0</td>\n",
       "      <td>...</td>\n",
       "      <td>0.0</td>\n",
       "      <td>0.0</td>\n",
       "      <td>0.0</td>\n",
       "      <td>0.0</td>\n",
       "      <td>1.0</td>\n",
       "      <td>0.0</td>\n",
       "      <td>0.0</td>\n",
       "      <td>0.0</td>\n",
       "      <td>1.0</td>\n",
       "      <td>0.0</td>\n",
       "    </tr>\n",
       "  </tbody>\n",
       "</table>\n",
       "<p>5 rows × 240 columns</p>\n",
       "</div>"
      ],
      "text/plain": [
       "   0    1    2    3    4    5    6    7    8    9    ...  230  231  232  233  \\\n",
       "0  0.0  0.0  1.0  0.0  1.0  0.0  0.0  0.0  0.0  0.0  ...  0.0  0.0  0.0  1.0   \n",
       "1  0.0  0.0  1.0  0.0  0.0  0.0  0.0  1.0  0.0  1.0  ...  0.0  1.0  0.0  0.0   \n",
       "2  0.0  1.0  0.0  0.0  0.0  1.0  0.0  0.0  0.0  0.0  ...  0.0  1.0  0.0  0.0   \n",
       "3  0.0  1.0  0.0  0.0  0.0  0.0  0.0  1.0  1.0  0.0  ...  0.0  0.0  0.0  1.0   \n",
       "4  0.0  0.0  0.0  1.0  0.0  0.0  1.0  0.0  0.0  0.0  ...  0.0  0.0  0.0  0.0   \n",
       "\n",
       "   234  235  236  237  238  239  \n",
       "0  0.0  0.0  0.0  0.0  0.0  1.0  \n",
       "1  1.0  0.0  0.0  0.0  1.0  0.0  \n",
       "2  0.0  1.0  0.0  0.0  0.0  1.0  \n",
       "3  0.0  0.0  1.0  0.0  0.0  0.0  \n",
       "4  1.0  0.0  0.0  0.0  1.0  0.0  \n",
       "\n",
       "[5 rows x 240 columns]"
      ]
     },
     "execution_count": 47,
     "metadata": {},
     "output_type": "execute_result"
    }
   ],
   "source": [
    "dfw = pd.DataFrame(X_train240)\n",
    "dfw.head()"
   ]
  },
  {
   "cell_type": "markdown",
   "metadata": {},
   "source": [
    "### Repetir el entrenamiento y validación"
   ]
  },
  {
   "cell_type": "code",
   "execution_count": 48,
   "metadata": {},
   "outputs": [
    {
     "name": "stdout",
     "output_type": "stream",
     "text": [
      "Exactitud - Accuracy: 0.9161\n"
     ]
    }
   ],
   "source": [
    "from sklearn.naive_bayes import GaussianNB\n",
    "from sklearn.metrics import accuracy_score\n",
    "clf_NB = GaussianNB()\n",
    "clf_NB.fit(X_train240, y_train)\n",
    "y_pred = clf_NB.predict(X_test240)\n",
    "print('Exactitud - Accuracy: %.4f' % accuracy_score(y_true=y_test, y_pred=y_pred))"
   ]
  },
  {
   "cell_type": "markdown",
   "metadata": {},
   "source": [
    "_La exactitud ha mejorado ligeramente al usar el formato one-hot!_"
   ]
  },
  {
   "cell_type": "code",
   "execution_count": null,
   "metadata": {},
   "outputs": [],
   "source": []
  }
 ],
 "metadata": {
  "celltoolbar": "Tags",
  "kernelspec": {
   "display_name": "Python 3 (ipykernel)",
   "language": "python",
   "name": "python3"
  },
  "language_info": {
   "codemirror_mode": {
    "name": "ipython",
    "version": 3
   },
   "file_extension": ".py",
   "mimetype": "text/x-python",
   "name": "python",
   "nbconvert_exporter": "python",
   "pygments_lexer": "ipython3",
   "version": "3.11.5"
  }
 },
 "nbformat": 4,
 "nbformat_minor": 4
}

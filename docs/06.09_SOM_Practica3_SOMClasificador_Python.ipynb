{
 "cells": [
  {
   "cell_type": "markdown",
   "id": "square-identifier",
   "metadata": {
    "editable": true,
    "slideshow": {
     "slide_type": ""
    },
    "tags": []
   },
   "source": [
    "# Práctica 2. Continuación\n",
    "\n",
    "## SOM como un __Clasificador__\n",
    "\n",
    "Los mapas auto-organizativos de Kohonen también se pueden utilizar como clasificadores mediante un aprendizaje supervisado que utiliza parte de los datos para entrenar la red y ajustar los pesos de cada neurona de manera que se minimize el error de salida y deja otra parte de los datos para comprobar si el entrenamiento ha sido eficaz.\n",
    "\n",
    "## Ejemplo 1. Selección de un conjunto de entrenamiento \n",
    "\n",
    "Elige de manera aleatoria un conjunto de entrenamiento que contenga un 70\\% de los datos de `som.wine` (manteniendo la primera columna que contiene la información de la bodega de origen). A partir de este conjunto, creamos el conjunto de entrenamiento y el conjunto de comprobación escalados. \n",
    "\n",
    "Para que la comparación sea adecuada, el segundo se debe escalar con referencia al conjunto de entrenamiento. A partir de éstos, creamos dos listas donde detallamos el conjunto que se va comprobar respecto a que atributo, en nuestro caso, las bodegas (`Cultivars`)\n",
    "\n",
    "Las bodegas son:\n",
    "> Cultivars grapes = (Nebbiolo, Barberas, Grignolino)"
   ]
  },
  {
   "cell_type": "code",
   "execution_count": 1,
   "id": "33448318-2002-41a4-b269-bdaab9384737",
   "metadata": {},
   "outputs": [],
   "source": [
    "#!git clone https://github.com/cgg-upm/upm-dma-som\n",
    "#!dir upm-dma-som\\som\n",
    "#!copy upm-dma-som\\som\\som.py .\\*.*\n",
    "#!copy upm-dma-som\\som\\utils.py .\\*.*"
   ]
  },
  {
   "cell_type": "code",
   "execution_count": 2,
   "id": "0958ae41-c8a8-4812-bfa1-7ac267289ac7",
   "metadata": {},
   "outputs": [],
   "source": [
    "from som import som\n",
    "from utils import somutils"
   ]
  },
  {
   "cell_type": "code",
   "execution_count": 4,
   "id": "11e1221b-1d62-43fb-8736-a451db5f7f67",
   "metadata": {},
   "outputs": [],
   "source": [
    "import numpy as np\n",
    "import pandas as pd\n",
    "from sklearn.model_selection import train_test_split\n",
    "from sklearn.preprocessing import StandardScaler\n",
    "from sklearn.metrics import ConfusionMatrixDisplay\n",
    "from sklearn.metrics import confusion_matrix"
   ]
  },
  {
   "cell_type": "code",
   "execution_count": 5,
   "id": "bbb1d88e-ad77-48a5-bce8-82c257aea514",
   "metadata": {},
   "outputs": [
    {
     "data": {
      "text/html": [
       "<div>\n",
       "<style scoped>\n",
       "    .dataframe tbody tr th:only-of-type {\n",
       "        vertical-align: middle;\n",
       "    }\n",
       "\n",
       "    .dataframe tbody tr th {\n",
       "        vertical-align: top;\n",
       "    }\n",
       "\n",
       "    .dataframe thead th {\n",
       "        text-align: right;\n",
       "    }\n",
       "</style>\n",
       "<table border=\"1\" class=\"dataframe\">\n",
       "  <thead>\n",
       "    <tr style=\"text-align: right;\">\n",
       "      <th></th>\n",
       "      <th>label</th>\n",
       "      <th>alcohol</th>\n",
       "      <th>malic acid</th>\n",
       "      <th>ash</th>\n",
       "      <th>ash alkalinity</th>\n",
       "      <th>magnesium</th>\n",
       "      <th>tot. phenols</th>\n",
       "      <th>flavanoids</th>\n",
       "      <th>non-flav. phenols</th>\n",
       "      <th>proanth</th>\n",
       "      <th>col. int.</th>\n",
       "      <th>col. hue</th>\n",
       "      <th>OD ratio</th>\n",
       "      <th>proline</th>\n",
       "    </tr>\n",
       "  </thead>\n",
       "  <tbody>\n",
       "    <tr>\n",
       "      <th>0</th>\n",
       "      <td>1</td>\n",
       "      <td>14.23</td>\n",
       "      <td>1.71</td>\n",
       "      <td>2.43</td>\n",
       "      <td>15.6</td>\n",
       "      <td>127</td>\n",
       "      <td>2.80</td>\n",
       "      <td>3.06</td>\n",
       "      <td>0.28</td>\n",
       "      <td>2.29</td>\n",
       "      <td>5.64</td>\n",
       "      <td>1.04</td>\n",
       "      <td>3.92</td>\n",
       "      <td>1065</td>\n",
       "    </tr>\n",
       "    <tr>\n",
       "      <th>1</th>\n",
       "      <td>1</td>\n",
       "      <td>13.20</td>\n",
       "      <td>1.78</td>\n",
       "      <td>2.14</td>\n",
       "      <td>11.2</td>\n",
       "      <td>100</td>\n",
       "      <td>2.65</td>\n",
       "      <td>2.76</td>\n",
       "      <td>0.26</td>\n",
       "      <td>1.28</td>\n",
       "      <td>4.38</td>\n",
       "      <td>1.05</td>\n",
       "      <td>3.40</td>\n",
       "      <td>1050</td>\n",
       "    </tr>\n",
       "    <tr>\n",
       "      <th>2</th>\n",
       "      <td>1</td>\n",
       "      <td>13.16</td>\n",
       "      <td>2.36</td>\n",
       "      <td>2.67</td>\n",
       "      <td>18.6</td>\n",
       "      <td>101</td>\n",
       "      <td>2.80</td>\n",
       "      <td>3.24</td>\n",
       "      <td>0.30</td>\n",
       "      <td>2.81</td>\n",
       "      <td>5.68</td>\n",
       "      <td>1.03</td>\n",
       "      <td>3.17</td>\n",
       "      <td>1185</td>\n",
       "    </tr>\n",
       "    <tr>\n",
       "      <th>3</th>\n",
       "      <td>1</td>\n",
       "      <td>14.37</td>\n",
       "      <td>1.95</td>\n",
       "      <td>2.50</td>\n",
       "      <td>16.8</td>\n",
       "      <td>113</td>\n",
       "      <td>3.85</td>\n",
       "      <td>3.49</td>\n",
       "      <td>0.24</td>\n",
       "      <td>2.18</td>\n",
       "      <td>7.80</td>\n",
       "      <td>0.86</td>\n",
       "      <td>3.45</td>\n",
       "      <td>1480</td>\n",
       "    </tr>\n",
       "    <tr>\n",
       "      <th>4</th>\n",
       "      <td>1</td>\n",
       "      <td>13.24</td>\n",
       "      <td>2.59</td>\n",
       "      <td>2.87</td>\n",
       "      <td>21.0</td>\n",
       "      <td>118</td>\n",
       "      <td>2.80</td>\n",
       "      <td>2.69</td>\n",
       "      <td>0.39</td>\n",
       "      <td>1.82</td>\n",
       "      <td>4.32</td>\n",
       "      <td>1.04</td>\n",
       "      <td>2.93</td>\n",
       "      <td>735</td>\n",
       "    </tr>\n",
       "  </tbody>\n",
       "</table>\n",
       "</div>"
      ],
      "text/plain": [
       "   label  alcohol  malic acid   ash  ash alkalinity  magnesium  tot. phenols  \\\n",
       "0      1    14.23        1.71  2.43            15.6        127          2.80   \n",
       "1      1    13.20        1.78  2.14            11.2        100          2.65   \n",
       "2      1    13.16        2.36  2.67            18.6        101          2.80   \n",
       "3      1    14.37        1.95  2.50            16.8        113          3.85   \n",
       "4      1    13.24        2.59  2.87            21.0        118          2.80   \n",
       "\n",
       "   flavanoids  non-flav. phenols  proanth  col. int.  col. hue  OD ratio  \\\n",
       "0        3.06               0.28     2.29       5.64      1.04      3.92   \n",
       "1        2.76               0.26     1.28       4.38      1.05      3.40   \n",
       "2        3.24               0.30     2.81       5.68      1.03      3.17   \n",
       "3        3.49               0.24     2.18       7.80      0.86      3.45   \n",
       "4        2.69               0.39     1.82       4.32      1.04      2.93   \n",
       "\n",
       "   proline  \n",
       "0     1065  \n",
       "1     1050  \n",
       "2     1185  \n",
       "3     1480  \n",
       "4      735  "
      ]
     },
     "execution_count": 5,
     "metadata": {},
     "output_type": "execute_result"
    }
   ],
   "source": [
    "# Se preparan las columnas a tratar\n",
    "df_wine = pd.read_csv('data/wine.csv', header=None)\n",
    "df_wine.columns = ['label', 'alcohol',\n",
    "    'malic acid', 'ash',\n",
    "    'ash alkalinity',\n",
    "    'magnesium', 'tot. phenols',\n",
    "    'flavanoids', 'non-flav. phenols',\n",
    "    'proanth',\n",
    "    'col. int.', 'col. hue',\n",
    "    'OD ratio'\n",
    "    ,'proline']\n",
    "# Se borra la columna de la etiqueta\n",
    "#df_wine = df_wine.drop('label', axis=1)\n",
    "df_wine.head()"
   ]
  },
  {
   "cell_type": "code",
   "execution_count": 6,
   "id": "31aac7e8-4645-4c59-8c49-92046623b0cd",
   "metadata": {},
   "outputs": [],
   "source": [
    "X, y = df_wine.values[:,1:14], df_wine.values[:,0]\n",
    "scaler = StandardScaler()\n",
    "X_std = scaler.fit_transform(X)\n",
    "X_train, X_test, y_train, y_test =train_test_split(X_std, y, test_size=0.3, random_state=1, stratify=y)"
   ]
  },
  {
   "cell_type": "code",
   "execution_count": 7,
   "id": "43d0cb5e-97b0-4ca9-85ad-c9f07dea5f12",
   "metadata": {},
   "outputs": [
    {
     "data": {
      "text/html": [
       "<div>\n",
       "<style scoped>\n",
       "    .dataframe tbody tr th:only-of-type {\n",
       "        vertical-align: middle;\n",
       "    }\n",
       "\n",
       "    .dataframe tbody tr th {\n",
       "        vertical-align: top;\n",
       "    }\n",
       "\n",
       "    .dataframe thead th {\n",
       "        text-align: right;\n",
       "    }\n",
       "</style>\n",
       "<table border=\"1\" class=\"dataframe\">\n",
       "  <thead>\n",
       "    <tr style=\"text-align: right;\">\n",
       "      <th></th>\n",
       "      <th>alcohol</th>\n",
       "      <th>malic acid</th>\n",
       "      <th>ash</th>\n",
       "      <th>ash alkalinity</th>\n",
       "      <th>magnesium</th>\n",
       "      <th>tot. phenols</th>\n",
       "      <th>flavanoids</th>\n",
       "      <th>non-flav. phenols</th>\n",
       "      <th>proanth</th>\n",
       "      <th>col. int.</th>\n",
       "      <th>col. hue</th>\n",
       "      <th>OD ratio</th>\n",
       "      <th>proline</th>\n",
       "    </tr>\n",
       "  </thead>\n",
       "  <tbody>\n",
       "    <tr>\n",
       "      <th>0</th>\n",
       "      <td>1.691550</td>\n",
       "      <td>-0.346811</td>\n",
       "      <td>0.487926</td>\n",
       "      <td>-0.809251</td>\n",
       "      <td>0.930918</td>\n",
       "      <td>2.491446</td>\n",
       "      <td>1.466525</td>\n",
       "      <td>-0.981875</td>\n",
       "      <td>1.032155</td>\n",
       "      <td>1.186068</td>\n",
       "      <td>-0.427544</td>\n",
       "      <td>1.184071</td>\n",
       "      <td>2.334574</td>\n",
       "    </tr>\n",
       "    <tr>\n",
       "      <th>1</th>\n",
       "      <td>-0.284874</td>\n",
       "      <td>0.981731</td>\n",
       "      <td>-1.412851</td>\n",
       "      <td>-1.049479</td>\n",
       "      <td>-1.386122</td>\n",
       "      <td>-1.065731</td>\n",
       "      <td>-0.782361</td>\n",
       "      <td>0.549108</td>\n",
       "      <td>-1.333159</td>\n",
       "      <td>-0.717240</td>\n",
       "      <td>-1.129518</td>\n",
       "      <td>-0.694478</td>\n",
       "      <td>-1.193845</td>\n",
       "    </tr>\n",
       "    <tr>\n",
       "      <th>2</th>\n",
       "      <td>0.209232</td>\n",
       "      <td>2.561618</td>\n",
       "      <td>-0.170035</td>\n",
       "      <td>0.752231</td>\n",
       "      <td>-0.473348</td>\n",
       "      <td>-0.889474</td>\n",
       "      <td>-1.404820</td>\n",
       "      <td>1.999513</td>\n",
       "      <td>-0.071658</td>\n",
       "      <td>1.229325</td>\n",
       "      <td>-1.568252</td>\n",
       "      <td>-1.598441</td>\n",
       "      <td>-0.069719</td>\n",
       "    </tr>\n",
       "    <tr>\n",
       "      <th>3</th>\n",
       "      <td>-0.346638</td>\n",
       "      <td>-0.526343</td>\n",
       "      <td>-0.316249</td>\n",
       "      <td>0.902373</td>\n",
       "      <td>-1.105268</td>\n",
       "      <td>-1.466313</td>\n",
       "      <td>-0.270338</td>\n",
       "      <td>0.951998</td>\n",
       "      <td>0.068508</td>\n",
       "      <td>-0.760497</td>\n",
       "      <td>-0.339797</td>\n",
       "      <td>-0.270745</td>\n",
       "      <td>-0.824444</td>\n",
       "    </tr>\n",
       "    <tr>\n",
       "      <th>4</th>\n",
       "      <td>0.196879</td>\n",
       "      <td>0.021231</td>\n",
       "      <td>1.109334</td>\n",
       "      <td>-0.268738</td>\n",
       "      <td>0.088358</td>\n",
       "      <td>0.808997</td>\n",
       "      <td>1.215533</td>\n",
       "      <td>-0.498407</td>\n",
       "      <td>2.135968</td>\n",
       "      <td>0.269020</td>\n",
       "      <td>0.318304</td>\n",
       "      <td>0.788587</td>\n",
       "      <td>1.395148</td>\n",
       "    </tr>\n",
       "  </tbody>\n",
       "</table>\n",
       "</div>"
      ],
      "text/plain": [
       "    alcohol  malic acid       ash  ash alkalinity  magnesium  tot. phenols  \\\n",
       "0  1.691550   -0.346811  0.487926       -0.809251   0.930918      2.491446   \n",
       "1 -0.284874    0.981731 -1.412851       -1.049479  -1.386122     -1.065731   \n",
       "2  0.209232    2.561618 -0.170035        0.752231  -0.473348     -0.889474   \n",
       "3 -0.346638   -0.526343 -0.316249        0.902373  -1.105268     -1.466313   \n",
       "4  0.196879    0.021231  1.109334       -0.268738   0.088358      0.808997   \n",
       "\n",
       "   flavanoids  non-flav. phenols   proanth  col. int.  col. hue  OD ratio  \\\n",
       "0    1.466525          -0.981875  1.032155   1.186068 -0.427544  1.184071   \n",
       "1   -0.782361           0.549108 -1.333159  -0.717240 -1.129518 -0.694478   \n",
       "2   -1.404820           1.999513 -0.071658   1.229325 -1.568252 -1.598441   \n",
       "3   -0.270338           0.951998  0.068508  -0.760497 -0.339797 -0.270745   \n",
       "4    1.215533          -0.498407  2.135968   0.269020  0.318304  0.788587   \n",
       "\n",
       "    proline  \n",
       "0  2.334574  \n",
       "1 -1.193845  \n",
       "2 -0.069719  \n",
       "3 -0.824444  \n",
       "4  1.395148  "
      ]
     },
     "execution_count": 7,
     "metadata": {},
     "output_type": "execute_result"
    }
   ],
   "source": [
    "df = pd.DataFrame(X_train)\n",
    "df.columns = ['alcohol',\n",
    "    'malic acid', 'ash',\n",
    "    'ash alkalinity',\n",
    "    'magnesium', 'tot. phenols',\n",
    "    'flavanoids', 'non-flav. phenols',\n",
    "    'proanth',\n",
    "    'col. int.', 'col. hue',\n",
    "    'OD ratio'\n",
    "    ,'proline']\n",
    "df.head()"
   ]
  },
  {
   "cell_type": "code",
   "execution_count": 8,
   "id": "sitting-cover",
   "metadata": {},
   "outputs": [
    {
     "data": {
      "text/html": [
       "<div>\n",
       "<style scoped>\n",
       "    .dataframe tbody tr th:only-of-type {\n",
       "        vertical-align: middle;\n",
       "    }\n",
       "\n",
       "    .dataframe tbody tr th {\n",
       "        vertical-align: top;\n",
       "    }\n",
       "\n",
       "    .dataframe thead th {\n",
       "        text-align: right;\n",
       "    }\n",
       "</style>\n",
       "<table border=\"1\" class=\"dataframe\">\n",
       "  <thead>\n",
       "    <tr style=\"text-align: right;\">\n",
       "      <th></th>\n",
       "      <th>Cultivar</th>\n",
       "    </tr>\n",
       "  </thead>\n",
       "  <tbody>\n",
       "    <tr>\n",
       "      <th>0</th>\n",
       "      <td>Nebbiolo</td>\n",
       "    </tr>\n",
       "    <tr>\n",
       "      <th>1</th>\n",
       "      <td>Barberas</td>\n",
       "    </tr>\n",
       "    <tr>\n",
       "      <th>2</th>\n",
       "      <td>Grignolino</td>\n",
       "    </tr>\n",
       "    <tr>\n",
       "      <th>3</th>\n",
       "      <td>Barberas</td>\n",
       "    </tr>\n",
       "    <tr>\n",
       "      <th>4</th>\n",
       "      <td>Nebbiolo</td>\n",
       "    </tr>\n",
       "  </tbody>\n",
       "</table>\n",
       "</div>"
      ],
      "text/plain": [
       "     Cultivar\n",
       "0    Nebbiolo\n",
       "1    Barberas\n",
       "2  Grignolino\n",
       "3    Barberas\n",
       "4    Nebbiolo"
      ]
     },
     "execution_count": 8,
     "metadata": {},
     "output_type": "execute_result"
    }
   ],
   "source": [
    "cultivares=['Nebbiolo', 'Barberas', 'Grignolino']\n",
    "y_cultivar = [ cultivares[int(lbl)-1] for lbl in y_train]\n",
    "df = pd.DataFrame(y_cultivar)\n",
    "df.columns = ['Cultivar']\n",
    "df.head()"
   ]
  },
  {
   "cell_type": "markdown",
   "id": "amended-immigration",
   "metadata": {},
   "source": [
    "## Ejercicio 1.  Clasificación del conjunto de entrenamiento y cálculo de errores\n",
    "\n",
    "Utiliza un SOM del mismo tamaño y malla que en la sección anterior y el comando `supersom` del paquete `kohonen` para obtener la clasificación del conjunto `testdata`. \n",
    "\n",
    "Halla la matriz de confusion y dertermina el error cometido en la clasificación."
   ]
  },
  {
   "cell_type": "code",
   "execution_count": 9,
   "id": "f57244e1-5d18-464f-9b07-b9c0c8fc4149",
   "metadata": {},
   "outputs": [],
   "source": [
    "nrows = 20\n",
    "ncols = 20\n",
    "smm = som(nrows=nrows,ncols=ncols)"
   ]
  },
  {
   "cell_type": "code",
   "execution_count": 10,
   "id": "f4c95e55-b827-469f-840a-f9a623d2a2cb",
   "metadata": {
    "editable": true,
    "slideshow": {
     "slide_type": ""
    },
    "tags": [
     "hide-output"
    ]
   },
   "outputs": [
    {
     "name": "stderr",
     "output_type": "stream",
     "text": [
      "100%|█████████████████████████████████████████████████████████████████████████████| 1000/1000 [00:06<00:00, 147.94it/s]\n"
     ]
    },
    {
     "data": {
      "text/plain": [
       "<__main__.som at 0x2c02dfe4d50>"
      ]
     },
     "execution_count": 10,
     "metadata": {},
     "output_type": "execute_result"
    }
   ],
   "source": [
    "smm.train_super_SOM(train_data=X_train, y_train=y_train, epochs=1000)"
   ]
  },
  {
   "cell_type": "code",
   "execution_count": 12,
   "id": "2a749524-e075-4764-8eba-0fb0ea7e9719",
   "metadata": {},
   "outputs": [
    {
     "data": {
      "text/plain": [
       "0.9838709677419355"
      ]
     },
     "execution_count": 12,
     "metadata": {},
     "output_type": "execute_result"
    }
   ],
   "source": [
    "y_pred = smm.getPredict(X_train)\n",
    "smm.score(y_pred, y_train)"
   ]
  },
  {
   "cell_type": "code",
   "execution_count": 13,
   "id": "62854cd3-081c-402b-b915-406097b4cc9e",
   "metadata": {},
   "outputs": [
    {
     "data": {
      "text/plain": [
       "0.9814814814814815"
      ]
     },
     "execution_count": 13,
     "metadata": {},
     "output_type": "execute_result"
    }
   ],
   "source": [
    "y_pred = smm.getPredict(X_test)\n",
    "smm.score(y_pred, y_test)"
   ]
  },
  {
   "cell_type": "markdown",
   "id": "0cbd5c54-6a50-44ce-9feb-ba2be1b762dc",
   "metadata": {},
   "source": [
    "### Matriz de confusión"
   ]
  },
  {
   "cell_type": "code",
   "execution_count": 14,
   "id": "364c9272-b146-43de-821e-16df17ffe88d",
   "metadata": {},
   "outputs": [
    {
     "data": {
      "image/png": "[encoded data removed]",
      "text/plain": [
       "<Figure size 640x480 with 2 Axes>"
      ]
     },
     "metadata": {},
     "output_type": "display_data"
    }
   ],
   "source": [
    "CMD = ConfusionMatrixDisplay(confusion_matrix(y_true=y_test, y_pred=y_pred), display_labels=cultivares).plot()"
   ]
  },
  {
   "cell_type": "markdown",
   "id": "5e24c905-e80a-412e-b683-afb30ac49098",
   "metadata": {},
   "source": [
    "### Mapa con las estimaciones"
   ]
  },
  {
   "cell_type": "code",
   "execution_count": 16,
   "id": "120fedb8-1093-4a7c-902a-27448ff708e0",
   "metadata": {},
   "outputs": [
    {
     "data": {
      "image/png": "[encoded data removed]",
      "text/plain": [
       "<Figure size 700x500 with 2 Axes>"
      ]
     },
     "metadata": {},
     "output_type": "display_data"
    }
   ],
   "source": [
    "somutils.plotEstimationMap(pSom=smm, figsize=(7,5))"
   ]
  },
  {
   "cell_type": "markdown",
   "id": "asian-policy",
   "metadata": {},
   "source": [
    "## Ejercicio\n",
    "\n",
    "Repite la práctica (_clustering_ y clasificación) usando:\n",
    "* subconjuntos de los datos `wine` (nota: _scatter matrix_)\n",
    "* variando los parámetros del SOM (neuronas, funciones)\n",
    "Compara los resultados obtenidos."
   ]
  },
  {
   "cell_type": "code",
   "execution_count": null,
   "id": "instrumental-jamaica",
   "metadata": {},
   "outputs": [],
   "source": []
  }
 ],
 "metadata": {
  "kernelspec": {
   "display_name": "Python 3 (ipykernel)",
   "language": "python",
   "name": "python3"
  },
  "language_info": {
   "codemirror_mode": {
    "name": "ipython",
    "version": 3
   },
   "file_extension": ".py",
   "mimetype": "text/x-python",
   "name": "python",
   "nbconvert_exporter": "python",
   "pygments_lexer": "ipython3",
   "version": "3.11.5"
  }
 },
 "nbformat": 4,
 "nbformat_minor": 5
}

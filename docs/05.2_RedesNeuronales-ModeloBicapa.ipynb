{
 "cells": [
  {
   "cell_type": "markdown",
   "metadata": {
    "editable": true,
    "slideshow": {
     "slide_type": ""
    },
    "tags": [
     "hide-cell"
    ]
   },
   "source": [
    "# Redes Neuronales - Modelo Bicapa\n"
   ]
  },
  {
   "cell_type": "code",
   "execution_count": 19,
   "metadata": {
    "editable": true,
    "slideshow": {
     "slide_type": ""
    },
    "tags": []
   },
   "outputs": [],
   "source": [
    "import pandas as pd\n",
    "from IPython import display\n",
    "import numpy as np"
   ]
  },
  {
   "cell_type": "markdown",
   "metadata": {},
   "source": [
    "## Fundamento matemático del perceptrón simple bicapa\n",
    "\n",
    "{cite:p}`rosenblatt1958perceptron` introdujo el __perceptrón simple__ formado por dos capas, una de __entrada con n neuronas__ y una de __salida con m neuronas__. {cite:p}`widrow1960adaptive` introdujeron el modelo __ADAptative LInear Neuron (Adaline)__ tambien bicapa. Los modelos bicapa tienen la siguiente forma \n",
    "\n",
    "Dada __1 observación__ $\\bar{x}=(x_1,...,x_j, ..., x_n)$ de la que se conoce su __clase__ en formato _one-hote_ $\\bar{y}=(y_1,...,y_i, ...y_m)$ \n",
    "\n",
    "Primero se efectua una __ponderación lineal__ $\\bar{z}=(z_1,...,z_i, ..., z_m)$ de la que se obtiene la __salida__ $\\bar{a}$ aplicando una __función de activación__: \n",
    "\n",
    "$$\\bar{a}=f(\\bar{z})=(a_1,...,a_i, ..., a_m)$$\n",
    "\n",
    "Se puede decir que existen $n$ __neuronas de entrada__ y $m$ __neuronas de salida__. La ponderación lineal en las neuronas de salida a partir de los pesos se calcula:\n",
    "\n",
    "$$z_i = b_i + \\displaystyle\\sum_{j=1}^n w_{ij}x_j \\quad (i=1...m)$$\n",
    "\n",
    "Hacen falta $m \\times n$ pesos y $m$ bias para definir la red, que se en forma matricialmente son:\n",
    "\n",
    "$$ W = \\begin{bmatrix}{w_{11}}&{w_{12}}&{...}&{w_{1n}}\\\\{w_{21}}&{w_{22}}&{...}&{w_{2n}}\\\\{...}&{...}&{...}&{...}\\\\{w_{m1}}&{w_{m2}}&{...}&{w_{mn}}\\end{bmatrix}  \\quad B = \\begin{bmatrix}{b_{1}}\\\\{b_{2}}\\\\{...}\\\\{b_{m}}\\end{bmatrix} $$\n",
    "\n",
    "___\n",
    "\n",
    "<img src=\"images/Neurona-2Capas.png\" width=\"800px\">\n",
    "\n",
    "___"
   ]
  },
  {
   "cell_type": "markdown",
   "metadata": {},
   "source": [
    "La configuración de la red ($W$ y $B$) minimizará una __función de coste__ $C$ para que la activación $\\bar{a}$ se ajuste a la clase real $\\bar{y}$ del conjunto de entrenamiento. Una de las funciones de coste que se utiliza es el __error cuadrático__, que para __1 observación__ se calcula:\n",
    "\n",
    "$$ C = \\frac{1}{2} \\displaystyle\\sum_{i=1}^m  (a_i - y_i )^2$$\n",
    "\n",
    "Y como se cumple que \n",
    "\n",
    "$$ a_i = f(z_i) = f\\begin{pmatrix} b_i + \\displaystyle\\sum_{j=1}^n w_{ij}x_j \\end{pmatrix} $$\n",
    "\n",
    "$$ C = \\frac{1}{2} \\displaystyle\\sum_{i=1}^m \\begin{bmatrix} f\\begin{pmatrix} b_i + \\displaystyle\\sum_{j=1}^n w_{ij}x_j \\end{pmatrix} - y_i\\end{bmatrix}^2 $$\n",
    "\n",
    "De acuerdo al __gradiente descenso__, conocidos unos valores de las componentes $w_{ij}$ y $b_i$ de la configuración de la red, su valores tienden a un mínimo local restando sus gradientes:\n",
    "\n",
    "$$ w_{ij}[t+1] = w_{ij}[t] - \\eta \\frac{\\partial C}{\\partial w_{ij}}$$\n",
    "$$ b_i[t+1] = b_i[t] - \\eta \\frac{\\partial C}{\\partial b_{i}}$$\n",
    "\n",
    "Los __gradientes__ respecto $w_{ij}$ se obtienen __derivando__ $C$ y aplicando sucesivamente la __regla de la cadena__:\n",
    "\n",
    "$$\\frac{\\partial C}{\\partial w_{ij}} = \\displaystyle\\sum_{i=1}^m \\begin{pmatrix} a_i - y_i \\end{pmatrix} \\frac{\\partial a_i}{\\partial w_{ij}} = \\displaystyle\\sum_{i=1}^m \\begin{pmatrix} a_i - y_i \\end{pmatrix} f'(z_i) \\frac{\\partial z_i}{\\partial w_{ij}} = \\displaystyle\\sum_{i=1}^m \\begin{pmatrix} a_i - y_i \\end{pmatrix} f'(z_i) x_j$$\n",
    "\n",
    "De igual forma con respecto a $b_i$\n",
    "\n",
    "$$\\frac{\\partial C}{\\partial b_i} = \\displaystyle\\sum_{i=1}^m \\begin{pmatrix} a_i - y_i \\end{pmatrix} f'(z_i)$$\n",
    "\n",
    "Se denomina __tasa de variación del error cuadrático por unidad de activación__ al valor:\n",
    "\n",
    "$$\\delta_i = \\begin{pmatrix} a_i - y_i \\end{pmatrix} f'(z_i)$$\n",
    "\n",
    "Con lo que se tiene:\n",
    "\n",
    "$$\\frac{\\partial C}{\\partial  w_{ij}} = \\displaystyle\\sum_{i=1}^m \\delta_i x_j$$\n",
    "$$\\frac{\\partial C}{\\partial b_i} = \\displaystyle\\sum_{i=1}^m \\delta_i$$\n",
    "\n"
   ]
  },
  {
   "cell_type": "markdown",
   "metadata": {},
   "source": [
    "Se puede repetir __vectorialmente el impacto que tiene en el entrenamiento de la red 1 observación__ $\\bar{x}$. \n",
    "\n",
    "Así, el resultado de la __ponderación lineal__ y su posterior __activación__ es:\n",
    "\n",
    "$$ \\bar{z} = (z_i,..., z_i, ..., z_m) $$\n",
    "$$ \\bar{a} = f(\\bar{z}) = (z_i,..., z_i, ..., z_m) $$\n",
    "\n",
    "Que permite obtener el vector $\\bar{\\delta}$\n",
    "\n",
    "$$\\bar{\\delta} = (\\delta_1,..., \\delta_i,..., \\delta_m) = ((a_1-y_1)f'(z_1) ,...,(a_i-y_i)f'(z_i),...)) = (\\bar{a}-\\bar{y}) \\odot f'(\\bar{z}) $$\n",
    "\n",
    "Donde $\\odot$ es el __producto Hadamard__ o producto componente a componente entre dos vectores.\n",
    "\n",
    "Por tanto se puede decir que:\n",
    "\n",
    "$$\\bar{\\delta} = \\frac{\\partial C}{\\partial \\bar{z}}$$\n",
    "\n",
    "\n",
    "Usando el valor calcualdo de $\\bar{\\delta}$ y el valor de la observación $\\bar{x}$ __se actualiza la matriz__ $W$ __de pesos__ de la siguiente forma:\n",
    "\n",
    "$$  W[t+1] = W[t] - \\eta \\begin{pmatrix} \\delta_1 \\\\  ... \\\\ \\delta_i \\\\ ... \\\\ \\delta_m \\end{pmatrix}  \\begin{pmatrix} x_1 &  ... & x_j & ... & x_m \\end{pmatrix}  = W[t] - \\eta (\\bar{\\delta})^T\\bar{x} $$\n",
    "\n",
    "De igual forma se obtiene:\n",
    "\n",
    "$$  B[t+1] = B[t] - \\eta (\\bar{\\delta})^T $$\n",
    "\n",
    "Siendo el gradiente de __C__ respecto de __W__ y __B__:\n",
    "\n",
    "$$\\frac{\\partial C}{\\partial W}=(\\bar{\\delta})^T\\bar{x} $$\n",
    "$$\\frac{\\partial C}{\\partial B}=(\\bar{\\delta})^T $$"
   ]
  },
  {
   "cell_type": "markdown",
   "metadata": {},
   "source": [
    "### Resolución matricial, proceso en bloque\n",
    "\n",
    "__Proceso hacia adelante o Forward__: dada una matriz ${\\large X}$ de __N__ registros que entran a la neurona y dados unos pesos y bias definidos en las matrices ${\\large W}$ y ${\\large B}$, se tendrá la siguiente salida de forma matricial:\n",
    "\n",
    "$$Z = B^T \\oplus X \\cdot W^T$$\n",
    "\n",
    "El anterior resultado se extrae facilmente considerando que el proceso forward de una observación $\\bar{x}$ se obtiene matricialmente, con los vectores $\\bar{x}$, $\\bar{z}$ en columna:\n",
    "\n",
    "$$\\bar{z}^T =B + W \\cdot \\bar{x}^T$$\n",
    "\n",
    "O en fila:\n",
    "\n",
    "$$\\bar{z} = B^T + \\bar{x} \\cdot W^T$$\n",
    "\n",
    "Si en la anterior expresión añadimos todas las observaciones en filas, pasamos del vector $\\bar{x}$  a la matriz $X$ y la salida será también una matriz $Z$ con las ponderaciones fila a fila de las $N$ observaciones. Sólo resta definir $\\oplus$ como una operación _sobrecargada_ que suma $b_i$ a cada columna de la matriz resultante del producto $X \\cdot W^T$\n",
    "\n",
    "La salida activada $A$ se obtiene aplicando la función de activación a la matriz $Z$:\n",
    "\n",
    "$$A = f (Z)$$\n",
    "\n",
    "El error neto entre los valores reales ${\\large Y}$ y los activados en el paso anterior de la neurona vendrán dados por\n",
    "\n",
    "$$A - Y$$\n",
    "\n",
    "__Matriz ${\\large \\Delta}$__: La tasa de variación del error cuadrático por unidad de entrada (o por unidad de activación):\n",
    "\n",
    "$$\\Delta = (A-Y) \\odot f ' (Z)$$\n",
    "\n",
    "En la obtención de la matriz ${\\large \\Delta}$ se utiliza el producto de Hadamard ($\\odot$).\n",
    "\n",
    "Por tanto se puede decir que:\n",
    "\n",
    "$$\\Delta = \\frac{\\partial C}{\\partial Z}$$\n",
    "\n",
    "\n",
    "__Entrenamiento__: Es posible entrenar el perceptrón en T etapas, partiendo de valores aleatorios en las matrices  $W$ y $B$ en $t=1$, de forma que estas matrices en sucesivos ${\\large t}$ adoptarán:\n",
    "\n",
    "$$W(t+1) = W(t) - \\eta  \\Delta ^T \\cdot X$$\n",
    "$$B(t+1) = B(t) - \\eta \\Delta ^T \\cdot {\\large 1}$$\n",
    "\n",
    "Siendo ${\\large 1}$ una matriz columna de $N$ __unos__ que realiza el sumatorio de las filas de $\\Delta ^T$\n",
    "\n",
    "Siendo el gradiente de __C__ respecto de __W__ y __B__:\n",
    "\n",
    "$$\\frac{\\partial C}{\\partial W}=\\Delta ^T \\cdot X $$\n",
    "$$\\frac{\\partial C}{\\partial B}=\\Delta ^T \\cdot {\\large 1} $$"
   ]
  },
  {
   "cell_type": "markdown",
   "metadata": {},
   "source": [
    "### Observaciones\n",
    "\n",
    "La matriz ${\\large X}$ tiene dimensiones __(N,n)__: $N$ filas (observaciones) de $n$ características cada una.\n",
    "\n",
    "Las matrices ${\\large Z, A, \\Delta}$ tiene dimensiones __(N,m)__, tantas filas como las observaciones del conjunto de entrenamiento y tantas columnas como neuronas de salida $m$. El número de __neuronas de salida__ coincide con el __número de clases__. \n",
    "\n",
    "Una de las funciones de activación primeras que se usaron fuero la sigmoidea o lógistica \n",
    "\n",
    "$$f(z)=\\sigma(z)=\\frac{1}{1+e^{-z}}$$\n",
    "\n",
    "El __gradiente descenso__ se basa en que el __vector gradiente__ define en el dominio de una función de varias variables $f(\\bar{x})$ la dirección de máximo incremento de la pendiente. De forma que se toma __signo negativo__ para ir hacia un mínimo local y un valor de magnitud reducida $\\eta$ que evite saltar el mínimo por un avance excesivo.\n",
    "\n",
    "Así partiendo de un valor aleatorio $\\bar{x} = \\bar{x}_0$ se busca el mínimo local a través de sucesivas iteraciones:\n",
    "\n",
    "$$\\bar{x}_{k+1} = \\bar{x}_{k} - \\eta \\nabla f(\\bar{x}_{k})$$\n",
    "\n",
    "Las matrices $\\Delta ^T \\cdot X$ y $\\Delta ^T \\cdot {\\large 1}$ son las matrices gradiente de la función $C$ con respecto a $W$ y $B$ respectivamente.\n",
    "\n",
    "\n",
    "<img src=\"images/gradiente-descenso.png\" width=\"400px\">"
   ]
  },
  {
   "cell_type": "markdown",
   "metadata": {
    "editable": true,
    "slideshow": {
     "slide_type": ""
    },
    "tags": []
   },
   "source": [
    "## Implementación con código propio del modelo Bicapa\n",
    "\n",
    "Modelo bicapa de $p$ neuronas de entrada y $m$ neuronas de salida"
   ]
  },
  {
   "cell_type": "code",
   "execution_count": 20,
   "metadata": {
    "editable": true,
    "slideshow": {
     "slide_type": ""
    },
    "tags": [
     "hide-cell"
    ]
   },
   "outputs": [],
   "source": [
    "import numpy as np\n",
    "from tqdm import tqdm\n",
    "\n",
    "def sigmoid(x):\n",
    "    return 1.0/(1.0 + np.exp(-x))\n",
    " \n",
    "def sigmoid_derivada(x):\n",
    "    return sigmoid(x)*(1.0-sigmoid(x))\n",
    "\n",
    "class BilayerANN(object): #Clase Red Neuronal Artificial BiCapa\n",
    "    def __init__(self, eta=0.01, n_iter=50, random_state=1):  # Constructor de la clase\n",
    "        self.eta = eta\n",
    "        self.n_iter = n_iter\n",
    "        self.random_state = random_state\n",
    "        \n",
    "    def fit(self, X, y):\n",
    "        assert len(X.shape)==2, \"La matriz de entrada X deben ser un array numpy de 2 dimensiones\"\n",
    "        assert len(y.shape)==1, \"La matriz de entrada y deben ser un array numpy de 1 dimension\"\n",
    "\n",
    "        ## Se obtiene la matriz self.Y en formato one-hot a partir de la entrada y\n",
    "        self.Clases_y = np.unique(y)  ## Se guardan la lista de etiquetas para la función predict()\n",
    "        self.Y = np.zeros((X.shape[0],len(self.Clases_y)))\n",
    "        for ix, lbl in enumerate(self.Clases_y):\n",
    "            self.Y[np.where(y == lbl), ix]=1\n",
    "        \n",
    "        self.nNeurInput = X.shape[1] ## El nº de neuronas de entrada se toma del nº de características de X\n",
    "        self.nNeurOutput = len(np.unique(y)) ## El nº de neuronas de salida se toma del nº de clases de y\n",
    "\n",
    "        rgen = np.random.RandomState(self.random_state) ## Se fija la semilla aleatoria\n",
    "        # Se adoptan la matriz W y B con valores aleatorios con distribución normal de media cero y desviación típica 0.01\n",
    "        self.W_ = np.asarray([rgen.normal(loc=0.0, scale=0.01,size=self.nNeurInput) for i in range(self.nNeurOutput)])\n",
    "        self.B_ = rgen.normal(loc=0.0, scale=0.01,size=self.nNeurOutput).T\n",
    "        \n",
    "        self.cost_ = []  ## Para guardar el coste al cuadrado\n",
    "\n",
    "        pasos = 20 ## Alternativa en jupyter-book a barra progreso\n",
    "        iter_paso, conta = int(self.n_iter/pasos), 0 ## Alternativa en jupyter-book a barra progreso\n",
    "        print('+'*pasos)                                   ## Alternativa en jupyter-book a barra progreso\n",
    "        #lstEpocas = tqdm([i for i in range(self.n_iter)])   ## En jupyter-book no funciona bien la barra de progreso\n",
    "        #for epoca in lstEpocas:                             ## En jupyter-book no funciona bien la barra de progreso\n",
    "        for epoca in range(self.n_iter): ## Alternativa en jupyter-book a barra progreso\n",
    "            self.Z = self.B_ + np.dot(X, self.W_.T)\n",
    "            self.A = sigmoid(self.Z)   # Activación\n",
    "            self.E = self.A - self.Y  # Error neto\n",
    "            self.Delta = self.E * sigmoid_derivada(self.Z)  \n",
    "            self.W_ -= self.eta * np.dot(self.Delta.T, X)  ## Entrenamiento de pesos\n",
    "            self.B_ -= self.eta * np.sum(self.Delta, axis=0)\n",
    "            coste = (self.E**2).sum() / 2.0   ## Coste de la epoca en curso\n",
    "            self.cost_.append(coste)          ## Se almacena la lista de costes\n",
    "            conta +=1\n",
    "            if conta == iter_paso: ## Alternativa en jupyter-book a barra progreso\n",
    "                conta=0            ## Alternativa en jupyter-book a barra progreso\n",
    "                print('*', end='') ## Alternativa en jupyter-book a barra progreso\n",
    "            #lstEpocas.set_description(\"Época: %d Coste: %.4f\" % (epoca+1, coste)) ## En jup-book no funciona barra progreso bien\n",
    "        return self\n",
    "    \n",
    "    def predict(self, X):  #Devuelve la predicción en formato clase o etiqueta\n",
    "        if len(X.shape)==1:  ## Si es una observación la convertimos en matriz\n",
    "            X = np.asarray(X) \n",
    "        Z = self.B_ + np.dot(X, self.W_.T)\n",
    "        A = sigmoid(Z)   # Activación\n",
    "        i_labels = np.argmax(A, axis=1)\n",
    "        y_pred = [self.Clases_y[i] for i in i_labels] \n",
    "        return np.asarray(y_pred)\n",
    "    \n",
    "    def predict_proba(self, X): #Devuelve la predicción en formato probabilidad\n",
    "        if len(X.shape)==1:  ## Si es una observación la convertimos en matriz\n",
    "            X = np.asarray(X) \n",
    "        Z = self.B_ + np.dot(X, self.W_.T)\n",
    "        A = sigmoid(Z)   # Activación\n",
    "        \n",
    "        return A"
   ]
  },
  {
   "cell_type": "markdown",
   "metadata": {},
   "source": [
    "## Clasificar con BilayerANN el conjunto Iris "
   ]
  },
  {
   "cell_type": "code",
   "execution_count": 21,
   "metadata": {
    "editable": true,
    "slideshow": {
     "slide_type": ""
    },
    "tags": []
   },
   "outputs": [
    {
     "data": {
      "text/html": [
       "<div>\n",
       "<style scoped>\n",
       "    .dataframe tbody tr th:only-of-type {\n",
       "        vertical-align: middle;\n",
       "    }\n",
       "\n",
       "    .dataframe tbody tr th {\n",
       "        vertical-align: top;\n",
       "    }\n",
       "\n",
       "    .dataframe thead th {\n",
       "        text-align: right;\n",
       "    }\n",
       "</style>\n",
       "<table border=\"1\" class=\"dataframe\">\n",
       "  <thead>\n",
       "    <tr style=\"text-align: right;\">\n",
       "      <th></th>\n",
       "      <th>sepal length (cm)</th>\n",
       "      <th>sepal width (cm)</th>\n",
       "      <th>petal length (cm)</th>\n",
       "      <th>petal width (cm)</th>\n",
       "      <th>target</th>\n",
       "    </tr>\n",
       "  </thead>\n",
       "  <tbody>\n",
       "    <tr>\n",
       "      <th>0</th>\n",
       "      <td>5.1</td>\n",
       "      <td>3.5</td>\n",
       "      <td>1.4</td>\n",
       "      <td>0.2</td>\n",
       "      <td>0</td>\n",
       "    </tr>\n",
       "    <tr>\n",
       "      <th>1</th>\n",
       "      <td>4.9</td>\n",
       "      <td>3.0</td>\n",
       "      <td>1.4</td>\n",
       "      <td>0.2</td>\n",
       "      <td>0</td>\n",
       "    </tr>\n",
       "    <tr>\n",
       "      <th>2</th>\n",
       "      <td>4.7</td>\n",
       "      <td>3.2</td>\n",
       "      <td>1.3</td>\n",
       "      <td>0.2</td>\n",
       "      <td>0</td>\n",
       "    </tr>\n",
       "    <tr>\n",
       "      <th>3</th>\n",
       "      <td>4.6</td>\n",
       "      <td>3.1</td>\n",
       "      <td>1.5</td>\n",
       "      <td>0.2</td>\n",
       "      <td>0</td>\n",
       "    </tr>\n",
       "    <tr>\n",
       "      <th>4</th>\n",
       "      <td>5.0</td>\n",
       "      <td>3.6</td>\n",
       "      <td>1.4</td>\n",
       "      <td>0.2</td>\n",
       "      <td>0</td>\n",
       "    </tr>\n",
       "  </tbody>\n",
       "</table>\n",
       "</div>"
      ],
      "text/plain": [
       "   sepal length (cm)  sepal width (cm)  petal length (cm)  petal width (cm)  \\\n",
       "0                5.1               3.5                1.4               0.2   \n",
       "1                4.9               3.0                1.4               0.2   \n",
       "2                4.7               3.2                1.3               0.2   \n",
       "3                4.6               3.1                1.5               0.2   \n",
       "4                5.0               3.6                1.4               0.2   \n",
       "\n",
       "   target  \n",
       "0       0  \n",
       "1       0  \n",
       "2       0  \n",
       "3       0  \n",
       "4       0  "
      ]
     },
     "execution_count": 21,
     "metadata": {},
     "output_type": "execute_result"
    }
   ],
   "source": [
    "from sklearn.datasets import load_iris\n",
    "import pandas as pd\n",
    "iris = load_iris()\n",
    "df = pd.DataFrame(iris.data, columns=iris.feature_names)\n",
    "df['target']=iris['target']\n",
    "df.head()"
   ]
  },
  {
   "cell_type": "markdown",
   "metadata": {},
   "source": [
    "### Preparación de matrices X e y. Visualización\n",
    "\n",
    "Para este ejercicio se obvia la división entre entrenamiento y validación"
   ]
  },
  {
   "cell_type": "code",
   "execution_count": 22,
   "metadata": {
    "editable": true,
    "slideshow": {
     "slide_type": ""
    },
    "tags": []
   },
   "outputs": [],
   "source": [
    "#from sklearn.model_selection import train_test_split\n",
    "X, y = df.values[:,2:4], df.values[:,4]\n",
    "#X_train, X_test, y_train, y_test =train_test_split(X, y, test_size=0.25, random_state=0, stratify=y)"
   ]
  },
  {
   "cell_type": "code",
   "execution_count": 23,
   "metadata": {
    "editable": true,
    "slideshow": {
     "slide_type": ""
    },
    "tags": []
   },
   "outputs": [
    {
     "data": {
      "image/png": "[encoded data removed]",
      "text/plain": [
       "<Figure size 560x400 with 1 Axes>"
      ]
     },
     "metadata": {},
     "output_type": "display_data"
    }
   ],
   "source": [
    "import matplotlib.pyplot as plt\n",
    "clases = iris['target_names']\n",
    "marcas = ['*', 'o', 's']\n",
    "color = ['red', 'green', 'blue']\n",
    "plt.figure(figsize=(7, 5), dpi=80)\n",
    "for i in range(len(clases)):\n",
    "    plt.scatter(X[y==i,0], X[y==i,1], c=color[i], alpha=0.5, marker=marcas[i], label=clases[i])\n",
    "plt.xlabel(\"Longitud de pétalo\")\n",
    "plt.ylabel(\"Ancho de pétalo\")\n",
    "plt.legend(loc='upper left')\n",
    "plt.show()"
   ]
  },
  {
   "cell_type": "markdown",
   "metadata": {},
   "source": [
    "### Se ejecuta el entrenamiento\n"
   ]
  },
  {
   "cell_type": "code",
   "execution_count": 24,
   "metadata": {
    "editable": true,
    "slideshow": {
     "slide_type": ""
    },
    "tags": [
     "hide-output"
    ]
   },
   "outputs": [
    {
     "name": "stdout",
     "output_type": "stream",
     "text": [
      "++++++++++++++++++++\n",
      "********************"
     ]
    },
    {
     "data": {
      "text/plain": [
       "<__main__.BilayerANN at 0x2549cd4a650>"
      ]
     },
     "execution_count": 24,
     "metadata": {},
     "output_type": "execute_result"
    }
   ],
   "source": [
    "clf = BilayerANN(eta=0.01, n_iter=2500, random_state=1)\n",
    "clf.fit(X, y)"
   ]
  },
  {
   "cell_type": "markdown",
   "metadata": {},
   "source": [
    "### Se visualiza el acierto sobre el conjunto de entrenamiento"
   ]
  },
  {
   "cell_type": "code",
   "execution_count": 25,
   "metadata": {},
   "outputs": [
    {
     "name": "stdout",
     "output_type": "stream",
     "text": [
      "Tasa de acierto en entrenamiento (accuracy) =  94.66666666666667\n"
     ]
    }
   ],
   "source": [
    "y_pred= clf.predict(X)\n",
    "print('Tasa de acierto en entrenamiento (accuracy) = ', 100*y[y_pred==y].shape[0]/y.shape[0])"
   ]
  },
  {
   "cell_type": "markdown",
   "metadata": {},
   "source": [
    "### Finalmente se visualiza la estimación realizada\n",
    "\n",
    "Se visualiza de forma independiente los separadores de clase basados en la matriz de pesos"
   ]
  },
  {
   "cell_type": "code",
   "execution_count": 26,
   "metadata": {
    "editable": true,
    "slideshow": {
     "slide_type": ""
    },
    "tags": [
     "hide-cell"
    ]
   },
   "outputs": [],
   "source": [
    "# Dado b_i + w_i1*x + w_i2*y = 0\n",
    "# y = (-1/w_i2) * (b_i + w_i1*x)\n",
    "def getOrdenadaRecta(matW, matB, iNeur, max_XY, x):\n",
    "    z_max_XY = matB[iNeur] + matW[iNeur,0]*max_XY[0] + matW[iNeur,1]*max_XY[1]\n",
    "    sentidoRecta = '+' if z_max_XY >= 0 else '-' \n",
    "    return (-1/matW[iNeur,1])*(matB[iNeur] + matW[iNeur,0]*x), sentidoRecta"
   ]
  },
  {
   "cell_type": "code",
   "execution_count": 28,
   "metadata": {},
   "outputs": [
    {
     "data": {
      "image/png": "[encoded data removed]",
      "text/plain": [
       "<Figure size 560x400 with 1 Axes>"
      ]
     },
     "metadata": {},
     "output_type": "display_data"
    }
   ],
   "source": [
    "import matplotlib.pyplot as plt\n",
    "marcas = ['*', 'o', 's']\n",
    "clases=iris['target_names']\n",
    "color = ['red', 'green', 'blue']\n",
    "plt.figure(figsize=(7, 5), dpi=80)\n",
    "lst_x = np.linspace(min(X[:,0]), max(X[:,0]), 50)\n",
    "max_XY = (max(X[:,0]), max(X[:,1]))\n",
    "for i in range(len(X)):\n",
    "    ik = int(y_pred[i])\n",
    "    ic = int(y[i])\n",
    "    plt.scatter(X[i,0], X[i,1], c=color[ik], alpha=0.5, marker=marcas[ic])\n",
    "## Se grafican las 3 rectas delimitadoras\n",
    "for iNeur in range(3):\n",
    "    lst_y, sentido = getOrdenadaRecta(clf.W_, clf.B_, iNeur, max_XY, lst_x)\n",
    "    etiqueta = \"Neur \" + str(iNeur) + \" superior positivo\" if sentido == '+' else \"Neur \" + str(iNeur) + \" superior negativo\"\n",
    "    plt.plot(lst_x, lst_y, c=color[iNeur], label=etiqueta)\n",
    "plt.xlabel(\"Longitud de pétalo\")\n",
    "plt.ylabel(\"Ancho de pétalo\")\n",
    "plt.title(\"Predicción en color. Realidad con la marca\")\n",
    "plt.legend()\n",
    "plt.show()"
   ]
  },
  {
   "cell_type": "markdown",
   "metadata": {},
   "source": [
    "Se observa que las 3 clases que son __linealmente separables__.   \n",
    "\n",
    "La recta contiene aquellas observaciones (longitud pétalo, ancho pétalo) que tienen $z=0$ en cada una de las neuronas. __La recta siempre va a delimitar a un lado los puntos positivos respecto de su ecuación en $z$ y a otro los negativos__. Pueden estar los positivos en la parte superior o inferior, como se indica en la leyenda. Esto depende de la ecuación del plano en 3D.\n",
    "\n",
    "Por ejemplo la ecuación $z = x + y$ tiene como recta frontera $y=-x$, También $z = -x - y$ tiene la misma recta frontera al cortar con $z=0$. En 3D ambos son planos que cortan la misma recta pero su posición en el espacio es distinta. Eso hace que la primera tenga los puntos superiores positivos y la otra negativos."
   ]
  },
  {
   "cell_type": "markdown",
   "metadata": {},
   "source": [
    "### Visualización de algunas de las matrices del modelo\n",
    "\n",
    "La matriz __X__ con los __datos de entrada__, la matriz __Z__ con la __ponderación lineal__, la matriz __A__ con la __activación final__, la matriz __Y__ con las __clases reales 'one-hote'__ .\n",
    "\n",
    "Finalmente se incluye la matriz $\\Delta$ calculada en la capa de salida y la matriz __y__ con las __clases reales en etiqueta__."
   ]
  },
  {
   "cell_type": "code",
   "execution_count": 30,
   "metadata": {},
   "outputs": [
    {
     "data": {
      "text/plain": [
       "((150, 2), (150, 3), (150, 3), (150, 3), (150,), (150, 3))"
      ]
     },
     "execution_count": 30,
     "metadata": {},
     "output_type": "execute_result"
    }
   ],
   "source": [
    "X.shape, clf.Z.shape, clf.A.shape, clf.Y.shape, y.shape, clf.Delta.shape"
   ]
  },
  {
   "cell_type": "code",
   "execution_count": 31,
   "metadata": {},
   "outputs": [
    {
     "data": {
      "text/html": [
       "<div>\n",
       "<style scoped>\n",
       "    .dataframe tbody tr th:only-of-type {\n",
       "        vertical-align: middle;\n",
       "    }\n",
       "\n",
       "    .dataframe tbody tr th {\n",
       "        vertical-align: top;\n",
       "    }\n",
       "\n",
       "    .dataframe thead tr th {\n",
       "        text-align: left;\n",
       "    }\n",
       "</style>\n",
       "<table border=\"1\" class=\"dataframe\">\n",
       "  <thead>\n",
       "    <tr>\n",
       "      <th></th>\n",
       "      <th colspan=\"2\" halign=\"left\">Entrada</th>\n",
       "      <th colspan=\"3\" halign=\"left\">Ponderación</th>\n",
       "      <th colspan=\"3\" halign=\"left\">Activación</th>\n",
       "      <th colspan=\"3\" halign=\"left\">Salida</th>\n",
       "      <th colspan=\"3\" halign=\"left\">Deltas</th>\n",
       "      <th>target</th>\n",
       "    </tr>\n",
       "    <tr>\n",
       "      <th></th>\n",
       "      <th>x1</th>\n",
       "      <th>x2</th>\n",
       "      <th>z1</th>\n",
       "      <th>z2</th>\n",
       "      <th>z3</th>\n",
       "      <th>a1</th>\n",
       "      <th>a2</th>\n",
       "      <th>a3</th>\n",
       "      <th>y1</th>\n",
       "      <th>y2</th>\n",
       "      <th>y3</th>\n",
       "      <th>d1</th>\n",
       "      <th>d2</th>\n",
       "      <th>d3</th>\n",
       "      <th></th>\n",
       "    </tr>\n",
       "  </thead>\n",
       "  <tbody>\n",
       "    <tr>\n",
       "      <th>0</th>\n",
       "      <td>1.4</td>\n",
       "      <td>0.2</td>\n",
       "      <td>3.485093</td>\n",
       "      <td>-1.142502</td>\n",
       "      <td>-8.976979</td>\n",
       "      <td>0.970261</td>\n",
       "      <td>0.241861</td>\n",
       "      <td>0.000126</td>\n",
       "      <td>1.0</td>\n",
       "      <td>0.0</td>\n",
       "      <td>0.0</td>\n",
       "      <td>-0.000858</td>\n",
       "      <td>0.044349</td>\n",
       "      <td>1.594154e-08</td>\n",
       "      <td>0</td>\n",
       "    </tr>\n",
       "    <tr>\n",
       "      <th>1</th>\n",
       "      <td>1.4</td>\n",
       "      <td>0.2</td>\n",
       "      <td>3.485093</td>\n",
       "      <td>-1.142502</td>\n",
       "      <td>-8.976979</td>\n",
       "      <td>0.970261</td>\n",
       "      <td>0.241861</td>\n",
       "      <td>0.000126</td>\n",
       "      <td>1.0</td>\n",
       "      <td>0.0</td>\n",
       "      <td>0.0</td>\n",
       "      <td>-0.000858</td>\n",
       "      <td>0.044349</td>\n",
       "      <td>1.594154e-08</td>\n",
       "      <td>0</td>\n",
       "    </tr>\n",
       "    <tr>\n",
       "      <th>2</th>\n",
       "      <td>1.3</td>\n",
       "      <td>0.2</td>\n",
       "      <td>3.665379</td>\n",
       "      <td>-1.310971</td>\n",
       "      <td>-9.048611</td>\n",
       "      <td>0.975044</td>\n",
       "      <td>0.212324</td>\n",
       "      <td>0.000118</td>\n",
       "      <td>1.0</td>\n",
       "      <td>0.0</td>\n",
       "      <td>0.0</td>\n",
       "      <td>-0.000607</td>\n",
       "      <td>0.035510</td>\n",
       "      <td>1.381412e-08</td>\n",
       "      <td>0</td>\n",
       "    </tr>\n",
       "    <tr>\n",
       "      <th>3</th>\n",
       "      <td>1.5</td>\n",
       "      <td>0.2</td>\n",
       "      <td>3.304807</td>\n",
       "      <td>-0.974034</td>\n",
       "      <td>-8.905347</td>\n",
       "      <td>0.964593</td>\n",
       "      <td>0.274077</td>\n",
       "      <td>0.000136</td>\n",
       "      <td>1.0</td>\n",
       "      <td>0.0</td>\n",
       "      <td>0.0</td>\n",
       "      <td>-0.001209</td>\n",
       "      <td>0.054530</td>\n",
       "      <td>1.839656e-08</td>\n",
       "      <td>0</td>\n",
       "    </tr>\n",
       "    <tr>\n",
       "      <th>4</th>\n",
       "      <td>1.4</td>\n",
       "      <td>0.2</td>\n",
       "      <td>3.485093</td>\n",
       "      <td>-1.142502</td>\n",
       "      <td>-8.976979</td>\n",
       "      <td>0.970261</td>\n",
       "      <td>0.241861</td>\n",
       "      <td>0.000126</td>\n",
       "      <td>1.0</td>\n",
       "      <td>0.0</td>\n",
       "      <td>0.0</td>\n",
       "      <td>-0.000858</td>\n",
       "      <td>0.044349</td>\n",
       "      <td>1.594154e-08</td>\n",
       "      <td>0</td>\n",
       "    </tr>\n",
       "  </tbody>\n",
       "</table>\n",
       "</div>"
      ],
      "text/plain": [
       "  Entrada      Ponderación                     Activación                      \\\n",
       "       x1   x2          z1        z2        z3         a1        a2        a3   \n",
       "0     1.4  0.2    3.485093 -1.142502 -8.976979   0.970261  0.241861  0.000126   \n",
       "1     1.4  0.2    3.485093 -1.142502 -8.976979   0.970261  0.241861  0.000126   \n",
       "2     1.3  0.2    3.665379 -1.310971 -9.048611   0.975044  0.212324  0.000118   \n",
       "3     1.5  0.2    3.304807 -0.974034 -8.905347   0.964593  0.274077  0.000136   \n",
       "4     1.4  0.2    3.485093 -1.142502 -8.976979   0.970261  0.241861  0.000126   \n",
       "\n",
       "  Salida              Deltas                         target  \n",
       "      y1   y2   y3        d1        d2            d3         \n",
       "0    1.0  0.0  0.0 -0.000858  0.044349  1.594154e-08      0  \n",
       "1    1.0  0.0  0.0 -0.000858  0.044349  1.594154e-08      0  \n",
       "2    1.0  0.0  0.0 -0.000607  0.035510  1.381412e-08      0  \n",
       "3    1.0  0.0  0.0 -0.001209  0.054530  1.839656e-08      0  \n",
       "4    1.0  0.0  0.0 -0.000858  0.044349  1.594154e-08      0  "
      ]
     },
     "execution_count": 31,
     "metadata": {},
     "output_type": "execute_result"
    }
   ],
   "source": [
    "cabe = [('Entrada','x1'),('Entrada','x2'),('Ponderación','z1'),('Ponderación','z2'),('Ponderación','z3'),\n",
    "        ('Activación','a1'),('Activación','a2'),('Activación','a3'),('Salida','y1'),('Salida','y2'),('Salida','y3'),\n",
    "        ('Deltas','d1'),('Deltas','d2'),('Deltas','d3')]\n",
    "cabe_list = pd.MultiIndex.from_tuples(cabe)\n",
    "df = pd.DataFrame(np.concatenate((X, clf.Z, clf.A, clf.Y, clf.Delta), axis=1), columns=cabe_list)\n",
    "df['target']=iris['target']\n",
    "df.head()"
   ]
  },
  {
   "cell_type": "markdown",
   "metadata": {},
   "source": [
    "La matriz __W__ tiene tantas __filas__ como __neuronas de salida__ y tantas __columnas__ como __neuronas de entrada__.\n",
    "La matriz __B__ tiene tantas __filas__ como __neuronas de salida__.\n"
   ]
  },
  {
   "cell_type": "code",
   "execution_count": 32,
   "metadata": {},
   "outputs": [
    {
     "data": {
      "text/plain": [
       "((3, 2), (3,), (3,))"
      ]
     },
     "execution_count": 32,
     "metadata": {},
     "output_type": "execute_result"
    }
   ],
   "source": [
    "clf.W_.shape, clf.B_.shape, np.unique(y).shape"
   ]
  },
  {
   "cell_type": "markdown",
   "metadata": {},
   "source": [
    "Para __actualizar__ en el entrenamiento las matrices __W__ y __B__ se utiliza las matrices de gradiente $\\frac{\\partial C}{\\partial W}=\\Delta^TX$ y $\\frac{\\partial C}{\\partial B}=\\Delta^T1$ que son respectivamente de igual dimensión, y a las que también se puede echar un vistazo antes de multiplicar por $\\eta$"
   ]
  },
  {
   "cell_type": "code",
   "execution_count": 33,
   "metadata": {},
   "outputs": [
    {
     "data": {
      "text/plain": [
       "((3, 2), (3,))"
      ]
     },
     "execution_count": 33,
     "metadata": {},
     "output_type": "execute_result"
    }
   ],
   "source": [
    "np.dot(clf.Delta.T, X).shape, np.sum(clf.Delta, axis=0).shape"
   ]
  },
  {
   "cell_type": "code",
   "execution_count": 34,
   "metadata": {},
   "outputs": [
    {
     "data": {
      "text/html": [
       "<div>\n",
       "<style scoped>\n",
       "    .dataframe tbody tr th:only-of-type {\n",
       "        vertical-align: middle;\n",
       "    }\n",
       "\n",
       "    .dataframe tbody tr th {\n",
       "        vertical-align: top;\n",
       "    }\n",
       "\n",
       "    .dataframe thead tr th {\n",
       "        text-align: left;\n",
       "    }\n",
       "</style>\n",
       "<table border=\"1\" class=\"dataframe\">\n",
       "  <thead>\n",
       "    <tr>\n",
       "      <th></th>\n",
       "      <th colspan=\"2\" halign=\"left\">Pesos</th>\n",
       "      <th>Bias</th>\n",
       "      <th colspan=\"2\" halign=\"left\">Gradiente Peso</th>\n",
       "      <th>Gradiente Bias</th>\n",
       "    </tr>\n",
       "    <tr>\n",
       "      <th></th>\n",
       "      <th>w1</th>\n",
       "      <th>w2</th>\n",
       "      <th>b</th>\n",
       "      <th>w1</th>\n",
       "      <th>w2</th>\n",
       "      <th>b</th>\n",
       "    </tr>\n",
       "  </thead>\n",
       "  <tbody>\n",
       "    <tr>\n",
       "      <th>0</th>\n",
       "      <td>-1.803011</td>\n",
       "      <td>-2.760559</td>\n",
       "      <td>6.561685</td>\n",
       "      <td>0.014828</td>\n",
       "      <td>0.020695</td>\n",
       "      <td>-0.051395</td>\n",
       "    </tr>\n",
       "    <tr>\n",
       "      <th>1</th>\n",
       "      <td>1.684835</td>\n",
       "      <td>-3.416968</td>\n",
       "      <td>-2.817909</td>\n",
       "      <td>-0.015193</td>\n",
       "      <td>0.031588</td>\n",
       "      <td>0.018038</td>\n",
       "    </tr>\n",
       "    <tr>\n",
       "      <th>2</th>\n",
       "      <td>0.716574</td>\n",
       "      <td>4.494675</td>\n",
       "      <td>-10.880400</td>\n",
       "      <td>-0.025633</td>\n",
       "      <td>-0.026701</td>\n",
       "      <td>0.169377</td>\n",
       "    </tr>\n",
       "  </tbody>\n",
       "</table>\n",
       "</div>"
      ],
      "text/plain": [
       "      Pesos                 Bias Gradiente Peso           Gradiente Bias\n",
       "         w1        w2          b             w1        w2              b\n",
       "0 -1.803011 -2.760559   6.561685       0.014828  0.020695      -0.051395\n",
       "1  1.684835 -3.416968  -2.817909      -0.015193  0.031588       0.018038\n",
       "2  0.716574  4.494675 -10.880400      -0.025633 -0.026701       0.169377"
      ]
     },
     "execution_count": 34,
     "metadata": {},
     "output_type": "execute_result"
    }
   ],
   "source": [
    "cabe = [('Pesos','w1'),(\"Pesos\",'w2'),(\"Bias\",'b'),('Gradiente Peso','w1'),('Gradiente Peso','w2'),('Gradiente Bias','b')]\n",
    "cabe_list = pd.MultiIndex.from_tuples(cabe)\n",
    "GB = np.sum(clf.Delta, axis=0)[:,np.newaxis]\n",
    "_B = clf.B_[:,np.newaxis]\n",
    "\n",
    "df = pd.DataFrame(np.concatenate((clf.W_, _B, np.dot(clf.Delta.T, X), GB), axis=1), columns=cabe_list)\n",
    "#df.head()\n",
    "df"
   ]
  },
  {
   "cell_type": "markdown",
   "metadata": {},
   "source": [
    "## Finalmente se hace una ejecución con todas las características disponibles en Iris\n",
    "\n",
    "La dimensión de las variables de entrada será 4 en lugar de 2"
   ]
  },
  {
   "cell_type": "code",
   "execution_count": 35,
   "metadata": {},
   "outputs": [
    {
     "data": {
      "text/plain": [
       "(150, 4)"
      ]
     },
     "execution_count": 35,
     "metadata": {},
     "output_type": "execute_result"
    }
   ],
   "source": [
    "from sklearn.datasets import load_iris\n",
    "import pandas as pd\n",
    "iris = load_iris()\n",
    "df = pd.DataFrame(iris.data, columns=iris.feature_names)\n",
    "df['target']=iris['target']\n",
    "X, y = df.values[:,0:4], df.values[:,4]\n",
    "X.shape"
   ]
  },
  {
   "cell_type": "code",
   "execution_count": 36,
   "metadata": {
    "editable": true,
    "slideshow": {
     "slide_type": ""
    },
    "tags": [
     "hide-output"
    ]
   },
   "outputs": [
    {
     "name": "stdout",
     "output_type": "stream",
     "text": [
      "++++++++++++++++++++\n",
      "********************"
     ]
    },
    {
     "data": {
      "text/plain": [
       "<__main__.BilayerANN at 0x2549d0571d0>"
      ]
     },
     "execution_count": 36,
     "metadata": {},
     "output_type": "execute_result"
    }
   ],
   "source": [
    "clf2 = BilayerANN(eta=0.01, n_iter=2500, random_state=1)\n",
    "clf2.fit(X, y)"
   ]
  },
  {
   "cell_type": "code",
   "execution_count": 37,
   "metadata": {},
   "outputs": [
    {
     "name": "stdout",
     "output_type": "stream",
     "text": [
      "Tasa de acierto en entrenamiento (accuracy) =  95.33333333333333\n"
     ]
    }
   ],
   "source": [
    "y_pred= clf2.predict(X)\n",
    "print('Tasa de acierto en entrenamiento (accuracy) = ', 100*y[y_pred==y].shape[0]/y.shape[0])"
   ]
  },
  {
   "cell_type": "code",
   "execution_count": 38,
   "metadata": {
    "editable": true,
    "slideshow": {
     "slide_type": ""
    },
    "tags": [
     "hide-input"
    ]
   },
   "outputs": [
    {
     "data": {
      "image/png": "[encoded data removed]",
      "text/plain": [
       "<Figure size 560x400 with 1 Axes>"
      ]
     },
     "metadata": {},
     "output_type": "display_data"
    }
   ],
   "source": [
    "import matplotlib.pyplot as plt\n",
    "marcas = ['*', 'o', 's']\n",
    "clases=iris['target_names']\n",
    "color = ['red', 'green', 'blue']\n",
    "plt.figure(figsize=(7, 5), dpi=80)\n",
    "for i in range(len(X)):\n",
    "    ik = int(y_pred[i])\n",
    "    ic = int(y[i])\n",
    "    plt.scatter(X[i,2], X[i,3], c=color[ik], alpha=0.5, marker=marcas[ic])\n",
    "plt.xlabel(\"Longitud de pétalo\")\n",
    "plt.ylabel(\"Ancho de pétalo\")\n",
    "plt.title(\"Predicción en color. Realidad con la marca\")\n",
    "plt.show()"
   ]
  },
  {
   "cell_type": "markdown",
   "metadata": {},
   "source": [
    "## Funciones de activación\n",
    "\n",
    "Echemos un vistazo a las funciones de activación más importantes"
   ]
  },
  {
   "cell_type": "code",
   "execution_count": 39,
   "metadata": {
    "editable": true,
    "slideshow": {
     "slide_type": ""
    },
    "tags": [
     "hide-cell"
    ]
   },
   "outputs": [],
   "source": [
    "def sigmoid(x):\n",
    "    #return 1.0/(1.0 + np.exp(-x))  ## versión básica con problemas de desbordamiento en valores x<<<0\n",
    "    #return np.where(x < 0, np.exp(x)/(1.0 + np.exp(x)), 1.0/(1.0 + np.exp(-x)))\n",
    "    #return 1. / (1. + np.exp(-np.clip(x, -250, 250)))\n",
    "    from scipy.special import expit\n",
    "    return expit(x)  ##Función sigmoidea de scipy; algo más lenta\n",
    " \n",
    "def sigmoid_derivada(x):\n",
    "    return sigmoid(x)*(1.0-sigmoid(x))\n",
    " \n",
    "def tanh(x):\n",
    "    return np.tanh(x)\n",
    " \n",
    "def tanh_derivada(x):\n",
    "    return 1.0 - np.tanh(x)**2\n",
    "\n",
    "def ReLU(x):\n",
    "    return np.maximum(0, x)\n",
    "\n",
    "def ReLU_derivada(x):\n",
    "    return np.where(x <= 0, 0, 1)"
   ]
  },
  {
   "cell_type": "code",
   "execution_count": 40,
   "metadata": {
    "editable": true,
    "slideshow": {
     "slide_type": ""
    },
    "tags": [
     "hide-input"
    ]
   },
   "outputs": [
    {
     "data": {
      "image/png": "[encoded data removed]",
      "text/plain": [
       "<Figure size 1500x1200 with 6 Axes>"
      ]
     },
     "metadata": {},
     "output_type": "display_data"
    }
   ],
   "source": [
    "fig, axs = plt.subplots(3, 2, figsize=(15, 12))\n",
    "x = np.linspace(-20, 20, 100)\n",
    "axs[0][0].plot(x, sigmoid(x))\n",
    "axs[0][0].set_title(\"sigmoidea\")\n",
    "axs[0][1].plot(x, sigmoid_derivada(x), 'tab:orange')\n",
    "axs[0][1].set_title(\"sigmoidea derivada\")\n",
    "axs[1][0].plot(x, tanh(x), 'tab:green')\n",
    "axs[1][0].set_title(\"tangente hiperbólica\")\n",
    "axs[1][1].plot(x, tanh_derivada(x), 'tab:red')\n",
    "axs[1][1].set_title(\"tangente hiperbólica derivada\")\n",
    "axs[2][0].plot(x, ReLU(x))\n",
    "axs[2][0].set_title(\"ReLU\")\n",
    "axs[2][1].plot(x, ReLU_derivada(x), 'tab:orange')\n",
    "axs[2][1].set_title(\"ReLU derivada\")\n",
    "\n",
    "for ax in fig.get_axes():\n",
    "    ax.label_outer()"
   ]
  },
  {
   "cell_type": "markdown",
   "metadata": {},
   "source": [
    "__La función sigmoidea o logística__:\n",
    "\n",
    "- Satura y anula el gradiente.\n",
    "- Lenta convergencia.\n",
    "- No esta centrada en el cero.\n",
    "- Esta acotada entre 0 y 1.\n",
    "- Buen rendimiento en la última capa.\n",
    "\n",
    "__La función tangente hiperbólica__ es muy similar a la sigmoidea:\n",
    "\n",
    "- Satura y anula el gradiente.\n",
    "- Lenta convergencia.\n",
    "- Centrada en 0.\n",
    "- Esta acotada entre -1 y 1.\n",
    "- Se utiliza para clasificaciones binarias.\n",
    "- Buen desempeño en redes recurrentes (que se utilizan para analizar series temporales).\n",
    "\n",
    "__La función ReLU (Rectified Lineal Unit)__:\n",
    "\n",
    "- Solo se activa si son positivos.\n",
    "- No está acotada.\n",
    "- Puede anular demasiadas neuronas.\n",
    "- Se comporta bien con imágenes.\n",
    "- Buen desempeño en redes convolucionales\n",
    "\n",
    "Otra función de activación muy utilizada es __Softmax__ que transforma las salidas a una representación __en forma de probabilidades__, de tal manera que el sumatorio de todas las probabilidades de las salidas de 1. Se utiliza para para __normalizar tipos multiclase__."
   ]
  },
  {
   "cell_type": "markdown",
   "metadata": {},
   "source": [
    "## Implementación del modelo bicapa en sk-learn\n",
    "\n",
    "El modelo bicapa se encuentra implementado en la clase __sklearn.linear_model.Perceptron__. \n",
    "\n",
    "El __constructor__ de la clase, por ejemplo, los siguientes __parámetros__:\n",
    "\n",
    "- __penalty__ {‘l2’,’l1’,’elasticnet’}, (por defecto=None). Son los coeficientes de regularización __Lasso (L1)__ o $\\lambda|w|$, __Ridge (L2) o $\\lambda w^2$__ y __Elastic Net__ (L1 + L2). Es una manera de evitar el sobreajuste (overfitting) penalizando los altos valores de los coeficientes de regresión.\n",
    "- __alpha__ : ratio de aprendizaje (por defecto 0.0001).\n",
    "- __fit_intercept__ : (por defecto=True). Indica si se debe calcular el bias o ha de ser cero (datos centrados).\n",
    "- __max_iter__ : (por defecto=1000). Número de épocas.\n",
    "- __random_state__: (por defecto=None). Semilla random.\n",
    "- __tol__: (por defecto 1e-3). Criterio de parada. Si no es None termina cuando __coste - coste_previo < tol__.\n",
    "\n",
    "Algunos de las __propiedades__ que se pueden consultar una vez creado el objeto con el constructor y realizado el ajuste son:\n",
    "\n",
    "- <b>coef_</b>, <b>intercept_</b>: pesos y bias.\n",
    "\n",
    "Y los __métodos__ más importantes son:\n",
    "\n",
    "- <b>fit</b>(X, y) : realiza el ajuste.\n",
    "- <b>predict</b>(X): realiza la predicción\n",
    "- <b>score</b>(X, y) : devuelve la exactitud o accuracy.\n"
   ]
  },
  {
   "cell_type": "code",
   "execution_count": 41,
   "metadata": {
    "editable": true,
    "slideshow": {
     "slide_type": ""
    },
    "tags": []
   },
   "outputs": [],
   "source": [
    "from sklearn.datasets import load_iris\n",
    "import pandas as pd\n",
    "iris = load_iris()\n",
    "df = pd.DataFrame(iris.data, columns=iris.feature_names)\n",
    "df['target']=iris['target']\n",
    "X, y = df.values[:,0:4], df.values[:,4]"
   ]
  },
  {
   "cell_type": "code",
   "execution_count": 42,
   "metadata": {
    "editable": true,
    "slideshow": {
     "slide_type": ""
    },
    "tags": []
   },
   "outputs": [
    {
     "name": "stdout",
     "output_type": "stream",
     "text": [
      "Tasa de acierto en entrenamiento (accuracy) =  94.66666666666667\n"
     ]
    }
   ],
   "source": [
    "from sklearn.linear_model import Perceptron\n",
    "clf = Perceptron(tol=None, max_iter=300, alpha=0.01, random_state=1)\n",
    "clf.fit(X,y)\n",
    "print('Tasa de acierto en entrenamiento (accuracy) = ', 100*clf.score(X,y))"
   ]
  },
  {
   "cell_type": "code",
   "execution_count": null,
   "metadata": {},
   "outputs": [],
   "source": []
  }
 ],
 "metadata": {
  "kernelspec": {
   "display_name": "Python 3 (ipykernel)",
   "language": "python",
   "name": "python3"
  },
  "language_info": {
   "codemirror_mode": {
    "name": "ipython",
    "version": 3
   },
   "file_extension": ".py",
   "mimetype": "text/x-python",
   "name": "python",
   "nbconvert_exporter": "python",
   "pygments_lexer": "ipython3",
   "version": "3.11.5"
  }
 },
 "nbformat": 4,
 "nbformat_minor": 4
}
